{
 "cells": [
  {
   "cell_type": "markdown",
   "metadata": {},
   "source": [
    "# IMPORTS"
   ]
  },
  {
   "cell_type": "code",
   "execution_count": 1,
   "metadata": {},
   "outputs": [],
   "source": [
    "import re\n",
    "import nltk\n",
    "import requests\n",
    "import numpy as np\n",
    "import pandas as pd\n",
    "import matplotlib.pyplot as plt"
   ]
  },
  {
   "cell_type": "code",
   "execution_count": 2,
   "metadata": {},
   "outputs": [],
   "source": [
    "from bs4 import BeautifulSoup"
   ]
  },
  {
   "cell_type": "code",
   "execution_count": 3,
   "metadata": {},
   "outputs": [],
   "source": [
    "%matplotlib inline"
   ]
  },
  {
   "cell_type": "markdown",
   "metadata": {},
   "source": [
    "# Exercise 1"
   ]
  },
  {
   "cell_type": "markdown",
   "metadata": {},
   "source": [
    "Search the Web for “spoof newspaper headlines,” to find such gems as: British\n",
    "Left Waffles on Falkland Islands, and Juvenile Court to Try Shooting Defendant.\n",
    "Manually tag these headlines to see whether knowledge of the part-of-speech tags\n",
    "removes the ambiguity."
   ]
  },
  {
   "cell_type": "code",
   "execution_count": 6,
   "metadata": {},
   "outputs": [
    {
     "data": {
      "text/plain": [
       "[('British', 'JJ'),\n",
       " ('Left', 'NNP'),\n",
       " ('Waffles', 'NNP'),\n",
       " ('on', 'IN'),\n",
       " ('Falkland', 'NNP'),\n",
       " ('Islands', 'NNP')]"
      ]
     },
     "execution_count": 6,
     "metadata": {},
     "output_type": "execute_result"
    }
   ],
   "source": [
    "headline1 = nltk.word_tokenize('British Left Waffles on Falkland Islands')\n",
    "nltk.pos_tag(headline1)"
   ]
  },
  {
   "cell_type": "code",
   "execution_count": 7,
   "metadata": {},
   "outputs": [
    {
     "data": {
      "text/plain": [
       "[('Juvenile', 'NNP'),\n",
       " ('Court', 'NNP'),\n",
       " ('to', 'TO'),\n",
       " ('Try', 'VB'),\n",
       " ('Shooting', 'NNP'),\n",
       " ('Defendant', 'NNP')]"
      ]
     },
     "execution_count": 7,
     "metadata": {},
     "output_type": "execute_result"
    }
   ],
   "source": [
    "headline2 = nltk.word_tokenize('Juvenile Court to Try Shooting Defendant')\n",
    "nltk.pos_tag(headline2)"
   ]
  },
  {
   "cell_type": "markdown",
   "metadata": {},
   "source": [
    "# Exercise 2"
   ]
  },
  {
   "cell_type": "markdown",
   "metadata": {},
   "source": [
    "Working with someone else, take turns picking a word that can be either a noun\n",
    "or a verb (e.g., contest); the opponent has to predict which one is likely to be the\n",
    "most frequent in the Brown Corpus. Check the opponent’s prediction, and tally\n",
    "the score over several turns."
   ]
  },
  {
   "cell_type": "code",
   "execution_count": 13,
   "metadata": {},
   "outputs": [],
   "source": [
    "from nltk.corpus import brown\n",
    "from nltk.probability import ConditionalFreqDist"
   ]
  },
  {
   "cell_type": "code",
   "execution_count": 14,
   "metadata": {},
   "outputs": [],
   "source": [
    "cfd = ConditionalFreqDist(\n",
    "    (word.lower(), tag) \n",
    "    for (word, tag) in brown.tagged_words(tagset='universal')\n",
    ")"
   ]
  },
  {
   "cell_type": "code",
   "execution_count": 18,
   "metadata": {},
   "outputs": [
    {
     "data": {
      "text/plain": [
       "'NOUN'"
      ]
     },
     "execution_count": 18,
     "metadata": {},
     "output_type": "execute_result"
    }
   ],
   "source": [
    "cfd['contest'].max()"
   ]
  },
  {
   "cell_type": "code",
   "execution_count": 19,
   "metadata": {},
   "outputs": [
    {
     "data": {
      "text/plain": [
       "'NOUN'"
      ]
     },
     "execution_count": 19,
     "metadata": {},
     "output_type": "execute_result"
    }
   ],
   "source": [
    "cfd['test'].max()"
   ]
  },
  {
   "cell_type": "code",
   "execution_count": 22,
   "metadata": {},
   "outputs": [
    {
     "data": {
      "text/plain": [
       "'NOUN'"
      ]
     },
     "execution_count": 22,
     "metadata": {},
     "output_type": "execute_result"
    }
   ],
   "source": [
    "cfd['work'].max()"
   ]
  },
  {
   "cell_type": "markdown",
   "metadata": {},
   "source": [
    "# Exercise 3"
   ]
  },
  {
   "cell_type": "markdown",
   "metadata": {},
   "source": [
    "Tokenize and tag the following sentence: They wind back the clock, while we\n",
    "chase after the wind. What different pronunciations and parts-of-speech are\n",
    "involved?"
   ]
  },
  {
   "cell_type": "code",
   "execution_count": 26,
   "metadata": {},
   "outputs": [],
   "source": [
    "sent = nltk.word_tokenize('They wind back the clock, while we chase after the wind')"
   ]
  },
  {
   "cell_type": "code",
   "execution_count": 28,
   "metadata": {},
   "outputs": [
    {
     "data": {
      "text/plain": [
       "[('They', 'PRON'),\n",
       " ('wind', 'VERB'),\n",
       " ('back', 'ADV'),\n",
       " ('the', 'DET'),\n",
       " ('clock', 'NOUN'),\n",
       " (',', '.'),\n",
       " ('while', 'ADP'),\n",
       " ('we', 'PRON'),\n",
       " ('chase', 'VERB'),\n",
       " ('after', 'ADP'),\n",
       " ('the', 'DET'),\n",
       " ('wind', 'NOUN')]"
      ]
     },
     "execution_count": 28,
     "metadata": {},
     "output_type": "execute_result"
    }
   ],
   "source": [
    "nltk.pos_tag(sent, tagset='universal')"
   ]
  },
  {
   "cell_type": "markdown",
   "metadata": {},
   "source": [
    "According to https://dictionary.cambridge.org/dictionary/english/wind"
   ]
  },
  {
   "cell_type": "markdown",
   "metadata": {},
   "source": [
    "wind [waɪnd] - verb, to turn or cause something to turn"
   ]
  },
  {
   "cell_type": "markdown",
   "metadata": {},
   "source": [
    "wind [wɪnd] - noun, a current of air moving approximately horizontally, especially one strong enough to be felt"
   ]
  },
  {
   "cell_type": "markdown",
   "metadata": {},
   "source": [
    "# Exercise 4"
   ]
  },
  {
   "cell_type": "markdown",
   "metadata": {},
   "source": [
    "Review the mappings in Table 5-4. Discuss any other examples of mappings you\n",
    "can think of. What type of information do they map from and to?"
   ]
  },
  {
   "attachments": {
    "image.png": {
     "image/png": "[encoded data removed]"
    }
   },
   "cell_type": "markdown",
   "metadata": {},
   "source": [
    "![image.png](attachment:image.png)"
   ]
  },
  {
   "cell_type": "markdown",
   "metadata": {},
   "source": [
    "Pronunciation dictionary maps a word to its pronunciation"
   ]
  },
  {
   "cell_type": "markdown",
   "metadata": {},
   "source": [
    "Sentiment dictionary maps a word to its sentiment value"
   ]
  },
  {
   "cell_type": "markdown",
   "metadata": {},
   "source": [
    "# Exercise 5"
   ]
  },
  {
   "cell_type": "markdown",
   "metadata": {},
   "source": [
    "Using the Python interpreter in interactive mode, experiment with the dictionary\n",
    "examples in this chapter. Create a dictionary d, and add some entries. What happens\n",
    "whether you try to access a non-existent entry, e.g., d['xyz']?"
   ]
  },
  {
   "cell_type": "code",
   "execution_count": 37,
   "metadata": {},
   "outputs": [
    {
     "ename": "KeyError",
     "evalue": "'xyz'",
     "output_type": "error",
     "traceback": [
      "\u001b[1;31m---------------------------------------------------------------------------\u001b[0m",
      "\u001b[1;31mKeyError\u001b[0m                                  Traceback (most recent call last)",
      "\u001b[1;32m<ipython-input-37-9c03f28ff8fd>\u001b[0m in \u001b[0;36m<module>\u001b[1;34m\u001b[0m\n\u001b[0;32m      2\u001b[0m \u001b[0md\u001b[0m\u001b[1;33m[\u001b[0m\u001b[1;34m'a'\u001b[0m\u001b[1;33m]\u001b[0m \u001b[1;33m=\u001b[0m \u001b[1;36m1\u001b[0m\u001b[1;33m\u001b[0m\u001b[1;33m\u001b[0m\u001b[0m\n\u001b[0;32m      3\u001b[0m \u001b[0md\u001b[0m\u001b[1;33m[\u001b[0m\u001b[1;34m'b'\u001b[0m\u001b[1;33m]\u001b[0m \u001b[1;33m=\u001b[0m \u001b[1;36m2\u001b[0m\u001b[1;33m\u001b[0m\u001b[1;33m\u001b[0m\u001b[0m\n\u001b[1;32m----> 4\u001b[1;33m \u001b[0md\u001b[0m\u001b[1;33m[\u001b[0m\u001b[1;34m'xyz'\u001b[0m\u001b[1;33m]\u001b[0m\u001b[1;33m\u001b[0m\u001b[1;33m\u001b[0m\u001b[0m\n\u001b[0m",
      "\u001b[1;31mKeyError\u001b[0m: 'xyz'"
     ]
    }
   ],
   "source": [
    "d = {}\n",
    "d['a'] = 1\n",
    "d['b'] = 2\n",
    "d['xyz']"
   ]
  },
  {
   "cell_type": "markdown",
   "metadata": {},
   "source": [
    "# Exercise 6"
   ]
  },
  {
   "cell_type": "markdown",
   "metadata": {},
   "source": [
    "Try deleting an element from a dictionary d, using the syntax del d['abc']. Check\n",
    "that the item was deleted."
   ]
  },
  {
   "cell_type": "code",
   "execution_count": 39,
   "metadata": {},
   "outputs": [
    {
     "ename": "KeyError",
     "evalue": "'b'",
     "output_type": "error",
     "traceback": [
      "\u001b[1;31m---------------------------------------------------------------------------\u001b[0m",
      "\u001b[1;31mKeyError\u001b[0m                                  Traceback (most recent call last)",
      "\u001b[1;32m<ipython-input-39-676952f41335>\u001b[0m in \u001b[0;36m<module>\u001b[1;34m\u001b[0m\n\u001b[1;32m----> 1\u001b[1;33m \u001b[1;32mdel\u001b[0m \u001b[0md\u001b[0m\u001b[1;33m[\u001b[0m\u001b[1;34m'b'\u001b[0m\u001b[1;33m]\u001b[0m\u001b[1;33m\u001b[0m\u001b[1;33m\u001b[0m\u001b[0m\n\u001b[0m\u001b[0;32m      2\u001b[0m \u001b[0md\u001b[0m\u001b[1;33m[\u001b[0m\u001b[1;34m'b'\u001b[0m\u001b[1;33m]\u001b[0m\u001b[1;33m\u001b[0m\u001b[1;33m\u001b[0m\u001b[0m\n",
      "\u001b[1;31mKeyError\u001b[0m: 'b'"
     ]
    }
   ],
   "source": [
    "del d['b']\n",
    "d['b']"
   ]
  },
  {
   "cell_type": "markdown",
   "metadata": {},
   "source": [
    "# Exercise 7"
   ]
  },
  {
   "cell_type": "markdown",
   "metadata": {},
   "source": [
    "Create two dictionaries, d1 and d2, and add some entries to each. Now issue the\n",
    "command d1.update(d2). What did this do? What might it be useful for?"
   ]
  },
  {
   "cell_type": "code",
   "execution_count": 44,
   "metadata": {},
   "outputs": [],
   "source": [
    "d1 = {'a': 1, 'b': 2}\n",
    "d2 = {'a': 1.1, 'c': 3}"
   ]
  },
  {
   "cell_type": "code",
   "execution_count": 48,
   "metadata": {},
   "outputs": [
    {
     "data": {
      "text/plain": [
       "{'a': 1.1, 'b': 2, 'c': 3}"
      ]
     },
     "execution_count": 48,
     "metadata": {},
     "output_type": "execute_result"
    }
   ],
   "source": [
    "d1.update(d2)  # .update method adds new key-value pairs as well as updates existing ones\n",
    "d1"
   ]
  },
  {
   "cell_type": "markdown",
   "metadata": {},
   "source": [
    "# Exercise 8"
   ]
  },
  {
   "cell_type": "markdown",
   "metadata": {},
   "source": [
    "Create a dictionary e, to represent a single lexical entry for some word of your\n",
    "choice. Define keys such as headword, part-of-speech, sense, and example, and assign\n",
    "them suitable values."
   ]
  },
  {
   "cell_type": "code",
   "execution_count": 49,
   "metadata": {},
   "outputs": [],
   "source": [
    "e = {\n",
    "    'successful': {\n",
    "        'headword': 'success',\n",
    "        'part-of-speech': 'ADJ',\n",
    "        'sense': 'accomplishing an aim or purpose',\n",
    "        'example': 'a successful attack on the town'\n",
    "    }\n",
    "}"
   ]
  },
  {
   "cell_type": "code",
   "execution_count": 50,
   "metadata": {},
   "outputs": [
    {
     "data": {
      "text/plain": [
       "'accomplishing an aim or purpose'"
      ]
     },
     "execution_count": 50,
     "metadata": {},
     "output_type": "execute_result"
    }
   ],
   "source": [
    "e['successful']['sense']"
   ]
  },
  {
   "cell_type": "markdown",
   "metadata": {},
   "source": [
    "# Exercise 9"
   ]
  },
  {
   "cell_type": "markdown",
   "metadata": {},
   "source": [
    "Satisfy yourself that there are restrictions on the distribution of go and went, in\n",
    "the sense that they cannot be freely interchanged in the kinds of contexts illustrated\n",
    "in (3), Section 5.7."
   ]
  },
  {
   "cell_type": "markdown",
   "metadata": {},
   "source": [
    "a. Go away!\n",
    "b. He sometimes goes to the cafe.\n",
    "c. All the cakes have gone.\n",
    "d. We went on the excursion."
   ]
  },
  {
   "cell_type": "code",
   "execution_count": 59,
   "metadata": {},
   "outputs": [],
   "source": [
    "from nltk.corpus import brown"
   ]
  },
  {
   "cell_type": "code",
   "execution_count": 60,
   "metadata": {},
   "outputs": [],
   "source": [
    "brown_text = nltk.Text(brown.words())"
   ]
  },
  {
   "cell_type": "code",
   "execution_count": 65,
   "metadata": {},
   "outputs": [
    {
     "name": "stdout",
     "output_type": "stream",
     "text": [
      "Displaying 25 of 626 matches:\n",
      "struction bonds . The bond issue will go to the state courts for a friendly te\n",
      "ress text still had `` quite a way to go '' toward completion . Decisions are \n",
      " replied , `` I would say it's got to go thru several more drafts '' . Salinge\n",
      "ause the levy is already scheduled to go up by 1 per cent on that date to pay \n",
      "irst year , 1963 . Both figures would go higher in later years . Other parts o\n",
      "lion dollars the first year and would go up to 21 millions by 1966 . The Presi\n",
      "said yesterday he would be willing to go before the city council `` or anyone \n",
      "red would know what to do or where to go in the event of an enemy attack . The\n",
      "e another . Riverside residents would go to the Seekonk assembly point . Mr. H\n",
      "nk E. Smith as the one most likely to go , the redistricting battle will put t\n",
      "e battle . Then he could tell them to go home , while the administration conti\n",
      "pinion as to how far the board should go , and whose advice it should follow .\n",
      "n to where the parents wanted them to go . Dr. Melvin W. Barnes , superintende\n",
      "ay night in Salem . On Friday he will go to Portland for the swearing in of De\n",
      "`` Then we'd really have someplace to go '' . Bowie , Md. , March 17 -- Gainin\n",
      "`` Spahnie doesn't know how to merely go through the motions '' , remarked Eno\n",
      "Slocum Memorial Award . To Spahn will go the Sid Mercer Memorial Award as the \n",
      "ds . The writers' Gold Tee Award will go to John McAuliffe of Plainfield , N. \n",
      "ever , Mr. Parichy and his bride will go to Vero Beach on their wedding trip ,\n",
      "ncy '' . No matter how many Americans go abroad in summer , probably a hundred\n",
      ", service and comfort stations ( they go together like Scots and heather ) , d\n",
      "Werner said , was let manual laborers go home Tuesday night for some rest . Wo\n",
      "t destroyers . It could , reputedly , go 70,000 miles without refueling and st\n",
      "dinator of audio-visual education may go to the state Supreme Court , it appea\n",
      " therefore knew them . It was time to go up myself '' . Fiedler was then techn\n"
     ]
    }
   ],
   "source": [
    "brown_text.concordance('go')"
   ]
  },
  {
   "cell_type": "code",
   "execution_count": 66,
   "metadata": {},
   "outputs": [
    {
     "name": "stdout",
     "output_type": "stream",
     "text": [
      "Displaying 25 of 507 matches:\n",
      "ade good his promise . `` Everything went real smooth '' , the sheriff said . \n",
      "axation . Under committee rules , it went automatically to a subcommittee for \n",
      "e . And after several correspondents went into Pathet Lao territory and expose\n",
      "the Kansas City scoring in the sixth went like this : Lumpe worked a walk as t\n",
      "his season to 13 straight before one went astray last Saturday night in the 41\n",
      "nd caught one pass for 13 yards . He went into the Army in March , 1957 , and \n",
      "m Monday , ran for 30 minutes , then went in , while the reserves scrimmaged f\n",
      "tchie of the Ogden Standard Examiner went to his compartment to talk with him \n",
      "pped into his second shot . The ball went off in a majestic arc , an out-of-bo\n",
      " rare sense of humor . Everywhere he went in town , people sidled up , gave hi\n",
      "e is where a man was born , reared , went to school and , most particularly , \n",
      " off for good behavior . He promptly went to communist East Germany . The magi\n",
      "in the Skipjack . With the machinery went a complete design for the hull . The\n",
      "issile submarines '' , the statement went on . The atom reactor , water cooled\n",
      "e this account : Thomas early Sunday went to the home of his uncle and aunt , \n",
      "sheep showman contest . Blue ribbons went to Stephanie Shaw of Hillsboro , Lar\n",
      "nks . Swine showmanship championship went to Bob Day , with Tom Day and Hutchi\n",
      "d on the jury . Then , when the case went to the jury , the judge excused one \n",
      "streamer of dust it landed . Fiedler went on to make several other test flight\n",
      "inals . Second grand prize of $5,000 went to Mrs. Clara L. Oliver for her Hawa\n",
      "Last two to be added before the book went to press were the marriages of Mered\n",
      " next year's television shows . So I went to see `` La Dolce Vita '' . It has \n",
      "ou have language problems . The week went along briskly enough . I bought a ne\n",
      "eaded up one of the four groups that went on simultaneous tours after the Gall\n",
      "tings and sculptures to each group , went one of the Gallery's blue-uniformed \n"
     ]
    }
   ],
   "source": [
    "brown_text.concordance('went')"
   ]
  },
  {
   "cell_type": "markdown",
   "metadata": {},
   "source": [
    "# Exercise 10"
   ]
  },
  {
   "cell_type": "markdown",
   "metadata": {},
   "source": [
    "Train a unigram tagger and run it on some new text. Observe that some words\n",
    "are not assigned a tag. Why not?"
   ]
  },
  {
   "cell_type": "code",
   "execution_count": 74,
   "metadata": {},
   "outputs": [],
   "source": [
    "from nltk.corpus import brown\n",
    "from nltk.tag import UnigramTagger"
   ]
  },
  {
   "cell_type": "code",
   "execution_count": 75,
   "metadata": {},
   "outputs": [],
   "source": [
    "unigram_tagger = UnigramTagger(brown.tagged_sents())"
   ]
  },
  {
   "cell_type": "code",
   "execution_count": 76,
   "metadata": {},
   "outputs": [
    {
     "data": {
      "text/plain": [
       "[('Train', 'NN-TL'),\n",
       " ('a', 'AT'),\n",
       " ('unigram', None),\n",
       " ('tagger', None),\n",
       " ('and', 'CC'),\n",
       " ('run', 'VB'),\n",
       " ('it', 'PPS'),\n",
       " ('on', 'IN'),\n",
       " ('some', 'DTI'),\n",
       " ('new', 'JJ'),\n",
       " ('text', 'NN')]"
      ]
     },
     "execution_count": 76,
     "metadata": {},
     "output_type": "execute_result"
    }
   ],
   "source": [
    "unigram_tagger.tag(['Train', 'a', 'unigram', 'tagger', 'and',\n",
    "                    'run', 'it', 'on', 'some', 'new', 'text'])"
   ]
  },
  {
   "cell_type": "markdown",
   "metadata": {},
   "source": [
    "Because the unigram_tagger didn't see such words as 'unigram' and 'tagger' during training. And there was not any backoff tagger."
   ]
  },
  {
   "cell_type": "markdown",
   "metadata": {},
   "source": [
    "# Exercise 11"
   ]
  },
  {
   "cell_type": "markdown",
   "metadata": {},
   "source": [
    "Learn about the affix tagger (type help(nltk.AffixTagger)). Train an affix tagger\n",
    "and run it on some new text. Experiment with different settings for the affix length\n",
    "and the minimum word length. Discuss your findings."
   ]
  },
  {
   "cell_type": "code",
   "execution_count": 21,
   "metadata": {},
   "outputs": [],
   "source": [
    "from nltk.tag import AffixTagger\n",
    "from nltk.corpus import brown"
   ]
  },
  {
   "cell_type": "code",
   "execution_count": 22,
   "metadata": {},
   "outputs": [],
   "source": [
    "sent = nltk.word_tokenize('They wind back the clock, while we chase after the wind')"
   ]
  },
  {
   "cell_type": "code",
   "execution_count": 23,
   "metadata": {},
   "outputs": [
    {
     "name": "stdout",
     "output_type": "stream",
     "text": [
      "[('They', None), ('wind', None), ('back', None), ('the', None), ('clock', 'NOUN'), (',', None), ('while', 'ADP'), ('we', None), ('chase', 'NOUN'), ('after', 'NOUN'), ('the', None), ('wind', None)]\n"
     ]
    }
   ],
   "source": [
    "affix_tagger = AffixTagger(brown.tagged_sents(tagset='universal'))\n",
    "print(affix_tagger.tag(sent))"
   ]
  },
  {
   "cell_type": "code",
   "execution_count": 24,
   "metadata": {},
   "outputs": [
    {
     "name": "stdout",
     "output_type": "stream",
     "text": [
      "[('They', 'PRON'), ('wind', 'CONJ'), ('back', 'NOUN'), ('the', 'DET'), ('clock', 'NOUN'), (',', None), ('while', 'ADJ'), ('we', None), ('chase', 'NOUN'), ('after', 'NOUN'), ('the', 'DET'), ('wind', 'CONJ')]\n"
     ]
    }
   ],
   "source": [
    "affix_tagger = AffixTagger(\n",
    "    train=brown.tagged_sents(tagset='universal'),\n",
    "    affix_length=-2,\n",
    "    min_stem_length=1\n",
    ")\n",
    "print(affix_tagger.tag(sent))"
   ]
  },
  {
   "cell_type": "markdown",
   "metadata": {},
   "source": [
    "AffixTagger shows bad performance in tagging short and long words. There is a trade-off between affix_length and min_stem_length."
   ]
  },
  {
   "cell_type": "markdown",
   "metadata": {},
   "source": [
    "# Exercise 12"
   ]
  },
  {
   "cell_type": "markdown",
   "metadata": {},
   "source": [
    "Train a bigram tagger with no backoff tagger, and run it on some of the training\n",
    "data. Next, run it on some new data. What happens to the performance of the\n",
    "tagger? Why?"
   ]
  },
  {
   "cell_type": "code",
   "execution_count": 64,
   "metadata": {},
   "outputs": [],
   "source": [
    "from nltk.tag import BigramTagger\n",
    "from nltk.corpus import brown"
   ]
  },
  {
   "cell_type": "code",
   "execution_count": 65,
   "metadata": {},
   "outputs": [],
   "source": [
    "tagged_sents = list(brown.tagged_sents(tagset='universal'))"
   ]
  },
  {
   "cell_type": "code",
   "execution_count": 66,
   "metadata": {},
   "outputs": [],
   "source": [
    "np.random.seed(42)\n",
    "np.random.shuffle(tagged_sents)"
   ]
  },
  {
   "cell_type": "code",
   "execution_count": 67,
   "metadata": {},
   "outputs": [],
   "source": [
    "train_ind = int(len(tagged_sents) * 0.8)"
   ]
  },
  {
   "cell_type": "code",
   "execution_count": 68,
   "metadata": {},
   "outputs": [],
   "source": [
    "train_sents = tagged_sents[:train_ind]\n",
    "test_sents = tagged_sents[train_ind:]"
   ]
  },
  {
   "cell_type": "code",
   "execution_count": 69,
   "metadata": {},
   "outputs": [],
   "source": [
    "bigram_tagger = BigramTagger(train_sents)"
   ]
  },
  {
   "cell_type": "code",
   "execution_count": 70,
   "metadata": {},
   "outputs": [
    {
     "data": {
      "text/plain": [
       "0.9001371097863057"
      ]
     },
     "execution_count": 70,
     "metadata": {},
     "output_type": "execute_result"
    }
   ],
   "source": [
    "bigram_tagger.evaluate(train_sents)"
   ]
  },
  {
   "cell_type": "code",
   "execution_count": 71,
   "metadata": {},
   "outputs": [
    {
     "data": {
      "text/plain": [
       "0.4504860510722645"
      ]
     },
     "execution_count": 71,
     "metadata": {},
     "output_type": "execute_result"
    }
   ],
   "source": [
    "bigram_tagger.evaluate(test_sents)"
   ]
  },
  {
   "cell_type": "markdown",
   "metadata": {},
   "source": [
    "Bigram tagger manages to tag every word in a sentence it saw during\n",
    "training, but does badly on an unseen sentence. As soon as it encounters a new word, it is unable to assign a tag. \n",
    "It cannot tag some word,\n",
    "even if it was seen during training, simply because it never saw it during training with\n",
    "a None tag on the previous word. Consequently, the tagger fails to tag the rest of the\n",
    "sentence. Its overall accuracy score is very low."
   ]
  },
  {
   "cell_type": "markdown",
   "metadata": {},
   "source": [
    "# Exercise 13"
   ]
  },
  {
   "cell_type": "markdown",
   "metadata": {},
   "source": [
    "We can use a dictionary to specify the values to be substituted into a formatting\n",
    "string. Read Python’s library documentation for formatting strings (http://docs.python.org/lib/typesseq-strings.html) and use this method to display today’s date in\n",
    "two different formats."
   ]
  },
  {
   "cell_type": "code",
   "execution_count": 32,
   "metadata": {},
   "outputs": [],
   "source": [
    "from datetime import datetime"
   ]
  },
  {
   "cell_type": "code",
   "execution_count": 33,
   "metadata": {},
   "outputs": [],
   "source": [
    "today = datetime.today()"
   ]
  },
  {
   "cell_type": "code",
   "execution_count": 34,
   "metadata": {},
   "outputs": [
    {
     "name": "stdout",
     "output_type": "stream",
     "text": [
      "2019-07-29 13:33\n"
     ]
    }
   ],
   "source": [
    "print('{:%Y-%m-%d %H:%M}'.format(today))"
   ]
  },
  {
   "cell_type": "code",
   "execution_count": 35,
   "metadata": {},
   "outputs": [
    {
     "name": "stdout",
     "output_type": "stream",
     "text": [
      "07-29-2019 13:33:30.051372\n"
     ]
    }
   ],
   "source": [
    "print('{:%m-%d-%Y %H:%M:%S.%f}'.format(today))"
   ]
  },
  {
   "cell_type": "markdown",
   "metadata": {},
   "source": [
    "# Exercise 14"
   ]
  },
  {
   "cell_type": "markdown",
   "metadata": {},
   "source": [
    "Use sorted() and set() to get a sorted list of tags used in the Brown Corpus,\n",
    "removing duplicates."
   ]
  },
  {
   "cell_type": "code",
   "execution_count": 36,
   "metadata": {},
   "outputs": [],
   "source": [
    "from nltk.corpus import brown"
   ]
  },
  {
   "cell_type": "code",
   "execution_count": 39,
   "metadata": {},
   "outputs": [
    {
     "data": {
      "text/plain": [
       "[\"'\",\n",
       " \"''\",\n",
       " '(',\n",
       " '(-HL',\n",
       " ')',\n",
       " ')-HL',\n",
       " '*',\n",
       " '*-HL',\n",
       " '*-NC',\n",
       " '*-TL',\n",
       " ',',\n",
       " ',-HL',\n",
       " ',-NC',\n",
       " ',-TL',\n",
       " '--',\n",
       " '---HL',\n",
       " '.',\n",
       " '.-HL',\n",
       " '.-NC',\n",
       " '.-TL',\n",
       " ':',\n",
       " ':-HL',\n",
       " ':-TL',\n",
       " 'ABL',\n",
       " 'ABN',\n",
       " 'ABN-HL',\n",
       " 'ABN-NC',\n",
       " 'ABN-TL',\n",
       " 'ABX',\n",
       " 'AP',\n",
       " 'AP$',\n",
       " 'AP+AP-NC',\n",
       " 'AP-HL',\n",
       " 'AP-NC',\n",
       " 'AP-TL',\n",
       " 'AT',\n",
       " 'AT-HL',\n",
       " 'AT-NC',\n",
       " 'AT-TL',\n",
       " 'AT-TL-HL',\n",
       " 'BE',\n",
       " 'BE-HL',\n",
       " 'BE-TL',\n",
       " 'BED',\n",
       " 'BED*',\n",
       " 'BED-NC',\n",
       " 'BEDZ',\n",
       " 'BEDZ*',\n",
       " 'BEDZ-HL',\n",
       " 'BEDZ-NC',\n",
       " 'BEG',\n",
       " 'BEM',\n",
       " 'BEM*',\n",
       " 'BEM-NC',\n",
       " 'BEN',\n",
       " 'BEN-TL',\n",
       " 'BER',\n",
       " 'BER*',\n",
       " 'BER*-NC',\n",
       " 'BER-HL',\n",
       " 'BER-NC',\n",
       " 'BER-TL',\n",
       " 'BEZ',\n",
       " 'BEZ*',\n",
       " 'BEZ-HL',\n",
       " 'BEZ-NC',\n",
       " 'BEZ-TL',\n",
       " 'CC',\n",
       " 'CC-HL',\n",
       " 'CC-NC',\n",
       " 'CC-TL',\n",
       " 'CC-TL-HL',\n",
       " 'CD',\n",
       " 'CD$',\n",
       " 'CD-HL',\n",
       " 'CD-NC',\n",
       " 'CD-TL',\n",
       " 'CD-TL-HL',\n",
       " 'CS',\n",
       " 'CS-HL',\n",
       " 'CS-NC',\n",
       " 'CS-TL',\n",
       " 'DO',\n",
       " 'DO*',\n",
       " 'DO*-HL',\n",
       " 'DO+PPSS',\n",
       " 'DO-HL',\n",
       " 'DO-NC',\n",
       " 'DO-TL',\n",
       " 'DOD',\n",
       " 'DOD*',\n",
       " 'DOD*-TL',\n",
       " 'DOD-NC',\n",
       " 'DOZ',\n",
       " 'DOZ*',\n",
       " 'DOZ*-TL',\n",
       " 'DOZ-HL',\n",
       " 'DOZ-TL',\n",
       " 'DT',\n",
       " 'DT$',\n",
       " 'DT+BEZ',\n",
       " 'DT+BEZ-NC',\n",
       " 'DT+MD',\n",
       " 'DT-HL',\n",
       " 'DT-NC',\n",
       " 'DT-TL',\n",
       " 'DTI',\n",
       " 'DTI-HL',\n",
       " 'DTI-TL',\n",
       " 'DTS',\n",
       " 'DTS+BEZ',\n",
       " 'DTS-HL',\n",
       " 'DTX',\n",
       " 'EX',\n",
       " 'EX+BEZ',\n",
       " 'EX+HVD',\n",
       " 'EX+HVZ',\n",
       " 'EX+MD',\n",
       " 'EX-HL',\n",
       " 'EX-NC',\n",
       " 'FW-*',\n",
       " 'FW-*-TL',\n",
       " 'FW-AT',\n",
       " 'FW-AT+NN-TL',\n",
       " 'FW-AT+NP-TL',\n",
       " 'FW-AT-HL',\n",
       " 'FW-AT-TL',\n",
       " 'FW-BE',\n",
       " 'FW-BER',\n",
       " 'FW-BEZ',\n",
       " 'FW-CC',\n",
       " 'FW-CC-TL',\n",
       " 'FW-CD',\n",
       " 'FW-CD-TL',\n",
       " 'FW-CS',\n",
       " 'FW-DT',\n",
       " 'FW-DT+BEZ',\n",
       " 'FW-DTS',\n",
       " 'FW-HV',\n",
       " 'FW-IN',\n",
       " 'FW-IN+AT',\n",
       " 'FW-IN+AT-T',\n",
       " 'FW-IN+AT-TL',\n",
       " 'FW-IN+NN',\n",
       " 'FW-IN+NN-TL',\n",
       " 'FW-IN+NP-TL',\n",
       " 'FW-IN-TL',\n",
       " 'FW-JJ',\n",
       " 'FW-JJ-NC',\n",
       " 'FW-JJ-TL',\n",
       " 'FW-JJR',\n",
       " 'FW-JJT',\n",
       " 'FW-NN',\n",
       " 'FW-NN$',\n",
       " 'FW-NN$-TL',\n",
       " 'FW-NN-NC',\n",
       " 'FW-NN-TL',\n",
       " 'FW-NN-TL-NC',\n",
       " 'FW-NNS',\n",
       " 'FW-NNS-NC',\n",
       " 'FW-NNS-TL',\n",
       " 'FW-NP',\n",
       " 'FW-NP-TL',\n",
       " 'FW-NPS',\n",
       " 'FW-NPS-TL',\n",
       " 'FW-NR',\n",
       " 'FW-NR-TL',\n",
       " 'FW-OD-NC',\n",
       " 'FW-OD-TL',\n",
       " 'FW-PN',\n",
       " 'FW-PP$',\n",
       " 'FW-PP$-NC',\n",
       " 'FW-PP$-TL',\n",
       " 'FW-PPL',\n",
       " 'FW-PPL+VBZ',\n",
       " 'FW-PPO',\n",
       " 'FW-PPO+IN',\n",
       " 'FW-PPS',\n",
       " 'FW-PPSS',\n",
       " 'FW-PPSS+HV',\n",
       " 'FW-QL',\n",
       " 'FW-RB',\n",
       " 'FW-RB+CC',\n",
       " 'FW-RB-TL',\n",
       " 'FW-TO+VB',\n",
       " 'FW-UH',\n",
       " 'FW-UH-NC',\n",
       " 'FW-UH-TL',\n",
       " 'FW-VB',\n",
       " 'FW-VB-NC',\n",
       " 'FW-VB-TL',\n",
       " 'FW-VBD',\n",
       " 'FW-VBD-TL',\n",
       " 'FW-VBG',\n",
       " 'FW-VBG-TL',\n",
       " 'FW-VBN',\n",
       " 'FW-VBZ',\n",
       " 'FW-WDT',\n",
       " 'FW-WPO',\n",
       " 'FW-WPS',\n",
       " 'HV',\n",
       " 'HV*',\n",
       " 'HV+TO',\n",
       " 'HV-HL',\n",
       " 'HV-NC',\n",
       " 'HV-TL',\n",
       " 'HVD',\n",
       " 'HVD*',\n",
       " 'HVD-HL',\n",
       " 'HVG',\n",
       " 'HVG-HL',\n",
       " 'HVN',\n",
       " 'HVZ',\n",
       " 'HVZ*',\n",
       " 'HVZ-NC',\n",
       " 'HVZ-TL',\n",
       " 'IN',\n",
       " 'IN+IN',\n",
       " 'IN+PPO',\n",
       " 'IN-HL',\n",
       " 'IN-NC',\n",
       " 'IN-TL',\n",
       " 'IN-TL-HL',\n",
       " 'JJ',\n",
       " 'JJ$-TL',\n",
       " 'JJ+JJ-NC',\n",
       " 'JJ-HL',\n",
       " 'JJ-NC',\n",
       " 'JJ-TL',\n",
       " 'JJ-TL-HL',\n",
       " 'JJ-TL-NC',\n",
       " 'JJR',\n",
       " 'JJR+CS',\n",
       " 'JJR-HL',\n",
       " 'JJR-NC',\n",
       " 'JJR-TL',\n",
       " 'JJS',\n",
       " 'JJS-HL',\n",
       " 'JJS-TL',\n",
       " 'JJT',\n",
       " 'JJT-HL',\n",
       " 'JJT-NC',\n",
       " 'JJT-TL',\n",
       " 'MD',\n",
       " 'MD*',\n",
       " 'MD*-HL',\n",
       " 'MD+HV',\n",
       " 'MD+PPSS',\n",
       " 'MD+TO',\n",
       " 'MD-HL',\n",
       " 'MD-NC',\n",
       " 'MD-TL',\n",
       " 'NIL',\n",
       " 'NN',\n",
       " 'NN$',\n",
       " 'NN$-HL',\n",
       " 'NN$-TL',\n",
       " 'NN+BEZ',\n",
       " 'NN+BEZ-TL',\n",
       " 'NN+HVD-TL',\n",
       " 'NN+HVZ',\n",
       " 'NN+HVZ-TL',\n",
       " 'NN+IN',\n",
       " 'NN+MD',\n",
       " 'NN+NN-NC',\n",
       " 'NN-HL',\n",
       " 'NN-NC',\n",
       " 'NN-TL',\n",
       " 'NN-TL-HL',\n",
       " 'NN-TL-NC',\n",
       " 'NNS',\n",
       " 'NNS$',\n",
       " 'NNS$-HL',\n",
       " 'NNS$-NC',\n",
       " 'NNS$-TL',\n",
       " 'NNS$-TL-HL',\n",
       " 'NNS+MD',\n",
       " 'NNS-HL',\n",
       " 'NNS-NC',\n",
       " 'NNS-TL',\n",
       " 'NNS-TL-HL',\n",
       " 'NNS-TL-NC',\n",
       " 'NP',\n",
       " 'NP$',\n",
       " 'NP$-HL',\n",
       " 'NP$-TL',\n",
       " 'NP+BEZ',\n",
       " 'NP+BEZ-NC',\n",
       " 'NP+HVZ',\n",
       " 'NP+HVZ-NC',\n",
       " 'NP+MD',\n",
       " 'NP-HL',\n",
       " 'NP-NC',\n",
       " 'NP-TL',\n",
       " 'NP-TL-HL',\n",
       " 'NPS',\n",
       " 'NPS$',\n",
       " 'NPS$-HL',\n",
       " 'NPS$-TL',\n",
       " 'NPS-HL',\n",
       " 'NPS-NC',\n",
       " 'NPS-TL',\n",
       " 'NR',\n",
       " 'NR$',\n",
       " 'NR$-TL',\n",
       " 'NR+MD',\n",
       " 'NR-HL',\n",
       " 'NR-NC',\n",
       " 'NR-TL',\n",
       " 'NR-TL-HL',\n",
       " 'NRS',\n",
       " 'NRS-TL',\n",
       " 'OD',\n",
       " 'OD-HL',\n",
       " 'OD-NC',\n",
       " 'OD-TL',\n",
       " 'PN',\n",
       " 'PN$',\n",
       " 'PN+BEZ',\n",
       " 'PN+HVD',\n",
       " 'PN+HVZ',\n",
       " 'PN+MD',\n",
       " 'PN-HL',\n",
       " 'PN-NC',\n",
       " 'PN-TL',\n",
       " 'PP$',\n",
       " 'PP$$',\n",
       " 'PP$-HL',\n",
       " 'PP$-NC',\n",
       " 'PP$-TL',\n",
       " 'PPL',\n",
       " 'PPL-HL',\n",
       " 'PPL-NC',\n",
       " 'PPL-TL',\n",
       " 'PPLS',\n",
       " 'PPO',\n",
       " 'PPO-HL',\n",
       " 'PPO-NC',\n",
       " 'PPO-TL',\n",
       " 'PPS',\n",
       " 'PPS+BEZ',\n",
       " 'PPS+BEZ-HL',\n",
       " 'PPS+BEZ-NC',\n",
       " 'PPS+HVD',\n",
       " 'PPS+HVZ',\n",
       " 'PPS+MD',\n",
       " 'PPS-HL',\n",
       " 'PPS-NC',\n",
       " 'PPS-TL',\n",
       " 'PPSS',\n",
       " 'PPSS+BEM',\n",
       " 'PPSS+BER',\n",
       " 'PPSS+BER-N',\n",
       " 'PPSS+BER-NC',\n",
       " 'PPSS+BER-TL',\n",
       " 'PPSS+BEZ',\n",
       " 'PPSS+BEZ*',\n",
       " 'PPSS+HV',\n",
       " 'PPSS+HV-TL',\n",
       " 'PPSS+HVD',\n",
       " 'PPSS+MD',\n",
       " 'PPSS+MD-NC',\n",
       " 'PPSS+VB',\n",
       " 'PPSS-HL',\n",
       " 'PPSS-NC',\n",
       " 'PPSS-TL',\n",
       " 'QL',\n",
       " 'QL-HL',\n",
       " 'QL-NC',\n",
       " 'QL-TL',\n",
       " 'QLP',\n",
       " 'RB',\n",
       " 'RB$',\n",
       " 'RB+BEZ',\n",
       " 'RB+BEZ-HL',\n",
       " 'RB+BEZ-NC',\n",
       " 'RB+CS',\n",
       " 'RB-HL',\n",
       " 'RB-NC',\n",
       " 'RB-TL',\n",
       " 'RBR',\n",
       " 'RBR+CS',\n",
       " 'RBR-NC',\n",
       " 'RBT',\n",
       " 'RN',\n",
       " 'RP',\n",
       " 'RP+IN',\n",
       " 'RP-HL',\n",
       " 'RP-NC',\n",
       " 'RP-TL',\n",
       " 'TO',\n",
       " 'TO+VB',\n",
       " 'TO-HL',\n",
       " 'TO-NC',\n",
       " 'TO-TL',\n",
       " 'UH',\n",
       " 'UH-HL',\n",
       " 'UH-NC',\n",
       " 'UH-TL',\n",
       " 'VB',\n",
       " 'VB+AT',\n",
       " 'VB+IN',\n",
       " 'VB+JJ-NC',\n",
       " 'VB+PPO',\n",
       " 'VB+RP',\n",
       " 'VB+TO',\n",
       " 'VB+VB-NC',\n",
       " 'VB-HL',\n",
       " 'VB-NC',\n",
       " 'VB-TL',\n",
       " 'VBD',\n",
       " 'VBD-HL',\n",
       " 'VBD-NC',\n",
       " 'VBD-TL',\n",
       " 'VBG',\n",
       " 'VBG+TO',\n",
       " 'VBG-HL',\n",
       " 'VBG-NC',\n",
       " 'VBG-TL',\n",
       " 'VBN',\n",
       " 'VBN+TO',\n",
       " 'VBN-HL',\n",
       " 'VBN-NC',\n",
       " 'VBN-TL',\n",
       " 'VBN-TL-HL',\n",
       " 'VBN-TL-NC',\n",
       " 'VBZ',\n",
       " 'VBZ-HL',\n",
       " 'VBZ-NC',\n",
       " 'VBZ-TL',\n",
       " 'WDT',\n",
       " 'WDT+BER',\n",
       " 'WDT+BER+PP',\n",
       " 'WDT+BEZ',\n",
       " 'WDT+BEZ-HL',\n",
       " 'WDT+BEZ-NC',\n",
       " 'WDT+BEZ-TL',\n",
       " 'WDT+DO+PPS',\n",
       " 'WDT+DOD',\n",
       " 'WDT+HVZ',\n",
       " 'WDT-HL',\n",
       " 'WDT-NC',\n",
       " 'WP$',\n",
       " 'WPO',\n",
       " 'WPO-NC',\n",
       " 'WPO-TL',\n",
       " 'WPS',\n",
       " 'WPS+BEZ',\n",
       " 'WPS+BEZ-NC',\n",
       " 'WPS+BEZ-TL',\n",
       " 'WPS+HVD',\n",
       " 'WPS+HVZ',\n",
       " 'WPS+MD',\n",
       " 'WPS-HL',\n",
       " 'WPS-NC',\n",
       " 'WPS-TL',\n",
       " 'WQL',\n",
       " 'WQL-TL',\n",
       " 'WRB',\n",
       " 'WRB+BER',\n",
       " 'WRB+BEZ',\n",
       " 'WRB+BEZ-TL',\n",
       " 'WRB+DO',\n",
       " 'WRB+DOD',\n",
       " 'WRB+DOD*',\n",
       " 'WRB+DOZ',\n",
       " 'WRB+IN',\n",
       " 'WRB+MD',\n",
       " 'WRB-HL',\n",
       " 'WRB-NC',\n",
       " 'WRB-TL',\n",
       " '``']"
      ]
     },
     "execution_count": 39,
     "metadata": {},
     "output_type": "execute_result"
    }
   ],
   "source": [
    "sorted(set(tag for word, tag in brown.tagged_words()))"
   ]
  },
  {
   "cell_type": "code",
   "execution_count": 40,
   "metadata": {},
   "outputs": [
    {
     "data": {
      "text/plain": [
       "['.',\n",
       " 'ADJ',\n",
       " 'ADP',\n",
       " 'ADV',\n",
       " 'CONJ',\n",
       " 'DET',\n",
       " 'NOUN',\n",
       " 'NUM',\n",
       " 'PRON',\n",
       " 'PRT',\n",
       " 'VERB',\n",
       " 'X']"
      ]
     },
     "execution_count": 40,
     "metadata": {},
     "output_type": "execute_result"
    }
   ],
   "source": [
    "sorted(set(tag for word, tag in brown.tagged_words(tagset='universal')))"
   ]
  },
  {
   "cell_type": "markdown",
   "metadata": {},
   "source": [
    "# Exercise 15"
   ]
  },
  {
   "cell_type": "markdown",
   "metadata": {},
   "source": [
    "Write programs to process the Brown Corpus and find answers to the following\n",
    "questions:<div>"
   ]
  },
  {
   "cell_type": "code",
   "execution_count": 76,
   "metadata": {},
   "outputs": [],
   "source": [
    "from nltk.corpus import brown\n",
    "from nltk.probability import ConditionalFreqDist, FreqDist"
   ]
  },
  {
   "cell_type": "code",
   "execution_count": 52,
   "metadata": {},
   "outputs": [],
   "source": [
    "cfd = ConditionalFreqDist((word.lower(), tag) for word, tag in brown.tagged_words())"
   ]
  },
  {
   "cell_type": "markdown",
   "metadata": {},
   "source": [
    "a. Which nouns are more common in their plural form, rather than their singular\n",
    "form? (Only consider regular plurals, formed with the -s suffix.)"
   ]
  },
  {
   "cell_type": "code",
   "execution_count": 68,
   "metadata": {},
   "outputs": [
    {
     "data": {
      "text/plain": [
       "['irregularities',\n",
       " 'presentments',\n",
       " 'thanks',\n",
       " 'reports',\n",
       " 'voters',\n",
       " 'laws',\n",
       " 'legislators',\n",
       " 'topics',\n",
       " 'departments',\n",
       " 'practices',\n",
       " 'governments',\n",
       " 'offices',\n",
       " 'personnel',\n",
       " 'policies',\n",
       " 'steps',\n",
       " 'funds',\n",
       " 'services',\n",
       " 'homes',\n",
       " 'items',\n",
       " 'counties',\n",
       " 'jurors',\n",
       " 'taxpayers',\n",
       " 'appraisers',\n",
       " 'guardians',\n",
       " 'administrators',\n",
       " 'fees',\n",
       " 'wards',\n",
       " 'procedures',\n",
       " 'recommendations',\n",
       " 'juries',\n",
       " 'citizens',\n",
       " 'actions',\n",
       " 'costs',\n",
       " 'servants',\n",
       " 'criticisms',\n",
       " 'influences',\n",
       " 'concessionaires',\n",
       " 'prices',\n",
       " 'deputies',\n",
       " 'matters',\n",
       " 'officials',\n",
       " 'employes',\n",
       " 'farms',\n",
       " 'attorneys',\n",
       " 'responses',\n",
       " 'petitions',\n",
       " 'precincts',\n",
       " 'signatures',\n",
       " 'dissents',\n",
       " 'says',\n",
       " 'courses',\n",
       " 'names',\n",
       " 'candidates',\n",
       " 'relations',\n",
       " 'years',\n",
       " 'starts',\n",
       " 'areas',\n",
       " 'adjustments',\n",
       " 'chambers',\n",
       " '$100',\n",
       " 'bonds',\n",
       " '$30',\n",
       " 'courts',\n",
       " 'sales',\n",
       " 'contracts',\n",
       " 'highways',\n",
       " '$3',\n",
       " '$4',\n",
       " 'roads',\n",
       " 'ones',\n",
       " 'authorities',\n",
       " '$50',\n",
       " 'plans',\n",
       " '$10',\n",
       " 'allowances',\n",
       " 'details',\n",
       " 'raises',\n",
       " 'sessions',\n",
       " 'members',\n",
       " 'congressmen',\n",
       " 'votes',\n",
       " 'polls',\n",
       " 'calls',\n",
       " 'threats',\n",
       " 'days',\n",
       " 'protests',\n",
       " 'bankers',\n",
       " 'legislatures',\n",
       " 'rules',\n",
       " 'questions',\n",
       " 'witnesses',\n",
       " 'dollars',\n",
       " 'means',\n",
       " 'books',\n",
       " 'permits',\n",
       " 'accounts',\n",
       " 'stocks',\n",
       " 'persons',\n",
       " 'banks',\n",
       " 'firms',\n",
       " 'companies',\n",
       " 'corporations',\n",
       " 'obligations',\n",
       " 'depositors',\n",
       " 'customers',\n",
       " 'millions',\n",
       " 'pockets',\n",
       " 'senators',\n",
       " 'schools',\n",
       " 'students',\n",
       " 'children',\n",
       " '$451,500',\n",
       " 'savings',\n",
       " '$157,460',\n",
       " '$88,000',\n",
       " 'scholastics',\n",
       " 'parimutuels',\n",
       " 'folks',\n",
       " 'letters',\n",
       " 'people',\n",
       " 'ponies',\n",
       " 'faces',\n",
       " 'cities',\n",
       " 'bills',\n",
       " 'committees',\n",
       " 'acts',\n",
       " 'districts',\n",
       " 'gifts',\n",
       " 'donations',\n",
       " 'retailers',\n",
       " 'taxes',\n",
       " '$1,000',\n",
       " 'brokers',\n",
       " '$12',\n",
       " 'sites',\n",
       " 'reservoirs',\n",
       " 'vacancies',\n",
       " 'elections',\n",
       " 'representatives',\n",
       " 'affairs',\n",
       " 'two-thirds',\n",
       " 'majorities',\n",
       " 'opponents',\n",
       " 'proposals',\n",
       " 'needs',\n",
       " 'places',\n",
       " '$5,000,000',\n",
       " '$15,000,000',\n",
       " 'statements',\n",
       " 'defenders',\n",
       " 'springs',\n",
       " 'methods',\n",
       " 'hours',\n",
       " 'teachers',\n",
       " 'subjects',\n",
       " 'co-signers',\n",
       " 'regents',\n",
       " 'holds',\n",
       " 'principals',\n",
       " 'causes',\n",
       " 'recipients',\n",
       " 'problems',\n",
       " 'cases',\n",
       " 'skills',\n",
       " 'breakups',\n",
       " 'relatives',\n",
       " 'parents',\n",
       " 'projects',\n",
       " 'defendants',\n",
       " 'bellows',\n",
       " 'observers',\n",
       " 'policemen',\n",
       " 'fears',\n",
       " 'aspects',\n",
       " 'others',\n",
       " 'amounts',\n",
       " 'drafts',\n",
       " 'portions',\n",
       " 'aids',\n",
       " 'decisions',\n",
       " 'advisers',\n",
       " 'demands',\n",
       " 'rights',\n",
       " 'proceedings',\n",
       " 'hearings',\n",
       " 'subpenas',\n",
       " 'individuals',\n",
       " 'judges',\n",
       " 'processes',\n",
       " 'claims',\n",
       " 'workers',\n",
       " 'programs',\n",
       " 'requests',\n",
       " 'grants',\n",
       " 'scholarships',\n",
       " '$37',\n",
       " '$4,800',\n",
       " '$5,000',\n",
       " 'boosts',\n",
       " 'benefits',\n",
       " 'figures',\n",
       " 'parts',\n",
       " 'systems',\n",
       " 'stays',\n",
       " '$20',\n",
       " 'states',\n",
       " 'requirements',\n",
       " 'hospitals',\n",
       " 'doctors',\n",
       " 'contributions',\n",
       " '$1,500',\n",
       " '$2,000',\n",
       " 'facilities',\n",
       " 'elements',\n",
       " 'lines',\n",
       " 'ayes',\n",
       " 'noes',\n",
       " 'appointments',\n",
       " 'selections',\n",
       " 'ministers',\n",
       " 'discussions',\n",
       " 'meetings',\n",
       " 'changes',\n",
       " 'powers',\n",
       " 'difficulties',\n",
       " 'tragedies',\n",
       " 'allies',\n",
       " 'circumstances',\n",
       " 'troubles',\n",
       " 'weeks',\n",
       " 'critics',\n",
       " 'positions',\n",
       " 'surprises',\n",
       " 'cars',\n",
       " 'manifestations',\n",
       " 'arms',\n",
       " 'speeches',\n",
       " 'points',\n",
       " 'setbacks',\n",
       " 'correspondents',\n",
       " 'spots',\n",
       " 'events',\n",
       " 'months',\n",
       " 'submarines',\n",
       " 'waters',\n",
       " 'societies',\n",
       " 'directions',\n",
       " 'countries',\n",
       " 'forces',\n",
       " 'moves',\n",
       " 'attacks',\n",
       " 'hopes',\n",
       " 'modifications',\n",
       " 'excuses',\n",
       " 'errors',\n",
       " 'spokesmen',\n",
       " 'reforms',\n",
       " 'confrontations',\n",
       " 'blunders',\n",
       " 'educators',\n",
       " 'groups',\n",
       " 'efforts',\n",
       " 'conditions',\n",
       " 'feeds',\n",
       " 'victories',\n",
       " 'opinions',\n",
       " 'professors',\n",
       " 'channels',\n",
       " 'negotiations',\n",
       " 'nations',\n",
       " 'losses',\n",
       " 'neighbors',\n",
       " 'ideas',\n",
       " 'offenses',\n",
       " 'communities',\n",
       " 'stems',\n",
       " 'arrests',\n",
       " 'offenders',\n",
       " '$3,500',\n",
       " 'residents',\n",
       " 'men',\n",
       " 'radios',\n",
       " 'sirens',\n",
       " 'trucks',\n",
       " 'grounds',\n",
       " 'intervals',\n",
       " 'things',\n",
       " 'classes',\n",
       " 'drifts',\n",
       " 'revisions',\n",
       " 'falls',\n",
       " 'urges',\n",
       " 'views',\n",
       " 'officers',\n",
       " 'statutes',\n",
       " 'instances',\n",
       " 'times',\n",
       " 'types',\n",
       " 'foods',\n",
       " 'stores',\n",
       " 'supermarkets',\n",
       " 'shops',\n",
       " 'thousands',\n",
       " 'licenses',\n",
       " 'outlets',\n",
       " 'liberals',\n",
       " 'conservatives',\n",
       " 'parties',\n",
       " 'utilities',\n",
       " 'resources',\n",
       " 'favors',\n",
       " 'increases',\n",
       " 'manufacturers',\n",
       " 'canvassers',\n",
       " 'justices',\n",
       " 'posts',\n",
       " 'pretenses',\n",
       " 'signers',\n",
       " 'motorists',\n",
       " 'fines',\n",
       " 'plains',\n",
       " 'boos',\n",
       " 'women',\n",
       " 'clubs',\n",
       " 'remains',\n",
       " 'regrets',\n",
       " 'issues',\n",
       " 'uses',\n",
       " 'minutes',\n",
       " 'barbs',\n",
       " 'looks',\n",
       " 'crises',\n",
       " 'ways',\n",
       " 'vehicles',\n",
       " 'stands',\n",
       " 'intentions',\n",
       " 'leaders',\n",
       " 'managers',\n",
       " 'sheets',\n",
       " 'ballots',\n",
       " 'machines',\n",
       " 'results',\n",
       " 'appeals',\n",
       " 'fits',\n",
       " 'credits',\n",
       " 'fires',\n",
       " 'techniques',\n",
       " 'plows',\n",
       " 'units',\n",
       " 'wardens',\n",
       " 'feet',\n",
       " 'slogans',\n",
       " 'signs',\n",
       " 'hoodlums',\n",
       " '1940s',\n",
       " 'lives',\n",
       " 'acres',\n",
       " 'tracts',\n",
       " '$60',\n",
       " '$45',\n",
       " '$15',\n",
       " 'municipalities',\n",
       " 'colleagues',\n",
       " 'terms',\n",
       " 'elephants',\n",
       " 'tusks',\n",
       " 'retirements',\n",
       " '1920s',\n",
       " 'mates',\n",
       " 'visits',\n",
       " 'choices',\n",
       " 'talks',\n",
       " 'interviews',\n",
       " 'reporters',\n",
       " 'queens',\n",
       " 'remarks',\n",
       " 'politicians',\n",
       " 'reasons',\n",
       " 'scandals',\n",
       " 'works',\n",
       " 'investigations',\n",
       " 'newspapers',\n",
       " '$8,555',\n",
       " 'forecasts',\n",
       " '$6,100,000,000',\n",
       " 'mortgages',\n",
       " 'down-payments',\n",
       " 'families',\n",
       " 'slums',\n",
       " 'colleges',\n",
       " 'dormitories',\n",
       " 'loans',\n",
       " 'languages',\n",
       " 'agencies',\n",
       " '$40,000,000',\n",
       " '$26,000,000',\n",
       " 'universities',\n",
       " 'goals',\n",
       " 'churchmen',\n",
       " '$1,000,000,000',\n",
       " 'estimates',\n",
       " 'technicians',\n",
       " 'experts',\n",
       " 'jobs',\n",
       " 'inhabitants',\n",
       " 'neutralists',\n",
       " 'half-brothers',\n",
       " 'delegations',\n",
       " 'princes',\n",
       " 'diplomats',\n",
       " 'tactics',\n",
       " 'consultations',\n",
       " 'principles',\n",
       " 'factors',\n",
       " 'miles',\n",
       " 'seats',\n",
       " 'hundreds',\n",
       " 'ceremonies',\n",
       " 'buildings',\n",
       " 'shrines',\n",
       " 'monuments',\n",
       " 'chapters',\n",
       " 'suffragettes',\n",
       " 'soldiers',\n",
       " 'archives',\n",
       " 'records',\n",
       " 'tracks',\n",
       " 'spectators',\n",
       " 'statues',\n",
       " 'branches',\n",
       " 'academies',\n",
       " 'representations',\n",
       " 'marines',\n",
       " 'islands',\n",
       " 'territories',\n",
       " 'developments',\n",
       " 'keeps',\n",
       " 'foes',\n",
       " 'friends',\n",
       " 'edges',\n",
       " 'job-seekers',\n",
       " 'commitments',\n",
       " 'lawmakers',\n",
       " 'odds',\n",
       " '$22.50',\n",
       " 'eyes',\n",
       " 'crossroads',\n",
       " 'camps',\n",
       " 'loyalists',\n",
       " 'independents',\n",
       " 'ranks',\n",
       " 'flows',\n",
       " 'stresses',\n",
       " 'finances',\n",
       " 'revenues',\n",
       " '$28',\n",
       " 'inconsistencies',\n",
       " 'hands',\n",
       " 'politicos',\n",
       " 'purposes',\n",
       " 'expenses',\n",
       " 'alternatives',\n",
       " 'trims',\n",
       " 'allegations',\n",
       " 'followers',\n",
       " 'affiliations',\n",
       " 'bids',\n",
       " '$344,000',\n",
       " '$200,000',\n",
       " 'shortcuts',\n",
       " 'contractors',\n",
       " 'disclosures',\n",
       " '$172,400',\n",
       " 'vouchers',\n",
       " 'charges',\n",
       " 'industries',\n",
       " 'directors',\n",
       " 'pleas',\n",
       " 'travelers',\n",
       " 'violations',\n",
       " 'joints',\n",
       " 'repairs',\n",
       " '$500',\n",
       " 'sons',\n",
       " '$600',\n",
       " '$2400',\n",
       " '$3100',\n",
       " '$37,500',\n",
       " '$172,000',\n",
       " 'rates',\n",
       " 'hotels',\n",
       " 'rooms',\n",
       " '$5000',\n",
       " '$740,000',\n",
       " '$2,330,000',\n",
       " 'houses',\n",
       " 'dwellings',\n",
       " '$5',\n",
       " '$2',\n",
       " 'accomodations',\n",
       " '$457,000',\n",
       " 'builders',\n",
       " 'dogs',\n",
       " 'males',\n",
       " 'females',\n",
       " 'replies',\n",
       " 'owners',\n",
       " '$115,000',\n",
       " '$43,000',\n",
       " '$67,000',\n",
       " '$15,000',\n",
       " 'catchers',\n",
       " 'bites',\n",
       " 'backs',\n",
       " 'inspections',\n",
       " 'agreements',\n",
       " 'redevelopers',\n",
       " '$300,000,000',\n",
       " 'hazards',\n",
       " 'pedestrians',\n",
       " '$12,192,865',\n",
       " 'dicks',\n",
       " 'parks',\n",
       " 'apartments',\n",
       " 'churches',\n",
       " 'clusters',\n",
       " 'sectors',\n",
       " 'walkways',\n",
       " 'bridges',\n",
       " 'fighters',\n",
       " 'teamsters',\n",
       " 'fractures',\n",
       " 'ankles',\n",
       " 'sets',\n",
       " 'flies',\n",
       " 'firemen',\n",
       " 'guards',\n",
       " 'pledges',\n",
       " 'paths',\n",
       " 'doors',\n",
       " 'peoples',\n",
       " 'goods',\n",
       " 'products',\n",
       " 'lots',\n",
       " 'mothers',\n",
       " 'blueprints',\n",
       " 'specifications',\n",
       " '$3.5',\n",
       " '$581,000',\n",
       " 'speakers',\n",
       " 'beliefs',\n",
       " 'delegates',\n",
       " 'assemblies',\n",
       " 'trends',\n",
       " 'truths',\n",
       " 'scriptures',\n",
       " 'miracles',\n",
       " 'missions',\n",
       " 'surveys',\n",
       " 'babies',\n",
       " 'meets',\n",
       " 'centers',\n",
       " 'pastors',\n",
       " 'volunteers',\n",
       " 'laymen',\n",
       " 'graduates',\n",
       " 'apprentices',\n",
       " 'motions',\n",
       " 'denials',\n",
       " 'trials',\n",
       " 'conspirators',\n",
       " 'mails',\n",
       " 'indications',\n",
       " 'birds',\n",
       " 'hits',\n",
       " 'frames',\n",
       " 'batters',\n",
       " 'runs',\n",
       " 'blows',\n",
       " 'offerings',\n",
       " 'pitchers',\n",
       " 'doubles',\n",
       " 'chores',\n",
       " 'safeties',\n",
       " 'balls',\n",
       " 'pinch-hitters',\n",
       " 'pitches',\n",
       " 'tallies',\n",
       " 'runners',\n",
       " 'homers',\n",
       " 'players',\n",
       " 'pounds',\n",
       " 'breaks',\n",
       " 'hitters',\n",
       " 'specialists',\n",
       " 'champions',\n",
       " 'crowds',\n",
       " 'games',\n",
       " 'coaches',\n",
       " 'teammates',\n",
       " 'hurlers',\n",
       " 'colts',\n",
       " '$4,500',\n",
       " '$7.20',\n",
       " 'stages',\n",
       " 'furlongs',\n",
       " 'races',\n",
       " 'celebrants',\n",
       " '$842,617',\n",
       " 'stewards',\n",
       " 'horses',\n",
       " '$10,000',\n",
       " 'knights',\n",
       " 'mills',\n",
       " 'yards',\n",
       " 'thirds',\n",
       " 'tenths',\n",
       " 'plays',\n",
       " 'pads',\n",
       " 'tries',\n",
       " 'conversions',\n",
       " 'boys',\n",
       " 'helps',\n",
       " 'kicks',\n",
       " 'footnotes',\n",
       " 'longhorns',\n",
       " 'completions',\n",
       " 'attempts',\n",
       " 'kids',\n",
       " 'performances',\n",
       " 'stops',\n",
       " 'thrusts',\n",
       " 'reserves',\n",
       " 'owls',\n",
       " 'sweat-suits',\n",
       " 'reckonings',\n",
       " 'collectors',\n",
       " 'quarterbacks',\n",
       " 'broncs',\n",
       " 'spikes',\n",
       " 'linebackers',\n",
       " 'movies',\n",
       " 'passes',\n",
       " 'touchdowns',\n",
       " 'strikes',\n",
       " 'ball-carriers',\n",
       " 'statistics',\n",
       " 'tosses',\n",
       " 'leads',\n",
       " 'averages',\n",
       " 'checks',\n",
       " 'baseballs',\n",
       " 'leagues',\n",
       " 'tests',\n",
       " 'viewers',\n",
       " 'innings',\n",
       " 'bases',\n",
       " 'lights',\n",
       " 'twins',\n",
       " 'fans',\n",
       " 'reflexes',\n",
       " 'at-bats',\n",
       " 'newsmen',\n",
       " 'chances',\n",
       " 'sports',\n",
       " 'mad',\n",
       " 'masses',\n",
       " 'heroics',\n",
       " 'tongues',\n",
       " 'giants',\n",
       " 'feats',\n",
       " 'achievements',\n",
       " 'hearts',\n",
       " 'guys',\n",
       " 'rookies',\n",
       " 'laurels',\n",
       " 'lefthanders',\n",
       " 'reaches',\n",
       " 'sluggers',\n",
       " 'merits',\n",
       " 'boils',\n",
       " 'seasons',\n",
       " 'rulers',\n",
       " 'afternoons',\n",
       " 'reds',\n",
       " 'injuries',\n",
       " 'champs',\n",
       " 'bleachers',\n",
       " 'cardinals',\n",
       " 'eagles',\n",
       " '$20,000',\n",
       " '$25,000',\n",
       " 'ends',\n",
       " 'aerials',\n",
       " 'cufflinks',\n",
       " 'awards',\n",
       " 'pirates',\n",
       " 'writers',\n",
       " 'personalities',\n",
       " 'barriers',\n",
       " 'disappointments',\n",
       " 'majors',\n",
       " 'sands',\n",
       " 'matches',\n",
       " 'tournaments',\n",
       " 'golfers',\n",
       " 'masters',\n",
       " '$80,738',\n",
       " 'incompetents',\n",
       " 'frustrations',\n",
       " 'respects',\n",
       " 'pixies',\n",
       " 'zombies',\n",
       " 'banshees',\n",
       " 'bounds',\n",
       " 'shots',\n",
       " 'strokes',\n",
       " 'duffers',\n",
       " 'hackers',\n",
       " 'echoes',\n",
       " 'nerves',\n",
       " 'strings',\n",
       " 'competitors',\n",
       " 'rains',\n",
       " 'lies',\n",
       " 'fathers',\n",
       " 'amendments',\n",
       " 'teams',\n",
       " 'dates',\n",
       " 'bucks',\n",
       " 'bats',\n",
       " 'plunkers',\n",
       " 'cards',\n",
       " 'triumphs',\n",
       " 'words',\n",
       " 'honors',\n",
       " 'faults',\n",
       " 'lettermen',\n",
       " 'defeats',\n",
       " 'trips',\n",
       " 'cows',\n",
       " 'talents',\n",
       " 'careers',\n",
       " 'expectations',\n",
       " 'heights',\n",
       " \"rbi's\",\n",
       " 'peaks',\n",
       " 'professionals',\n",
       " 'sights',\n",
       " 'concerns',\n",
       " 'holidays',\n",
       " 'bulletins',\n",
       " 'uncles',\n",
       " 'aunts',\n",
       " 'butlers',\n",
       " 'huzzahs',\n",
       " 'ears',\n",
       " 'embassies',\n",
       " 'bushes',\n",
       " 'activities',\n",
       " 'dancers',\n",
       " 'dervishes',\n",
       " 'bows',\n",
       " 'invitations',\n",
       " 'arts',\n",
       " 'singers',\n",
       " 'songs',\n",
       " 'costumes',\n",
       " 'trees',\n",
       " 'streets',\n",
       " 'trains',\n",
       " 'shelters',\n",
       " 'pubs',\n",
       " 'nights',\n",
       " 'ethics',\n",
       " 'morals',\n",
       " 'appearances',\n",
       " 'makes',\n",
       " 'gals',\n",
       " 'phonies',\n",
       " 'phones',\n",
       " 'contribs',\n",
       " 'exhibitors',\n",
       " 'screenings',\n",
       " 'touches',\n",
       " 'charities',\n",
       " 'holders',\n",
       " 'packs',\n",
       " 'clashes',\n",
       " 'bombs',\n",
       " 'peasants',\n",
       " 'struggles',\n",
       " 'roles',\n",
       " 'medics',\n",
       " 'doings',\n",
       " 'misses',\n",
       " 'lessons',\n",
       " 'suggestions',\n",
       " 'boxes',\n",
       " 'dies',\n",
       " 'gods',\n",
       " 'guests',\n",
       " 'suites',\n",
       " 'grandparents',\n",
       " 'cocktails',\n",
       " 'juniors',\n",
       " 'decorations',\n",
       " 'qualities',\n",
       " 'covers',\n",
       " 'tasks',\n",
       " 'alcoholics',\n",
       " 'parolees',\n",
       " 'schedules',\n",
       " 'wants',\n",
       " 'presents',\n",
       " 'tickets',\n",
       " 'concerts',\n",
       " 'cookies',\n",
       " 'sweets',\n",
       " 'motel-keepers',\n",
       " 'suitcases',\n",
       " 'motels',\n",
       " 'stations',\n",
       " 'wagons',\n",
       " 'restaurants',\n",
       " 'offers',\n",
       " 'accommodations',\n",
       " 'tastes',\n",
       " 'peculiarities',\n",
       " 'pools',\n",
       " 'adults',\n",
       " 'tourists',\n",
       " '$14',\n",
       " 'chairs',\n",
       " 'towels',\n",
       " '$8.50',\n",
       " 'ants',\n",
       " 'attendants',\n",
       " 'appliques',\n",
       " 'gardenias',\n",
       " 'bridesmaids',\n",
       " 'groomsmen',\n",
       " 'newlyweds',\n",
       " 'orchids',\n",
       " 'studies',\n",
       " 'promises',\n",
       " 'prospects',\n",
       " 'hats',\n",
       " 'festivities',\n",
       " 'oysters',\n",
       " 'specialties',\n",
       " 'effects',\n",
       " 'flowers',\n",
       " 'reproductions',\n",
       " 'brothers',\n",
       " 'shelves',\n",
       " 'suburbs',\n",
       " 'bundles',\n",
       " 'dinners',\n",
       " 'fund-raisers',\n",
       " 'totals',\n",
       " '$840,000',\n",
       " 'husbands',\n",
       " 'hostesses',\n",
       " 'arrangements',\n",
       " 'duties',\n",
       " 'aides',\n",
       " 'controllers',\n",
       " 'models',\n",
       " 'decades',\n",
       " 'temperatures',\n",
       " 'posters',\n",
       " 'paintings',\n",
       " 'sponsors',\n",
       " 'artists',\n",
       " 'proceeds',\n",
       " 'levels',\n",
       " 'wins',\n",
       " 'co-chairmen',\n",
       " 'chairmen',\n",
       " 'hills',\n",
       " 'hosts',\n",
       " 'ladies',\n",
       " 'ballgowns',\n",
       " 'dances',\n",
       " 'panels',\n",
       " 'tiers',\n",
       " 'slippers',\n",
       " 'maids',\n",
       " 'ashes',\n",
       " 'roses',\n",
       " 'threads',\n",
       " 'sequins',\n",
       " 'beads',\n",
       " 'cuts',\n",
       " 'lay-offs',\n",
       " 'employees',\n",
       " 'supervisors',\n",
       " 'unions',\n",
       " 'wages',\n",
       " '$18',\n",
       " '$150',\n",
       " 'burns',\n",
       " 'discrepancies',\n",
       " 'commissioners',\n",
       " 'bodies',\n",
       " 'suits',\n",
       " 'misunderstandings',\n",
       " 'notes',\n",
       " 'boards',\n",
       " 'deficiencies',\n",
       " 'crews',\n",
       " 'storms',\n",
       " 'improvements',\n",
       " 'operations',\n",
       " 'laborers',\n",
       " 'tires',\n",
       " 'chains',\n",
       " 'merchants',\n",
       " 'observations',\n",
       " 'supplies',\n",
       " 'blades',\n",
       " 'victims',\n",
       " 'detectives',\n",
       " 'shootings',\n",
       " 'spirits',\n",
       " '$77,389,000',\n",
       " '$20,447,000',\n",
       " '$47,101,000',\n",
       " '$9,841,000',\n",
       " '$634,517,000',\n",
       " '$253,355,000',\n",
       " '$278,877,000',\n",
       " '$102,285,000',\n",
       " 'seekers',\n",
       " 'components',\n",
       " 'structures',\n",
       " 'stairs',\n",
       " 'balconies',\n",
       " 'secrets',\n",
       " 'agents',\n",
       " 'designs',\n",
       " 'subs',\n",
       " 'strongrooms',\n",
       " 'dots',\n",
       " 'marks',\n",
       " '1950s',\n",
       " '1960s',\n",
       " '$29,000',\n",
       " 'drawings',\n",
       " 'lawyers',\n",
       " 'clients',\n",
       " 'reactors',\n",
       " 'turbines',\n",
       " 'destroyers',\n",
       " 'ships',\n",
       " 'torpedoes',\n",
       " 'radiomen',\n",
       " 'signals',\n",
       " 'wavelengths',\n",
       " 'codes',\n",
       " 'lighters',\n",
       " 'narcotics',\n",
       " 'indictments',\n",
       " 'peddlers',\n",
       " 'addicts',\n",
       " 'rivalries',\n",
       " 'criminals',\n",
       " 'jealousies',\n",
       " 'grievances',\n",
       " 'mentions',\n",
       " 'compensations',\n",
       " 'comments',\n",
       " '$4,700',\n",
       " '$800',\n",
       " 'youths',\n",
       " '$40',\n",
       " '$214',\n",
       " 'homeowners',\n",
       " 'caskets',\n",
       " 'fumes',\n",
       " 'girls',\n",
       " 'arrears',\n",
       " 'meals',\n",
       " '$135',\n",
       " '$400',\n",
       " '$25',\n",
       " 'surpluses',\n",
       " 'troops',\n",
       " 'assaults',\n",
       " 'sources',\n",
       " 'squads',\n",
       " 'tribunals',\n",
       " 'collaborators',\n",
       " 'executions',\n",
       " 'rebels',\n",
       " 'rifles',\n",
       " 'jails',\n",
       " 'priests',\n",
       " 'prisoners',\n",
       " ...]"
      ]
     },
     "execution_count": 68,
     "metadata": {},
     "output_type": "execute_result"
    }
   ],
   "source": [
    "[word for word, fd in cfd.items() if fd['NNS'] > fd['NN']]"
   ]
  },
  {
   "cell_type": "markdown",
   "metadata": {},
   "source": [
    "b. Which word has the greatest number of distinct tags? What are they, and what\n",
    "do they represent?"
   ]
  },
  {
   "cell_type": "code",
   "execution_count": 70,
   "metadata": {},
   "outputs": [],
   "source": [
    "max_tag_number = max(len(fd) for word, fd in cfd.items())"
   ]
  },
  {
   "cell_type": "code",
   "execution_count": 71,
   "metadata": {},
   "outputs": [
    {
     "data": {
      "text/plain": [
       "['that']"
      ]
     },
     "execution_count": 71,
     "metadata": {},
     "output_type": "execute_result"
    }
   ],
   "source": [
    "[word for word, fd in cfd.items() if len(fd) == max_tag_number]"
   ]
  },
  {
   "cell_type": "code",
   "execution_count": 74,
   "metadata": {},
   "outputs": [
    {
     "data": {
      "text/plain": [
       "[('CS', 6464),\n",
       " ('DT', 2260),\n",
       " ('WPS', 1654),\n",
       " ('WPO', 135),\n",
       " ('QL', 56),\n",
       " ('DT-NC', 6),\n",
       " ('DT-TL', 5),\n",
       " ('WPS-TL', 3),\n",
       " ('WPS-NC', 3),\n",
       " ('CS-NC', 2),\n",
       " ('WPS-HL', 2),\n",
       " ('CS-HL', 1),\n",
       " ('DT-HL', 1),\n",
       " ('NIL', 1),\n",
       " ('WPO-NC', 1)]"
      ]
     },
     "execution_count": 74,
     "metadata": {},
     "output_type": "execute_result"
    }
   ],
   "source": [
    "cfd['that'].most_common()"
   ]
  },
  {
   "cell_type": "markdown",
   "metadata": {},
   "source": [
    "CS = Subordinating conjunction<div> DT = singular determiner/quantifier<div> WPS = nominative wh- pronoun<div> WPO = objective wh- pronoun<div> QL = qualifier<div> ..."
   ]
  },
  {
   "cell_type": "markdown",
   "metadata": {},
   "source": [
    "c. List tags in order of decreasing frequency. What do the 20 most frequent tags\n",
    "represent?"
   ]
  },
  {
   "cell_type": "code",
   "execution_count": 77,
   "metadata": {},
   "outputs": [],
   "source": [
    "fd = FreqDist(tag for word, tag in brown.tagged_words())"
   ]
  },
  {
   "cell_type": "code",
   "execution_count": 79,
   "metadata": {},
   "outputs": [
    {
     "data": {
      "text/plain": [
       "[('NN', 152470),\n",
       " ('IN', 120557),\n",
       " ('AT', 97959),\n",
       " ('JJ', 64028),\n",
       " ('.', 60638),\n",
       " (',', 58156),\n",
       " ('NNS', 55110),\n",
       " ('CC', 37718),\n",
       " ('RB', 36464),\n",
       " ('NP', 34476),\n",
       " ('VB', 33693),\n",
       " ('VBN', 29186),\n",
       " ('VBD', 26167),\n",
       " ('CS', 22143),\n",
       " ('PPS', 18253),\n",
       " ('VBG', 17893),\n",
       " ('PP$', 16872),\n",
       " ('TO', 14918),\n",
       " ('PPSS', 13802),\n",
       " ('CD', 13510)]"
      ]
     },
     "execution_count": 79,
     "metadata": {},
     "output_type": "execute_result"
    }
   ],
   "source": [
    "fd.most_common(20)"
   ]
  },
  {
   "cell_type": "markdown",
   "metadata": {},
   "source": [
    "NN = singular or mass noun<div>\n",
    "IN = preposition<div>\n",
    "AT = article (a, the, no)<div>\n",
    "JJ = adjective<div> \n",
    "..."
   ]
  },
  {
   "cell_type": "markdown",
   "metadata": {},
   "source": [
    "d. Which tags are nouns most commonly found after? What do these tags\n",
    "represent?"
   ]
  },
  {
   "cell_type": "code",
   "execution_count": 80,
   "metadata": {},
   "outputs": [],
   "source": [
    "fd = FreqDist(\n",
    "    t2 for (w1, t1), (w2, t2) \n",
    "    in nltk.bigrams(brown.tagged_words()) \n",
    "    if t1.startswith('N')\n",
    ")"
   ]
  },
  {
   "cell_type": "code",
   "execution_count": 83,
   "metadata": {},
   "outputs": [
    {
     "data": {
      "text/plain": [
       "[('IN', 60188),\n",
       " (',', 34229),\n",
       " ('.', 32338),\n",
       " ('NN', 16824),\n",
       " ('CC', 16080),\n",
       " ('NP', 9661),\n",
       " ('VBD', 9229),\n",
       " ('NNS', 7662),\n",
       " (\"''\", 5008),\n",
       " ('MD', 4957)]"
      ]
     },
     "execution_count": 83,
     "metadata": {},
     "output_type": "execute_result"
    }
   ],
   "source": [
    "fd.most_common(10)"
   ]
  },
  {
   "cell_type": "markdown",
   "metadata": {},
   "source": [
    "IN = preposition<div>\n",
    "',' = comma<div>\n",
    "'.' = sentence (. ; ? *)<div>\n",
    "NN = singular or mass noun<div>\n",
    "..."
   ]
  },
  {
   "cell_type": "markdown",
   "metadata": {},
   "source": [
    "# Exercise 16"
   ]
  },
  {
   "cell_type": "markdown",
   "metadata": {},
   "source": [
    "Explore the following issues that arise in connection with the lookup tagger:<div>\n",
    "a. What happens to the tagger performance for the various model sizes when am\n",
    "backoff tagger is omitted?<div>\n",
    "b. Consider the curve in Figure 5-4; suggest a good size for a lookup tagger that\n",
    "balances memory and performance. Can you come up with scenarios where it\n",
    "would be preferable to minimize memory usage, or to maximize performance\n",
    "with no regard for memory usage?"
   ]
  },
  {
   "cell_type": "code",
   "execution_count": 122,
   "metadata": {},
   "outputs": [],
   "source": [
    "import matplotlib.pyplot as plt\n",
    "\n",
    "from nltk.corpus import brown\n",
    "from nltk.tag import UnigramTagger, DefaultTagger\n",
    "from nltk.probability import ConditionalFreqDist, FreqDist"
   ]
  },
  {
   "cell_type": "code",
   "execution_count": 123,
   "metadata": {},
   "outputs": [],
   "source": [
    "%matplotlib inline"
   ]
  },
  {
   "cell_type": "code",
   "execution_count": 127,
   "metadata": {},
   "outputs": [],
   "source": [
    "def performance(cfd, wordlist, use_backoff=True):\n",
    "    lt = dict((word, cfd[word].max()) for word in wordlist)\n",
    "    baseline_tagger = UnigramTagger(\n",
    "        model=lt, \n",
    "        backoff=DefaultTagger('NN') if use_backoff else None\n",
    "    )\n",
    "    return baseline_tagger.evaluate(brown.tagged_sents(categories='news'))\n",
    "\n",
    "def performance_plot():\n",
    "    word_freqs = FreqDist(brown.words(categories='news')).most_common()\n",
    "    words_by_freq = [w for (w, _) in word_freqs]\n",
    "    cfd = ConditionalFreqDist(brown.tagged_words(categories='news'))\n",
    "    sizes = 2 ** np.arange(15)\n",
    "    perfs_backoff = [performance(cfd, words_by_freq[:size]) for size in sizes]\n",
    "    perfs_no_backoff = [performance(cfd, words_by_freq[:size], False) \n",
    "                        for size in sizes]\n",
    "    plt.plot(sizes, perfs_backoff, '-go', label='with backoff')\n",
    "    plt.plot(sizes, perfs_no_backoff, '-bo', label='no backout')\n",
    "    plt.title('Lookup Tagger Performance with Varying Model Size')\n",
    "    plt.xlabel('Model Size')\n",
    "    plt.ylabel('Performance')\n",
    "    plt.legend()"
   ]
  },
  {
   "cell_type": "code",
   "execution_count": 128,
   "metadata": {},
   "outputs": [
    {
     "data": {
      "image/png": "[encoded data removed]",
      "text/plain": [
       "<Figure size 720x360 with 1 Axes>"
      ]
     },
     "metadata": {
      "needs_background": "light"
     },
     "output_type": "display_data"
    }
   ],
   "source": [
    "plt.figure(figsize=(10, 5))\n",
    "performance_plot()\n",
    "plt.show()"
   ]
  },
  {
   "cell_type": "markdown",
   "metadata": {},
   "source": [
    "Performance increases when the model size increases, but you can get the higher value of performance earlier using backoff tagger."
   ]
  },
  {
   "cell_type": "markdown",
   "metadata": {},
   "source": [
    "The best example for my point of view is using lookup tagger in mobile phones. We have to have a tiny model that performs well. When you have no constraints and your goal is to get the highest performance - feel free to use maximum model size. "
   ]
  },
  {
   "cell_type": "markdown",
   "metadata": {},
   "source": [
    "# Exercise 17"
   ]
  },
  {
   "cell_type": "markdown",
   "metadata": {},
   "source": [
    "What is the upper limit of performance for a lookup tagger, assuming no limit\n",
    "to the size of its table? (Hint: write a program to work out what percentage of tokens\n",
    "of a word are assigned the most likely tag for that word, on average.)"
   ]
  },
  {
   "cell_type": "code",
   "execution_count": 136,
   "metadata": {},
   "outputs": [],
   "source": [
    "import matplotlib.pyplot as plt\n",
    "\n",
    "from nltk.corpus import brown\n",
    "from nltk.tag import UnigramTagger, DefaultTagger\n",
    "from nltk.probability import ConditionalFreqDist"
   ]
  },
  {
   "cell_type": "code",
   "execution_count": 137,
   "metadata": {},
   "outputs": [],
   "source": [
    "cfd = ConditionalFreqDist(brown.tagged_words())\n",
    "lt = {word: fd.max() for word, fd in cfd.items()}"
   ]
  },
  {
   "cell_type": "code",
   "execution_count": 138,
   "metadata": {},
   "outputs": [],
   "source": [
    "baseline_tagger = UnigramTagger(model=lt, backoff=DefaultTagger('NN'))"
   ]
  },
  {
   "cell_type": "code",
   "execution_count": 139,
   "metadata": {},
   "outputs": [
    {
     "data": {
      "text/plain": [
       "0.9245482228606466"
      ]
     },
     "execution_count": 139,
     "metadata": {},
     "output_type": "execute_result"
    }
   ],
   "source": [
    "baseline_tagger.evaluate(brown.tagged_sents())"
   ]
  },
  {
   "cell_type": "markdown",
   "metadata": {},
   "source": [
    "# Exercise 18"
   ]
  },
  {
   "cell_type": "markdown",
   "metadata": {},
   "source": [
    "Generate some statistics for tagged data to answer the following questions:"
   ]
  },
  {
   "cell_type": "code",
   "execution_count": 150,
   "metadata": {},
   "outputs": [],
   "source": [
    "from nltk.corpus import brown\n",
    "from nltk.probability import ConditionalFreqDist"
   ]
  },
  {
   "cell_type": "code",
   "execution_count": 151,
   "metadata": {},
   "outputs": [],
   "source": [
    "cfd = ConditionalFreqDist(brown.tagged_words())"
   ]
  },
  {
   "cell_type": "markdown",
   "metadata": {},
   "source": [
    "a. What proportion of word types are always assigned the same part-of-speech\n",
    "tag?"
   ]
  },
  {
   "cell_type": "code",
   "execution_count": 168,
   "metadata": {},
   "outputs": [
    {
     "data": {
      "text/plain": [
       "0.8442834971546819"
      ]
     },
     "execution_count": 168,
     "metadata": {},
     "output_type": "execute_result"
    }
   ],
   "source": [
    "len([fd for fd in cfd.values() if len(fd) == 1]) / len(cfd)"
   ]
  },
  {
   "cell_type": "markdown",
   "metadata": {},
   "source": [
    "b. How many words are ambiguous, in the sense that they appear with at least\n",
    "two tags?"
   ]
  },
  {
   "cell_type": "code",
   "execution_count": 169,
   "metadata": {},
   "outputs": [
    {
     "data": {
      "text/plain": [
       "8729"
      ]
     },
     "execution_count": 169,
     "metadata": {},
     "output_type": "execute_result"
    }
   ],
   "source": [
    "len([fd for fd in cfd.values() if len(fd) > 1])"
   ]
  },
  {
   "cell_type": "markdown",
   "metadata": {},
   "source": [
    "c. What percentage of word tokens in the Brown Corpus involve these ambiguous\n",
    "words?"
   ]
  },
  {
   "cell_type": "code",
   "execution_count": 170,
   "metadata": {},
   "outputs": [
    {
     "data": {
      "text/plain": [
       "0.7864892283102192"
      ]
     },
     "execution_count": 170,
     "metadata": {},
     "output_type": "execute_result"
    }
   ],
   "source": [
    "sum(fd.N() for fd in cfd.values() if len(fd) > 1) / cfd.N()"
   ]
  },
  {
   "cell_type": "markdown",
   "metadata": {},
   "source": [
    "# Exercise 19"
   ]
  },
  {
   "cell_type": "markdown",
   "metadata": {},
   "source": [
    "The evaluate() method works out how accurately the tagger performs on this\n",
    "text. For example, if the supplied tagged text was [('the', 'DT'), ('dog',\n",
    "'NN')] and the tagger produced the output [('the', 'NN'), ('dog', 'NN')], then\n",
    "the score would be 0.5. Let’s try to figure out how the evaluation method works:"
   ]
  },
  {
   "cell_type": "markdown",
   "metadata": {},
   "source": [
    "a. A tagger t takes a list of words as input, and produces a list of tagged words\n",
    "as output. However, t.evaluate() is given correctly tagged text as its only\n",
    "parameter. What must it do with this input before performing the tagging?"
   ]
  },
  {
   "cell_type": "markdown",
   "metadata": {},
   "source": [
    "Fetch the first component of each word-tag pair"
   ]
  },
  {
   "cell_type": "markdown",
   "metadata": {},
   "source": [
    "b. Once the tagger has created newly tagged text, how might the evaluate()\n",
    "method go about comparing it with the original tagged text and computing\n",
    "the accuracy score?"
   ]
  },
  {
   "cell_type": "markdown",
   "metadata": {},
   "source": [
    "After tagging flattening is performed then the next step is element-wise comparison"
   ]
  },
  {
   "cell_type": "markdown",
   "metadata": {},
   "source": [
    "c. Now examine the source code to see how the method is implemented. Inspect\n",
    "nltk.tag.api.__file__ to discover the location of the source code, and open\n",
    "this file using an editor (be sure to use the api.py file and not the compiled\n",
    "api.pyc binary file)."
   ]
  },
  {
   "attachments": {
    "image.png": {
     "image/png": "[encoded data removed]"
    }
   },
   "cell_type": "markdown",
   "metadata": {},
   "source": [
    "![image.png](attachment:image.png)"
   ]
  },
  {
   "cell_type": "markdown",
   "metadata": {},
   "source": [
    "# Exercise 20"
   ]
  },
  {
   "cell_type": "markdown",
   "metadata": {},
   "source": [
    "Write code to search the Brown Corpus for particular words and phrases according\n",
    "to tags, to answer the following questions:"
   ]
  },
  {
   "cell_type": "code",
   "execution_count": 216,
   "metadata": {},
   "outputs": [],
   "source": [
    "from nltk.corpus import brown\n",
    "from nltk.util import Index\n",
    "from nltk.probability import FreqDist"
   ]
  },
  {
   "cell_type": "code",
   "execution_count": 217,
   "metadata": {},
   "outputs": [],
   "source": [
    "brown_tag_index = Index(set((tag, word.lower())\n",
    "                        for word, tag in brown.tagged_words()))"
   ]
  },
  {
   "cell_type": "code",
   "execution_count": 224,
   "metadata": {},
   "outputs": [],
   "source": [
    "brown_fd = FreqDist(w.lower() for w in brown.words())"
   ]
  },
  {
   "cell_type": "markdown",
   "metadata": {},
   "source": [
    "a. Produce an alphabetically sorted list of the distinct words tagged as MD."
   ]
  },
  {
   "cell_type": "code",
   "execution_count": 219,
   "metadata": {},
   "outputs": [
    {
     "data": {
      "text/plain": [
       "['may',\n",
       " 'shall',\n",
       " 'should',\n",
       " 'can',\n",
       " \"c'n\",\n",
       " 'wilt',\n",
       " 'could',\n",
       " 'mayst',\n",
       " 'wold',\n",
       " 'would',\n",
       " 'shulde',\n",
       " 'wil',\n",
       " 'need',\n",
       " 'mai',\n",
       " 'ought',\n",
       " 'kin',\n",
       " 'might',\n",
       " 'wod',\n",
       " 'shuld',\n",
       " 'dare',\n",
       " 'colde',\n",
       " 'wolde',\n",
       " 'maye',\n",
       " 'maht',\n",
       " 'will',\n",
       " 'must']"
      ]
     },
     "execution_count": 219,
     "metadata": {},
     "output_type": "execute_result"
    }
   ],
   "source": [
    "brown_tag_index['MD']"
   ]
  },
  {
   "cell_type": "markdown",
   "metadata": {},
   "source": [
    "b. Identify words that can be plural nouns or third person singular verbs (e.g.,\n",
    "deals, flies)."
   ]
  },
  {
   "cell_type": "code",
   "execution_count": 220,
   "metadata": {},
   "outputs": [
    {
     "data": {
      "text/plain": [
       "{'accounts',\n",
       " 'acts',\n",
       " 'addresses',\n",
       " 'advances',\n",
       " 'affects',\n",
       " 'aids',\n",
       " 'aims',\n",
       " 'amounts',\n",
       " 'answers',\n",
       " 'appeals',\n",
       " 'approaches',\n",
       " 'arches',\n",
       " 'assaults',\n",
       " 'associates',\n",
       " 'attacks',\n",
       " 'attempts',\n",
       " 'attributes',\n",
       " 'backs',\n",
       " 'bangs',\n",
       " 'banks',\n",
       " 'bargains',\n",
       " 'bars',\n",
       " 'bases',\n",
       " 'bats',\n",
       " 'beats',\n",
       " 'bellows',\n",
       " 'belts',\n",
       " 'bends',\n",
       " 'benefits',\n",
       " 'bites',\n",
       " 'blankets',\n",
       " 'blots',\n",
       " 'blows',\n",
       " 'blueprints',\n",
       " 'boards',\n",
       " 'bodies',\n",
       " 'boils',\n",
       " 'borders',\n",
       " 'bores',\n",
       " 'bottles',\n",
       " 'bows',\n",
       " 'breaks',\n",
       " 'bridges',\n",
       " 'bristles',\n",
       " 'bubbles',\n",
       " 'bugs',\n",
       " 'bulletins',\n",
       " 'bullies',\n",
       " 'burns',\n",
       " 'butts',\n",
       " 'calls',\n",
       " 'caps',\n",
       " 'captures',\n",
       " 'cares',\n",
       " 'casts',\n",
       " 'catches',\n",
       " 'causes',\n",
       " 'censors',\n",
       " 'centers',\n",
       " 'challenges',\n",
       " 'champions',\n",
       " 'changes',\n",
       " 'charges',\n",
       " 'checks',\n",
       " 'claims',\n",
       " 'claps',\n",
       " 'clicks',\n",
       " 'clouds',\n",
       " 'clucks',\n",
       " 'clutches',\n",
       " 'colors',\n",
       " 'commands',\n",
       " 'comments',\n",
       " 'compounds',\n",
       " 'compresses',\n",
       " 'concentrates',\n",
       " 'concerns',\n",
       " 'conducts',\n",
       " 'conflicts',\n",
       " 'contacts',\n",
       " 'contracts',\n",
       " 'contrasts',\n",
       " 'controls',\n",
       " 'coordinates',\n",
       " 'costs',\n",
       " 'counts',\n",
       " 'courts',\n",
       " 'covers',\n",
       " 'cracks',\n",
       " 'credits',\n",
       " 'cries',\n",
       " 'crops',\n",
       " 'crosses',\n",
       " 'cuts',\n",
       " 'cycles',\n",
       " 'damages',\n",
       " 'dances',\n",
       " 'dashes',\n",
       " 'dates',\n",
       " 'deals',\n",
       " 'declines',\n",
       " 'decreases',\n",
       " 'decrees',\n",
       " 'deeds',\n",
       " 'delays',\n",
       " 'delights',\n",
       " 'demands',\n",
       " 'deserts',\n",
       " 'designs',\n",
       " 'desires',\n",
       " 'dictates',\n",
       " 'dies',\n",
       " 'dishes',\n",
       " 'dislikes',\n",
       " 'displays',\n",
       " 'dogs',\n",
       " 'doubles',\n",
       " 'drains',\n",
       " 'dreams',\n",
       " 'drifts',\n",
       " 'drinks',\n",
       " 'drives',\n",
       " 'drops',\n",
       " 'dwarfs',\n",
       " 'embraces',\n",
       " 'encounters',\n",
       " 'ends',\n",
       " 'equals',\n",
       " 'escapes',\n",
       " 'estimates',\n",
       " 'excuses',\n",
       " 'exercises',\n",
       " 'exhibits',\n",
       " 'experiences',\n",
       " 'extracts',\n",
       " 'faces',\n",
       " 'factors',\n",
       " 'falls',\n",
       " 'fans',\n",
       " 'fashions',\n",
       " 'favors',\n",
       " 'fears',\n",
       " 'features',\n",
       " 'feeds',\n",
       " 'fields',\n",
       " 'fights',\n",
       " 'figures',\n",
       " 'files',\n",
       " 'finishes',\n",
       " 'fishes',\n",
       " 'fits',\n",
       " 'flags',\n",
       " 'flares',\n",
       " 'flies',\n",
       " 'flourishes',\n",
       " 'flows',\n",
       " 'forces',\n",
       " 'forms',\n",
       " 'fractures',\n",
       " 'functions',\n",
       " 'gains',\n",
       " 'gestures',\n",
       " 'glories',\n",
       " 'graduates',\n",
       " 'guarantees',\n",
       " 'guides',\n",
       " 'handles',\n",
       " 'harbors',\n",
       " 'hates',\n",
       " 'hauls',\n",
       " 'haunts',\n",
       " 'heads',\n",
       " 'helps',\n",
       " 'hides',\n",
       " 'hinges',\n",
       " 'hints',\n",
       " 'hits',\n",
       " 'holds',\n",
       " 'honors',\n",
       " 'hopes',\n",
       " 'houses',\n",
       " 'howls',\n",
       " 'hunts',\n",
       " 'hurts',\n",
       " 'imports',\n",
       " 'increases',\n",
       " 'influences',\n",
       " 'initiates',\n",
       " 'interests',\n",
       " 'issues',\n",
       " 'jokes',\n",
       " 'jumps',\n",
       " 'keeps',\n",
       " 'kicks',\n",
       " 'kids',\n",
       " 'kills',\n",
       " 'kisses',\n",
       " 'knocks',\n",
       " 'knuckles',\n",
       " 'labels',\n",
       " 'labors',\n",
       " 'lags',\n",
       " 'lands',\n",
       " 'laps',\n",
       " 'lapses',\n",
       " 'laughs',\n",
       " 'lays',\n",
       " 'leads',\n",
       " 'leaps',\n",
       " 'leases',\n",
       " 'leaves',\n",
       " 'levels',\n",
       " 'lies',\n",
       " 'lifts',\n",
       " 'lights',\n",
       " 'likes',\n",
       " 'limits',\n",
       " 'lines',\n",
       " 'lists',\n",
       " 'lives',\n",
       " 'looks',\n",
       " 'looms',\n",
       " 'loves',\n",
       " 'makes',\n",
       " 'marches',\n",
       " 'markets',\n",
       " 'marks',\n",
       " 'matches',\n",
       " 'matters',\n",
       " 'means',\n",
       " 'measures',\n",
       " 'meets',\n",
       " 'mentions',\n",
       " 'merits',\n",
       " 'mirrors',\n",
       " 'misses',\n",
       " 'mistakes',\n",
       " 'moderates',\n",
       " 'mounts',\n",
       " 'moves',\n",
       " 'names',\n",
       " 'needs',\n",
       " 'notes',\n",
       " 'numbers',\n",
       " 'objects',\n",
       " 'offers',\n",
       " 'orders',\n",
       " 'outlines',\n",
       " 'paints',\n",
       " 'parades',\n",
       " 'parallels',\n",
       " 'passes',\n",
       " 'pauses',\n",
       " 'peers',\n",
       " 'permits',\n",
       " 'petitions',\n",
       " 'phones',\n",
       " 'photographs',\n",
       " 'picks',\n",
       " 'pictures',\n",
       " 'piles',\n",
       " 'places',\n",
       " 'plans',\n",
       " 'plays',\n",
       " 'plots',\n",
       " 'plunges',\n",
       " 'points',\n",
       " 'powers',\n",
       " 'practices',\n",
       " 'presents',\n",
       " 'preserves',\n",
       " 'presses',\n",
       " 'proceeds',\n",
       " 'projects',\n",
       " 'promises',\n",
       " 'protests',\n",
       " 'pulls',\n",
       " 'purchases',\n",
       " 'purges',\n",
       " 'pushes',\n",
       " 'quarrels',\n",
       " 'questions',\n",
       " 'rains',\n",
       " 'raises',\n",
       " 'rallies',\n",
       " 'ranches',\n",
       " 'ranges',\n",
       " 'ranks',\n",
       " 'rates',\n",
       " 'reaches',\n",
       " 'reasons',\n",
       " 'rebels',\n",
       " 'records',\n",
       " 'regards',\n",
       " 'registers',\n",
       " 'regrets',\n",
       " 'releases',\n",
       " 'remains',\n",
       " 'remarks',\n",
       " 'replies',\n",
       " 'reports',\n",
       " 'requests',\n",
       " 'reserves',\n",
       " 'respects',\n",
       " 'rests',\n",
       " 'results',\n",
       " 'returns',\n",
       " 'reviews',\n",
       " 'rides',\n",
       " 'rings',\n",
       " 'rises',\n",
       " 'rocks',\n",
       " 'rolls',\n",
       " 'rules',\n",
       " 'runs',\n",
       " 'rushes',\n",
       " 'sanctions',\n",
       " 'says',\n",
       " 'scales',\n",
       " 'scans',\n",
       " 'seals',\n",
       " 'searches',\n",
       " 'senses',\n",
       " 'services',\n",
       " 'sets',\n",
       " 'shakes',\n",
       " 'shapes',\n",
       " 'shares',\n",
       " 'sheds',\n",
       " 'shifts',\n",
       " 'shocks',\n",
       " 'shouts',\n",
       " 'shows',\n",
       " 'signals',\n",
       " 'signs',\n",
       " 'sketches',\n",
       " 'skins',\n",
       " 'skirts',\n",
       " 'slips',\n",
       " 'smells',\n",
       " 'smiles',\n",
       " 'snatches',\n",
       " 'sneers',\n",
       " 'snowballs',\n",
       " 'snows',\n",
       " 'solos',\n",
       " 'sounds',\n",
       " 'spans',\n",
       " 'sparks',\n",
       " 'speeds',\n",
       " 'spies',\n",
       " 'splashes',\n",
       " 'splits',\n",
       " 'sponsors',\n",
       " 'sports',\n",
       " 'spreads',\n",
       " 'springs',\n",
       " 'stains',\n",
       " 'stakes',\n",
       " 'stands',\n",
       " 'starts',\n",
       " 'states',\n",
       " 'stays',\n",
       " 'stems',\n",
       " 'steps',\n",
       " 'sticks',\n",
       " 'stops',\n",
       " 'stresses',\n",
       " 'stretches',\n",
       " 'strikes',\n",
       " 'struggles',\n",
       " 'studies',\n",
       " 'subjects',\n",
       " 'suits',\n",
       " 'sums',\n",
       " 'supplies',\n",
       " 'supports',\n",
       " 'surveys',\n",
       " 'switches',\n",
       " 'swoops',\n",
       " 'talks',\n",
       " 'tastes',\n",
       " 'terms',\n",
       " 'tests',\n",
       " 'thrusts',\n",
       " 'ties',\n",
       " 'times',\n",
       " 'tires',\n",
       " 'tops',\n",
       " 'tortures',\n",
       " 'totals',\n",
       " 'touches',\n",
       " 'towers',\n",
       " 'toys',\n",
       " 'traces',\n",
       " 'trades',\n",
       " 'trains',\n",
       " 'transfers',\n",
       " 'transports',\n",
       " 'traps',\n",
       " 'travels',\n",
       " 'treats',\n",
       " 'tries',\n",
       " 'trusts',\n",
       " 'turns',\n",
       " 'upsets',\n",
       " 'urges',\n",
       " 'uses',\n",
       " 'values',\n",
       " 'views',\n",
       " 'visits',\n",
       " 'votes',\n",
       " 'vows',\n",
       " 'walks',\n",
       " 'wants',\n",
       " 'watches',\n",
       " 'weights',\n",
       " 'winds',\n",
       " 'wins',\n",
       " 'wishes',\n",
       " 'wonders',\n",
       " 'works',\n",
       " 'worries',\n",
       " 'wrenches',\n",
       " 'yields'}"
      ]
     },
     "execution_count": 220,
     "metadata": {},
     "output_type": "execute_result"
    }
   ],
   "source": [
    "set(brown_tag_index['NNS']) & set(brown_tag_index['VBZ'])"
   ]
  },
  {
   "cell_type": "markdown",
   "metadata": {},
   "source": [
    "c. Identify three-word prepositional phrases of the form IN + DET + NN (e.g.,\n",
    "in the lab)."
   ]
  },
  {
   "cell_type": "code",
   "execution_count": 222,
   "metadata": {},
   "outputs": [
    {
     "data": {
      "text/plain": [
       "[\"'bout the saddle\",\n",
       " \"'ceptin' the light\",\n",
       " 'About the murder',\n",
       " 'Above the tongue',\n",
       " 'Across the bay',\n",
       " 'Across the bridge',\n",
       " 'Across the front',\n",
       " 'Across the road',\n",
       " 'Across the street',\n",
       " 'Across the table',\n",
       " 'Across the way',\n",
       " 'After a conversation',\n",
       " 'After a day',\n",
       " 'After a dinner',\n",
       " 'After a flood',\n",
       " 'After a minute',\n",
       " 'After a moment',\n",
       " 'After a pause',\n",
       " 'After a reception',\n",
       " 'After a roundup',\n",
       " 'After a sort',\n",
       " 'After a supper',\n",
       " 'After a time',\n",
       " 'After a while',\n",
       " 'After a year',\n",
       " 'After an earthquake',\n",
       " 'After every money',\n",
       " 'After every session',\n",
       " 'After the collapse',\n",
       " 'After the demise',\n",
       " 'After the diagnosing',\n",
       " 'After the game',\n",
       " 'After the meal',\n",
       " 'After the meeting',\n",
       " 'After the pegboard',\n",
       " 'After the soil',\n",
       " 'After the spate',\n",
       " 'After the storm',\n",
       " 'After the war',\n",
       " 'Against the ruin',\n",
       " 'Along the way',\n",
       " 'Amid a shortage',\n",
       " 'Amid the crackle',\n",
       " 'Among the policy',\n",
       " 'Around the billiard',\n",
       " 'Around the table',\n",
       " 'As a result',\n",
       " 'At a ceremony',\n",
       " 'At a minimum',\n",
       " 'At a nod',\n",
       " 'At a party',\n",
       " 'At a rate',\n",
       " 'At a reception',\n",
       " 'At a siding',\n",
       " 'At no time',\n",
       " 'At the Seashore',\n",
       " 'At the adoption',\n",
       " 'At the age',\n",
       " 'At the base',\n",
       " 'At the beginning',\n",
       " 'At the bottom',\n",
       " 'At the close',\n",
       " 'At the conclusion',\n",
       " 'At the door',\n",
       " 'At the doorway',\n",
       " 'At the edge',\n",
       " 'At the end',\n",
       " 'At the entrance',\n",
       " 'At the gate',\n",
       " 'At the head',\n",
       " 'At the heart',\n",
       " 'At the height',\n",
       " 'At the inn',\n",
       " 'At the inquest',\n",
       " 'At the insistence',\n",
       " 'At the landing',\n",
       " 'At the meeting',\n",
       " 'At the moment',\n",
       " 'At the nadir',\n",
       " 'At the opening',\n",
       " 'At the order',\n",
       " 'At the outset',\n",
       " 'At the peak',\n",
       " 'At the point',\n",
       " 'At the rate',\n",
       " 'At the rear',\n",
       " 'At the risk',\n",
       " 'At the scene',\n",
       " 'At the sight',\n",
       " 'At the start',\n",
       " 'At the time',\n",
       " 'At the top',\n",
       " 'At the trial',\n",
       " 'At the workshop',\n",
       " 'Below the fort',\n",
       " 'Beneath the dome',\n",
       " 'Besides the bundle',\n",
       " 'Besides the lack',\n",
       " 'Besides the presence',\n",
       " 'Between the telephone',\n",
       " 'Beyond the forest',\n",
       " 'Beyond the stockade',\n",
       " 'By a combination',\n",
       " 'By an effort',\n",
       " 'By the age',\n",
       " 'By the death',\n",
       " 'By the end',\n",
       " 'By the look',\n",
       " 'By the middle',\n",
       " 'By the time',\n",
       " 'By the use',\n",
       " 'By the way',\n",
       " 'Concerning the sentence',\n",
       " 'Considering the nature',\n",
       " 'Considering the state',\n",
       " 'Despite an ambiguity',\n",
       " 'Despite the clarity',\n",
       " 'Despite the excitement',\n",
       " 'Despite the fact',\n",
       " 'Despite the hopelessness',\n",
       " 'Despite the lip',\n",
       " 'Despite the opposition',\n",
       " 'Despite the recession',\n",
       " 'Despite the rejection',\n",
       " 'Down the boulevard',\n",
       " 'Down the tree',\n",
       " 'During a round',\n",
       " 'During a sojourn',\n",
       " 'During the assignment',\n",
       " 'During the biennium',\n",
       " 'During the course',\n",
       " 'During the decade',\n",
       " 'During the discharge',\n",
       " 'During the election',\n",
       " 'During the excitement',\n",
       " 'During the making',\n",
       " 'During the month',\n",
       " 'During the morning',\n",
       " 'During the night',\n",
       " 'During the pension',\n",
       " 'During the period',\n",
       " 'During the quarrel',\n",
       " 'During the rest',\n",
       " 'During the return',\n",
       " 'During the summer',\n",
       " 'During the trial',\n",
       " 'During the trip',\n",
       " 'During the war',\n",
       " 'During the year',\n",
       " 'Following the term',\n",
       " 'For a chemical',\n",
       " 'For a man',\n",
       " 'For a minute',\n",
       " 'For a moment',\n",
       " 'For a number',\n",
       " 'For a resort',\n",
       " 'For a steak',\n",
       " 'For a time',\n",
       " 'For a while',\n",
       " 'For a year',\n",
       " 'For an anthropologist',\n",
       " 'For an antique',\n",
       " 'For an engine',\n",
       " 'For an example',\n",
       " 'For an experiment',\n",
       " 'For an instant',\n",
       " 'For every person',\n",
       " 'For the albumin',\n",
       " 'For the army',\n",
       " 'For the boy',\n",
       " 'For the case',\n",
       " 'For the convenience',\n",
       " 'For the dignity',\n",
       " 'For the figure',\n",
       " 'For the future',\n",
       " 'For the government',\n",
       " 'For the industry',\n",
       " 'For the interpretation',\n",
       " 'For the low-temperature',\n",
       " 'For the maintenance',\n",
       " 'For the marksman',\n",
       " 'For the moment',\n",
       " 'For the occasion',\n",
       " 'For the present',\n",
       " 'For the president',\n",
       " 'For the prevention',\n",
       " 'For the purpose',\n",
       " 'For the reason',\n",
       " 'For the remainder',\n",
       " 'For the school',\n",
       " 'For the treatment',\n",
       " 'For the use',\n",
       " 'For the vertex',\n",
       " 'For the year',\n",
       " 'From a man',\n",
       " 'From a pen',\n",
       " 'From an exercise',\n",
       " 'From the back',\n",
       " 'From the beginning',\n",
       " 'From the brightness',\n",
       " 'From the coil',\n",
       " 'From the collection',\n",
       " 'From the crowd',\n",
       " 'From the curio',\n",
       " 'From the equilibrium',\n",
       " 'From the evidence',\n",
       " 'From the luggage',\n",
       " 'From the man',\n",
       " 'From the moment',\n",
       " 'From the night',\n",
       " 'From the outset',\n",
       " 'From the outside',\n",
       " 'From the point',\n",
       " 'From the standpoint',\n",
       " 'From the time',\n",
       " 'From the town',\n",
       " 'From the volume',\n",
       " 'From the way',\n",
       " 'From the wealth',\n",
       " 'In a B',\n",
       " 'In a book',\n",
       " 'In a camp',\n",
       " 'In a climate',\n",
       " 'In a controversy',\n",
       " 'In a course',\n",
       " 'In a flash',\n",
       " 'In a fraction',\n",
       " 'In a frenzy',\n",
       " 'In a kind',\n",
       " 'In a letter',\n",
       " 'In a matter',\n",
       " 'In a minute',\n",
       " 'In a neighborhood',\n",
       " 'In a sample',\n",
       " 'In a saucepan',\n",
       " 'In a sense',\n",
       " 'In a series',\n",
       " 'In a set',\n",
       " 'In a society',\n",
       " 'In a story',\n",
       " 'In a stream',\n",
       " 'In a succession',\n",
       " 'In a symposium',\n",
       " 'In a time',\n",
       " 'In a total',\n",
       " 'In a tour',\n",
       " 'In a voice',\n",
       " 'In a waterfall',\n",
       " 'In a way',\n",
       " 'In a week',\n",
       " 'In a word',\n",
       " 'In a year',\n",
       " 'In an FELA',\n",
       " 'In an age',\n",
       " 'In an attempt',\n",
       " 'In an effort',\n",
       " 'In an emergency',\n",
       " 'In an hour',\n",
       " 'In an instant',\n",
       " 'In every aspect',\n",
       " 'In every war',\n",
       " 'In no way',\n",
       " 'In the C-plane',\n",
       " 'In the GE',\n",
       " 'In the absence',\n",
       " 'In the academic',\n",
       " 'In the adult',\n",
       " 'In the afternoon',\n",
       " 'In the allocation',\n",
       " 'In the apartment',\n",
       " 'In the area',\n",
       " 'In the arena',\n",
       " 'In the audience',\n",
       " 'In the autumn',\n",
       " 'In the background',\n",
       " 'In the ballroom',\n",
       " 'In the basement',\n",
       " 'In the bedroom',\n",
       " 'In the budget',\n",
       " 'In the calm',\n",
       " 'In the case',\n",
       " 'In the center',\n",
       " 'In the century',\n",
       " 'In the child',\n",
       " 'In the city',\n",
       " 'In the clay',\n",
       " 'In the comedy',\n",
       " 'In the command',\n",
       " 'In the conduct',\n",
       " 'In the corner',\n",
       " 'In the course',\n",
       " 'In the court',\n",
       " 'In the cow',\n",
       " 'In the darkness',\n",
       " 'In the daytime',\n",
       " 'In the discussion',\n",
       " 'In the distance',\n",
       " 'In the ditch',\n",
       " 'In the electronics',\n",
       " 'In the end',\n",
       " 'In the evening',\n",
       " 'In the event',\n",
       " 'In the eyepiece',\n",
       " 'In the f-plane',\n",
       " 'In the face',\n",
       " 'In the fall',\n",
       " 'In the field',\n",
       " 'In the forest',\n",
       " 'In the forthcoming',\n",
       " 'In the frame',\n",
       " 'In the fullness',\n",
       " 'In the future',\n",
       " 'In the garage',\n",
       " 'In the gas',\n",
       " 'In the gastrocnemius',\n",
       " 'In the graveyard',\n",
       " 'In the hall',\n",
       " 'In the heat',\n",
       " 'In the household',\n",
       " 'In the hush',\n",
       " 'In the hut',\n",
       " 'In the imagination',\n",
       " 'In the interim',\n",
       " 'In the issue',\n",
       " 'In the jakes',\n",
       " 'In the judgment',\n",
       " 'In the jungle',\n",
       " 'In the kitchen',\n",
       " 'In the kitchenette',\n",
       " 'In the last',\n",
       " 'In the life',\n",
       " 'In the light',\n",
       " 'In the line',\n",
       " 'In the mail',\n",
       " 'In the majority',\n",
       " 'In the market',\n",
       " 'In the marksmanship',\n",
       " 'In the matter',\n",
       " 'In the meadow',\n",
       " 'In the meantime',\n",
       " 'In the middle',\n",
       " 'In the midst',\n",
       " 'In the morning',\n",
       " 'In the mystery',\n",
       " 'In the neighborhood',\n",
       " 'In the notation',\n",
       " 'In the office',\n",
       " 'In the orchestra',\n",
       " 'In the parapsychology',\n",
       " 'In the past',\n",
       " 'In the period',\n",
       " 'In the pity',\n",
       " 'In the poem',\n",
       " 'In the practice',\n",
       " 'In the prayer',\n",
       " 'In the preamble',\n",
       " 'In the preparation',\n",
       " 'In the prepolymer',\n",
       " 'In the presence',\n",
       " 'In the present',\n",
       " 'In the prison',\n",
       " 'In the process',\n",
       " 'In the quantity',\n",
       " 'In the railway',\n",
       " 'In the range',\n",
       " 'In the realm',\n",
       " 'In the remainder',\n",
       " 'In the room',\n",
       " 'In the search',\n",
       " 'In the second-order',\n",
       " 'In the shade',\n",
       " 'In the silence',\n",
       " 'In the solitude',\n",
       " 'In the spring',\n",
       " 'In the starlight',\n",
       " 'In the state',\n",
       " 'In the stock',\n",
       " 'In the story',\n",
       " 'In the street',\n",
       " 'In the study',\n",
       " 'In the summary',\n",
       " 'In the summer',\n",
       " 'In the sunshine',\n",
       " 'In the system',\n",
       " 'In the thyroid',\n",
       " 'In the tool',\n",
       " 'In the tune',\n",
       " 'In the university',\n",
       " 'In the village',\n",
       " 'In the winter',\n",
       " 'In the work',\n",
       " 'Including the brightness',\n",
       " 'Inside the crown',\n",
       " 'Inside the lobby',\n",
       " 'Inside the passage',\n",
       " 'Into the emptiness',\n",
       " 'Into the texture',\n",
       " 'Near the end',\n",
       " 'Of the handful',\n",
       " 'On a shelf',\n",
       " 'On a stage',\n",
       " 'On a team',\n",
       " 'On an impulse',\n",
       " 'On the Farm',\n",
       " 'On the anniversary',\n",
       " 'On the back',\n",
       " 'On the basis',\n",
       " 'On the beach',\n",
       " 'On the boat',\n",
       " 'On the brief',\n",
       " 'On the clock',\n",
       " 'On the contrary',\n",
       " 'On the death',\n",
       " 'On the eve',\n",
       " 'On the evening',\n",
       " 'On the face',\n",
       " 'On the fringe',\n",
       " 'On the glass',\n",
       " 'On the ground',\n",
       " 'On the highway',\n",
       " 'On the hillside',\n",
       " 'On the morning',\n",
       " 'On the occasion',\n",
       " 'On the parade',\n",
       " 'On the positivist',\n",
       " 'On the question',\n",
       " 'On the record',\n",
       " 'On the remainder',\n",
       " 'On the side',\n",
       " 'On the stage',\n",
       " 'On the street',\n",
       " 'On the surface',\n",
       " 'On the theory',\n",
       " 'On the train',\n",
       " 'On the truck',\n",
       " 'On the wall',\n",
       " 'On the way',\n",
       " 'Opposite every gate',\n",
       " 'Opposite the number',\n",
       " 'Outside the hall',\n",
       " 'Outside the office',\n",
       " 'Over a temperature',\n",
       " 'Over the door',\n",
       " 'Over the weekend',\n",
       " 'Pending the reorganization',\n",
       " 'Plus the fact',\n",
       " 'Since the change',\n",
       " 'Since the course',\n",
       " 'Since the time-span',\n",
       " 'Since the war',\n",
       " 'Through a door',\n",
       " \"Through the SBA's\",\n",
       " 'Through the door',\n",
       " 'Through the gloom',\n",
       " 'Through the splash',\n",
       " 'Through the telescope',\n",
       " 'Throughout the history',\n",
       " 'Throughout the land',\n",
       " 'Throughout the period',\n",
       " 'Throughout the rest',\n",
       " 'Throughout the work',\n",
       " 'Throughout the world',\n",
       " 'Throughout the year',\n",
       " 'To a novice',\n",
       " 'To a ranch',\n",
       " 'To a stranger',\n",
       " 'To an extent',\n",
       " 'To the average',\n",
       " 'To the extent',\n",
       " 'To the graveyard',\n",
       " 'To the hotel',\n",
       " 'To the manner',\n",
       " 'To the manufacturer',\n",
       " 'To the middle',\n",
       " 'To the pope',\n",
       " 'To the stump',\n",
       " 'Toward the break',\n",
       " 'Toward the end',\n",
       " 'Towards the end',\n",
       " 'Under the excitement',\n",
       " 'Under the heading',\n",
       " 'Under the influence',\n",
       " 'Under the law',\n",
       " 'Under the proposal',\n",
       " 'Under the sponsorship',\n",
       " 'Under the surface',\n",
       " 'Under the window',\n",
       " 'Until the advent',\n",
       " 'Upon a visit',\n",
       " 'Upon the expiration',\n",
       " 'With a 15,500-lb.',\n",
       " 'With a bellow',\n",
       " 'With a cop',\n",
       " 'With a curse',\n",
       " 'With a laugh',\n",
       " 'With a lefthander',\n",
       " 'With a nation',\n",
       " 'With a roar',\n",
       " 'With a snakestrike',\n",
       " 'With a sneer',\n",
       " 'With a unit',\n",
       " 'With an art',\n",
       " 'With no company',\n",
       " 'With the advent',\n",
       " 'With the aid',\n",
       " 'With the announcement',\n",
       " 'With the birth',\n",
       " 'With the boy',\n",
       " 'With the co-operation',\n",
       " 'With the development',\n",
       " 'With the diversity',\n",
       " 'With the dominance',\n",
       " 'With the end',\n",
       " 'With the exception',\n",
       " 'With the existence',\n",
       " 'With the expansion',\n",
       " 'With the field',\n",
       " 'With the group',\n",
       " 'With the gully',\n",
       " 'With the help',\n",
       " 'With the knowledge',\n",
       " 'With the loss',\n",
       " 'With the machinery',\n",
       " 'With the metal',\n",
       " 'With the money',\n",
       " 'With the resumption',\n",
       " 'With the return',\n",
       " 'With the rise',\n",
       " 'With the source',\n",
       " 'With the speed',\n",
       " 'With the spring',\n",
       " 'With the transit',\n",
       " 'With the vertex',\n",
       " 'Within a decade',\n",
       " 'Within a month',\n",
       " 'Within a system',\n",
       " 'Within a week',\n",
       " 'Within a year',\n",
       " 'Within the individual',\n",
       " 'Within the membership',\n",
       " 'Within the pseudophloem',\n",
       " 'Without a system',\n",
       " 'Without a tremor',\n",
       " 'Without the decay',\n",
       " 'about a boy',\n",
       " 'about a call',\n",
       " 'about a course',\n",
       " 'about a dinner',\n",
       " 'about a fumed-oak',\n",
       " 'about a group',\n",
       " 'about a half-mile',\n",
       " 'about a hero',\n",
       " 'about a lug',\n",
       " 'about a man',\n",
       " 'about a meeting',\n",
       " 'about a month',\n",
       " 'about a picture',\n",
       " 'about a piece',\n",
       " 'about a problem',\n",
       " 'about a rancher',\n",
       " 'about a recession',\n",
       " 'about a rookie',\n",
       " 'about a series',\n",
       " 'about a sit-down',\n",
       " 'about a steak',\n",
       " 'about a suit',\n",
       " 'about a tea',\n",
       " 'about a year',\n",
       " 'about an action',\n",
       " 'about an attempt',\n",
       " 'about every patient',\n",
       " 'about the **yf',\n",
       " 'about the Z',\n",
       " 'about the advisability',\n",
       " 'about the appeal',\n",
       " 'about the area',\n",
       " 'about the art',\n",
       " 'about the audit',\n",
       " 'about the battle',\n",
       " 'about the beach',\n",
       " 'about the bedroom',\n",
       " 'about the boy',\n",
       " 'about the building',\n",
       " 'about the car',\n",
       " 'about the case',\n",
       " 'about the chance',\n",
       " 'about the changing',\n",
       " 'about the child',\n",
       " 'about the church',\n",
       " 'about the civilization',\n",
       " 'about the clerk',\n",
       " 'about the coming',\n",
       " 'about the contour',\n",
       " 'about the couple',\n",
       " 'about the craft',\n",
       " 'about the crime',\n",
       " 'about the deadlock',\n",
       " 'about the deck',\n",
       " 'about the difference',\n",
       " 'about the distance',\n",
       " 'about the dollar-sign',\n",
       " 'about the dress',\n",
       " 'about the epithet',\n",
       " 'about the face',\n",
       " 'about the family',\n",
       " 'about the fate',\n",
       " 'about the fire',\n",
       " 'about the food',\n",
       " 'about the forge',\n",
       " 'about the form',\n",
       " 'about the furnace',\n",
       " 'about the future',\n",
       " 'about the game',\n",
       " 'about the graph',\n",
       " 'about the hall',\n",
       " 'about the history',\n",
       " 'about the house',\n",
       " 'about the humidity',\n",
       " 'about the idea',\n",
       " 'about the image',\n",
       " 'about the impact',\n",
       " 'about the impasse',\n",
       " 'about the incantation',\n",
       " 'about the individual',\n",
       " 'about the infection',\n",
       " 'about the influence',\n",
       " 'about the injustice',\n",
       " 'about the interview',\n",
       " 'about the kid',\n",
       " 'about the kitchen',\n",
       " 'about the lady',\n",
       " 'about the loquacity',\n",
       " 'about the matter',\n",
       " 'about the micrometeorite',\n",
       " 'about the middle',\n",
       " 'about the money',\n",
       " 'about the mouth',\n",
       " 'about the move',\n",
       " 'about the murder',\n",
       " 'about the nature',\n",
       " 'about the nightmare',\n",
       " 'about the outcome',\n",
       " 'about the output',\n",
       " 'about the past',\n",
       " 'about the patient',\n",
       " 'about the place',\n",
       " 'about the pollen',\n",
       " 'about the present',\n",
       " 'about the prevalence',\n",
       " 'about the price',\n",
       " 'about the priming',\n",
       " 'about the principle',\n",
       " 'about the problem',\n",
       " 'about the progress',\n",
       " 'about the quest',\n",
       " 'about the question',\n",
       " 'about the radio',\n",
       " 'about the ransom',\n",
       " 'about the report',\n",
       " 'about the rest',\n",
       " 'about the room',\n",
       " 'about the route',\n",
       " 'about the ruin',\n",
       " 'about the scarcity',\n",
       " 'about the separation',\n",
       " 'about the servant',\n",
       " 'about the service',\n",
       " 'about the ship',\n",
       " 'about the show',\n",
       " 'about the situation',\n",
       " 'about the size',\n",
       " 'about the stage',\n",
       " 'about the state',\n",
       " 'about the success',\n",
       " 'about the suit',\n",
       " 'about the sun',\n",
       " 'about the talker',\n",
       " 'about the tension',\n",
       " 'about the threat',\n",
       " 'about the time',\n",
       " 'about the trail',\n",
       " 'about the trend',\n",
       " 'about the urgency',\n",
       " 'about the use',\n",
       " 'about the value',\n",
       " 'about the variety',\n",
       " 'about the vertex',\n",
       " 'about the visit',\n",
       " 'about the way',\n",
       " 'about the whisky',\n",
       " 'about the whistle',\n",
       " 'about the wickedness',\n",
       " 'about the woman',\n",
       " 'about the world',\n",
       " 'about the worth',\n",
       " 'above a bedroom',\n",
       " 'above a clothesline',\n",
       " 'above a year',\n",
       " 'above the agglomeration',\n",
       " 'above the bar',\n",
       " 'above the bunk',\n",
       " 'above the cost',\n",
       " 'above the counter',\n",
       " 'above the door',\n",
       " 'above the earth',\n",
       " 'above the fact',\n",
       " 'above the fire',\n",
       " 'above the ground',\n",
       " 'above the hand',\n",
       " 'above the head',\n",
       " 'above the high-water',\n",
       " 'above the hillside',\n",
       " 'above the kitchen',\n",
       " 'above the knee',\n",
       " 'above the law',\n",
       " 'above the level',\n",
       " 'above the myth',\n",
       " 'above the patter',\n",
       " 'above the pier',\n",
       " 'above the plane',\n",
       " 'above the prisoner',\n",
       " 'above the quantity',\n",
       " 'above the rank',\n",
       " 'above the record',\n",
       " 'above the reference',\n",
       " 'above the regression',\n",
       " 'above the rest',\n",
       " 'above the sink',\n",
       " 'above the surface',\n",
       " 'above the table',\n",
       " 'above the terrace',\n",
       " 'across a distance',\n",
       " 'across a point',\n",
       " 'across a well',\n",
       " 'across the aisle',\n",
       " 'across the audience',\n",
       " 'across the bar',\n",
       " 'across the bottom',\n",
       " 'across the boundary',\n",
       " 'across the bridge',\n",
       " 'across the brush',\n",
       " 'across the campus',\n",
       " 'across the century',\n",
       " 'across the clearing',\n",
       " 'across the common',\n",
       " 'across the compass',\n",
       " 'across the cottage',\n",
       " 'across the counter',\n",
       " 'across the country',\n",
       " 'across the debris',\n",
       " 'across the deck',\n",
       " 'across the desk',\n",
       " 'across the distinction',\n",
       " 'across the element',\n",
       " 'across the entrance',\n",
       " 'across the envelope',\n",
       " 'across the face',\n",
       " 'across the field',\n",
       " 'across the flatland',\n",
       " 'across the floor',\n",
       " 'across the front',\n",
       " 'across the hall',\n",
       " 'across the hill',\n",
       " 'across the horizon',\n",
       " 'across the house',\n",
       " 'across the land',\n",
       " 'across the length',\n",
       " 'across the lobby',\n",
       " 'across the meadow',\n",
       " 'across the moon',\n",
       " 'across the nation',\n",
       " 'across the newspaper',\n",
       " 'across the parade',\n",
       " 'across the plain',\n",
       " 'across the porch',\n",
       " 'across the prairie',\n",
       " 'across the rice',\n",
       " 'across the ridge',\n",
       " 'across the river',\n",
       " 'across the road',\n",
       " 'across the roof',\n",
       " 'across the room',\n",
       " 'across the rug',\n",
       " 'across the sea',\n",
       " 'across the side',\n",
       " 'across the sky',\n",
       " 'across the spread',\n",
       " 'across the stage',\n",
       " 'across the state',\n",
       " 'across the stern',\n",
       " 'across the stream',\n",
       " 'across the street',\n",
       " 'across the table',\n",
       " 'across the top',\n",
       " 'across the valley',\n",
       " 'across the width',\n",
       " 'across the wilderness',\n",
       " 'across the world',\n",
       " 'across the yard',\n",
       " 'after a bellyfull',\n",
       " 'after a cabinet',\n",
       " 'after a concert',\n",
       " 'after a fashion',\n",
       " 'after a flight',\n",
       " 'after a look',\n",
       " 'after a novitiate',\n",
       " 'after a parade',\n",
       " 'after a period',\n",
       " 'after a snowstorm',\n",
       " 'after a sorority',\n",
       " 'after a thaw',\n",
       " 'after a time',\n",
       " 'after a visit',\n",
       " 'after a wartime',\n",
       " 'after a wedding',\n",
       " 'after a week',\n",
       " 'after a while',\n",
       " 'after an absence',\n",
       " 'after an accident',\n",
       " 'after an attack',\n",
       " 'after an hour',\n",
       " 'after the accumulation',\n",
       " 'after the axe',\n",
       " 'after the ball',\n",
       " 'after the ballet',\n",
       " 'after the beginning',\n",
       " 'after the burst',\n",
       " 'after the censure',\n",
       " 'after the close',\n",
       " 'after the conviction',\n",
       " 'after the crime',\n",
       " 'after the date',\n",
       " 'after the day',\n",
       " 'after the death',\n",
       " 'after the decline',\n",
       " 'after the end',\n",
       " 'after the explosion',\n",
       " 'after the fall',\n",
       " 'after the flood',\n",
       " 'after the furor',\n",
       " 'after the government',\n",
       " 'after the head',\n",
       " 'after the holiday',\n",
       " 'after the incident',\n",
       " 'after the injury',\n",
       " 'after the institution',\n",
       " 'after the interruption',\n",
       " 'after the manner',\n",
       " 'after the meaning',\n",
       " 'after the middle',\n",
       " 'after the movie',\n",
       " 'after the murder',\n",
       " 'after the overexploitation',\n",
       " 'after the pain',\n",
       " 'after the performance',\n",
       " 'after the publication',\n",
       " 'after the rain',\n",
       " 'after the receipt',\n",
       " 'after the region',\n",
       " 'after the robbery',\n",
       " 'after the scuffle',\n",
       " 'after the sermon',\n",
       " 'after the service',\n",
       " 'after the shooting',\n",
       " 'after the squall',\n",
       " 'after the stint',\n",
       " 'after the style',\n",
       " 'after the tea',\n",
       " 'after the torso',\n",
       " 'after the trial',\n",
       " 'after the war',\n",
       " 'after the wedding',\n",
       " 'against a bath',\n",
       " 'against a building',\n",
       " 'against a car',\n",
       " 'against a counterpart',\n",
       " 'against a culture',\n",
       " 'against a cumulus',\n",
       " 'against a freighter',\n",
       " 'against a kind',\n",
       " 'against a law',\n",
       " 'against a log',\n",
       " 'against a man',\n",
       " 'against a neighbor',\n",
       " 'against a number',\n",
       " 'against a parade',\n",
       " 'against a plow',\n",
       " 'against a post',\n",
       " 'against a spruce',\n",
       " 'against a stream',\n",
       " 'against a tiger',\n",
       " 'against a tombstone',\n",
       " 'against a tree',\n",
       " 'against a wall',\n",
       " 'against a wrought-iron',\n",
       " 'against an SS',\n",
       " 'against an enemy',\n",
       " 'against an initiative',\n",
       " 'against the afternoon',\n",
       " 'against the attack',\n",
       " 'against the back',\n",
       " 'against the background',\n",
       " 'against the banister',\n",
       " 'against the bar',\n",
       " 'against the blanket',\n",
       " 'against the bottom',\n",
       " 'against the cartilage',\n",
       " 'against the ceiling',\n",
       " 'against the centralization',\n",
       " 'against the circle',\n",
       " 'against the clause',\n",
       " 'against the coating',\n",
       " 'against the commandment',\n",
       " 'against the competition',\n",
       " 'against the cult',\n",
       " 'against the danger',\n",
       " 'against the dashboard',\n",
       " 'against the desk',\n",
       " 'against the dream',\n",
       " 'against the entrance',\n",
       " 'against the evil',\n",
       " 'against the expense',\n",
       " 'against the face',\n",
       " 'against the fallacy',\n",
       " 'against the fence',\n",
       " 'against the floor',\n",
       " 'against the frame',\n",
       " 'against the front',\n",
       " 'against the gelding',\n",
       " 'against the gourd',\n",
       " 'against the grain',\n",
       " 'against the grille',\n",
       " 'against the gun',\n",
       " 'against the head',\n",
       " 'against the herd',\n",
       " 'against the inability',\n",
       " 'against the issuance',\n",
       " 'against the kind',\n",
       " 'against the knife',\n",
       " 'against the license',\n",
       " 'against the light',\n",
       " 'against the mass',\n",
       " 'against the mistake',\n",
       " 'against the mountain',\n",
       " 'against the muzzle',\n",
       " 'against the newel',\n",
       " 'against the night',\n",
       " 'against the overcast',\n",
       " 'against the overestimation',\n",
       " 'against the pair',\n",
       " 'against the paleness',\n",
       " 'against the paper',\n",
       " 'against the patent',\n",
       " 'against the portrait',\n",
       " 'against the power',\n",
       " 'against the prosecution',\n",
       " 'against the rain',\n",
       " 'against the redeposition',\n",
       " 'against the refrigerator',\n",
       " 'against the river',\n",
       " 'against the road',\n",
       " 'against the rock',\n",
       " 'against the roof',\n",
       " 'against the rotundity',\n",
       " 'against the saloon',\n",
       " 'against the salt',\n",
       " 'against the screen',\n",
       " 'against the self',\n",
       " 'against the side',\n",
       " 'against the sky',\n",
       " 'against the slant',\n",
       " 'against the sociology',\n",
       " 'against the spread',\n",
       " 'against the state',\n",
       " 'against the stock',\n",
       " 'against the storm',\n",
       " 'against the substrate',\n",
       " 'against the sun',\n",
       " 'against the target',\n",
       " 'against the tire',\n",
       " 'against the trunk',\n",
       " 'against the tyranny',\n",
       " 'against the union',\n",
       " 'against the use',\n",
       " 'against the wall',\n",
       " 'against the weight',\n",
       " 'against the will',\n",
       " 'against the wind',\n",
       " 'against the window',\n",
       " 'against the winter',\n",
       " 'against the wood',\n",
       " 'against the world',\n",
       " 'along a course',\n",
       " 'along a horse-trail',\n",
       " 'along a path',\n",
       " 'along a plane',\n",
       " 'along a road',\n",
       " 'along an axis',\n",
       " 'along the anode',\n",
       " 'along the avenue',\n",
       " ...]"
      ]
     },
     "execution_count": 222,
     "metadata": {},
     "output_type": "execute_result"
    }
   ],
   "source": [
    "sorted(set(' '.join((w1, w2, w3))\n",
    "           for (w1, t1), (w2, t2), (w3, t3) \n",
    "           in nltk.trigrams(brown.tagged_words()) \n",
    "           if (t1, t2, t3) == ('IN', 'AT', 'NN')))"
   ]
  },
  {
   "cell_type": "markdown",
   "metadata": {},
   "source": [
    "d. What is the ratio of masculine to feminine pronouns?"
   ]
  },
  {
   "cell_type": "code",
   "execution_count": 230,
   "metadata": {},
   "outputs": [],
   "source": [
    "masculine_pronouns = ['he', 'him', 'his', 'himself']\n",
    "feminine_pronouns = ['she', 'her', 'hers', 'herself']"
   ]
  },
  {
   "cell_type": "code",
   "execution_count": 231,
   "metadata": {},
   "outputs": [
    {
     "data": {
      "text/plain": [
       "3.2741427861520624"
      ]
     },
     "execution_count": 231,
     "metadata": {},
     "output_type": "execute_result"
    }
   ],
   "source": [
    "(sum(brown_fd[pronoun] for pronoun in masculine_pronouns) / \n",
    " sum(brown_fd[pronoun] for pronoun in feminine_pronouns))"
   ]
  },
  {
   "cell_type": "markdown",
   "metadata": {},
   "source": [
    "# Exercise 21"
   ]
  },
  {
   "cell_type": "markdown",
   "metadata": {},
   "source": [
    "In 3.1 we saw a table involving frequency counts for the verbs adore, love, like, prefer and preceding qualifiers absolutely and definitely. Investigate the full range of adverbs that appear before these four verbs."
   ]
  },
  {
   "cell_type": "code",
   "execution_count": 2,
   "metadata": {},
   "outputs": [],
   "source": [
    "from nltk.corpus import brown\n",
    "from nltk.probability import ConditionalFreqDist"
   ]
  },
  {
   "cell_type": "code",
   "execution_count": 15,
   "metadata": {},
   "outputs": [],
   "source": [
    "target_words = {'adore', 'love', 'like', 'prefer'}\n",
    "cfd = ConditionalFreqDist(\n",
    "    (w1, w2)\n",
    "    for (w1, t1), (w2, t2)\n",
    "    in nltk.bigrams(brown.tagged_words(tagset='universal'))\n",
    "    if (t1, t2) == ('ADV', 'VERB') and w2 in target_words\n",
    ")"
   ]
  },
  {
   "cell_type": "code",
   "execution_count": 16,
   "metadata": {},
   "outputs": [
    {
     "name": "stdout",
     "output_type": "stream",
     "text": [
      "                like   love prefer \n",
      "       always      1      1      0 \n",
      "       dearly      0      1      0 \n",
      "         even      1      0      0 \n",
      "    generally      0      0      1 \n",
      "         just      0      1      0 \n",
      "         much      0      0      1 \n",
      "          not      9      1      1 \n",
      "       rather      1      0      0 \n",
      "       simply      1      0      0 \n",
      "spontaneously      0      0      1 \n",
      "         sure      1      0      0 \n"
     ]
    }
   ],
   "source": [
    "cfd.tabulate()"
   ]
  },
  {
   "cell_type": "markdown",
   "metadata": {},
   "source": [
    "# Exercise 22"
   ]
  },
  {
   "cell_type": "markdown",
   "metadata": {},
   "source": [
    "We defined the regexp_tagger that can be used as a fall-back tagger for unknown\n",
    "words. This tagger only checks for cardinal numbers. By testing for particular prefix\n",
    "or suffix strings, it should be possible to guess other tags. For example, we could\n",
    "tag any word that ends with -s as a plural noun. Define a regular expression tagger\n",
    "(using RegexpTagger()) that tests for at least five other patterns in the spelling of\n",
    "words. (Use inline documentation to explain the rules.)"
   ]
  },
  {
   "cell_type": "code",
   "execution_count": 17,
   "metadata": {},
   "outputs": [],
   "source": [
    "from nltk.tag import RegexpTagger\n",
    "from nltk.corpus import brown"
   ]
  },
  {
   "cell_type": "code",
   "execution_count": 22,
   "metadata": {},
   "outputs": [],
   "source": [
    "patterns = [\n",
    "    (r'.*ing$', 'VBG'),  # gerunds\n",
    "    (r'.*ed$', 'VBD'),  # simple past\n",
    "    (r'.*es$', 'VBZ'),  # 3rd singular present\n",
    "    (r'.*ould$', 'MD'),  # modals\n",
    "    (r'.*\\'s$', 'NN$'),  # possessive nouns\n",
    "    (r'.*s$', 'NNS'),  # plural nouns\n",
    "    (r'^-?[0-9]+(.[0-9]+)?$', 'CD'),  # cardinal numbers\n",
    "    (r'.*', 'NN')     # nouns (default)\n",
    "]"
   ]
  },
  {
   "cell_type": "code",
   "execution_count": 23,
   "metadata": {},
   "outputs": [],
   "source": [
    "regexp_tagger = nltk.RegexpTagger(patterns)"
   ]
  },
  {
   "cell_type": "code",
   "execution_count": 24,
   "metadata": {},
   "outputs": [
    {
     "data": {
      "text/plain": [
       "[('``', 'NN'),\n",
       " ('Only', 'NN'),\n",
       " ('a', 'NN'),\n",
       " ('relative', 'NN'),\n",
       " ('handful', 'NN'),\n",
       " ('of', 'NN'),\n",
       " ('such', 'NN'),\n",
       " ('reports', 'NNS'),\n",
       " ('was', 'NNS'),\n",
       " ('received', 'VBD'),\n",
       " (\"''\", 'NN'),\n",
       " (',', 'NN'),\n",
       " ('the', 'NN'),\n",
       " ('jury', 'NN'),\n",
       " ('said', 'NN'),\n",
       " (',', 'NN'),\n",
       " ('``', 'NN'),\n",
       " ('considering', 'VBG'),\n",
       " ('the', 'NN'),\n",
       " ('widespread', 'NN'),\n",
       " ('interest', 'NN'),\n",
       " ('in', 'NN'),\n",
       " ('the', 'NN'),\n",
       " ('election', 'NN'),\n",
       " (',', 'NN'),\n",
       " ('the', 'NN'),\n",
       " ('number', 'NN'),\n",
       " ('of', 'NN'),\n",
       " ('voters', 'NNS'),\n",
       " ('and', 'NN'),\n",
       " ('the', 'NN'),\n",
       " ('size', 'NN'),\n",
       " ('of', 'NN'),\n",
       " ('this', 'NNS'),\n",
       " ('city', 'NN'),\n",
       " (\"''\", 'NN'),\n",
       " ('.', 'NN')]"
      ]
     },
     "execution_count": 24,
     "metadata": {},
     "output_type": "execute_result"
    }
   ],
   "source": [
    "regexp_tagger.tag(brown.sents()[3])"
   ]
  },
  {
   "cell_type": "markdown",
   "metadata": {},
   "source": [
    "# Exercise 23"
   ]
  },
  {
   "cell_type": "markdown",
   "metadata": {},
   "source": [
    "Consider the regular expression tagger developed in the exercises in the previous section. Evaluate the tagger using its accuracy() method, and try to come up with ways to improve its performance. Discuss your findings. How does objective evaluation help in the development process?"
   ]
  },
  {
   "cell_type": "code",
   "execution_count": 25,
   "metadata": {},
   "outputs": [
    {
     "data": {
      "text/plain": [
       "0.19537768086586887"
      ]
     },
     "execution_count": 25,
     "metadata": {},
     "output_type": "execute_result"
    }
   ],
   "source": [
    "regexp_tagger.evaluate(brown.tagged_sents())"
   ]
  },
  {
   "cell_type": "code",
   "execution_count": 27,
   "metadata": {},
   "outputs": [],
   "source": [
    "patterns = [\n",
    "    (r'.*ing$', 'VBG'),  # gerunds\n",
    "    (r'.*ed$', 'VBD'),  # simple past\n",
    "    (r'.*es$', 'VBZ'),  # 3rd singular present\n",
    "    (r'.*ould$', 'MD'),  # modals\n",
    "    (r'.*\\'s$', 'NN$'),  # possessive nouns\n",
    "    (r'.*s$', 'NNS'),  # plural nouns\n",
    "    (r'^-?[0-9]+(.[0-9]+)?$', 'CD'),  # cardinal numbers\n",
    "    ('^the$|^a$', 'AT'),  # determiners\n",
    "    (r'.*', 'NN')     # nouns (default)\n",
    "]"
   ]
  },
  {
   "cell_type": "code",
   "execution_count": 28,
   "metadata": {},
   "outputs": [],
   "source": [
    "regexp_tagger = nltk.RegexpTagger(patterns)"
   ]
  },
  {
   "cell_type": "code",
   "execution_count": 29,
   "metadata": {},
   "outputs": [
    {
     "data": {
      "text/plain": [
       "0.2678127303667266"
      ]
     },
     "execution_count": 29,
     "metadata": {},
     "output_type": "execute_result"
    }
   ],
   "source": [
    "regexp_tagger.evaluate(brown.tagged_sents())"
   ]
  },
  {
   "cell_type": "markdown",
   "metadata": {},
   "source": [
    "Adding determiners pattern improved the performance by 7%. With the help of objective evaluation, we can control what patterns are good or bad"
   ]
  },
  {
   "cell_type": "markdown",
   "metadata": {},
   "source": [
    "# Exercise 24"
   ]
  },
  {
   "cell_type": "markdown",
   "metadata": {},
   "source": [
    "How serious is the sparse data problem? Investigate the performance of n-gram taggers as n increases from 1 to 6. Tabulate the accuracy score. Estimate the training data required for these taggers, assuming a vocabulary size of 105 and a tagset size of 102."
   ]
  },
  {
   "cell_type": "code",
   "execution_count": 11,
   "metadata": {},
   "outputs": [],
   "source": [
    "from nltk.tag import NgramTagger\n",
    "from nltk.corpus import brown"
   ]
  },
  {
   "cell_type": "code",
   "execution_count": 12,
   "metadata": {},
   "outputs": [],
   "source": [
    "tagged_sents = list(brown.tagged_sents(tagset='universal'))"
   ]
  },
  {
   "cell_type": "code",
   "execution_count": 13,
   "metadata": {},
   "outputs": [],
   "source": [
    "np.random.seed(42)\n",
    "np.random.shuffle(tagged_sents)"
   ]
  },
  {
   "cell_type": "code",
   "execution_count": 14,
   "metadata": {},
   "outputs": [],
   "source": [
    "train_ind = int(len(tagged_sents) * 0.8)"
   ]
  },
  {
   "cell_type": "code",
   "execution_count": 15,
   "metadata": {},
   "outputs": [],
   "source": [
    "train_sents = tagged_sents[:train_ind]\n",
    "test_sents = tagged_sents[train_ind:]"
   ]
  },
  {
   "cell_type": "code",
   "execution_count": 16,
   "metadata": {},
   "outputs": [
    {
     "name": "stdout",
     "output_type": "stream",
     "text": [
      "1 0.957217850893378 0.9303460346245492\n",
      "2 0.9001371097863057 0.4504860510722645\n",
      "3 0.808527860773507 0.2471922906606499\n",
      "4 0.7863230012217597 0.16406806823693146\n",
      "5 0.8070409716939173 0.13474052674862408\n",
      "6 0.8449079459828565 0.12674862408535942\n"
     ]
    }
   ],
   "source": [
    "n_max = 6\n",
    "for n in range(1, n_max + 1):\n",
    "    ngram_tagger = NgramTagger(n, train_sents)\n",
    "    train_accuracy = ngram_tagger.evaluate(train_sents)\n",
    "    test_accuracy = ngram_tagger.evaluate(test_sents)\n",
    "    print(n, train_accuracy, test_accuracy)"
   ]
  },
  {
   "cell_type": "code",
   "execution_count": 20,
   "metadata": {},
   "outputs": [],
   "source": [
    "V, T = 10 ** 5, 10 ** 2"
   ]
  },
  {
   "cell_type": "code",
   "execution_count": 21,
   "metadata": {},
   "outputs": [],
   "source": [
    "def estimate_train_data_amount(vocab_size, tagset_size, n):\n",
    "    return (vocab_size * tagset_size ** (n - 1)) - 1 + n"
   ]
  },
  {
   "cell_type": "code",
   "execution_count": 22,
   "metadata": {},
   "outputs": [
    {
     "name": "stdout",
     "output_type": "stream",
     "text": [
      "1 100000\n",
      "2 10000001\n",
      "3 1000000002\n",
      "4 100000000003\n",
      "5 10000000000004\n",
      "6 1000000000000005\n"
     ]
    }
   ],
   "source": [
    "for n in range(1, n_max + 1):\n",
    "    print(n, estimate_train_data_amount(V, T, n))"
   ]
  },
  {
   "cell_type": "markdown",
   "metadata": {},
   "source": [
    "# Exercise 25"
   ]
  },
  {
   "cell_type": "markdown",
   "metadata": {},
   "source": [
    "Obtain some tagged data for another language, and train and evaluate a variety of taggers on it. If the language is morphologically complex, or if there are any orthographic clues (e.g. capitalization) to word classes, consider developing a regular expression tagger for it (ordered after the unigram tagger, and before the default tagger). How does the accuracy of your tagger(s) compare with the same taggers run on English data? Discuss any issues you encounter in applying these methods to the language."
   ]
  },
  {
   "cell_type": "code",
   "execution_count": 19,
   "metadata": {},
   "outputs": [],
   "source": [
    "from nltk.corpus import cess_esp\n",
    "from nltk.tag import UnigramTagger, DefaultTagger, BigramTagger, TrigramTagger"
   ]
  },
  {
   "cell_type": "code",
   "execution_count": 20,
   "metadata": {},
   "outputs": [],
   "source": [
    "tagged_sents = list(cess_esp.tagged_sents())"
   ]
  },
  {
   "cell_type": "code",
   "execution_count": 21,
   "metadata": {},
   "outputs": [],
   "source": [
    "np.random.seed(42)\n",
    "np.random.shuffle(tagged_sents)"
   ]
  },
  {
   "cell_type": "code",
   "execution_count": 22,
   "metadata": {},
   "outputs": [],
   "source": [
    "train_ind = int(len(tagged_sents) * 0.8)"
   ]
  },
  {
   "cell_type": "code",
   "execution_count": 23,
   "metadata": {},
   "outputs": [],
   "source": [
    "train_sents = tagged_sents[:train_ind]\n",
    "test_sents = tagged_sents[train_ind:]"
   ]
  },
  {
   "cell_type": "code",
   "execution_count": 24,
   "metadata": {},
   "outputs": [],
   "source": [
    "t0 = DefaultTagger('sps00')\n",
    "t1 = UnigramTagger(train=train_sents, backoff=t0)\n",
    "t2 = BigramTagger(train=train_sents, backoff=t1)\n",
    "t3 = TrigramTagger(train=train_sents, backoff=t2)"
   ]
  },
  {
   "cell_type": "code",
   "execution_count": 25,
   "metadata": {},
   "outputs": [
    {
     "name": "stdout",
     "output_type": "stream",
     "text": [
      "0 0.13116099881708823 0.1311410668211258\n",
      "1 0.9578935120844457 0.8692538570902006\n",
      "2 0.9842730910195665 0.8849455005002369\n",
      "3 0.9910021137275942 0.8842609657206045\n"
     ]
    }
   ],
   "source": [
    "for i, tagger in enumerate([t0, t1, t2, t3]):\n",
    "    print(i, tagger.evaluate(train_sents), tagger.evaluate(test_sents))"
   ]
  },
  {
   "cell_type": "markdown",
   "metadata": {},
   "source": [
    "# Exercise 26"
   ]
  },
  {
   "cell_type": "markdown",
   "metadata": {},
   "source": [
    " 4.1 plotted a curve showing change in the performance of a lookup tagger as the model size was increased. Plot the performance curve for a unigram tagger, as the amount of training data is varied."
   ]
  },
  {
   "cell_type": "code",
   "execution_count": 10,
   "metadata": {},
   "outputs": [],
   "source": [
    "import matplotlib.pyplot as plt\n",
    "\n",
    "from nltk.corpus import brown\n",
    "from nltk.tag import UnigramTagger, DefaultTagger"
   ]
  },
  {
   "cell_type": "code",
   "execution_count": 11,
   "metadata": {},
   "outputs": [],
   "source": [
    "%matplotlib inline"
   ]
  },
  {
   "cell_type": "code",
   "execution_count": 12,
   "metadata": {},
   "outputs": [],
   "source": [
    "def performance(train_sents, use_backoff=True):\n",
    "    tagger = UnigramTagger(\n",
    "        train=train_sents, \n",
    "        backoff=DefaultTagger('NN') if use_backoff else None\n",
    "    )\n",
    "    return tagger.evaluate(brown.tagged_sents(categories='news'))\n",
    "\n",
    "def performance_plot():\n",
    "    np.random.seed(42)\n",
    "    tagged_sents = list(brown.tagged_sents(categories='news'))\n",
    "    np.random.shuffle(tagged_sents)\n",
    "    \n",
    "    ratios = np.linspace(0.1, 1, 11)\n",
    "    perfs_backoff = [\n",
    "        performance(tagged_sents[:int(len(tagged_sents) * ratio)]) \n",
    "        for ratio in ratios\n",
    "    ]\n",
    "    perfs_no_backoff = [\n",
    "        performance(tagged_sents[:int(len(tagged_sents) * ratio)], False) \n",
    "        for ratio in ratios\n",
    "    ]\n",
    "    \n",
    "    plt.plot(ratios, perfs_backoff, '-go', label='with backoff')\n",
    "    plt.plot(ratios, perfs_no_backoff, '-bo', label='no backout')\n",
    "    plt.title('Unigram Tagger Performance with Varying Model Size')\n",
    "    plt.xlabel('Ratio')\n",
    "    plt.ylabel('Performance')\n",
    "    plt.legend()"
   ]
  },
  {
   "cell_type": "code",
   "execution_count": 13,
   "metadata": {},
   "outputs": [
    {
     "data": {
      "image/png": "[encoded data removed]",
      "text/plain": [
       "<Figure size 720x360 with 1 Axes>"
      ]
     },
     "metadata": {
      "needs_background": "light"
     },
     "output_type": "display_data"
    }
   ],
   "source": [
    "plt.figure(figsize=(10, 5))\n",
    "performance_plot()\n",
    "plt.show()"
   ]
  },
  {
   "cell_type": "markdown",
   "metadata": {},
   "source": [
    "# Exercise 27"
   ]
  },
  {
   "cell_type": "markdown",
   "metadata": {},
   "source": [
    "Inspect the confusion matrix for the bigram tagger t2 defined in Section 5.5, and\n",
    "identify one or more sets of tags to collapse. Define a dictionary to do the mapping,\n",
    "and evaluate the tagger on the simplified data."
   ]
  },
  {
   "cell_type": "code",
   "execution_count": 111,
   "metadata": {},
   "outputs": [],
   "source": [
    "from nltk.corpus import brown\n",
    "from nltk.tag import UnigramTagger, BigramTagger, DefaultTagger\n",
    "from nltk.metrics import ConfusionMatrix, accuracy"
   ]
  },
  {
   "cell_type": "code",
   "execution_count": 112,
   "metadata": {},
   "outputs": [],
   "source": [
    "tagged_sents = list(brown.tagged_sents(tagset='universal'))"
   ]
  },
  {
   "cell_type": "code",
   "execution_count": 113,
   "metadata": {},
   "outputs": [],
   "source": [
    "np.random.seed(42)\n",
    "np.random.shuffle(tagged_sents)"
   ]
  },
  {
   "cell_type": "code",
   "execution_count": 114,
   "metadata": {},
   "outputs": [],
   "source": [
    "train_ind = int(len(tagged_sents) * 0.8)"
   ]
  },
  {
   "cell_type": "code",
   "execution_count": 115,
   "metadata": {},
   "outputs": [],
   "source": [
    "train_sents = tagged_sents[:train_ind]\n",
    "test_sents = tagged_sents[train_ind:]"
   ]
  },
  {
   "cell_type": "code",
   "execution_count": 116,
   "metadata": {},
   "outputs": [],
   "source": [
    "t0 = DefaultTagger('NOUN')\n",
    "t1 = UnigramTagger(train=train_sents, backoff=t0)\n",
    "t2 = BigramTagger(train=train_sents, backoff=t1)"
   ]
  },
  {
   "cell_type": "code",
   "execution_count": 117,
   "metadata": {},
   "outputs": [
    {
     "data": {
      "text/plain": [
       "(0.9691908791150521, 0.9534403137717985)"
      ]
     },
     "execution_count": 117,
     "metadata": {},
     "output_type": "execute_result"
    }
   ],
   "source": [
    "t2.evaluate(train_sents), t2.evaluate(test_sents)"
   ]
  },
  {
   "cell_type": "code",
   "execution_count": 118,
   "metadata": {},
   "outputs": [],
   "source": [
    "gold_tags = [tag \n",
    "             for sent in test_sents\n",
    "             for (word, tag) in sent]"
   ]
  },
  {
   "cell_type": "code",
   "execution_count": 119,
   "metadata": {},
   "outputs": [],
   "source": [
    "test_tags = [tag \n",
    "             for sent in test_sents\n",
    "             for (word, tag) in t2.tag(nltk.untag(sent))]"
   ]
  },
  {
   "cell_type": "code",
   "execution_count": 120,
   "metadata": {},
   "outputs": [
    {
     "data": {
      "text/plain": [
       "0.9534403137717985"
      ]
     },
     "execution_count": 120,
     "metadata": {},
     "output_type": "execute_result"
    }
   ],
   "source": [
    "accuracy(gold_tags, test_tags)"
   ]
  },
  {
   "cell_type": "code",
   "execution_count": 121,
   "metadata": {},
   "outputs": [
    {
     "name": "stdout",
     "output_type": "stream",
     "text": [
      "     |                             C           N           P           V       |\n",
      "     |           A     A     A     O     D     O     N     R     P     E       |\n",
      "     |           D     D     D     N     E     U     U     O     R     R       |\n",
      "     |     .     J     P     V     J     T     N     M     N     T     B     X |\n",
      "-----+-------------------------------------------------------------------------+\n",
      "   . |<29989>    .     .     .     .     .     .     .     .     .     .     . |\n",
      " ADJ |     .<15119>    7   410     .     .  1448     .     .     1    67     . |\n",
      " ADP |     2     7<26863>  169    27    63    21     .   352  2203    19     1 |\n",
      " ADV |     .   442   543<10077>   34    55   206     .     3   109    10     . |\n",
      "CONJ |     .     .     1     . <7758>    3     .     .     .     .     .     . |\n",
      " DET |     .     .   183     6    21<27655>    9     .   146     .     .     1 |\n",
      "NOUN |     .   538     8    16     .    15<54615>  110     1     9   699    10 |\n",
      " NUM |     .     1     .     .     .     .   191 <2833>    .     .     .     . |\n",
      "PRON |     .     .    27     1     .   153     3     . <9985>    1     .     1 |\n",
      " PRT |     .    59   522    41     .     .    71     .     1 <5510>    6     . |\n",
      "VERB |     .    98    21    14     .     .  1699     .     .     5<35570>    . |\n",
      "   X |     8     2     5     .     .     1   131     2     .     .     1  <101>|\n",
      "-----+-------------------------------------------------------------------------+\n",
      "(row = reference; col = test)\n",
      "\n"
     ]
    }
   ],
   "source": [
    "cm = ConfusionMatrix(gold_tags, test_tags)\n",
    "print(cm)"
   ]
  },
  {
   "cell_type": "markdown",
   "metadata": {},
   "source": [
    "Looks like that it worth to collapse PRT and ADP tags into new NEW_POS tag since tagger makes most mistakes in ADP classification as PRT"
   ]
  },
  {
   "cell_type": "code",
   "execution_count": 122,
   "metadata": {},
   "outputs": [],
   "source": [
    "collapse_dict = {\n",
    "    'PRT': 'NEW_POS',\n",
    "    'ADP': 'NEW_POS'\n",
    "}"
   ]
  },
  {
   "cell_type": "code",
   "execution_count": 123,
   "metadata": {},
   "outputs": [],
   "source": [
    "train_sents_new = [\n",
    "    [(word, tag if tag not in collapse_dict else collapse_dict[tag])\n",
    "     for word, tag in sent] \n",
    "    for sent in train_sents\n",
    "]"
   ]
  },
  {
   "cell_type": "code",
   "execution_count": 124,
   "metadata": {},
   "outputs": [],
   "source": [
    "test_sents_new = [\n",
    "    [(word, tag if tag not in collapse_dict else collapse_dict[tag])\n",
    "     for word, tag in sent] \n",
    "    for sent in test_sents\n",
    "]"
   ]
  },
  {
   "cell_type": "code",
   "execution_count": 125,
   "metadata": {},
   "outputs": [],
   "source": [
    "t0 = DefaultTagger('NOUN')\n",
    "t1 = UnigramTagger(train=train_sents_new, backoff=t0)\n",
    "t2 = BigramTagger(train=train_sents_new, backoff=t1)"
   ]
  },
  {
   "cell_type": "code",
   "execution_count": 126,
   "metadata": {},
   "outputs": [
    {
     "data": {
      "text/plain": [
       "(0.9794064780315926, 0.9636969403032284)"
      ]
     },
     "execution_count": 126,
     "metadata": {},
     "output_type": "execute_result"
    }
   ],
   "source": [
    "t2.evaluate(train_sents_new), t2.evaluate(test_sents_new)"
   ]
  },
  {
   "cell_type": "code",
   "execution_count": 127,
   "metadata": {},
   "outputs": [],
   "source": [
    "gold_tags_new = [tag \n",
    "                 for sent in test_sents_new\n",
    "                 for (word, tag) in sent]"
   ]
  },
  {
   "cell_type": "code",
   "execution_count": 128,
   "metadata": {},
   "outputs": [],
   "source": [
    "test_tags_new = [tag \n",
    "                 for sent in test_sents_new\n",
    "                 for (word, tag) in t2.tag(nltk.untag(sent))]"
   ]
  },
  {
   "cell_type": "code",
   "execution_count": 129,
   "metadata": {},
   "outputs": [
    {
     "data": {
      "text/plain": [
       "0.9636969403032284"
      ]
     },
     "execution_count": 129,
     "metadata": {},
     "output_type": "execute_result"
    }
   ],
   "source": [
    "accuracy(gold_tags_new, test_tags_new)"
   ]
  },
  {
   "cell_type": "code",
   "execution_count": 130,
   "metadata": {},
   "outputs": [
    {
     "name": "stdout",
     "output_type": "stream",
     "text": [
      "        |                                   N                               |\n",
      "        |                                   E                               |\n",
      "        |                                   W                               |\n",
      "        |                       C           _     N           P     V       |\n",
      "        |           A     A     O     D     P     O     N     R     E       |\n",
      "        |           D     D     N     E     O     U     U     O     R       |\n",
      "        |     .     J     V     J     T     S     N     M     N     B     X |\n",
      "--------+-------------------------------------------------------------------+\n",
      "      . |<29989>    .     .     .     .     .     .     .     .     .     . |\n",
      "    ADJ |     .<15099>  406     .     .     6  1446     .     .    95     . |\n",
      "    ADV |     .   452<10066>   34    55   656   207     .     2     7     . |\n",
      "   CONJ |     .     .     . <7756>    3     3     .     .     .     .     . |\n",
      "    DET |     .     .     6    21<27656>  182     9     .   146     .     1 |\n",
      "NEW_POS |     2    66   214    27    63<35094>   92     .   351    27     1 |\n",
      "   NOUN |     .   539    16     .    15    17<54502>  110     1   811    10 |\n",
      "    NUM |     .     1     .     .     .     .   191 <2833>    .     .     . |\n",
      "   PRON |     .     .     1     .   135    29     3     .<10002>    .     1 |\n",
      "   VERB |     .   118    13     .     .    26  1841     .     .<35409>    . |\n",
      "      X |     8     2     .     .     1     5   131     2     .     1  <101>|\n",
      "--------+-------------------------------------------------------------------+\n",
      "(row = reference; col = test)\n",
      "\n"
     ]
    }
   ],
   "source": [
    "cm = ConfusionMatrix(gold_tags_new, test_tags_new)\n",
    "print(cm)"
   ]
  },
  {
   "cell_type": "markdown",
   "metadata": {},
   "source": [
    "# Exercise 28"
   ]
  },
  {
   "cell_type": "markdown",
   "metadata": {},
   "source": [
    "Experiment with taggers using the simplified tagset (or make one of your own by discarding all but the first character of each tag name). Such a tagger has fewer distinctions to make, but much less information on which to base its work. Discuss your findings."
   ]
  },
  {
   "cell_type": "code",
   "execution_count": 137,
   "metadata": {},
   "outputs": [],
   "source": [
    "from nltk.corpus import brown\n",
    "from nltk.tag import UnigramTagger, BigramTagger, DefaultTagger\n",
    "from nltk.metrics import ConfusionMatrix, accuracy"
   ]
  },
  {
   "cell_type": "code",
   "execution_count": 138,
   "metadata": {},
   "outputs": [],
   "source": [
    "tagged_sents = list(brown.tagged_sents(tagset='universal'))"
   ]
  },
  {
   "cell_type": "code",
   "execution_count": 139,
   "metadata": {},
   "outputs": [],
   "source": [
    "np.random.seed(42)\n",
    "np.random.shuffle(tagged_sents)"
   ]
  },
  {
   "cell_type": "code",
   "execution_count": 140,
   "metadata": {},
   "outputs": [],
   "source": [
    "train_ind = int(len(tagged_sents) * 0.8)"
   ]
  },
  {
   "cell_type": "markdown",
   "metadata": {},
   "source": [
    "## Original"
   ]
  },
  {
   "cell_type": "code",
   "execution_count": 141,
   "metadata": {},
   "outputs": [],
   "source": [
    "train_sents = tagged_sents[:train_ind]\n",
    "test_sents = tagged_sents[train_ind:]"
   ]
  },
  {
   "cell_type": "code",
   "execution_count": 142,
   "metadata": {},
   "outputs": [],
   "source": [
    "t0 = DefaultTagger('NOUN')\n",
    "t1 = UnigramTagger(train=train_sents, backoff=t0)\n",
    "t2 = BigramTagger(train=train_sents, backoff=t1)"
   ]
  },
  {
   "cell_type": "code",
   "execution_count": 143,
   "metadata": {},
   "outputs": [
    {
     "data": {
      "text/plain": [
       "(0.9691908791150521, 0.9534403137717985)"
      ]
     },
     "execution_count": 143,
     "metadata": {},
     "output_type": "execute_result"
    }
   ],
   "source": [
    "t2.evaluate(train_sents), t2.evaluate(test_sents)"
   ]
  },
  {
   "cell_type": "code",
   "execution_count": 144,
   "metadata": {},
   "outputs": [],
   "source": [
    "gold_tags = [tag \n",
    "             for sent in test_sents\n",
    "             for (word, tag) in sent]"
   ]
  },
  {
   "cell_type": "code",
   "execution_count": 145,
   "metadata": {},
   "outputs": [],
   "source": [
    "test_tags = [tag \n",
    "             for sent in test_sents\n",
    "             for (word, tag) in t2.tag(nltk.untag(sent))]"
   ]
  },
  {
   "cell_type": "code",
   "execution_count": 146,
   "metadata": {},
   "outputs": [
    {
     "data": {
      "text/plain": [
       "0.9534403137717985"
      ]
     },
     "execution_count": 146,
     "metadata": {},
     "output_type": "execute_result"
    }
   ],
   "source": [
    "accuracy(gold_tags, test_tags)"
   ]
  },
  {
   "cell_type": "markdown",
   "metadata": {},
   "source": [
    "## Truncated"
   ]
  },
  {
   "cell_type": "code",
   "execution_count": 166,
   "metadata": {},
   "outputs": [],
   "source": [
    "train_sents_trunc = [[(w, t[0]) for w, t in sent] for sent in train_sents]\n",
    "test_sents_trunc = [[(w, t[0]) for w, t in sent] for sent in test_sents]"
   ]
  },
  {
   "cell_type": "code",
   "execution_count": 167,
   "metadata": {},
   "outputs": [],
   "source": [
    "t0 = DefaultTagger('NOUN')\n",
    "t1 = UnigramTagger(train=train_sents_trunc, backoff=t0)\n",
    "t2 = BigramTagger(train=train_sents_trunc, backoff=t1)"
   ]
  },
  {
   "cell_type": "code",
   "execution_count": 168,
   "metadata": {},
   "outputs": [
    {
     "data": {
      "text/plain": [
       "(0.972555317359917, 0.9425046918162073)"
      ]
     },
     "execution_count": 168,
     "metadata": {},
     "output_type": "execute_result"
    }
   ],
   "source": [
    "t2.evaluate(train_sents_trunc), t2.evaluate(test_sents_trunc)"
   ]
  },
  {
   "cell_type": "code",
   "execution_count": 169,
   "metadata": {},
   "outputs": [],
   "source": [
    "gold_tags_trunc = [tag \n",
    "                   for sent in test_sents_trunc\n",
    "                   for (word, tag) in sent]"
   ]
  },
  {
   "cell_type": "code",
   "execution_count": 170,
   "metadata": {},
   "outputs": [],
   "source": [
    "test_tags_trunc = [tag \n",
    "                   for sent in test_sents_trunc\n",
    "                   for (word, tag) in t2.tag(nltk.untag(sent))]"
   ]
  },
  {
   "cell_type": "code",
   "execution_count": 171,
   "metadata": {},
   "outputs": [
    {
     "data": {
      "text/plain": [
       "0.9425046918162073"
      ]
     },
     "execution_count": 171,
     "metadata": {},
     "output_type": "execute_result"
    }
   ],
   "source": [
    "accuracy(gold_tags_trunc, test_tags_trunc)"
   ]
  },
  {
   "cell_type": "markdown",
   "metadata": {},
   "source": [
    "The performance gap between accuracy on train and test sets is wider than the original one. Overfitting occurred."
   ]
  },
  {
   "cell_type": "markdown",
   "metadata": {},
   "source": [
    "# Exercise 29"
   ]
  },
  {
   "cell_type": "markdown",
   "metadata": {},
   "source": [
    "Recall the example of a bigram tagger which encountered a word it hadn't seen during training, and tagged the rest of the sentence as None. It is possible for a bigram tagger to fail part way through a sentence even if it contains no unseen words (even if the sentence was used during training). In what circumstance can this happen? Can you write a program to find some examples of this?"
   ]
  },
  {
   "cell_type": "code",
   "execution_count": 48,
   "metadata": {},
   "outputs": [],
   "source": [
    "from nltk.corpus import brown\n",
    "from nltk.tag import BigramTagger"
   ]
  },
  {
   "cell_type": "code",
   "execution_count": 49,
   "metadata": {},
   "outputs": [],
   "source": [
    "train_sent = brown.tagged_sents(tagset='universal')[0]"
   ]
  },
  {
   "cell_type": "code",
   "execution_count": 50,
   "metadata": {},
   "outputs": [],
   "source": [
    "# Keeps sentence's words the same but change words order\n",
    "np.random.seed(42)\n",
    "train_sent_shuffled = train_sent.copy()\n",
    "np.random.shuffle(train_sent_shuffled)"
   ]
  },
  {
   "cell_type": "code",
   "execution_count": 51,
   "metadata": {},
   "outputs": [],
   "source": [
    "tagger = BigramTagger(train=[train_sent])"
   ]
  },
  {
   "cell_type": "code",
   "execution_count": 52,
   "metadata": {},
   "outputs": [
    {
     "data": {
      "text/plain": [
       "1.0"
      ]
     },
     "execution_count": 52,
     "metadata": {},
     "output_type": "execute_result"
    }
   ],
   "source": [
    "tagger.evaluate([train_sent])"
   ]
  },
  {
   "cell_type": "code",
   "execution_count": 53,
   "metadata": {},
   "outputs": [
    {
     "data": {
      "text/plain": [
       "0.0"
      ]
     },
     "execution_count": 53,
     "metadata": {},
     "output_type": "execute_result"
    }
   ],
   "source": [
    "tagger.evaluate([train_sent_shuffled])"
   ]
  },
  {
   "cell_type": "code",
   "execution_count": 54,
   "metadata": {},
   "outputs": [
    {
     "data": {
      "text/plain": [
       "[('investigation', None),\n",
       " ('no', None),\n",
       " ('The', None),\n",
       " ('place', None),\n",
       " ('recent', None),\n",
       " ('of', None),\n",
       " ('election', None),\n",
       " ('Fulton', None),\n",
       " ('took', None),\n",
       " ('said', None),\n",
       " ('County', None),\n",
       " ('primary', None),\n",
       " ('``', None),\n",
       " ('Grand', None),\n",
       " ('Jury', None),\n",
       " ('any', None),\n",
       " ('evidence', None),\n",
       " ('irregularities', None),\n",
       " (\"''\", None),\n",
       " ('.', None),\n",
       " ('an', None),\n",
       " (\"Atlanta's\", None),\n",
       " ('produced', None),\n",
       " ('that', None),\n",
       " ('Friday', None)]"
      ]
     },
     "execution_count": 54,
     "metadata": {},
     "output_type": "execute_result"
    }
   ],
   "source": [
    "tagger.tag(nltk.untag(train_sent_shuffled))"
   ]
  },
  {
   "cell_type": "markdown",
   "metadata": {},
   "source": [
    "# Exercise 30"
   ]
  },
  {
   "cell_type": "markdown",
   "metadata": {},
   "source": [
    "Preprocess the Brown News data by replacing low-frequency words with UNK,\n",
    "but leaving the tags untouched. Now train and evaluate a bigram tagger on this\n",
    "data. How much does this help? What is the contribution of the unigram tagger\n",
    "and default tagger now?"
   ]
  },
  {
   "cell_type": "code",
   "execution_count": 4,
   "metadata": {},
   "outputs": [],
   "source": [
    "from collections import defaultdict\n",
    "from nltk.corpus import brown\n",
    "from nltk.tag import DefaultTagger, UnigramTagger\n",
    "from nltk.probability import FreqDist"
   ]
  },
  {
   "cell_type": "code",
   "execution_count": 5,
   "metadata": {},
   "outputs": [],
   "source": [
    "tagged_sents = list(brown.tagged_sents(tagset='universal'))"
   ]
  },
  {
   "cell_type": "code",
   "execution_count": 6,
   "metadata": {},
   "outputs": [],
   "source": [
    "np.random.seed(42)\n",
    "np.random.shuffle(tagged_sents)"
   ]
  },
  {
   "cell_type": "code",
   "execution_count": 7,
   "metadata": {},
   "outputs": [],
   "source": [
    "train_ind = int(len(tagged_sents) * 0.8)"
   ]
  },
  {
   "cell_type": "code",
   "execution_count": 8,
   "metadata": {},
   "outputs": [],
   "source": [
    "train_sents = tagged_sents[:train_ind]\n",
    "test_sents = tagged_sents[train_ind:]"
   ]
  },
  {
   "cell_type": "code",
   "execution_count": 9,
   "metadata": {},
   "outputs": [],
   "source": [
    "def ex30(train_sents, test_sents):\n",
    "    result_df = []\n",
    "    fd = FreqDist(brown.words())\n",
    "    for keep_ratio in range(80, 105, 5):\n",
    "        keep_n = int(fd.B() * keep_ratio / 100)\n",
    "\n",
    "        dd = defaultdict(lambda: 'UNK')\n",
    "        dd.update({w: w for w, _ in fd.most_common(keep_n)})\n",
    "\n",
    "        train_sents_unk = [[(dd[w], t) for (w, t) in sent] for sent in train_sents]\n",
    "        test_sents_unk = [[(dd[w], t) for (w, t) in sent] for sent in test_sents]\n",
    "\n",
    "        t0 = DefaultTagger('NOUN')\n",
    "        t1 = UnigramTagger(train=train_sents_unk)\n",
    "        t1_t0 = UnigramTagger(train=train_sents_unk, backoff=t0)\n",
    "\n",
    "        train_acc_t1 = t1.evaluate(train_sents_unk)\n",
    "        test_acc_t1 = t1.evaluate(test_sents_unk)\n",
    "\n",
    "        train_acc_t1_t0 = t1_t0.evaluate(train_sents_unk)\n",
    "        test_acc_t1_t0 = t1_t0.evaluate(test_sents_unk)\n",
    "\n",
    "        result_df.append([100 - keep_ratio, \n",
    "                          train_acc_t1_t0, train_acc_t1, train_acc_t1_t0 - train_acc_t1,\n",
    "                          test_acc_t1_t0, test_acc_t1, test_acc_t1_t0 - test_acc_t1])\n",
    "    result_df = pd.DataFrame(data=result_df, \n",
    "                             columns=['Unknown, %', \n",
    "                                      'Train', 'Train_T1', 'Train_T0', \n",
    "                                      'Test', 'Test_T1', 'Test_T0'])\n",
    "    return result_df"
   ]
  },
  {
   "cell_type": "code",
   "execution_count": 10,
   "metadata": {},
   "outputs": [
    {
     "data": {
      "text/html": [
       "<div>\n",
       "<style scoped>\n",
       "    .dataframe tbody tr th:only-of-type {\n",
       "        vertical-align: middle;\n",
       "    }\n",
       "\n",
       "    .dataframe tbody tr th {\n",
       "        vertical-align: top;\n",
       "    }\n",
       "\n",
       "    .dataframe thead th {\n",
       "        text-align: right;\n",
       "    }\n",
       "</style>\n",
       "<table border=\"1\" class=\"dataframe\">\n",
       "  <thead>\n",
       "    <tr style=\"text-align: right;\">\n",
       "      <th></th>\n",
       "      <th>Unknown, %</th>\n",
       "      <th>Train</th>\n",
       "      <th>Train_T1</th>\n",
       "      <th>Train_T0</th>\n",
       "      <th>Test</th>\n",
       "      <th>Test_T1</th>\n",
       "      <th>Test_T0</th>\n",
       "    </tr>\n",
       "  </thead>\n",
       "  <tbody>\n",
       "    <tr>\n",
       "      <th>0</th>\n",
       "      <td>20</td>\n",
       "      <td>0.952773</td>\n",
       "      <td>0.952773</td>\n",
       "      <td>0.0</td>\n",
       "      <td>0.945153</td>\n",
       "      <td>0.935259</td>\n",
       "      <td>0.009894</td>\n",
       "    </tr>\n",
       "    <tr>\n",
       "      <th>1</th>\n",
       "      <td>15</td>\n",
       "      <td>0.953853</td>\n",
       "      <td>0.953853</td>\n",
       "      <td>0.0</td>\n",
       "      <td>0.945153</td>\n",
       "      <td>0.934078</td>\n",
       "      <td>0.011075</td>\n",
       "    </tr>\n",
       "    <tr>\n",
       "      <th>2</th>\n",
       "      <td>10</td>\n",
       "      <td>0.954915</td>\n",
       "      <td>0.954915</td>\n",
       "      <td>0.0</td>\n",
       "      <td>0.945153</td>\n",
       "      <td>0.932657</td>\n",
       "      <td>0.012496</td>\n",
       "    </tr>\n",
       "    <tr>\n",
       "      <th>3</th>\n",
       "      <td>5</td>\n",
       "      <td>0.956087</td>\n",
       "      <td>0.956087</td>\n",
       "      <td>0.0</td>\n",
       "      <td>0.945153</td>\n",
       "      <td>0.931502</td>\n",
       "      <td>0.013652</td>\n",
       "    </tr>\n",
       "    <tr>\n",
       "      <th>4</th>\n",
       "      <td>0</td>\n",
       "      <td>0.957218</td>\n",
       "      <td>0.957218</td>\n",
       "      <td>0.0</td>\n",
       "      <td>0.945153</td>\n",
       "      <td>0.930346</td>\n",
       "      <td>0.014807</td>\n",
       "    </tr>\n",
       "  </tbody>\n",
       "</table>\n",
       "</div>"
      ],
      "text/plain": [
       "   Unknown, %     Train  Train_T1  Train_T0      Test   Test_T1   Test_T0\n",
       "0          20  0.952773  0.952773       0.0  0.945153  0.935259  0.009894\n",
       "1          15  0.953853  0.953853       0.0  0.945153  0.934078  0.011075\n",
       "2          10  0.954915  0.954915       0.0  0.945153  0.932657  0.012496\n",
       "3           5  0.956087  0.956087       0.0  0.945153  0.931502  0.013652\n",
       "4           0  0.957218  0.957218       0.0  0.945153  0.930346  0.014807"
      ]
     },
     "execution_count": 10,
     "metadata": {},
     "output_type": "execute_result"
    }
   ],
   "source": [
    "result_df = ex30(train_sents, test_sents)\n",
    "result_df"
   ]
  },
  {
   "cell_type": "markdown",
   "metadata": {},
   "source": [
    "Replacing 20% of low-frequency words with UNK didn't show any increase in total test accuracy, but the contribution of unigram and default taggers changed. When we increase the percent of UNKs, unigram tagger's contribution increases while default tagger's contribution decreases. Also, it's worth to note that the performance gap between total train accuracy and total test accuracy becomes larger and larger when the percent of UNKs decreases."
   ]
  },
  {
   "cell_type": "code",
   "execution_count": null,
   "metadata": {},
   "outputs": [],
   "source": []
  }
 ],
 "metadata": {
  "kernelspec": {
   "display_name": "Python 3",
   "language": "python",
   "name": "python3"
  },
  "language_info": {
   "codemirror_mode": {
    "name": "ipython",
    "version": 3
   },
   "file_extension": ".py",
   "mimetype": "text/x-python",
   "name": "python",
   "nbconvert_exporter": "python",
   "pygments_lexer": "ipython3",
   "version": "3.7.1"
  },
  "toc": {
   "base_numbering": 1,
   "nav_menu": {},
   "number_sections": false,
   "sideBar": true,
   "skip_h1_title": false,
   "title_cell": "Table of Contents",
   "title_sidebar": "Contents",
   "toc_cell": false,
   "toc_position": {
    "height": "calc(100% - 180px)",
    "left": "10px",
    "top": "150px",
    "width": "178px"
   },
   "toc_section_display": true,
   "toc_window_display": true
  }
 },
 "nbformat": 4,
 "nbformat_minor": 2
}
