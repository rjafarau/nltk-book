{
 "cells": [
  {
   "cell_type": "markdown",
   "metadata": {},
   "source": [
    "# IMPORTS"
   ]
  },
  {
   "cell_type": "code",
   "execution_count": 1,
   "metadata": {},
   "outputs": [],
   "source": [
    "import re\n",
    "import nltk\n",
    "import requests\n",
    "import numpy as np\n",
    "import pandas as pd\n",
    "import matplotlib.pyplot as plt"
   ]
  },
  {
   "cell_type": "code",
   "execution_count": 2,
   "metadata": {},
   "outputs": [],
   "source": [
    "from bs4 import BeautifulSoup"
   ]
  },
  {
   "cell_type": "code",
   "execution_count": 3,
   "metadata": {},
   "outputs": [],
   "source": [
    "%matplotlib inline"
   ]
  },
  {
   "cell_type": "markdown",
   "metadata": {},
   "source": [
    "# Exercise 1"
   ]
  },
  {
   "cell_type": "markdown",
   "metadata": {},
   "source": [
    "Search the Web for “spoof newspaper headlines,” to find such gems as: British\n",
    "Left Waffles on Falkland Islands, and Juvenile Court to Try Shooting Defendant.\n",
    "Manually tag these headlines to see whether knowledge of the part-of-speech tags\n",
    "removes the ambiguity."
   ]
  },
  {
   "cell_type": "code",
   "execution_count": 6,
   "metadata": {},
   "outputs": [
    {
     "data": {
      "text/plain": [
       "[('British', 'JJ'),\n",
       " ('Left', 'NNP'),\n",
       " ('Waffles', 'NNP'),\n",
       " ('on', 'IN'),\n",
       " ('Falkland', 'NNP'),\n",
       " ('Islands', 'NNP')]"
      ]
     },
     "execution_count": 6,
     "metadata": {},
     "output_type": "execute_result"
    }
   ],
   "source": [
    "headline1 = nltk.word_tokenize('British Left Waffles on Falkland Islands')\n",
    "nltk.pos_tag(headline1)"
   ]
  },
  {
   "cell_type": "code",
   "execution_count": 7,
   "metadata": {},
   "outputs": [
    {
     "data": {
      "text/plain": [
       "[('Juvenile', 'NNP'),\n",
       " ('Court', 'NNP'),\n",
       " ('to', 'TO'),\n",
       " ('Try', 'VB'),\n",
       " ('Shooting', 'NNP'),\n",
       " ('Defendant', 'NNP')]"
      ]
     },
     "execution_count": 7,
     "metadata": {},
     "output_type": "execute_result"
    }
   ],
   "source": [
    "headline2 = nltk.word_tokenize('Juvenile Court to Try Shooting Defendant')\n",
    "nltk.pos_tag(headline2)"
   ]
  },
  {
   "cell_type": "markdown",
   "metadata": {},
   "source": [
    "# Exercise 2"
   ]
  },
  {
   "cell_type": "markdown",
   "metadata": {},
   "source": [
    "Working with someone else, take turns picking a word that can be either a noun\n",
    "or a verb (e.g., contest); the opponent has to predict which one is likely to be the\n",
    "most frequent in the Brown Corpus. Check the opponent’s prediction, and tally\n",
    "the score over several turns."
   ]
  },
  {
   "cell_type": "code",
   "execution_count": 13,
   "metadata": {},
   "outputs": [],
   "source": [
    "from nltk.corpus import brown\n",
    "from nltk.probability import ConditionalFreqDist"
   ]
  },
  {
   "cell_type": "code",
   "execution_count": 14,
   "metadata": {},
   "outputs": [],
   "source": [
    "cfd = ConditionalFreqDist(\n",
    "    (word.lower(), tag) \n",
    "    for (word, tag) in brown.tagged_words(tagset='universal')\n",
    ")"
   ]
  },
  {
   "cell_type": "code",
   "execution_count": 18,
   "metadata": {},
   "outputs": [
    {
     "data": {
      "text/plain": [
       "'NOUN'"
      ]
     },
     "execution_count": 18,
     "metadata": {},
     "output_type": "execute_result"
    }
   ],
   "source": [
    "cfd['contest'].max()"
   ]
  },
  {
   "cell_type": "code",
   "execution_count": 19,
   "metadata": {},
   "outputs": [
    {
     "data": {
      "text/plain": [
       "'NOUN'"
      ]
     },
     "execution_count": 19,
     "metadata": {},
     "output_type": "execute_result"
    }
   ],
   "source": [
    "cfd['test'].max()"
   ]
  },
  {
   "cell_type": "code",
   "execution_count": 22,
   "metadata": {},
   "outputs": [
    {
     "data": {
      "text/plain": [
       "'NOUN'"
      ]
     },
     "execution_count": 22,
     "metadata": {},
     "output_type": "execute_result"
    }
   ],
   "source": [
    "cfd['work'].max()"
   ]
  },
  {
   "cell_type": "markdown",
   "metadata": {},
   "source": [
    "# Exercise 3"
   ]
  },
  {
   "cell_type": "markdown",
   "metadata": {},
   "source": [
    "Tokenize and tag the following sentence: They wind back the clock, while we\n",
    "chase after the wind. What different pronunciations and parts-of-speech are\n",
    "involved?"
   ]
  },
  {
   "cell_type": "code",
   "execution_count": 26,
   "metadata": {},
   "outputs": [],
   "source": [
    "sent = nltk.word_tokenize('They wind back the clock, while we chase after the wind')"
   ]
  },
  {
   "cell_type": "code",
   "execution_count": 28,
   "metadata": {},
   "outputs": [
    {
     "data": {
      "text/plain": [
       "[('They', 'PRON'),\n",
       " ('wind', 'VERB'),\n",
       " ('back', 'ADV'),\n",
       " ('the', 'DET'),\n",
       " ('clock', 'NOUN'),\n",
       " (',', '.'),\n",
       " ('while', 'ADP'),\n",
       " ('we', 'PRON'),\n",
       " ('chase', 'VERB'),\n",
       " ('after', 'ADP'),\n",
       " ('the', 'DET'),\n",
       " ('wind', 'NOUN')]"
      ]
     },
     "execution_count": 28,
     "metadata": {},
     "output_type": "execute_result"
    }
   ],
   "source": [
    "nltk.pos_tag(sent, tagset='universal')"
   ]
  },
  {
   "cell_type": "markdown",
   "metadata": {},
   "source": [
    "According to https://dictionary.cambridge.org/dictionary/english/wind"
   ]
  },
  {
   "cell_type": "markdown",
   "metadata": {},
   "source": [
    "wind [waɪnd] - verb, to turn or cause something to turn"
   ]
  },
  {
   "cell_type": "markdown",
   "metadata": {},
   "source": [
    "wind [wɪnd] - noun, a current of air moving approximately horizontally, especially one strong enough to be felt"
   ]
  },
  {
   "cell_type": "markdown",
   "metadata": {},
   "source": [
    "# Exercise 4"
   ]
  },
  {
   "cell_type": "markdown",
   "metadata": {},
   "source": [
    "Review the mappings in Table 5-4. Discuss any other examples of mappings you\n",
    "can think of. What type of information do they map from and to?"
   ]
  },
  {
   "attachments": {
    "image.png": {
     "image/png": "[encoded data removed]"
    }
   },
   "cell_type": "markdown",
   "metadata": {},
   "source": [
    "![image.png](attachment:image.png)"
   ]
  },
  {
   "cell_type": "markdown",
   "metadata": {},
   "source": [
    "Pronunciation dictionary maps a word to its pronunciation"
   ]
  },
  {
   "cell_type": "markdown",
   "metadata": {},
   "source": [
    "Sentiment dictionary maps a word to its sentiment value"
   ]
  },
  {
   "cell_type": "markdown",
   "metadata": {},
   "source": [
    "# Exercise 5"
   ]
  },
  {
   "cell_type": "markdown",
   "metadata": {},
   "source": [
    "Using the Python interpreter in interactive mode, experiment with the dictionary\n",
    "examples in this chapter. Create a dictionary d, and add some entries. What happens\n",
    "whether you try to access a non-existent entry, e.g., d['xyz']?"
   ]
  },
  {
   "cell_type": "code",
   "execution_count": 37,
   "metadata": {},
   "outputs": [
    {
     "ename": "KeyError",
     "evalue": "'xyz'",
     "output_type": "error",
     "traceback": [
      "\u001b[1;31m---------------------------------------------------------------------------\u001b[0m",
      "\u001b[1;31mKeyError\u001b[0m                                  Traceback (most recent call last)",
      "\u001b[1;32m<ipython-input-37-9c03f28ff8fd>\u001b[0m in \u001b[0;36m<module>\u001b[1;34m\u001b[0m\n\u001b[0;32m      2\u001b[0m \u001b[0md\u001b[0m\u001b[1;33m[\u001b[0m\u001b[1;34m'a'\u001b[0m\u001b[1;33m]\u001b[0m \u001b[1;33m=\u001b[0m \u001b[1;36m1\u001b[0m\u001b[1;33m\u001b[0m\u001b[1;33m\u001b[0m\u001b[0m\n\u001b[0;32m      3\u001b[0m \u001b[0md\u001b[0m\u001b[1;33m[\u001b[0m\u001b[1;34m'b'\u001b[0m\u001b[1;33m]\u001b[0m \u001b[1;33m=\u001b[0m \u001b[1;36m2\u001b[0m\u001b[1;33m\u001b[0m\u001b[1;33m\u001b[0m\u001b[0m\n\u001b[1;32m----> 4\u001b[1;33m \u001b[0md\u001b[0m\u001b[1;33m[\u001b[0m\u001b[1;34m'xyz'\u001b[0m\u001b[1;33m]\u001b[0m\u001b[1;33m\u001b[0m\u001b[1;33m\u001b[0m\u001b[0m\n\u001b[0m",
      "\u001b[1;31mKeyError\u001b[0m: 'xyz'"
     ]
    }
   ],
   "source": [
    "d = {}\n",
    "d['a'] = 1\n",
    "d['b'] = 2\n",
    "d['xyz']"
   ]
  },
  {
   "cell_type": "markdown",
   "metadata": {},
   "source": [
    "# Exercise 6"
   ]
  },
  {
   "cell_type": "markdown",
   "metadata": {},
   "source": [
    "Try deleting an element from a dictionary d, using the syntax del d['abc']. Check\n",
    "that the item was deleted."
   ]
  },
  {
   "cell_type": "code",
   "execution_count": 39,
   "metadata": {},
   "outputs": [
    {
     "ename": "KeyError",
     "evalue": "'b'",
     "output_type": "error",
     "traceback": [
      "\u001b[1;31m---------------------------------------------------------------------------\u001b[0m",
      "\u001b[1;31mKeyError\u001b[0m                                  Traceback (most recent call last)",
      "\u001b[1;32m<ipython-input-39-676952f41335>\u001b[0m in \u001b[0;36m<module>\u001b[1;34m\u001b[0m\n\u001b[1;32m----> 1\u001b[1;33m \u001b[1;32mdel\u001b[0m \u001b[0md\u001b[0m\u001b[1;33m[\u001b[0m\u001b[1;34m'b'\u001b[0m\u001b[1;33m]\u001b[0m\u001b[1;33m\u001b[0m\u001b[1;33m\u001b[0m\u001b[0m\n\u001b[0m\u001b[0;32m      2\u001b[0m \u001b[0md\u001b[0m\u001b[1;33m[\u001b[0m\u001b[1;34m'b'\u001b[0m\u001b[1;33m]\u001b[0m\u001b[1;33m\u001b[0m\u001b[1;33m\u001b[0m\u001b[0m\n",
      "\u001b[1;31mKeyError\u001b[0m: 'b'"
     ]
    }
   ],
   "source": [
    "del d['b']\n",
    "d['b']"
   ]
  },
  {
   "cell_type": "markdown",
   "metadata": {},
   "source": [
    "# Exercise 7"
   ]
  },
  {
   "cell_type": "markdown",
   "metadata": {},
   "source": [
    "Create two dictionaries, d1 and d2, and add some entries to each. Now issue the\n",
    "command d1.update(d2). What did this do? What might it be useful for?"
   ]
  },
  {
   "cell_type": "code",
   "execution_count": 44,
   "metadata": {},
   "outputs": [],
   "source": [
    "d1 = {'a': 1, 'b': 2}\n",
    "d2 = {'a': 1.1, 'c': 3}"
   ]
  },
  {
   "cell_type": "code",
   "execution_count": 48,
   "metadata": {},
   "outputs": [
    {
     "data": {
      "text/plain": [
       "{'a': 1.1, 'b': 2, 'c': 3}"
      ]
     },
     "execution_count": 48,
     "metadata": {},
     "output_type": "execute_result"
    }
   ],
   "source": [
    "d1.update(d2)  # .update method adds new key-value pairs as well as updates existing ones\n",
    "d1"
   ]
  },
  {
   "cell_type": "markdown",
   "metadata": {},
   "source": [
    "# Exercise 8"
   ]
  },
  {
   "cell_type": "markdown",
   "metadata": {},
   "source": [
    "Create a dictionary e, to represent a single lexical entry for some word of your\n",
    "choice. Define keys such as headword, part-of-speech, sense, and example, and assign\n",
    "them suitable values."
   ]
  },
  {
   "cell_type": "code",
   "execution_count": 49,
   "metadata": {},
   "outputs": [],
   "source": [
    "e = {\n",
    "    'successful': {\n",
    "        'headword': 'success',\n",
    "        'part-of-speech': 'ADJ',\n",
    "        'sense': 'accomplishing an aim or purpose',\n",
    "        'example': 'a successful attack on the town'\n",
    "    }\n",
    "}"
   ]
  },
  {
   "cell_type": "code",
   "execution_count": 50,
   "metadata": {},
   "outputs": [
    {
     "data": {
      "text/plain": [
       "'accomplishing an aim or purpose'"
      ]
     },
     "execution_count": 50,
     "metadata": {},
     "output_type": "execute_result"
    }
   ],
   "source": [
    "e['successful']['sense']"
   ]
  },
  {
   "cell_type": "markdown",
   "metadata": {},
   "source": [
    "# Exercise 9"
   ]
  },
  {
   "cell_type": "markdown",
   "metadata": {},
   "source": [
    "Satisfy yourself that there are restrictions on the distribution of go and went, in\n",
    "the sense that they cannot be freely interchanged in the kinds of contexts illustrated\n",
    "in (3), Section 5.7."
   ]
  },
  {
   "cell_type": "markdown",
   "metadata": {},
   "source": [
    "a. Go away!\n",
    "b. He sometimes goes to the cafe.\n",
    "c. All the cakes have gone.\n",
    "d. We went on the excursion."
   ]
  },
  {
   "cell_type": "code",
   "execution_count": 59,
   "metadata": {},
   "outputs": [],
   "source": [
    "from nltk.corpus import brown"
   ]
  },
  {
   "cell_type": "code",
   "execution_count": 60,
   "metadata": {},
   "outputs": [],
   "source": [
    "brown_text = nltk.Text(brown.words())"
   ]
  },
  {
   "cell_type": "code",
   "execution_count": 65,
   "metadata": {},
   "outputs": [
    {
     "name": "stdout",
     "output_type": "stream",
     "text": [
      "Displaying 25 of 626 matches:\n",
      "struction bonds . The bond issue will go to the state courts for a friendly te\n",
      "ress text still had `` quite a way to go '' toward completion . Decisions are \n",
      " replied , `` I would say it's got to go thru several more drafts '' . Salinge\n",
      "ause the levy is already scheduled to go up by 1 per cent on that date to pay \n",
      "irst year , 1963 . Both figures would go higher in later years . Other parts o\n",
      "lion dollars the first year and would go up to 21 millions by 1966 . The Presi\n",
      "said yesterday he would be willing to go before the city council `` or anyone \n",
      "red would know what to do or where to go in the event of an enemy attack . The\n",
      "e another . Riverside residents would go to the Seekonk assembly point . Mr. H\n",
      "nk E. Smith as the one most likely to go , the redistricting battle will put t\n",
      "e battle . Then he could tell them to go home , while the administration conti\n",
      "pinion as to how far the board should go , and whose advice it should follow .\n",
      "n to where the parents wanted them to go . Dr. Melvin W. Barnes , superintende\n",
      "ay night in Salem . On Friday he will go to Portland for the swearing in of De\n",
      "`` Then we'd really have someplace to go '' . Bowie , Md. , March 17 -- Gainin\n",
      "`` Spahnie doesn't know how to merely go through the motions '' , remarked Eno\n",
      "Slocum Memorial Award . To Spahn will go the Sid Mercer Memorial Award as the \n",
      "ds . The writers' Gold Tee Award will go to John McAuliffe of Plainfield , N. \n",
      "ever , Mr. Parichy and his bride will go to Vero Beach on their wedding trip ,\n",
      "ncy '' . No matter how many Americans go abroad in summer , probably a hundred\n",
      ", service and comfort stations ( they go together like Scots and heather ) , d\n",
      "Werner said , was let manual laborers go home Tuesday night for some rest . Wo\n",
      "t destroyers . It could , reputedly , go 70,000 miles without refueling and st\n",
      "dinator of audio-visual education may go to the state Supreme Court , it appea\n",
      " therefore knew them . It was time to go up myself '' . Fiedler was then techn\n"
     ]
    }
   ],
   "source": [
    "brown_text.concordance('go')"
   ]
  },
  {
   "cell_type": "code",
   "execution_count": 66,
   "metadata": {},
   "outputs": [
    {
     "name": "stdout",
     "output_type": "stream",
     "text": [
      "Displaying 25 of 507 matches:\n",
      "ade good his promise . `` Everything went real smooth '' , the sheriff said . \n",
      "axation . Under committee rules , it went automatically to a subcommittee for \n",
      "e . And after several correspondents went into Pathet Lao territory and expose\n",
      "the Kansas City scoring in the sixth went like this : Lumpe worked a walk as t\n",
      "his season to 13 straight before one went astray last Saturday night in the 41\n",
      "nd caught one pass for 13 yards . He went into the Army in March , 1957 , and \n",
      "m Monday , ran for 30 minutes , then went in , while the reserves scrimmaged f\n",
      "tchie of the Ogden Standard Examiner went to his compartment to talk with him \n",
      "pped into his second shot . The ball went off in a majestic arc , an out-of-bo\n",
      " rare sense of humor . Everywhere he went in town , people sidled up , gave hi\n",
      "e is where a man was born , reared , went to school and , most particularly , \n",
      " off for good behavior . He promptly went to communist East Germany . The magi\n",
      "in the Skipjack . With the machinery went a complete design for the hull . The\n",
      "issile submarines '' , the statement went on . The atom reactor , water cooled\n",
      "e this account : Thomas early Sunday went to the home of his uncle and aunt , \n",
      "sheep showman contest . Blue ribbons went to Stephanie Shaw of Hillsboro , Lar\n",
      "nks . Swine showmanship championship went to Bob Day , with Tom Day and Hutchi\n",
      "d on the jury . Then , when the case went to the jury , the judge excused one \n",
      "streamer of dust it landed . Fiedler went on to make several other test flight\n",
      "inals . Second grand prize of $5,000 went to Mrs. Clara L. Oliver for her Hawa\n",
      "Last two to be added before the book went to press were the marriages of Mered\n",
      " next year's television shows . So I went to see `` La Dolce Vita '' . It has \n",
      "ou have language problems . The week went along briskly enough . I bought a ne\n",
      "eaded up one of the four groups that went on simultaneous tours after the Gall\n",
      "tings and sculptures to each group , went one of the Gallery's blue-uniformed \n"
     ]
    }
   ],
   "source": [
    "brown_text.concordance('went')"
   ]
  },
  {
   "cell_type": "markdown",
   "metadata": {},
   "source": [
    "# Exercise 10"
   ]
  },
  {
   "cell_type": "markdown",
   "metadata": {},
   "source": [
    "Train a unigram tagger and run it on some new text. Observe that some words\n",
    "are not assigned a tag. Why not?"
   ]
  },
  {
   "cell_type": "code",
   "execution_count": 74,
   "metadata": {},
   "outputs": [],
   "source": [
    "from nltk.corpus import brown\n",
    "from nltk.tag import UnigramTagger"
   ]
  },
  {
   "cell_type": "code",
   "execution_count": 75,
   "metadata": {},
   "outputs": [],
   "source": [
    "unigram_tagger = UnigramTagger(brown.tagged_sents())"
   ]
  },
  {
   "cell_type": "code",
   "execution_count": 76,
   "metadata": {},
   "outputs": [
    {
     "data": {
      "text/plain": [
       "[('Train', 'NN-TL'),\n",
       " ('a', 'AT'),\n",
       " ('unigram', None),\n",
       " ('tagger', None),\n",
       " ('and', 'CC'),\n",
       " ('run', 'VB'),\n",
       " ('it', 'PPS'),\n",
       " ('on', 'IN'),\n",
       " ('some', 'DTI'),\n",
       " ('new', 'JJ'),\n",
       " ('text', 'NN')]"
      ]
     },
     "execution_count": 76,
     "metadata": {},
     "output_type": "execute_result"
    }
   ],
   "source": [
    "unigram_tagger.tag(['Train', 'a', 'unigram', 'tagger', 'and',\n",
    "                    'run', 'it', 'on', 'some', 'new', 'text'])"
   ]
  },
  {
   "cell_type": "markdown",
   "metadata": {},
   "source": [
    "Because the unigram_tagger didn't see such words as 'unigram' and 'tagger' during training. And there was not any backoff tagger."
   ]
  },
  {
   "cell_type": "markdown",
   "metadata": {},
   "source": [
    "# Exercise 11"
   ]
  },
  {
   "cell_type": "markdown",
   "metadata": {},
   "source": [
    "Learn about the affix tagger (type help(nltk.AffixTagger)). Train an affix tagger\n",
    "and run it on some new text. Experiment with different settings for the affix length\n",
    "and the minimum word length. Discuss your findings."
   ]
  },
  {
   "cell_type": "code",
   "execution_count": 21,
   "metadata": {},
   "outputs": [],
   "source": [
    "from nltk.tag import AffixTagger\n",
    "from nltk.corpus import brown"
   ]
  },
  {
   "cell_type": "code",
   "execution_count": 22,
   "metadata": {},
   "outputs": [],
   "source": [
    "sent = nltk.word_tokenize('They wind back the clock, while we chase after the wind')"
   ]
  },
  {
   "cell_type": "code",
   "execution_count": 23,
   "metadata": {},
   "outputs": [
    {
     "name": "stdout",
     "output_type": "stream",
     "text": [
      "[('They', None), ('wind', None), ('back', None), ('the', None), ('clock', 'NOUN'), (',', None), ('while', 'ADP'), ('we', None), ('chase', 'NOUN'), ('after', 'NOUN'), ('the', None), ('wind', None)]\n"
     ]
    }
   ],
   "source": [
    "affix_tagger = AffixTagger(brown.tagged_sents(tagset='universal'))\n",
    "print(affix_tagger.tag(sent))"
   ]
  },
  {
   "cell_type": "code",
   "execution_count": 24,
   "metadata": {},
   "outputs": [
    {
     "name": "stdout",
     "output_type": "stream",
     "text": [
      "[('They', 'PRON'), ('wind', 'CONJ'), ('back', 'NOUN'), ('the', 'DET'), ('clock', 'NOUN'), (',', None), ('while', 'ADJ'), ('we', None), ('chase', 'NOUN'), ('after', 'NOUN'), ('the', 'DET'), ('wind', 'CONJ')]\n"
     ]
    }
   ],
   "source": [
    "affix_tagger = AffixTagger(\n",
    "    train=brown.tagged_sents(tagset='universal'),\n",
    "    affix_length=-2,\n",
    "    min_stem_length=1\n",
    ")\n",
    "print(affix_tagger.tag(sent))"
   ]
  },
  {
   "cell_type": "markdown",
   "metadata": {},
   "source": [
    "AffixTagger shows bad performance in tagging short and long words. There is a trade-off between affix_length and min_stem_length."
   ]
  },
  {
   "cell_type": "markdown",
   "metadata": {},
   "source": [
    "# Exercise 12"
   ]
  },
  {
   "cell_type": "markdown",
   "metadata": {},
   "source": [
    "Train a bigram tagger with no backoff tagger, and run it on some of the training\n",
    "data. Next, run it on some new data. What happens to the performance of the\n",
    "tagger? Why?"
   ]
  },
  {
   "cell_type": "code",
   "execution_count": 64,
   "metadata": {},
   "outputs": [],
   "source": [
    "from nltk.tag import BigramTagger\n",
    "from nltk.corpus import brown"
   ]
  },
  {
   "cell_type": "code",
   "execution_count": 65,
   "metadata": {},
   "outputs": [],
   "source": [
    "tagged_sents = list(brown.tagged_sents(tagset='universal'))"
   ]
  },
  {
   "cell_type": "code",
   "execution_count": 66,
   "metadata": {},
   "outputs": [],
   "source": [
    "np.random.seed(42)\n",
    "np.random.shuffle(tagged_sents)"
   ]
  },
  {
   "cell_type": "code",
   "execution_count": 67,
   "metadata": {},
   "outputs": [],
   "source": [
    "train_ind = int(len(tagged_sents) * 0.8)"
   ]
  },
  {
   "cell_type": "code",
   "execution_count": 68,
   "metadata": {},
   "outputs": [],
   "source": [
    "train_sents = tagged_sents[:train_ind]\n",
    "test_sents = tagged_sents[train_ind:]"
   ]
  },
  {
   "cell_type": "code",
   "execution_count": 69,
   "metadata": {},
   "outputs": [],
   "source": [
    "bigram_tagger = BigramTagger(train_sents)"
   ]
  },
  {
   "cell_type": "code",
   "execution_count": 70,
   "metadata": {},
   "outputs": [
    {
     "data": {
      "text/plain": [
       "0.9001371097863057"
      ]
     },
     "execution_count": 70,
     "metadata": {},
     "output_type": "execute_result"
    }
   ],
   "source": [
    "bigram_tagger.evaluate(train_sents)"
   ]
  },
  {
   "cell_type": "code",
   "execution_count": 71,
   "metadata": {},
   "outputs": [
    {
     "data": {
      "text/plain": [
       "0.4504860510722645"
      ]
     },
     "execution_count": 71,
     "metadata": {},
     "output_type": "execute_result"
    }
   ],
   "source": [
    "bigram_tagger.evaluate(test_sents)"
   ]
  },
  {
   "cell_type": "markdown",
   "metadata": {},
   "source": [
    "Bigram tagger manages to tag every word in a sentence it saw during\n",
    "training, but does badly on an unseen sentence. As soon as it encounters a new word, it is unable to assign a tag. \n",
    "It cannot tag some word,\n",
    "even if it was seen during training, simply because it never saw it during training with\n",
    "a None tag on the previous word. Consequently, the tagger fails to tag the rest of the\n",
    "sentence. Its overall accuracy score is very low."
   ]
  },
  {
   "cell_type": "markdown",
   "metadata": {},
   "source": [
    "# Exercise 13"
   ]
  },
  {
   "cell_type": "markdown",
   "metadata": {},
   "source": [
    "We can use a dictionary to specify the values to be substituted into a formatting\n",
    "string. Read Python’s library documentation for formatting strings (http://docs.python.org/lib/typesseq-strings.html) and use this method to display today’s date in\n",
    "two different formats."
   ]
  },
  {
   "cell_type": "code",
   "execution_count": 32,
   "metadata": {},
   "outputs": [],
   "source": [
    "from datetime import datetime"
   ]
  },
  {
   "cell_type": "code",
   "execution_count": 33,
   "metadata": {},
   "outputs": [],
   "source": [
    "today = datetime.today()"
   ]
  },
  {
   "cell_type": "code",
   "execution_count": 34,
   "metadata": {},
   "outputs": [
    {
     "name": "stdout",
     "output_type": "stream",
     "text": [
      "2019-07-29 13:33\n"
     ]
    }
   ],
   "source": [
    "print('{:%Y-%m-%d %H:%M}'.format(today))"
   ]
  },
  {
   "cell_type": "code",
   "execution_count": 35,
   "metadata": {},
   "outputs": [
    {
     "name": "stdout",
     "output_type": "stream",
     "text": [
      "07-29-2019 13:33:30.051372\n"
     ]
    }
   ],
   "source": [
    "print('{:%m-%d-%Y %H:%M:%S.%f}'.format(today))"
   ]
  },
  {
   "cell_type": "markdown",
   "metadata": {},
   "source": [
    "# Exercise 14"
   ]
  },
  {
   "cell_type": "markdown",
   "metadata": {},
   "source": [
    "Use sorted() and set() to get a sorted list of tags used in the Brown Corpus,\n",
    "removing duplicates."
   ]
  },
  {
   "cell_type": "code",
   "execution_count": 36,
   "metadata": {},
   "outputs": [],
   "source": [
    "from nltk.corpus import brown"
   ]
  },
  {
   "cell_type": "code",
   "execution_count": 39,
   "metadata": {},
   "outputs": [
    {
     "data": {
      "text/plain": [
       "[\"'\",\n",
       " \"''\",\n",
       " '(',\n",
       " '(-HL',\n",
       " ')',\n",
       " ')-HL',\n",
       " '*',\n",
       " '*-HL',\n",
       " '*-NC',\n",
       " '*-TL',\n",
       " ',',\n",
       " ',-HL',\n",
       " ',-NC',\n",
       " ',-TL',\n",
       " '--',\n",
       " '---HL',\n",
       " '.',\n",
       " '.-HL',\n",
       " '.-NC',\n",
       " '.-TL',\n",
       " ':',\n",
       " ':-HL',\n",
       " ':-TL',\n",
       " 'ABL',\n",
       " 'ABN',\n",
       " 'ABN-HL',\n",
       " 'ABN-NC',\n",
       " 'ABN-TL',\n",
       " 'ABX',\n",
       " 'AP',\n",
       " 'AP$',\n",
       " 'AP+AP-NC',\n",
       " 'AP-HL',\n",
       " 'AP-NC',\n",
       " 'AP-TL',\n",
       " 'AT',\n",
       " 'AT-HL',\n",
       " 'AT-NC',\n",
       " 'AT-TL',\n",
       " 'AT-TL-HL',\n",
       " 'BE',\n",
       " 'BE-HL',\n",
       " 'BE-TL',\n",
       " 'BED',\n",
       " 'BED*',\n",
       " 'BED-NC',\n",
       " 'BEDZ',\n",
       " 'BEDZ*',\n",
       " 'BEDZ-HL',\n",
       " 'BEDZ-NC',\n",
       " 'BEG',\n",
       " 'BEM',\n",
       " 'BEM*',\n",
       " 'BEM-NC',\n",
       " 'BEN',\n",
       " 'BEN-TL',\n",
       " 'BER',\n",
       " 'BER*',\n",
       " 'BER*-NC',\n",
       " 'BER-HL',\n",
       " 'BER-NC',\n",
       " 'BER-TL',\n",
       " 'BEZ',\n",
       " 'BEZ*',\n",
       " 'BEZ-HL',\n",
       " 'BEZ-NC',\n",
       " 'BEZ-TL',\n",
       " 'CC',\n",
       " 'CC-HL',\n",
       " 'CC-NC',\n",
       " 'CC-TL',\n",
       " 'CC-TL-HL',\n",
       " 'CD',\n",
       " 'CD$',\n",
       " 'CD-HL',\n",
       " 'CD-NC',\n",
       " 'CD-TL',\n",
       " 'CD-TL-HL',\n",
       " 'CS',\n",
       " 'CS-HL',\n",
       " 'CS-NC',\n",
       " 'CS-TL',\n",
       " 'DO',\n",
       " 'DO*',\n",
       " 'DO*-HL',\n",
       " 'DO+PPSS',\n",
       " 'DO-HL',\n",
       " 'DO-NC',\n",
       " 'DO-TL',\n",
       " 'DOD',\n",
       " 'DOD*',\n",
       " 'DOD*-TL',\n",
       " 'DOD-NC',\n",
       " 'DOZ',\n",
       " 'DOZ*',\n",
       " 'DOZ*-TL',\n",
       " 'DOZ-HL',\n",
       " 'DOZ-TL',\n",
       " 'DT',\n",
       " 'DT$',\n",
       " 'DT+BEZ',\n",
       " 'DT+BEZ-NC',\n",
       " 'DT+MD',\n",
       " 'DT-HL',\n",
       " 'DT-NC',\n",
       " 'DT-TL',\n",
       " 'DTI',\n",
       " 'DTI-HL',\n",
       " 'DTI-TL',\n",
       " 'DTS',\n",
       " 'DTS+BEZ',\n",
       " 'DTS-HL',\n",
       " 'DTX',\n",
       " 'EX',\n",
       " 'EX+BEZ',\n",
       " 'EX+HVD',\n",
       " 'EX+HVZ',\n",
       " 'EX+MD',\n",
       " 'EX-HL',\n",
       " 'EX-NC',\n",
       " 'FW-*',\n",
       " 'FW-*-TL',\n",
       " 'FW-AT',\n",
       " 'FW-AT+NN-TL',\n",
       " 'FW-AT+NP-TL',\n",
       " 'FW-AT-HL',\n",
       " 'FW-AT-TL',\n",
       " 'FW-BE',\n",
       " 'FW-BER',\n",
       " 'FW-BEZ',\n",
       " 'FW-CC',\n",
       " 'FW-CC-TL',\n",
       " 'FW-CD',\n",
       " 'FW-CD-TL',\n",
       " 'FW-CS',\n",
       " 'FW-DT',\n",
       " 'FW-DT+BEZ',\n",
       " 'FW-DTS',\n",
       " 'FW-HV',\n",
       " 'FW-IN',\n",
       " 'FW-IN+AT',\n",
       " 'FW-IN+AT-T',\n",
       " 'FW-IN+AT-TL',\n",
       " 'FW-IN+NN',\n",
       " 'FW-IN+NN-TL',\n",
       " 'FW-IN+NP-TL',\n",
       " 'FW-IN-TL',\n",
       " 'FW-JJ',\n",
       " 'FW-JJ-NC',\n",
       " 'FW-JJ-TL',\n",
       " 'FW-JJR',\n",
       " 'FW-JJT',\n",
       " 'FW-NN',\n",
       " 'FW-NN$',\n",
       " 'FW-NN$-TL',\n",
       " 'FW-NN-NC',\n",
       " 'FW-NN-TL',\n",
       " 'FW-NN-TL-NC',\n",
       " 'FW-NNS',\n",
       " 'FW-NNS-NC',\n",
       " 'FW-NNS-TL',\n",
       " 'FW-NP',\n",
       " 'FW-NP-TL',\n",
       " 'FW-NPS',\n",
       " 'FW-NPS-TL',\n",
       " 'FW-NR',\n",
       " 'FW-NR-TL',\n",
       " 'FW-OD-NC',\n",
       " 'FW-OD-TL',\n",
       " 'FW-PN',\n",
       " 'FW-PP$',\n",
       " 'FW-PP$-NC',\n",
       " 'FW-PP$-TL',\n",
       " 'FW-PPL',\n",
       " 'FW-PPL+VBZ',\n",
       " 'FW-PPO',\n",
       " 'FW-PPO+IN',\n",
       " 'FW-PPS',\n",
       " 'FW-PPSS',\n",
       " 'FW-PPSS+HV',\n",
       " 'FW-QL',\n",
       " 'FW-RB',\n",
       " 'FW-RB+CC',\n",
       " 'FW-RB-TL',\n",
       " 'FW-TO+VB',\n",
       " 'FW-UH',\n",
       " 'FW-UH-NC',\n",
       " 'FW-UH-TL',\n",
       " 'FW-VB',\n",
       " 'FW-VB-NC',\n",
       " 'FW-VB-TL',\n",
       " 'FW-VBD',\n",
       " 'FW-VBD-TL',\n",
       " 'FW-VBG',\n",
       " 'FW-VBG-TL',\n",
       " 'FW-VBN',\n",
       " 'FW-VBZ',\n",
       " 'FW-WDT',\n",
       " 'FW-WPO',\n",
       " 'FW-WPS',\n",
       " 'HV',\n",
       " 'HV*',\n",
       " 'HV+TO',\n",
       " 'HV-HL',\n",
       " 'HV-NC',\n",
       " 'HV-TL',\n",
       " 'HVD',\n",
       " 'HVD*',\n",
       " 'HVD-HL',\n",
       " 'HVG',\n",
       " 'HVG-HL',\n",
       " 'HVN',\n",
       " 'HVZ',\n",
       " 'HVZ*',\n",
       " 'HVZ-NC',\n",
       " 'HVZ-TL',\n",
       " 'IN',\n",
       " 'IN+IN',\n",
       " 'IN+PPO',\n",
       " 'IN-HL',\n",
       " 'IN-NC',\n",
       " 'IN-TL',\n",
       " 'IN-TL-HL',\n",
       " 'JJ',\n",
       " 'JJ$-TL',\n",
       " 'JJ+JJ-NC',\n",
       " 'JJ-HL',\n",
       " 'JJ-NC',\n",
       " 'JJ-TL',\n",
       " 'JJ-TL-HL',\n",
       " 'JJ-TL-NC',\n",
       " 'JJR',\n",
       " 'JJR+CS',\n",
       " 'JJR-HL',\n",
       " 'JJR-NC',\n",
       " 'JJR-TL',\n",
       " 'JJS',\n",
       " 'JJS-HL',\n",
       " 'JJS-TL',\n",
       " 'JJT',\n",
       " 'JJT-HL',\n",
       " 'JJT-NC',\n",
       " 'JJT-TL',\n",
       " 'MD',\n",
       " 'MD*',\n",
       " 'MD*-HL',\n",
       " 'MD+HV',\n",
       " 'MD+PPSS',\n",
       " 'MD+TO',\n",
       " 'MD-HL',\n",
       " 'MD-NC',\n",
       " 'MD-TL',\n",
       " 'NIL',\n",
       " 'NN',\n",
       " 'NN$',\n",
       " 'NN$-HL',\n",
       " 'NN$-TL',\n",
       " 'NN+BEZ',\n",
       " 'NN+BEZ-TL',\n",
       " 'NN+HVD-TL',\n",
       " 'NN+HVZ',\n",
       " 'NN+HVZ-TL',\n",
       " 'NN+IN',\n",
       " 'NN+MD',\n",
       " 'NN+NN-NC',\n",
       " 'NN-HL',\n",
       " 'NN-NC',\n",
       " 'NN-TL',\n",
       " 'NN-TL-HL',\n",
       " 'NN-TL-NC',\n",
       " 'NNS',\n",
       " 'NNS$',\n",
       " 'NNS$-HL',\n",
       " 'NNS$-NC',\n",
       " 'NNS$-TL',\n",
       " 'NNS$-TL-HL',\n",
       " 'NNS+MD',\n",
       " 'NNS-HL',\n",
       " 'NNS-NC',\n",
       " 'NNS-TL',\n",
       " 'NNS-TL-HL',\n",
       " 'NNS-TL-NC',\n",
       " 'NP',\n",
       " 'NP$',\n",
       " 'NP$-HL',\n",
       " 'NP$-TL',\n",
       " 'NP+BEZ',\n",
       " 'NP+BEZ-NC',\n",
       " 'NP+HVZ',\n",
       " 'NP+HVZ-NC',\n",
       " 'NP+MD',\n",
       " 'NP-HL',\n",
       " 'NP-NC',\n",
       " 'NP-TL',\n",
       " 'NP-TL-HL',\n",
       " 'NPS',\n",
       " 'NPS$',\n",
       " 'NPS$-HL',\n",
       " 'NPS$-TL',\n",
       " 'NPS-HL',\n",
       " 'NPS-NC',\n",
       " 'NPS-TL',\n",
       " 'NR',\n",
       " 'NR$',\n",
       " 'NR$-TL',\n",
       " 'NR+MD',\n",
       " 'NR-HL',\n",
       " 'NR-NC',\n",
       " 'NR-TL',\n",
       " 'NR-TL-HL',\n",
       " 'NRS',\n",
       " 'NRS-TL',\n",
       " 'OD',\n",
       " 'OD-HL',\n",
       " 'OD-NC',\n",
       " 'OD-TL',\n",
       " 'PN',\n",
       " 'PN$',\n",
       " 'PN+BEZ',\n",
       " 'PN+HVD',\n",
       " 'PN+HVZ',\n",
       " 'PN+MD',\n",
       " 'PN-HL',\n",
       " 'PN-NC',\n",
       " 'PN-TL',\n",
       " 'PP$',\n",
       " 'PP$$',\n",
       " 'PP$-HL',\n",
       " 'PP$-NC',\n",
       " 'PP$-TL',\n",
       " 'PPL',\n",
       " 'PPL-HL',\n",
       " 'PPL-NC',\n",
       " 'PPL-TL',\n",
       " 'PPLS',\n",
       " 'PPO',\n",
       " 'PPO-HL',\n",
       " 'PPO-NC',\n",
       " 'PPO-TL',\n",
       " 'PPS',\n",
       " 'PPS+BEZ',\n",
       " 'PPS+BEZ-HL',\n",
       " 'PPS+BEZ-NC',\n",
       " 'PPS+HVD',\n",
       " 'PPS+HVZ',\n",
       " 'PPS+MD',\n",
       " 'PPS-HL',\n",
       " 'PPS-NC',\n",
       " 'PPS-TL',\n",
       " 'PPSS',\n",
       " 'PPSS+BEM',\n",
       " 'PPSS+BER',\n",
       " 'PPSS+BER-N',\n",
       " 'PPSS+BER-NC',\n",
       " 'PPSS+BER-TL',\n",
       " 'PPSS+BEZ',\n",
       " 'PPSS+BEZ*',\n",
       " 'PPSS+HV',\n",
       " 'PPSS+HV-TL',\n",
       " 'PPSS+HVD',\n",
       " 'PPSS+MD',\n",
       " 'PPSS+MD-NC',\n",
       " 'PPSS+VB',\n",
       " 'PPSS-HL',\n",
       " 'PPSS-NC',\n",
       " 'PPSS-TL',\n",
       " 'QL',\n",
       " 'QL-HL',\n",
       " 'QL-NC',\n",
       " 'QL-TL',\n",
       " 'QLP',\n",
       " 'RB',\n",
       " 'RB$',\n",
       " 'RB+BEZ',\n",
       " 'RB+BEZ-HL',\n",
       " 'RB+BEZ-NC',\n",
       " 'RB+CS',\n",
       " 'RB-HL',\n",
       " 'RB-NC',\n",
       " 'RB-TL',\n",
       " 'RBR',\n",
       " 'RBR+CS',\n",
       " 'RBR-NC',\n",
       " 'RBT',\n",
       " 'RN',\n",
       " 'RP',\n",
       " 'RP+IN',\n",
       " 'RP-HL',\n",
       " 'RP-NC',\n",
       " 'RP-TL',\n",
       " 'TO',\n",
       " 'TO+VB',\n",
       " 'TO-HL',\n",
       " 'TO-NC',\n",
       " 'TO-TL',\n",
       " 'UH',\n",
       " 'UH-HL',\n",
       " 'UH-NC',\n",
       " 'UH-TL',\n",
       " 'VB',\n",
       " 'VB+AT',\n",
       " 'VB+IN',\n",
       " 'VB+JJ-NC',\n",
       " 'VB+PPO',\n",
       " 'VB+RP',\n",
       " 'VB+TO',\n",
       " 'VB+VB-NC',\n",
       " 'VB-HL',\n",
       " 'VB-NC',\n",
       " 'VB-TL',\n",
       " 'VBD',\n",
       " 'VBD-HL',\n",
       " 'VBD-NC',\n",
       " 'VBD-TL',\n",
       " 'VBG',\n",
       " 'VBG+TO',\n",
       " 'VBG-HL',\n",
       " 'VBG-NC',\n",
       " 'VBG-TL',\n",
       " 'VBN',\n",
       " 'VBN+TO',\n",
       " 'VBN-HL',\n",
       " 'VBN-NC',\n",
       " 'VBN-TL',\n",
       " 'VBN-TL-HL',\n",
       " 'VBN-TL-NC',\n",
       " 'VBZ',\n",
       " 'VBZ-HL',\n",
       " 'VBZ-NC',\n",
       " 'VBZ-TL',\n",
       " 'WDT',\n",
       " 'WDT+BER',\n",
       " 'WDT+BER+PP',\n",
       " 'WDT+BEZ',\n",
       " 'WDT+BEZ-HL',\n",
       " 'WDT+BEZ-NC',\n",
       " 'WDT+BEZ-TL',\n",
       " 'WDT+DO+PPS',\n",
       " 'WDT+DOD',\n",
       " 'WDT+HVZ',\n",
       " 'WDT-HL',\n",
       " 'WDT-NC',\n",
       " 'WP$',\n",
       " 'WPO',\n",
       " 'WPO-NC',\n",
       " 'WPO-TL',\n",
       " 'WPS',\n",
       " 'WPS+BEZ',\n",
       " 'WPS+BEZ-NC',\n",
       " 'WPS+BEZ-TL',\n",
       " 'WPS+HVD',\n",
       " 'WPS+HVZ',\n",
       " 'WPS+MD',\n",
       " 'WPS-HL',\n",
       " 'WPS-NC',\n",
       " 'WPS-TL',\n",
       " 'WQL',\n",
       " 'WQL-TL',\n",
       " 'WRB',\n",
       " 'WRB+BER',\n",
       " 'WRB+BEZ',\n",
       " 'WRB+BEZ-TL',\n",
       " 'WRB+DO',\n",
       " 'WRB+DOD',\n",
       " 'WRB+DOD*',\n",
       " 'WRB+DOZ',\n",
       " 'WRB+IN',\n",
       " 'WRB+MD',\n",
       " 'WRB-HL',\n",
       " 'WRB-NC',\n",
       " 'WRB-TL',\n",
       " '``']"
      ]
     },
     "execution_count": 39,
     "metadata": {},
     "output_type": "execute_result"
    }
   ],
   "source": [
    "sorted(set(tag for word, tag in brown.tagged_words()))"
   ]
  },
  {
   "cell_type": "code",
   "execution_count": 40,
   "metadata": {},
   "outputs": [
    {
     "data": {
      "text/plain": [
       "['.',\n",
       " 'ADJ',\n",
       " 'ADP',\n",
       " 'ADV',\n",
       " 'CONJ',\n",
       " 'DET',\n",
       " 'NOUN',\n",
       " 'NUM',\n",
       " 'PRON',\n",
       " 'PRT',\n",
       " 'VERB',\n",
       " 'X']"
      ]
     },
     "execution_count": 40,
     "metadata": {},
     "output_type": "execute_result"
    }
   ],
   "source": [
    "sorted(set(tag for word, tag in brown.tagged_words(tagset='universal')))"
   ]
  },
  {
   "cell_type": "markdown",
   "metadata": {},
   "source": [
    "# Exercise 15"
   ]
  },
  {
   "cell_type": "markdown",
   "metadata": {},
   "source": [
    "Write programs to process the Brown Corpus and find answers to the following\n",
    "questions:<div>"
   ]
  },
  {
   "cell_type": "code",
   "execution_count": 76,
   "metadata": {},
   "outputs": [],
   "source": [
    "from nltk.corpus import brown\n",
    "from nltk.probability import ConditionalFreqDist, FreqDist"
   ]
  },
  {
   "cell_type": "code",
   "execution_count": 52,
   "metadata": {},
   "outputs": [],
   "source": [
    "cfd = ConditionalFreqDist((word.lower(), tag) for word, tag in brown.tagged_words())"
   ]
  },
  {
   "cell_type": "markdown",
   "metadata": {},
   "source": [
    "a. Which nouns are more common in their plural form, rather than their singular\n",
    "form? (Only consider regular plurals, formed with the -s suffix.)"
   ]
  },
  {
   "cell_type": "code",
   "execution_count": 68,
   "metadata": {},
   "outputs": [
    {
     "data": {
      "text/plain": [
       "['irregularities',\n",
       " 'presentments',\n",
       " 'thanks',\n",
       " 'reports',\n",
       " 'voters',\n",
       " 'laws',\n",
       " 'legislators',\n",
       " 'topics',\n",
       " 'departments',\n",
       " 'practices',\n",
       " 'governments',\n",
       " 'offices',\n",
       " 'personnel',\n",
       " 'policies',\n",
       " 'steps',\n",
       " 'funds',\n",
       " 'services',\n",
       " 'homes',\n",
       " 'items',\n",
       " 'counties',\n",
       " 'jurors',\n",
       " 'taxpayers',\n",
       " 'appraisers',\n",
       " 'guardians',\n",
       " 'administrators',\n",
       " 'fees',\n",
       " 'wards',\n",
       " 'procedures',\n",
       " 'recommendations',\n",
       " 'juries',\n",
       " 'citizens',\n",
       " 'actions',\n",
       " 'costs',\n",
       " 'servants',\n",
       " 'criticisms',\n",
       " 'influences',\n",
       " 'concessionaires',\n",
       " 'prices',\n",
       " 'deputies',\n",
       " 'matters',\n",
       " 'officials',\n",
       " 'employes',\n",
       " 'farms',\n",
       " 'attorneys',\n",
       " 'responses',\n",
       " 'petitions',\n",
       " 'precincts',\n",
       " 'signatures',\n",
       " 'dissents',\n",
       " 'says',\n",
       " 'courses',\n",
       " 'names',\n",
       " 'candidates',\n",
       " 'relations',\n",
       " 'years',\n",
       " 'starts',\n",
       " 'areas',\n",
       " 'adjustments',\n",
       " 'chambers',\n",
       " '$100',\n",
       " 'bonds',\n",
       " '$30',\n",
       " 'courts',\n",
       " 'sales',\n",
       " 'contracts',\n",
       " 'highways',\n",
       " '$3',\n",
       " '$4',\n",
       " 'roads',\n",
       " 'ones',\n",
       " 'authorities',\n",
       " '$50',\n",
       " 'plans',\n",
       " '$10',\n",
       " 'allowances',\n",
       " 'details',\n",
       " 'raises',\n",
       " 'sessions',\n",
       " 'members',\n",
       " 'congressmen',\n",
       " 'votes',\n",
       " 'polls',\n",
       " 'calls',\n",
       " 'threats',\n",
       " 'days',\n",
       " 'protests',\n",
       " 'bankers',\n",
       " 'legislatures',\n",
       " 'rules',\n",
       " 'questions',\n",
       " 'witnesses',\n",
       " 'dollars',\n",
       " 'means',\n",
       " 'books',\n",
       " 'permits',\n",
       " 'accounts',\n",
       " 'stocks',\n",
       " 'persons',\n",
       " 'banks',\n",
       " 'firms',\n",
       " 'companies',\n",
       " 'corporations',\n",
       " 'obligations',\n",
       " 'depositors',\n",
       " 'customers',\n",
       " 'millions',\n",
       " 'pockets',\n",
       " 'senators',\n",
       " 'schools',\n",
       " 'students',\n",
       " 'children',\n",
       " '$451,500',\n",
       " 'savings',\n",
       " '$157,460',\n",
       " '$88,000',\n",
       " 'scholastics',\n",
       " 'parimutuels',\n",
       " 'folks',\n",
       " 'letters',\n",
       " 'people',\n",
       " 'ponies',\n",
       " 'faces',\n",
       " 'cities',\n",
       " 'bills',\n",
       " 'committees',\n",
       " 'acts',\n",
       " 'districts',\n",
       " 'gifts',\n",
       " 'donations',\n",
       " 'retailers',\n",
       " 'taxes',\n",
       " '$1,000',\n",
       " 'brokers',\n",
       " '$12',\n",
       " 'sites',\n",
       " 'reservoirs',\n",
       " 'vacancies',\n",
       " 'elections',\n",
       " 'representatives',\n",
       " 'affairs',\n",
       " 'two-thirds',\n",
       " 'majorities',\n",
       " 'opponents',\n",
       " 'proposals',\n",
       " 'needs',\n",
       " 'places',\n",
       " '$5,000,000',\n",
       " '$15,000,000',\n",
       " 'statements',\n",
       " 'defenders',\n",
       " 'springs',\n",
       " 'methods',\n",
       " 'hours',\n",
       " 'teachers',\n",
       " 'subjects',\n",
       " 'co-signers',\n",
       " 'regents',\n",
       " 'holds',\n",
       " 'principals',\n",
       " 'causes',\n",
       " 'recipients',\n",
       " 'problems',\n",
       " 'cases',\n",
       " 'skills',\n",
       " 'breakups',\n",
       " 'relatives',\n",
       " 'parents',\n",
       " 'projects',\n",
       " 'defendants',\n",
       " 'bellows',\n",
       " 'observers',\n",
       " 'policemen',\n",
       " 'fears',\n",
       " 'aspects',\n",
       " 'others',\n",
       " 'amounts',\n",
       " 'drafts',\n",
       " 'portions',\n",
       " 'aids',\n",
       " 'decisions',\n",
       " 'advisers',\n",
       " 'demands',\n",
       " 'rights',\n",
       " 'proceedings',\n",
       " 'hearings',\n",
       " 'subpenas',\n",
       " 'individuals',\n",
       " 'judges',\n",
       " 'processes',\n",
       " 'claims',\n",
       " 'workers',\n",
       " 'programs',\n",
       " 'requests',\n",
       " 'grants',\n",
       " 'scholarships',\n",
       " '$37',\n",
       " '$4,800',\n",
       " '$5,000',\n",
       " 'boosts',\n",
       " 'benefits',\n",
       " 'figures',\n",
       " 'parts',\n",
       " 'systems',\n",
       " 'stays',\n",
       " '$20',\n",
       " 'states',\n",
       " 'requirements',\n",
       " 'hospitals',\n",
       " 'doctors',\n",
       " 'contributions',\n",
       " '$1,500',\n",
       " '$2,000',\n",
       " 'facilities',\n",
       " 'elements',\n",
       " 'lines',\n",
       " 'ayes',\n",
       " 'noes',\n",
       " 'appointments',\n",
       " 'selections',\n",
       " 'ministers',\n",
       " 'discussions',\n",
       " 'meetings',\n",
       " 'changes',\n",
       " 'powers',\n",
       " 'difficulties',\n",
       " 'tragedies',\n",
       " 'allies',\n",
       " 'circumstances',\n",
       " 'troubles',\n",
       " 'weeks',\n",
       " 'critics',\n",
       " 'positions',\n",
       " 'surprises',\n",
       " 'cars',\n",
       " 'manifestations',\n",
       " 'arms',\n",
       " 'speeches',\n",
       " 'points',\n",
       " 'setbacks',\n",
       " 'correspondents',\n",
       " 'spots',\n",
       " 'events',\n",
       " 'months',\n",
       " 'submarines',\n",
       " 'waters',\n",
       " 'societies',\n",
       " 'directions',\n",
       " 'countries',\n",
       " 'forces',\n",
       " 'moves',\n",
       " 'attacks',\n",
       " 'hopes',\n",
       " 'modifications',\n",
       " 'excuses',\n",
       " 'errors',\n",
       " 'spokesmen',\n",
       " 'reforms',\n",
       " 'confrontations',\n",
       " 'blunders',\n",
       " 'educators',\n",
       " 'groups',\n",
       " 'efforts',\n",
       " 'conditions',\n",
       " 'feeds',\n",
       " 'victories',\n",
       " 'opinions',\n",
       " 'professors',\n",
       " 'channels',\n",
       " 'negotiations',\n",
       " 'nations',\n",
       " 'losses',\n",
       " 'neighbors',\n",
       " 'ideas',\n",
       " 'offenses',\n",
       " 'communities',\n",
       " 'stems',\n",
       " 'arrests',\n",
       " 'offenders',\n",
       " '$3,500',\n",
       " 'residents',\n",
       " 'men',\n",
       " 'radios',\n",
       " 'sirens',\n",
       " 'trucks',\n",
       " 'grounds',\n",
       " 'intervals',\n",
       " 'things',\n",
       " 'classes',\n",
       " 'drifts',\n",
       " 'revisions',\n",
       " 'falls',\n",
       " 'urges',\n",
       " 'views',\n",
       " 'officers',\n",
       " 'statutes',\n",
       " 'instances',\n",
       " 'times',\n",
       " 'types',\n",
       " 'foods',\n",
       " 'stores',\n",
       " 'supermarkets',\n",
       " 'shops',\n",
       " 'thousands',\n",
       " 'licenses',\n",
       " 'outlets',\n",
       " 'liberals',\n",
       " 'conservatives',\n",
       " 'parties',\n",
       " 'utilities',\n",
       " 'resources',\n",
       " 'favors',\n",
       " 'increases',\n",
       " 'manufacturers',\n",
       " 'canvassers',\n",
       " 'justices',\n",
       " 'posts',\n",
       " 'pretenses',\n",
       " 'signers',\n",
       " 'motorists',\n",
       " 'fines',\n",
       " 'plains',\n",
       " 'boos',\n",
       " 'women',\n",
       " 'clubs',\n",
       " 'remains',\n",
       " 'regrets',\n",
       " 'issues',\n",
       " 'uses',\n",
       " 'minutes',\n",
       " 'barbs',\n",
       " 'looks',\n",
       " 'crises',\n",
       " 'ways',\n",
       " 'vehicles',\n",
       " 'stands',\n",
       " 'intentions',\n",
       " 'leaders',\n",
       " 'managers',\n",
       " 'sheets',\n",
       " 'ballots',\n",
       " 'machines',\n",
       " 'results',\n",
       " 'appeals',\n",
       " 'fits',\n",
       " 'credits',\n",
       " 'fires',\n",
       " 'techniques',\n",
       " 'plows',\n",
       " 'units',\n",
       " 'wardens',\n",
       " 'feet',\n",
       " 'slogans',\n",
       " 'signs',\n",
       " 'hoodlums',\n",
       " '1940s',\n",
       " 'lives',\n",
       " 'acres',\n",
       " 'tracts',\n",
       " '$60',\n",
       " '$45',\n",
       " '$15',\n",
       " 'municipalities',\n",
       " 'colleagues',\n",
       " 'terms',\n",
       " 'elephants',\n",
       " 'tusks',\n",
       " 'retirements',\n",
       " '1920s',\n",
       " 'mates',\n",
       " 'visits',\n",
       " 'choices',\n",
       " 'talks',\n",
       " 'interviews',\n",
       " 'reporters',\n",
       " 'queens',\n",
       " 'remarks',\n",
       " 'politicians',\n",
       " 'reasons',\n",
       " 'scandals',\n",
       " 'works',\n",
       " 'investigations',\n",
       " 'newspapers',\n",
       " '$8,555',\n",
       " 'forecasts',\n",
       " '$6,100,000,000',\n",
       " 'mortgages',\n",
       " 'down-payments',\n",
       " 'families',\n",
       " 'slums',\n",
       " 'colleges',\n",
       " 'dormitories',\n",
       " 'loans',\n",
       " 'languages',\n",
       " 'agencies',\n",
       " '$40,000,000',\n",
       " '$26,000,000',\n",
       " 'universities',\n",
       " 'goals',\n",
       " 'churchmen',\n",
       " '$1,000,000,000',\n",
       " 'estimates',\n",
       " 'technicians',\n",
       " 'experts',\n",
       " 'jobs',\n",
       " 'inhabitants',\n",
       " 'neutralists',\n",
       " 'half-brothers',\n",
       " 'delegations',\n",
       " 'princes',\n",
       " 'diplomats',\n",
       " 'tactics',\n",
       " 'consultations',\n",
       " 'principles',\n",
       " 'factors',\n",
       " 'miles',\n",
       " 'seats',\n",
       " 'hundreds',\n",
       " 'ceremonies',\n",
       " 'buildings',\n",
       " 'shrines',\n",
       " 'monuments',\n",
       " 'chapters',\n",
       " 'suffragettes',\n",
       " 'soldiers',\n",
       " 'archives',\n",
       " 'records',\n",
       " 'tracks',\n",
       " 'spectators',\n",
       " 'statues',\n",
       " 'branches',\n",
       " 'academies',\n",
       " 'representations',\n",
       " 'marines',\n",
       " 'islands',\n",
       " 'territories',\n",
       " 'developments',\n",
       " 'keeps',\n",
       " 'foes',\n",
       " 'friends',\n",
       " 'edges',\n",
       " 'job-seekers',\n",
       " 'commitments',\n",
       " 'lawmakers',\n",
       " 'odds',\n",
       " '$22.50',\n",
       " 'eyes',\n",
       " 'crossroads',\n",
       " 'camps',\n",
       " 'loyalists',\n",
       " 'independents',\n",
       " 'ranks',\n",
       " 'flows',\n",
       " 'stresses',\n",
       " 'finances',\n",
       " 'revenues',\n",
       " '$28',\n",
       " 'inconsistencies',\n",
       " 'hands',\n",
       " 'politicos',\n",
       " 'purposes',\n",
       " 'expenses',\n",
       " 'alternatives',\n",
       " 'trims',\n",
       " 'allegations',\n",
       " 'followers',\n",
       " 'affiliations',\n",
       " 'bids',\n",
       " '$344,000',\n",
       " '$200,000',\n",
       " 'shortcuts',\n",
       " 'contractors',\n",
       " 'disclosures',\n",
       " '$172,400',\n",
       " 'vouchers',\n",
       " 'charges',\n",
       " 'industries',\n",
       " 'directors',\n",
       " 'pleas',\n",
       " 'travelers',\n",
       " 'violations',\n",
       " 'joints',\n",
       " 'repairs',\n",
       " '$500',\n",
       " 'sons',\n",
       " '$600',\n",
       " '$2400',\n",
       " '$3100',\n",
       " '$37,500',\n",
       " '$172,000',\n",
       " 'rates',\n",
       " 'hotels',\n",
       " 'rooms',\n",
       " '$5000',\n",
       " '$740,000',\n",
       " '$2,330,000',\n",
       " 'houses',\n",
       " 'dwellings',\n",
       " '$5',\n",
       " '$2',\n",
       " 'accomodations',\n",
       " '$457,000',\n",
       " 'builders',\n",
       " 'dogs',\n",
       " 'males',\n",
       " 'females',\n",
       " 'replies',\n",
       " 'owners',\n",
       " '$115,000',\n",
       " '$43,000',\n",
       " '$67,000',\n",
       " '$15,000',\n",
       " 'catchers',\n",
       " 'bites',\n",
       " 'backs',\n",
       " 'inspections',\n",
       " 'agreements',\n",
       " 'redevelopers',\n",
       " '$300,000,000',\n",
       " 'hazards',\n",
       " 'pedestrians',\n",
       " '$12,192,865',\n",
       " 'dicks',\n",
       " 'parks',\n",
       " 'apartments',\n",
       " 'churches',\n",
       " 'clusters',\n",
       " 'sectors',\n",
       " 'walkways',\n",
       " 'bridges',\n",
       " 'fighters',\n",
       " 'teamsters',\n",
       " 'fractures',\n",
       " 'ankles',\n",
       " 'sets',\n",
       " 'flies',\n",
       " 'firemen',\n",
       " 'guards',\n",
       " 'pledges',\n",
       " 'paths',\n",
       " 'doors',\n",
       " 'peoples',\n",
       " 'goods',\n",
       " 'products',\n",
       " 'lots',\n",
       " 'mothers',\n",
       " 'blueprints',\n",
       " 'specifications',\n",
       " '$3.5',\n",
       " '$581,000',\n",
       " 'speakers',\n",
       " 'beliefs',\n",
       " 'delegates',\n",
       " 'assemblies',\n",
       " 'trends',\n",
       " 'truths',\n",
       " 'scriptures',\n",
       " 'miracles',\n",
       " 'missions',\n",
       " 'surveys',\n",
       " 'babies',\n",
       " 'meets',\n",
       " 'centers',\n",
       " 'pastors',\n",
       " 'volunteers',\n",
       " 'laymen',\n",
       " 'graduates',\n",
       " 'apprentices',\n",
       " 'motions',\n",
       " 'denials',\n",
       " 'trials',\n",
       " 'conspirators',\n",
       " 'mails',\n",
       " 'indications',\n",
       " 'birds',\n",
       " 'hits',\n",
       " 'frames',\n",
       " 'batters',\n",
       " 'runs',\n",
       " 'blows',\n",
       " 'offerings',\n",
       " 'pitchers',\n",
       " 'doubles',\n",
       " 'chores',\n",
       " 'safeties',\n",
       " 'balls',\n",
       " 'pinch-hitters',\n",
       " 'pitches',\n",
       " 'tallies',\n",
       " 'runners',\n",
       " 'homers',\n",
       " 'players',\n",
       " 'pounds',\n",
       " 'breaks',\n",
       " 'hitters',\n",
       " 'specialists',\n",
       " 'champions',\n",
       " 'crowds',\n",
       " 'games',\n",
       " 'coaches',\n",
       " 'teammates',\n",
       " 'hurlers',\n",
       " 'colts',\n",
       " '$4,500',\n",
       " '$7.20',\n",
       " 'stages',\n",
       " 'furlongs',\n",
       " 'races',\n",
       " 'celebrants',\n",
       " '$842,617',\n",
       " 'stewards',\n",
       " 'horses',\n",
       " '$10,000',\n",
       " 'knights',\n",
       " 'mills',\n",
       " 'yards',\n",
       " 'thirds',\n",
       " 'tenths',\n",
       " 'plays',\n",
       " 'pads',\n",
       " 'tries',\n",
       " 'conversions',\n",
       " 'boys',\n",
       " 'helps',\n",
       " 'kicks',\n",
       " 'footnotes',\n",
       " 'longhorns',\n",
       " 'completions',\n",
       " 'attempts',\n",
       " 'kids',\n",
       " 'performances',\n",
       " 'stops',\n",
       " 'thrusts',\n",
       " 'reserves',\n",
       " 'owls',\n",
       " 'sweat-suits',\n",
       " 'reckonings',\n",
       " 'collectors',\n",
       " 'quarterbacks',\n",
       " 'broncs',\n",
       " 'spikes',\n",
       " 'linebackers',\n",
       " 'movies',\n",
       " 'passes',\n",
       " 'touchdowns',\n",
       " 'strikes',\n",
       " 'ball-carriers',\n",
       " 'statistics',\n",
       " 'tosses',\n",
       " 'leads',\n",
       " 'averages',\n",
       " 'checks',\n",
       " 'baseballs',\n",
       " 'leagues',\n",
       " 'tests',\n",
       " 'viewers',\n",
       " 'innings',\n",
       " 'bases',\n",
       " 'lights',\n",
       " 'twins',\n",
       " 'fans',\n",
       " 'reflexes',\n",
       " 'at-bats',\n",
       " 'newsmen',\n",
       " 'chances',\n",
       " 'sports',\n",
       " 'mad',\n",
       " 'masses',\n",
       " 'heroics',\n",
       " 'tongues',\n",
       " 'giants',\n",
       " 'feats',\n",
       " 'achievements',\n",
       " 'hearts',\n",
       " 'guys',\n",
       " 'rookies',\n",
       " 'laurels',\n",
       " 'lefthanders',\n",
       " 'reaches',\n",
       " 'sluggers',\n",
       " 'merits',\n",
       " 'boils',\n",
       " 'seasons',\n",
       " 'rulers',\n",
       " 'afternoons',\n",
       " 'reds',\n",
       " 'injuries',\n",
       " 'champs',\n",
       " 'bleachers',\n",
       " 'cardinals',\n",
       " 'eagles',\n",
       " '$20,000',\n",
       " '$25,000',\n",
       " 'ends',\n",
       " 'aerials',\n",
       " 'cufflinks',\n",
       " 'awards',\n",
       " 'pirates',\n",
       " 'writers',\n",
       " 'personalities',\n",
       " 'barriers',\n",
       " 'disappointments',\n",
       " 'majors',\n",
       " 'sands',\n",
       " 'matches',\n",
       " 'tournaments',\n",
       " 'golfers',\n",
       " 'masters',\n",
       " '$80,738',\n",
       " 'incompetents',\n",
       " 'frustrations',\n",
       " 'respects',\n",
       " 'pixies',\n",
       " 'zombies',\n",
       " 'banshees',\n",
       " 'bounds',\n",
       " 'shots',\n",
       " 'strokes',\n",
       " 'duffers',\n",
       " 'hackers',\n",
       " 'echoes',\n",
       " 'nerves',\n",
       " 'strings',\n",
       " 'competitors',\n",
       " 'rains',\n",
       " 'lies',\n",
       " 'fathers',\n",
       " 'amendments',\n",
       " 'teams',\n",
       " 'dates',\n",
       " 'bucks',\n",
       " 'bats',\n",
       " 'plunkers',\n",
       " 'cards',\n",
       " 'triumphs',\n",
       " 'words',\n",
       " 'honors',\n",
       " 'faults',\n",
       " 'lettermen',\n",
       " 'defeats',\n",
       " 'trips',\n",
       " 'cows',\n",
       " 'talents',\n",
       " 'careers',\n",
       " 'expectations',\n",
       " 'heights',\n",
       " \"rbi's\",\n",
       " 'peaks',\n",
       " 'professionals',\n",
       " 'sights',\n",
       " 'concerns',\n",
       " 'holidays',\n",
       " 'bulletins',\n",
       " 'uncles',\n",
       " 'aunts',\n",
       " 'butlers',\n",
       " 'huzzahs',\n",
       " 'ears',\n",
       " 'embassies',\n",
       " 'bushes',\n",
       " 'activities',\n",
       " 'dancers',\n",
       " 'dervishes',\n",
       " 'bows',\n",
       " 'invitations',\n",
       " 'arts',\n",
       " 'singers',\n",
       " 'songs',\n",
       " 'costumes',\n",
       " 'trees',\n",
       " 'streets',\n",
       " 'trains',\n",
       " 'shelters',\n",
       " 'pubs',\n",
       " 'nights',\n",
       " 'ethics',\n",
       " 'morals',\n",
       " 'appearances',\n",
       " 'makes',\n",
       " 'gals',\n",
       " 'phonies',\n",
       " 'phones',\n",
       " 'contribs',\n",
       " 'exhibitors',\n",
       " 'screenings',\n",
       " 'touches',\n",
       " 'charities',\n",
       " 'holders',\n",
       " 'packs',\n",
       " 'clashes',\n",
       " 'bombs',\n",
       " 'peasants',\n",
       " 'struggles',\n",
       " 'roles',\n",
       " 'medics',\n",
       " 'doings',\n",
       " 'misses',\n",
       " 'lessons',\n",
       " 'suggestions',\n",
       " 'boxes',\n",
       " 'dies',\n",
       " 'gods',\n",
       " 'guests',\n",
       " 'suites',\n",
       " 'grandparents',\n",
       " 'cocktails',\n",
       " 'juniors',\n",
       " 'decorations',\n",
       " 'qualities',\n",
       " 'covers',\n",
       " 'tasks',\n",
       " 'alcoholics',\n",
       " 'parolees',\n",
       " 'schedules',\n",
       " 'wants',\n",
       " 'presents',\n",
       " 'tickets',\n",
       " 'concerts',\n",
       " 'cookies',\n",
       " 'sweets',\n",
       " 'motel-keepers',\n",
       " 'suitcases',\n",
       " 'motels',\n",
       " 'stations',\n",
       " 'wagons',\n",
       " 'restaurants',\n",
       " 'offers',\n",
       " 'accommodations',\n",
       " 'tastes',\n",
       " 'peculiarities',\n",
       " 'pools',\n",
       " 'adults',\n",
       " 'tourists',\n",
       " '$14',\n",
       " 'chairs',\n",
       " 'towels',\n",
       " '$8.50',\n",
       " 'ants',\n",
       " 'attendants',\n",
       " 'appliques',\n",
       " 'gardenias',\n",
       " 'bridesmaids',\n",
       " 'groomsmen',\n",
       " 'newlyweds',\n",
       " 'orchids',\n",
       " 'studies',\n",
       " 'promises',\n",
       " 'prospects',\n",
       " 'hats',\n",
       " 'festivities',\n",
       " 'oysters',\n",
       " 'specialties',\n",
       " 'effects',\n",
       " 'flowers',\n",
       " 'reproductions',\n",
       " 'brothers',\n",
       " 'shelves',\n",
       " 'suburbs',\n",
       " 'bundles',\n",
       " 'dinners',\n",
       " 'fund-raisers',\n",
       " 'totals',\n",
       " '$840,000',\n",
       " 'husbands',\n",
       " 'hostesses',\n",
       " 'arrangements',\n",
       " 'duties',\n",
       " 'aides',\n",
       " 'controllers',\n",
       " 'models',\n",
       " 'decades',\n",
       " 'temperatures',\n",
       " 'posters',\n",
       " 'paintings',\n",
       " 'sponsors',\n",
       " 'artists',\n",
       " 'proceeds',\n",
       " 'levels',\n",
       " 'wins',\n",
       " 'co-chairmen',\n",
       " 'chairmen',\n",
       " 'hills',\n",
       " 'hosts',\n",
       " 'ladies',\n",
       " 'ballgowns',\n",
       " 'dances',\n",
       " 'panels',\n",
       " 'tiers',\n",
       " 'slippers',\n",
       " 'maids',\n",
       " 'ashes',\n",
       " 'roses',\n",
       " 'threads',\n",
       " 'sequins',\n",
       " 'beads',\n",
       " 'cuts',\n",
       " 'lay-offs',\n",
       " 'employees',\n",
       " 'supervisors',\n",
       " 'unions',\n",
       " 'wages',\n",
       " '$18',\n",
       " '$150',\n",
       " 'burns',\n",
       " 'discrepancies',\n",
       " 'commissioners',\n",
       " 'bodies',\n",
       " 'suits',\n",
       " 'misunderstandings',\n",
       " 'notes',\n",
       " 'boards',\n",
       " 'deficiencies',\n",
       " 'crews',\n",
       " 'storms',\n",
       " 'improvements',\n",
       " 'operations',\n",
       " 'laborers',\n",
       " 'tires',\n",
       " 'chains',\n",
       " 'merchants',\n",
       " 'observations',\n",
       " 'supplies',\n",
       " 'blades',\n",
       " 'victims',\n",
       " 'detectives',\n",
       " 'shootings',\n",
       " 'spirits',\n",
       " '$77,389,000',\n",
       " '$20,447,000',\n",
       " '$47,101,000',\n",
       " '$9,841,000',\n",
       " '$634,517,000',\n",
       " '$253,355,000',\n",
       " '$278,877,000',\n",
       " '$102,285,000',\n",
       " 'seekers',\n",
       " 'components',\n",
       " 'structures',\n",
       " 'stairs',\n",
       " 'balconies',\n",
       " 'secrets',\n",
       " 'agents',\n",
       " 'designs',\n",
       " 'subs',\n",
       " 'strongrooms',\n",
       " 'dots',\n",
       " 'marks',\n",
       " '1950s',\n",
       " '1960s',\n",
       " '$29,000',\n",
       " 'drawings',\n",
       " 'lawyers',\n",
       " 'clients',\n",
       " 'reactors',\n",
       " 'turbines',\n",
       " 'destroyers',\n",
       " 'ships',\n",
       " 'torpedoes',\n",
       " 'radiomen',\n",
       " 'signals',\n",
       " 'wavelengths',\n",
       " 'codes',\n",
       " 'lighters',\n",
       " 'narcotics',\n",
       " 'indictments',\n",
       " 'peddlers',\n",
       " 'addicts',\n",
       " 'rivalries',\n",
       " 'criminals',\n",
       " 'jealousies',\n",
       " 'grievances',\n",
       " 'mentions',\n",
       " 'compensations',\n",
       " 'comments',\n",
       " '$4,700',\n",
       " '$800',\n",
       " 'youths',\n",
       " '$40',\n",
       " '$214',\n",
       " 'homeowners',\n",
       " 'caskets',\n",
       " 'fumes',\n",
       " 'girls',\n",
       " 'arrears',\n",
       " 'meals',\n",
       " '$135',\n",
       " '$400',\n",
       " '$25',\n",
       " 'surpluses',\n",
       " 'troops',\n",
       " 'assaults',\n",
       " 'sources',\n",
       " 'squads',\n",
       " 'tribunals',\n",
       " 'collaborators',\n",
       " 'executions',\n",
       " 'rebels',\n",
       " 'rifles',\n",
       " 'jails',\n",
       " 'priests',\n",
       " 'prisoners',\n",
       " ...]"
      ]
     },
     "execution_count": 68,
     "metadata": {},
     "output_type": "execute_result"
    }
   ],
   "source": [
    "[word for word, fd in cfd.items() if fd['NNS'] > fd['NN']]"
   ]
  },
  {
   "cell_type": "markdown",
   "metadata": {},
   "source": [
    "b. Which word has the greatest number of distinct tags? What are they, and what\n",
    "do they represent?"
   ]
  },
  {
   "cell_type": "code",
   "execution_count": 70,
   "metadata": {},
   "outputs": [],
   "source": [
    "max_tag_number = max(len(fd) for word, fd in cfd.items())"
   ]
  },
  {
   "cell_type": "code",
   "execution_count": 71,
   "metadata": {},
   "outputs": [
    {
     "data": {
      "text/plain": [
       "['that']"
      ]
     },
     "execution_count": 71,
     "metadata": {},
     "output_type": "execute_result"
    }
   ],
   "source": [
    "[word for word, fd in cfd.items() if len(fd) == max_tag_number]"
   ]
  },
  {
   "cell_type": "code",
   "execution_count": 74,
   "metadata": {},
   "outputs": [
    {
     "data": {
      "text/plain": [
       "[('CS', 6464),\n",
       " ('DT', 2260),\n",
       " ('WPS', 1654),\n",
       " ('WPO', 135),\n",
       " ('QL', 56),\n",
       " ('DT-NC', 6),\n",
       " ('DT-TL', 5),\n",
       " ('WPS-TL', 3),\n",
       " ('WPS-NC', 3),\n",
       " ('CS-NC', 2),\n",
       " ('WPS-HL', 2),\n",
       " ('CS-HL', 1),\n",
       " ('DT-HL', 1),\n",
       " ('NIL', 1),\n",
       " ('WPO-NC', 1)]"
      ]
     },
     "execution_count": 74,
     "metadata": {},
     "output_type": "execute_result"
    }
   ],
   "source": [
    "cfd['that'].most_common()"
   ]
  },
  {
   "cell_type": "markdown",
   "metadata": {},
   "source": [
    "CS = Subordinating conjunction<div> DT = singular determiner/quantifier<div> WPS = nominative wh- pronoun<div> WPO = objective wh- pronoun<div> QL = qualifier<div> ..."
   ]
  },
  {
   "cell_type": "markdown",
   "metadata": {},
   "source": [
    "c. List tags in order of decreasing frequency. What do the 20 most frequent tags\n",
    "represent?"
   ]
  },
  {
   "cell_type": "code",
   "execution_count": 77,
   "metadata": {},
   "outputs": [],
   "source": [
    "fd = FreqDist(tag for word, tag in brown.tagged_words())"
   ]
  },
  {
   "cell_type": "code",
   "execution_count": 79,
   "metadata": {},
   "outputs": [
    {
     "data": {
      "text/plain": [
       "[('NN', 152470),\n",
       " ('IN', 120557),\n",
       " ('AT', 97959),\n",
       " ('JJ', 64028),\n",
       " ('.', 60638),\n",
       " (',', 58156),\n",
       " ('NNS', 55110),\n",
       " ('CC', 37718),\n",
       " ('RB', 36464),\n",
       " ('NP', 34476),\n",
       " ('VB', 33693),\n",
       " ('VBN', 29186),\n",
       " ('VBD', 26167),\n",
       " ('CS', 22143),\n",
       " ('PPS', 18253),\n",
       " ('VBG', 17893),\n",
       " ('PP$', 16872),\n",
       " ('TO', 14918),\n",
       " ('PPSS', 13802),\n",
       " ('CD', 13510)]"
      ]
     },
     "execution_count": 79,
     "metadata": {},
     "output_type": "execute_result"
    }
   ],
   "source": [
    "fd.most_common(20)"
   ]
  },
  {
   "cell_type": "markdown",
   "metadata": {},
   "source": [
    "NN = singular or mass noun<div>\n",
    "IN = preposition<div>\n",
    "AT = article (a, the, no)<div>\n",
    "JJ = adjective<div> \n",
    "..."
   ]
  },
  {
   "cell_type": "markdown",
   "metadata": {},
   "source": [
    "d. Which tags are nouns most commonly found after? What do these tags\n",
    "represent?"
   ]
  },
  {
   "cell_type": "code",
   "execution_count": 80,
   "metadata": {},
   "outputs": [],
   "source": [
    "fd = FreqDist(\n",
    "    t2 for (w1, t1), (w2, t2) \n",
    "    in nltk.bigrams(brown.tagged_words()) \n",
    "    if t1.startswith('N')\n",
    ")"
   ]
  },
  {
   "cell_type": "code",
   "execution_count": 83,
   "metadata": {},
   "outputs": [
    {
     "data": {
      "text/plain": [
       "[('IN', 60188),\n",
       " (',', 34229),\n",
       " ('.', 32338),\n",
       " ('NN', 16824),\n",
       " ('CC', 16080),\n",
       " ('NP', 9661),\n",
       " ('VBD', 9229),\n",
       " ('NNS', 7662),\n",
       " (\"''\", 5008),\n",
       " ('MD', 4957)]"
      ]
     },
     "execution_count": 83,
     "metadata": {},
     "output_type": "execute_result"
    }
   ],
   "source": [
    "fd.most_common(10)"
   ]
  },
  {
   "cell_type": "markdown",
   "metadata": {},
   "source": [
    "IN = preposition<div>\n",
    "',' = comma<div>\n",
    "'.' = sentence (. ; ? *)<div>\n",
    "NN = singular or mass noun<div>\n",
    "..."
   ]
  },
  {
   "cell_type": "markdown",
   "metadata": {},
   "source": [
    "# Exercise 16"
   ]
  },
  {
   "cell_type": "markdown",
   "metadata": {},
   "source": [
    "Explore the following issues that arise in connection with the lookup tagger:<div>\n",
    "a. What happens to the tagger performance for the various model sizes when am\n",
    "backoff tagger is omitted?<div>\n",
    "b. Consider the curve in Figure 5-4; suggest a good size for a lookup tagger that\n",
    "balances memory and performance. Can you come up with scenarios where it\n",
    "would be preferable to minimize memory usage, or to maximize performance\n",
    "with no regard for memory usage?"
   ]
  },
  {
   "cell_type": "code",
   "execution_count": null,
   "metadata": {},
   "outputs": [],
   "source": []
  }
 ],
 "metadata": {
  "kernelspec": {
   "display_name": "Python 3",
   "language": "python",
   "name": "python3"
  },
  "language_info": {
   "codemirror_mode": {
    "name": "ipython",
    "version": 3
   },
   "file_extension": ".py",
   "mimetype": "text/x-python",
   "name": "python",
   "nbconvert_exporter": "python",
   "pygments_lexer": "ipython3",
   "version": "3.7.1"
  },
  "toc": {
   "base_numbering": 1,
   "nav_menu": {},
   "number_sections": false,
   "sideBar": true,
   "skip_h1_title": false,
   "title_cell": "Table of Contents",
   "title_sidebar": "Contents",
   "toc_cell": false,
   "toc_position": {
    "height": "calc(100% - 180px)",
    "left": "10px",
    "top": "150px",
    "width": "178px"
   },
   "toc_section_display": true,
   "toc_window_display": true
  }
 },
 "nbformat": 4,
 "nbformat_minor": 2
}
