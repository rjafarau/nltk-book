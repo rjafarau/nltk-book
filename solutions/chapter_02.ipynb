{
 "cells": [
  {
   "cell_type": "markdown",
   "metadata": {},
   "source": [
    "# IMPORTS"
   ]
  },
  {
   "cell_type": "code",
   "execution_count": 1,
   "metadata": {},
   "outputs": [],
   "source": [
    "import matplotlib.pyplot as plt\n",
    "%matplotlib inline"
   ]
  },
  {
   "cell_type": "code",
   "execution_count": 2,
   "metadata": {},
   "outputs": [],
   "source": [
    "import nltk"
   ]
  },
  {
   "cell_type": "code",
   "execution_count": 3,
   "metadata": {},
   "outputs": [],
   "source": [
    "import numpy as np"
   ]
  },
  {
   "cell_type": "markdown",
   "metadata": {},
   "source": [
    "# Exercise 1"
   ]
  },
  {
   "cell_type": "markdown",
   "metadata": {},
   "source": [
    "Create a variable phrase containing a list of words. Experiment with the operations\n",
    "described in this chapter, including addition, multiplication, indexing, slicing,\n",
    "and sorting."
   ]
  },
  {
   "cell_type": "code",
   "execution_count": 4,
   "metadata": {},
   "outputs": [],
   "source": [
    "phrase = ['Minsk', 'is', 'the', 'capital', 'of', 'Belarus']"
   ]
  },
  {
   "cell_type": "code",
   "execution_count": 5,
   "metadata": {},
   "outputs": [
    {
     "data": {
      "text/plain": [
       "['Minsk',\n",
       " 'is',\n",
       " 'the',\n",
       " 'capital',\n",
       " 'of',\n",
       " 'Belarus',\n",
       " 'Minsk',\n",
       " 'is',\n",
       " 'the',\n",
       " 'capital',\n",
       " 'of',\n",
       " 'Belarus']"
      ]
     },
     "execution_count": 5,
     "metadata": {},
     "output_type": "execute_result"
    }
   ],
   "source": [
    "phrase + phrase"
   ]
  },
  {
   "cell_type": "code",
   "execution_count": 6,
   "metadata": {},
   "outputs": [
    {
     "data": {
      "text/plain": [
       "['Minsk',\n",
       " 'is',\n",
       " 'the',\n",
       " 'capital',\n",
       " 'of',\n",
       " 'Belarus',\n",
       " 'Minsk',\n",
       " 'is',\n",
       " 'the',\n",
       " 'capital',\n",
       " 'of',\n",
       " 'Belarus',\n",
       " 'Minsk',\n",
       " 'is',\n",
       " 'the',\n",
       " 'capital',\n",
       " 'of',\n",
       " 'Belarus']"
      ]
     },
     "execution_count": 6,
     "metadata": {},
     "output_type": "execute_result"
    }
   ],
   "source": [
    "phrase * 3"
   ]
  },
  {
   "cell_type": "code",
   "execution_count": 7,
   "metadata": {},
   "outputs": [
    {
     "data": {
      "text/plain": [
       "('Minsk', 'is', 'Belarus')"
      ]
     },
     "execution_count": 7,
     "metadata": {},
     "output_type": "execute_result"
    }
   ],
   "source": [
    "phrase[0], phrase[1], phrase[-1]"
   ]
  },
  {
   "cell_type": "code",
   "execution_count": 8,
   "metadata": {},
   "outputs": [
    {
     "data": {
      "text/plain": [
       "(['is', 'the', 'capital'], ['capital', 'of', 'Belarus'], ['the', 'capital'])"
      ]
     },
     "execution_count": 8,
     "metadata": {},
     "output_type": "execute_result"
    }
   ],
   "source": [
    "phrase[1:4], phrase[-3:], phrase[2:-2]"
   ]
  },
  {
   "cell_type": "code",
   "execution_count": 9,
   "metadata": {},
   "outputs": [
    {
     "data": {
      "text/plain": [
       "['Belarus', 'Minsk', 'capital', 'is', 'of', 'the']"
      ]
     },
     "execution_count": 9,
     "metadata": {},
     "output_type": "execute_result"
    }
   ],
   "source": [
    "sorted(phrase)"
   ]
  },
  {
   "cell_type": "markdown",
   "metadata": {},
   "source": [
    "# Exercise 2"
   ]
  },
  {
   "cell_type": "markdown",
   "metadata": {},
   "source": [
    "Use the corpus module to explore austen-persuasion.txt. How many **word\n",
    "tokens** does this book have? How many **word types**?"
   ]
  },
  {
   "cell_type": "code",
   "execution_count": 10,
   "metadata": {},
   "outputs": [],
   "source": [
    "from nltk.corpus import gutenberg"
   ]
  },
  {
   "cell_type": "code",
   "execution_count": 11,
   "metadata": {},
   "outputs": [],
   "source": [
    "def tokens_count(tokens):\n",
    "    return len(tokens)"
   ]
  },
  {
   "cell_type": "code",
   "execution_count": 12,
   "metadata": {},
   "outputs": [],
   "source": [
    "def types_count(tokens):\n",
    "    return len(set(tokens))"
   ]
  },
  {
   "cell_type": "code",
   "execution_count": 13,
   "metadata": {},
   "outputs": [],
   "source": [
    "def get_word_tokens(tokens):\n",
    "    return [w.lower() for w in tokens if w.isalpha()]"
   ]
  },
  {
   "cell_type": "code",
   "execution_count": 14,
   "metadata": {},
   "outputs": [],
   "source": [
    "word_tokens = get_word_tokens(gutenberg.words('austen-persuasion.txt'))"
   ]
  },
  {
   "cell_type": "code",
   "execution_count": 15,
   "metadata": {},
   "outputs": [
    {
     "data": {
      "text/plain": [
       "(84121, 5739)"
      ]
     },
     "execution_count": 15,
     "metadata": {},
     "output_type": "execute_result"
    }
   ],
   "source": [
    "word_tokens_count = tokens_count(word_tokens)\n",
    "word_types_count = types_count(word_tokens)\n",
    "word_tokens_count, word_types_count"
   ]
  },
  {
   "cell_type": "markdown",
   "metadata": {},
   "source": [
    "# Exercise 3"
   ]
  },
  {
   "cell_type": "markdown",
   "metadata": {},
   "source": [
    "Use the Brown Corpus reader nltk.corpus.brown.words() or the Web Text Corpus\n",
    "reader nltk.corpus.webtext.words() to access some sample text in two different\n",
    "genres."
   ]
  },
  {
   "cell_type": "code",
   "execution_count": 16,
   "metadata": {},
   "outputs": [],
   "source": [
    "from nltk.corpus import brown, webtext"
   ]
  },
  {
   "cell_type": "code",
   "execution_count": 17,
   "metadata": {},
   "outputs": [
    {
     "data": {
      "text/plain": [
       "['adventure',\n",
       " 'belles_lettres',\n",
       " 'editorial',\n",
       " 'fiction',\n",
       " 'government',\n",
       " 'hobbies',\n",
       " 'humor',\n",
       " 'learned',\n",
       " 'lore',\n",
       " 'mystery',\n",
       " 'news',\n",
       " 'religion',\n",
       " 'reviews',\n",
       " 'romance',\n",
       " 'science_fiction']"
      ]
     },
     "execution_count": 17,
     "metadata": {},
     "output_type": "execute_result"
    }
   ],
   "source": [
    "brown.categories()"
   ]
  },
  {
   "cell_type": "code",
   "execution_count": 18,
   "metadata": {},
   "outputs": [
    {
     "data": {
      "text/plain": [
       "['Dan', 'Morgan', 'told', 'himself', 'he', 'would', ...]"
      ]
     },
     "execution_count": 18,
     "metadata": {},
     "output_type": "execute_result"
    }
   ],
   "source": [
    "brown.words(categories='adventure')"
   ]
  },
  {
   "cell_type": "code",
   "execution_count": 19,
   "metadata": {},
   "outputs": [
    {
     "data": {
      "text/plain": [
       "['The', 'Office', 'of', 'Business', 'Economics', '(', ...]"
      ]
     },
     "execution_count": 19,
     "metadata": {},
     "output_type": "execute_result"
    }
   ],
   "source": [
    "brown.words(categories='government')"
   ]
  },
  {
   "cell_type": "code",
   "execution_count": 20,
   "metadata": {},
   "outputs": [
    {
     "data": {
      "text/plain": [
       "['firefox.txt',\n",
       " 'grail.txt',\n",
       " 'overheard.txt',\n",
       " 'pirates.txt',\n",
       " 'singles.txt',\n",
       " 'wine.txt']"
      ]
     },
     "execution_count": 20,
     "metadata": {},
     "output_type": "execute_result"
    }
   ],
   "source": [
    "webtext.fileids()"
   ]
  },
  {
   "cell_type": "code",
   "execution_count": 21,
   "metadata": {},
   "outputs": [
    {
     "data": {
      "text/plain": [
       "['SCENE', '1', ':', '[', 'wind', ']', '[', 'clop', ...]"
      ]
     },
     "execution_count": 21,
     "metadata": {},
     "output_type": "execute_result"
    }
   ],
   "source": [
    "webtext.words('grail.txt')"
   ]
  },
  {
   "cell_type": "code",
   "execution_count": 22,
   "metadata": {},
   "outputs": [
    {
     "data": {
      "text/plain": [
       "['Cookie', 'Manager', ':', '\"', 'Don', \"'\", 't', ...]"
      ]
     },
     "execution_count": 22,
     "metadata": {},
     "output_type": "execute_result"
    }
   ],
   "source": [
    "webtext.words('firefox.txt')"
   ]
  },
  {
   "cell_type": "markdown",
   "metadata": {},
   "source": [
    "# Exercise 4"
   ]
  },
  {
   "cell_type": "markdown",
   "metadata": {},
   "source": [
    "Read in the texts of the State of the Union addresses, using the state_union corpus\n",
    "reader. Count occurrences of men, women, and people in each document. What has\n",
    "happened to the usage of these words over time?"
   ]
  },
  {
   "cell_type": "code",
   "execution_count": 23,
   "metadata": {},
   "outputs": [],
   "source": [
    "from nltk.corpus import state_union\n",
    "from nltk.probability import ConditionalFreqDist"
   ]
  },
  {
   "cell_type": "code",
   "execution_count": 24,
   "metadata": {},
   "outputs": [],
   "source": [
    "cfd_file = ConditionalFreqDist(\n",
    "    (w.lower(), file)\n",
    "    for file in state_union.fileids()\n",
    "    for w in state_union.words(file)\n",
    "    if w.lower() in ['men', 'women', 'people']\n",
    ")"
   ]
  },
  {
   "cell_type": "code",
   "execution_count": 25,
   "metadata": {},
   "outputs": [
    {
     "data": {
      "image/png": "[encoded data removed]",
      "text/plain": [
       "<Figure size 1080x576 with 1 Axes>"
      ]
     },
     "metadata": {
      "needs_background": "light"
     },
     "output_type": "display_data"
    }
   ],
   "source": [
    "plt.figure(figsize=(15, 8))\n",
    "cfd_file.plot()"
   ]
  },
  {
   "cell_type": "code",
   "execution_count": 26,
   "metadata": {},
   "outputs": [],
   "source": [
    "cfd_time = ConditionalFreqDist(\n",
    "    (w.lower(), file[:4])\n",
    "    for file in state_union.fileids()\n",
    "    for w in state_union.words(file)\n",
    "    if w.lower() in ['men', 'women', 'people']\n",
    ")"
   ]
  },
  {
   "cell_type": "code",
   "execution_count": 27,
   "metadata": {},
   "outputs": [
    {
     "data": {
      "image/png": "[encoded data removed]",
      "text/plain": [
       "<Figure size 1080x576 with 1 Axes>"
      ]
     },
     "metadata": {
      "needs_background": "light"
     },
     "output_type": "display_data"
    }
   ],
   "source": [
    "plt.figure(figsize=(15, 8))\n",
    "cfd_time.plot()"
   ]
  },
  {
   "cell_type": "markdown",
   "metadata": {},
   "source": [
    "# Exercise 5"
   ]
  },
  {
   "cell_type": "markdown",
   "metadata": {},
   "source": [
    "Investigate the holonym-meronym relations for some nouns. Remember that\n",
    "there are three kinds of holonym-meronym relation, so you need to use member_meronyms(), part_meronyms(), substance_meronyms(), member_holonyms(),\n",
    "part_holonyms(), and substance_holonyms()."
   ]
  },
  {
   "cell_type": "code",
   "execution_count": 28,
   "metadata": {},
   "outputs": [],
   "source": [
    "from nltk.corpus import wordnet as wn"
   ]
  },
  {
   "cell_type": "code",
   "execution_count": 29,
   "metadata": {},
   "outputs": [
    {
     "name": "stdout",
     "output_type": "stream",
     "text": [
      "computer.n.01: a machine for performing calculations automatically\n",
      "calculator.n.01: an expert at calculation (or at operating calculating machines)\n"
     ]
    }
   ],
   "source": [
    "for synset in wn.synsets('computer', 'n'):\n",
    "    print(synset.name() + ':', synset.definition())"
   ]
  },
  {
   "cell_type": "code",
   "execution_count": 30,
   "metadata": {},
   "outputs": [],
   "source": [
    "computer = wn.synset('computer.n.01')"
   ]
  },
  {
   "cell_type": "code",
   "execution_count": 31,
   "metadata": {},
   "outputs": [
    {
     "data": {
      "text/plain": [
       "[Synset('busbar.n.01'),\n",
       " Synset('cathode-ray_tube.n.01'),\n",
       " Synset('central_processing_unit.n.01'),\n",
       " Synset('chip.n.07'),\n",
       " Synset('computer_accessory.n.01'),\n",
       " Synset('computer_circuit.n.01'),\n",
       " Synset('data_converter.n.01'),\n",
       " Synset('disk_cache.n.01'),\n",
       " Synset('diskette.n.01'),\n",
       " Synset('hardware.n.03'),\n",
       " Synset('keyboard.n.01'),\n",
       " Synset('memory.n.04'),\n",
       " Synset('monitor.n.04'),\n",
       " Synset('peripheral.n.01')]"
      ]
     },
     "execution_count": 31,
     "metadata": {},
     "output_type": "execute_result"
    }
   ],
   "source": [
    "computer.part_meronyms()  # 'computer' contains the following parts"
   ]
  },
  {
   "cell_type": "code",
   "execution_count": 32,
   "metadata": {},
   "outputs": [
    {
     "data": {
      "text/plain": [
       "[Synset('platform.n.03')]"
      ]
     },
     "execution_count": 32,
     "metadata": {},
     "output_type": "execute_result"
    }
   ],
   "source": [
    "computer.part_holonyms()  # 'computer' is contained in as a part"
   ]
  },
  {
   "cell_type": "code",
   "execution_count": 33,
   "metadata": {},
   "outputs": [
    {
     "name": "stdout",
     "output_type": "stream",
     "text": [
      "paper.n.01: a material made of cellulose pulp derived mainly from wood or rags or certain grasses\n",
      "composition.n.08: an essay (especially one written as an assignment)\n",
      "newspaper.n.01: a daily or weekly publication on folded sheets; contains news and articles and advertisements\n",
      "paper.n.04: a medium for written communication\n",
      "paper.n.05: a scholarly article describing the results of observations or stating hypotheses\n",
      "newspaper.n.02: a business firm that publishes newspapers\n",
      "newspaper.n.03: the physical object that is the product of a newspaper publisher\n"
     ]
    }
   ],
   "source": [
    "for synset in wn.synsets('paper', 'n'):\n",
    "    print(synset.name() + ':', synset.definition())"
   ]
  },
  {
   "cell_type": "code",
   "execution_count": 34,
   "metadata": {},
   "outputs": [],
   "source": [
    "paper = wn.synset('paper.n.01')"
   ]
  },
  {
   "cell_type": "code",
   "execution_count": 35,
   "metadata": {},
   "outputs": [
    {
     "data": {
      "text/plain": [
       "[Synset('cellulose.n.01')]"
      ]
     },
     "execution_count": 35,
     "metadata": {},
     "output_type": "execute_result"
    }
   ],
   "source": [
    "paper.substance_meronyms()  # paper is made from cellulose"
   ]
  },
  {
   "cell_type": "code",
   "execution_count": 36,
   "metadata": {},
   "outputs": [
    {
     "name": "stdout",
     "output_type": "stream",
     "text": [
      "wood.n.01: the hard fibrous lignified substance under the bark of trees\n",
      "forest.n.01: the trees and other plants in a large densely wooded area\n",
      "wood.n.03: United States film actress (1938-1981)\n",
      "wood.n.04: English conductor (1869-1944)\n",
      "wood.n.05: English writer of novels about murders and thefts and forgeries (1814-1887)\n",
      "wood.n.06: United States painter noted for works based on life in the Midwest (1892-1942)\n",
      "woodwind.n.01: any wind instrument other than the brass instruments\n",
      "wood.n.08: a golf club with a long shaft used to hit long shots; originally made with a wooden head\n"
     ]
    }
   ],
   "source": [
    "for synset in wn.synsets('wood', 'n'):\n",
    "    print(synset.name() + ':', synset.definition())"
   ]
  },
  {
   "cell_type": "code",
   "execution_count": 37,
   "metadata": {},
   "outputs": [],
   "source": [
    "wood = wn.synset('wood.n.01')"
   ]
  },
  {
   "cell_type": "code",
   "execution_count": 38,
   "metadata": {},
   "outputs": [
    {
     "data": {
      "text/plain": [
       "[Synset('beam.n.02'),\n",
       " Synset('chopping_block.n.01'),\n",
       " Synset('lumber.n.01'),\n",
       " Synset('spindle.n.02')]"
      ]
     },
     "execution_count": 38,
     "metadata": {},
     "output_type": "execute_result"
    }
   ],
   "source": [
    "wood.substance_holonyms()  # wood is a substance of beam, chopping_block, lumber, spindle"
   ]
  },
  {
   "cell_type": "code",
   "execution_count": 39,
   "metadata": {},
   "outputs": [
    {
     "name": "stdout",
     "output_type": "stream",
     "text": [
      "parent.n.01: a father or mother; one who begets or one who gives birth to or nurtures and raises a child; a relative who plays the role of guardian\n",
      "parent.n.02: an organism (plant or animal) from which younger ones are obtained\n"
     ]
    }
   ],
   "source": [
    "for synset in wn.synsets('parent', 'n'):\n",
    "    print(synset.name() + ':', synset.definition())"
   ]
  },
  {
   "cell_type": "code",
   "execution_count": 40,
   "metadata": {},
   "outputs": [],
   "source": [
    "parent = wn.synset('parent.n.01')"
   ]
  },
  {
   "cell_type": "code",
   "execution_count": 41,
   "metadata": {},
   "outputs": [
    {
     "data": {
      "text/plain": [
       "[Synset('family.n.02')]"
      ]
     },
     "execution_count": 41,
     "metadata": {},
     "output_type": "execute_result"
    }
   ],
   "source": [
    "parent.member_holonyms()  # parent is a member of a family"
   ]
  },
  {
   "cell_type": "code",
   "execution_count": 42,
   "metadata": {},
   "outputs": [],
   "source": [
    "family = parent.member_holonyms()[0]"
   ]
  },
  {
   "cell_type": "code",
   "execution_count": 43,
   "metadata": {},
   "outputs": [
    {
     "data": {
      "text/plain": [
       "[Synset('child.n.02'), Synset('parent.n.01'), Synset('sibling.n.01')]"
      ]
     },
     "execution_count": 43,
     "metadata": {},
     "output_type": "execute_result"
    }
   ],
   "source": [
    "family.member_meronyms()  # get all family members"
   ]
  },
  {
   "cell_type": "markdown",
   "metadata": {},
   "source": [
    "# Exercise 6"
   ]
  },
  {
   "cell_type": "markdown",
   "metadata": {},
   "source": [
    "In the discussion of comparative wordlists, we created an object called trans\n",
    "late, which you could look up using words in both German and Italian in order\n",
    "to get corresponding words in English. What problem might arise with this approach?\n",
    "Can you suggest a way to avoid this problem?"
   ]
  },
  {
   "cell_type": "markdown",
   "metadata": {},
   "source": [
    "According to https://stackoverflow.com/questions/23479912/how-to-translate-words-in-ntlk-swadesh-corpus-regardless-of-case-python?noredirect=1&lq=1 German language has capitalization of Nouns, so we need to apply lowercase transformation"
   ]
  },
  {
   "cell_type": "code",
   "execution_count": 44,
   "metadata": {},
   "outputs": [],
   "source": [
    "from nltk.corpus import swadesh"
   ]
  },
  {
   "cell_type": "code",
   "execution_count": 45,
   "metadata": {},
   "outputs": [],
   "source": [
    "de2en = swadesh.entries(['de', 'en'])\n",
    "translate = dict(de2en)"
   ]
  },
  {
   "cell_type": "code",
   "execution_count": 46,
   "metadata": {},
   "outputs": [
    {
     "data": {
      "text/plain": [
       "True"
      ]
     },
     "execution_count": 46,
     "metadata": {},
     "output_type": "execute_result"
    }
   ],
   "source": [
    "any(w.istitle() for w in translate.keys())"
   ]
  },
  {
   "cell_type": "code",
   "execution_count": 47,
   "metadata": {},
   "outputs": [
    {
     "data": {
      "text/plain": [
       "(True, False)"
      ]
     },
     "execution_count": 47,
     "metadata": {},
     "output_type": "execute_result"
    }
   ],
   "source": [
    "'Frau' in translate, 'frau' in translate"
   ]
  },
  {
   "cell_type": "markdown",
   "metadata": {},
   "source": [
    "Fix:"
   ]
  },
  {
   "cell_type": "code",
   "execution_count": 48,
   "metadata": {},
   "outputs": [],
   "source": [
    "de2en_v2 = [(de.lower(), en) for de, en in swadesh.entries(['de', 'en'])]\n",
    "translate_v2 = dict(de2en_v2)"
   ]
  },
  {
   "cell_type": "code",
   "execution_count": 49,
   "metadata": {},
   "outputs": [
    {
     "data": {
      "text/plain": [
       "False"
      ]
     },
     "execution_count": 49,
     "metadata": {},
     "output_type": "execute_result"
    }
   ],
   "source": [
    "any(w.istitle() for w in translate_v2.keys())"
   ]
  },
  {
   "cell_type": "code",
   "execution_count": 50,
   "metadata": {},
   "outputs": [
    {
     "data": {
      "text/plain": [
       "True"
      ]
     },
     "execution_count": 50,
     "metadata": {},
     "output_type": "execute_result"
    }
   ],
   "source": [
    "'frau' in translate_v2"
   ]
  },
  {
   "cell_type": "markdown",
   "metadata": {},
   "source": [
    "# Exercise 7"
   ]
  },
  {
   "cell_type": "markdown",
   "metadata": {},
   "source": [
    "According to Strunk and White’s Elements of Style, the word however, used at\n",
    "the start of a sentence, means “in whatever way” or “to whatever extent,” and not\n",
    "“nevertheless.” They give this example of correct usage: However you advise him,\n",
    "he will probably do as he thinks best. (http://www.bartleby.com/141/strunk3.html)\n",
    "Use the concordance tool to study actual usage of this word in the various texts we\n",
    "have been considering. See also the LanguageLog posting “Fossilized prejudices\n",
    "about ‘however’” at http://itre.cis.upenn.edu/~myl/languagelog/archives/001913.html."
   ]
  },
  {
   "cell_type": "code",
   "execution_count": 51,
   "metadata": {},
   "outputs": [],
   "source": [
    "from nltk.text import Text"
   ]
  },
  {
   "cell_type": "code",
   "execution_count": 52,
   "metadata": {},
   "outputs": [
    {
     "name": "stdout",
     "output_type": "stream",
     "text": [
      "Displaying 25 of 95 matches:\n",
      "gledy - piggledy whale statements , however authentic , in these extracts , for\n",
      "lave ? Tell me that . Well , then , however the old sea - captains may order me\n",
      "ea - captains may order me about -- however they may thump and punch me about ,\n",
      " needs be the sign of \" The Trap .\" However , I picked myself up and hearing a \n",
      " the conclusion that such an idea , however wild , might not be altogether unwa\n",
      " most obstreperously . I observed , however , that one of them held somewhat al\n",
      "ade on the sea . In a few minutes , however , he was missed by his shipmates , \n",
      "bag ' s mouth . This accomplished , however , he turned round -- when , good he\n",
      "te man into a purplish yellow one . However , I had never been in the South Sea\n",
      "tle in the matter of my bedfellow . However , a good laugh is a mighty good thi\n",
      "ight of the water it had absorbed . However , hat and coat and overshoes were o\n",
      "pulpit , it had not escaped me that however convenient for a ship , these joint\n",
      "lf baptized again . For the nonce , however , he proposed to sail about , and s\n",
      " own and comrade ' s bill ; using , however , my comrade ' s money . The grinni\n",
      "in to say it was on the starboard . However , by dint of beating about a little\n",
      "a supper for us both on one clam ?\" However , a warm savory steam from the kitc\n",
      " owners till all is ready for sea . However , it is always as well to have a lo\n",
      "fectly as he was known to me then . However , my thoughts were at length carrie\n",
      " I got down our traps , resolving , however , to sleep ashore till the last . B\n",
      " em !\" \" No need of profane words , however great the hurry , Peleg ,\" said Bil\n",
      "a pilot . I was comforting myself , however , with the thought that in pious Bi\n",
      "isely -- who knows ? Certain I am , however , that a king ' s head is solemnly \n",
      "o scientific description . As yet , however , the sperm whale , scientific or p\n",
      "IZONTAL TAIL . There you have him . However contracted , that definition is the\n",
      "several varieties , most of which , however , are little known . Broad - nosed \n"
     ]
    }
   ],
   "source": [
    "moby_dick = Text(gutenberg.words('melville-moby_dick.txt'))\n",
    "moby_dick.concordance('however')"
   ]
  },
  {
   "cell_type": "code",
   "execution_count": 53,
   "metadata": {},
   "outputs": [
    {
     "name": "stdout",
     "output_type": "stream",
     "text": [
      "Displaying 20 of 20 matches:\n",
      "ate it would not open any of them . However , on the second time round , she ca\n",
      "sagree with you , sooner or later . However , this bottle was NOT marked ' pois\n",
      "r into that lovely garden . First , however , she waited for a few minutes to s\n",
      " never get to twenty at that rate ! However , the Multiplication Table doesn ' \n",
      "nd behind them a railway station .) However , she soon made out that she was in\n",
      "ILL be a queer thing , to be sure ! However , everything is queer to - day .' J\n",
      "sy to know when the race was over . However , when they had been running half a\n",
      " and had to be patted on the back . However , it was over at last , and they sa\n",
      "ow - spirited . In a little while , however , she again heard a little patterin\n",
      "nd this a very difficult question . However , at last she stretched her arms ro\n",
      "o be , from one minute to another ! However , I ' ve got back to my right size \n",
      "ow whether it would like the name : however , it only grinned a little wider . \n",
      "n ' t think that proved it at all ; however , she went on ' And how do you know\n",
      " !' said the Dormouse indignantly . However , he consented to go on . ' And so \n",
      " , tumbling up against each other ; however , they got settled down in a minute\n",
      "k of it at all ,' said the King : ' however , it may kiss my hand if it likes .\n",
      "t was an uncomfortably sharp chin . However , she did not like to be rude , so \n",
      "e , and were resting in the shade : however , the moment they saw her , they hu\n",
      "ght as well be at school at once .' However , she got up , and began to repeat \n",
      "age knew the meaning of it at all . However , ' jury - men ' would have done ju\n"
     ]
    }
   ],
   "source": [
    "moby_dick = Text(gutenberg.words('carroll-alice.txt'))\n",
    "moby_dick.concordance('however')"
   ]
  },
  {
   "cell_type": "markdown",
   "metadata": {},
   "source": [
    "# Exercise 8"
   ]
  },
  {
   "cell_type": "markdown",
   "metadata": {},
   "source": [
    "Define a conditional frequency distribution over the Names Corpus that allows\n",
    "you to see which initial letters are more frequent for males versus females (see\n",
    "Figure 2-7)."
   ]
  },
  {
   "cell_type": "code",
   "execution_count": 54,
   "metadata": {},
   "outputs": [],
   "source": [
    "from nltk.corpus import names"
   ]
  },
  {
   "cell_type": "code",
   "execution_count": 55,
   "metadata": {},
   "outputs": [],
   "source": [
    "cfd_ex8 = ConditionalFreqDist(\n",
    "    (file, name[0])\n",
    "    for file in names.fileids()\n",
    "    for name in names.words(file)\n",
    ")"
   ]
  },
  {
   "cell_type": "code",
   "execution_count": 56,
   "metadata": {},
   "outputs": [
    {
     "data": {
      "image/png": "[encoded data removed]",
      "text/plain": [
       "<Figure size 1080x576 with 1 Axes>"
      ]
     },
     "metadata": {
      "needs_background": "light"
     },
     "output_type": "display_data"
    }
   ],
   "source": [
    "plt.figure(figsize=(15, 8))\n",
    "cfd_ex8.plot()"
   ]
  },
  {
   "cell_type": "markdown",
   "metadata": {},
   "source": [
    "# Exercise 9"
   ]
  },
  {
   "cell_type": "markdown",
   "metadata": {},
   "source": [
    "Pick a pair of texts and study the differences between them, in terms of vocabulary,\n",
    "vocabulary richness, genre, etc. Can you find pairs of words that have quite\n",
    "different meanings across the two texts, such as monstrous in Moby Dick and in\n",
    "Sense and Sensibility?"
   ]
  },
  {
   "cell_type": "code",
   "execution_count": 57,
   "metadata": {},
   "outputs": [],
   "source": [
    "def lexical_diversity(tokens):\n",
    "    return tokens_count(tokens) / types_count(tokens)"
   ]
  },
  {
   "cell_type": "code",
   "execution_count": 58,
   "metadata": {},
   "outputs": [],
   "source": [
    "humor = get_word_tokens(brown.words(categories='humor'))"
   ]
  },
  {
   "cell_type": "code",
   "execution_count": 59,
   "metadata": {},
   "outputs": [],
   "source": [
    "government = get_word_tokens(brown.words(categories='government'))"
   ]
  },
  {
   "cell_type": "code",
   "execution_count": 60,
   "metadata": {},
   "outputs": [
    {
     "data": {
      "text/plain": [
       "(17776, 4452, 3.9928122192273134)"
      ]
     },
     "execution_count": 60,
     "metadata": {},
     "output_type": "execute_result"
    }
   ],
   "source": [
    "tokens_count(humor), types_count(humor), lexical_diversity(humor)"
   ]
  },
  {
   "cell_type": "code",
   "execution_count": 61,
   "metadata": {},
   "outputs": [
    {
     "data": {
      "text/plain": [
       "(59959, 6444, 9.304624456859093)"
      ]
     },
     "execution_count": 61,
     "metadata": {},
     "output_type": "execute_result"
    }
   ],
   "source": [
    "tokens_count(government), types_count(government), lexical_diversity(government)"
   ]
  },
  {
   "cell_type": "markdown",
   "metadata": {},
   "source": [
    "'humor' genre is more diverse than 'government' maybe because 'goverment' uses more official comminication style"
   ]
  },
  {
   "cell_type": "code",
   "execution_count": 62,
   "metadata": {},
   "outputs": [
    {
     "name": "stdout",
     "output_type": "stream",
     "text": [
      "Displaying 5 of 5 matches:\n",
      "er reporters and cameramen barco his state of apprehension gone never to return\n",
      "n becomes an angry old man about the state of literature or something else that\n",
      "aranoiac and the to become head of a state complete power not only corrupts but\n",
      "to you sure as to the constables and state troopers who followed in your wake t\n",
      "p of tea they hail from travancore a state in the subcontinent where kali the g\n"
     ]
    }
   ],
   "source": [
    "Text(humor).concordance('state')"
   ]
  },
  {
   "cell_type": "code",
   "execution_count": 63,
   "metadata": {},
   "outputs": [
    {
     "name": "stdout",
     "output_type": "stream",
     "text": [
      "Displaying 25 of 196 matches:\n",
      "ction of saying that he was from the state of texas i did so because i agree wi\n",
      " the interests of my district and my state what sam life proves to us all is th\n",
      "ts of own community own district own state and by that help himself represent e\n",
      "rs to our community our district our state and if we follow the rayburn pattern\n",
      "ties in helping to pilot the ship of state through the shoals of stormy interna\n",
      "table american sam rayburn origin of state automobile practices the practice of\n",
      "s back over forty years at least one state vehicle was in existence in the stat\n",
      "tate vehicle was in existence in the state presently owns passenger vehicles in\n",
      " for an average per mile purchase of state vehicles is handled similarly to all\n",
      "vehicles is handled similarly to all state purchases unit prices to the state a\n",
      "l state purchases unit prices to the state are considerably lower than to the g\n",
      "quantity purchases and no payment of state sales or federal excise taxes vehicl\n",
      "ase assignment use and management of state vehicles have been shaped by the adm\n",
      "policies include a kinds of cars the state should own b when cars should be tra\n",
      "nd f need for liability insurance on state automobiles a review of these polici\n",
      "view of these policies indicates the state purchases and assigns grades of cars\n",
      "replace high mileage allowances with state automobiles it is reasonably economi\n",
      " it is reasonably economical for the state to have drivers garage state cars at\n",
      "for the state to have drivers garage state cars at their homes the state has re\n",
      "garage state cars at their homes the state has recently undertaken liability in\n",
      "n liability insurance for drivers of state cars automobile practices in other s\n",
      "tes concerning assignment and use of state automobiles reveals several points f\n",
      "or provide vehicles for employees on state business two other states provide ve\n",
      "olicies or regulations for assigning state vehicles in lieu of paying mileage a\n",
      "ge allowances mileage allowances for state employees are of two types a actual \n"
     ]
    }
   ],
   "source": [
    "Text(government).concordance('state')"
   ]
  },
  {
   "cell_type": "markdown",
   "metadata": {},
   "source": [
    "# Exercise 10"
   ]
  },
  {
   "cell_type": "markdown",
   "metadata": {},
   "source": [
    "Read the BBC News article: “UK’s Vicky Pollards ‘left behind’” at http://news.bbc.co.uk/1/hi/education/6173441.stm. The article gives the following statistic\n",
    "about teen language: “the top 20 words used, including yeah, no, but and like,\n",
    "account for around a third of all words.” How many **word types** account for a third\n",
    "of all **word tokens**, for a variety of text sources? What do you conclude about this\n",
    "statistic? Read more about this on LanguageLog, at http://itre.cis.upenn.edu/~myl/languagelog/archives/003993.html."
   ]
  },
  {
   "cell_type": "code",
   "execution_count": 64,
   "metadata": {},
   "outputs": [],
   "source": [
    "import pandas as pd\n",
    "\n",
    "from nltk.corpus import nps_chat\n",
    "from nltk.probability import FreqDist"
   ]
  },
  {
   "cell_type": "code",
   "execution_count": 65,
   "metadata": {},
   "outputs": [],
   "source": [
    "def get_top_word_types_by_cum_ratio(tokens, cum_ratio):\n",
    "    \n",
    "    fd = FreqDist(tokens)\n",
    "    items_df = (\n",
    "        pd.DataFrame(data=fd.items(), columns=['sample', 'freq'])\n",
    "        .sort_values(by='freq', ascending=False)\n",
    "        .reset_index(drop=True)\n",
    "    )\n",
    "    items_df['cum_freq'] = items_df['freq'].cumsum()\n",
    "    items_df['ratio'] = items_df['freq'] / fd.N()\n",
    "    items_df['cum_ratio'] = items_df['ratio'].cumsum()\n",
    "    ind = (items_df['cum_ratio'] > cum_ratio).idxmax()\n",
    "    \n",
    "    return items_df.head(ind)"
   ]
  },
  {
   "cell_type": "code",
   "execution_count": 66,
   "metadata": {},
   "outputs": [],
   "source": [
    "chat_teens = get_word_tokens(nps_chat.words('11-09-teens_706posts.xml'))\n",
    "chat_adults = get_word_tokens(nps_chat.words('11-09-adults_706posts.xml'))"
   ]
  },
  {
   "cell_type": "code",
   "execution_count": 67,
   "metadata": {},
   "outputs": [],
   "source": [
    "news = get_word_tokens(brown.words(categories='news'))\n",
    "romance = get_word_tokens(brown.words(categories='romance'))"
   ]
  },
  {
   "cell_type": "code",
   "execution_count": 68,
   "metadata": {},
   "outputs": [],
   "source": [
    "alice = get_word_tokens(gutenberg.words('carroll-alice.txt'))\n",
    "sense = get_word_tokens(gutenberg.words('austen-sense.txt'))"
   ]
  },
  {
   "cell_type": "code",
   "execution_count": 69,
   "metadata": {},
   "outputs": [
    {
     "name": "stdout",
     "output_type": "stream",
     "text": [
      "CHAT_TEENS\n",
      "   sample  freq  cum_freq     ratio  cum_ratio\n",
      "0    join   139       139  0.066412   0.066412\n",
      "1    part   128       267  0.061156   0.127568\n",
      "2       i    61       328  0.029145   0.156713\n",
      "3      to    53       381  0.025323   0.182035\n",
      "4      me    51       432  0.024367   0.206402\n",
      "5    chat    36       468  0.017200   0.223602\n",
      "6      pm    36       504  0.017200   0.240803\n",
      "7     the    36       540  0.017200   0.258003\n",
      "8     you    35       575  0.016722   0.274725\n",
      "9     hey    31       606  0.014811   0.289537\n",
      "10      m    28       634  0.013378   0.302914\n",
      "11      a    27       661  0.012900   0.315815\n",
      "12    any    27       688  0.012900   0.328715\n",
      "CHAT_ADULTS\n",
      "   sample  freq  cum_freq     ratio  cum_ratio\n",
      "0    part   103       103  0.044397   0.044397\n",
      "1       i    98       201  0.042241   0.086638\n",
      "2    join    90       291  0.038793   0.125431\n",
      "3     lol    69       360  0.029741   0.155172\n",
      "4      to    57       417  0.024569   0.179741\n",
      "5     you    50       467  0.021552   0.201293\n",
      "6     the    43       510  0.018534   0.219828\n",
      "7       a    39       549  0.016810   0.236638\n",
      "8      it    32       581  0.013793   0.250431\n",
      "9    that    31       612  0.013362   0.263793\n",
      "10     is    29       641  0.012500   0.276293\n",
      "11     in    26       667  0.011207   0.287500\n",
      "12    and    25       692  0.010776   0.298276\n",
      "13     my    22       714  0.009483   0.307759\n",
      "14     hi    21       735  0.009052   0.316810\n",
      "15     no    21       756  0.009052   0.325862\n",
      "NEWS\n",
      "   sample  freq  cum_freq     ratio  cum_ratio\n",
      "0     the  6386      6386  0.076422   0.076422\n",
      "1      of  2861      9247  0.034238   0.110660\n",
      "2     and  2186     11433  0.026160   0.136821\n",
      "3      to  2144     13577  0.025658   0.162478\n",
      "4       a  2130     15707  0.025490   0.187968\n",
      "5      in  2020     17727  0.024174   0.212142\n",
      "6     for   969     18696  0.011596   0.223738\n",
      "7    that   829     19525  0.009921   0.233659\n",
      "8      is   733     20258  0.008772   0.242431\n",
      "9     was   717     20975  0.008580   0.251011\n",
      "10     on   691     21666  0.008269   0.259281\n",
      "11     he   642     22308  0.007683   0.266963\n",
      "12     at   636     22944  0.007611   0.274575\n",
      "13   with   567     23511  0.006785   0.281360\n",
      "14     be   526     24037  0.006295   0.287655\n",
      "15     as   517     24554  0.006187   0.293842\n",
      "16     by   504     25058  0.006031   0.299873\n",
      "17     it   478     25536  0.005720   0.305593\n",
      "18    his   428     25964  0.005122   0.310715\n",
      "19   said   406     26370  0.004859   0.315574\n",
      "20   will   389     26759  0.004655   0.320229\n",
      "21   from   353     27112  0.004224   0.324454\n",
      "22    are   330     27442  0.003949   0.328403\n",
      "23   this   320     27762  0.003829   0.332232\n",
      "ROMANCE\n",
      "   sample  freq  cum_freq     ratio  cum_ratio\n",
      "0     the  2988      2988  0.052553   0.052553\n",
      "1     and  1905      4893  0.033505   0.086058\n",
      "2      to  1517      6410  0.026681   0.112739\n",
      "3       a  1383      7793  0.024324   0.137063\n",
      "4      of  1202      8995  0.021141   0.158204\n",
      "5      he  1068     10063  0.018784   0.176988\n",
      "6     was   999     11062  0.017570   0.194558\n",
      "7       i   951     12013  0.016726   0.211284\n",
      "8      in   930     12943  0.016357   0.227641\n",
      "9     she   728     13671  0.012804   0.240445\n",
      "10     it   717     14388  0.012611   0.253056\n",
      "11    had   695     15083  0.012224   0.265280\n",
      "12    her   680     15763  0.011960   0.277239\n",
      "13   that   612     16375  0.010764   0.288003\n",
      "14    his   603     16978  0.010606   0.298609\n",
      "15    you   558     17536  0.009814   0.308423\n",
      "16   with   473     18009  0.008319   0.316742\n",
      "17    for   441     18450  0.007756   0.324498\n",
      "18     at   431     18881  0.007580   0.332079\n",
      "ALICE\n",
      "   sample  freq  cum_freq     ratio  cum_ratio\n",
      "0     the  1642      1642  0.060074   0.060074\n",
      "1     and   872      2514  0.031903   0.091977\n",
      "2      to   729      3243  0.026671   0.118648\n",
      "3       a   632      3875  0.023122   0.141770\n",
      "4      it   595      4470  0.021769   0.163539\n",
      "5     she   553      5023  0.020232   0.183771\n",
      "6       i   543      5566  0.019866   0.203637\n",
      "7      of   514      6080  0.018805   0.222442\n",
      "8    said   462      6542  0.016903   0.239344\n",
      "9     you   411      6953  0.015037   0.254381\n",
      "10  alice   398      7351  0.014561   0.268942\n",
      "11     in   369      7720  0.013500   0.282442\n",
      "12    was   357      8077  0.013061   0.295504\n",
      "13   that   315      8392  0.011525   0.307028\n",
      "14     as   263      8655  0.009622   0.316650\n",
      "15    her   248      8903  0.009073   0.325723\n",
      "SENSE\n",
      "   sample  freq  cum_freq     ratio  cum_ratio\n",
      "0      to  4116      4116  0.034092   0.034092\n",
      "1     the  4105      8221  0.034001   0.068092\n",
      "2      of  3572     11793  0.029586   0.097678\n",
      "3     and  3491     15284  0.028915   0.126593\n",
      "4     her  2551     17835  0.021129   0.147723\n",
      "5       a  2092     19927  0.017327   0.165050\n",
      "6       i  2004     21931  0.016599   0.181649\n",
      "7      in  1979     23910  0.016392   0.198040\n",
      "8     was  1861     25771  0.015414   0.213454\n",
      "9      it  1757     27528  0.014553   0.228007\n",
      "10    she  1613     29141  0.013360   0.241367\n",
      "11   that  1385     30526  0.011472   0.252839\n",
      "12     be  1305     31831  0.010809   0.263648\n",
      "13    for  1262     33093  0.010453   0.274101\n",
      "14    not  1248     34341  0.010337   0.284438\n",
      "15     as  1221     35562  0.010113   0.294551\n",
      "16    you  1191     36753  0.009865   0.304416\n",
      "17     he  1108     37861  0.009177   0.313593\n",
      "18    his  1021     38882  0.008457   0.322049\n",
      "19    had   998     39880  0.008266   0.330316\n"
     ]
    }
   ],
   "source": [
    "for corpus_name, words in zip(\n",
    "    ('chat_teens', 'chat_adults', 'news', 'romance', 'alice', 'sense'), \n",
    "    (chat_teens, chat_adults, news, romance, alice, sense)\n",
    "):\n",
    "    print(corpus_name.upper())\n",
    "    print(get_top_word_types_by_cum_ratio(words, 1 / 3))"
   ]
  },
  {
   "cell_type": "markdown",
   "metadata": {},
   "source": [
    "Almost always top-20 words are stopwords and it is normal"
   ]
  },
  {
   "cell_type": "markdown",
   "metadata": {},
   "source": [
    "# Exercise 11"
   ]
  },
  {
   "cell_type": "markdown",
   "metadata": {},
   "source": [
    "Investigate the table of modal distributions and look for other patterns. Try to\n",
    "explain them in terms of your own impressionistic understanding of the different\n",
    "genres. Can you find other closed classes of words that exhibit significant differences\n",
    "across different genres?"
   ]
  },
  {
   "cell_type": "code",
   "execution_count": 70,
   "metadata": {},
   "outputs": [
    {
     "name": "stdout",
     "output_type": "stream",
     "text": [
      "                  can could   may might  must  will \n",
      "           news    94    87    93    38    53   389 \n",
      "       religion    84    59    79    12    54    72 \n",
      "        hobbies   276    59   143    22    84   269 \n",
      "science_fiction    16    49     4    12     8    17 \n",
      "        romance    79   195    11    51    46    49 \n",
      "          humor    17    33     8     8     9    13 \n"
     ]
    }
   ],
   "source": [
    "cfd = nltk.ConditionalFreqDist(\n",
    "    (genre, word.lower())\n",
    "    for genre in brown.categories()\n",
    "    for word in brown.words(categories=genre)\n",
    ")\n",
    "genres = ['news', 'religion', 'hobbies', 'science_fiction', 'romance', 'humor']\n",
    "modals = ['can', 'could', 'may', 'might', 'must', 'will']\n",
    "cfd.tabulate(conditions=genres, samples=modals)"
   ]
  },
  {
   "cell_type": "markdown",
   "metadata": {},
   "source": [
    "'will' dominates in news genre. One of the main uses of 'will' is to refer to things in the future that we think are certain (see https://dictionary.cambridge.org/grammar/british-grammar/modals-and-modality/will)"
   ]
  },
  {
   "cell_type": "markdown",
   "metadata": {},
   "source": [
    "'can' dominates in hobbies and religion genres. We often use 'can' to talk about ability to do something in the present or future (see https://dictionary.cambridge.org/grammar/british-grammar/modals-and-modality/can)"
   ]
  },
  {
   "cell_type": "markdown",
   "metadata": {},
   "source": [
    "In such artistic genres such as science_fiction, romance and humor 'could' dominates over all other modal verbs. We often use 'could' to express possibility in the present and the future (see https://dictionary.cambridge.org/grammar/british-grammar/modals-and-modality/could)"
   ]
  },
  {
   "cell_type": "code",
   "execution_count": 71,
   "metadata": {},
   "outputs": [
    {
     "name": "stdout",
     "output_type": "stream",
     "text": [
      "                 and  for   or  but   so  nor  yet \n",
      "           news 2186  969  174  283   81   15   17 \n",
      "       religion  962  315  168  175   99   18   34 \n",
      "        hobbies 2178  857  461  221  121   10   19 \n",
      "science_fiction  294  100   31   89   26    2   11 \n",
      "        romance 1905  441  165  387  192    8   30 \n",
      "          humor  529  158   69  101   56    6    4 \n"
     ]
    }
   ],
   "source": [
    "cfd = nltk.ConditionalFreqDist(\n",
    "    (genre, word.lower())\n",
    "    for genre in brown.categories()\n",
    "    for word in brown.words(categories=genre)\n",
    ")\n",
    "genres = ['news', 'religion', 'hobbies', 'science_fiction', 'romance', 'humor']\n",
    "coord_conjs = ['and', 'for', 'or', 'but', 'so', 'nor', 'yet']\n",
    "cfd.tabulate(conditions=genres, samples=coord_conjs)"
   ]
  },
  {
   "cell_type": "markdown",
   "metadata": {},
   "source": [
    "According to the distribution above 'and' and 'for' are the most popular coordinating conjunctions over all genres."
   ]
  },
  {
   "cell_type": "code",
   "execution_count": 72,
   "metadata": {},
   "outputs": [
    {
     "data": {
      "image/png": "[encoded data removed]",
      "text/plain": [
       "<Figure size 864x576 with 1 Axes>"
      ]
     },
     "metadata": {
      "needs_background": "light"
     },
     "output_type": "display_data"
    }
   ],
   "source": [
    "cfd = nltk.ConditionalFreqDist(\n",
    "    (genre, word.lower())\n",
    "    for genre in brown.categories()\n",
    "    for word in brown.words(categories=genre)\n",
    ")\n",
    "genres = ['news', 'religion', 'hobbies', 'science_fiction', 'romance', 'humor']\n",
    "subord_conjs = [\n",
    "    'after', 'as', 'before', 'if', 'since', 'that', 'till', 'unless', 'whether', 'where', \n",
    "    'although', 'because', 'how', 'once', 'than', 'though', 'until', 'whenever', 'while', 'when'\n",
    "]\n",
    "\n",
    "for genre in cfd.conditions():\n",
    "    N = cfd[genre].N()\n",
    "    for sample in cfd[genre].keys():\n",
    "        cfd[genre][sample] /= N\n",
    "\n",
    "plt.figure(figsize=(12, 8))\n",
    "cfd.plot(conditions=genres, samples=subord_conjs)"
   ]
  },
  {
   "cell_type": "markdown",
   "metadata": {},
   "source": [
    "You can see 'as' and 'that' mostly in 'religion'. While 'than' is the most frequent in 'hobbies'. 'when' - in 'humor'."
   ]
  },
  {
   "cell_type": "markdown",
   "metadata": {},
   "source": [
    "# Exercise 12"
   ]
  },
  {
   "cell_type": "markdown",
   "metadata": {},
   "source": [
    "The CMU Pronouncing Dictionary contains multiple pronunciations for certain\n",
    "words. How many distinct words does it contain? What fraction of words in this\n",
    "dictionary have more than one possible pronunciation?"
   ]
  },
  {
   "cell_type": "code",
   "execution_count": 73,
   "metadata": {},
   "outputs": [],
   "source": [
    "from nltk.corpus import cmudict"
   ]
  },
  {
   "cell_type": "code",
   "execution_count": 74,
   "metadata": {},
   "outputs": [],
   "source": [
    "word_tokens = get_word_tokens(cmudict.words())"
   ]
  },
  {
   "cell_type": "code",
   "execution_count": 75,
   "metadata": {},
   "outputs": [],
   "source": [
    "fd_ex12 = FreqDist(word_tokens)"
   ]
  },
  {
   "cell_type": "code",
   "execution_count": 76,
   "metadata": {},
   "outputs": [
    {
     "data": {
      "text/plain": [
       "115533"
      ]
     },
     "execution_count": 76,
     "metadata": {},
     "output_type": "execute_result"
    }
   ],
   "source": [
    "word_types_count = fd_ex12.B()\n",
    "word_types_count"
   ]
  },
  {
   "cell_type": "code",
   "execution_count": 77,
   "metadata": {},
   "outputs": [
    {
     "data": {
      "text/plain": [
       "0.07350280872131772"
      ]
     },
     "execution_count": 77,
     "metadata": {},
     "output_type": "execute_result"
    }
   ],
   "source": [
    "fraction = (fd_ex12.B() - len(fd_ex12.hapaxes())) / fd_ex12.B()\n",
    "fraction"
   ]
  },
  {
   "cell_type": "markdown",
   "metadata": {},
   "source": [
    "# Exercise 13"
   ]
  },
  {
   "cell_type": "markdown",
   "metadata": {},
   "source": [
    "What percentage of noun synsets have no hyponyms? You can get all noun synsets\n",
    "using wn.all_synsets('n')."
   ]
  },
  {
   "cell_type": "code",
   "execution_count": 78,
   "metadata": {},
   "outputs": [],
   "source": [
    "synset_count, no_hyponyms_count = 0, 0\n",
    "for synset in wn.all_synsets('n'):\n",
    "    synset_count += 1\n",
    "    if not len(synset.hyponyms()):\n",
    "        no_hyponyms_count += 1"
   ]
  },
  {
   "cell_type": "code",
   "execution_count": 79,
   "metadata": {},
   "outputs": [
    {
     "data": {
      "text/plain": [
       "0.7967119283931072"
      ]
     },
     "execution_count": 79,
     "metadata": {},
     "output_type": "execute_result"
    }
   ],
   "source": [
    "no_hyponyms_count / synset_count"
   ]
  },
  {
   "cell_type": "markdown",
   "metadata": {},
   "source": [
    "# Exercise 14"
   ]
  },
  {
   "cell_type": "markdown",
   "metadata": {},
   "source": [
    "Define a function supergloss(s) that takes a synset s as its argument and returns\n",
    "a string consisting of the concatenation of the definition of s, and the definitions\n",
    "of all the hypernyms and hyponyms of s."
   ]
  },
  {
   "cell_type": "code",
   "execution_count": 80,
   "metadata": {},
   "outputs": [],
   "source": [
    "def supergloss(s):\n",
    "    return ', '.join([\n",
    "        s.definition(),\n",
    "        ', '.join(hypernym.definition() for hypernym in s.hypernyms()),\n",
    "        ', '.join(hyponym.definition() for hyponym in s.hyponyms())\n",
    "    ])"
   ]
  },
  {
   "cell_type": "code",
   "execution_count": 81,
   "metadata": {},
   "outputs": [],
   "source": [
    "s = wn.synset('child.n.01')"
   ]
  },
  {
   "cell_type": "code",
   "execution_count": 82,
   "metadata": {},
   "outputs": [
    {
     "data": {
      "text/plain": [
       "'a young person of either sex, a young person, not fully developed, a child: son or daughter, a robust child, a child secretly exchanged for another in infancy, a prodigy whose talents are recognized at an early age, a child who is raised by foster parents, one who is playfully mischievous, a young child, a child who has lost both parents, a young child who is small for his age, (ethnic slur) offensive term for a Black child, a child afflicted by some disease or deformity whose picture is used on posters to raise money for charitable purposes, a child who attends a preschool or kindergarten, a word used for misbehaving children, a child, a young child, poor and often mischievous city child, a homeless child especially one forsaken or orphaned'"
      ]
     },
     "execution_count": 82,
     "metadata": {},
     "output_type": "execute_result"
    }
   ],
   "source": [
    "supergloss(s)"
   ]
  },
  {
   "cell_type": "markdown",
   "metadata": {},
   "source": [
    "# Exercise 15"
   ]
  },
  {
   "cell_type": "markdown",
   "metadata": {},
   "source": [
    "Write a program to find all words that occur at least three times in the Brown Corpus."
   ]
  },
  {
   "cell_type": "code",
   "execution_count": 83,
   "metadata": {},
   "outputs": [
    {
     "data": {
      "text/plain": [
       "18954"
      ]
     },
     "execution_count": 83,
     "metadata": {},
     "output_type": "execute_result"
    }
   ],
   "source": [
    "fd_ex15 = FreqDist(get_word_tokens(brown.words()))\n",
    "result = [w for w in fd_ex15 if fd_ex15[w] >= 3]\n",
    "len(result)"
   ]
  },
  {
   "cell_type": "code",
   "execution_count": 84,
   "metadata": {},
   "outputs": [
    {
     "data": {
      "text/plain": [
       "['the', 'fulton', 'county', 'grand', 'jury']"
      ]
     },
     "execution_count": 84,
     "metadata": {},
     "output_type": "execute_result"
    }
   ],
   "source": [
    "result[:5]"
   ]
  },
  {
   "cell_type": "markdown",
   "metadata": {},
   "source": [
    "# Exercise 16"
   ]
  },
  {
   "cell_type": "markdown",
   "metadata": {},
   "source": [
    "Write a program to generate a table of lexical diversity scores (i.e., **token/type**\n",
    "ratios), as we saw in Table 1-1. Include the full set of Brown Corpus genres\n",
    "(nltk.corpus.brown.categories()). Which genre has the lowest diversity (greatest\n",
    "number of **tokens** per **type**)? Is this what you would have expected?"
   ]
  },
  {
   "cell_type": "code",
   "execution_count": 85,
   "metadata": {},
   "outputs": [],
   "source": [
    "stats = []\n",
    "for category in brown.categories():\n",
    "    tokens = brown.words(categories=category)\n",
    "    stats.append((\n",
    "        category, \n",
    "        tokens_count(tokens), \n",
    "        types_count(tokens), \n",
    "        lexical_diversity(tokens)\n",
    "    ))"
   ]
  },
  {
   "cell_type": "code",
   "execution_count": 86,
   "metadata": {},
   "outputs": [],
   "source": [
    "stats_df = pd.DataFrame(\n",
    "    data=stats, \n",
    "    columns=[\n",
    "        'Category', \n",
    "        'Token', \n",
    "        'Types', \n",
    "        'Lexical diversity'\n",
    "    ]\n",
    ")"
   ]
  },
  {
   "cell_type": "code",
   "execution_count": 87,
   "metadata": {},
   "outputs": [
    {
     "data": {
      "text/html": [
       "<div>\n",
       "<style scoped>\n",
       "    .dataframe tbody tr th:only-of-type {\n",
       "        vertical-align: middle;\n",
       "    }\n",
       "\n",
       "    .dataframe tbody tr th {\n",
       "        vertical-align: top;\n",
       "    }\n",
       "\n",
       "    .dataframe thead th {\n",
       "        text-align: right;\n",
       "    }\n",
       "</style>\n",
       "<table border=\"1\" class=\"dataframe\">\n",
       "  <thead>\n",
       "    <tr style=\"text-align: right;\">\n",
       "      <th></th>\n",
       "      <th>Category</th>\n",
       "      <th>Token</th>\n",
       "      <th>Types</th>\n",
       "      <th>Lexical diversity</th>\n",
       "    </tr>\n",
       "  </thead>\n",
       "  <tbody>\n",
       "    <tr>\n",
       "      <th>0</th>\n",
       "      <td>adventure</td>\n",
       "      <td>69342</td>\n",
       "      <td>8874</td>\n",
       "      <td>7.814064</td>\n",
       "    </tr>\n",
       "    <tr>\n",
       "      <th>1</th>\n",
       "      <td>belles_lettres</td>\n",
       "      <td>173096</td>\n",
       "      <td>18421</td>\n",
       "      <td>9.396667</td>\n",
       "    </tr>\n",
       "    <tr>\n",
       "      <th>2</th>\n",
       "      <td>editorial</td>\n",
       "      <td>61604</td>\n",
       "      <td>9890</td>\n",
       "      <td>6.228918</td>\n",
       "    </tr>\n",
       "    <tr>\n",
       "      <th>3</th>\n",
       "      <td>fiction</td>\n",
       "      <td>68488</td>\n",
       "      <td>9302</td>\n",
       "      <td>7.362718</td>\n",
       "    </tr>\n",
       "    <tr>\n",
       "      <th>4</th>\n",
       "      <td>government</td>\n",
       "      <td>70117</td>\n",
       "      <td>8181</td>\n",
       "      <td>8.570713</td>\n",
       "    </tr>\n",
       "    <tr>\n",
       "      <th>5</th>\n",
       "      <td>hobbies</td>\n",
       "      <td>82345</td>\n",
       "      <td>11935</td>\n",
       "      <td>6.899455</td>\n",
       "    </tr>\n",
       "    <tr>\n",
       "      <th>6</th>\n",
       "      <td>humor</td>\n",
       "      <td>21695</td>\n",
       "      <td>5017</td>\n",
       "      <td>4.324297</td>\n",
       "    </tr>\n",
       "    <tr>\n",
       "      <th>7</th>\n",
       "      <td>learned</td>\n",
       "      <td>181888</td>\n",
       "      <td>16859</td>\n",
       "      <td>10.788778</td>\n",
       "    </tr>\n",
       "    <tr>\n",
       "      <th>8</th>\n",
       "      <td>lore</td>\n",
       "      <td>110299</td>\n",
       "      <td>14503</td>\n",
       "      <td>7.605254</td>\n",
       "    </tr>\n",
       "    <tr>\n",
       "      <th>9</th>\n",
       "      <td>mystery</td>\n",
       "      <td>57169</td>\n",
       "      <td>6982</td>\n",
       "      <td>8.188055</td>\n",
       "    </tr>\n",
       "    <tr>\n",
       "      <th>10</th>\n",
       "      <td>news</td>\n",
       "      <td>100554</td>\n",
       "      <td>14394</td>\n",
       "      <td>6.985827</td>\n",
       "    </tr>\n",
       "    <tr>\n",
       "      <th>11</th>\n",
       "      <td>religion</td>\n",
       "      <td>39399</td>\n",
       "      <td>6373</td>\n",
       "      <td>6.182175</td>\n",
       "    </tr>\n",
       "    <tr>\n",
       "      <th>12</th>\n",
       "      <td>reviews</td>\n",
       "      <td>40704</td>\n",
       "      <td>8626</td>\n",
       "      <td>4.718757</td>\n",
       "    </tr>\n",
       "    <tr>\n",
       "      <th>13</th>\n",
       "      <td>romance</td>\n",
       "      <td>70022</td>\n",
       "      <td>8452</td>\n",
       "      <td>8.284666</td>\n",
       "    </tr>\n",
       "    <tr>\n",
       "      <th>14</th>\n",
       "      <td>science_fiction</td>\n",
       "      <td>14470</td>\n",
       "      <td>3233</td>\n",
       "      <td>4.475719</td>\n",
       "    </tr>\n",
       "  </tbody>\n",
       "</table>\n",
       "</div>"
      ],
      "text/plain": [
       "           Category   Token  Types  Lexical diversity\n",
       "0         adventure   69342   8874           7.814064\n",
       "1    belles_lettres  173096  18421           9.396667\n",
       "2         editorial   61604   9890           6.228918\n",
       "3           fiction   68488   9302           7.362718\n",
       "4        government   70117   8181           8.570713\n",
       "5           hobbies   82345  11935           6.899455\n",
       "6             humor   21695   5017           4.324297\n",
       "7           learned  181888  16859          10.788778\n",
       "8              lore  110299  14503           7.605254\n",
       "9           mystery   57169   6982           8.188055\n",
       "10             news  100554  14394           6.985827\n",
       "11         religion   39399   6373           6.182175\n",
       "12          reviews   40704   8626           4.718757\n",
       "13          romance   70022   8452           8.284666\n",
       "14  science_fiction   14470   3233           4.475719"
      ]
     },
     "execution_count": 87,
     "metadata": {},
     "output_type": "execute_result"
    }
   ],
   "source": [
    "stats_df"
   ]
  },
  {
   "cell_type": "markdown",
   "metadata": {},
   "source": [
    "'humor' is more lexically diverse than others. 'learned' is less diverse than others"
   ]
  },
  {
   "cell_type": "markdown",
   "metadata": {},
   "source": [
    "# Exercise 17"
   ]
  },
  {
   "cell_type": "markdown",
   "metadata": {},
   "source": [
    "Write a function that finds the 50 most frequently occurring words of a text that are not stopwords."
   ]
  },
  {
   "cell_type": "code",
   "execution_count": 88,
   "metadata": {},
   "outputs": [],
   "source": [
    "from nltk.corpus import stopwords\n",
    "\n",
    "STOPWORDS_ENG = set(stopwords.words('english'))"
   ]
  },
  {
   "cell_type": "code",
   "execution_count": 89,
   "metadata": {},
   "outputs": [],
   "source": [
    "def get_top_n_words(tokens, n=50):\n",
    "    fd = FreqDist(t for t in tokens if t not in STOPWORDS_ENG)\n",
    "    return fd.most_common(n)"
   ]
  },
  {
   "cell_type": "code",
   "execution_count": 90,
   "metadata": {},
   "outputs": [
    {
     "data": {
      "text/plain": [
       "[('one', 3292),\n",
       " ('would', 2714),\n",
       " ('said', 1961),\n",
       " ('new', 1635),\n",
       " ('could', 1601),\n",
       " ('time', 1598),\n",
       " ('two', 1412),\n",
       " ('may', 1402),\n",
       " ('first', 1361),\n",
       " ('like', 1292),\n",
       " ('man', 1207),\n",
       " ('even', 1170),\n",
       " ('made', 1125),\n",
       " ('also', 1069),\n",
       " ('many', 1030),\n",
       " ('must', 1013),\n",
       " ('af', 996),\n",
       " ('back', 966),\n",
       " ('years', 950),\n",
       " ('much', 937),\n",
       " ('way', 908),\n",
       " ('well', 897),\n",
       " ('people', 847),\n",
       " ('little', 831),\n",
       " ('state', 807),\n",
       " ('good', 806),\n",
       " ('make', 794),\n",
       " ('world', 787),\n",
       " ('still', 782),\n",
       " ('see', 772),\n",
       " ('men', 763),\n",
       " ('work', 762),\n",
       " ('long', 752),\n",
       " ('get', 749),\n",
       " ('life', 715),\n",
       " ('never', 697),\n",
       " ('day', 687),\n",
       " ('another', 684),\n",
       " ('know', 683),\n",
       " ('last', 676),\n",
       " ('us', 675),\n",
       " ('might', 672),\n",
       " ('great', 665),\n",
       " ('old', 661),\n",
       " ('year', 658),\n",
       " ('come', 630),\n",
       " ('since', 628),\n",
       " ('go', 626),\n",
       " ('came', 622),\n",
       " ('right', 613)]"
      ]
     },
     "execution_count": 90,
     "metadata": {},
     "output_type": "execute_result"
    }
   ],
   "source": [
    "get_top_n_words(get_word_tokens(brown.words()))"
   ]
  },
  {
   "cell_type": "markdown",
   "metadata": {},
   "source": [
    "# Exercise 18"
   ]
  },
  {
   "cell_type": "markdown",
   "metadata": {},
   "source": [
    "Write a program to print the 50 most frequent bigrams (pairs of adjacent words) of a text, omitting bigrams that contain stopwords."
   ]
  },
  {
   "cell_type": "code",
   "execution_count": 91,
   "metadata": {},
   "outputs": [],
   "source": [
    "def get_top_n_bigrams(tokens, n=50):\n",
    "    fd = FreqDist(nltk.bigrams(\n",
    "        t for t in tokens if t not in STOPWORDS_ENG\n",
    "    ))\n",
    "    return fd.most_common(n)"
   ]
  },
  {
   "cell_type": "code",
   "execution_count": 92,
   "metadata": {},
   "outputs": [
    {
     "data": {
      "text/plain": [
       "[(('united', 'states'), 392),\n",
       " (('new', 'york'), 296),\n",
       " (('per', 'cent'), 146),\n",
       " (('years', 'ago'), 138),\n",
       " (('af', 'af'), 129),\n",
       " (('could', 'see'), 93),\n",
       " (('rhode', 'island'), 91),\n",
       " (('last', 'year'), 78),\n",
       " (('even', 'though'), 77),\n",
       " (('high', 'school'), 74),\n",
       " (('white', 'house'), 68),\n",
       " (('first', 'time'), 68),\n",
       " (('old', 'man'), 68),\n",
       " (('world', 'war'), 66),\n",
       " (('two', 'years'), 62),\n",
       " (('let', 'us'), 62),\n",
       " (('one', 'thing'), 60),\n",
       " (('fiscal', 'year'), 58),\n",
       " (('last', 'night'), 57),\n",
       " (('peace', 'corps'), 55),\n",
       " (('one', 'day'), 53),\n",
       " (('one', 'another'), 52),\n",
       " (('would', 'like'), 51),\n",
       " (('last', 'week'), 51),\n",
       " (('united', 'nations'), 49),\n",
       " (('new', 'england'), 49),\n",
       " (('young', 'man'), 47),\n",
       " (('los', 'angeles'), 47),\n",
       " (('two', 'men'), 46),\n",
       " (('one', 'two'), 43),\n",
       " (('great', 'deal'), 43),\n",
       " (('civil', 'war'), 42),\n",
       " (('president', 'kennedy'), 41),\n",
       " (('would', 'make'), 41),\n",
       " (('time', 'time'), 41),\n",
       " (('general', 'motors'), 41),\n",
       " (('small', 'business'), 41),\n",
       " (('long', 'time'), 40),\n",
       " (('new', 'orleans'), 40),\n",
       " (('many', 'years'), 40),\n",
       " (('one', 'time'), 39),\n",
       " (('san', 'francisco'), 39),\n",
       " (('two', 'three'), 39),\n",
       " (('men', 'women'), 39),\n",
       " (('said', 'would'), 38),\n",
       " (('would', 'seem'), 38),\n",
       " (('ten', 'years'), 37),\n",
       " (('would', 'never'), 37),\n",
       " (('one', 'side'), 36),\n",
       " (('first', 'two'), 36)]"
      ]
     },
     "execution_count": 92,
     "metadata": {},
     "output_type": "execute_result"
    }
   ],
   "source": [
    "get_top_n_bigrams(get_word_tokens(brown.words()))"
   ]
  },
  {
   "cell_type": "markdown",
   "metadata": {},
   "source": [
    "# Exercise 19"
   ]
  },
  {
   "cell_type": "markdown",
   "metadata": {},
   "source": [
    "Write a program to create a table of word frequencies by genre, like the one given\n",
    "in Section 2.1 for modals. Choose your own words and try to find words whose\n",
    "presence (or absence) is typical of a genre. Discuss your findings."
   ]
  },
  {
   "cell_type": "code",
   "execution_count": 93,
   "metadata": {},
   "outputs": [
    {
     "data": {
      "image/png": "[encoded data removed]",
      "text/plain": [
       "<Figure size 432x288 with 1 Axes>"
      ]
     },
     "metadata": {
      "needs_background": "light"
     },
     "output_type": "display_data"
    }
   ],
   "source": [
    "cfd = nltk.ConditionalFreqDist(\n",
    "    (genre, word.lower())\n",
    "    for genre in brown.categories()\n",
    "    for word in brown.words(categories=genre)\n",
    ")\n",
    "genres = ['news', 'religion', 'hobbies', 'science_fiction', 'romance', 'humor']\n",
    "modals = ['can', 'could', 'may', 'might', 'must', 'will']\n",
    "\n",
    "for genre in genres:\n",
    "    N = cfd[genre].N()\n",
    "    for modal in modals:\n",
    "        cfd[genre][modal] /= N\n",
    "\n",
    "cfd.plot(conditions=genres, samples=modals)"
   ]
  },
  {
   "cell_type": "markdown",
   "metadata": {},
   "source": [
    "The same results as in exercise 11"
   ]
  },
  {
   "cell_type": "code",
   "execution_count": 94,
   "metadata": {},
   "outputs": [
    {
     "data": {
      "image/png": "[encoded data removed]",
      "text/plain": [
       "<Figure size 432x288 with 1 Axes>"
      ]
     },
     "metadata": {
      "needs_background": "light"
     },
     "output_type": "display_data"
    }
   ],
   "source": [
    "cfd = nltk.ConditionalFreqDist(\n",
    "    (genre, word.lower())\n",
    "    for genre in brown.categories()\n",
    "    for word in brown.words(categories=genre)\n",
    ")\n",
    "\n",
    "genres = ['news', 'religion', 'hobbies', 'science_fiction', 'romance', 'humor']\n",
    "coord_conjs = ['and', 'for', 'or', 'but', 'so', 'nor', 'yet']\n",
    "\n",
    "for genre in genres:\n",
    "    N = cfd[genre].N()\n",
    "    for conj in coord_conjs:\n",
    "        cfd[genre][conj] /= N\n",
    "\n",
    "cfd.plot(conditions=genres, samples=coord_conjs)"
   ]
  },
  {
   "cell_type": "markdown",
   "metadata": {},
   "source": [
    "The same results as in exercise 11"
   ]
  },
  {
   "cell_type": "markdown",
   "metadata": {},
   "source": [
    "# Exercise 20"
   ]
  },
  {
   "cell_type": "markdown",
   "metadata": {},
   "source": [
    "Write a function word_freq() that takes a **word** and the name of a section of the\n",
    "Brown Corpus as arguments, and computes the frequency of the **word** in that **section\n",
    "of the corpus**."
   ]
  },
  {
   "cell_type": "code",
   "execution_count": 95,
   "metadata": {},
   "outputs": [],
   "source": [
    "def word_freq(word, brown_category=None):\n",
    "    word2check = word.lower()\n",
    "    count_all, count_word, eps = 0, 0, 1e-9\n",
    "    for w in brown.words(categories=brown_category):\n",
    "        count_all += 1\n",
    "        if w.lower() == word2check:\n",
    "            count_word += 1\n",
    "    return count_word / (count_all + eps)"
   ]
  },
  {
   "cell_type": "code",
   "execution_count": 96,
   "metadata": {},
   "outputs": [
    {
     "data": {
      "text/plain": [
       "0.0005916334249633131"
      ]
     },
     "execution_count": 96,
     "metadata": {},
     "output_type": "execute_result"
    }
   ],
   "source": [
    "word_freq('day')"
   ]
  },
  {
   "cell_type": "code",
   "execution_count": 97,
   "metadata": {},
   "outputs": [
    {
     "data": {
      "text/plain": [
       "0.0009139984576275896"
      ]
     },
     "execution_count": 97,
     "metadata": {},
     "output_type": "execute_result"
    }
   ],
   "source": [
    "word_freq('day', brown_category='romance')"
   ]
  },
  {
   "cell_type": "code",
   "execution_count": 98,
   "metadata": {},
   "outputs": [
    {
     "data": {
      "text/plain": [
       "0.000755812797104036"
      ]
     },
     "execution_count": 98,
     "metadata": {},
     "output_type": "execute_result"
    }
   ],
   "source": [
    "word_freq('day', brown_category='news')"
   ]
  },
  {
   "cell_type": "markdown",
   "metadata": {},
   "source": [
    "# Exercise 21"
   ]
  },
  {
   "cell_type": "markdown",
   "metadata": {},
   "source": [
    "Write a program to guess the number of syllables contained in a text, making\n",
    "use of the CMU Pronouncing Dictionary."
   ]
  },
  {
   "cell_type": "code",
   "execution_count": 99,
   "metadata": {},
   "outputs": [],
   "source": [
    "PRON_DICT = cmudict.dict()"
   ]
  },
  {
   "cell_type": "code",
   "execution_count": 100,
   "metadata": {},
   "outputs": [],
   "source": [
    "def syllables_count(tokens):\n",
    "    return sum(\n",
    "        len(PRON_DICT[w][0]) \n",
    "        for w in tokens \n",
    "        if w in PRON_DICT\n",
    "    )"
   ]
  },
  {
   "cell_type": "code",
   "execution_count": 101,
   "metadata": {},
   "outputs": [
    {
     "data": {
      "text/plain": [
       "3774998"
      ]
     },
     "execution_count": 101,
     "metadata": {},
     "output_type": "execute_result"
    }
   ],
   "source": [
    "syllables_count(get_word_tokens(brown.words()))"
   ]
  },
  {
   "cell_type": "markdown",
   "metadata": {},
   "source": [
    "# Exercise 22"
   ]
  },
  {
   "cell_type": "markdown",
   "metadata": {},
   "source": [
    "Define a function hedge(text) that processes a text and produces a new version\n",
    "with the word 'like' between every third word."
   ]
  },
  {
   "cell_type": "code",
   "execution_count": 102,
   "metadata": {},
   "outputs": [],
   "source": [
    "def hedge(text, n=3):\n",
    "    result = list(text)\n",
    "    for i in range(len(text) // n):\n",
    "        result.insert(i + n * (i + 1), 'like')\n",
    "    return result"
   ]
  },
  {
   "cell_type": "code",
   "execution_count": 103,
   "metadata": {},
   "outputs": [],
   "source": [
    "text = brown.words()[:8]"
   ]
  },
  {
   "cell_type": "code",
   "execution_count": 104,
   "metadata": {},
   "outputs": [
    {
     "data": {
      "text/plain": [
       "['The',\n",
       " 'Fulton',\n",
       " 'County',\n",
       " 'like',\n",
       " 'Grand',\n",
       " 'Jury',\n",
       " 'said',\n",
       " 'like',\n",
       " 'Friday',\n",
       " 'an']"
      ]
     },
     "execution_count": 104,
     "metadata": {},
     "output_type": "execute_result"
    }
   ],
   "source": [
    "hedge(text)"
   ]
  },
  {
   "cell_type": "markdown",
   "metadata": {},
   "source": [
    "# Exercise 23"
   ]
  },
  {
   "cell_type": "markdown",
   "metadata": {},
   "source": [
    "Zipf’s Law: Let f(w) be the frequency of a word w in free text. Suppose that all\n",
    "the words of a text are ranked according to their frequency, with the most frequent\n",
    "word first. Zipf’s Law states that the frequency of a word type is inversely\n",
    "proportional to its rank (i.e., f × r = k, for some constant k). For example, the 50th\n",
    "most common word type should occur three times as frequently as the 150th most\n",
    "common word type."
   ]
  },
  {
   "cell_type": "markdown",
   "metadata": {},
   "source": [
    "**a.** Write a function to process a large text and plot word frequency against word\n",
    "rank using pylab.plot. Do you confirm Zipf’s law? (Hint: it helps to use a\n",
    "logarithmic scale.) What is going on at the extreme ends of the plotted line?"
   ]
  },
  {
   "cell_type": "code",
   "execution_count": 105,
   "metadata": {},
   "outputs": [],
   "source": [
    "def zipf_law_plot(tokens, logy=True, logx=True, figsize=(10, 8)):\n",
    "    fd = FreqDist(get_word_tokens(tokens))\n",
    "    df = (\n",
    "        pd.DataFrame(data=fd.items(), columns=['token', 'count'])\n",
    "        .sort_values('count', ascending=False)\n",
    "        .reset_index(drop=True)\n",
    "    )\n",
    "    df['freq'] = df['count'] / fd.N()\n",
    "    df['rank'] = df.index + 1\n",
    "    df.plot(\n",
    "        x='freq', y='rank', \n",
    "        kind='scatter', \n",
    "        logx=logx, logy=logy, \n",
    "        figsize=figsize\n",
    "    )"
   ]
  },
  {
   "cell_type": "code",
   "execution_count": 106,
   "metadata": {},
   "outputs": [
    {
     "data": {
      "image/png": "[encoded data removed]",
      "text/plain": [
       "<Figure size 720x576 with 1 Axes>"
      ]
     },
     "metadata": {
      "needs_background": "light"
     },
     "output_type": "display_data"
    }
   ],
   "source": [
    "zipf_law_plot(brown.words())\n",
    "plt.show()"
   ]
  },
  {
   "cell_type": "markdown",
   "metadata": {},
   "source": [
    "Looks like it is true. Using the logarithmic scale on both axes you can see negative linear dependency between log('freq') and log('rank'). At the extreme ends of the plotted line, you can see some sparse areas. It may be caused by most frequent words as well as the rarest words. They act as outliers."
   ]
  },
  {
   "cell_type": "markdown",
   "metadata": {},
   "source": [
    "**b.** Generate random text, e.g., using random.choice(\"abcdefg \"), taking care to\n",
    "include the space character. You will need to import random first. Use the string\n",
    "concatenation operator to accumulate characters into a (very) long string.\n",
    "Then tokenize this string, generate the Zipf plot as before, and compare the\n",
    "two plots. What do you make of Zipf’s Law in the light of this?"
   ]
  },
  {
   "cell_type": "code",
   "execution_count": 107,
   "metadata": {},
   "outputs": [],
   "source": [
    "n_raw = 10_000_000"
   ]
  },
  {
   "cell_type": "code",
   "execution_count": 108,
   "metadata": {},
   "outputs": [],
   "source": [
    "text_raw = ''.join(np.random.choice(list(\"abcdefg \"), n_raw))\n",
    "tokens = text_raw.split()"
   ]
  },
  {
   "cell_type": "code",
   "execution_count": 109,
   "metadata": {},
   "outputs": [
    {
     "data": {
      "image/png": "[encoded data removed]",
      "text/plain": [
       "<Figure size 720x576 with 1 Axes>"
      ]
     },
     "metadata": {
      "needs_background": "light"
     },
     "output_type": "display_data"
    }
   ],
   "source": [
    "zipf_law_plot(tokens)\n",
    "plt.show()"
   ]
  },
  {
   "cell_type": "markdown",
   "metadata": {},
   "source": [
    "According to the plot, the most frequent words are 1-letter words, then 2-letter, then 3-letter and so on. Thereby, the frequency of a given random word depends on the word's length. Longer words have less chance to appear, shorter - greater chance. It is not true for the English language, where a longer word can appear more frequently than a shorter one. Distribution of a given English word depends on different factors such as syntax, phonetics, morphology, punctuation and so on."
   ]
  },
  {
   "cell_type": "markdown",
   "metadata": {},
   "source": [
    "# Exercise 24"
   ]
  },
  {
   "cell_type": "markdown",
   "metadata": {},
   "source": [
    "Modify the text generation program in Example 2-1 further, to do the following\n",
    "tasks:"
   ]
  },
  {
   "cell_type": "markdown",
   "metadata": {},
   "source": [
    "**a.** Store the n most likely words in a list words, then randomly choose a word\n",
    "from the list using random.choice(). (You will need to import random first.)"
   ]
  },
  {
   "cell_type": "markdown",
   "metadata": {},
   "source": [
    "**b.** Select a particular genre, such as a section of the Brown Corpus or a Genesis\n",
    "translation, one of the Gutenberg texts, or one of the Web texts. Train the\n",
    "model on this corpus and get it to generate random text. You may have to\n",
    "experiment with different start words. How intelligible is the text? Discuss the\n",
    "strengths and weaknesses of this method of generating random text."
   ]
  },
  {
   "cell_type": "markdown",
   "metadata": {},
   "source": [
    "**c.** Now train your system using two distinct genres and experiment with generating\n",
    "text in the hybrid genre. Discuss your observations."
   ]
  },
  {
   "cell_type": "code",
   "execution_count": 110,
   "metadata": {},
   "outputs": [],
   "source": [
    "def generate_model(cfdist, word, length=15, top_n=100):\n",
    "    for i in range(length):\n",
    "        print(word, end=' ')\n",
    "        top_n_words = [w for w, count in cfdist[word].most_common(top_n)]\n",
    "        word = np.random.choice(top_n_words, 1)[0]"
   ]
  },
  {
   "cell_type": "code",
   "execution_count": 111,
   "metadata": {},
   "outputs": [],
   "source": [
    "text = nltk.corpus.genesis.words('english-kjv.txt')\n",
    "bigrams = nltk.bigrams(text)\n",
    "cfd_genesis = nltk.ConditionalFreqDist(bigrams)"
   ]
  },
  {
   "cell_type": "code",
   "execution_count": 112,
   "metadata": {},
   "outputs": [
    {
     "name": "stdout",
     "output_type": "stream",
     "text": [
      "living soul clave the sight ; take me them ; we may seek occasion against "
     ]
    }
   ],
   "source": [
    "np.random.seed(42)\n",
    "generate_model(cfd_genesis, 'living')"
   ]
  },
  {
   "cell_type": "code",
   "execution_count": 113,
   "metadata": {},
   "outputs": [],
   "source": [
    "text = brown.words(categories='adventure')\n",
    "bigrams = nltk.bigrams(text)\n",
    "cfd_brown = nltk.ConditionalFreqDist(bigrams)"
   ]
  },
  {
   "cell_type": "code",
   "execution_count": 114,
   "metadata": {},
   "outputs": [
    {
     "name": "stdout",
     "output_type": "stream",
     "text": [
      "mountain and most gangs and if two : he climbed upward briefly . Tilghman and "
     ]
    }
   ],
   "source": [
    "np.random.seed(42)\n",
    "generate_model(cfd_brown, 'mountain')"
   ]
  },
  {
   "cell_type": "code",
   "execution_count": 115,
   "metadata": {},
   "outputs": [],
   "source": [
    "text = gutenberg.words('carroll-alice.txt')\n",
    "bigrams = nltk.bigrams(text)\n",
    "cfd_gutenberg = nltk.ConditionalFreqDist(bigrams)"
   ]
  },
  {
   "cell_type": "code",
   "execution_count": 116,
   "metadata": {},
   "outputs": [
    {
     "name": "stdout",
     "output_type": "stream",
     "text": [
      "time with ?' persisted . By the whole she swallowed one arm round and as "
     ]
    }
   ],
   "source": [
    "np.random.seed(42)\n",
    "generate_model(cfd_gutenberg, 'time')"
   ]
  },
  {
   "cell_type": "code",
   "execution_count": 117,
   "metadata": {},
   "outputs": [],
   "source": [
    "text = webtext.words('pirates.txt')\n",
    "bigrams = nltk.bigrams(text)\n",
    "cfd_webtext = nltk.ConditionalFreqDist(bigrams)"
   ]
  },
  {
   "cell_type": "code",
   "execution_count": 118,
   "metadata": {},
   "outputs": [
    {
     "name": "stdout",
     "output_type": "stream",
     "text": [
      "pirate safely behind bars , onto that loyalty is pointing ] TIA DALMA : Against "
     ]
    }
   ],
   "source": [
    "np.random.seed(42)\n",
    "generate_model(cfd_webtext, 'pirate')"
   ]
  },
  {
   "cell_type": "markdown",
   "metadata": {},
   "source": [
    "The generated texts are not as intelligible as expected. The model generates 2-4 words sequences that have sense but no more. The model also has problems with punctuation and grammar."
   ]
  },
  {
   "cell_type": "code",
   "execution_count": 119,
   "metadata": {},
   "outputs": [],
   "source": [
    "text = brown.words(categories=['humor', 'religion'])\n",
    "bigrams = nltk.bigrams(text)\n",
    "cfd_hybrid = nltk.ConditionalFreqDist(bigrams)"
   ]
  },
  {
   "cell_type": "code",
   "execution_count": 120,
   "metadata": {},
   "outputs": [
    {
     "name": "stdout",
     "output_type": "stream",
     "text": [
      "soul was much nearer home sick comedians . From that I'm so fixed up my "
     ]
    }
   ],
   "source": [
    "np.random.seed(42)\n",
    "generate_model(cfd_hybrid, 'soul')"
   ]
  },
  {
   "cell_type": "markdown",
   "metadata": {},
   "source": [
    "The generated text looks funny because it is a hybrid between 'humor' and 'religion' genres. However, the model still has big problems with sense, punctuation, and grammar."
   ]
  },
  {
   "cell_type": "markdown",
   "metadata": {},
   "source": [
    "# Exercise 25"
   ]
  },
  {
   "cell_type": "markdown",
   "metadata": {},
   "source": [
    "Define a function find_language() that takes a string as its argument and returns\n",
    "a list of languages that have that string as a word. Use the udhr corpus and limit\n",
    "your searches to files in the Latin-1 encoding."
   ]
  },
  {
   "cell_type": "code",
   "execution_count": 121,
   "metadata": {},
   "outputs": [],
   "source": [
    "from nltk.corpus import udhr"
   ]
  },
  {
   "cell_type": "code",
   "execution_count": 122,
   "metadata": {},
   "outputs": [],
   "source": [
    "def find_language(string):\n",
    "    suffix = '-Latin1'\n",
    "    return [\n",
    "        file[:-len(suffix)] \n",
    "        for file in udhr.fileids()\n",
    "        if file.endswith(suffix)\n",
    "        and string in udhr.words(file)\n",
    "    ]\n",
    "    return result"
   ]
  },
  {
   "cell_type": "code",
   "execution_count": 123,
   "metadata": {},
   "outputs": [
    {
     "data": {
      "text/plain": [
       "['English',\n",
       " 'Interlingua',\n",
       " 'NigerianPidginEnglish',\n",
       " 'SolomonsPidgin_Pijin',\n",
       " 'TokPisin']"
      ]
     },
     "execution_count": 123,
     "metadata": {},
     "output_type": "execute_result"
    }
   ],
   "source": [
    "find_language('human')"
   ]
  },
  {
   "cell_type": "code",
   "execution_count": 124,
   "metadata": {},
   "outputs": [
    {
     "data": {
      "text/plain": [
       "['English', 'NigerianPidginEnglish']"
      ]
     },
     "execution_count": 124,
     "metadata": {},
     "output_type": "execute_result"
    }
   ],
   "source": [
    "find_language('children')"
   ]
  },
  {
   "cell_type": "markdown",
   "metadata": {},
   "source": [
    "# Exercise 26"
   ]
  },
  {
   "cell_type": "markdown",
   "metadata": {},
   "source": [
    "What is the branching factor of the noun hypernym hierarchy? I.e., for every\n",
    "noun synset that **has** hyponyms—or children in the hypernym hierarchy—how\n",
    "many do they have on average? You can get all noun synsets using wn.all_synsets('n')."
   ]
  },
  {
   "cell_type": "code",
   "execution_count": 125,
   "metadata": {},
   "outputs": [
    {
     "data": {
      "text/plain": [
       "4.543820763194153"
      ]
     },
     "execution_count": 125,
     "metadata": {},
     "output_type": "execute_result"
    }
   ],
   "source": [
    "np.mean([\n",
    "    len(synset.hyponyms()) \n",
    "    for synset in wn.all_synsets('n') \n",
    "    if len(synset.hyponyms()) != 0\n",
    "])"
   ]
  },
  {
   "cell_type": "markdown",
   "metadata": {},
   "source": [
    "# Exercise 27"
   ]
  },
  {
   "cell_type": "markdown",
   "metadata": {},
   "source": [
    "The polysemy of a word is the number of senses it has. Using WordNet, we can\n",
    "determine that the noun dog has seven senses with len(wn.synsets('dog', 'n')).\n",
    "Compute the average polysemy of nouns, verbs, adjectives, and adverbs according\n",
    "to WordNet."
   ]
  },
  {
   "cell_type": "code",
   "execution_count": 178,
   "metadata": {},
   "outputs": [],
   "source": [
    "def mean_polysemy(pos=None, lang='eng'):\n",
    "    return np.mean([\n",
    "        len(wn.synsets(lemma_name, pos, lang)) \n",
    "        for lemma_name in wn.all_lemma_names(pos, lang)\n",
    "    ])"
   ]
  },
  {
   "cell_type": "code",
   "execution_count": 179,
   "metadata": {},
   "outputs": [
    {
     "data": {
      "text/plain": [
       "(1.2532916759651864, 1.2610825311125826)"
      ]
     },
     "execution_count": 179,
     "metadata": {},
     "output_type": "execute_result"
    }
   ],
   "source": [
    "mean_polysemy(wn.ADV), mean_polysemy(wn.NOUN)"
   ]
  },
  {
   "cell_type": "code",
   "execution_count": 180,
   "metadata": {},
   "outputs": [
    {
     "data": {
      "text/plain": [
       "(1.406536617160948, 2.1865729898516784)"
      ]
     },
     "execution_count": 180,
     "metadata": {},
     "output_type": "execute_result"
    }
   ],
   "source": [
    "mean_polysemy(wn.ADJ), mean_polysemy(wn.VERB)"
   ]
  },
  {
   "cell_type": "markdown",
   "metadata": {},
   "source": [
    "# Exercise 28"
   ]
  },
  {
   "cell_type": "markdown",
   "metadata": {},
   "source": [
    "Use one of the predefined similarity measures to score the similarity of each of\n",
    "the following pairs of words. Rank the pairs in order of decreasing similarity. How\n",
    "close is your ranking to the order given here, an order that was established experimentally\n",
    "by (Miller & Charles, 1998): car-automobile, gem-jewel, journey-voyage,\n",
    "boy-lad, coast-shore, asylum-madhouse, magician-wizard, midday-noon, furnacestove,\n",
    "food-fruit, bird-cock, bird-crane, tool-implement, brother-monk, ladbrother,\n",
    "crane-implement, journey-car, monk-oracle, cemetery-woodland, foodrooster,\n",
    "coast-hill, forest-graveyard, shore-woodland, monk-slave, coast-forest,\n",
    "lad-wizard, chord-smile, glass-magician, rooster-voyage, noon-string."
   ]
  },
  {
   "cell_type": "code",
   "execution_count": 250,
   "metadata": {},
   "outputs": [],
   "source": [
    "def path_similarity(x, y):\n",
    "    x_synset = wn.synset('%s.n.01' % x)\n",
    "    y_synset = wn.synset('%s.n.01' % y)\n",
    "    return x_synset.path_similarity(y_synset)"
   ]
  },
  {
   "cell_type": "code",
   "execution_count": 251,
   "metadata": {},
   "outputs": [],
   "source": [
    "df = pd.DataFrame(\n",
    "    data=[\n",
    "        ('car', 'automobile'), \n",
    "        ('gem', 'jewel'), \n",
    "        ('journey', 'voyage'), \n",
    "        ('boy', 'lad'), \n",
    "        ('coast', 'shore'),\n",
    "        ('asylum', 'madhouse'),\n",
    "        ('magician', 'wizard'), \n",
    "        ('midday', 'noon'), \n",
    "        ('furnace', 'stove'), \n",
    "        ('food', 'fruit'), \n",
    "        ('bird', 'cock'), \n",
    "        ('bird', 'crane'), \n",
    "        ('tool', 'implement'), \n",
    "        ('brother', 'monk'), \n",
    "        ('lad', 'brother'), \n",
    "        ('crane', 'implement'), \n",
    "        ('journey', 'car'), \n",
    "        ('monk', 'oracle'), \n",
    "        ('cemetery', 'woodland'), \n",
    "        ('food', 'rooster'), \n",
    "        ('coast', 'hill'), \n",
    "        ('forest', 'graveyard'), \n",
    "        ('shore', 'woodland'), \n",
    "        ('monk', 'slave'), \n",
    "        ('coast', 'forest'), \n",
    "        ('lad', 'wizard'), \n",
    "        ('chord', 'smile'), \n",
    "        ('glass', 'magician'), \n",
    "        ('rooster', 'voyage'), \n",
    "        ('noon', 'string')\n",
    "    ],\n",
    "    columns=['x', 'y']\n",
    ")"
   ]
  },
  {
   "cell_type": "code",
   "execution_count": 252,
   "metadata": {},
   "outputs": [],
   "source": [
    "df['path_similarity'] = df.apply(lambda row: path_similarity(row['x'], row['y']), axis=1)"
   ]
  },
  {
   "cell_type": "code",
   "execution_count": null,
   "metadata": {},
   "outputs": [],
   "source": [
    "wn.path_similarity()"
   ]
  },
  {
   "cell_type": "code",
   "execution_count": 237,
   "metadata": {},
   "outputs": [],
   "source": [
    "car = wn.synset('gem.n.01')\n",
    "dog = wn.synset('jewel.n.01')"
   ]
  },
  {
   "cell_type": "code",
   "execution_count": 238,
   "metadata": {},
   "outputs": [
    {
     "data": {
      "text/plain": [
       "0.125"
      ]
     },
     "execution_count": 238,
     "metadata": {},
     "output_type": "execute_result"
    }
   ],
   "source": [
    "car.path_similarity(dog)"
   ]
  },
  {
   "cell_type": "code",
   "execution_count": 218,
   "metadata": {},
   "outputs": [
    {
     "data": {
      "text/plain": [
       "[Synset('glass.n.01'),\n",
       " Synset('glass.n.02'),\n",
       " Synset('glass.n.03'),\n",
       " Synset('field_glass.n.01'),\n",
       " Synset('methamphetamine.n.01'),\n",
       " Synset('looking_glass.n.01'),\n",
       " Synset('glass.n.07')]"
      ]
     },
     "execution_count": 218,
     "metadata": {},
     "output_type": "execute_result"
    }
   ],
   "source": [
    "wn.synsets('glass', 'n')"
   ]
  },
  {
   "cell_type": "code",
   "execution_count": 232,
   "metadata": {},
   "outputs": [],
   "source": [
    "glass1 = wn.synset('glass.n.01')"
   ]
  },
  {
   "cell_type": "code",
   "execution_count": 233,
   "metadata": {},
   "outputs": [],
   "source": [
    "glass2 = wn.synset('glass.n.02')"
   ]
  },
  {
   "cell_type": "code",
   "execution_count": 234,
   "metadata": {},
   "outputs": [
    {
     "data": {
      "text/plain": [
       "0.1"
      ]
     },
     "execution_count": 234,
     "metadata": {},
     "output_type": "execute_result"
    }
   ],
   "source": [
    "glass1.path_similarity(glass2)"
   ]
  },
  {
   "cell_type": "code",
   "execution_count": null,
   "metadata": {},
   "outputs": [],
   "source": []
  }
 ],
 "metadata": {
  "kernelspec": {
   "display_name": "Python 3",
   "language": "python",
   "name": "python3"
  },
  "language_info": {
   "codemirror_mode": {
    "name": "ipython",
    "version": 3
   },
   "file_extension": ".py",
   "mimetype": "text/x-python",
   "name": "python",
   "nbconvert_exporter": "python",
   "pygments_lexer": "ipython3",
   "version": "3.7.1"
  },
  "toc": {
   "base_numbering": 1,
   "nav_menu": {},
   "number_sections": false,
   "sideBar": true,
   "skip_h1_title": false,
   "title_cell": "Table of Contents",
   "title_sidebar": "Contents",
   "toc_cell": false,
   "toc_position": {
    "height": "calc(100% - 180px)",
    "left": "10px",
    "top": "150px",
    "width": "165px"
   },
   "toc_section_display": true,
   "toc_window_display": true
  }
 },
 "nbformat": 4,
 "nbformat_minor": 2
}
