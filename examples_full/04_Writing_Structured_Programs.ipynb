{
 "cells": [
  {
   "cell_type": "markdown",
   "metadata": {},
   "source": [
    "Natural Language Processing with Python – Analyzing Text with the Natural Language Toolkit\n",
    "Steven Bird, mEwan Klein, and Edward Loper\n",
    "http://www.nltk.org/book/"
   ]
  },
  {
   "cell_type": "markdown",
   "metadata": {
    "collapsed": true
   },
   "source": [
    "# Chapter 04 - Writing Structured Programs"
   ]
  },
  {
   "cell_type": "markdown",
   "metadata": {
    "collapsed": true
   },
   "source": [
    "## 4.1 Back to the Basics"
   ]
  },
  {
   "cell_type": "markdown",
   "metadata": {},
   "source": [
    "### Assignment"
   ]
  },
  {
   "cell_type": "markdown",
   "metadata": {},
   "source": [
    "Assignment would seem to be the most elementary programming concept, not deserving a separate discussion. However, there are some surprising subtleties here. Consider the following code fragment:"
   ]
  },
  {
   "cell_type": "code",
   "execution_count": 1,
   "metadata": {},
   "outputs": [],
   "source": [
    "foo = 'Monty'"
   ]
  },
  {
   "cell_type": "code",
   "execution_count": 2,
   "metadata": {},
   "outputs": [],
   "source": [
    "bar = foo"
   ]
  },
  {
   "cell_type": "code",
   "execution_count": 3,
   "metadata": {},
   "outputs": [],
   "source": [
    "foo = 'Python'"
   ]
  },
  {
   "cell_type": "code",
   "execution_count": 4,
   "metadata": {},
   "outputs": [
    {
     "data": {
      "text/plain": [
       "'Monty'"
      ]
     },
     "execution_count": 4,
     "metadata": {},
     "output_type": "execute_result"
    }
   ],
   "source": [
    "bar"
   ]
  },
  {
   "cell_type": "code",
   "execution_count": 5,
   "metadata": {},
   "outputs": [],
   "source": [
    "foo = ['Monty', ' Python']"
   ]
  },
  {
   "cell_type": "code",
   "execution_count": 6,
   "metadata": {},
   "outputs": [],
   "source": [
    "bar = foo"
   ]
  },
  {
   "cell_type": "code",
   "execution_count": 7,
   "metadata": {},
   "outputs": [],
   "source": [
    "foo[1] = 'Bdokin'"
   ]
  },
  {
   "cell_type": "code",
   "execution_count": 8,
   "metadata": {},
   "outputs": [
    {
     "data": {
      "text/plain": [
       "['Monty', 'Bdokin']"
      ]
     },
     "execution_count": 8,
     "metadata": {},
     "output_type": "execute_result"
    }
   ],
   "source": [
    "bar"
   ]
  },
  {
   "cell_type": "code",
   "execution_count": 9,
   "metadata": {},
   "outputs": [],
   "source": [
    "empty = []"
   ]
  },
  {
   "cell_type": "code",
   "execution_count": 10,
   "metadata": {},
   "outputs": [],
   "source": [
    "nested = [empty, empty, empty]"
   ]
  },
  {
   "cell_type": "code",
   "execution_count": 11,
   "metadata": {},
   "outputs": [
    {
     "data": {
      "text/plain": [
       "[[], [], []]"
      ]
     },
     "execution_count": 11,
     "metadata": {},
     "output_type": "execute_result"
    }
   ],
   "source": [
    "nested"
   ]
  },
  {
   "cell_type": "code",
   "execution_count": 12,
   "metadata": {},
   "outputs": [],
   "source": [
    "nested[1].append('Python')"
   ]
  },
  {
   "cell_type": "code",
   "execution_count": 13,
   "metadata": {},
   "outputs": [
    {
     "data": {
      "text/plain": [
       "[['Python'], ['Python'], ['Python']]"
      ]
     },
     "execution_count": 13,
     "metadata": {},
     "output_type": "execute_result"
    }
   ],
   "source": [
    "nested"
   ]
  },
  {
   "cell_type": "code",
   "execution_count": 14,
   "metadata": {},
   "outputs": [],
   "source": [
    "nested = [[]] * 3"
   ]
  },
  {
   "cell_type": "code",
   "execution_count": 15,
   "metadata": {},
   "outputs": [],
   "source": [
    "nested[1].append('Python')"
   ]
  },
  {
   "cell_type": "code",
   "execution_count": 16,
   "metadata": {},
   "outputs": [],
   "source": [
    "nested[1] = ['Monty']"
   ]
  },
  {
   "cell_type": "code",
   "execution_count": 17,
   "metadata": {},
   "outputs": [
    {
     "data": {
      "text/plain": [
       "[['Python'], ['Monty'], ['Python']]"
      ]
     },
     "execution_count": 17,
     "metadata": {},
     "output_type": "execute_result"
    }
   ],
   "source": [
    "nested"
   ]
  },
  {
   "cell_type": "markdown",
   "metadata": {},
   "source": [
    "### Equality"
   ]
  },
  {
   "cell_type": "markdown",
   "metadata": {},
   "source": [
    "Python provides two ways to check that a pair of items are the same. The is operator tests for object identity. We can use it to verify our earlier observations about objects."
   ]
  },
  {
   "cell_type": "code",
   "execution_count": 18,
   "metadata": {},
   "outputs": [],
   "source": [
    "size = 5"
   ]
  },
  {
   "cell_type": "code",
   "execution_count": 19,
   "metadata": {},
   "outputs": [],
   "source": [
    "python = ['Python']"
   ]
  },
  {
   "cell_type": "code",
   "execution_count": 20,
   "metadata": {},
   "outputs": [],
   "source": [
    "snake_nest = [python] *size"
   ]
  },
  {
   "cell_type": "code",
   "execution_count": 21,
   "metadata": {},
   "outputs": [
    {
     "data": {
      "text/plain": [
       "True"
      ]
     },
     "execution_count": 21,
     "metadata": {},
     "output_type": "execute_result"
    }
   ],
   "source": [
    "snake_nest[0] == snake_nest[1] == snake_nest[2] == snake_nest[3] ==snake_nest[4]"
   ]
  },
  {
   "cell_type": "code",
   "execution_count": 22,
   "metadata": {},
   "outputs": [
    {
     "data": {
      "text/plain": [
       "True"
      ]
     },
     "execution_count": 22,
     "metadata": {},
     "output_type": "execute_result"
    }
   ],
   "source": [
    "snake_nest[0] is snake_nest[1] is snake_nest[2] is snake_nest[3] is snake_nest[4]"
   ]
  },
  {
   "cell_type": "code",
   "execution_count": 23,
   "metadata": {},
   "outputs": [],
   "source": [
    "import random"
   ]
  },
  {
   "cell_type": "code",
   "execution_count": 24,
   "metadata": {},
   "outputs": [],
   "source": [
    "position = random.choice(range(size))"
   ]
  },
  {
   "cell_type": "code",
   "execution_count": 25,
   "metadata": {},
   "outputs": [],
   "source": [
    "snake_nest[position] = ['Python']"
   ]
  },
  {
   "cell_type": "code",
   "execution_count": 26,
   "metadata": {},
   "outputs": [
    {
     "data": {
      "text/plain": [
       "[['Python'], ['Python'], ['Python'], ['Python'], ['Python']]"
      ]
     },
     "execution_count": 26,
     "metadata": {},
     "output_type": "execute_result"
    }
   ],
   "source": [
    "snake_nest"
   ]
  },
  {
   "cell_type": "code",
   "execution_count": 27,
   "metadata": {},
   "outputs": [
    {
     "data": {
      "text/plain": [
       "True"
      ]
     },
     "execution_count": 27,
     "metadata": {},
     "output_type": "execute_result"
    }
   ],
   "source": [
    "snake_nest[0] == snake_nest[1] == snake_nest[2] == snake_nest[3] ==snake_nest[4]"
   ]
  },
  {
   "cell_type": "code",
   "execution_count": 28,
   "metadata": {},
   "outputs": [
    {
     "data": {
      "text/plain": [
       "False"
      ]
     },
     "execution_count": 28,
     "metadata": {},
     "output_type": "execute_result"
    }
   ],
   "source": [
    "snake_nest[0] is snake_nest[1] is snake_nest[2] is snake_nest[3] is snake_nest[4]"
   ]
  },
  {
   "cell_type": "code",
   "execution_count": 37,
   "metadata": {},
   "outputs": [
    {
     "data": {
      "text/plain": [
       "[1856308313352, 1856308313352, 1856309277192, 1856308313352, 1856308313352]"
      ]
     },
     "execution_count": 37,
     "metadata": {},
     "output_type": "execute_result"
    }
   ],
   "source": [
    "[id(snake) for snake in snake_nest]"
   ]
  },
  {
   "cell_type": "markdown",
   "metadata": {},
   "source": [
    "### Conditionals"
   ]
  },
  {
   "cell_type": "markdown",
   "metadata": {},
   "source": [
    "In the condition part of an if statement, a non-empty string or list is evaluated as true,while an empty string or list evaluates as false."
   ]
  },
  {
   "cell_type": "code",
   "execution_count": 30,
   "metadata": {},
   "outputs": [],
   "source": [
    "mixed = ['cat', '', ['dog'], []]"
   ]
  },
  {
   "cell_type": "code",
   "execution_count": 31,
   "metadata": {},
   "outputs": [
    {
     "name": "stdout",
     "output_type": "stream",
     "text": [
      "cat\n",
      "['dog']\n"
     ]
    }
   ],
   "source": [
    "for element in mixed:\n",
    "    if element:\n",
    "        print (element)"
   ]
  },
  {
   "cell_type": "code",
   "execution_count": 32,
   "metadata": {},
   "outputs": [],
   "source": [
    "animals=['cat','dog']"
   ]
  },
  {
   "cell_type": "code",
   "execution_count": 33,
   "metadata": {},
   "outputs": [
    {
     "name": "stdout",
     "output_type": "stream",
     "text": [
      "1\n"
     ]
    }
   ],
   "source": [
    "if 'cat' in animals:\n",
    "    print (1)\n",
    "elif 'dog' in animals:\n",
    "    print (2)"
   ]
  },
  {
   "cell_type": "code",
   "execution_count": 34,
   "metadata": {},
   "outputs": [],
   "source": [
    "sent = ['No', 'good', 'fish','goes','anywhere','without','a','porpoise','.']"
   ]
  },
  {
   "cell_type": "code",
   "execution_count": 35,
   "metadata": {},
   "outputs": [
    {
     "data": {
      "text/plain": [
       "False"
      ]
     },
     "execution_count": 35,
     "metadata": {},
     "output_type": "execute_result"
    }
   ],
   "source": [
    "all(len(w) > 4 for w in sent)"
   ]
  },
  {
   "cell_type": "code",
   "execution_count": 36,
   "metadata": {},
   "outputs": [
    {
     "data": {
      "text/plain": [
       "True"
      ]
     },
     "execution_count": 36,
     "metadata": {},
     "output_type": "execute_result"
    }
   ],
   "source": [
    "any(len(w) > 4 for w in sent)"
   ]
  },
  {
   "cell_type": "markdown",
   "metadata": {},
   "source": [
    "## 4.2 Sequence"
   ]
  },
  {
   "cell_type": "markdown",
   "metadata": {},
   "source": [
    "So far, we have seen two kinds of sequence object: strings and lists. Another kind of sequence is called a tuple."
   ]
  },
  {
   "cell_type": "code",
   "execution_count": 38,
   "metadata": {},
   "outputs": [],
   "source": [
    "t = 'walk', 'fem', 3"
   ]
  },
  {
   "cell_type": "code",
   "execution_count": 39,
   "metadata": {},
   "outputs": [
    {
     "data": {
      "text/plain": [
       "('walk', 'fem', 3)"
      ]
     },
     "execution_count": 39,
     "metadata": {},
     "output_type": "execute_result"
    }
   ],
   "source": [
    "t"
   ]
  },
  {
   "cell_type": "code",
   "execution_count": 40,
   "metadata": {},
   "outputs": [
    {
     "data": {
      "text/plain": [
       "'walk'"
      ]
     },
     "execution_count": 40,
     "metadata": {},
     "output_type": "execute_result"
    }
   ],
   "source": [
    "t[0]"
   ]
  },
  {
   "cell_type": "code",
   "execution_count": 41,
   "metadata": {},
   "outputs": [
    {
     "data": {
      "text/plain": [
       "('fem', 3)"
      ]
     },
     "execution_count": 41,
     "metadata": {},
     "output_type": "execute_result"
    }
   ],
   "source": [
    "t[1:]"
   ]
  },
  {
   "cell_type": "code",
   "execution_count": 42,
   "metadata": {},
   "outputs": [
    {
     "data": {
      "text/plain": [
       "3"
      ]
     },
     "execution_count": 42,
     "metadata": {},
     "output_type": "execute_result"
    }
   ],
   "source": [
    "len(t)"
   ]
  },
  {
   "cell_type": "code",
   "execution_count": 43,
   "metadata": {},
   "outputs": [],
   "source": [
    "raw = 'I turned off the spectroroute'"
   ]
  },
  {
   "cell_type": "code",
   "execution_count": 44,
   "metadata": {},
   "outputs": [],
   "source": [
    "text = ['I', 'turned', 'off', 'the', 'spectroroute']"
   ]
  },
  {
   "cell_type": "code",
   "execution_count": 46,
   "metadata": {},
   "outputs": [],
   "source": [
    "pair = (6, 'turned')"
   ]
  },
  {
   "cell_type": "code",
   "execution_count": 47,
   "metadata": {},
   "outputs": [
    {
     "data": {
      "text/plain": [
       "('t', 'the', 'turned')"
      ]
     },
     "execution_count": 47,
     "metadata": {},
     "output_type": "execute_result"
    }
   ],
   "source": [
    "raw[2], text[3], pair[1]"
   ]
  },
  {
   "cell_type": "code",
   "execution_count": 48,
   "metadata": {},
   "outputs": [
    {
     "data": {
      "text/plain": [
       "('ute', ['off', 'the', 'spectroroute'], (6, 'turned'))"
      ]
     },
     "execution_count": 48,
     "metadata": {},
     "output_type": "execute_result"
    }
   ],
   "source": [
    "raw[-3:], text[-3:], pair[-3:]"
   ]
  },
  {
   "cell_type": "code",
   "execution_count": 50,
   "metadata": {},
   "outputs": [
    {
     "data": {
      "text/plain": [
       "(29, 5, 2)"
      ]
     },
     "execution_count": 50,
     "metadata": {},
     "output_type": "execute_result"
    }
   ],
   "source": [
    "len(raw), len(text), len(pair)"
   ]
  },
  {
   "cell_type": "code",
   "execution_count": 51,
   "metadata": {},
   "outputs": [
    {
     "data": {
      "text/plain": [
       "['the', 'off', 'turned', 'I', 'spectroroute']"
      ]
     },
     "execution_count": 51,
     "metadata": {},
     "output_type": "execute_result"
    }
   ],
   "source": [
    "list(set(text))"
   ]
  },
  {
   "cell_type": "code",
   "execution_count": 52,
   "metadata": {},
   "outputs": [
    {
     "data": {
      "text/plain": [
       "['the', 'off', 'turned', 'I', 'spectroroute']"
      ]
     },
     "execution_count": 52,
     "metadata": {},
     "output_type": "execute_result"
    }
   ],
   "source": [
    "[w for w in set(text)]"
   ]
  },
  {
   "cell_type": "markdown",
   "metadata": {},
   "source": [
    "### Operating on Sequence Types"
   ]
  },
  {
   "cell_type": "code",
   "execution_count": 53,
   "metadata": {},
   "outputs": [],
   "source": [
    "raw = 'Red lorry, yellow, lorry, red lorry, yellow lorry.'"
   ]
  },
  {
   "cell_type": "code",
   "execution_count": 54,
   "metadata": {},
   "outputs": [],
   "source": [
    "import nltk"
   ]
  },
  {
   "cell_type": "code",
   "execution_count": 55,
   "metadata": {},
   "outputs": [],
   "source": [
    "text = nltk.word_tokenize(raw)"
   ]
  },
  {
   "cell_type": "code",
   "execution_count": 56,
   "metadata": {},
   "outputs": [],
   "source": [
    "fdist = nltk.FreqDist(text)"
   ]
  },
  {
   "cell_type": "code",
   "execution_count": 57,
   "metadata": {},
   "outputs": [
    {
     "data": {
      "text/plain": [
       "['Red', 'lorry', ',', 'yellow', 'red', '.']"
      ]
     },
     "execution_count": 57,
     "metadata": {},
     "output_type": "execute_result"
    }
   ],
   "source": [
    "list(fdist)"
   ]
  },
  {
   "cell_type": "code",
   "execution_count": 58,
   "metadata": {},
   "outputs": [
    {
     "name": "stdout",
     "output_type": "stream",
     "text": [
      "1\n",
      "4\n",
      "4\n",
      "2\n",
      "1\n",
      "1\n"
     ]
    }
   ],
   "source": [
    "for key in fdist:\n",
    "    print(fdist[key])"
   ]
  },
  {
   "cell_type": "code",
   "execution_count": 60,
   "metadata": {},
   "outputs": [],
   "source": [
    "words = ['I', 'tumed', 'off', 'the', 'spectroroute']"
   ]
  },
  {
   "cell_type": "code",
   "execution_count": 61,
   "metadata": {},
   "outputs": [],
   "source": [
    "words[2], words[3], words[4] = words[3], words[4], words[2]"
   ]
  },
  {
   "cell_type": "code",
   "execution_count": 62,
   "metadata": {},
   "outputs": [
    {
     "data": {
      "text/plain": [
       "['I', 'tumed', 'the', 'spectroroute', 'off']"
      ]
     },
     "execution_count": 62,
     "metadata": {},
     "output_type": "execute_result"
    }
   ],
   "source": [
    "words"
   ]
  },
  {
   "cell_type": "code",
   "execution_count": 63,
   "metadata": {},
   "outputs": [],
   "source": [
    "tmp = words[2]"
   ]
  },
  {
   "cell_type": "code",
   "execution_count": 64,
   "metadata": {},
   "outputs": [],
   "source": [
    "words[2] = words[3]"
   ]
  },
  {
   "cell_type": "code",
   "execution_count": 65,
   "metadata": {},
   "outputs": [],
   "source": [
    "words[3] = words[4]"
   ]
  },
  {
   "cell_type": "code",
   "execution_count": 66,
   "metadata": {},
   "outputs": [],
   "source": [
    "words[4] = tmp"
   ]
  },
  {
   "cell_type": "code",
   "execution_count": 67,
   "metadata": {},
   "outputs": [],
   "source": [
    "words = ['I', 'tumed', 'the', 'spectroroute', 'off']"
   ]
  },
  {
   "cell_type": "code",
   "execution_count": 68,
   "metadata": {},
   "outputs": [],
   "source": [
    "tags = ['noun', 'verb', 'prep', 'det', 'noun']"
   ]
  },
  {
   "cell_type": "code",
   "execution_count": 69,
   "metadata": {},
   "outputs": [
    {
     "data": {
      "text/plain": [
       "<zip at 0x1b045f10fc8>"
      ]
     },
     "execution_count": 69,
     "metadata": {},
     "output_type": "execute_result"
    }
   ],
   "source": [
    "zip(words, tags)"
   ]
  },
  {
   "cell_type": "code",
   "execution_count": 70,
   "metadata": {},
   "outputs": [
    {
     "data": {
      "text/plain": [
       "[(0, 'I'), (1, 'tumed'), (2, 'the'), (3, 'spectroroute'), (4, 'off')]"
      ]
     },
     "execution_count": 70,
     "metadata": {},
     "output_type": "execute_result"
    }
   ],
   "source": [
    "list(enumerate(words))"
   ]
  },
  {
   "cell_type": "code",
   "execution_count": 71,
   "metadata": {},
   "outputs": [],
   "source": [
    "text = nltk.corpus.nps_chat.words()"
   ]
  },
  {
   "cell_type": "code",
   "execution_count": 72,
   "metadata": {},
   "outputs": [],
   "source": [
    "cut = int(0.9 * len(text))"
   ]
  },
  {
   "cell_type": "code",
   "execution_count": 73,
   "metadata": {},
   "outputs": [],
   "source": [
    "training_data, test_data = text[:cut], text[cut:]"
   ]
  },
  {
   "cell_type": "code",
   "execution_count": 74,
   "metadata": {},
   "outputs": [
    {
     "data": {
      "text/plain": [
       "True"
      ]
     },
     "execution_count": 74,
     "metadata": {},
     "output_type": "execute_result"
    }
   ],
   "source": [
    "text == training_data + test_data"
   ]
  },
  {
   "cell_type": "code",
   "execution_count": 75,
   "metadata": {},
   "outputs": [
    {
     "data": {
      "text/plain": [
       "9.0"
      ]
     },
     "execution_count": 75,
     "metadata": {},
     "output_type": "execute_result"
    }
   ],
   "source": [
    "len(training_data) / len(test_data)"
   ]
  },
  {
   "cell_type": "markdown",
   "metadata": {},
   "source": [
    "### Combining Different Sequence Types"
   ]
  },
  {
   "cell_type": "markdown",
   "metadata": {},
   "source": [
    "Let’s combine our knowledge of these three sequence types, together with list comprehensions,to perform the task of sorting the words in a string by their length."
   ]
  },
  {
   "cell_type": "code",
   "execution_count": 76,
   "metadata": {},
   "outputs": [],
   "source": [
    "words = 'I turned off the spectroroute'.split()"
   ]
  },
  {
   "cell_type": "code",
   "execution_count": 77,
   "metadata": {},
   "outputs": [],
   "source": [
    "wordlens = [(len(word), word) for word in words]"
   ]
  },
  {
   "cell_type": "code",
   "execution_count": 78,
   "metadata": {},
   "outputs": [],
   "source": [
    "wordlens.sort()"
   ]
  },
  {
   "cell_type": "code",
   "execution_count": 79,
   "metadata": {},
   "outputs": [
    {
     "data": {
      "text/plain": [
       "'I off the turned spectroroute'"
      ]
     },
     "execution_count": 79,
     "metadata": {},
     "output_type": "execute_result"
    }
   ],
   "source": [
    "' '.join(w for(_,w) in wordlens)"
   ]
  },
  {
   "cell_type": "code",
   "execution_count": 80,
   "metadata": {},
   "outputs": [],
   "source": [
    "lexicon = [('the', 'det', ['Di:', 'D@']),('off', 'prep', ['Qf', 'O:f'])]"
   ]
  },
  {
   "cell_type": "code",
   "execution_count": 81,
   "metadata": {},
   "outputs": [],
   "source": [
    "lexicon.sort()"
   ]
  },
  {
   "cell_type": "code",
   "execution_count": 82,
   "metadata": {},
   "outputs": [],
   "source": [
    "lexicon[1] = ('turned', 'VBD', ['t3:nd', 't3`nd'])"
   ]
  },
  {
   "cell_type": "code",
   "execution_count": 83,
   "metadata": {},
   "outputs": [],
   "source": [
    "del lexicon[0]"
   ]
  },
  {
   "cell_type": "code",
   "execution_count": 84,
   "metadata": {},
   "outputs": [],
   "source": [
    "lexicon = tuple(lexicon)"
   ]
  },
  {
   "cell_type": "code",
   "execution_count": 85,
   "metadata": {},
   "outputs": [
    {
     "ename": "AttributeError",
     "evalue": "'tuple' object has no attribute 'sort'",
     "output_type": "error",
     "traceback": [
      "\u001b[1;31m---------------------------------------------------------------------------\u001b[0m",
      "\u001b[1;31mAttributeError\u001b[0m                            Traceback (most recent call last)",
      "\u001b[1;32m<ipython-input-85-f0ef1dd8cf20>\u001b[0m in \u001b[0;36m<module>\u001b[1;34m\u001b[0m\n\u001b[1;32m----> 1\u001b[1;33m \u001b[0mlexicon\u001b[0m\u001b[1;33m.\u001b[0m\u001b[0msort\u001b[0m\u001b[1;33m(\u001b[0m\u001b[1;33m)\u001b[0m\u001b[1;33m\u001b[0m\u001b[1;33m\u001b[0m\u001b[0m\n\u001b[0m",
      "\u001b[1;31mAttributeError\u001b[0m: 'tuple' object has no attribute 'sort'"
     ]
    }
   ],
   "source": [
    "lexicon.sort()"
   ]
  },
  {
   "cell_type": "code",
   "execution_count": 86,
   "metadata": {},
   "outputs": [
    {
     "ename": "TypeError",
     "evalue": "'tuple' object does not support item assignment",
     "output_type": "error",
     "traceback": [
      "\u001b[1;31m---------------------------------------------------------------------------\u001b[0m",
      "\u001b[1;31mTypeError\u001b[0m                                 Traceback (most recent call last)",
      "\u001b[1;32m<ipython-input-86-e4e3a95fe95b>\u001b[0m in \u001b[0;36m<module>\u001b[1;34m\u001b[0m\n\u001b[1;32m----> 1\u001b[1;33m \u001b[0mlexicon\u001b[0m\u001b[1;33m[\u001b[0m\u001b[1;36m1\u001b[0m\u001b[1;33m]\u001b[0m \u001b[1;33m=\u001b[0m \u001b[1;33m(\u001b[0m\u001b[1;34m'turned'\u001b[0m\u001b[1;33m,\u001b[0m \u001b[1;34m'VBD'\u001b[0m\u001b[1;33m,\u001b[0m \u001b[1;33m[\u001b[0m\u001b[1;34m't3:nd'\u001b[0m\u001b[1;33m,\u001b[0m \u001b[1;34m't3`nd'\u001b[0m\u001b[1;33m]\u001b[0m\u001b[1;33m)\u001b[0m\u001b[1;33m\u001b[0m\u001b[1;33m\u001b[0m\u001b[0m\n\u001b[0m",
      "\u001b[1;31mTypeError\u001b[0m: 'tuple' object does not support item assignment"
     ]
    }
   ],
   "source": [
    "lexicon[1] = ('turned', 'VBD', ['t3:nd', 't3`nd'])"
   ]
  },
  {
   "cell_type": "code",
   "execution_count": 87,
   "metadata": {},
   "outputs": [
    {
     "ename": "TypeError",
     "evalue": "'tuple' object doesn't support item deletion",
     "output_type": "error",
     "traceback": [
      "\u001b[1;31m---------------------------------------------------------------------------\u001b[0m",
      "\u001b[1;31mTypeError\u001b[0m                                 Traceback (most recent call last)",
      "\u001b[1;32m<ipython-input-87-0ba66aa11bf3>\u001b[0m in \u001b[0;36m<module>\u001b[1;34m\u001b[0m\n\u001b[1;32m----> 1\u001b[1;33m \u001b[1;32mdel\u001b[0m \u001b[0mlexicon\u001b[0m\u001b[1;33m[\u001b[0m\u001b[1;36m0\u001b[0m\u001b[1;33m]\u001b[0m\u001b[1;33m\u001b[0m\u001b[1;33m\u001b[0m\u001b[0m\n\u001b[0m",
      "\u001b[1;31mTypeError\u001b[0m: 'tuple' object doesn't support item deletion"
     ]
    }
   ],
   "source": [
    "del lexicon[0]"
   ]
  },
  {
   "cell_type": "markdown",
   "metadata": {},
   "source": [
    "### Generator Expressions"
   ]
  },
  {
   "cell_type": "markdown",
   "metadata": {},
   "source": [
    "We’ve been making heavy use of list comprehensions, for compact and readable processing of texts. Here’s an example where we tokenize and normalize a text:"
   ]
  },
  {
   "cell_type": "code",
   "execution_count": 91,
   "metadata": {},
   "outputs": [],
   "source": [
    "text = '\"\"When I use a word,\"Humpty Dumpty said in rather a scornful tone,\"it means just what I choose it to mean - neither more nor less.\"\"'"
   ]
  },
  {
   "cell_type": "code",
   "execution_count": 92,
   "metadata": {},
   "outputs": [
    {
     "data": {
      "text/plain": [
       "['``',\n",
       " '``',\n",
       " 'when',\n",
       " 'i',\n",
       " 'use',\n",
       " 'a',\n",
       " 'word',\n",
       " ',',\n",
       " \"''\",\n",
       " 'humpty',\n",
       " 'dumpty',\n",
       " 'said',\n",
       " 'in',\n",
       " 'rather',\n",
       " 'a',\n",
       " 'scornful',\n",
       " 'tone',\n",
       " ',',\n",
       " \"''\",\n",
       " 'it',\n",
       " 'means',\n",
       " 'just',\n",
       " 'what',\n",
       " 'i',\n",
       " 'choose',\n",
       " 'it',\n",
       " 'to',\n",
       " 'mean',\n",
       " '-',\n",
       " 'neither',\n",
       " 'more',\n",
       " 'nor',\n",
       " 'less',\n",
       " '.',\n",
       " \"''\",\n",
       " \"''\"]"
      ]
     },
     "execution_count": 92,
     "metadata": {},
     "output_type": "execute_result"
    }
   ],
   "source": [
    "[w.lower() for w in nltk.word_tokenize(text)]"
   ]
  },
  {
   "cell_type": "code",
   "execution_count": 93,
   "metadata": {},
   "outputs": [
    {
     "data": {
      "text/plain": [
       "'word'"
      ]
     },
     "execution_count": 93,
     "metadata": {},
     "output_type": "execute_result"
    }
   ],
   "source": [
    "max([w.lower() for w in nltk.word_tokenize(text)])"
   ]
  },
  {
   "cell_type": "code",
   "execution_count": 94,
   "metadata": {},
   "outputs": [
    {
     "data": {
      "text/plain": [
       "'word'"
      ]
     },
     "execution_count": 94,
     "metadata": {},
     "output_type": "execute_result"
    }
   ],
   "source": [
    "max(w.lower() for w in nltk.word_tokenize(text))"
   ]
  },
  {
   "cell_type": "markdown",
   "metadata": {},
   "source": [
    "## 4.3 Questions of Style"
   ]
  },
  {
   "cell_type": "markdown",
   "metadata": {},
   "source": [
    "Programming is as much an art as a science. The undisputed “bible” of programming,a 2,500 page multivolume work by Donald Knuth, is called The Art of Computer Programming.Many books have been written on Literate Programming, recognizing that humans, not just computers, must read and understand programs."
   ]
  },
  {
   "cell_type": "markdown",
   "metadata": {},
   "source": [
    "### Python Coding Style"
   ]
  },
  {
   "cell_type": "markdown",
   "metadata": {},
   "source": [
    "When writing programs you make many subtle choices about names, spacing, comments,and so on. When you look at code written by other people, needless differences in style make it harder to interpret the code. Therefore, the designers of the Python language have published a style guide for Python code, available at http://www.python.org/dev/peps/pep-0008/."
   ]
  },
  {
   "cell_type": "code",
   "execution_count": 95,
   "metadata": {},
   "outputs": [],
   "source": [
    "import re\n",
    "from nltk.corpus import brown"
   ]
  },
  {
   "cell_type": "code",
   "execution_count": 96,
   "metadata": {},
   "outputs": [],
   "source": [
    "rotokas_words = nltk.corpus.toolbox.words('rotokas.dic')"
   ]
  },
  {
   "cell_type": "code",
   "execution_count": 97,
   "metadata": {},
   "outputs": [],
   "source": [
    "cv_word_pairs = [(cv,w) for w in rotokas_words \n",
    "                 for cv in re.findall('[ptksvr][aeiou]',w)]"
   ]
  },
  {
   "cell_type": "code",
   "execution_count": 98,
   "metadata": {},
   "outputs": [],
   "source": [
    "cdf = nltk.ConditionalFreqDist(\n",
    "    (genre,word) \n",
    "    for genre in brown.categories() \n",
    "    for word in brown.words(categories=genre)\n",
    ")"
   ]
  },
  {
   "cell_type": "code",
   "execution_count": 99,
   "metadata": {},
   "outputs": [],
   "source": [
    "ha_words = ['aaahhhh','ah','ahah','ahahah','ahhahahaha',\n",
    "            'ahhh','ahhhh', 'ahhhhhh','ahhhhhhhhhhhh','ha',\n",
    "            'haaa','hah','haha','hahaaa','hahah','hahaha']"
   ]
  },
  {
   "cell_type": "code",
   "execution_count": 100,
   "metadata": {},
   "outputs": [],
   "source": [
    "syllables = ['aaaaa', 'bbbb', 'ccccc']"
   ]
  },
  {
   "cell_type": "code",
   "execution_count": 101,
   "metadata": {},
   "outputs": [],
   "source": [
    "if (len(syllables) > 4 and len(syllables[2]) == 3 and \n",
    "    syllables[2][2] in [aeiou] and syllables[2][3] == syllables[1][3]):\n",
    "    process(syllables)"
   ]
  },
  {
   "cell_type": "code",
   "execution_count": 102,
   "metadata": {},
   "outputs": [],
   "source": [
    "if len(syllables) > 4 and len(syllables[2]) == 3 and \\\n",
    "syllables[2][2] in [aeiou] and syllables[2][3]==syllables[1][3]:\n",
    "    process(syllables)"
   ]
  },
  {
   "cell_type": "markdown",
   "metadata": {},
   "source": [
    "### Procedural Versus Declarative Style"
   ]
  },
  {
   "cell_type": "markdown",
   "metadata": {},
   "source": [
    "We have just seen how the same task can be performed in different ways, with implications for efficiency. Another factor influencing program development is programming style. Consider the following program to compute the average length of words in the Brown Corpus:"
   ]
  },
  {
   "cell_type": "code",
   "execution_count": 104,
   "metadata": {},
   "outputs": [],
   "source": [
    "tokens = nltk.corpus.brown.words(categories='news')"
   ]
  },
  {
   "cell_type": "code",
   "execution_count": 105,
   "metadata": {},
   "outputs": [
    {
     "name": "stdout",
     "output_type": "stream",
     "text": [
      "4.401545438271973\n"
     ]
    }
   ],
   "source": [
    "count = 0\n",
    "total = 0\n",
    "for token in tokens:\n",
    "    count += 1\n",
    "    total += len(token)\n",
    "print(total / count)"
   ]
  },
  {
   "cell_type": "code",
   "execution_count": 106,
   "metadata": {},
   "outputs": [
    {
     "name": "stdout",
     "output_type": "stream",
     "text": [
      "4.401545438271973\n"
     ]
    }
   ],
   "source": [
    "total = sum(len(t) for t in tokens)\n",
    "print(total / len(tokens))"
   ]
  },
  {
   "cell_type": "code",
   "execution_count": null,
   "metadata": {},
   "outputs": [],
   "source": [
    "word_list = []\n",
    "len_word_list = len(word_list)\n",
    "i=0\n",
    "while i < len(tokens):\n",
    "    j = 0\n",
    "    while j<len_word_list and word_list[j] < tokens[i]:\n",
    "        j += 1\n",
    "    if j==0 or token[i] != word_list[j]:\n",
    "        word_list.insert(j, tokens[i])\n",
    "        len_word_list += 1\n",
    "    i += 1 "
   ]
  },
  {
   "cell_type": "code",
   "execution_count": 123,
   "metadata": {},
   "outputs": [],
   "source": [
    "word_list = sorted(set(tokens))"
   ]
  },
  {
   "cell_type": "code",
   "execution_count": 124,
   "metadata": {},
   "outputs": [],
   "source": [
    "fd = nltk.FreqDist(nltk.corpus.brown.words())"
   ]
  },
  {
   "cell_type": "code",
   "execution_count": 125,
   "metadata": {},
   "outputs": [],
   "source": [
    "cumulative = 0.0"
   ]
  },
  {
   "cell_type": "code",
   "execution_count": 126,
   "metadata": {},
   "outputs": [
    {
     "name": "stdout",
     "output_type": "stream",
     "text": [
      "  1   0.63% The\n",
      "  2   0.63% Fulton\n",
      "  3   0.63% County\n",
      "  4   0.64% Grand\n",
      "  5   0.64% Jury\n",
      "  6   0.80% said\n",
      "  7   0.81% Friday\n",
      "  8   1.11% an\n",
      "  9   1.12% investigation\n",
      " 10   4.22% of\n",
      " 11   4.22% Atlanta's\n",
      " 12   4.24% recent\n",
      " 13   4.25% primary\n",
      " 14   4.25% election\n",
      " 15   4.26% produced\n",
      " 16   5.02% ``\n",
      " 17   5.18% no\n",
      " 18   5.19% evidence\n",
      " 19   5.95% ''\n",
      " 20   6.83% that\n",
      " 21   6.94% any\n",
      " 22   6.94% irregularities\n",
      " 23   6.98% took\n",
      " 24   7.03% place\n",
      " 25  11.28% .\n",
      " 26  11.28% jury\n",
      " 27  11.30% further\n",
      " 28  12.98% in\n",
      " 29  12.98% term-end\n",
      " 30  12.98% presentments\n",
      " 31  18.38% the\n",
      " 32  18.39% City\n",
      " 33  18.39% Executive\n",
      " 34  18.40% Committee\n",
      " 35  23.42% ,\n",
      " 36  23.73% which\n",
      " 37  24.17% had\n",
      " 38  24.17% over-all\n",
      " 39  24.18% charge\n",
      " 40  24.18% deserves\n",
      " 41  24.18% praise\n",
      " 42  26.59% and\n"
     ]
    }
   ],
   "source": [
    "for rank, word in enumerate(fd):\n",
    "    cumulative += fd[word] * 100 / fd.N()\n",
    "    print(\"%3d %6.2f%% %s\" % (rank+1, cumulative,word))\n",
    "    if cumulative > 25:\n",
    "        break"
   ]
  },
  {
   "cell_type": "code",
   "execution_count": 127,
   "metadata": {},
   "outputs": [],
   "source": [
    "text = nltk.corpus.gutenberg.words('milton-paradise.txt')"
   ]
  },
  {
   "cell_type": "code",
   "execution_count": 128,
   "metadata": {},
   "outputs": [],
   "source": [
    "longest = \"\""
   ]
  },
  {
   "cell_type": "code",
   "execution_count": 129,
   "metadata": {},
   "outputs": [],
   "source": [
    "for word in text:\n",
    "    if len(word) > len(longest):\n",
    "        longest = word"
   ]
  },
  {
   "cell_type": "code",
   "execution_count": 130,
   "metadata": {},
   "outputs": [
    {
     "data": {
      "text/plain": [
       "['unextinguishable',\n",
       " 'transubstantiate',\n",
       " 'inextinguishable',\n",
       " 'incomprehensible']"
      ]
     },
     "execution_count": 130,
     "metadata": {},
     "output_type": "execute_result"
    }
   ],
   "source": [
    "maxlen = max(len(word) for word in text)\n",
    "[word for word in text if len(word) == maxlen]"
   ]
  },
  {
   "cell_type": "markdown",
   "metadata": {},
   "source": [
    "### Some Legitimate Users for Counters"
   ]
  },
  {
   "cell_type": "markdown",
   "metadata": {},
   "source": [
    "There are cases where we still want to use loop variables in a list comprehension. For example, we need to use a loop variable to extract successive overlapping n-grams from a list:"
   ]
  },
  {
   "cell_type": "code",
   "execution_count": 131,
   "metadata": {},
   "outputs": [],
   "source": [
    "import pprint"
   ]
  },
  {
   "cell_type": "code",
   "execution_count": 132,
   "metadata": {},
   "outputs": [],
   "source": [
    "sent = ['The', 'dog', 'gave', 'John', 'the', 'newspaper']"
   ]
  },
  {
   "cell_type": "code",
   "execution_count": 133,
   "metadata": {},
   "outputs": [],
   "source": [
    "n = 3"
   ]
  },
  {
   "cell_type": "code",
   "execution_count": 135,
   "metadata": {},
   "outputs": [
    {
     "data": {
      "text/plain": [
       "[['The', 'dog', 'gave'],\n",
       " ['dog', 'gave', 'John'],\n",
       " ['gave', 'John', 'the'],\n",
       " ['John', 'the', 'newspaper']]"
      ]
     },
     "execution_count": 135,
     "metadata": {},
     "output_type": "execute_result"
    }
   ],
   "source": [
    "[sent[i:i+n] for i in range(len(sent) - n + 1)]"
   ]
  },
  {
   "cell_type": "code",
   "execution_count": 136,
   "metadata": {},
   "outputs": [],
   "source": [
    "m, n = 3, 7"
   ]
  },
  {
   "cell_type": "code",
   "execution_count": 137,
   "metadata": {},
   "outputs": [],
   "source": [
    "array = [[set() for i in range(n)] for j in range(m)]"
   ]
  },
  {
   "cell_type": "code",
   "execution_count": 138,
   "metadata": {},
   "outputs": [],
   "source": [
    "array[2][5].add('Alice')"
   ]
  },
  {
   "cell_type": "code",
   "execution_count": 139,
   "metadata": {},
   "outputs": [
    {
     "name": "stdout",
     "output_type": "stream",
     "text": [
      "[[set(), set(), set(), set(), set(), set(), set()],\n",
      " [set(), set(), set(), set(), set(), set(), set()],\n",
      " [set(), set(), set(), set(), set(), {'Alice'}, set()]]\n"
     ]
    }
   ],
   "source": [
    "pprint.pprint(array)"
   ]
  },
  {
   "cell_type": "code",
   "execution_count": 140,
   "metadata": {},
   "outputs": [],
   "source": [
    "array = [[set()] * n] * m"
   ]
  },
  {
   "cell_type": "code",
   "execution_count": 141,
   "metadata": {},
   "outputs": [],
   "source": [
    "array[2][5].add(7)"
   ]
  },
  {
   "cell_type": "code",
   "execution_count": 142,
   "metadata": {},
   "outputs": [
    {
     "data": {
      "text/plain": [
       "[[{7}, {7}, {7}, {7}, {7}, {7}, {7}],\n",
       " [{7}, {7}, {7}, {7}, {7}, {7}, {7}],\n",
       " [{7}, {7}, {7}, {7}, {7}, {7}, {7}]]"
      ]
     },
     "execution_count": 142,
     "metadata": {},
     "output_type": "execute_result"
    }
   ],
   "source": [
    "array"
   ]
  },
  {
   "cell_type": "markdown",
   "metadata": {},
   "source": [
    "## 4.4 Functions:The Foundation of Structured Programming"
   ]
  },
  {
   "cell_type": "markdown",
   "metadata": {},
   "source": [
    "Functions provide an effective way to package and reuse program code. For example, suppose we find that we often want to read text from an HTML file. This involves several steps: opening the file, reading it in, normalizing whitespace, and stripping HTML markup."
   ]
  },
  {
   "cell_type": "code",
   "execution_count": 143,
   "metadata": {},
   "outputs": [],
   "source": [
    "import re"
   ]
  },
  {
   "cell_type": "code",
   "execution_count": 144,
   "metadata": {},
   "outputs": [],
   "source": [
    "def get_text(file):\n",
    "    '\"\"\"Read text from a file, normalizing whitespace and stripping HTML markup\"\"\"'\n",
    "    text = open(file).read()\n",
    "    text = re.sub('\\s','', text)\n",
    "    text = re.sub(r'<.*?>', '', text)\n",
    "    return text"
   ]
  },
  {
   "cell_type": "code",
   "execution_count": 145,
   "metadata": {},
   "outputs": [
    {
     "name": "stdout",
     "output_type": "stream",
     "text": [
      "Help on function get_text in module __main__:\n",
      "\n",
      "get_text(file)\n",
      "    \"\"\"Read text from a file, normalizing whitespace and stripping HTML markup\"\"\"\n",
      "\n"
     ]
    }
   ],
   "source": [
    "help(get_text)"
   ]
  },
  {
   "cell_type": "markdown",
   "metadata": {},
   "source": [
    "### Function Inputs and Outputs"
   ]
  },
  {
   "cell_type": "markdown",
   "metadata": {},
   "source": [
    "We pass information to functions using a function’s parameters, the parenthesized list of variables and constants following the function’s name in the function definition."
   ]
  },
  {
   "cell_type": "code",
   "execution_count": 146,
   "metadata": {},
   "outputs": [],
   "source": [
    "def repeat(msg, num):\n",
    "    return ''.join([msg] * num)"
   ]
  },
  {
   "cell_type": "code",
   "execution_count": 147,
   "metadata": {},
   "outputs": [],
   "source": [
    "monty = 'Monty Python'"
   ]
  },
  {
   "cell_type": "code",
   "execution_count": 148,
   "metadata": {},
   "outputs": [
    {
     "data": {
      "text/plain": [
       "'Monty PythonMonty PythonMonty Python'"
      ]
     },
     "execution_count": 148,
     "metadata": {},
     "output_type": "execute_result"
    }
   ],
   "source": [
    "repeat(monty, 3)"
   ]
  },
  {
   "cell_type": "code",
   "execution_count": 149,
   "metadata": {},
   "outputs": [],
   "source": [
    "def monty():\n",
    "    return \"Monty Python\""
   ]
  },
  {
   "cell_type": "code",
   "execution_count": 150,
   "metadata": {},
   "outputs": [
    {
     "data": {
      "text/plain": [
       "'Monty Python'"
      ]
     },
     "execution_count": 150,
     "metadata": {},
     "output_type": "execute_result"
    }
   ],
   "source": [
    "monty()"
   ]
  },
  {
   "cell_type": "code",
   "execution_count": 151,
   "metadata": {},
   "outputs": [
    {
     "data": {
      "text/plain": [
       "'Monty PythonMonty PythonMonty Python'"
      ]
     },
     "execution_count": 151,
     "metadata": {},
     "output_type": "execute_result"
    }
   ],
   "source": [
    "repeat(monty(), 3)"
   ]
  },
  {
   "cell_type": "code",
   "execution_count": 152,
   "metadata": {},
   "outputs": [
    {
     "data": {
      "text/plain": [
       "'Monty PythonMonty PythonMonty Python'"
      ]
     },
     "execution_count": 152,
     "metadata": {},
     "output_type": "execute_result"
    }
   ],
   "source": [
    "repeat('Monty Python', 3)"
   ]
  },
  {
   "cell_type": "code",
   "execution_count": 153,
   "metadata": {},
   "outputs": [],
   "source": [
    "def my_sort1(mylist):\n",
    "    mylist.sort()"
   ]
  },
  {
   "cell_type": "code",
   "execution_count": 154,
   "metadata": {},
   "outputs": [],
   "source": [
    "def my_sort2(mylist):\n",
    "    return sorted(mylist)"
   ]
  },
  {
   "cell_type": "code",
   "execution_count": 155,
   "metadata": {},
   "outputs": [],
   "source": [
    "def my_sort3(mylist):\n",
    "    mylist.sort()\n",
    "    return mylist"
   ]
  },
  {
   "cell_type": "markdown",
   "metadata": {},
   "source": [
    "### Parameter Passing"
   ]
  },
  {
   "cell_type": "markdown",
   "metadata": {},
   "source": [
    "In the following code, set_up() has two parameters, both of which are modified inside the function. We begin by assigning an empty string to w and an empty dictionary to p."
   ]
  },
  {
   "cell_type": "code",
   "execution_count": 159,
   "metadata": {},
   "outputs": [],
   "source": [
    "def set_up(word, properties):\n",
    "    word = 'lolcat'\n",
    "    properties.append('noun')\n",
    "    properties = 5"
   ]
  },
  {
   "cell_type": "code",
   "execution_count": 160,
   "metadata": {},
   "outputs": [],
   "source": [
    "w = ''\n",
    "p = []\n",
    "set_up(w, p)"
   ]
  },
  {
   "cell_type": "code",
   "execution_count": 161,
   "metadata": {},
   "outputs": [
    {
     "data": {
      "text/plain": [
       "''"
      ]
     },
     "execution_count": 161,
     "metadata": {},
     "output_type": "execute_result"
    }
   ],
   "source": [
    "w"
   ]
  },
  {
   "cell_type": "code",
   "execution_count": 162,
   "metadata": {},
   "outputs": [
    {
     "data": {
      "text/plain": [
       "['noun']"
      ]
     },
     "execution_count": 162,
     "metadata": {},
     "output_type": "execute_result"
    }
   ],
   "source": [
    "p"
   ]
  },
  {
   "cell_type": "code",
   "execution_count": 163,
   "metadata": {},
   "outputs": [],
   "source": [
    "w = ''\n",
    "word = w\n",
    "word = 'lolcat'"
   ]
  },
  {
   "cell_type": "code",
   "execution_count": 164,
   "metadata": {},
   "outputs": [
    {
     "data": {
      "text/plain": [
       "''"
      ]
     },
     "execution_count": 164,
     "metadata": {},
     "output_type": "execute_result"
    }
   ],
   "source": [
    "w"
   ]
  },
  {
   "cell_type": "code",
   "execution_count": 171,
   "metadata": {},
   "outputs": [],
   "source": [
    "p = []"
   ]
  },
  {
   "cell_type": "code",
   "execution_count": 172,
   "metadata": {},
   "outputs": [],
   "source": [
    "properties = p"
   ]
  },
  {
   "cell_type": "code",
   "execution_count": 173,
   "metadata": {},
   "outputs": [],
   "source": [
    "properties.append('noun')"
   ]
  },
  {
   "cell_type": "code",
   "execution_count": 174,
   "metadata": {},
   "outputs": [],
   "source": [
    "properties = 5"
   ]
  },
  {
   "cell_type": "code",
   "execution_count": 175,
   "metadata": {},
   "outputs": [
    {
     "data": {
      "text/plain": [
       "['noun']"
      ]
     },
     "execution_count": 175,
     "metadata": {},
     "output_type": "execute_result"
    }
   ],
   "source": [
    "p"
   ]
  },
  {
   "cell_type": "markdown",
   "metadata": {},
   "source": [
    "### Variable Scope"
   ]
  },
  {
   "cell_type": "markdown",
   "metadata": {},
   "source": [
    "### Cheking Parameter Types"
   ]
  },
  {
   "cell_type": "markdown",
   "metadata": {},
   "source": [
    "Python does not force us to declare the type of a variable when we write a program,and this permits us to define functions that are flexible about the type of their arguments."
   ]
  },
  {
   "cell_type": "code",
   "execution_count": 176,
   "metadata": {},
   "outputs": [],
   "source": [
    "def tag(word):\n",
    "    if word in ['a', 'the', 'all']:\n",
    "        return 'det'\n",
    "    else:\n",
    "        return 'noun'"
   ]
  },
  {
   "cell_type": "code",
   "execution_count": 177,
   "metadata": {},
   "outputs": [
    {
     "data": {
      "text/plain": [
       "'det'"
      ]
     },
     "execution_count": 177,
     "metadata": {},
     "output_type": "execute_result"
    }
   ],
   "source": [
    "tag('the')"
   ]
  },
  {
   "cell_type": "code",
   "execution_count": 178,
   "metadata": {},
   "outputs": [
    {
     "data": {
      "text/plain": [
       "'noun'"
      ]
     },
     "execution_count": 178,
     "metadata": {},
     "output_type": "execute_result"
    }
   ],
   "source": [
    "tag('knight')"
   ]
  },
  {
   "cell_type": "code",
   "execution_count": 180,
   "metadata": {},
   "outputs": [
    {
     "data": {
      "text/plain": [
       "'noun'"
      ]
     },
     "execution_count": 180,
     "metadata": {},
     "output_type": "execute_result"
    }
   ],
   "source": [
    "tag([\"'Tis\", 'but','a', 'scratch'])"
   ]
  },
  {
   "cell_type": "code",
   "execution_count": 197,
   "metadata": {},
   "outputs": [],
   "source": [
    "def tag(word):\n",
    "    assert isinstance(word, str), \"argument to tag() must be a string\"\n",
    "    if word in ['a', 'the', 'all']:\n",
    "        return 'det'\n",
    "    else:\n",
    "        return 'noun'"
   ]
  },
  {
   "cell_type": "markdown",
   "metadata": {},
   "source": [
    "### Functional Decomposition"
   ]
  },
  {
   "cell_type": "markdown",
   "metadata": {},
   "source": [
    "Well-structured programs usually make extensive use of functions. When a block of program code grows longer than 10–20 lines, it is a great help to readability if the code is broken up into one or more functions, each one having a clear purpose. This is analogous to the way a good essay is divided into paragraphs, each expressing one main idea."
   ]
  },
  {
   "cell_type": "code",
   "execution_count": 280,
   "metadata": {},
   "outputs": [],
   "source": [
    "import requests\n",
    "from bs4 import BeautifulSoup"
   ]
  },
  {
   "cell_type": "code",
   "execution_count": 281,
   "metadata": {},
   "outputs": [],
   "source": [
    "# data = load_corpus()\n",
    "# results = analyze(data)\n",
    "# present(results)"
   ]
  },
  {
   "cell_type": "code",
   "execution_count": 282,
   "metadata": {},
   "outputs": [],
   "source": [
    "def freq_words(url, freqdist, n):\n",
    "    html = requests.get(url).text\n",
    "    text = BeautifulSoup(html, 'lxml').get_text()\n",
    "    freqdist.update(\n",
    "        word.lower() \n",
    "        for word in nltk.word_tokenize(text)\n",
    "    )\n",
    "    print(freqdist.most_common(n))"
   ]
  },
  {
   "cell_type": "code",
   "execution_count": 283,
   "metadata": {},
   "outputs": [],
   "source": [
    "constitution = \"http://www.archives.gov/national-archives-experience/charters/constitution_transcript.html\""
   ]
  },
  {
   "cell_type": "code",
   "execution_count": 284,
   "metadata": {},
   "outputs": [],
   "source": [
    "fd = nltk.probability.FreqDist()"
   ]
  },
  {
   "cell_type": "code",
   "execution_count": 285,
   "metadata": {},
   "outputs": [
    {
     "name": "stdout",
     "output_type": "stream",
     "text": [
      "[(\"''\", 374), (',', 189), (':1', 75), (':', 72), ('the', 71), ('{', 41), ('}', 41), (';', 40), ('of', 39), ('(', 28), (')', 28), (\"'\", 20), ('archives', 20), ('#', 20), ('and', 19), ('.', 16), ('[', 15), (']', 15), ('``', 15), ('national', 14)]\n"
     ]
    }
   ],
   "source": [
    "freq_words(constitution, fd, 20)"
   ]
  },
  {
   "cell_type": "code",
   "execution_count": 286,
   "metadata": {},
   "outputs": [],
   "source": [
    "def freq_words(url):\n",
    "    html = requests.get(url).text\n",
    "    text = BeautifulSoup(html, 'lxml').get_text()\n",
    "    freqdist = nltk.FreqDist(\n",
    "        word.lower() \n",
    "        for word in nltk.word_tokenize(text)\n",
    "    )\n",
    "    return freqdist"
   ]
  },
  {
   "cell_type": "code",
   "execution_count": 287,
   "metadata": {},
   "outputs": [],
   "source": [
    "fd = freq_words(constitution)"
   ]
  },
  {
   "cell_type": "code",
   "execution_count": 288,
   "metadata": {},
   "outputs": [
    {
     "name": "stdout",
     "output_type": "stream",
     "text": [
      "[(\"''\", 374), (',', 189), (':1', 75), (':', 72), ('the', 71), ('{', 41), ('}', 41), (';', 40), ('of', 39), ('(', 28), (')', 28), (\"'\", 20), ('archives', 20), ('#', 20), ('and', 19), ('.', 16), ('[', 15), (']', 15), ('``', 15), ('national', 14)]\n"
     ]
    }
   ],
   "source": [
    "print(fd.most_common(20))"
   ]
  },
  {
   "cell_type": "code",
   "execution_count": 289,
   "metadata": {},
   "outputs": [],
   "source": [
    "# words = nltk.word_tokenize(nltk.clean_url(constitution))\n",
    "# fd = nltk.FreqDist(word.lower() for word in words)\n",
    "# fd.keys()[:20]"
   ]
  },
  {
   "cell_type": "markdown",
   "metadata": {},
   "source": [
    "### Documenting Functions"
   ]
  },
  {
   "cell_type": "markdown",
   "metadata": {},
   "source": [
    "If we have done a good job at decomposing our program into functions, then it should be easy to describe the purpose of each function in plain language, and provide this in the docstring at the top of the function definition. This statement should not explain how the functionality is implemented; in fact, it should be possible to reimplement the function using a different method without changing this statement."
   ]
  },
  {
   "cell_type": "code",
   "execution_count": 293,
   "metadata": {},
   "outputs": [],
   "source": [
    "def accuracy(reference, test):\n",
    "    \"\"\"\n",
    "    Calculate the fraction of test items that equal the corresponding reference items\n",
    "    \n",
    "    Given a list of reference values and a corresponding list of test values,\n",
    "    return the fraction of corresponding values that are equal.\n",
    "    In partical, return the fraction of indexs\n",
    "    {0<i<=len(test)}such that C{test[i] == reference[i]}.\n",
    "    \n",
    "    >>> accuracy(['ADJ', 'N', 'V','N'], ['N', 'N','V','ADJ'])\n",
    "    0.5\n",
    "    \n",
    "    @param reference: An ordered list of reference values.\n",
    "    @type reference: C{list}\n",
    "    @param test: A list of values to compare against the corresponding\n",
    "    reference values.\n",
    "    @type test: C{list}\n",
    "    @rtype: C{float}\n",
    "    @raise ValueError: If C{reference} and C{length} do not have the\n",
    "    same length.\n",
    "    \"\"\"\n",
    "    \n",
    "    if len(reference) != len(test):\n",
    "        raise ValueError(\"List must have the same length.\")\n",
    "    num_correct = 0\n",
    "    for x,y in zip(reference, test):\n",
    "        if x==y:\n",
    "            num_correct += 1\n",
    "    return float(num_correct)/len(reference)"
   ]
  },
  {
   "cell_type": "code",
   "execution_count": 294,
   "metadata": {},
   "outputs": [
    {
     "data": {
      "text/plain": [
       "0.5"
      ]
     },
     "execution_count": 294,
     "metadata": {},
     "output_type": "execute_result"
    }
   ],
   "source": [
    "accuracy(['ADJ', 'N', 'V','N'], ['N', 'N','V','ADJ'])"
   ]
  },
  {
   "cell_type": "markdown",
   "metadata": {},
   "source": [
    "## 4.5 Doing More with Functions"
   ]
  },
  {
   "cell_type": "markdown",
   "metadata": {},
   "source": [
    "This section discusses more advanced features, which you may prefer to skip on the first time through this chapter."
   ]
  },
  {
   "cell_type": "markdown",
   "metadata": {},
   "source": [
    "### Functions As Arguments"
   ]
  },
  {
   "cell_type": "code",
   "execution_count": 344,
   "metadata": {},
   "outputs": [],
   "source": [
    "sent = ['Take', 'care', 'of', 'the', 'sense', ',', 'and', 'the', \n",
    "       'sounds', 'will','take', 'care', 'of', 'themselves']"
   ]
  },
  {
   "cell_type": "code",
   "execution_count": 345,
   "metadata": {},
   "outputs": [],
   "source": [
    "def extract_property(prop):\n",
    "    return [prop(word) for word in sent]"
   ]
  },
  {
   "cell_type": "code",
   "execution_count": 346,
   "metadata": {},
   "outputs": [
    {
     "data": {
      "text/plain": [
       "[4, 4, 2, 3, 5, 1, 3, 3, 6, 4, 4, 4, 2, 10]"
      ]
     },
     "execution_count": 346,
     "metadata": {},
     "output_type": "execute_result"
    }
   ],
   "source": [
    "extract_property(len)"
   ]
  },
  {
   "cell_type": "code",
   "execution_count": 347,
   "metadata": {},
   "outputs": [],
   "source": [
    "def last_letter(word):\n",
    "    return word[-1]"
   ]
  },
  {
   "cell_type": "code",
   "execution_count": 348,
   "metadata": {},
   "outputs": [
    {
     "data": {
      "text/plain": [
       "['e', 'e', 'f', 'e', 'e', ',', 'd', 'e', 's', 'l', 'e', 'e', 'f', 's']"
      ]
     },
     "execution_count": 348,
     "metadata": {},
     "output_type": "execute_result"
    }
   ],
   "source": [
    "extract_property(last_letter)"
   ]
  },
  {
   "cell_type": "code",
   "execution_count": 349,
   "metadata": {},
   "outputs": [
    {
     "data": {
      "text/plain": [
       "['e', 'e', 'f', 'e', 'e', ',', 'd', 'e', 's', 'l', 'e', 'e', 'f', 's']"
      ]
     },
     "execution_count": 349,
     "metadata": {},
     "output_type": "execute_result"
    }
   ],
   "source": [
    "extract_property(lambda w: w[-1])"
   ]
  },
  {
   "cell_type": "code",
   "execution_count": 350,
   "metadata": {},
   "outputs": [
    {
     "data": {
      "text/plain": [
       "[',',\n",
       " 'Take',\n",
       " 'and',\n",
       " 'care',\n",
       " 'care',\n",
       " 'of',\n",
       " 'of',\n",
       " 'sense',\n",
       " 'sounds',\n",
       " 'take',\n",
       " 'the',\n",
       " 'the',\n",
       " 'themselves',\n",
       " 'will']"
      ]
     },
     "execution_count": 350,
     "metadata": {},
     "output_type": "execute_result"
    }
   ],
   "source": [
    "sorted(sent)"
   ]
  },
  {
   "cell_type": "code",
   "execution_count": 351,
   "metadata": {},
   "outputs": [
    {
     "data": {
      "text/plain": [
       "['will',\n",
       " 'themselves',\n",
       " 'the',\n",
       " 'the',\n",
       " 'take',\n",
       " 'sounds',\n",
       " 'sense',\n",
       " 'of',\n",
       " 'of',\n",
       " 'care',\n",
       " 'care',\n",
       " 'and',\n",
       " 'Take',\n",
       " ',']"
      ]
     },
     "execution_count": 351,
     "metadata": {},
     "output_type": "execute_result"
    }
   ],
   "source": [
    "sorted(sent, reverse=True)"
   ]
  },
  {
   "cell_type": "code",
   "execution_count": 360,
   "metadata": {},
   "outputs": [
    {
     "data": {
      "text/plain": [
       "[',',\n",
       " 'of',\n",
       " 'of',\n",
       " 'the',\n",
       " 'and',\n",
       " 'the',\n",
       " 'Take',\n",
       " 'care',\n",
       " 'will',\n",
       " 'take',\n",
       " 'care',\n",
       " 'sense',\n",
       " 'sounds',\n",
       " 'themselves']"
      ]
     },
     "execution_count": 360,
     "metadata": {},
     "output_type": "execute_result"
    }
   ],
   "source": [
    "# More efficient than via cmp_to_key\n",
    "sorted(sent, key=len)"
   ]
  },
  {
   "cell_type": "code",
   "execution_count": 361,
   "metadata": {},
   "outputs": [
    {
     "data": {
      "text/plain": [
       "[',',\n",
       " 'of',\n",
       " 'of',\n",
       " 'the',\n",
       " 'and',\n",
       " 'the',\n",
       " 'Take',\n",
       " 'care',\n",
       " 'will',\n",
       " 'take',\n",
       " 'care',\n",
       " 'sense',\n",
       " 'sounds',\n",
       " 'themselves']"
      ]
     },
     "execution_count": 361,
     "metadata": {},
     "output_type": "execute_result"
    }
   ],
   "source": [
    "from functools import cmp_to_key\n",
    "\n",
    "sorted(sent, key=cmp_to_key(lambda x, y: len(x) - len(y)))"
   ]
  },
  {
   "cell_type": "markdown",
   "metadata": {},
   "source": [
    "### Accumulative Functions"
   ]
  },
  {
   "cell_type": "code",
   "execution_count": 362,
   "metadata": {},
   "outputs": [],
   "source": [
    "def search1(substring, words):\n",
    "    result = []\n",
    "    for word in words:\n",
    "        if substring in word:\n",
    "            result.append(word)\n",
    "    return result"
   ]
  },
  {
   "cell_type": "code",
   "execution_count": 363,
   "metadata": {},
   "outputs": [],
   "source": [
    "def search2(substring, words):\n",
    "    for word in words:\n",
    "        if substring in word:\n",
    "            yield word"
   ]
  },
  {
   "cell_type": "code",
   "execution_count": 364,
   "metadata": {},
   "outputs": [
    {
     "name": "stdout",
     "output_type": "stream",
     "text": [
      "search1:\n",
      "Grizzlies'\n",
      "fizzled\n",
      "Rizzuto\n",
      "huzzahs\n",
      "dazzler\n",
      "jazz\n",
      "Pezza\n",
      "Pezza\n",
      "Pezza\n",
      "embezzling\n",
      "embezzlement\n",
      "pizza\n",
      "jazz\n",
      "Ozzie\n",
      "nozzle\n",
      "drizzly\n",
      "puzzle\n",
      "puzzle\n",
      "dazzling\n",
      "Sizzling\n",
      "guzzle\n",
      "puzzles\n",
      "dazzling\n",
      "jazz\n",
      "jazz\n",
      "Jazz\n",
      "jazz\n",
      "Jazz\n",
      "jazz\n",
      "jazz\n",
      "Jazz\n",
      "jazz\n",
      "jazz\n",
      "jazz\n",
      "Jazz\n",
      "jazz\n",
      "dizzy\n",
      "jazz\n",
      "Jazz\n",
      "puzzler\n",
      "jazz\n",
      "jazzmen\n",
      "jazz\n",
      "jazz\n",
      "Jazz\n",
      "Jazz\n",
      "Jazz\n",
      "jazz\n",
      "Jazz\n",
      "jazz\n",
      "jazz\n",
      "jazz\n",
      "Jazz\n",
      "jazz\n",
      "jazz\n",
      "jazz\n",
      "jazz\n",
      "jazz\n",
      "jazz\n",
      "jazz\n",
      "jazz\n",
      "jazz\n",
      "Jazz\n",
      "Jazz\n",
      "jazz\n",
      "jazz\n",
      "nozzles\n",
      "nozzle\n",
      "puzzle\n",
      "buzz\n",
      "puzzle\n",
      "blizzard\n",
      "blizzard\n",
      "sizzling\n",
      "puzzled\n",
      "puzzle\n",
      "puzzle\n",
      "muzzle\n",
      "muzzle\n",
      "muezzin\n",
      "blizzard\n",
      "Neo-Jazz\n",
      "jazz\n",
      "muzzle\n",
      "piazzas\n",
      "puzzles\n",
      "puzzles\n",
      "embezzle\n",
      "buzzed\n",
      "snazzy\n",
      "buzzes\n",
      "puzzled\n",
      "puzzled\n",
      "muzzle\n",
      "whizzing\n",
      "jazz\n",
      "Belshazzar\n",
      "Lizzie\n",
      "Lizzie\n",
      "Lizzie\n",
      "Lizzie\n",
      "Lizzie\n",
      "Lizzie\n",
      "Lizzie\n",
      "Lizzie\n",
      "Lizzie's\n",
      "Lizzie\n",
      "Lizzie\n",
      "Lizzie\n",
      "Lizzie\n",
      "Lizzie\n",
      "Lizzie\n",
      "Lizzie\n",
      "Lizzie\n",
      "Lizzie\n",
      "blizzard\n",
      "blizzards\n",
      "blizzard\n",
      "blizzard\n",
      "fuzzy\n",
      "Lazzeri\n",
      "Piazza\n",
      "piazza\n",
      "palazzi\n",
      "Piazza\n",
      "Piazza\n",
      "Palazzo\n",
      "Palazzo\n",
      "Palazzo\n",
      "Piazza\n",
      "Piazza\n",
      "Palazzo\n",
      "palazzo\n",
      "palazzo\n",
      "Palazzo\n",
      "Palazzo\n",
      "Piazza\n",
      "piazza\n",
      "piazza\n",
      "piazza\n",
      "Piazza\n",
      "Piazza\n",
      "Palazzo\n",
      "palazzo\n",
      "Piazza\n",
      "piazza\n",
      "pizza\n",
      "Piazza\n",
      "Palazzo\n",
      "palazzo\n",
      "dazzling\n",
      "puzzling\n",
      "Wozzek\n",
      "dazzling\n",
      "dazzling\n",
      "buzzing\n",
      "Jazz\n",
      "jazz\n",
      "Jazz\n",
      "Jazz\n",
      "jazz\n",
      "jazz\n",
      "jazz\n",
      "jazz\n",
      "Jazz\n",
      "jazz\n",
      "jazz\n",
      "jazz\n",
      "Fuzzy\n",
      "Lizzy\n",
      "Lizzy\n",
      "jazz\n",
      "fuzzy\n",
      "puzzles\n",
      "puzzling\n",
      "puzzling\n",
      "dazzle\n",
      "puzzle\n",
      "dazzling\n",
      "puzzled\n",
      "jazz\n",
      "jazz\n",
      "jazz\n",
      "jazzy\n",
      "whizzed\n",
      "frazzled\n",
      "quizzical\n",
      "puzzling\n",
      "poetry-and-jazz\n",
      "poetry-and-jazz\n",
      "jazz\n",
      "jazz\n",
      "jazz\n",
      "jazz\n",
      "jazz\n",
      "jazz\n",
      "jazz\n",
      "Jazz\n",
      "jazz\n",
      "jazz\n",
      "jazz\n",
      "poetry-and-jazz\n",
      "jazz\n",
      "jazz\n",
      "jazz\n",
      "Dizzy\n",
      "jazz\n",
      "jazz\n",
      "jazz\n",
      "jazz\n",
      "jazz\n",
      "poetry-and-jazz\n",
      "jazz\n",
      "jazz\n",
      "jazz\n",
      "jazz\n",
      "jazz\n",
      "jazz\n",
      "jazz\n",
      "jazz\n",
      "jazz\n",
      "jazz\n",
      "jazz\n",
      "jazz\n",
      "dazzled\n",
      "bedazzlement\n",
      "bedazzled\n",
      "Piazzo\n",
      "nozzles\n",
      "nozzles\n",
      "buzzing\n",
      "dazzles\n",
      "dizzy\n",
      "puzzling\n",
      "puzzling\n",
      "puzzling\n",
      "puzzle\n",
      "muzzle\n",
      "puzzled\n",
      "nozzle\n",
      "Pozzatti\n",
      "Pozzatti\n",
      "Pozzatti\n",
      "puzzled\n",
      "Pozzatti\n",
      "Pozzatti\n",
      "dazzling\n",
      "pizzicato\n",
      "Jazz\n",
      "jazz\n",
      "jazz\n",
      "jazz\n",
      "jazz\n",
      "nozzle\n",
      "grizzled\n",
      "fuzzy\n",
      "muzzle\n",
      "puzzled\n",
      "puzzle\n",
      "muzzle\n",
      "blizzard\n",
      "buzz\n",
      "dizzily\n",
      "drizzle\n",
      "drizzle\n",
      "drizzle\n",
      "sizzled\n",
      "puzzled\n",
      "puzzled\n",
      "puzzled\n",
      "fuzzed\n",
      "buzz\n",
      "buzz\n",
      "buzz\n",
      "buzz-buzz-buzz\n",
      "buzzes\n",
      "fuzzy\n",
      "frizzled\n",
      "drizzle\n",
      "drizzle\n",
      "drizzling\n",
      "drizzling\n",
      "fuzz\n",
      "jazz\n",
      "jazz\n",
      "fuzz\n",
      "puzzle\n",
      "puzzling\n",
      "Nozze\n",
      "mezzo\n",
      "puzzled\n",
      "puzzled\n",
      "dazzling\n",
      "muzzle\n",
      "muzzle\n",
      "muzzle\n",
      "buzzed\n",
      "whizzed\n",
      "sizzled\n",
      "palazzos\n",
      "puzzlement\n",
      "frizzling\n",
      "puzzled\n",
      "puzzled\n",
      "puzzled\n",
      "dazzling\n",
      "muzzles\n",
      "fuzzy\n",
      "jazz\n",
      "ex-jazz\n",
      "sizzle\n",
      "grizzly\n",
      "guzzled\n",
      "buzzing\n",
      "fuzz\n",
      "nuzzled\n",
      "Kizzie\n",
      "Kizzie\n",
      "Kizzie\n",
      "Kezziah\n",
      "Kizzie\n",
      "Kizzie\n",
      "Buzz's\n",
      "Buzz\n",
      "Buzz\n",
      "Buzz\n",
      "Buzz\n",
      "Buzz\n",
      "Buzz\n",
      "Buzz\n",
      "Buzz\n",
      "dizzy\n",
      "piazza\n",
      "buzzing\n",
      "Puzzled\n",
      "dizziness\n",
      "dazzled\n",
      "Piazza\n",
      "Carrozza\n",
      "fuzzy\n",
      "dizzy\n",
      "buzzing\n",
      "buzzing\n",
      "puzzled\n",
      "puzzling\n",
      "puzzled\n",
      "puzzled\n",
      "Quizzical\n",
      "pizza\n"
     ]
    }
   ],
   "source": [
    "print(\"search1:\")\n",
    "for item in search1('zz', nltk.corpus.brown.words()):\n",
    "    print(item)"
   ]
  },
  {
   "cell_type": "code",
   "execution_count": 365,
   "metadata": {
    "scrolled": true
   },
   "outputs": [
    {
     "name": "stdout",
     "output_type": "stream",
     "text": [
      "search2:\n",
      "Grizzlies'\n",
      "fizzled\n",
      "Rizzuto\n",
      "huzzahs\n",
      "dazzler\n",
      "jazz\n",
      "Pezza\n",
      "Pezza\n",
      "Pezza\n",
      "embezzling\n",
      "embezzlement\n",
      "pizza\n",
      "jazz\n",
      "Ozzie\n",
      "nozzle\n",
      "drizzly\n",
      "puzzle\n",
      "puzzle\n",
      "dazzling\n",
      "Sizzling\n",
      "guzzle\n",
      "puzzles\n",
      "dazzling\n",
      "jazz\n",
      "jazz\n",
      "Jazz\n",
      "jazz\n",
      "Jazz\n",
      "jazz\n",
      "jazz\n",
      "Jazz\n",
      "jazz\n",
      "jazz\n",
      "jazz\n",
      "Jazz\n",
      "jazz\n",
      "dizzy\n",
      "jazz\n",
      "Jazz\n",
      "puzzler\n",
      "jazz\n",
      "jazzmen\n",
      "jazz\n",
      "jazz\n",
      "Jazz\n",
      "Jazz\n",
      "Jazz\n",
      "jazz\n",
      "Jazz\n",
      "jazz\n",
      "jazz\n",
      "jazz\n",
      "Jazz\n",
      "jazz\n",
      "jazz\n",
      "jazz\n",
      "jazz\n",
      "jazz\n",
      "jazz\n",
      "jazz\n",
      "jazz\n",
      "jazz\n",
      "Jazz\n",
      "Jazz\n",
      "jazz\n",
      "jazz\n",
      "nozzles\n",
      "nozzle\n",
      "puzzle\n",
      "buzz\n",
      "puzzle\n",
      "blizzard\n",
      "blizzard\n",
      "sizzling\n",
      "puzzled\n",
      "puzzle\n",
      "puzzle\n",
      "muzzle\n",
      "muzzle\n",
      "muezzin\n",
      "blizzard\n",
      "Neo-Jazz\n",
      "jazz\n",
      "muzzle\n",
      "piazzas\n",
      "puzzles\n",
      "puzzles\n",
      "embezzle\n",
      "buzzed\n",
      "snazzy\n",
      "buzzes\n",
      "puzzled\n",
      "puzzled\n",
      "muzzle\n",
      "whizzing\n",
      "jazz\n",
      "Belshazzar\n",
      "Lizzie\n",
      "Lizzie\n",
      "Lizzie\n",
      "Lizzie\n",
      "Lizzie\n",
      "Lizzie\n",
      "Lizzie\n",
      "Lizzie\n",
      "Lizzie's\n",
      "Lizzie\n",
      "Lizzie\n",
      "Lizzie\n",
      "Lizzie\n",
      "Lizzie\n",
      "Lizzie\n",
      "Lizzie\n",
      "Lizzie\n",
      "Lizzie\n",
      "blizzard\n",
      "blizzards\n",
      "blizzard\n",
      "blizzard\n",
      "fuzzy\n",
      "Lazzeri\n",
      "Piazza\n",
      "piazza\n",
      "palazzi\n",
      "Piazza\n",
      "Piazza\n",
      "Palazzo\n",
      "Palazzo\n",
      "Palazzo\n",
      "Piazza\n",
      "Piazza\n",
      "Palazzo\n",
      "palazzo\n",
      "palazzo\n",
      "Palazzo\n",
      "Palazzo\n",
      "Piazza\n",
      "piazza\n",
      "piazza\n",
      "piazza\n",
      "Piazza\n",
      "Piazza\n",
      "Palazzo\n",
      "palazzo\n",
      "Piazza\n",
      "piazza\n",
      "pizza\n",
      "Piazza\n",
      "Palazzo\n",
      "palazzo\n",
      "dazzling\n",
      "puzzling\n",
      "Wozzek\n",
      "dazzling\n",
      "dazzling\n",
      "buzzing\n",
      "Jazz\n",
      "jazz\n",
      "Jazz\n",
      "Jazz\n",
      "jazz\n",
      "jazz\n",
      "jazz\n",
      "jazz\n",
      "Jazz\n",
      "jazz\n",
      "jazz\n",
      "jazz\n",
      "Fuzzy\n",
      "Lizzy\n",
      "Lizzy\n",
      "jazz\n",
      "fuzzy\n",
      "puzzles\n",
      "puzzling\n",
      "puzzling\n",
      "dazzle\n",
      "puzzle\n",
      "dazzling\n",
      "puzzled\n",
      "jazz\n",
      "jazz\n",
      "jazz\n",
      "jazzy\n",
      "whizzed\n",
      "frazzled\n",
      "quizzical\n",
      "puzzling\n",
      "poetry-and-jazz\n",
      "poetry-and-jazz\n",
      "jazz\n",
      "jazz\n",
      "jazz\n",
      "jazz\n",
      "jazz\n",
      "jazz\n",
      "jazz\n",
      "Jazz\n",
      "jazz\n",
      "jazz\n",
      "jazz\n",
      "poetry-and-jazz\n",
      "jazz\n",
      "jazz\n",
      "jazz\n",
      "Dizzy\n",
      "jazz\n",
      "jazz\n",
      "jazz\n",
      "jazz\n",
      "jazz\n",
      "poetry-and-jazz\n",
      "jazz\n",
      "jazz\n",
      "jazz\n",
      "jazz\n",
      "jazz\n",
      "jazz\n",
      "jazz\n",
      "jazz\n",
      "jazz\n",
      "jazz\n",
      "jazz\n",
      "jazz\n",
      "dazzled\n",
      "bedazzlement\n",
      "bedazzled\n",
      "Piazzo\n",
      "nozzles\n",
      "nozzles\n",
      "buzzing\n",
      "dazzles\n",
      "dizzy\n",
      "puzzling\n",
      "puzzling\n",
      "puzzling\n",
      "puzzle\n",
      "muzzle\n",
      "puzzled\n",
      "nozzle\n",
      "Pozzatti\n",
      "Pozzatti\n",
      "Pozzatti\n",
      "puzzled\n",
      "Pozzatti\n",
      "Pozzatti\n",
      "dazzling\n",
      "pizzicato\n",
      "Jazz\n",
      "jazz\n",
      "jazz\n",
      "jazz\n",
      "jazz\n",
      "nozzle\n",
      "grizzled\n",
      "fuzzy\n",
      "muzzle\n",
      "puzzled\n",
      "puzzle\n",
      "muzzle\n",
      "blizzard\n",
      "buzz\n",
      "dizzily\n",
      "drizzle\n",
      "drizzle\n",
      "drizzle\n",
      "sizzled\n",
      "puzzled\n",
      "puzzled\n",
      "puzzled\n",
      "fuzzed\n",
      "buzz\n",
      "buzz\n",
      "buzz\n",
      "buzz-buzz-buzz\n",
      "buzzes\n",
      "fuzzy\n",
      "frizzled\n",
      "drizzle\n",
      "drizzle\n",
      "drizzling\n",
      "drizzling\n",
      "fuzz\n",
      "jazz\n",
      "jazz\n",
      "fuzz\n",
      "puzzle\n",
      "puzzling\n",
      "Nozze\n",
      "mezzo\n",
      "puzzled\n",
      "puzzled\n",
      "dazzling\n",
      "muzzle\n",
      "muzzle\n",
      "muzzle\n",
      "buzzed\n",
      "whizzed\n",
      "sizzled\n",
      "palazzos\n",
      "puzzlement\n",
      "frizzling\n",
      "puzzled\n",
      "puzzled\n",
      "puzzled\n",
      "dazzling\n",
      "muzzles\n",
      "fuzzy\n",
      "jazz\n",
      "ex-jazz\n",
      "sizzle\n",
      "grizzly\n",
      "guzzled\n",
      "buzzing\n",
      "fuzz\n",
      "nuzzled\n",
      "Kizzie\n",
      "Kizzie\n",
      "Kizzie\n",
      "Kezziah\n",
      "Kizzie\n",
      "Kizzie\n",
      "Buzz's\n",
      "Buzz\n",
      "Buzz\n",
      "Buzz\n",
      "Buzz\n",
      "Buzz\n",
      "Buzz\n",
      "Buzz\n",
      "Buzz\n",
      "dizzy\n",
      "piazza\n",
      "buzzing\n",
      "Puzzled\n",
      "dizziness\n",
      "dazzled\n",
      "Piazza\n",
      "Carrozza\n",
      "fuzzy\n",
      "dizzy\n",
      "buzzing\n",
      "buzzing\n",
      "puzzled\n",
      "puzzling\n",
      "puzzled\n",
      "puzzled\n",
      "Quizzical\n",
      "pizza\n"
     ]
    }
   ],
   "source": [
    "print(\"search2:\")\n",
    "for item in search2('zz', nltk.corpus.brown.words()):\n",
    "    print(item)"
   ]
  },
  {
   "cell_type": "code",
   "execution_count": 366,
   "metadata": {},
   "outputs": [],
   "source": [
    "def permutations(seq):\n",
    "    if len(seq) <= 1:\n",
    "        yield seq\n",
    "    else:\n",
    "        for perm in permutations(seq[1:]):\n",
    "            for i in range(len(perm)+1):\n",
    "                yield perm[:i] + seq[0:1] + perm[i:]"
   ]
  },
  {
   "cell_type": "code",
   "execution_count": 367,
   "metadata": {},
   "outputs": [
    {
     "data": {
      "text/plain": [
       "[['police', 'fish', 'buffalo'],\n",
       " ['fish', 'police', 'buffalo'],\n",
       " ['fish', 'buffalo', 'police'],\n",
       " ['police', 'buffalo', 'fish'],\n",
       " ['buffalo', 'police', 'fish'],\n",
       " ['buffalo', 'fish', 'police']]"
      ]
     },
     "execution_count": 367,
     "metadata": {},
     "output_type": "execute_result"
    }
   ],
   "source": [
    "list(permutations(['police', 'fish', 'buffalo']))"
   ]
  },
  {
   "cell_type": "markdown",
   "metadata": {},
   "source": [
    "### Higher-Order Functions"
   ]
  },
  {
   "cell_type": "markdown",
   "metadata": {},
   "source": [
    "These functions start by initializing some storage, and iterate over input to build it up,before returning some final object (a large structure or aggregated result). A standard way to do this is to initialize an empty list, accumulate the material, then return the list, as shown in function search1() in next:"
   ]
  },
  {
   "cell_type": "code",
   "execution_count": 368,
   "metadata": {},
   "outputs": [],
   "source": [
    "def is_content_word(word):\n",
    "    return word.lower() not in ['a', 'of', 'the', 'and', 'will', ',', '.']"
   ]
  },
  {
   "cell_type": "code",
   "execution_count": 369,
   "metadata": {},
   "outputs": [],
   "source": [
    "sent = ['Take', 'care', 'of', 'the', 'sense', ',', 'and', 'the',\n",
    "        'sounds', 'will', 'take', 'care', 'of', 'themselves', '.']"
   ]
  },
  {
   "cell_type": "code",
   "execution_count": 370,
   "metadata": {},
   "outputs": [
    {
     "data": {
      "text/plain": [
       "['Take', 'care', 'sense', 'sounds', 'take', 'care', 'themselves']"
      ]
     },
     "execution_count": 370,
     "metadata": {},
     "output_type": "execute_result"
    }
   ],
   "source": [
    "list(filter(is_content_word, sent))"
   ]
  },
  {
   "cell_type": "code",
   "execution_count": 371,
   "metadata": {},
   "outputs": [
    {
     "data": {
      "text/plain": [
       "['Take', 'care', 'sense', 'sounds', 'take', 'care', 'themselves']"
      ]
     },
     "execution_count": 371,
     "metadata": {},
     "output_type": "execute_result"
    }
   ],
   "source": [
    "[w for w in sent if is_content_word(w)]"
   ]
  },
  {
   "cell_type": "code",
   "execution_count": 372,
   "metadata": {},
   "outputs": [],
   "source": [
    "lengths = list(map(len, nltk.corpus.brown.sents(categories='news')))"
   ]
  },
  {
   "cell_type": "code",
   "execution_count": 373,
   "metadata": {},
   "outputs": [
    {
     "data": {
      "text/plain": [
       "21.75081116158339"
      ]
     },
     "execution_count": 373,
     "metadata": {},
     "output_type": "execute_result"
    }
   ],
   "source": [
    "sum(lengths) / len(lengths)"
   ]
  },
  {
   "cell_type": "code",
   "execution_count": 374,
   "metadata": {},
   "outputs": [],
   "source": [
    "lengths = [len(w) for w in nltk.corpus.brown.sents(categories='news')]"
   ]
  },
  {
   "cell_type": "code",
   "execution_count": 375,
   "metadata": {},
   "outputs": [
    {
     "data": {
      "text/plain": [
       "21.75081116158339"
      ]
     },
     "execution_count": 375,
     "metadata": {},
     "output_type": "execute_result"
    }
   ],
   "source": [
    "sum(lengths) / len(lengths)"
   ]
  },
  {
   "cell_type": "code",
   "execution_count": 376,
   "metadata": {},
   "outputs": [
    {
     "data": {
      "text/plain": [
       "[2, 2, 1, 1, 2, 0, 1, 1, 2, 1, 2, 2, 1, 3, 0]"
      ]
     },
     "execution_count": 376,
     "metadata": {},
     "output_type": "execute_result"
    }
   ],
   "source": [
    "list(map(lambda w: len(list(filter(lambda c: c.lower() in \"aeiou\", w))), sent))"
   ]
  },
  {
   "cell_type": "code",
   "execution_count": 377,
   "metadata": {},
   "outputs": [
    {
     "data": {
      "text/plain": [
       "[2, 2, 1, 1, 2, 0, 1, 1, 2, 1, 2, 2, 1, 3, 0]"
      ]
     },
     "execution_count": 377,
     "metadata": {},
     "output_type": "execute_result"
    }
   ],
   "source": [
    "[len([c for c in w if c.lower() in \"aeiou\"]) for w in sent]"
   ]
  },
  {
   "cell_type": "markdown",
   "metadata": {},
   "source": [
    "### Named Arguments"
   ]
  },
  {
   "cell_type": "markdown",
   "metadata": {},
   "source": [
    "When there are a lot of parameters it is easy to get confused about the correct order. Instead we can refer to parameters by name, and even assign them a default value just in case one was not provided by the calling program."
   ]
  },
  {
   "cell_type": "code",
   "execution_count": 1,
   "metadata": {},
   "outputs": [],
   "source": [
    "def repeat(msg='<empty>', num=1):\n",
    "    return msg * num"
   ]
  },
  {
   "cell_type": "code",
   "execution_count": 2,
   "metadata": {},
   "outputs": [
    {
     "data": {
      "text/plain": [
       "'<empty><empty><empty>'"
      ]
     },
     "execution_count": 2,
     "metadata": {},
     "output_type": "execute_result"
    }
   ],
   "source": [
    "repeat(num=3)"
   ]
  },
  {
   "cell_type": "code",
   "execution_count": 3,
   "metadata": {},
   "outputs": [
    {
     "data": {
      "text/plain": [
       "'Alice'"
      ]
     },
     "execution_count": 3,
     "metadata": {},
     "output_type": "execute_result"
    }
   ],
   "source": [
    "repeat(msg='Alice')"
   ]
  },
  {
   "cell_type": "code",
   "execution_count": 4,
   "metadata": {},
   "outputs": [
    {
     "data": {
      "text/plain": [
       "'AliceAliceAliceAliceAlice'"
      ]
     },
     "execution_count": 4,
     "metadata": {},
     "output_type": "execute_result"
    }
   ],
   "source": [
    "repeat(num=5, msg='Alice')"
   ]
  },
  {
   "cell_type": "code",
   "execution_count": 5,
   "metadata": {},
   "outputs": [],
   "source": [
    "def generic(*args, **kwargs):\n",
    "    print(args)\n",
    "    print(kwargs)"
   ]
  },
  {
   "cell_type": "code",
   "execution_count": 6,
   "metadata": {},
   "outputs": [
    {
     "name": "stdout",
     "output_type": "stream",
     "text": [
      "(1, 'African swallow')\n",
      "{'monty': 'python'}\n"
     ]
    }
   ],
   "source": [
    "generic(1, \"African swallow\", monty=\"python\")"
   ]
  },
  {
   "cell_type": "code",
   "execution_count": 7,
   "metadata": {},
   "outputs": [],
   "source": [
    "song = [['four', 'calling', 'birds'],\n",
    "        ['three', 'French', 'hens'],\n",
    "        ['two', 'turtle', 'doves']]"
   ]
  },
  {
   "cell_type": "code",
   "execution_count": 8,
   "metadata": {},
   "outputs": [
    {
     "data": {
      "text/plain": [
       "[('four', 'three', 'two'),\n",
       " ('calling', 'French', 'turtle'),\n",
       " ('birds', 'hens', 'doves')]"
      ]
     },
     "execution_count": 8,
     "metadata": {},
     "output_type": "execute_result"
    }
   ],
   "source": [
    "list(zip(song[0], song[1], song[2]))"
   ]
  },
  {
   "cell_type": "code",
   "execution_count": 9,
   "metadata": {},
   "outputs": [
    {
     "data": {
      "text/plain": [
       "[('four', 'three', 'two'),\n",
       " ('calling', 'French', 'turtle'),\n",
       " ('birds', 'hens', 'doves')]"
      ]
     },
     "execution_count": 9,
     "metadata": {},
     "output_type": "execute_result"
    }
   ],
   "source": [
    "list(zip(*song))"
   ]
  },
  {
   "cell_type": "code",
   "execution_count": 15,
   "metadata": {},
   "outputs": [],
   "source": [
    "import nltk\n",
    "from nltk.corpus import gutenberg\n",
    "from nltk.probability import FreqDist"
   ]
  },
  {
   "cell_type": "code",
   "execution_count": 16,
   "metadata": {},
   "outputs": [],
   "source": [
    "def freq_words(file, min=1, num=10):\n",
    "    text = open(file).read()\n",
    "    tokens = nltk.word_tokenize(text)\n",
    "    freqdist = FreqDist(t for t in tokens if len(t) >= min)\n",
    "    return freqdist.most_common(num)"
   ]
  },
  {
   "cell_type": "code",
   "execution_count": 17,
   "metadata": {},
   "outputs": [],
   "source": [
    "fw = freq_words(gutenberg.abspath('carroll-alice.txt'), 4, 10)"
   ]
  },
  {
   "cell_type": "code",
   "execution_count": 18,
   "metadata": {},
   "outputs": [],
   "source": [
    "fw = freq_words(gutenberg.abspath('carroll-alice.txt'), min=4, num=10)"
   ]
  },
  {
   "cell_type": "code",
   "execution_count": 19,
   "metadata": {},
   "outputs": [],
   "source": [
    "fw = freq_words(gutenberg.abspath('carroll-alice.txt'), num=10, min=4)"
   ]
  },
  {
   "cell_type": "code",
   "execution_count": 20,
   "metadata": {},
   "outputs": [],
   "source": [
    "def freq_words(file, min=1, num=10, trace=False):\n",
    "    freqdist = FreqDist()\n",
    "    if trace: print(\"Opening\", file)\n",
    "    text = open(file).read()\n",
    "    if trace: print(\"Read in %d characters\" % len(text))\n",
    "    for word in nltk.word_tokenize(text):\n",
    "        if len(word) >= min:\n",
    "            freqdist[word] += 1\n",
    "            if trace and freqdist.N() % 100 == 0: print(\".\")\n",
    "    if trace: print()\n",
    "    return freqdist.most_common(num)"
   ]
  },
  {
   "cell_type": "code",
   "execution_count": 21,
   "metadata": {},
   "outputs": [
    {
     "name": "stdout",
     "output_type": "stream",
     "text": [
      "Opening C:\\Users\\JafarauR\\AppData\\Roaming\\nltk_data\\corpora\\gutenberg\\carroll-alice.txt\n",
      "Read in 144395 characters\n",
      ".\n",
      ".\n",
      ".\n",
      ".\n",
      ".\n",
      ".\n",
      ".\n",
      ".\n",
      ".\n",
      ".\n",
      ".\n",
      ".\n",
      ".\n",
      ".\n",
      ".\n",
      ".\n",
      ".\n",
      ".\n",
      ".\n",
      ".\n",
      ".\n",
      ".\n",
      ".\n",
      ".\n",
      ".\n",
      ".\n",
      ".\n",
      ".\n",
      ".\n",
      ".\n",
      ".\n",
      ".\n",
      ".\n",
      ".\n",
      ".\n",
      ".\n",
      ".\n",
      ".\n",
      ".\n",
      ".\n",
      ".\n",
      ".\n",
      ".\n",
      ".\n",
      ".\n",
      ".\n",
      ".\n",
      ".\n",
      ".\n",
      ".\n",
      ".\n",
      ".\n",
      ".\n",
      ".\n",
      ".\n",
      ".\n",
      ".\n",
      ".\n",
      ".\n",
      ".\n",
      ".\n",
      ".\n",
      ".\n",
      ".\n",
      ".\n",
      ".\n",
      ".\n",
      ".\n",
      ".\n",
      ".\n",
      ".\n",
      ".\n",
      ".\n",
      ".\n",
      ".\n",
      ".\n",
      ".\n",
      ".\n",
      ".\n",
      ".\n",
      ".\n",
      ".\n",
      ".\n",
      ".\n",
      ".\n",
      ".\n",
      ".\n",
      ".\n",
      ".\n",
      ".\n",
      ".\n",
      ".\n",
      ".\n",
      ".\n",
      ".\n",
      ".\n",
      ".\n",
      ".\n",
      ".\n",
      ".\n",
      ".\n",
      ".\n",
      ".\n",
      ".\n",
      ".\n",
      ".\n",
      ".\n",
      ".\n",
      ".\n",
      ".\n",
      ".\n",
      ".\n",
      ".\n",
      ".\n",
      ".\n",
      ".\n",
      ".\n",
      ".\n",
      ".\n",
      ".\n",
      ".\n",
      ".\n",
      ".\n",
      ".\n",
      ".\n",
      ".\n",
      ".\n",
      ".\n",
      ".\n",
      ".\n",
      ".\n",
      ".\n",
      ".\n",
      ".\n",
      ".\n",
      ".\n",
      ".\n",
      ".\n",
      ".\n",
      ".\n",
      ".\n",
      ".\n",
      ".\n",
      "\n"
     ]
    }
   ],
   "source": [
    "fw = freq_words(gutenberg.abspath('carroll-alice.txt'), num=10, min=4, trace=True)"
   ]
  },
  {
   "cell_type": "markdown",
   "metadata": {},
   "source": [
    "## 4.6 Program Development"
   ]
  },
  {
   "cell_type": "markdown",
   "metadata": {},
   "source": [
    "Programming is a skill that is acquired over several years of experience with a variety of programming languages and tasks. Key high-level abilities are algorithm design and its manifestation in structured programming. Key low-level abilities include familiarity with the syntactic constructs of the language, and knowledge of a variety of diagnostic methods for trouble-shooting a program which does not exhibit the expected behavior."
   ]
  },
  {
   "cell_type": "markdown",
   "metadata": {},
   "source": [
    "### Structure of a Python Module"
   ]
  },
  {
   "cell_type": "code",
   "execution_count": 31,
   "metadata": {},
   "outputs": [
    {
     "data": {
      "text/plain": [
       "'C:\\\\ProgramData\\\\Anaconda3\\\\lib\\\\site-packages\\\\nltk\\\\probability.py'"
      ]
     },
     "execution_count": 31,
     "metadata": {},
     "output_type": "execute_result"
    }
   ],
   "source": [
    "nltk.probability.__file__"
   ]
  },
  {
   "cell_type": "code",
   "execution_count": 32,
   "metadata": {},
   "outputs": [
    {
     "name": "stdout",
     "output_type": "stream",
     "text": [
      "Help on module nltk.probability in nltk:\n",
      "\n",
      "NAME\n",
      "    nltk.probability - Classes for representing and processing probabilistic information.\n",
      "\n",
      "DESCRIPTION\n",
      "    The ``FreqDist`` class is used to encode \"frequency distributions\",\n",
      "    which count the number of times that each outcome of an experiment\n",
      "    occurs.\n",
      "    \n",
      "    The ``ProbDistI`` class defines a standard interface for \"probability\n",
      "    distributions\", which encode the probability of each outcome for an\n",
      "    experiment.  There are two types of probability distribution:\n",
      "    \n",
      "      - \"derived probability distributions\" are created from frequency\n",
      "        distributions.  They attempt to model the probability distribution\n",
      "        that generated the frequency distribution.\n",
      "      - \"analytic probability distributions\" are created directly from\n",
      "        parameters (such as variance).\n",
      "    \n",
      "    The ``ConditionalFreqDist`` class and ``ConditionalProbDistI`` interface\n",
      "    are used to encode conditional distributions.  Conditional probability\n",
      "    distributions can be derived or analytic; but currently the only\n",
      "    implementation of the ``ConditionalProbDistI`` interface is\n",
      "    ``ConditionalProbDist``, a derived distribution.\n",
      "\n",
      "CLASSES\n",
      "    builtins.dict(builtins.object)\n",
      "        ConditionalProbDistI\n",
      "            ConditionalProbDist\n",
      "            DictionaryConditionalProbDist\n",
      "    builtins.object\n",
      "        ProbDistI\n",
      "            CrossValidationProbDist\n",
      "            DictionaryProbDist\n",
      "            HeldoutProbDist\n",
      "            KneserNeyProbDist\n",
      "            LidstoneProbDist\n",
      "                ELEProbDist\n",
      "                LaplaceProbDist\n",
      "            MLEProbDist\n",
      "            MutableProbDist\n",
      "            SimpleGoodTuringProbDist\n",
      "            UniformProbDist\n",
      "            WittenBellProbDist\n",
      "        ProbabilisticMixIn\n",
      "            ImmutableProbabilisticMixIn\n",
      "    collections.Counter(builtins.dict)\n",
      "        FreqDist\n",
      "    collections.defaultdict(builtins.dict)\n",
      "        ConditionalFreqDist\n",
      "    \n",
      "    class ConditionalFreqDist(collections.defaultdict)\n",
      "     |  ConditionalFreqDist(cond_samples=None)\n",
      "     |  \n",
      "     |  A collection of frequency distributions for a single experiment\n",
      "     |  run under different conditions.  Conditional frequency\n",
      "     |  distributions are used to record the number of times each sample\n",
      "     |  occurred, given the condition under which the experiment was run.\n",
      "     |  For example, a conditional frequency distribution could be used to\n",
      "     |  record the frequency of each word (type) in a document, given its\n",
      "     |  length.  Formally, a conditional frequency distribution can be\n",
      "     |  defined as a function that maps from each condition to the\n",
      "     |  FreqDist for the experiment under that condition.\n",
      "     |  \n",
      "     |  Conditional frequency distributions are typically constructed by\n",
      "     |  repeatedly running an experiment under a variety of conditions,\n",
      "     |  and incrementing the sample outcome counts for the appropriate\n",
      "     |  conditions.  For example, the following code will produce a\n",
      "     |  conditional frequency distribution that encodes how often each\n",
      "     |  word type occurs, given the length of that word type:\n",
      "     |  \n",
      "     |      >>> from nltk.probability import ConditionalFreqDist\n",
      "     |      >>> from nltk.tokenize import word_tokenize\n",
      "     |      >>> sent = \"the the the dog dog some other words that we do not care about\"\n",
      "     |      >>> cfdist = ConditionalFreqDist()\n",
      "     |      >>> for word in word_tokenize(sent):\n",
      "     |      ...     condition = len(word)\n",
      "     |      ...     cfdist[condition][word] += 1\n",
      "     |  \n",
      "     |  An equivalent way to do this is with the initializer:\n",
      "     |  \n",
      "     |      >>> cfdist = ConditionalFreqDist((len(word), word) for word in word_tokenize(sent))\n",
      "     |  \n",
      "     |  The frequency distribution for each condition is accessed using\n",
      "     |  the indexing operator:\n",
      "     |  \n",
      "     |      >>> cfdist[3]\n",
      "     |      FreqDist({'the': 3, 'dog': 2, 'not': 1})\n",
      "     |      >>> cfdist[3].freq('the')\n",
      "     |      0.5\n",
      "     |      >>> cfdist[3]['dog']\n",
      "     |      2\n",
      "     |  \n",
      "     |  When the indexing operator is used to access the frequency\n",
      "     |  distribution for a condition that has not been accessed before,\n",
      "     |  ``ConditionalFreqDist`` creates a new empty FreqDist for that\n",
      "     |  condition.\n",
      "     |  \n",
      "     |  Method resolution order:\n",
      "     |      ConditionalFreqDist\n",
      "     |      collections.defaultdict\n",
      "     |      builtins.dict\n",
      "     |      builtins.object\n",
      "     |  \n",
      "     |  Methods defined here:\n",
      "     |  \n",
      "     |  N(self)\n",
      "     |      Return the total number of sample outcomes that have been\n",
      "     |      recorded by this ``ConditionalFreqDist``.\n",
      "     |      \n",
      "     |      :rtype: int\n",
      "     |  \n",
      "     |  __add__(self, other)\n",
      "     |      Add counts from two ConditionalFreqDists.\n",
      "     |  \n",
      "     |  __and__(self, other)\n",
      "     |      Intersection is the minimum of corresponding counts.\n",
      "     |  \n",
      "     |  __ge__(self, other)\n",
      "     |      Return self>=value.\n",
      "     |  \n",
      "     |  __gt__(self, other)\n",
      "     |      Return self>value.\n",
      "     |  \n",
      "     |  __init__(self, cond_samples=None)\n",
      "     |      Construct a new empty conditional frequency distribution.  In\n",
      "     |      particular, the count for every sample, under every condition,\n",
      "     |      is zero.\n",
      "     |      \n",
      "     |      :param cond_samples: The samples to initialize the conditional\n",
      "     |          frequency distribution with\n",
      "     |      :type cond_samples: Sequence of (condition, sample) tuples\n",
      "     |  \n",
      "     |  __le__(self, other)\n",
      "     |      Return self<=value.\n",
      "     |  \n",
      "     |  __lt__(self, other)\n",
      "     |      Return self<value.\n",
      "     |  \n",
      "     |  __or__(self, other)\n",
      "     |      Union is the maximum of value in either of the input counters.\n",
      "     |  \n",
      "     |  __reduce__(self)\n",
      "     |      Return state information for pickling.\n",
      "     |  \n",
      "     |  __repr__(self)\n",
      "     |      Return a string representation of this ``ConditionalFreqDist``.\n",
      "     |      \n",
      "     |      :rtype: str\n",
      "     |  \n",
      "     |  __sub__(self, other)\n",
      "     |      Subtract count, but keep only results with positive counts.\n",
      "     |  \n",
      "     |  __unicode__ = __str__(self, /)\n",
      "     |      Return str(self).\n",
      "     |  \n",
      "     |  conditions(self)\n",
      "     |      Return a list of the conditions that have been accessed for\n",
      "     |      this ``ConditionalFreqDist``.  Use the indexing operator to\n",
      "     |      access the frequency distribution for a given condition.\n",
      "     |      Note that the frequency distributions for some conditions\n",
      "     |      may contain zero sample outcomes.\n",
      "     |      \n",
      "     |      :rtype: list\n",
      "     |  \n",
      "     |  plot(self, *args, **kwargs)\n",
      "     |      Plot the given samples from the conditional frequency distribution.\n",
      "     |      For a cumulative plot, specify cumulative=True.\n",
      "     |      (Requires Matplotlib to be installed.)\n",
      "     |      \n",
      "     |      :param samples: The samples to plot\n",
      "     |      :type samples: list\n",
      "     |      :param title: The title for the graph\n",
      "     |      :type title: str\n",
      "     |      :param conditions: The conditions to plot (default is all)\n",
      "     |      :type conditions: list\n",
      "     |  \n",
      "     |  tabulate(self, *args, **kwargs)\n",
      "     |      Tabulate the given samples from the conditional frequency distribution.\n",
      "     |      \n",
      "     |      :param samples: The samples to plot\n",
      "     |      :type samples: list\n",
      "     |      :param conditions: The conditions to plot (default is all)\n",
      "     |      :type conditions: list\n",
      "     |      :param cumulative: A flag to specify whether the freqs are cumulative (default = False)\n",
      "     |      :type title: bool\n",
      "     |  \n",
      "     |  unicode_repr = __repr__(self)\n",
      "     |  \n",
      "     |  ----------------------------------------------------------------------\n",
      "     |  Data descriptors defined here:\n",
      "     |  \n",
      "     |  __dict__\n",
      "     |      dictionary for instance variables (if defined)\n",
      "     |  \n",
      "     |  __weakref__\n",
      "     |      list of weak references to the object (if defined)\n",
      "     |  \n",
      "     |  ----------------------------------------------------------------------\n",
      "     |  Methods inherited from collections.defaultdict:\n",
      "     |  \n",
      "     |  __copy__(...)\n",
      "     |      D.copy() -> a shallow copy of D.\n",
      "     |  \n",
      "     |  __getattribute__(self, name, /)\n",
      "     |      Return getattr(self, name).\n",
      "     |  \n",
      "     |  __missing__(...)\n",
      "     |      __missing__(key) # Called by __getitem__ for missing key; pseudo-code:\n",
      "     |      if self.default_factory is None: raise KeyError((key,))\n",
      "     |      self[key] = value = self.default_factory()\n",
      "     |      return value\n",
      "     |  \n",
      "     |  copy(...)\n",
      "     |      D.copy() -> a shallow copy of D.\n",
      "     |  \n",
      "     |  ----------------------------------------------------------------------\n",
      "     |  Data descriptors inherited from collections.defaultdict:\n",
      "     |  \n",
      "     |  default_factory\n",
      "     |      Factory for default value called by __missing__().\n",
      "     |  \n",
      "     |  ----------------------------------------------------------------------\n",
      "     |  Methods inherited from builtins.dict:\n",
      "     |  \n",
      "     |  __contains__(self, key, /)\n",
      "     |      True if the dictionary has the specified key, else False.\n",
      "     |  \n",
      "     |  __delitem__(self, key, /)\n",
      "     |      Delete self[key].\n",
      "     |  \n",
      "     |  __eq__(self, value, /)\n",
      "     |      Return self==value.\n",
      "     |  \n",
      "     |  __getitem__(...)\n",
      "     |      x.__getitem__(y) <==> x[y]\n",
      "     |  \n",
      "     |  __iter__(self, /)\n",
      "     |      Implement iter(self).\n",
      "     |  \n",
      "     |  __len__(self, /)\n",
      "     |      Return len(self).\n",
      "     |  \n",
      "     |  __ne__(self, value, /)\n",
      "     |      Return self!=value.\n",
      "     |  \n",
      "     |  __setitem__(self, key, value, /)\n",
      "     |      Set self[key] to value.\n",
      "     |  \n",
      "     |  __sizeof__(...)\n",
      "     |      D.__sizeof__() -> size of D in memory, in bytes\n",
      "     |  \n",
      "     |  clear(...)\n",
      "     |      D.clear() -> None.  Remove all items from D.\n",
      "     |  \n",
      "     |  get(self, key, default=None, /)\n",
      "     |      Return the value for key if key is in the dictionary, else default.\n",
      "     |  \n",
      "     |  items(...)\n",
      "     |      D.items() -> a set-like object providing a view on D's items\n",
      "     |  \n",
      "     |  keys(...)\n",
      "     |      D.keys() -> a set-like object providing a view on D's keys\n",
      "     |  \n",
      "     |  pop(...)\n",
      "     |      D.pop(k[,d]) -> v, remove specified key and return the corresponding value.\n",
      "     |      If key is not found, d is returned if given, otherwise KeyError is raised\n",
      "     |  \n",
      "     |  popitem(...)\n",
      "     |      D.popitem() -> (k, v), remove and return some (key, value) pair as a\n",
      "     |      2-tuple; but raise KeyError if D is empty.\n",
      "     |  \n",
      "     |  setdefault(self, key, default=None, /)\n",
      "     |      Insert key with a value of default if key is not in the dictionary.\n",
      "     |      \n",
      "     |      Return the value for key if key is in the dictionary, else default.\n",
      "     |  \n",
      "     |  update(...)\n",
      "     |      D.update([E, ]**F) -> None.  Update D from dict/iterable E and F.\n",
      "     |      If E is present and has a .keys() method, then does:  for k in E: D[k] = E[k]\n",
      "     |      If E is present and lacks a .keys() method, then does:  for k, v in E: D[k] = v\n",
      "     |      In either case, this is followed by: for k in F:  D[k] = F[k]\n",
      "     |  \n",
      "     |  values(...)\n",
      "     |      D.values() -> an object providing a view on D's values\n",
      "     |  \n",
      "     |  ----------------------------------------------------------------------\n",
      "     |  Class methods inherited from builtins.dict:\n",
      "     |  \n",
      "     |  fromkeys(iterable, value=None, /) from builtins.type\n",
      "     |      Create a new dictionary with keys from iterable and values set to value.\n",
      "     |  \n",
      "     |  ----------------------------------------------------------------------\n",
      "     |  Static methods inherited from builtins.dict:\n",
      "     |  \n",
      "     |  __new__(*args, **kwargs) from builtins.type\n",
      "     |      Create and return a new object.  See help(type) for accurate signature.\n",
      "     |  \n",
      "     |  ----------------------------------------------------------------------\n",
      "     |  Data and other attributes inherited from builtins.dict:\n",
      "     |  \n",
      "     |  __hash__ = None\n",
      "    \n",
      "    class ConditionalProbDist(ConditionalProbDistI)\n",
      "     |  ConditionalProbDist(cfdist, probdist_factory, *factory_args, **factory_kw_args)\n",
      "     |  \n",
      "     |  A conditional probability distribution modeling the experiments\n",
      "     |  that were used to generate a conditional frequency distribution.\n",
      "     |  A ConditionalProbDist is constructed from a\n",
      "     |  ``ConditionalFreqDist`` and a ``ProbDist`` factory:\n",
      "     |  \n",
      "     |  - The ``ConditionalFreqDist`` specifies the frequency\n",
      "     |    distribution for each condition.\n",
      "     |  - The ``ProbDist`` factory is a function that takes a\n",
      "     |    condition's frequency distribution, and returns its\n",
      "     |    probability distribution.  A ``ProbDist`` class's name (such as\n",
      "     |    ``MLEProbDist`` or ``HeldoutProbDist``) can be used to specify\n",
      "     |    that class's constructor.\n",
      "     |  \n",
      "     |  The first argument to the ``ProbDist`` factory is the frequency\n",
      "     |  distribution that it should model; and the remaining arguments are\n",
      "     |  specified by the ``factory_args`` parameter to the\n",
      "     |  ``ConditionalProbDist`` constructor.  For example, the following\n",
      "     |  code constructs a ``ConditionalProbDist``, where the probability\n",
      "     |  distribution for each condition is an ``ELEProbDist`` with 10 bins:\n",
      "     |  \n",
      "     |      >>> from nltk.corpus import brown\n",
      "     |      >>> from nltk.probability import ConditionalFreqDist\n",
      "     |      >>> from nltk.probability import ConditionalProbDist, ELEProbDist\n",
      "     |      >>> cfdist = ConditionalFreqDist(brown.tagged_words()[:5000])\n",
      "     |      >>> cpdist = ConditionalProbDist(cfdist, ELEProbDist, 10)\n",
      "     |      >>> cpdist['passed'].max()\n",
      "     |      'VBD'\n",
      "     |      >>> cpdist['passed'].prob('VBD')\n",
      "     |      0.423...\n",
      "     |  \n",
      "     |  Method resolution order:\n",
      "     |      ConditionalProbDist\n",
      "     |      ConditionalProbDistI\n",
      "     |      builtins.dict\n",
      "     |      builtins.object\n",
      "     |  \n",
      "     |  Methods defined here:\n",
      "     |  \n",
      "     |  __init__(self, cfdist, probdist_factory, *factory_args, **factory_kw_args)\n",
      "     |      Construct a new conditional probability distribution, based on\n",
      "     |      the given conditional frequency distribution and ``ProbDist``\n",
      "     |      factory.\n",
      "     |      \n",
      "     |      :type cfdist: ConditionalFreqDist\n",
      "     |      :param cfdist: The ``ConditionalFreqDist`` specifying the\n",
      "     |          frequency distribution for each condition.\n",
      "     |      :type probdist_factory: class or function\n",
      "     |      :param probdist_factory: The function or class that maps\n",
      "     |          a condition's frequency distribution to its probability\n",
      "     |          distribution.  The function is called with the frequency\n",
      "     |          distribution as its first argument,\n",
      "     |          ``factory_args`` as its remaining arguments, and\n",
      "     |          ``factory_kw_args`` as keyword arguments.\n",
      "     |      :type factory_args: (any)\n",
      "     |      :param factory_args: Extra arguments for ``probdist_factory``.\n",
      "     |          These arguments are usually used to specify extra\n",
      "     |          properties for the probability distributions of individual\n",
      "     |          conditions, such as the number of bins they contain.\n",
      "     |      :type factory_kw_args: (any)\n",
      "     |      :param factory_kw_args: Extra keyword arguments for ``probdist_factory``.\n",
      "     |  \n",
      "     |  __missing__(self, key)\n",
      "     |  \n",
      "     |  ----------------------------------------------------------------------\n",
      "     |  Data and other attributes defined here:\n",
      "     |  \n",
      "     |  __abstractmethods__ = frozenset()\n",
      "     |  \n",
      "     |  ----------------------------------------------------------------------\n",
      "     |  Methods inherited from ConditionalProbDistI:\n",
      "     |  \n",
      "     |  __repr__(self)\n",
      "     |      Return a string representation of this ``ConditionalProbDist``.\n",
      "     |      \n",
      "     |      :rtype: str\n",
      "     |  \n",
      "     |  __unicode__ = __str__(self, /)\n",
      "     |      Return str(self).\n",
      "     |  \n",
      "     |  conditions(self)\n",
      "     |      Return a list of the conditions that are represented by\n",
      "     |      this ``ConditionalProbDist``.  Use the indexing operator to\n",
      "     |      access the probability distribution for a given condition.\n",
      "     |      \n",
      "     |      :rtype: list\n",
      "     |  \n",
      "     |  unicode_repr = __repr__(self)\n",
      "     |      Return a string representation of this ``ConditionalProbDist``.\n",
      "     |      \n",
      "     |      :rtype: str\n",
      "     |  \n",
      "     |  ----------------------------------------------------------------------\n",
      "     |  Data descriptors inherited from ConditionalProbDistI:\n",
      "     |  \n",
      "     |  __dict__\n",
      "     |      dictionary for instance variables (if defined)\n",
      "     |  \n",
      "     |  __weakref__\n",
      "     |      list of weak references to the object (if defined)\n",
      "     |  \n",
      "     |  ----------------------------------------------------------------------\n",
      "     |  Methods inherited from builtins.dict:\n",
      "     |  \n",
      "     |  __contains__(self, key, /)\n",
      "     |      True if the dictionary has the specified key, else False.\n",
      "     |  \n",
      "     |  __delitem__(self, key, /)\n",
      "     |      Delete self[key].\n",
      "     |  \n",
      "     |  __eq__(self, value, /)\n",
      "     |      Return self==value.\n",
      "     |  \n",
      "     |  __ge__(self, value, /)\n",
      "     |      Return self>=value.\n",
      "     |  \n",
      "     |  __getattribute__(self, name, /)\n",
      "     |      Return getattr(self, name).\n",
      "     |  \n",
      "     |  __getitem__(...)\n",
      "     |      x.__getitem__(y) <==> x[y]\n",
      "     |  \n",
      "     |  __gt__(self, value, /)\n",
      "     |      Return self>value.\n",
      "     |  \n",
      "     |  __iter__(self, /)\n",
      "     |      Implement iter(self).\n",
      "     |  \n",
      "     |  __le__(self, value, /)\n",
      "     |      Return self<=value.\n",
      "     |  \n",
      "     |  __len__(self, /)\n",
      "     |      Return len(self).\n",
      "     |  \n",
      "     |  __lt__(self, value, /)\n",
      "     |      Return self<value.\n",
      "     |  \n",
      "     |  __ne__(self, value, /)\n",
      "     |      Return self!=value.\n",
      "     |  \n",
      "     |  __setitem__(self, key, value, /)\n",
      "     |      Set self[key] to value.\n",
      "     |  \n",
      "     |  __sizeof__(...)\n",
      "     |      D.__sizeof__() -> size of D in memory, in bytes\n",
      "     |  \n",
      "     |  clear(...)\n",
      "     |      D.clear() -> None.  Remove all items from D.\n",
      "     |  \n",
      "     |  copy(...)\n",
      "     |      D.copy() -> a shallow copy of D\n",
      "     |  \n",
      "     |  get(self, key, default=None, /)\n",
      "     |      Return the value for key if key is in the dictionary, else default.\n",
      "     |  \n",
      "     |  items(...)\n",
      "     |      D.items() -> a set-like object providing a view on D's items\n",
      "     |  \n",
      "     |  keys(...)\n",
      "     |      D.keys() -> a set-like object providing a view on D's keys\n",
      "     |  \n",
      "     |  pop(...)\n",
      "     |      D.pop(k[,d]) -> v, remove specified key and return the corresponding value.\n",
      "     |      If key is not found, d is returned if given, otherwise KeyError is raised\n",
      "     |  \n",
      "     |  popitem(...)\n",
      "     |      D.popitem() -> (k, v), remove and return some (key, value) pair as a\n",
      "     |      2-tuple; but raise KeyError if D is empty.\n",
      "     |  \n",
      "     |  setdefault(self, key, default=None, /)\n",
      "     |      Insert key with a value of default if key is not in the dictionary.\n",
      "     |      \n",
      "     |      Return the value for key if key is in the dictionary, else default.\n",
      "     |  \n",
      "     |  update(...)\n",
      "     |      D.update([E, ]**F) -> None.  Update D from dict/iterable E and F.\n",
      "     |      If E is present and has a .keys() method, then does:  for k in E: D[k] = E[k]\n",
      "     |      If E is present and lacks a .keys() method, then does:  for k, v in E: D[k] = v\n",
      "     |      In either case, this is followed by: for k in F:  D[k] = F[k]\n",
      "     |  \n",
      "     |  values(...)\n",
      "     |      D.values() -> an object providing a view on D's values\n",
      "     |  \n",
      "     |  ----------------------------------------------------------------------\n",
      "     |  Class methods inherited from builtins.dict:\n",
      "     |  \n",
      "     |  fromkeys(iterable, value=None, /) from abc.ABCMeta\n",
      "     |      Create a new dictionary with keys from iterable and values set to value.\n",
      "     |  \n",
      "     |  ----------------------------------------------------------------------\n",
      "     |  Static methods inherited from builtins.dict:\n",
      "     |  \n",
      "     |  __new__(*args, **kwargs) from builtins.type\n",
      "     |      Create and return a new object.  See help(type) for accurate signature.\n",
      "     |  \n",
      "     |  ----------------------------------------------------------------------\n",
      "     |  Data and other attributes inherited from builtins.dict:\n",
      "     |  \n",
      "     |  __hash__ = None\n",
      "    \n",
      "    class ConditionalProbDistI(builtins.dict)\n",
      "     |  A collection of probability distributions for a single experiment\n",
      "     |  run under different conditions.  Conditional probability\n",
      "     |  distributions are used to estimate the likelihood of each sample,\n",
      "     |  given the condition under which the experiment was run.  For\n",
      "     |  example, a conditional probability distribution could be used to\n",
      "     |  estimate the probability of each word type in a document, given\n",
      "     |  the length of the word type.  Formally, a conditional probability\n",
      "     |  distribution can be defined as a function that maps from each\n",
      "     |  condition to the ``ProbDist`` for the experiment under that\n",
      "     |  condition.\n",
      "     |  \n",
      "     |  Method resolution order:\n",
      "     |      ConditionalProbDistI\n",
      "     |      builtins.dict\n",
      "     |      builtins.object\n",
      "     |  \n",
      "     |  Methods defined here:\n",
      "     |  \n",
      "     |  __init__(self)\n",
      "     |      Classes inheriting from ConditionalProbDistI should implement __init__.\n",
      "     |  \n",
      "     |  __repr__(self)\n",
      "     |      Return a string representation of this ``ConditionalProbDist``.\n",
      "     |      \n",
      "     |      :rtype: str\n",
      "     |  \n",
      "     |  __unicode__ = __str__(self, /)\n",
      "     |      Return str(self).\n",
      "     |  \n",
      "     |  conditions(self)\n",
      "     |      Return a list of the conditions that are represented by\n",
      "     |      this ``ConditionalProbDist``.  Use the indexing operator to\n",
      "     |      access the probability distribution for a given condition.\n",
      "     |      \n",
      "     |      :rtype: list\n",
      "     |  \n",
      "     |  unicode_repr = __repr__(self)\n",
      "     |  \n",
      "     |  ----------------------------------------------------------------------\n",
      "     |  Data descriptors defined here:\n",
      "     |  \n",
      "     |  __dict__\n",
      "     |      dictionary for instance variables (if defined)\n",
      "     |  \n",
      "     |  __weakref__\n",
      "     |      list of weak references to the object (if defined)\n",
      "     |  \n",
      "     |  ----------------------------------------------------------------------\n",
      "     |  Data and other attributes defined here:\n",
      "     |  \n",
      "     |  __abstractmethods__ = frozenset({'__init__'})\n",
      "     |  \n",
      "     |  ----------------------------------------------------------------------\n",
      "     |  Methods inherited from builtins.dict:\n",
      "     |  \n",
      "     |  __contains__(self, key, /)\n",
      "     |      True if the dictionary has the specified key, else False.\n",
      "     |  \n",
      "     |  __delitem__(self, key, /)\n",
      "     |      Delete self[key].\n",
      "     |  \n",
      "     |  __eq__(self, value, /)\n",
      "     |      Return self==value.\n",
      "     |  \n",
      "     |  __ge__(self, value, /)\n",
      "     |      Return self>=value.\n",
      "     |  \n",
      "     |  __getattribute__(self, name, /)\n",
      "     |      Return getattr(self, name).\n",
      "     |  \n",
      "     |  __getitem__(...)\n",
      "     |      x.__getitem__(y) <==> x[y]\n",
      "     |  \n",
      "     |  __gt__(self, value, /)\n",
      "     |      Return self>value.\n",
      "     |  \n",
      "     |  __iter__(self, /)\n",
      "     |      Implement iter(self).\n",
      "     |  \n",
      "     |  __le__(self, value, /)\n",
      "     |      Return self<=value.\n",
      "     |  \n",
      "     |  __len__(self, /)\n",
      "     |      Return len(self).\n",
      "     |  \n",
      "     |  __lt__(self, value, /)\n",
      "     |      Return self<value.\n",
      "     |  \n",
      "     |  __ne__(self, value, /)\n",
      "     |      Return self!=value.\n",
      "     |  \n",
      "     |  __setitem__(self, key, value, /)\n",
      "     |      Set self[key] to value.\n",
      "     |  \n",
      "     |  __sizeof__(...)\n",
      "     |      D.__sizeof__() -> size of D in memory, in bytes\n",
      "     |  \n",
      "     |  clear(...)\n",
      "     |      D.clear() -> None.  Remove all items from D.\n",
      "     |  \n",
      "     |  copy(...)\n",
      "     |      D.copy() -> a shallow copy of D\n",
      "     |  \n",
      "     |  get(self, key, default=None, /)\n",
      "     |      Return the value for key if key is in the dictionary, else default.\n",
      "     |  \n",
      "     |  items(...)\n",
      "     |      D.items() -> a set-like object providing a view on D's items\n",
      "     |  \n",
      "     |  keys(...)\n",
      "     |      D.keys() -> a set-like object providing a view on D's keys\n",
      "     |  \n",
      "     |  pop(...)\n",
      "     |      D.pop(k[,d]) -> v, remove specified key and return the corresponding value.\n",
      "     |      If key is not found, d is returned if given, otherwise KeyError is raised\n",
      "     |  \n",
      "     |  popitem(...)\n",
      "     |      D.popitem() -> (k, v), remove and return some (key, value) pair as a\n",
      "     |      2-tuple; but raise KeyError if D is empty.\n",
      "     |  \n",
      "     |  setdefault(self, key, default=None, /)\n",
      "     |      Insert key with a value of default if key is not in the dictionary.\n",
      "     |      \n",
      "     |      Return the value for key if key is in the dictionary, else default.\n",
      "     |  \n",
      "     |  update(...)\n",
      "     |      D.update([E, ]**F) -> None.  Update D from dict/iterable E and F.\n",
      "     |      If E is present and has a .keys() method, then does:  for k in E: D[k] = E[k]\n",
      "     |      If E is present and lacks a .keys() method, then does:  for k, v in E: D[k] = v\n",
      "     |      In either case, this is followed by: for k in F:  D[k] = F[k]\n",
      "     |  \n",
      "     |  values(...)\n",
      "     |      D.values() -> an object providing a view on D's values\n",
      "     |  \n",
      "     |  ----------------------------------------------------------------------\n",
      "     |  Class methods inherited from builtins.dict:\n",
      "     |  \n",
      "     |  fromkeys(iterable, value=None, /) from abc.ABCMeta\n",
      "     |      Create a new dictionary with keys from iterable and values set to value.\n",
      "     |  \n",
      "     |  ----------------------------------------------------------------------\n",
      "     |  Static methods inherited from builtins.dict:\n",
      "     |  \n",
      "     |  __new__(*args, **kwargs) from builtins.type\n",
      "     |      Create and return a new object.  See help(type) for accurate signature.\n",
      "     |  \n",
      "     |  ----------------------------------------------------------------------\n",
      "     |  Data and other attributes inherited from builtins.dict:\n",
      "     |  \n",
      "     |  __hash__ = None\n",
      "    \n",
      "    class CrossValidationProbDist(ProbDistI)\n",
      "     |  CrossValidationProbDist(freqdists, bins)\n",
      "     |  \n",
      "     |  The cross-validation estimate for the probability distribution of\n",
      "     |  the experiment used to generate a set of frequency distribution.\n",
      "     |  The \"cross-validation estimate\" for the probability of a sample\n",
      "     |  is found by averaging the held-out estimates for the sample in\n",
      "     |  each pair of frequency distributions.\n",
      "     |  \n",
      "     |  Method resolution order:\n",
      "     |      CrossValidationProbDist\n",
      "     |      ProbDistI\n",
      "     |      builtins.object\n",
      "     |  \n",
      "     |  Methods defined here:\n",
      "     |  \n",
      "     |  __init__(self, freqdists, bins)\n",
      "     |      Use the cross-validation estimate to create a probability\n",
      "     |      distribution for the experiment used to generate\n",
      "     |      ``freqdists``.\n",
      "     |      \n",
      "     |      :type freqdists: list(FreqDist)\n",
      "     |      :param freqdists: A list of the frequency distributions\n",
      "     |          generated by the experiment.\n",
      "     |      :type bins: int\n",
      "     |      :param bins: The number of sample values that can be generated\n",
      "     |          by the experiment that is described by the probability\n",
      "     |          distribution.  This value must be correctly set for the\n",
      "     |          probabilities of the sample values to sum to one.  If\n",
      "     |          ``bins`` is not specified, it defaults to ``freqdist.B()``.\n",
      "     |  \n",
      "     |  __repr__(self)\n",
      "     |      Return a string representation of this ``ProbDist``.\n",
      "     |      \n",
      "     |      :rtype: str\n",
      "     |  \n",
      "     |  __unicode__ = __str__(self, /)\n",
      "     |      Return str(self).\n",
      "     |  \n",
      "     |  discount(self)\n",
      "     |      Return the ratio by which counts are discounted on average: c*/c\n",
      "     |      \n",
      "     |      :rtype: float\n",
      "     |  \n",
      "     |  freqdists(self)\n",
      "     |      Return the list of frequency distributions that this ``ProbDist`` is based on.\n",
      "     |      \n",
      "     |      :rtype: list(FreqDist)\n",
      "     |  \n",
      "     |  prob(self, sample)\n",
      "     |      Return the probability for a given sample.  Probabilities\n",
      "     |      are always real numbers in the range [0, 1].\n",
      "     |      \n",
      "     |      :param sample: The sample whose probability\n",
      "     |             should be returned.\n",
      "     |      :type sample: any\n",
      "     |      :rtype: float\n",
      "     |  \n",
      "     |  samples(self)\n",
      "     |      Return a list of all samples that have nonzero probabilities.\n",
      "     |      Use ``prob`` to find the probability of each sample.\n",
      "     |      \n",
      "     |      :rtype: list\n",
      "     |  \n",
      "     |  unicode_repr = __repr__(self)\n",
      "     |  \n",
      "     |  ----------------------------------------------------------------------\n",
      "     |  Data and other attributes defined here:\n",
      "     |  \n",
      "     |  SUM_TO_ONE = False\n",
      "     |  \n",
      "     |  __abstractmethods__ = frozenset({'max'})\n",
      "     |  \n",
      "     |  ----------------------------------------------------------------------\n",
      "     |  Methods inherited from ProbDistI:\n",
      "     |  \n",
      "     |  generate(self)\n",
      "     |      Return a randomly selected sample from this probability distribution.\n",
      "     |      The probability of returning each sample ``samp`` is equal to\n",
      "     |      ``self.prob(samp)``.\n",
      "     |  \n",
      "     |  logprob(self, sample)\n",
      "     |      Return the base 2 logarithm of the probability for a given sample.\n",
      "     |      \n",
      "     |      :param sample: The sample whose probability\n",
      "     |             should be returned.\n",
      "     |      :type sample: any\n",
      "     |      :rtype: float\n",
      "     |  \n",
      "     |  max(self)\n",
      "     |      Return the sample with the greatest probability.  If two or\n",
      "     |      more samples have the same probability, return one of them;\n",
      "     |      which sample is returned is undefined.\n",
      "     |      \n",
      "     |      :rtype: any\n",
      "     |  \n",
      "     |  ----------------------------------------------------------------------\n",
      "     |  Data descriptors inherited from ProbDistI:\n",
      "     |  \n",
      "     |  __dict__\n",
      "     |      dictionary for instance variables (if defined)\n",
      "     |  \n",
      "     |  __weakref__\n",
      "     |      list of weak references to the object (if defined)\n",
      "    \n",
      "    class DictionaryConditionalProbDist(ConditionalProbDistI)\n",
      "     |  DictionaryConditionalProbDist(probdist_dict)\n",
      "     |  \n",
      "     |  An alternative ConditionalProbDist that simply wraps a dictionary of\n",
      "     |  ProbDists rather than creating these from FreqDists.\n",
      "     |  \n",
      "     |  Method resolution order:\n",
      "     |      DictionaryConditionalProbDist\n",
      "     |      ConditionalProbDistI\n",
      "     |      builtins.dict\n",
      "     |      builtins.object\n",
      "     |  \n",
      "     |  Methods defined here:\n",
      "     |  \n",
      "     |  __init__(self, probdist_dict)\n",
      "     |      :param probdist_dict: a dictionary containing the probdists indexed\n",
      "     |          by the conditions\n",
      "     |      :type probdist_dict: dict any -> probdist\n",
      "     |  \n",
      "     |  __missing__(self, key)\n",
      "     |  \n",
      "     |  ----------------------------------------------------------------------\n",
      "     |  Data and other attributes defined here:\n",
      "     |  \n",
      "     |  __abstractmethods__ = frozenset()\n",
      "     |  \n",
      "     |  ----------------------------------------------------------------------\n",
      "     |  Methods inherited from ConditionalProbDistI:\n",
      "     |  \n",
      "     |  __repr__(self)\n",
      "     |      Return a string representation of this ``ConditionalProbDist``.\n",
      "     |      \n",
      "     |      :rtype: str\n",
      "     |  \n",
      "     |  __unicode__ = __str__(self, /)\n",
      "     |      Return str(self).\n",
      "     |  \n",
      "     |  conditions(self)\n",
      "     |      Return a list of the conditions that are represented by\n",
      "     |      this ``ConditionalProbDist``.  Use the indexing operator to\n",
      "     |      access the probability distribution for a given condition.\n",
      "     |      \n",
      "     |      :rtype: list\n",
      "     |  \n",
      "     |  unicode_repr = __repr__(self)\n",
      "     |      Return a string representation of this ``ConditionalProbDist``.\n",
      "     |      \n",
      "     |      :rtype: str\n",
      "     |  \n",
      "     |  ----------------------------------------------------------------------\n",
      "     |  Data descriptors inherited from ConditionalProbDistI:\n",
      "     |  \n",
      "     |  __dict__\n",
      "     |      dictionary for instance variables (if defined)\n",
      "     |  \n",
      "     |  __weakref__\n",
      "     |      list of weak references to the object (if defined)\n",
      "     |  \n",
      "     |  ----------------------------------------------------------------------\n",
      "     |  Methods inherited from builtins.dict:\n",
      "     |  \n",
      "     |  __contains__(self, key, /)\n",
      "     |      True if the dictionary has the specified key, else False.\n",
      "     |  \n",
      "     |  __delitem__(self, key, /)\n",
      "     |      Delete self[key].\n",
      "     |  \n",
      "     |  __eq__(self, value, /)\n",
      "     |      Return self==value.\n",
      "     |  \n",
      "     |  __ge__(self, value, /)\n",
      "     |      Return self>=value.\n",
      "     |  \n",
      "     |  __getattribute__(self, name, /)\n",
      "     |      Return getattr(self, name).\n",
      "     |  \n",
      "     |  __getitem__(...)\n",
      "     |      x.__getitem__(y) <==> x[y]\n",
      "     |  \n",
      "     |  __gt__(self, value, /)\n",
      "     |      Return self>value.\n",
      "     |  \n",
      "     |  __iter__(self, /)\n",
      "     |      Implement iter(self).\n",
      "     |  \n",
      "     |  __le__(self, value, /)\n",
      "     |      Return self<=value.\n",
      "     |  \n",
      "     |  __len__(self, /)\n",
      "     |      Return len(self).\n",
      "     |  \n",
      "     |  __lt__(self, value, /)\n",
      "     |      Return self<value.\n",
      "     |  \n",
      "     |  __ne__(self, value, /)\n",
      "     |      Return self!=value.\n",
      "     |  \n",
      "     |  __setitem__(self, key, value, /)\n",
      "     |      Set self[key] to value.\n",
      "     |  \n",
      "     |  __sizeof__(...)\n",
      "     |      D.__sizeof__() -> size of D in memory, in bytes\n",
      "     |  \n",
      "     |  clear(...)\n",
      "     |      D.clear() -> None.  Remove all items from D.\n",
      "     |  \n",
      "     |  copy(...)\n",
      "     |      D.copy() -> a shallow copy of D\n",
      "     |  \n",
      "     |  get(self, key, default=None, /)\n",
      "     |      Return the value for key if key is in the dictionary, else default.\n",
      "     |  \n",
      "     |  items(...)\n",
      "     |      D.items() -> a set-like object providing a view on D's items\n",
      "     |  \n",
      "     |  keys(...)\n",
      "     |      D.keys() -> a set-like object providing a view on D's keys\n",
      "     |  \n",
      "     |  pop(...)\n",
      "     |      D.pop(k[,d]) -> v, remove specified key and return the corresponding value.\n",
      "     |      If key is not found, d is returned if given, otherwise KeyError is raised\n",
      "     |  \n",
      "     |  popitem(...)\n",
      "     |      D.popitem() -> (k, v), remove and return some (key, value) pair as a\n",
      "     |      2-tuple; but raise KeyError if D is empty.\n",
      "     |  \n",
      "     |  setdefault(self, key, default=None, /)\n",
      "     |      Insert key with a value of default if key is not in the dictionary.\n",
      "     |      \n",
      "     |      Return the value for key if key is in the dictionary, else default.\n",
      "     |  \n",
      "     |  update(...)\n",
      "     |      D.update([E, ]**F) -> None.  Update D from dict/iterable E and F.\n",
      "     |      If E is present and has a .keys() method, then does:  for k in E: D[k] = E[k]\n",
      "     |      If E is present and lacks a .keys() method, then does:  for k, v in E: D[k] = v\n",
      "     |      In either case, this is followed by: for k in F:  D[k] = F[k]\n",
      "     |  \n",
      "     |  values(...)\n",
      "     |      D.values() -> an object providing a view on D's values\n",
      "     |  \n",
      "     |  ----------------------------------------------------------------------\n",
      "     |  Class methods inherited from builtins.dict:\n",
      "     |  \n",
      "     |  fromkeys(iterable, value=None, /) from abc.ABCMeta\n",
      "     |      Create a new dictionary with keys from iterable and values set to value.\n",
      "     |  \n",
      "     |  ----------------------------------------------------------------------\n",
      "     |  Static methods inherited from builtins.dict:\n",
      "     |  \n",
      "     |  __new__(*args, **kwargs) from builtins.type\n",
      "     |      Create and return a new object.  See help(type) for accurate signature.\n",
      "     |  \n",
      "     |  ----------------------------------------------------------------------\n",
      "     |  Data and other attributes inherited from builtins.dict:\n",
      "     |  \n",
      "     |  __hash__ = None\n",
      "    \n",
      "    class DictionaryProbDist(ProbDistI)\n",
      "     |  DictionaryProbDist(prob_dict=None, log=False, normalize=False)\n",
      "     |  \n",
      "     |  A probability distribution whose probabilities are directly\n",
      "     |  specified by a given dictionary.  The given dictionary maps\n",
      "     |  samples to probabilities.\n",
      "     |  \n",
      "     |  Method resolution order:\n",
      "     |      DictionaryProbDist\n",
      "     |      ProbDistI\n",
      "     |      builtins.object\n",
      "     |  \n",
      "     |  Methods defined here:\n",
      "     |  \n",
      "     |  __init__(self, prob_dict=None, log=False, normalize=False)\n",
      "     |      Construct a new probability distribution from the given\n",
      "     |      dictionary, which maps values to probabilities (or to log\n",
      "     |      probabilities, if ``log`` is true).  If ``normalize`` is\n",
      "     |      true, then the probability values are scaled by a constant\n",
      "     |      factor such that they sum to 1.\n",
      "     |      \n",
      "     |      If called without arguments, the resulting probability\n",
      "     |      distribution assigns zero probability to all values.\n",
      "     |  \n",
      "     |  __repr__(self)\n",
      "     |      Return repr(self).\n",
      "     |  \n",
      "     |  __unicode__ = __str__(self, /)\n",
      "     |      Return str(self).\n",
      "     |  \n",
      "     |  logprob(self, sample)\n",
      "     |      Return the base 2 logarithm of the probability for a given sample.\n",
      "     |      \n",
      "     |      :param sample: The sample whose probability\n",
      "     |             should be returned.\n",
      "     |      :type sample: any\n",
      "     |      :rtype: float\n",
      "     |  \n",
      "     |  max(self)\n",
      "     |      Return the sample with the greatest probability.  If two or\n",
      "     |      more samples have the same probability, return one of them;\n",
      "     |      which sample is returned is undefined.\n",
      "     |      \n",
      "     |      :rtype: any\n",
      "     |  \n",
      "     |  prob(self, sample)\n",
      "     |      Return the probability for a given sample.  Probabilities\n",
      "     |      are always real numbers in the range [0, 1].\n",
      "     |      \n",
      "     |      :param sample: The sample whose probability\n",
      "     |             should be returned.\n",
      "     |      :type sample: any\n",
      "     |      :rtype: float\n",
      "     |  \n",
      "     |  samples(self)\n",
      "     |      Return a list of all samples that have nonzero probabilities.\n",
      "     |      Use ``prob`` to find the probability of each sample.\n",
      "     |      \n",
      "     |      :rtype: list\n",
      "     |  \n",
      "     |  unicode_repr = __repr__(self)\n",
      "     |  \n",
      "     |  ----------------------------------------------------------------------\n",
      "     |  Data and other attributes defined here:\n",
      "     |  \n",
      "     |  __abstractmethods__ = frozenset()\n",
      "     |  \n",
      "     |  ----------------------------------------------------------------------\n",
      "     |  Methods inherited from ProbDistI:\n",
      "     |  \n",
      "     |  discount(self)\n",
      "     |      Return the ratio by which counts are discounted on average: c*/c\n",
      "     |      \n",
      "     |      :rtype: float\n",
      "     |  \n",
      "     |  generate(self)\n",
      "     |      Return a randomly selected sample from this probability distribution.\n",
      "     |      The probability of returning each sample ``samp`` is equal to\n",
      "     |      ``self.prob(samp)``.\n",
      "     |  \n",
      "     |  ----------------------------------------------------------------------\n",
      "     |  Data descriptors inherited from ProbDistI:\n",
      "     |  \n",
      "     |  __dict__\n",
      "     |      dictionary for instance variables (if defined)\n",
      "     |  \n",
      "     |  __weakref__\n",
      "     |      list of weak references to the object (if defined)\n",
      "     |  \n",
      "     |  ----------------------------------------------------------------------\n",
      "     |  Data and other attributes inherited from ProbDistI:\n",
      "     |  \n",
      "     |  SUM_TO_ONE = True\n",
      "    \n",
      "    class ELEProbDist(LidstoneProbDist)\n",
      "     |  ELEProbDist(freqdist, bins=None)\n",
      "     |  \n",
      "     |  The expected likelihood estimate for the probability distribution\n",
      "     |  of the experiment used to generate a frequency distribution.  The\n",
      "     |  \"expected likelihood estimate\" approximates the probability of a\n",
      "     |  sample with count *c* from an experiment with *N* outcomes and\n",
      "     |  *B* bins as *(c+0.5)/(N+B/2)*.  This is equivalent to adding 0.5\n",
      "     |  to the count for each bin, and taking the maximum likelihood\n",
      "     |  estimate of the resulting frequency distribution.\n",
      "     |  \n",
      "     |  Method resolution order:\n",
      "     |      ELEProbDist\n",
      "     |      LidstoneProbDist\n",
      "     |      ProbDistI\n",
      "     |      builtins.object\n",
      "     |  \n",
      "     |  Methods defined here:\n",
      "     |  \n",
      "     |  __init__(self, freqdist, bins=None)\n",
      "     |      Use the expected likelihood estimate to create a probability\n",
      "     |      distribution for the experiment used to generate ``freqdist``.\n",
      "     |      \n",
      "     |      :type freqdist: FreqDist\n",
      "     |      :param freqdist: The frequency distribution that the\n",
      "     |          probability estimates should be based on.\n",
      "     |      :type bins: int\n",
      "     |      :param bins: The number of sample values that can be generated\n",
      "     |          by the experiment that is described by the probability\n",
      "     |          distribution.  This value must be correctly set for the\n",
      "     |          probabilities of the sample values to sum to one.  If\n",
      "     |          ``bins`` is not specified, it defaults to ``freqdist.B()``.\n",
      "     |  \n",
      "     |  __repr__(self)\n",
      "     |      Return a string representation of this ``ProbDist``.\n",
      "     |      \n",
      "     |      :rtype: str\n",
      "     |  \n",
      "     |  __unicode__ = __str__(self, /)\n",
      "     |      Return str(self).\n",
      "     |  \n",
      "     |  unicode_repr = __repr__(self)\n",
      "     |  \n",
      "     |  ----------------------------------------------------------------------\n",
      "     |  Data and other attributes defined here:\n",
      "     |  \n",
      "     |  __abstractmethods__ = frozenset()\n",
      "     |  \n",
      "     |  ----------------------------------------------------------------------\n",
      "     |  Methods inherited from LidstoneProbDist:\n",
      "     |  \n",
      "     |  discount(self)\n",
      "     |      Return the ratio by which counts are discounted on average: c*/c\n",
      "     |      \n",
      "     |      :rtype: float\n",
      "     |  \n",
      "     |  freqdist(self)\n",
      "     |      Return the frequency distribution that this probability\n",
      "     |      distribution is based on.\n",
      "     |      \n",
      "     |      :rtype: FreqDist\n",
      "     |  \n",
      "     |  max(self)\n",
      "     |      Return the sample with the greatest probability.  If two or\n",
      "     |      more samples have the same probability, return one of them;\n",
      "     |      which sample is returned is undefined.\n",
      "     |      \n",
      "     |      :rtype: any\n",
      "     |  \n",
      "     |  prob(self, sample)\n",
      "     |      Return the probability for a given sample.  Probabilities\n",
      "     |      are always real numbers in the range [0, 1].\n",
      "     |      \n",
      "     |      :param sample: The sample whose probability\n",
      "     |             should be returned.\n",
      "     |      :type sample: any\n",
      "     |      :rtype: float\n",
      "     |  \n",
      "     |  samples(self)\n",
      "     |      Return a list of all samples that have nonzero probabilities.\n",
      "     |      Use ``prob`` to find the probability of each sample.\n",
      "     |      \n",
      "     |      :rtype: list\n",
      "     |  \n",
      "     |  ----------------------------------------------------------------------\n",
      "     |  Data and other attributes inherited from LidstoneProbDist:\n",
      "     |  \n",
      "     |  SUM_TO_ONE = False\n",
      "     |  \n",
      "     |  ----------------------------------------------------------------------\n",
      "     |  Methods inherited from ProbDistI:\n",
      "     |  \n",
      "     |  generate(self)\n",
      "     |      Return a randomly selected sample from this probability distribution.\n",
      "     |      The probability of returning each sample ``samp`` is equal to\n",
      "     |      ``self.prob(samp)``.\n",
      "     |  \n",
      "     |  logprob(self, sample)\n",
      "     |      Return the base 2 logarithm of the probability for a given sample.\n",
      "     |      \n",
      "     |      :param sample: The sample whose probability\n",
      "     |             should be returned.\n",
      "     |      :type sample: any\n",
      "     |      :rtype: float\n",
      "     |  \n",
      "     |  ----------------------------------------------------------------------\n",
      "     |  Data descriptors inherited from ProbDistI:\n",
      "     |  \n",
      "     |  __dict__\n",
      "     |      dictionary for instance variables (if defined)\n",
      "     |  \n",
      "     |  __weakref__\n",
      "     |      list of weak references to the object (if defined)\n",
      "    \n",
      "    class FreqDist(collections.Counter)\n",
      "     |  FreqDist(samples=None)\n",
      "     |  \n",
      "     |  A frequency distribution for the outcomes of an experiment.  A\n",
      "     |  frequency distribution records the number of times each outcome of\n",
      "     |  an experiment has occurred.  For example, a frequency distribution\n",
      "     |  could be used to record the frequency of each word type in a\n",
      "     |  document.  Formally, a frequency distribution can be defined as a\n",
      "     |  function mapping from each sample to the number of times that\n",
      "     |  sample occurred as an outcome.\n",
      "     |  \n",
      "     |  Frequency distributions are generally constructed by running a\n",
      "     |  number of experiments, and incrementing the count for a sample\n",
      "     |  every time it is an outcome of an experiment.  For example, the\n",
      "     |  following code will produce a frequency distribution that encodes\n",
      "     |  how often each word occurs in a text:\n",
      "     |  \n",
      "     |      >>> from nltk.tokenize import word_tokenize\n",
      "     |      >>> from nltk.probability import FreqDist\n",
      "     |      >>> sent = 'This is an example sentence'\n",
      "     |      >>> fdist = FreqDist()\n",
      "     |      >>> for word in word_tokenize(sent):\n",
      "     |      ...    fdist[word.lower()] += 1\n",
      "     |  \n",
      "     |  An equivalent way to do this is with the initializer:\n",
      "     |  \n",
      "     |      >>> fdist = FreqDist(word.lower() for word in word_tokenize(sent))\n",
      "     |  \n",
      "     |  Method resolution order:\n",
      "     |      FreqDist\n",
      "     |      collections.Counter\n",
      "     |      builtins.dict\n",
      "     |      builtins.object\n",
      "     |  \n",
      "     |  Methods defined here:\n",
      "     |  \n",
      "     |  B(self)\n",
      "     |      Return the total number of sample values (or \"bins\") that\n",
      "     |      have counts greater than zero.  For the total\n",
      "     |      number of sample outcomes recorded, use ``FreqDist.N()``.\n",
      "     |      (FreqDist.B() is the same as len(FreqDist).)\n",
      "     |      \n",
      "     |      :rtype: int\n",
      "     |  \n",
      "     |  N(self)\n",
      "     |      Return the total number of sample outcomes that have been\n",
      "     |      recorded by this FreqDist.  For the number of unique\n",
      "     |      sample values (or bins) with counts greater than zero, use\n",
      "     |      ``FreqDist.B()``.\n",
      "     |      \n",
      "     |      :rtype: int\n",
      "     |  \n",
      "     |  Nr(self, r, bins=None)\n",
      "     |  \n",
      "     |  __add__(self, other)\n",
      "     |      Add counts from two counters.\n",
      "     |      \n",
      "     |      >>> FreqDist('abbb') + FreqDist('bcc')\n",
      "     |      FreqDist({'b': 4, 'c': 2, 'a': 1})\n",
      "     |  \n",
      "     |  __and__(self, other)\n",
      "     |      Intersection is the minimum of corresponding counts.\n",
      "     |      \n",
      "     |      >>> FreqDist('abbb') & FreqDist('bcc')\n",
      "     |      FreqDist({'b': 1})\n",
      "     |  \n",
      "     |  __delitem__(self, key)\n",
      "     |      Override ``Counter.__delitem__()`` to invalidate the cached N\n",
      "     |  \n",
      "     |  __ge__ lambda self, other\n",
      "     |      # @total_ordering doesn't work here, since the class inherits from a builtin class\n",
      "     |  \n",
      "     |  __gt__ lambda self, other\n",
      "     |  \n",
      "     |  __init__(self, samples=None)\n",
      "     |      Construct a new frequency distribution.  If ``samples`` is\n",
      "     |      given, then the frequency distribution will be initialized\n",
      "     |      with the count of each object in ``samples``; otherwise, it\n",
      "     |      will be initialized to be empty.\n",
      "     |      \n",
      "     |      In particular, ``FreqDist()`` returns an empty frequency\n",
      "     |      distribution; and ``FreqDist(samples)`` first creates an empty\n",
      "     |      frequency distribution, and then calls ``update`` with the\n",
      "     |      list ``samples``.\n",
      "     |      \n",
      "     |      :param samples: The samples to initialize the frequency\n",
      "     |          distribution with.\n",
      "     |      :type samples: Sequence\n",
      "     |  \n",
      "     |  __le__(self, other)\n",
      "     |      Return self<=value.\n",
      "     |  \n",
      "     |  __lt__ lambda self, other\n",
      "     |  \n",
      "     |  __or__(self, other)\n",
      "     |      Union is the maximum of value in either of the input counters.\n",
      "     |      \n",
      "     |      >>> FreqDist('abbb') | FreqDist('bcc')\n",
      "     |      FreqDist({'b': 3, 'c': 2, 'a': 1})\n",
      "     |  \n",
      "     |  __repr__(self)\n",
      "     |      Return a string representation of this FreqDist.\n",
      "     |      \n",
      "     |      :rtype: string\n",
      "     |  \n",
      "     |  __setitem__(self, key, val)\n",
      "     |      Override ``Counter.__setitem__()`` to invalidate the cached N\n",
      "     |  \n",
      "     |  __str__(self)\n",
      "     |      Return a string representation of this FreqDist.\n",
      "     |      \n",
      "     |      :rtype: string\n",
      "     |  \n",
      "     |  __sub__(self, other)\n",
      "     |      Subtract count, but keep only results with positive counts.\n",
      "     |      \n",
      "     |      >>> FreqDist('abbbc') - FreqDist('bccd')\n",
      "     |      FreqDist({'b': 2, 'a': 1})\n",
      "     |  \n",
      "     |  __unicode__ = __str__(self)\n",
      "     |  \n",
      "     |  copy(self)\n",
      "     |      Create a copy of this frequency distribution.\n",
      "     |      \n",
      "     |      :rtype: FreqDist\n",
      "     |  \n",
      "     |  freq(self, sample)\n",
      "     |      Return the frequency of a given sample.  The frequency of a\n",
      "     |      sample is defined as the count of that sample divided by the\n",
      "     |      total number of sample outcomes that have been recorded by\n",
      "     |      this FreqDist.  The count of a sample is defined as the\n",
      "     |      number of times that sample outcome was recorded by this\n",
      "     |      FreqDist.  Frequencies are always real numbers in the range\n",
      "     |      [0, 1].\n",
      "     |      \n",
      "     |      :param sample: the sample whose frequency\n",
      "     |             should be returned.\n",
      "     |      :type sample: any\n",
      "     |      :rtype: float\n",
      "     |  \n",
      "     |  hapaxes(self)\n",
      "     |      Return a list of all samples that occur once (hapax legomena)\n",
      "     |      \n",
      "     |      :rtype: list\n",
      "     |  \n",
      "     |  max(self)\n",
      "     |      Return the sample with the greatest number of outcomes in this\n",
      "     |      frequency distribution.  If two or more samples have the same\n",
      "     |      number of outcomes, return one of them; which sample is\n",
      "     |      returned is undefined.  If no outcomes have occurred in this\n",
      "     |      frequency distribution, return None.\n",
      "     |      \n",
      "     |      :return: The sample with the maximum number of outcomes in this\n",
      "     |              frequency distribution.\n",
      "     |      :rtype: any or None\n",
      "     |  \n",
      "     |  pformat(self, maxlen=10)\n",
      "     |      Return a string representation of this FreqDist.\n",
      "     |      \n",
      "     |      :param maxlen: The maximum number of items to display\n",
      "     |      :type maxlen: int\n",
      "     |      :rtype: string\n",
      "     |  \n",
      "     |  plot(self, *args, **kwargs)\n",
      "     |      Plot samples from the frequency distribution\n",
      "     |      displaying the most frequent sample first.  If an integer\n",
      "     |      parameter is supplied, stop after this many samples have been\n",
      "     |      plotted.  For a cumulative plot, specify cumulative=True.\n",
      "     |      (Requires Matplotlib to be installed.)\n",
      "     |      \n",
      "     |      :param title: The title for the graph\n",
      "     |      :type title: str\n",
      "     |      :param cumulative: A flag to specify whether the plot is cumulative (default = False)\n",
      "     |      :type title: bool\n",
      "     |  \n",
      "     |  pprint(self, maxlen=10, stream=None)\n",
      "     |      Print a string representation of this FreqDist to 'stream'\n",
      "     |      \n",
      "     |      :param maxlen: The maximum number of items to print\n",
      "     |      :type maxlen: int\n",
      "     |      :param stream: The stream to print to. stdout by default\n",
      "     |  \n",
      "     |  r_Nr(self, bins=None)\n",
      "     |      Return the dictionary mapping r to Nr, the number of samples with frequency r, where Nr > 0.\n",
      "     |      \n",
      "     |      :type bins: int\n",
      "     |      :param bins: The number of possible sample outcomes.  ``bins``\n",
      "     |          is used to calculate Nr(0).  In particular, Nr(0) is\n",
      "     |          ``bins-self.B()``.  If ``bins`` is not specified, it\n",
      "     |          defaults to ``self.B()`` (so Nr(0) will be 0).\n",
      "     |      :rtype: int\n",
      "     |  \n",
      "     |  setdefault(self, key, val)\n",
      "     |      Override ``Counter.setdefault()`` to invalidate the cached N\n",
      "     |  \n",
      "     |  tabulate(self, *args, **kwargs)\n",
      "     |      Tabulate the given samples from the frequency distribution (cumulative),\n",
      "     |      displaying the most frequent sample first.  If an integer\n",
      "     |      parameter is supplied, stop after this many samples have been\n",
      "     |      plotted.\n",
      "     |      \n",
      "     |      :param samples: The samples to plot (default is all samples)\n",
      "     |      :type samples: list\n",
      "     |      :param cumulative: A flag to specify whether the freqs are cumulative (default = False)\n",
      "     |      :type title: bool\n",
      "     |  \n",
      "     |  unicode_repr = __repr__(self)\n",
      "     |  \n",
      "     |  update(self, *args, **kwargs)\n",
      "     |      Override ``Counter.update()`` to invalidate the cached N\n",
      "     |  \n",
      "     |  ----------------------------------------------------------------------\n",
      "     |  Methods inherited from collections.Counter:\n",
      "     |  \n",
      "     |  __iadd__(self, other)\n",
      "     |      Inplace add from another counter, keeping only positive counts.\n",
      "     |      \n",
      "     |      >>> c = Counter('abbb')\n",
      "     |      >>> c += Counter('bcc')\n",
      "     |      >>> c\n",
      "     |      Counter({'b': 4, 'c': 2, 'a': 1})\n",
      "     |  \n",
      "     |  __iand__(self, other)\n",
      "     |      Inplace intersection is the minimum of corresponding counts.\n",
      "     |      \n",
      "     |      >>> c = Counter('abbb')\n",
      "     |      >>> c &= Counter('bcc')\n",
      "     |      >>> c\n",
      "     |      Counter({'b': 1})\n",
      "     |  \n",
      "     |  __ior__(self, other)\n",
      "     |      Inplace union is the maximum of value from either counter.\n",
      "     |      \n",
      "     |      >>> c = Counter('abbb')\n",
      "     |      >>> c |= Counter('bcc')\n",
      "     |      >>> c\n",
      "     |      Counter({'b': 3, 'c': 2, 'a': 1})\n",
      "     |  \n",
      "     |  __isub__(self, other)\n",
      "     |      Inplace subtract counter, but keep only results with positive counts.\n",
      "     |      \n",
      "     |      >>> c = Counter('abbbc')\n",
      "     |      >>> c -= Counter('bccd')\n",
      "     |      >>> c\n",
      "     |      Counter({'b': 2, 'a': 1})\n",
      "     |  \n",
      "     |  __missing__(self, key)\n",
      "     |      The count of elements not in the Counter is zero.\n",
      "     |  \n",
      "     |  __neg__(self)\n",
      "     |      Subtracts from an empty counter.  Strips positive and zero counts,\n",
      "     |      and flips the sign on negative counts.\n",
      "     |  \n",
      "     |  __pos__(self)\n",
      "     |      Adds an empty counter, effectively stripping negative and zero counts\n",
      "     |  \n",
      "     |  __reduce__(self)\n",
      "     |      Helper for pickle.\n",
      "     |  \n",
      "     |  elements(self)\n",
      "     |      Iterator over elements repeating each as many times as its count.\n",
      "     |      \n",
      "     |      >>> c = Counter('ABCABC')\n",
      "     |      >>> sorted(c.elements())\n",
      "     |      ['A', 'A', 'B', 'B', 'C', 'C']\n",
      "     |      \n",
      "     |      # Knuth's example for prime factors of 1836:  2**2 * 3**3 * 17**1\n",
      "     |      >>> prime_factors = Counter({2: 2, 3: 3, 17: 1})\n",
      "     |      >>> product = 1\n",
      "     |      >>> for factor in prime_factors.elements():     # loop over factors\n",
      "     |      ...     product *= factor                       # and multiply them\n",
      "     |      >>> product\n",
      "     |      1836\n",
      "     |      \n",
      "     |      Note, if an element's count has been set to zero or is a negative\n",
      "     |      number, elements() will ignore it.\n",
      "     |  \n",
      "     |  most_common(self, n=None)\n",
      "     |      List the n most common elements and their counts from the most\n",
      "     |      common to the least.  If n is None, then list all element counts.\n",
      "     |      \n",
      "     |      >>> Counter('abcdeabcdabcaba').most_common(3)\n",
      "     |      [('a', 5), ('b', 4), ('c', 3)]\n",
      "     |  \n",
      "     |  subtract(*args, **kwds)\n",
      "     |      Like dict.update() but subtracts counts instead of replacing them.\n",
      "     |      Counts can be reduced below zero.  Both the inputs and outputs are\n",
      "     |      allowed to contain zero and negative counts.\n",
      "     |      \n",
      "     |      Source can be an iterable, a dictionary, or another Counter instance.\n",
      "     |      \n",
      "     |      >>> c = Counter('which')\n",
      "     |      >>> c.subtract('witch')             # subtract elements from another iterable\n",
      "     |      >>> c.subtract(Counter('watch'))    # subtract elements from another counter\n",
      "     |      >>> c['h']                          # 2 in which, minus 1 in witch, minus 1 in watch\n",
      "     |      0\n",
      "     |      >>> c['w']                          # 1 in which, minus 1 in witch, minus 1 in watch\n",
      "     |      -1\n",
      "     |  \n",
      "     |  ----------------------------------------------------------------------\n",
      "     |  Class methods inherited from collections.Counter:\n",
      "     |  \n",
      "     |  fromkeys(iterable, v=None) from builtins.type\n",
      "     |      Create a new dictionary with keys from iterable and values set to value.\n",
      "     |  \n",
      "     |  ----------------------------------------------------------------------\n",
      "     |  Data descriptors inherited from collections.Counter:\n",
      "     |  \n",
      "     |  __dict__\n",
      "     |      dictionary for instance variables (if defined)\n",
      "     |  \n",
      "     |  __weakref__\n",
      "     |      list of weak references to the object (if defined)\n",
      "     |  \n",
      "     |  ----------------------------------------------------------------------\n",
      "     |  Methods inherited from builtins.dict:\n",
      "     |  \n",
      "     |  __contains__(self, key, /)\n",
      "     |      True if the dictionary has the specified key, else False.\n",
      "     |  \n",
      "     |  __eq__(self, value, /)\n",
      "     |      Return self==value.\n",
      "     |  \n",
      "     |  __getattribute__(self, name, /)\n",
      "     |      Return getattr(self, name).\n",
      "     |  \n",
      "     |  __getitem__(...)\n",
      "     |      x.__getitem__(y) <==> x[y]\n",
      "     |  \n",
      "     |  __iter__(self, /)\n",
      "     |      Implement iter(self).\n",
      "     |  \n",
      "     |  __len__(self, /)\n",
      "     |      Return len(self).\n",
      "     |  \n",
      "     |  __ne__(self, value, /)\n",
      "     |      Return self!=value.\n",
      "     |  \n",
      "     |  __sizeof__(...)\n",
      "     |      D.__sizeof__() -> size of D in memory, in bytes\n",
      "     |  \n",
      "     |  clear(...)\n",
      "     |      D.clear() -> None.  Remove all items from D.\n",
      "     |  \n",
      "     |  get(self, key, default=None, /)\n",
      "     |      Return the value for key if key is in the dictionary, else default.\n",
      "     |  \n",
      "     |  items(...)\n",
      "     |      D.items() -> a set-like object providing a view on D's items\n",
      "     |  \n",
      "     |  keys(...)\n",
      "     |      D.keys() -> a set-like object providing a view on D's keys\n",
      "     |  \n",
      "     |  pop(...)\n",
      "     |      D.pop(k[,d]) -> v, remove specified key and return the corresponding value.\n",
      "     |      If key is not found, d is returned if given, otherwise KeyError is raised\n",
      "     |  \n",
      "     |  popitem(...)\n",
      "     |      D.popitem() -> (k, v), remove and return some (key, value) pair as a\n",
      "     |      2-tuple; but raise KeyError if D is empty.\n",
      "     |  \n",
      "     |  values(...)\n",
      "     |      D.values() -> an object providing a view on D's values\n",
      "     |  \n",
      "     |  ----------------------------------------------------------------------\n",
      "     |  Static methods inherited from builtins.dict:\n",
      "     |  \n",
      "     |  __new__(*args, **kwargs) from builtins.type\n",
      "     |      Create and return a new object.  See help(type) for accurate signature.\n",
      "     |  \n",
      "     |  ----------------------------------------------------------------------\n",
      "     |  Data and other attributes inherited from builtins.dict:\n",
      "     |  \n",
      "     |  __hash__ = None\n",
      "    \n",
      "    class HeldoutProbDist(ProbDistI)\n",
      "     |  HeldoutProbDist(base_fdist, heldout_fdist, bins=None)\n",
      "     |  \n",
      "     |  The heldout estimate for the probability distribution of the\n",
      "     |  experiment used to generate two frequency distributions.  These\n",
      "     |  two frequency distributions are called the \"heldout frequency\n",
      "     |  distribution\" and the \"base frequency distribution.\"  The\n",
      "     |  \"heldout estimate\" uses uses the \"heldout frequency\n",
      "     |  distribution\" to predict the probability of each sample, given its\n",
      "     |  frequency in the \"base frequency distribution\".\n",
      "     |  \n",
      "     |  In particular, the heldout estimate approximates the probability\n",
      "     |  for a sample that occurs *r* times in the base distribution as\n",
      "     |  the average frequency in the heldout distribution of all samples\n",
      "     |  that occur *r* times in the base distribution.\n",
      "     |  \n",
      "     |  This average frequency is *Tr[r]/(Nr[r].N)*, where:\n",
      "     |  \n",
      "     |  - *Tr[r]* is the total count in the heldout distribution for\n",
      "     |    all samples that occur *r* times in the base distribution.\n",
      "     |  - *Nr[r]* is the number of samples that occur *r* times in\n",
      "     |    the base distribution.\n",
      "     |  - *N* is the number of outcomes recorded by the heldout\n",
      "     |    frequency distribution.\n",
      "     |  \n",
      "     |  In order to increase the efficiency of the ``prob`` member\n",
      "     |  function, *Tr[r]/(Nr[r].N)* is precomputed for each value of *r*\n",
      "     |  when the ``HeldoutProbDist`` is created.\n",
      "     |  \n",
      "     |  :type _estimate: list(float)\n",
      "     |  :ivar _estimate: A list mapping from *r*, the number of\n",
      "     |      times that a sample occurs in the base distribution, to the\n",
      "     |      probability estimate for that sample.  ``_estimate[r]`` is\n",
      "     |      calculated by finding the average frequency in the heldout\n",
      "     |      distribution of all samples that occur *r* times in the base\n",
      "     |      distribution.  In particular, ``_estimate[r]`` =\n",
      "     |      *Tr[r]/(Nr[r].N)*.\n",
      "     |  :type _max_r: int\n",
      "     |  :ivar _max_r: The maximum number of times that any sample occurs\n",
      "     |      in the base distribution.  ``_max_r`` is used to decide how\n",
      "     |      large ``_estimate`` must be.\n",
      "     |  \n",
      "     |  Method resolution order:\n",
      "     |      HeldoutProbDist\n",
      "     |      ProbDistI\n",
      "     |      builtins.object\n",
      "     |  \n",
      "     |  Methods defined here:\n",
      "     |  \n",
      "     |  __init__(self, base_fdist, heldout_fdist, bins=None)\n",
      "     |      Use the heldout estimate to create a probability distribution\n",
      "     |      for the experiment used to generate ``base_fdist`` and\n",
      "     |      ``heldout_fdist``.\n",
      "     |      \n",
      "     |      :type base_fdist: FreqDist\n",
      "     |      :param base_fdist: The base frequency distribution.\n",
      "     |      :type heldout_fdist: FreqDist\n",
      "     |      :param heldout_fdist: The heldout frequency distribution.\n",
      "     |      :type bins: int\n",
      "     |      :param bins: The number of sample values that can be generated\n",
      "     |          by the experiment that is described by the probability\n",
      "     |          distribution.  This value must be correctly set for the\n",
      "     |          probabilities of the sample values to sum to one.  If\n",
      "     |          ``bins`` is not specified, it defaults to ``freqdist.B()``.\n",
      "     |  \n",
      "     |  __repr__(self)\n",
      "     |      :rtype: str\n",
      "     |      :return: A string representation of this ``ProbDist``.\n",
      "     |  \n",
      "     |  __unicode__ = __str__(self, /)\n",
      "     |      Return str(self).\n",
      "     |  \n",
      "     |  base_fdist(self)\n",
      "     |      Return the base frequency distribution that this probability\n",
      "     |      distribution is based on.\n",
      "     |      \n",
      "     |      :rtype: FreqDist\n",
      "     |  \n",
      "     |  discount(self)\n",
      "     |      Return the ratio by which counts are discounted on average: c*/c\n",
      "     |      \n",
      "     |      :rtype: float\n",
      "     |  \n",
      "     |  heldout_fdist(self)\n",
      "     |      Return the heldout frequency distribution that this\n",
      "     |      probability distribution is based on.\n",
      "     |      \n",
      "     |      :rtype: FreqDist\n",
      "     |  \n",
      "     |  max(self)\n",
      "     |      Return the sample with the greatest probability.  If two or\n",
      "     |      more samples have the same probability, return one of them;\n",
      "     |      which sample is returned is undefined.\n",
      "     |      \n",
      "     |      :rtype: any\n",
      "     |  \n",
      "     |  prob(self, sample)\n",
      "     |      Return the probability for a given sample.  Probabilities\n",
      "     |      are always real numbers in the range [0, 1].\n",
      "     |      \n",
      "     |      :param sample: The sample whose probability\n",
      "     |             should be returned.\n",
      "     |      :type sample: any\n",
      "     |      :rtype: float\n",
      "     |  \n",
      "     |  samples(self)\n",
      "     |      Return a list of all samples that have nonzero probabilities.\n",
      "     |      Use ``prob`` to find the probability of each sample.\n",
      "     |      \n",
      "     |      :rtype: list\n",
      "     |  \n",
      "     |  unicode_repr = __repr__(self)\n",
      "     |  \n",
      "     |  ----------------------------------------------------------------------\n",
      "     |  Data and other attributes defined here:\n",
      "     |  \n",
      "     |  SUM_TO_ONE = False\n",
      "     |  \n",
      "     |  __abstractmethods__ = frozenset()\n",
      "     |  \n",
      "     |  ----------------------------------------------------------------------\n",
      "     |  Methods inherited from ProbDistI:\n",
      "     |  \n",
      "     |  generate(self)\n",
      "     |      Return a randomly selected sample from this probability distribution.\n",
      "     |      The probability of returning each sample ``samp`` is equal to\n",
      "     |      ``self.prob(samp)``.\n",
      "     |  \n",
      "     |  logprob(self, sample)\n",
      "     |      Return the base 2 logarithm of the probability for a given sample.\n",
      "     |      \n",
      "     |      :param sample: The sample whose probability\n",
      "     |             should be returned.\n",
      "     |      :type sample: any\n",
      "     |      :rtype: float\n",
      "     |  \n",
      "     |  ----------------------------------------------------------------------\n",
      "     |  Data descriptors inherited from ProbDistI:\n",
      "     |  \n",
      "     |  __dict__\n",
      "     |      dictionary for instance variables (if defined)\n",
      "     |  \n",
      "     |  __weakref__\n",
      "     |      list of weak references to the object (if defined)\n",
      "    \n",
      "    class ImmutableProbabilisticMixIn(ProbabilisticMixIn)\n",
      "     |  ImmutableProbabilisticMixIn(**kwargs)\n",
      "     |  \n",
      "     |  A mix-in class to associate probabilities with other classes\n",
      "     |  (trees, rules, etc.).  To use the ``ProbabilisticMixIn`` class,\n",
      "     |  define a new class that derives from an existing class and from\n",
      "     |  ProbabilisticMixIn.  You will need to define a new constructor for\n",
      "     |  the new class, which explicitly calls the constructors of both its\n",
      "     |  parent classes.  For example:\n",
      "     |  \n",
      "     |      >>> from nltk.probability import ProbabilisticMixIn\n",
      "     |      >>> class A:\n",
      "     |      ...     def __init__(self, x, y): self.data = (x,y)\n",
      "     |      ...\n",
      "     |      >>> class ProbabilisticA(A, ProbabilisticMixIn):\n",
      "     |      ...     def __init__(self, x, y, **prob_kwarg):\n",
      "     |      ...         A.__init__(self, x, y)\n",
      "     |      ...         ProbabilisticMixIn.__init__(self, **prob_kwarg)\n",
      "     |  \n",
      "     |  See the documentation for the ProbabilisticMixIn\n",
      "     |  ``constructor<__init__>`` for information about the arguments it\n",
      "     |  expects.\n",
      "     |  \n",
      "     |  You should generally also redefine the string representation\n",
      "     |  methods, the comparison methods, and the hashing method.\n",
      "     |  \n",
      "     |  Method resolution order:\n",
      "     |      ImmutableProbabilisticMixIn\n",
      "     |      ProbabilisticMixIn\n",
      "     |      builtins.object\n",
      "     |  \n",
      "     |  Methods defined here:\n",
      "     |  \n",
      "     |  set_logprob(self, prob)\n",
      "     |      Set the log probability associated with this object to\n",
      "     |      ``logprob``.  I.e., set the probability associated with this\n",
      "     |      object to ``2**(logprob)``.\n",
      "     |      \n",
      "     |      :param logprob: The new log probability\n",
      "     |      :type logprob: float\n",
      "     |  \n",
      "     |  set_prob(self, prob)\n",
      "     |      Set the probability associated with this object to ``prob``.\n",
      "     |      \n",
      "     |      :param prob: The new probability\n",
      "     |      :type prob: float\n",
      "     |  \n",
      "     |  ----------------------------------------------------------------------\n",
      "     |  Methods inherited from ProbabilisticMixIn:\n",
      "     |  \n",
      "     |  __init__(self, **kwargs)\n",
      "     |      Initialize this object's probability.  This initializer should\n",
      "     |      be called by subclass constructors.  ``prob`` should generally be\n",
      "     |      the first argument for those constructors.\n",
      "     |      \n",
      "     |      :param prob: The probability associated with the object.\n",
      "     |      :type prob: float\n",
      "     |      :param logprob: The log of the probability associated with\n",
      "     |          the object.\n",
      "     |      :type logprob: float\n",
      "     |  \n",
      "     |  logprob(self)\n",
      "     |      Return ``log(p)``, where ``p`` is the probability associated\n",
      "     |      with this object.\n",
      "     |      \n",
      "     |      :rtype: float\n",
      "     |  \n",
      "     |  prob(self)\n",
      "     |      Return the probability associated with this object.\n",
      "     |      \n",
      "     |      :rtype: float\n",
      "     |  \n",
      "     |  ----------------------------------------------------------------------\n",
      "     |  Data descriptors inherited from ProbabilisticMixIn:\n",
      "     |  \n",
      "     |  __dict__\n",
      "     |      dictionary for instance variables (if defined)\n",
      "     |  \n",
      "     |  __weakref__\n",
      "     |      list of weak references to the object (if defined)\n",
      "    \n",
      "    class KneserNeyProbDist(ProbDistI)\n",
      "     |  KneserNeyProbDist(freqdist, bins=None, discount=0.75)\n",
      "     |  \n",
      "     |  Kneser-Ney estimate of a probability distribution. This is a version of\n",
      "     |  back-off that counts how likely an n-gram is provided the n-1-gram had\n",
      "     |  been seen in training. Extends the ProbDistI interface, requires a trigram\n",
      "     |  FreqDist instance to train on. Optionally, a different from default discount\n",
      "     |  value can be specified. The default discount is set to 0.75.\n",
      "     |  \n",
      "     |  Method resolution order:\n",
      "     |      KneserNeyProbDist\n",
      "     |      ProbDistI\n",
      "     |      builtins.object\n",
      "     |  \n",
      "     |  Methods defined here:\n",
      "     |  \n",
      "     |  __init__(self, freqdist, bins=None, discount=0.75)\n",
      "     |      :param freqdist: The trigram frequency distribution upon which to base\n",
      "     |          the estimation\n",
      "     |      :type freqdist: FreqDist\n",
      "     |      :param bins: Included for compatibility with nltk.tag.hmm\n",
      "     |      :type bins: int or float\n",
      "     |      :param discount: The discount applied when retrieving counts of\n",
      "     |          trigrams\n",
      "     |      :type discount: float (preferred, but can be set to int)\n",
      "     |  \n",
      "     |  __repr__(self)\n",
      "     |      Return a string representation of this ProbDist\n",
      "     |      \n",
      "     |      :rtype: str\n",
      "     |  \n",
      "     |  __unicode__ = __str__(self, /)\n",
      "     |      Return str(self).\n",
      "     |  \n",
      "     |  discount(self)\n",
      "     |      Return the value by which counts are discounted. By default set to 0.75.\n",
      "     |      \n",
      "     |      :rtype: float\n",
      "     |  \n",
      "     |  max(self)\n",
      "     |      Return the sample with the greatest probability.  If two or\n",
      "     |      more samples have the same probability, return one of them;\n",
      "     |      which sample is returned is undefined.\n",
      "     |      \n",
      "     |      :rtype: any\n",
      "     |  \n",
      "     |  prob(self, trigram)\n",
      "     |      Return the probability for a given sample.  Probabilities\n",
      "     |      are always real numbers in the range [0, 1].\n",
      "     |      \n",
      "     |      :param sample: The sample whose probability\n",
      "     |             should be returned.\n",
      "     |      :type sample: any\n",
      "     |      :rtype: float\n",
      "     |  \n",
      "     |  samples(self)\n",
      "     |      Return a list of all samples that have nonzero probabilities.\n",
      "     |      Use ``prob`` to find the probability of each sample.\n",
      "     |      \n",
      "     |      :rtype: list\n",
      "     |  \n",
      "     |  set_discount(self, discount)\n",
      "     |      Set the value by which counts are discounted to the value of discount.\n",
      "     |      \n",
      "     |      :param discount: the new value to discount counts by\n",
      "     |      :type discount: float (preferred, but int possible)\n",
      "     |      :rtype: None\n",
      "     |  \n",
      "     |  unicode_repr = __repr__(self)\n",
      "     |  \n",
      "     |  ----------------------------------------------------------------------\n",
      "     |  Data and other attributes defined here:\n",
      "     |  \n",
      "     |  __abstractmethods__ = frozenset()\n",
      "     |  \n",
      "     |  ----------------------------------------------------------------------\n",
      "     |  Methods inherited from ProbDistI:\n",
      "     |  \n",
      "     |  generate(self)\n",
      "     |      Return a randomly selected sample from this probability distribution.\n",
      "     |      The probability of returning each sample ``samp`` is equal to\n",
      "     |      ``self.prob(samp)``.\n",
      "     |  \n",
      "     |  logprob(self, sample)\n",
      "     |      Return the base 2 logarithm of the probability for a given sample.\n",
      "     |      \n",
      "     |      :param sample: The sample whose probability\n",
      "     |             should be returned.\n",
      "     |      :type sample: any\n",
      "     |      :rtype: float\n",
      "     |  \n",
      "     |  ----------------------------------------------------------------------\n",
      "     |  Data descriptors inherited from ProbDistI:\n",
      "     |  \n",
      "     |  __dict__\n",
      "     |      dictionary for instance variables (if defined)\n",
      "     |  \n",
      "     |  __weakref__\n",
      "     |      list of weak references to the object (if defined)\n",
      "     |  \n",
      "     |  ----------------------------------------------------------------------\n",
      "     |  Data and other attributes inherited from ProbDistI:\n",
      "     |  \n",
      "     |  SUM_TO_ONE = True\n",
      "    \n",
      "    class LaplaceProbDist(LidstoneProbDist)\n",
      "     |  LaplaceProbDist(freqdist, bins=None)\n",
      "     |  \n",
      "     |  The Laplace estimate for the probability distribution of the\n",
      "     |  experiment used to generate a frequency distribution.  The\n",
      "     |  \"Laplace estimate\" approximates the probability of a sample with\n",
      "     |  count *c* from an experiment with *N* outcomes and *B* bins as\n",
      "     |  *(c+1)/(N+B)*.  This is equivalent to adding one to the count for\n",
      "     |  each bin, and taking the maximum likelihood estimate of the\n",
      "     |  resulting frequency distribution.\n",
      "     |  \n",
      "     |  Method resolution order:\n",
      "     |      LaplaceProbDist\n",
      "     |      LidstoneProbDist\n",
      "     |      ProbDistI\n",
      "     |      builtins.object\n",
      "     |  \n",
      "     |  Methods defined here:\n",
      "     |  \n",
      "     |  __init__(self, freqdist, bins=None)\n",
      "     |      Use the Laplace estimate to create a probability distribution\n",
      "     |      for the experiment used to generate ``freqdist``.\n",
      "     |      \n",
      "     |      :type freqdist: FreqDist\n",
      "     |      :param freqdist: The frequency distribution that the\n",
      "     |          probability estimates should be based on.\n",
      "     |      :type bins: int\n",
      "     |      :param bins: The number of sample values that can be generated\n",
      "     |          by the experiment that is described by the probability\n",
      "     |          distribution.  This value must be correctly set for the\n",
      "     |          probabilities of the sample values to sum to one.  If\n",
      "     |          ``bins`` is not specified, it defaults to ``freqdist.B()``.\n",
      "     |  \n",
      "     |  __repr__(self)\n",
      "     |      :rtype: str\n",
      "     |      :return: A string representation of this ``ProbDist``.\n",
      "     |  \n",
      "     |  __unicode__ = __str__(self, /)\n",
      "     |      Return str(self).\n",
      "     |  \n",
      "     |  unicode_repr = __repr__(self)\n",
      "     |  \n",
      "     |  ----------------------------------------------------------------------\n",
      "     |  Data and other attributes defined here:\n",
      "     |  \n",
      "     |  __abstractmethods__ = frozenset()\n",
      "     |  \n",
      "     |  ----------------------------------------------------------------------\n",
      "     |  Methods inherited from LidstoneProbDist:\n",
      "     |  \n",
      "     |  discount(self)\n",
      "     |      Return the ratio by which counts are discounted on average: c*/c\n",
      "     |      \n",
      "     |      :rtype: float\n",
      "     |  \n",
      "     |  freqdist(self)\n",
      "     |      Return the frequency distribution that this probability\n",
      "     |      distribution is based on.\n",
      "     |      \n",
      "     |      :rtype: FreqDist\n",
      "     |  \n",
      "     |  max(self)\n",
      "     |      Return the sample with the greatest probability.  If two or\n",
      "     |      more samples have the same probability, return one of them;\n",
      "     |      which sample is returned is undefined.\n",
      "     |      \n",
      "     |      :rtype: any\n",
      "     |  \n",
      "     |  prob(self, sample)\n",
      "     |      Return the probability for a given sample.  Probabilities\n",
      "     |      are always real numbers in the range [0, 1].\n",
      "     |      \n",
      "     |      :param sample: The sample whose probability\n",
      "     |             should be returned.\n",
      "     |      :type sample: any\n",
      "     |      :rtype: float\n",
      "     |  \n",
      "     |  samples(self)\n",
      "     |      Return a list of all samples that have nonzero probabilities.\n",
      "     |      Use ``prob`` to find the probability of each sample.\n",
      "     |      \n",
      "     |      :rtype: list\n",
      "     |  \n",
      "     |  ----------------------------------------------------------------------\n",
      "     |  Data and other attributes inherited from LidstoneProbDist:\n",
      "     |  \n",
      "     |  SUM_TO_ONE = False\n",
      "     |  \n",
      "     |  ----------------------------------------------------------------------\n",
      "     |  Methods inherited from ProbDistI:\n",
      "     |  \n",
      "     |  generate(self)\n",
      "     |      Return a randomly selected sample from this probability distribution.\n",
      "     |      The probability of returning each sample ``samp`` is equal to\n",
      "     |      ``self.prob(samp)``.\n",
      "     |  \n",
      "     |  logprob(self, sample)\n",
      "     |      Return the base 2 logarithm of the probability for a given sample.\n",
      "     |      \n",
      "     |      :param sample: The sample whose probability\n",
      "     |             should be returned.\n",
      "     |      :type sample: any\n",
      "     |      :rtype: float\n",
      "     |  \n",
      "     |  ----------------------------------------------------------------------\n",
      "     |  Data descriptors inherited from ProbDistI:\n",
      "     |  \n",
      "     |  __dict__\n",
      "     |      dictionary for instance variables (if defined)\n",
      "     |  \n",
      "     |  __weakref__\n",
      "     |      list of weak references to the object (if defined)\n",
      "    \n",
      "    class LidstoneProbDist(ProbDistI)\n",
      "     |  LidstoneProbDist(freqdist, gamma, bins=None)\n",
      "     |  \n",
      "     |  The Lidstone estimate for the probability distribution of the\n",
      "     |  experiment used to generate a frequency distribution.  The\n",
      "     |  \"Lidstone estimate\" is parameterized by a real number *gamma*,\n",
      "     |  which typically ranges from 0 to 1.  The Lidstone estimate\n",
      "     |  approximates the probability of a sample with count *c* from an\n",
      "     |  experiment with *N* outcomes and *B* bins as\n",
      "     |  ``c+gamma)/(N+B*gamma)``.  This is equivalent to adding\n",
      "     |  *gamma* to the count for each bin, and taking the maximum\n",
      "     |  likelihood estimate of the resulting frequency distribution.\n",
      "     |  \n",
      "     |  Method resolution order:\n",
      "     |      LidstoneProbDist\n",
      "     |      ProbDistI\n",
      "     |      builtins.object\n",
      "     |  \n",
      "     |  Methods defined here:\n",
      "     |  \n",
      "     |  __init__(self, freqdist, gamma, bins=None)\n",
      "     |      Use the Lidstone estimate to create a probability distribution\n",
      "     |      for the experiment used to generate ``freqdist``.\n",
      "     |      \n",
      "     |      :type freqdist: FreqDist\n",
      "     |      :param freqdist: The frequency distribution that the\n",
      "     |          probability estimates should be based on.\n",
      "     |      :type gamma: float\n",
      "     |      :param gamma: A real number used to parameterize the\n",
      "     |          estimate.  The Lidstone estimate is equivalent to adding\n",
      "     |          *gamma* to the count for each bin, and taking the\n",
      "     |          maximum likelihood estimate of the resulting frequency\n",
      "     |          distribution.\n",
      "     |      :type bins: int\n",
      "     |      :param bins: The number of sample values that can be generated\n",
      "     |          by the experiment that is described by the probability\n",
      "     |          distribution.  This value must be correctly set for the\n",
      "     |          probabilities of the sample values to sum to one.  If\n",
      "     |          ``bins`` is not specified, it defaults to ``freqdist.B()``.\n",
      "     |  \n",
      "     |  __repr__(self)\n",
      "     |      Return a string representation of this ``ProbDist``.\n",
      "     |      \n",
      "     |      :rtype: str\n",
      "     |  \n",
      "     |  __unicode__ = __str__(self, /)\n",
      "     |      Return str(self).\n",
      "     |  \n",
      "     |  discount(self)\n",
      "     |      Return the ratio by which counts are discounted on average: c*/c\n",
      "     |      \n",
      "     |      :rtype: float\n",
      "     |  \n",
      "     |  freqdist(self)\n",
      "     |      Return the frequency distribution that this probability\n",
      "     |      distribution is based on.\n",
      "     |      \n",
      "     |      :rtype: FreqDist\n",
      "     |  \n",
      "     |  max(self)\n",
      "     |      Return the sample with the greatest probability.  If two or\n",
      "     |      more samples have the same probability, return one of them;\n",
      "     |      which sample is returned is undefined.\n",
      "     |      \n",
      "     |      :rtype: any\n",
      "     |  \n",
      "     |  prob(self, sample)\n",
      "     |      Return the probability for a given sample.  Probabilities\n",
      "     |      are always real numbers in the range [0, 1].\n",
      "     |      \n",
      "     |      :param sample: The sample whose probability\n",
      "     |             should be returned.\n",
      "     |      :type sample: any\n",
      "     |      :rtype: float\n",
      "     |  \n",
      "     |  samples(self)\n",
      "     |      Return a list of all samples that have nonzero probabilities.\n",
      "     |      Use ``prob`` to find the probability of each sample.\n",
      "     |      \n",
      "     |      :rtype: list\n",
      "     |  \n",
      "     |  unicode_repr = __repr__(self)\n",
      "     |  \n",
      "     |  ----------------------------------------------------------------------\n",
      "     |  Data and other attributes defined here:\n",
      "     |  \n",
      "     |  SUM_TO_ONE = False\n",
      "     |  \n",
      "     |  __abstractmethods__ = frozenset()\n",
      "     |  \n",
      "     |  ----------------------------------------------------------------------\n",
      "     |  Methods inherited from ProbDistI:\n",
      "     |  \n",
      "     |  generate(self)\n",
      "     |      Return a randomly selected sample from this probability distribution.\n",
      "     |      The probability of returning each sample ``samp`` is equal to\n",
      "     |      ``self.prob(samp)``.\n",
      "     |  \n",
      "     |  logprob(self, sample)\n",
      "     |      Return the base 2 logarithm of the probability for a given sample.\n",
      "     |      \n",
      "     |      :param sample: The sample whose probability\n",
      "     |             should be returned.\n",
      "     |      :type sample: any\n",
      "     |      :rtype: float\n",
      "     |  \n",
      "     |  ----------------------------------------------------------------------\n",
      "     |  Data descriptors inherited from ProbDistI:\n",
      "     |  \n",
      "     |  __dict__\n",
      "     |      dictionary for instance variables (if defined)\n",
      "     |  \n",
      "     |  __weakref__\n",
      "     |      list of weak references to the object (if defined)\n",
      "    \n",
      "    class MLEProbDist(ProbDistI)\n",
      "     |  MLEProbDist(freqdist, bins=None)\n",
      "     |  \n",
      "     |  The maximum likelihood estimate for the probability distribution\n",
      "     |  of the experiment used to generate a frequency distribution.  The\n",
      "     |  \"maximum likelihood estimate\" approximates the probability of\n",
      "     |  each sample as the frequency of that sample in the frequency\n",
      "     |  distribution.\n",
      "     |  \n",
      "     |  Method resolution order:\n",
      "     |      MLEProbDist\n",
      "     |      ProbDistI\n",
      "     |      builtins.object\n",
      "     |  \n",
      "     |  Methods defined here:\n",
      "     |  \n",
      "     |  __init__(self, freqdist, bins=None)\n",
      "     |      Use the maximum likelihood estimate to create a probability\n",
      "     |      distribution for the experiment used to generate ``freqdist``.\n",
      "     |      \n",
      "     |      :type freqdist: FreqDist\n",
      "     |      :param freqdist: The frequency distribution that the\n",
      "     |          probability estimates should be based on.\n",
      "     |  \n",
      "     |  __repr__(self)\n",
      "     |      :rtype: str\n",
      "     |      :return: A string representation of this ``ProbDist``.\n",
      "     |  \n",
      "     |  __unicode__ = __str__(self, /)\n",
      "     |      Return str(self).\n",
      "     |  \n",
      "     |  freqdist(self)\n",
      "     |      Return the frequency distribution that this probability\n",
      "     |      distribution is based on.\n",
      "     |      \n",
      "     |      :rtype: FreqDist\n",
      "     |  \n",
      "     |  max(self)\n",
      "     |      Return the sample with the greatest probability.  If two or\n",
      "     |      more samples have the same probability, return one of them;\n",
      "     |      which sample is returned is undefined.\n",
      "     |      \n",
      "     |      :rtype: any\n",
      "     |  \n",
      "     |  prob(self, sample)\n",
      "     |      Return the probability for a given sample.  Probabilities\n",
      "     |      are always real numbers in the range [0, 1].\n",
      "     |      \n",
      "     |      :param sample: The sample whose probability\n",
      "     |             should be returned.\n",
      "     |      :type sample: any\n",
      "     |      :rtype: float\n",
      "     |  \n",
      "     |  samples(self)\n",
      "     |      Return a list of all samples that have nonzero probabilities.\n",
      "     |      Use ``prob`` to find the probability of each sample.\n",
      "     |      \n",
      "     |      :rtype: list\n",
      "     |  \n",
      "     |  unicode_repr = __repr__(self)\n",
      "     |  \n",
      "     |  ----------------------------------------------------------------------\n",
      "     |  Data and other attributes defined here:\n",
      "     |  \n",
      "     |  __abstractmethods__ = frozenset()\n",
      "     |  \n",
      "     |  ----------------------------------------------------------------------\n",
      "     |  Methods inherited from ProbDistI:\n",
      "     |  \n",
      "     |  discount(self)\n",
      "     |      Return the ratio by which counts are discounted on average: c*/c\n",
      "     |      \n",
      "     |      :rtype: float\n",
      "     |  \n",
      "     |  generate(self)\n",
      "     |      Return a randomly selected sample from this probability distribution.\n",
      "     |      The probability of returning each sample ``samp`` is equal to\n",
      "     |      ``self.prob(samp)``.\n",
      "     |  \n",
      "     |  logprob(self, sample)\n",
      "     |      Return the base 2 logarithm of the probability for a given sample.\n",
      "     |      \n",
      "     |      :param sample: The sample whose probability\n",
      "     |             should be returned.\n",
      "     |      :type sample: any\n",
      "     |      :rtype: float\n",
      "     |  \n",
      "     |  ----------------------------------------------------------------------\n",
      "     |  Data descriptors inherited from ProbDistI:\n",
      "     |  \n",
      "     |  __dict__\n",
      "     |      dictionary for instance variables (if defined)\n",
      "     |  \n",
      "     |  __weakref__\n",
      "     |      list of weak references to the object (if defined)\n",
      "     |  \n",
      "     |  ----------------------------------------------------------------------\n",
      "     |  Data and other attributes inherited from ProbDistI:\n",
      "     |  \n",
      "     |  SUM_TO_ONE = True\n",
      "    \n",
      "    class MutableProbDist(ProbDistI)\n",
      "     |  MutableProbDist(prob_dist, samples, store_logs=True)\n",
      "     |  \n",
      "     |  An mutable probdist where the probabilities may be easily modified. This\n",
      "     |  simply copies an existing probdist, storing the probability values in a\n",
      "     |  mutable dictionary and providing an update method.\n",
      "     |  \n",
      "     |  Method resolution order:\n",
      "     |      MutableProbDist\n",
      "     |      ProbDistI\n",
      "     |      builtins.object\n",
      "     |  \n",
      "     |  Methods defined here:\n",
      "     |  \n",
      "     |  __init__(self, prob_dist, samples, store_logs=True)\n",
      "     |      Creates the mutable probdist based on the given prob_dist and using\n",
      "     |      the list of samples given. These values are stored as log\n",
      "     |      probabilities if the store_logs flag is set.\n",
      "     |      \n",
      "     |      :param prob_dist: the distribution from which to garner the\n",
      "     |          probabilities\n",
      "     |      :type prob_dist: ProbDist\n",
      "     |      :param samples: the complete set of samples\n",
      "     |      :type samples: sequence of any\n",
      "     |      :param store_logs: whether to store the probabilities as logarithms\n",
      "     |      :type store_logs: bool\n",
      "     |  \n",
      "     |  logprob(self, sample)\n",
      "     |      Return the base 2 logarithm of the probability for a given sample.\n",
      "     |      \n",
      "     |      :param sample: The sample whose probability\n",
      "     |             should be returned.\n",
      "     |      :type sample: any\n",
      "     |      :rtype: float\n",
      "     |  \n",
      "     |  max(self)\n",
      "     |      Return the sample with the greatest probability.  If two or\n",
      "     |      more samples have the same probability, return one of them;\n",
      "     |      which sample is returned is undefined.\n",
      "     |      \n",
      "     |      :rtype: any\n",
      "     |  \n",
      "     |  prob(self, sample)\n",
      "     |      Return the probability for a given sample.  Probabilities\n",
      "     |      are always real numbers in the range [0, 1].\n",
      "     |      \n",
      "     |      :param sample: The sample whose probability\n",
      "     |             should be returned.\n",
      "     |      :type sample: any\n",
      "     |      :rtype: float\n",
      "     |  \n",
      "     |  samples(self)\n",
      "     |      Return a list of all samples that have nonzero probabilities.\n",
      "     |      Use ``prob`` to find the probability of each sample.\n",
      "     |      \n",
      "     |      :rtype: list\n",
      "     |  \n",
      "     |  update(self, sample, prob, log=True)\n",
      "     |      Update the probability for the given sample. This may cause the object\n",
      "     |      to stop being the valid probability distribution - the user must\n",
      "     |      ensure that they update the sample probabilities such that all samples\n",
      "     |      have probabilities between 0 and 1 and that all probabilities sum to\n",
      "     |      one.\n",
      "     |      \n",
      "     |      :param sample: the sample for which to update the probability\n",
      "     |      :type sample: any\n",
      "     |      :param prob: the new probability\n",
      "     |      :type prob: float\n",
      "     |      :param log: is the probability already logged\n",
      "     |      :type log: bool\n",
      "     |  \n",
      "     |  ----------------------------------------------------------------------\n",
      "     |  Data and other attributes defined here:\n",
      "     |  \n",
      "     |  __abstractmethods__ = frozenset()\n",
      "     |  \n",
      "     |  ----------------------------------------------------------------------\n",
      "     |  Methods inherited from ProbDistI:\n",
      "     |  \n",
      "     |  discount(self)\n",
      "     |      Return the ratio by which counts are discounted on average: c*/c\n",
      "     |      \n",
      "     |      :rtype: float\n",
      "     |  \n",
      "     |  generate(self)\n",
      "     |      Return a randomly selected sample from this probability distribution.\n",
      "     |      The probability of returning each sample ``samp`` is equal to\n",
      "     |      ``self.prob(samp)``.\n",
      "     |  \n",
      "     |  ----------------------------------------------------------------------\n",
      "     |  Data descriptors inherited from ProbDistI:\n",
      "     |  \n",
      "     |  __dict__\n",
      "     |      dictionary for instance variables (if defined)\n",
      "     |  \n",
      "     |  __weakref__\n",
      "     |      list of weak references to the object (if defined)\n",
      "     |  \n",
      "     |  ----------------------------------------------------------------------\n",
      "     |  Data and other attributes inherited from ProbDistI:\n",
      "     |  \n",
      "     |  SUM_TO_ONE = True\n",
      "    \n",
      "    class ProbDistI(builtins.object)\n",
      "     |  A probability distribution for the outcomes of an experiment.  A\n",
      "     |  probability distribution specifies how likely it is that an\n",
      "     |  experiment will have any given outcome.  For example, a\n",
      "     |  probability distribution could be used to predict the probability\n",
      "     |  that a token in a document will have a given type.  Formally, a\n",
      "     |  probability distribution can be defined as a function mapping from\n",
      "     |  samples to nonnegative real numbers, such that the sum of every\n",
      "     |  number in the function's range is 1.0.  A ``ProbDist`` is often\n",
      "     |  used to model the probability distribution of the experiment used\n",
      "     |  to generate a frequency distribution.\n",
      "     |  \n",
      "     |  Methods defined here:\n",
      "     |  \n",
      "     |  __init__(self)\n",
      "     |      Classes inheriting from ProbDistI should implement __init__.\n",
      "     |  \n",
      "     |  discount(self)\n",
      "     |      Return the ratio by which counts are discounted on average: c*/c\n",
      "     |      \n",
      "     |      :rtype: float\n",
      "     |  \n",
      "     |  generate(self)\n",
      "     |      Return a randomly selected sample from this probability distribution.\n",
      "     |      The probability of returning each sample ``samp`` is equal to\n",
      "     |      ``self.prob(samp)``.\n",
      "     |  \n",
      "     |  logprob(self, sample)\n",
      "     |      Return the base 2 logarithm of the probability for a given sample.\n",
      "     |      \n",
      "     |      :param sample: The sample whose probability\n",
      "     |             should be returned.\n",
      "     |      :type sample: any\n",
      "     |      :rtype: float\n",
      "     |  \n",
      "     |  max(self)\n",
      "     |      Return the sample with the greatest probability.  If two or\n",
      "     |      more samples have the same probability, return one of them;\n",
      "     |      which sample is returned is undefined.\n",
      "     |      \n",
      "     |      :rtype: any\n",
      "     |  \n",
      "     |  prob(self, sample)\n",
      "     |      Return the probability for a given sample.  Probabilities\n",
      "     |      are always real numbers in the range [0, 1].\n",
      "     |      \n",
      "     |      :param sample: The sample whose probability\n",
      "     |             should be returned.\n",
      "     |      :type sample: any\n",
      "     |      :rtype: float\n",
      "     |  \n",
      "     |  samples(self)\n",
      "     |      Return a list of all samples that have nonzero probabilities.\n",
      "     |      Use ``prob`` to find the probability of each sample.\n",
      "     |      \n",
      "     |      :rtype: list\n",
      "     |  \n",
      "     |  ----------------------------------------------------------------------\n",
      "     |  Data descriptors defined here:\n",
      "     |  \n",
      "     |  __dict__\n",
      "     |      dictionary for instance variables (if defined)\n",
      "     |  \n",
      "     |  __weakref__\n",
      "     |      list of weak references to the object (if defined)\n",
      "     |  \n",
      "     |  ----------------------------------------------------------------------\n",
      "     |  Data and other attributes defined here:\n",
      "     |  \n",
      "     |  SUM_TO_ONE = True\n",
      "     |  \n",
      "     |  __abstractmethods__ = frozenset({'__init__', 'max', 'prob', 'samples'}...\n",
      "    \n",
      "    class ProbabilisticMixIn(builtins.object)\n",
      "     |  ProbabilisticMixIn(**kwargs)\n",
      "     |  \n",
      "     |  A mix-in class to associate probabilities with other classes\n",
      "     |  (trees, rules, etc.).  To use the ``ProbabilisticMixIn`` class,\n",
      "     |  define a new class that derives from an existing class and from\n",
      "     |  ProbabilisticMixIn.  You will need to define a new constructor for\n",
      "     |  the new class, which explicitly calls the constructors of both its\n",
      "     |  parent classes.  For example:\n",
      "     |  \n",
      "     |      >>> from nltk.probability import ProbabilisticMixIn\n",
      "     |      >>> class A:\n",
      "     |      ...     def __init__(self, x, y): self.data = (x,y)\n",
      "     |      ...\n",
      "     |      >>> class ProbabilisticA(A, ProbabilisticMixIn):\n",
      "     |      ...     def __init__(self, x, y, **prob_kwarg):\n",
      "     |      ...         A.__init__(self, x, y)\n",
      "     |      ...         ProbabilisticMixIn.__init__(self, **prob_kwarg)\n",
      "     |  \n",
      "     |  See the documentation for the ProbabilisticMixIn\n",
      "     |  ``constructor<__init__>`` for information about the arguments it\n",
      "     |  expects.\n",
      "     |  \n",
      "     |  You should generally also redefine the string representation\n",
      "     |  methods, the comparison methods, and the hashing method.\n",
      "     |  \n",
      "     |  Methods defined here:\n",
      "     |  \n",
      "     |  __init__(self, **kwargs)\n",
      "     |      Initialize this object's probability.  This initializer should\n",
      "     |      be called by subclass constructors.  ``prob`` should generally be\n",
      "     |      the first argument for those constructors.\n",
      "     |      \n",
      "     |      :param prob: The probability associated with the object.\n",
      "     |      :type prob: float\n",
      "     |      :param logprob: The log of the probability associated with\n",
      "     |          the object.\n",
      "     |      :type logprob: float\n",
      "     |  \n",
      "     |  logprob(self)\n",
      "     |      Return ``log(p)``, where ``p`` is the probability associated\n",
      "     |      with this object.\n",
      "     |      \n",
      "     |      :rtype: float\n",
      "     |  \n",
      "     |  prob(self)\n",
      "     |      Return the probability associated with this object.\n",
      "     |      \n",
      "     |      :rtype: float\n",
      "     |  \n",
      "     |  set_logprob(self, logprob)\n",
      "     |      Set the log probability associated with this object to\n",
      "     |      ``logprob``.  I.e., set the probability associated with this\n",
      "     |      object to ``2**(logprob)``.\n",
      "     |      \n",
      "     |      :param logprob: The new log probability\n",
      "     |      :type logprob: float\n",
      "     |  \n",
      "     |  set_prob(self, prob)\n",
      "     |      Set the probability associated with this object to ``prob``.\n",
      "     |      \n",
      "     |      :param prob: The new probability\n",
      "     |      :type prob: float\n",
      "     |  \n",
      "     |  ----------------------------------------------------------------------\n",
      "     |  Data descriptors defined here:\n",
      "     |  \n",
      "     |  __dict__\n",
      "     |      dictionary for instance variables (if defined)\n",
      "     |  \n",
      "     |  __weakref__\n",
      "     |      list of weak references to the object (if defined)\n",
      "    \n",
      "    class SimpleGoodTuringProbDist(ProbDistI)\n",
      "     |  SimpleGoodTuringProbDist(freqdist, bins=None)\n",
      "     |  \n",
      "     |  SimpleGoodTuring ProbDist approximates from frequency to frequency of\n",
      "     |  frequency into a linear line under log space by linear regression.\n",
      "     |  Details of Simple Good-Turing algorithm can be found in:\n",
      "     |  \n",
      "     |  - Good Turing smoothing without tears\" (Gale & Sampson 1995),\n",
      "     |    Journal of Quantitative Linguistics, vol. 2 pp. 217-237.\n",
      "     |  - \"Speech and Language Processing (Jurafsky & Martin),\n",
      "     |    2nd Edition, Chapter 4.5 p103 (log(Nc) =  a + b*log(c))\n",
      "     |  - http://www.grsampson.net/RGoodTur.html\n",
      "     |  \n",
      "     |  Given a set of pair (xi, yi),  where the xi denotes the frequency and\n",
      "     |  yi denotes the frequency of frequency, we want to minimize their\n",
      "     |  square variation. E(x) and E(y) represent the mean of xi and yi.\n",
      "     |  \n",
      "     |  - slope: b = sigma ((xi-E(x)(yi-E(y))) / sigma ((xi-E(x))(xi-E(x)))\n",
      "     |  - intercept: a = E(y) - b.E(x)\n",
      "     |  \n",
      "     |  Method resolution order:\n",
      "     |      SimpleGoodTuringProbDist\n",
      "     |      ProbDistI\n",
      "     |      builtins.object\n",
      "     |  \n",
      "     |  Methods defined here:\n",
      "     |  \n",
      "     |  __init__(self, freqdist, bins=None)\n",
      "     |      :param freqdist: The frequency counts upon which to base the\n",
      "     |          estimation.\n",
      "     |      :type freqdist: FreqDist\n",
      "     |      :param bins: The number of possible event types. This must be\n",
      "     |          larger than the number of bins in the ``freqdist``. If None,\n",
      "     |          then it's assumed to be equal to ``freqdist``.B() + 1\n",
      "     |      :type bins: int\n",
      "     |  \n",
      "     |  __repr__(self)\n",
      "     |      Return a string representation of this ``ProbDist``.\n",
      "     |      \n",
      "     |      :rtype: str\n",
      "     |  \n",
      "     |  __unicode__ = __str__(self, /)\n",
      "     |      Return str(self).\n",
      "     |  \n",
      "     |  check(self)\n",
      "     |  \n",
      "     |  discount(self)\n",
      "     |      This function returns the total mass of probability transfers from the\n",
      "     |      seen samples to the unseen samples.\n",
      "     |  \n",
      "     |  find_best_fit(self, r, nr)\n",
      "     |      Use simple linear regression to tune parameters self._slope and\n",
      "     |      self._intercept in the log-log space based on count and Nr(count)\n",
      "     |      (Work in log space to avoid floating point underflow.)\n",
      "     |  \n",
      "     |  freqdist(self)\n",
      "     |  \n",
      "     |  max(self)\n",
      "     |      Return the sample with the greatest probability.  If two or\n",
      "     |      more samples have the same probability, return one of them;\n",
      "     |      which sample is returned is undefined.\n",
      "     |      \n",
      "     |      :rtype: any\n",
      "     |  \n",
      "     |  prob(self, sample)\n",
      "     |      Return the sample's probability.\n",
      "     |      \n",
      "     |      :param sample: sample of the event\n",
      "     |      :type sample: str\n",
      "     |      :rtype: float\n",
      "     |  \n",
      "     |  samples(self)\n",
      "     |      Return a list of all samples that have nonzero probabilities.\n",
      "     |      Use ``prob`` to find the probability of each sample.\n",
      "     |      \n",
      "     |      :rtype: list\n",
      "     |  \n",
      "     |  smoothedNr(self, r)\n",
      "     |      Return the number of samples with count r.\n",
      "     |      \n",
      "     |      :param r: The amount of frequency.\n",
      "     |      :type r: int\n",
      "     |      :rtype: float\n",
      "     |  \n",
      "     |  unicode_repr = __repr__(self)\n",
      "     |  \n",
      "     |  ----------------------------------------------------------------------\n",
      "     |  Data and other attributes defined here:\n",
      "     |  \n",
      "     |  SUM_TO_ONE = False\n",
      "     |  \n",
      "     |  __abstractmethods__ = frozenset()\n",
      "     |  \n",
      "     |  ----------------------------------------------------------------------\n",
      "     |  Methods inherited from ProbDistI:\n",
      "     |  \n",
      "     |  generate(self)\n",
      "     |      Return a randomly selected sample from this probability distribution.\n",
      "     |      The probability of returning each sample ``samp`` is equal to\n",
      "     |      ``self.prob(samp)``.\n",
      "     |  \n",
      "     |  logprob(self, sample)\n",
      "     |      Return the base 2 logarithm of the probability for a given sample.\n",
      "     |      \n",
      "     |      :param sample: The sample whose probability\n",
      "     |             should be returned.\n",
      "     |      :type sample: any\n",
      "     |      :rtype: float\n",
      "     |  \n",
      "     |  ----------------------------------------------------------------------\n",
      "     |  Data descriptors inherited from ProbDistI:\n",
      "     |  \n",
      "     |  __dict__\n",
      "     |      dictionary for instance variables (if defined)\n",
      "     |  \n",
      "     |  __weakref__\n",
      "     |      list of weak references to the object (if defined)\n",
      "    \n",
      "    class UniformProbDist(ProbDistI)\n",
      "     |  UniformProbDist(samples)\n",
      "     |  \n",
      "     |  A probability distribution that assigns equal probability to each\n",
      "     |  sample in a given set; and a zero probability to all other\n",
      "     |  samples.\n",
      "     |  \n",
      "     |  Method resolution order:\n",
      "     |      UniformProbDist\n",
      "     |      ProbDistI\n",
      "     |      builtins.object\n",
      "     |  \n",
      "     |  Methods defined here:\n",
      "     |  \n",
      "     |  __init__(self, samples)\n",
      "     |      Construct a new uniform probability distribution, that assigns\n",
      "     |      equal probability to each sample in ``samples``.\n",
      "     |      \n",
      "     |      :param samples: The samples that should be given uniform\n",
      "     |          probability.\n",
      "     |      :type samples: list\n",
      "     |      :raise ValueError: If ``samples`` is empty.\n",
      "     |  \n",
      "     |  __repr__(self)\n",
      "     |      Return repr(self).\n",
      "     |  \n",
      "     |  __unicode__ = __str__(self, /)\n",
      "     |      Return str(self).\n",
      "     |  \n",
      "     |  max(self)\n",
      "     |      Return the sample with the greatest probability.  If two or\n",
      "     |      more samples have the same probability, return one of them;\n",
      "     |      which sample is returned is undefined.\n",
      "     |      \n",
      "     |      :rtype: any\n",
      "     |  \n",
      "     |  prob(self, sample)\n",
      "     |      Return the probability for a given sample.  Probabilities\n",
      "     |      are always real numbers in the range [0, 1].\n",
      "     |      \n",
      "     |      :param sample: The sample whose probability\n",
      "     |             should be returned.\n",
      "     |      :type sample: any\n",
      "     |      :rtype: float\n",
      "     |  \n",
      "     |  samples(self)\n",
      "     |      Return a list of all samples that have nonzero probabilities.\n",
      "     |      Use ``prob`` to find the probability of each sample.\n",
      "     |      \n",
      "     |      :rtype: list\n",
      "     |  \n",
      "     |  unicode_repr = __repr__(self)\n",
      "     |  \n",
      "     |  ----------------------------------------------------------------------\n",
      "     |  Data and other attributes defined here:\n",
      "     |  \n",
      "     |  __abstractmethods__ = frozenset()\n",
      "     |  \n",
      "     |  ----------------------------------------------------------------------\n",
      "     |  Methods inherited from ProbDistI:\n",
      "     |  \n",
      "     |  discount(self)\n",
      "     |      Return the ratio by which counts are discounted on average: c*/c\n",
      "     |      \n",
      "     |      :rtype: float\n",
      "     |  \n",
      "     |  generate(self)\n",
      "     |      Return a randomly selected sample from this probability distribution.\n",
      "     |      The probability of returning each sample ``samp`` is equal to\n",
      "     |      ``self.prob(samp)``.\n",
      "     |  \n",
      "     |  logprob(self, sample)\n",
      "     |      Return the base 2 logarithm of the probability for a given sample.\n",
      "     |      \n",
      "     |      :param sample: The sample whose probability\n",
      "     |             should be returned.\n",
      "     |      :type sample: any\n",
      "     |      :rtype: float\n",
      "     |  \n",
      "     |  ----------------------------------------------------------------------\n",
      "     |  Data descriptors inherited from ProbDistI:\n",
      "     |  \n",
      "     |  __dict__\n",
      "     |      dictionary for instance variables (if defined)\n",
      "     |  \n",
      "     |  __weakref__\n",
      "     |      list of weak references to the object (if defined)\n",
      "     |  \n",
      "     |  ----------------------------------------------------------------------\n",
      "     |  Data and other attributes inherited from ProbDistI:\n",
      "     |  \n",
      "     |  SUM_TO_ONE = True\n",
      "    \n",
      "    class WittenBellProbDist(ProbDistI)\n",
      "     |  WittenBellProbDist(freqdist, bins=None)\n",
      "     |  \n",
      "     |  The Witten-Bell estimate of a probability distribution. This distribution\n",
      "     |  allocates uniform probability mass to as yet unseen events by using the\n",
      "     |  number of events that have only been seen once. The probability mass\n",
      "     |  reserved for unseen events is equal to *T / (N + T)*\n",
      "     |  where *T* is the number of observed event types and *N* is the total\n",
      "     |  number of observed events. This equates to the maximum likelihood estimate\n",
      "     |  of a new type event occurring. The remaining probability mass is discounted\n",
      "     |  such that all probability estimates sum to one, yielding:\n",
      "     |  \n",
      "     |      - *p = T / Z (N + T)*, if count = 0\n",
      "     |      - *p = c / (N + T)*, otherwise\n",
      "     |  \n",
      "     |  Method resolution order:\n",
      "     |      WittenBellProbDist\n",
      "     |      ProbDistI\n",
      "     |      builtins.object\n",
      "     |  \n",
      "     |  Methods defined here:\n",
      "     |  \n",
      "     |  __init__(self, freqdist, bins=None)\n",
      "     |      Creates a distribution of Witten-Bell probability estimates.  This\n",
      "     |      distribution allocates uniform probability mass to as yet unseen\n",
      "     |      events by using the number of events that have only been seen once. The\n",
      "     |      probability mass reserved for unseen events is equal to *T / (N + T)*\n",
      "     |      where *T* is the number of observed event types and *N* is the total\n",
      "     |      number of observed events. This equates to the maximum likelihood\n",
      "     |      estimate of a new type event occurring. The remaining probability mass\n",
      "     |      is discounted such that all probability estimates sum to one,\n",
      "     |      yielding:\n",
      "     |      \n",
      "     |          - *p = T / Z (N + T)*, if count = 0\n",
      "     |          - *p = c / (N + T)*, otherwise\n",
      "     |      \n",
      "     |      The parameters *T* and *N* are taken from the ``freqdist`` parameter\n",
      "     |      (the ``B()`` and ``N()`` values). The normalizing factor *Z* is\n",
      "     |      calculated using these values along with the ``bins`` parameter.\n",
      "     |      \n",
      "     |      :param freqdist: The frequency counts upon which to base the\n",
      "     |          estimation.\n",
      "     |      :type freqdist: FreqDist\n",
      "     |      :param bins: The number of possible event types. This must be at least\n",
      "     |          as large as the number of bins in the ``freqdist``. If None, then\n",
      "     |          it's assumed to be equal to that of the ``freqdist``\n",
      "     |      :type bins: int\n",
      "     |  \n",
      "     |  __repr__(self)\n",
      "     |      Return a string representation of this ``ProbDist``.\n",
      "     |      \n",
      "     |      :rtype: str\n",
      "     |  \n",
      "     |  __unicode__ = __str__(self, /)\n",
      "     |      Return str(self).\n",
      "     |  \n",
      "     |  discount(self)\n",
      "     |      Return the ratio by which counts are discounted on average: c*/c\n",
      "     |      \n",
      "     |      :rtype: float\n",
      "     |  \n",
      "     |  freqdist(self)\n",
      "     |  \n",
      "     |  max(self)\n",
      "     |      Return the sample with the greatest probability.  If two or\n",
      "     |      more samples have the same probability, return one of them;\n",
      "     |      which sample is returned is undefined.\n",
      "     |      \n",
      "     |      :rtype: any\n",
      "     |  \n",
      "     |  prob(self, sample)\n",
      "     |      Return the probability for a given sample.  Probabilities\n",
      "     |      are always real numbers in the range [0, 1].\n",
      "     |      \n",
      "     |      :param sample: The sample whose probability\n",
      "     |             should be returned.\n",
      "     |      :type sample: any\n",
      "     |      :rtype: float\n",
      "     |  \n",
      "     |  samples(self)\n",
      "     |      Return a list of all samples that have nonzero probabilities.\n",
      "     |      Use ``prob`` to find the probability of each sample.\n",
      "     |      \n",
      "     |      :rtype: list\n",
      "     |  \n",
      "     |  unicode_repr = __repr__(self)\n",
      "     |  \n",
      "     |  ----------------------------------------------------------------------\n",
      "     |  Data and other attributes defined here:\n",
      "     |  \n",
      "     |  __abstractmethods__ = frozenset()\n",
      "     |  \n",
      "     |  ----------------------------------------------------------------------\n",
      "     |  Methods inherited from ProbDistI:\n",
      "     |  \n",
      "     |  generate(self)\n",
      "     |      Return a randomly selected sample from this probability distribution.\n",
      "     |      The probability of returning each sample ``samp`` is equal to\n",
      "     |      ``self.prob(samp)``.\n",
      "     |  \n",
      "     |  logprob(self, sample)\n",
      "     |      Return the base 2 logarithm of the probability for a given sample.\n",
      "     |      \n",
      "     |      :param sample: The sample whose probability\n",
      "     |             should be returned.\n",
      "     |      :type sample: any\n",
      "     |      :rtype: float\n",
      "     |  \n",
      "     |  ----------------------------------------------------------------------\n",
      "     |  Data descriptors inherited from ProbDistI:\n",
      "     |  \n",
      "     |  __dict__\n",
      "     |      dictionary for instance variables (if defined)\n",
      "     |  \n",
      "     |  __weakref__\n",
      "     |      list of weak references to the object (if defined)\n",
      "     |  \n",
      "     |  ----------------------------------------------------------------------\n",
      "     |  Data and other attributes inherited from ProbDistI:\n",
      "     |  \n",
      "     |  SUM_TO_ONE = True\n",
      "\n",
      "FUNCTIONS\n",
      "    add_logs(logx, logy)\n",
      "        Given two numbers ``logx`` = *log(x)* and ``logy`` = *log(y)*, return\n",
      "        *log(x+y)*.  Conceptually, this is the same as returning\n",
      "        ``log(2**(logx)+2**(logy))``, but the actual implementation\n",
      "        avoids overflow errors that could result from direct computation.\n",
      "    \n",
      "    entropy(pdist)\n",
      "    \n",
      "    log_likelihood(test_pdist, actual_pdist)\n",
      "    \n",
      "    sum_logs(logs)\n",
      "\n",
      "DATA\n",
      "    __all__ = ['ConditionalFreqDist', 'ConditionalProbDist', 'ConditionalP...\n",
      "\n",
      "FILE\n",
      "    c:\\programdata\\anaconda3\\lib\\site-packages\\nltk\\probability.py\n",
      "\n",
      "\n"
     ]
    }
   ],
   "source": [
    "help(nltk.probability)"
   ]
  },
  {
   "cell_type": "markdown",
   "metadata": {},
   "source": [
    "### Multimodule Programs"
   ]
  },
  {
   "cell_type": "markdown",
   "metadata": {},
   "source": [
    "### Sources of Error"
   ]
  },
  {
   "cell_type": "markdown",
   "metadata": {},
   "source": [
    "Mastery of programming depends on having a variety of problem-solving skills to draw\n",
    "upon when the program doesn’t work as expected. Something as trivial as a misplaced\n",
    "symbol might cause the program to behave very differently. We call these “bugs” because\n",
    "they are tiny in comparison to the damage they can cause. They creep into our\n",
    "code unnoticed, and it’s only much later when we’re running the program on some\n",
    "new data that their presence is detected."
   ]
  },
  {
   "cell_type": "code",
   "execution_count": 33,
   "metadata": {},
   "outputs": [],
   "source": [
    "def find_words(text, wordlength, result=[]):\n",
    "    for word in text:\n",
    "        if len(word) == wordlength:\n",
    "            result.append(word)\n",
    "    return result"
   ]
  },
  {
   "cell_type": "code",
   "execution_count": 34,
   "metadata": {},
   "outputs": [
    {
     "data": {
      "text/plain": [
       "['omg', 'teh', 'teh', 'mat']"
      ]
     },
     "execution_count": 34,
     "metadata": {},
     "output_type": "execute_result"
    }
   ],
   "source": [
    "find_words(['omg', 'teh', 'lolcat', 'sitted', 'on', 'teh', 'mat'], 3)"
   ]
  },
  {
   "cell_type": "code",
   "execution_count": 35,
   "metadata": {},
   "outputs": [
    {
     "data": {
      "text/plain": [
       "['ur', 'on']"
      ]
     },
     "execution_count": 35,
     "metadata": {},
     "output_type": "execute_result"
    }
   ],
   "source": [
    "find_words(['omg', 'teh', 'lolcat', 'sitted', 'on', 'teh', 'mat'], 2, ['ur'])"
   ]
  },
  {
   "cell_type": "code",
   "execution_count": 36,
   "metadata": {},
   "outputs": [
    {
     "data": {
      "text/plain": [
       "['omg', 'teh', 'teh', 'mat', 'omg', 'teh', 'teh', 'mat']"
      ]
     },
     "execution_count": 36,
     "metadata": {},
     "output_type": "execute_result"
    }
   ],
   "source": [
    "find_words(['omg', 'teh', 'lolcat', 'sitted', 'on', 'teh', 'mat'], 3)"
   ]
  },
  {
   "cell_type": "markdown",
   "metadata": {},
   "source": [
    "### Debugging Techniques"
   ]
  },
  {
   "cell_type": "markdown",
   "metadata": {},
   "source": [
    "Since most code errors result from the programmer making incorrect assumptions, the first thing to do when you detect a bug is to check your assumptions. Localize the problem by adding print statements to the program, showing the value of important variables,and showing how far the program has progressed."
   ]
  },
  {
   "cell_type": "code",
   "execution_count": 44,
   "metadata": {},
   "outputs": [],
   "source": [
    "import pdb\n",
    "# import mymodule\n",
    "# pdb.run('mymodule.myfunction()')"
   ]
  },
  {
   "cell_type": "code",
   "execution_count": 40,
   "metadata": {},
   "outputs": [
    {
     "data": {
      "text/plain": [
       "['omg', 'teh', 'teh', 'mat', 'omg', 'teh', 'teh', 'mat', 'cat']"
      ]
     },
     "execution_count": 40,
     "metadata": {},
     "output_type": "execute_result"
    }
   ],
   "source": [
    "find_words(['cat'], 3)"
   ]
  },
  {
   "cell_type": "code",
   "execution_count": 43,
   "metadata": {},
   "outputs": [
    {
     "name": "stdout",
     "output_type": "stream",
     "text": [
      "> <string>(1)<module>()->None\n",
      "(Pdb) step\n",
      "--Call--\n",
      "> <ipython-input-33-4465ec416688>(1)find_words()\n",
      "-> def find_words(text, wordlength, result=[]):\n",
      "(Pdb) args\n",
      "text = ['dog']\n",
      "wordlength = 3\n",
      "result = ['omg', 'teh', 'teh', 'mat', 'omg', 'teh', 'teh', 'mat', 'cat', 'dog', 'dog']\n",
      "(Pdb) n\n",
      "> <ipython-input-33-4465ec416688>(2)find_words()\n",
      "-> for word in text:\n",
      "(Pdb) n\n",
      "> <ipython-input-33-4465ec416688>(3)find_words()\n",
      "-> if len(word) == wordlength:\n",
      "(Pdb) n\n",
      "> <ipython-input-33-4465ec416688>(4)find_words()\n",
      "-> result.append(word)\n",
      "(Pdb) c\n"
     ]
    }
   ],
   "source": [
    "pdb.run(\"find_words(['dog'], 3)\")"
   ]
  },
  {
   "cell_type": "markdown",
   "metadata": {},
   "source": [
    "### Defensive Programming"
   ]
  },
  {
   "cell_type": "markdown",
   "metadata": {},
   "source": [
    "## 4.7 Algorithm Design"
   ]
  },
  {
   "cell_type": "markdown",
   "metadata": {},
   "source": [
    "This section discusses more advanced concepts, which you may prefer to skip on the first time through this chapter."
   ]
  },
  {
   "cell_type": "markdown",
   "metadata": {},
   "source": [
    "### Recursion"
   ]
  },
  {
   "cell_type": "code",
   "execution_count": 46,
   "metadata": {},
   "outputs": [],
   "source": [
    "def factorial1(n):\n",
    "    result = 1\n",
    "    for i in range(n):\n",
    "        result *= (i + 1)\n",
    "    return result"
   ]
  },
  {
   "cell_type": "code",
   "execution_count": 47,
   "metadata": {},
   "outputs": [],
   "source": [
    "def factorial2(n):\n",
    "    if n == 1:\n",
    "        return 1\n",
    "    else:\n",
    "        return n * factorial2(n-1)"
   ]
  },
  {
   "cell_type": "code",
   "execution_count": 48,
   "metadata": {},
   "outputs": [],
   "source": [
    "def size1(s):\n",
    "    return 1 + sum(size1(child) for child in s.hyponyms())"
   ]
  },
  {
   "cell_type": "code",
   "execution_count": 49,
   "metadata": {},
   "outputs": [],
   "source": [
    "def size2(s):\n",
    "    layer = [s]\n",
    "    total = 0\n",
    "    while layer:\n",
    "        total += len(layer)\n",
    "        layer = [h for c in layer for h in c.hyponyms()]\n",
    "    return total"
   ]
  },
  {
   "cell_type": "code",
   "execution_count": 50,
   "metadata": {},
   "outputs": [],
   "source": [
    "from nltk.corpus import wordnet as wn"
   ]
  },
  {
   "cell_type": "code",
   "execution_count": 51,
   "metadata": {},
   "outputs": [],
   "source": [
    "dog = wn.synset('dog.n.01')"
   ]
  },
  {
   "cell_type": "code",
   "execution_count": 52,
   "metadata": {},
   "outputs": [
    {
     "data": {
      "text/plain": [
       "190"
      ]
     },
     "execution_count": 52,
     "metadata": {},
     "output_type": "execute_result"
    }
   ],
   "source": [
    "size1(dog)"
   ]
  },
  {
   "cell_type": "code",
   "execution_count": 53,
   "metadata": {},
   "outputs": [
    {
     "data": {
      "text/plain": [
       "190"
      ]
     },
     "execution_count": 53,
     "metadata": {},
     "output_type": "execute_result"
    }
   ],
   "source": [
    "size2(dog)"
   ]
  },
  {
   "cell_type": "code",
   "execution_count": 54,
   "metadata": {},
   "outputs": [],
   "source": [
    "def insert(trie, key, value):\n",
    "    if key:\n",
    "        first, rest = key[0], key[1:]\n",
    "        if first not in trie:\n",
    "            trie[first] = {}\n",
    "        insert(trie[first], rest, value)\n",
    "    else:\n",
    "        trie['value'] = value"
   ]
  },
  {
   "cell_type": "code",
   "execution_count": 55,
   "metadata": {},
   "outputs": [],
   "source": [
    "trie = nltk.defaultdict(dict)"
   ]
  },
  {
   "cell_type": "code",
   "execution_count": 56,
   "metadata": {},
   "outputs": [],
   "source": [
    "insert(trie, 'chat', 'cat')"
   ]
  },
  {
   "cell_type": "code",
   "execution_count": 57,
   "metadata": {},
   "outputs": [],
   "source": [
    "insert(trie, 'chien', 'dog')"
   ]
  },
  {
   "cell_type": "code",
   "execution_count": 58,
   "metadata": {},
   "outputs": [],
   "source": [
    "insert(trie, 'chair', 'flesh')"
   ]
  },
  {
   "cell_type": "code",
   "execution_count": 59,
   "metadata": {},
   "outputs": [],
   "source": [
    "insert(trie, 'chic', 'stylish')"
   ]
  },
  {
   "cell_type": "code",
   "execution_count": 60,
   "metadata": {},
   "outputs": [],
   "source": [
    "trie = dict(trie)"
   ]
  },
  {
   "cell_type": "code",
   "execution_count": 61,
   "metadata": {},
   "outputs": [
    {
     "data": {
      "text/plain": [
       "'cat'"
      ]
     },
     "execution_count": 61,
     "metadata": {},
     "output_type": "execute_result"
    }
   ],
   "source": [
    "trie['c']['h']['a']['t']['value']"
   ]
  },
  {
   "cell_type": "code",
   "execution_count": 63,
   "metadata": {},
   "outputs": [
    {
     "name": "stdout",
     "output_type": "stream",
     "text": [
      "{'c': {'h': {'a': {'i': {'r': {'value': 'flesh'}}, 't': {'value': 'cat'}},\n",
      "             'i': {'c': {'value': 'stylish'}, 'e': {'n': {'value': 'dog'}}}}}}\n"
     ]
    }
   ],
   "source": [
    "import pprint\n",
    "\n",
    "pprint.pprint(trie)"
   ]
  },
  {
   "cell_type": "markdown",
   "metadata": {},
   "source": [
    "### Space-Time Trade-offs"
   ]
  },
  {
   "cell_type": "markdown",
   "metadata": {},
   "source": [
    "We can sometimes significantly speed up the execution of a program by building an auxiliary data structure, such as an index."
   ]
  },
  {
   "cell_type": "code",
   "execution_count": 78,
   "metadata": {},
   "outputs": [],
   "source": [
    "import re"
   ]
  },
  {
   "cell_type": "code",
   "execution_count": 67,
   "metadata": {},
   "outputs": [],
   "source": [
    "def raw(file):\n",
    "    contents = open(file).read()\n",
    "    contents = re.sub(r'<.*?>', ' ', contents)\n",
    "    contents = re.sub('\\s+', ' ', contents)\n",
    "    return contents"
   ]
  },
  {
   "cell_type": "code",
   "execution_count": 68,
   "metadata": {},
   "outputs": [],
   "source": [
    "def snippet(doc, term):  # buggy\n",
    "    text = ' '*30 + raw(doc) + ' '*30\n",
    "    pos = text.index(term)\n",
    "    return text[pos-30:pos+30]"
   ]
  },
  {
   "cell_type": "code",
   "execution_count": 76,
   "metadata": {},
   "outputs": [
    {
     "name": "stdout",
     "output_type": "stream",
     "text": [
      "Building Index...\n"
     ]
    }
   ],
   "source": [
    "print(\"Building Index...\")\n",
    "files = nltk.corpus.movie_reviews.abspaths()\n",
    "idx = nltk.Index((w, f) for f in files for w in open(f).read().split())"
   ]
  },
  {
   "cell_type": "code",
   "execution_count": 79,
   "metadata": {},
   "outputs": [
    {
     "name": "stdout",
     "output_type": "stream",
     "text": [
      "query> man\n",
      " who plays the resident crazy man , ultimately being the onl\n",
      "ynopsis : a mentally unstable man undergoing psychotherapy s\n",
      "ynopsis : a mentally unstable man undergoing psychotherapy s\n",
      "bout a wholesome surveillance man who loses sight of his val\n",
      "starring a terrible mess of a man , mr . hugh grant , a huge\n",
      ", oops . . . i mean , an evil man . he vows revenge on that \n",
      ", oops . . . i mean , an evil man . he vows revenge on that \n",
      ", oops . . . i mean , an evil man . he vows revenge on that \n",
      ", oops . . . i mean , an evil man . he vows revenge on that \n",
      "red for his understated performance as dr . hannibal lecter \n",
      "      janeane garofalo in a romantic comedy -- it was a good\n",
      "double team and the dennis rodman cinematic joke simon sez -\n",
      "es , scatological humor and a man-eating monster . it not on\n",
      " story about a clairvoyant madman who lures young girls to t\n",
      "appropriately dubbed \" the commander , \" \" the rookies , \" a\n",
      "th . \" romeo must die \" is in many ways a fun film . it is b\n",
      "riends , plus a recruited hit man ( ? ) , lure bobby to a sw\n",
      "riends , plus a recruited hit man ( ? ) , lure bobby to a sw\n",
      "fend a young , educated black man ( blair underwood ) . the \n",
      "fend a young , educated black man ( blair underwood ) . the \n",
      "fend a young , educated black man ( blair underwood ) . the \n",
      "leased in the early 1990s , woman of desire is interesting o\n",
      "-headed that even the least demanding members of the audienc\n",
      "st and expert make-up effects man stan winston ( alien , pre\n",
      "st and expert make-up effects man stan winston ( alien , pre\n",
      "adopted by danny , a ship crewman . 1900 spends most of his \n",
      "is called in and the battle , man against lion , begins . th\n",
      "e encounters a gypsy-like con man in the public gardens who \n",
      "favor , sweetheart . bump old man ferguson's boil lancing to\n",
      "favor , sweetheart . bump old man ferguson's boil lancing to\n",
      " `plot . ' the year is 3000 . mankind has been become an end\n",
      "l in under siege ? a tv newswoman , diana ( gabrielle fitzpa\n",
      "ack guy , a wiseass , and the man who is sleeping with his d\n",
      "rs in body of evidence as a woman who has piles of money and\n",
      "er ) , who fell for the wrong man . . . and has spent her li\n",
      "etro , doctor dolittle , holy man , life , and bowfinger hav\n",
      "etro , doctor dolittle , holy man , life , and bowfinger hav\n",
      "etro , doctor dolittle , holy man , life , and bowfinger hav\n",
      "y nightmarish memories of the man responsible for it all , s\n",
      "y nightmarish memories of the man responsible for it all , s\n",
      "y nightmarish memories of the man responsible for it all , s\n",
      "r bomb detonated next to this man wouldn't harm him at all !\n",
      "aner who ends up becoming a \" man-whore \" to raise enough mo\n",
      "ns of several brazilian fisherman in 1942 who had become fol\n",
      "onship with an unsuspecting woman . danza sets up a double d\n",
      "7/10 ) , directed by the same man who controlled this one , \n",
      "7/10 ) , directed by the same man who controlled this one , \n",
      "ll admit it . . . i love superman iii . i know it's hated am\n",
      "lm that is so misguided in so many ways that it makes you wo\n",
      "lving the case of a missing woman . annie is something of a \n",
      "oger donaldson and dennis feldman , respectively ) that fail\n",
      " to the destruction of the batman film franchise chris o'don\n",
      "ard's quick movie review holy man more like holy crap . the \n",
      "ellington , the tenth richest man in the united states . of \n",
      "ellington , the tenth richest man in the united states . of \n",
      "eself invisible , in \" hollow man \" kevin bacon's character \n",
      "eself invisible , in \" hollow man \" kevin bacon's character \n",
      "eself invisible , in \" hollow man \" kevin bacon's character \n",
      "eself invisible , in \" hollow man \" kevin bacon's character \n",
      "cally being forced to marry a man who everyone but her likes\n",
      "cally being forced to marry a man who everyone but her likes\n",
      "ear for him . he made way too many tv appearances . he mispr\n",
      "ear for him . he made way too many tv appearances . he mispr\n",
      "ear for him . he made way too many tv appearances . he mispr\n",
      "ear for him . he made way too many tv appearances . he mispr\n",
      "stern plot , like the lone gunman who comes to town and prot\n",
      "elping his new ally catch his man . in a related aside , for\n",
      "e of fatherly advice . \" be a man , \" his father lectures hi\n",
      " , \" featuring clooney and kidman trying to stop an almost u\n",
      " , \" featuring clooney and kidman trying to stop an almost u\n",
      " , \" featuring clooney and kidman trying to stop an almost u\n",
      " , \" featuring clooney and kidman trying to stop an almost u\n",
      "with excellent comeback performances in their most recent fi\n",
      "alph fiennes . i love uma thurman . i love sean connery . he\n",
      "alph fiennes . i love uma thurman . i love sean connery . he\n",
      " to make it fun though . \" batman forever \" was fun . this i\n",
      "         writers : dennis feldman and jonathan hensleigh ( b\n",
      "         writers : dennis feldman and jonathan hensleigh ( b\n",
      "a sears store , a statue of a man on a horse , nor even a da\n",
      " contribute a heartfelt performance brimming with introspect\n",
      "oblems controlling his superhuman senses , darryl learns to \n",
      "oblems controlling his superhuman senses , darryl learns to \n",
      "                   a slight romantic comedy with a feminist \n",
      "                   a slight romantic comedy with a feminist \n",
      "                   a slight romantic comedy with a feminist \n",
      "ucted film succeeds in having many surprises , and , being t\n",
      "on a . k . a . tarzan the ape man ( casper van dien ) severa\n",
      "on a . k . a . tarzan the ape man ( casper van dien ) severa\n",
      "e appealing component of this man . after the professor disc\n",
      "s are brought together by a romance between their children .\n",
      "hl directed by david veloz permanent midnight is a pretty ba\n",
      "movie ( like last year's dead man on campus ) , the movie is\n",
      "eleased , but christopher has managed to plagiarize paul tho\n",
      "y can raise a child without a man , rock says , \" you can dr\n",
      "s a film review by michael redman copyright 1999 by michael \n",
      "s a film review by michael redman copyright 1999 by michael \n",
      "s apartment ( 1996 ) and dead man on campus ( 1998 ) , varsi\n",
      "s apartment ( 1996 ) and dead man on campus ( 1998 ) , varsi\n",
      "y home from college and spy a man dropping wrapped-up bodies\n",
      "spite the tour-de-force performance by the star of the film \n",
      " is a rich , childish , angry man who has just been dumped b\n",
      "lf a dozen times ) \" not half man and half woman , but man a\n",
      "lf a dozen times ) \" not half man and half woman , but man a\n",
      " desperately horny . the freshman writing class tone is quic\n",
      " desperately horny . the freshman writing class tone is quic\n",
      "reful in choosing his leading man cinema roles . at least on\n",
      "arlize theron plays a young woman with a nervous demeanor , \n",
      " william h . macy as the mild-mannered shoveler , hank azari\n",
      "sed to realize they are being manipulated . in addition to l\n",
      "vie so off course , that no human being or technical achieve\n",
      "uter-animated close-up of a human eye . it's a beautiful pie\n",
      "is not a nasty backstabbing woman ! i mean , it's like all o\n",
      "difficulties , a local weatherman hooks up with his ball-pic\n",
      "'t belong' , we know that the man deserves all the misery he\n",
      "en it came out and still as romantic and tragic . another ex\n",
      "the witty comments . jenna elfman is good , ( but a little o\n",
      "the witty comments . jenna elfman is good , ( but a little o\n",
      " michael clarke duncan as the man of the hour , john coffey \n",
      " michael clarke duncan as the man of the hour , john coffey \n",
      "of course , that there aren't many good roles available for \n",
      "reet ; to the other side , german troops beat a group of jew\n",
      "reet ; to the other side , german troops beat a group of jew\n",
      " going on . by the writers of man on the moon and the people\n",
      "the vanity fair article \" the man who knew too much \" by mar\n",
      " a mysterious and beautiful woman ( ashley judd ) take a kni\n",
      "active , but cold-blooded and manipulative , psychiatrist , \n",
      "s wood portrays jack crow , a man obsessed with killing vamp\n",
      "true ! \" \" yeah , \" laughed a man standing next to him , \" i\n",
      " autistic . unlike dustin hoffman's performance in \" rain ma\n",
      " autistic . unlike dustin hoffman's performance in \" rain ma\n",
      "the lost life of a disfigured man , an individual who has tr\n",
      "the lost life of a disfigured man , an individual who has tr\n",
      "the lost life of a disfigured man , an individual who has tr\n",
      "the lost life of a disfigured man , an individual who has tr\n",
      "er prince to come . she's a woman of the late twentieth cent\n",
      "er prince to come . she's a woman of the late twentieth cent\n",
      "\" winless \" case concerning a man who sacrifices animals in \n",
      "\" winless \" case concerning a man who sacrifices animals in \n",
      "\" winless \" case concerning a man who sacrifices animals in \n",
      "the captain is killed and the man who sent the distress sign\n",
      "the captain is killed and the man who sent the distress sign\n",
      "e rationale is sound , but in many cases of this and recent \n",
      "e rationale is sound , but in many cases of this and recent \n",
      "an hasidic couple that an old man in her parents' apartment \n",
      "an hasidic couple that an old man in her parents' apartment \n",
      "th thousands . a country-wide man hunt is on for him to catc\n",
      "eople would probably pick the manchurian candidate and other\n",
      "eople would probably pick the manchurian candidate and other\n",
      "eople would probably pick the manchurian candidate and other\n",
      "on where the protagonist is a man , is that his character is\n",
      "blues , the sharp dressed con man who wreaked havoc on a sel\n",
      "in the original international man of mystery , but here i wa\n",
      "ome for sleeping with another man's wife . he encounters a g\n",
      "ome for sleeping with another man's wife . he encounters a g\n",
      " and screenwriter william goldman ( maverick , misery ) woul\n",
      "ked the earth ; there is no woman he can't have , no materia\n",
      " us believe he is a dangerous man he should practise for a w\n",
      "y . nicolas cage plays family man detective tom welles , who\n",
      " thriller . it's not like the man isn't capable . . . far fr\n",
      " thriller . it's not like the man isn't capable . . . far fr\n",
      " thriller . it's not like the man isn't capable . . . far fr\n",
      "cclaimed novel 'the invisible man' . the actors are kevin be\n",
      "cclaimed novel 'the invisible man' . the actors are kevin be\n",
      "cclaimed novel 'the invisible man' . the actors are kevin be\n",
      "ing a confrontation between a man ( it's difficult to give a\n",
      "ook penciller on the \" spider-man \" titles ) to join the new\n",
      "f occasionally over-wrought romantic comedy , and i was even\n",
      "in complaint about the latest man battles nature flick : the\n",
      "inating the ? virus' known as man . the original crew of the\n",
      "that film-makers would use commandments as a blueprint on ho\n",
      "that film-makers would use commandments as a blueprint on ho\n",
      " chore for even a dedicated romantic . those hoping to find \n",
      "l plans of the evil ice cream man ( jamie kennedy , jay and \n",
      "l plans of the evil ice cream man ( jamie kennedy , jay and \n",
      "tars . judging by their performances they also made it befor\n",
      "tars . judging by their performances they also made it befor\n",
      "y begin wishing for the ideal man to drop into their lives .\n",
      "plot ( albeit one of the most mangled acts of screenwriting \n",
      "accidentally revives a dead woman through necrophilia and br\n",
      "accidentally revives a dead woman through necrophilia and br\n",
      "addy really isn't that good . many of the jokes revolve arou\n",
      "ning image is that of a grown man launching a volume of gree\n",
      "looking disaffected . mcgowan manages to be upstaged by her \n",
      "like savages and a big , evil man raping her -- a foreshadow\n",
      ") by two hit men ( morgan freeman and chris rock ) . she hap\n",
      ") by two hit men ( morgan freeman and chris rock ) . she hap\n",
      "res some truly terrible performances from lela rochon , mich\n",
      "eathered look indicative of a man who has seen his share of \n",
      "d shining from the heart of a man or woman . the church was \n",
      "d shining from the heart of a man or woman . the church was \n",
      "d shining from the heart of a man or woman . the church was \n",
      " the dinos lived untouched by mankind and the other a touris\n",
      "                       \" holy man \" boasts a sweet , gentle \n",
      "                       \" holy man \" boasts a sweet , gentle \n",
      "                       \" holy man \" boasts a sweet , gentle \n",
      "                       \" holy man \" boasts a sweet , gentle \n",
      "                       \" holy man \" boasts a sweet , gentle \n",
      " . magoo , the bumbling blind man , can be quite funny , but\n",
      "ts , horrible dubbing , and a man in a lizard suit , they ma\n",
      "                 synopsis : a man whose lover , paris , was \n",
      "                 synopsis : a man whose lover , paris , was \n",
      "emember a film called \" white man's burden \" which dealt wit\n",
      "borate affair , does what any man in his position would do :\n",
      "borate affair , does what any man in his position would do :\n",
      "pter , now an older , strange man , is looking for hannah to\n",
      "g arnold as mr . freeze in batman and robin , especially whe\n",
      "g arnold as mr . freeze in batman and robin , especially whe\n",
      "lays charlie baileygaites , a man who after being dumped by \n",
      " dumb part of it : he somehow manages to throw the man to sa\n",
      "o veronica micelli ( jenna elfman ) , an overly vivacious ( \n",
      "o veronica micelli ( jenna elfman ) , an overly vivacious ( \n",
      "imsy screenplay which somehow manages to leapfrog the great \n",
      "mination of a lonely and vain man . daniel craig , in a life\n",
      "mination of a lonely and vain man . daniel craig , in a life\n",
      "mination of a lonely and vain man . daniel craig , in a life\n",
      "it , or should i say , barely manages to crawl away with it \n",
      " you in for a surprise . holy man is not funny . murphy , th\n",
      " you in for a surprise . holy man is not funny . murphy , th\n",
      " you in for a surprise . holy man is not funny . murphy , th\n",
      " you in for a surprise . holy man is not funny . murphy , th\n",
      " you in for a surprise . holy man is not funny . murphy , th\n",
      " about a ghost possessing the mansion and shit , but trust m\n",
      "ast , featuring play-by- play man harry canary and color man\n",
      "ast , featuring play-by- play man harry canary and color man\n"
     ]
    },
    {
     "name": "stdout",
     "output_type": "stream",
     "text": [
      " alarmed by the presence of a man sent to determine if the m\n",
      " alarmed by the presence of a man sent to determine if the m\n",
      "                            \" mandingo \" has traditionally b\n",
      "                            \" mandingo \" has traditionally b\n",
      "life is all about ? \" sorry , man : foreplay takes place bef\n",
      "life is all about ? \" sorry , man : foreplay takes place bef\n",
      "life is all about ? \" sorry , man : foreplay takes place bef\n",
      "ch phrase for disney's rocket man is one spoken by fred z . \n",
      "ated safety distance . the commanding officer , general bryn\n",
      "ated safety distance . the commanding officer , general bryn\n",
      "ead . although the late fulci managed some rather good thril\n",
      "exy young wife of the richest man in palmetto , florida ( ro\n",
      "exy young wife of the richest man in palmetto , florida ( ro\n",
      "er comic book adaptation , batman and robin . both films mak\n",
      " jeff fahey ( \" the lawnmower man \" ) plays a washed-up shak\n",
      "asset is the surprising performance by mike myers as steve r\n",
      "is hamlet on pbs' great performances . the minute i saw the \n",
      "en there's a scene in which a man kills himself in front of \n",
      "; 132 minutes director : luis mandoki screenplay : gerald di\n",
      "cially joined by marriage . a man trying to relate to his ne\n",
      "o-be-good , but it can't even manage that . it's just lousy \n",
      "epeat movie after movie , his man here is really rather amus\n",
      "epeat movie after movie , his man here is really rather amus\n",
      "1997's the tango lesson , the man who cried . the gen-y actr\n",
      "1997's the tango lesson , the man who cried . the gen-y actr\n",
      "1997's the tango lesson , the man who cried . the gen-y actr\n",
      "1997's the tango lesson , the man who cried . the gen-y actr\n",
      "1997's the tango lesson , the man who cried . the gen-y actr\n",
      "ntled computer programmer , a maniac whose main beef has som\n",
      "k-up lines . more subplots - _many_ more - dot the big pictu\n",
      "nd yet , it's based on a real man who probably has a good po\n",
      "risingly halfway decent performance . after the actor gained\n",
      "risingly halfway decent performance . after the actor gained\n",
      "pose ) like to be shamelessly manipulated by their entertain\n",
      " up the charm in his latest romantic comedy , the wedding si\n",
      " up the charm in his latest romantic comedy , the wedding si\n",
      " up the charm in his latest romantic comedy , the wedding si\n",
      "umber of books known as field manuals which stipulate the sp\n",
      "umber of books known as field manuals which stipulate the sp\n",
      "umber of books known as field manuals which stipulate the sp\n",
      "d cheers , thinking the performance was planned , and applau\n",
      "n like had tarzan been an old man . while watching instinct \n",
      "n like had tarzan been an old man . while watching instinct \n",
      "n like had tarzan been an old man . while watching instinct \n",
      "n like had tarzan been an old man . while watching instinct \n",
      "n like had tarzan been an old man . while watching instinct \n",
      "n like had tarzan been an old man . while watching instinct \n",
      "d . upon impact , rugged everyman and perennial do-gooder bi\n",
      "arrelson ) is an ex-newspaper man , just out of jail after b\n",
      "gs : it's a sinister-sounding man , claiming to be his docto\n",
      "gs : it's a sinister-sounding man , claiming to be his docto\n",
      "gs : it's a sinister-sounding man , claiming to be his docto\n",
      "gs : it's a sinister-sounding man , claiming to be his docto\n",
      "have passed , and the long dormant sequel has finally emerge\n",
      ". there are no standout performances here . everyone seems t\n",
      "stars as melvin surley , a hitman . he's a good hitman , app\n",
      "stars as melvin surley , a hitman . he's a good hitman , app\n",
      "llar theater ? locally , chairman of the board did just that\n",
      "llar theater ? locally , chairman of the board did just that\n",
      "seudo-legendary ed wood , the man behind such \" classics \" a\n",
      "ays the title character , and many great comic actors supply\n",
      "effects for dragonheart's * human * co-stars . a bearded bla\n",
      "sherilyn fenn ) , beautiful woman who ditched him after brie\n",
      "of shock , the only thing the man can utter is the word \" go\n",
      "life as a successful business man , but sometimes he wakes u\n",
      "y with a camera handheld by a man with a bad case of the sha\n",
      "y with a camera handheld by a man with a bad case of the sha\n",
      "y with a camera handheld by a man with a bad case of the sha\n",
      "y with a camera handheld by a man with a bad case of the sha\n",
      "y with a camera handheld by a man with a bad case of the sha\n",
      "y with a camera handheld by a man with a bad case of the sha\n",
      "y with a camera handheld by a man with a bad case of the sha\n",
      "y with a camera handheld by a man with a bad case of the sha\n",
      "y with a camera handheld by a man with a bad case of the sha\n",
      "y rebecca ( liv tyler ) ; a woman macleane was especially fr\n",
      "mpt at all to make sense . batman and robin , in 1997 , was \n",
      "ed up writer and insatiable womanizer with a big-time drinki\n",
      "und , despite some good performances from a basically compet\n",
      "rthy film back in 1995 ( dead man walking ) , he gets a litt\n",
      "and . there he a meets crazed man by the name of daffy ( rob\n",
      "r want of a better word--of a man ( lee kang-sheng ) and a w\n",
      "r want of a better word--of a man ( lee kang-sheng ) and a w\n",
      "r want of a better word--of a man ( lee kang-sheng ) and a w\n",
      "r want of a better word--of a man ( lee kang-sheng ) and a w\n",
      "r want of a better word--of a man ( lee kang-sheng ) and a w\n",
      "es . when a naughty , naughty man escapes from jail and seek\n",
      "es . when a naughty , naughty man escapes from jail and seek\n",
      " attempts to be a whimsical romantic comedy but , more often\n",
      " attempts to be a whimsical romantic comedy but , more often\n",
      "ipley is now not completely human , possessing strange amoun\n",
      "al' events , but never does . many bad films have good inten\n",
      "s charlton heston ( in one of many crap 70s films he made , \n",
      "ed character of dashing swordsman d'artagnon in director pet\n",
      "s wedding , which ends with a man dropping eight stories to \n",
      " a little boy born in east germany ( named hansel ) loves th\n",
      " a little boy born in east germany ( named hansel ) loves th\n",
      " a little boy born in east germany ( named hansel ) loves th\n",
      " and here he attempts a performance that can relate to someo\n",
      " and here he attempts a performance that can relate to someo\n",
      " and here he attempts a performance that can relate to someo\n",
      "ins , a thoroughly despicable man , enough lies , insecuriti\n",
      ", \" there have been several romantic comedies about african-\n",
      ", \" there have been several romantic comedies about african-\n",
      "eing \" cousins \" ) . here's a man who admits he's a medicore\n",
      "eing \" cousins \" ) . here's a man who admits he's a medicore\n",
      " tales of the genre deal with mankind's struggle for surviva\n",
      "taposed against the stage 1 romance of two attractive indivi\n",
      "led plot : earth 3000 . . . . man is a endangered species , \n",
      "          i have never seen a man so in love with himself th\n",
      "ws . kevin costner stars as a man who is some kind of mutant\n",
      "heatre . ' in the year 3000 , man has become an endangered s\n",
      "rives home , joe meets an old man named graynamore ( lloyd b\n",
      "t of the fact that taking a human life isn't all that funny \n",
      "ofessory , just a really dumb man being played by robin will\n",
      "ofessory , just a really dumb man being played by robin will\n",
      "he bureau , they've got their man -- but lacrosse has a very\n",
      "he bureau , they've got their man -- but lacrosse has a very\n",
      "he bureau , they've got their man -- but lacrosse has a very\n",
      "ibuted to the appealing performance of lassez . i thought ma\n",
      "disturbing behavior , like so many thrillers , starts off in\n",
      "io ) , an aloof , naive young man blessed with the odd gift \n",
      ". and phil is just one of the many quirky characters that in\n",
      "ucceeds once again ! plot : a man with a shady and regrettab\n",
      "s mission , as a walking dead man without a conscience , to \n",
      "r is a mortal and a tired old man who has given up hope . on\n",
      "r is a mortal and a tired old man who has given up hope . on\n",
      "ged by powerhouses morgan freeman and alan rickman , but chr\n",
      "e thing is , on this planet humans can't talk or think and t\n",
      "ack guy , a wiseass , and the man who is sleeping with his d\n",
      "ts at me after seeing corky romano is why touchstone spent s\n",
      "ng big league attention . our man freddie has landed a spot \n",
      "ife in modern taiwan , in the manner of antonioni , elaborat\n",
      "ife in modern taiwan , in the manner of antonioni , elaborat\n",
      "equel did . there are just so many problems with this movie \n",
      " a story about a not so young man , patch adams ( robin will\n",
      "    the real blonde ( r ) a woman's face , an arm , some pum\n",
      "ight before he died , the snowman outside the house is taken\n",
      "hmidt ( terence stamp ) , the man who blew the whistle on ka\n",
      "ctions . i even listened to a man who swore that nicotine wa\n",
      "ctions . i even listened to a man who swore that nicotine wa\n",
      "lays charlie baileygaites , a man who after being dumped by \n",
      "les in script . if a security man goes to investigate a comp\n",
      "ndleton college coed michelle mancini ( natasha gregson wagn\n",
      "cludes a big breasted young woman being chased by a guy in a\n",
      "predictable that even a blind man could see its plot points \n",
      "predictable that even a blind man could see its plot points \n",
      "goldblum , who plays ricky hayman , the programming director\n",
      "ction hero -- the kind of he- man who will crash through a f\n",
      "rfect murder has inexplicably managed to eliminate almost ev\n",
      "n . sgt . ernest bilko is the man behind the motor pool ( pl\n",
      "d for the transformation of a man into a werewolf ; and for \n",
      "oney ; martin l . is a family man ( shades of the now-tired \n",
      "oney ; martin l . is a family man ( shades of the now-tired \n",
      "nothing against unabashedly romantic films . when done right\n",
      "st to being civilized are a womanizer ( taye diggs - who sho\n",
      "y as a film about an innocent man seeking new thrills in a d\n",
      "y as a film about an innocent man seeking new thrills in a d\n",
      "a time to kill \" ) and two batman movies that lowered the st\n",
      "reyfuss is a funny , talented man , and he is funny in this \n",
      "reyfuss is a funny , talented man , and he is funny in this \n",
      "ail at the box office but you manage to see why the producer\n",
      "ast and giving an awful performance as a result ) plays the \n",
      "ast and giving an awful performance as a result ) plays the \n",
      "ie is poorly edited , grossly manipulative , and the finishe\n",
      " bulletproof vest . the other man is jim west ( will smith )\n",
      "he teenage daughter of a rich man . turns out , it's all par\n",
      "devito with director ivan reitman . these are the same men t\n",
      "as professor brainard somehow manages to accomplish this fea\n",
      "e conquered earth , and the human population has been enslav\n",
      "sual objectivity , ignore how many times you checked your wa\n",
      "irector christopher guest , a man whose sense of humor i usu\n",
      "irector christopher guest , a man whose sense of humor i usu\n",
      "irector christopher guest , a man whose sense of humor i usu\n",
      "t yogi bear lunch boxes are demanding big bucks . there's a \n",
      "t yogi bear lunch boxes are demanding big bucks . there's a \n",
      "t yogi bear lunch boxes are demanding big bucks . there's a \n",
      "of the spacing guild ( once human but now hideously mutated \n",
      "of the spacing guild ( once human but now hideously mutated \n",
      "her bertolini and william goldman from nelson demille's nove\n",
      "her bertolini and william goldman from nelson demille's nove\n",
      "stinkers as the jackal , last man standing , striking distan\n",
      "stinkers as the jackal , last man standing , striking distan\n",
      "austin powers : international man of mystery . i desperately\n",
      "ent that sets up the film ? humans now live as cavemen or sl\n",
      "olent and unlikable men being manipulated by unseen hands . \n",
      "utterly beyond the reach of human ken . in this way spielber\n",
      "utterly beyond the reach of human ken . in this way spielber\n",
      "utterly beyond the reach of human ken . in this way spielber\n",
      "utterly beyond the reach of human ken . in this way spielber\n",
      "atch . i mean , come on , how many times have you seen this \n",
      "l not even kiss them . he's a man who knows his mind , which\n",
      "he notices that a beautiful woman has left her purse in a ph\n",
      "he notices that a beautiful woman has left her purse in a ph\n",
      "he notices that a beautiful woman has left her purse in a ph\n",
      "ter extracting revenge on the man who killed her father , fa\n",
      "gly sets jermaine up with a woman who might be interested in\n",
      "a greased-up fist forced up a man's rear , wine poured down \n",
      "a greased-up fist forced up a man's rear , wine poured down \n",
      "a greased-up fist forced up a man's rear , wine poured down \n",
      " fiction \" and \" fargo \" both managed to get oscar nominatio\n",
      " fiction \" and \" fargo \" both managed to get oscar nominatio\n",
      "abuses of it warden ( gary oldman ) . the result is the usua\n",
      "n 98 . the avengers = silly = man dressed in a bowler hat + \n",
      "0-year-old mineral water salesman who is married for 13 year\n",
      "s arguing with each other . \" man , do you know how scary it\n",
      "ncerting to see where the big man has ended up . for the fir\n",
      "ater decks a reindeer . hey , man , why don't you just kick \n",
      "duke of dull . in the glimmer man , seagal breaks out of thi\n",
      "duke of dull . in the glimmer man , seagal breaks out of thi\n",
      "duke of dull . in the glimmer man , seagal breaks out of thi\n",
      "duke of dull . in the glimmer man , seagal breaks out of thi\n",
      "duke of dull . in the glimmer man , seagal breaks out of thi\n",
      "ere we've already experienced man eating sharks ( \" deep blu\n",
      "ere we've already experienced man eating sharks ( \" deep blu\n",
      "ere we've already experienced man eating sharks ( \" deep blu\n",
      "g , annette bening , john goodman , greg kinnear , mike nich\n",
      "g , annette bening , john goodman , greg kinnear , mike nich\n",
      "nt sly's earlier \" demolition man , \" which sucks too , but \n",
      "ges and grotesque comic performances , the film certainly of\n",
      "da . \" the plot begins when a man is eaten in half by the gi\n",
      "thau , in his brightest performance in years ) has just rece\n",
      "s . distraught , the suicidal man ( a cameo by new kid on th\n",
      "s . distraught , the suicidal man ( a cameo by new kid on th\n",
      " yells with the ferocity of a man with a bad case of caffein\n",
      " yells with the ferocity of a man with a bad case of caffein\n",
      "ntury french poets . the film managed to remove all the poet\n",
      "ay . penis jokes work only so many times . showing up as min\n",
      "'s guilty of shooting another man ( yes , that's one of the \n",
      "kube ) , howard vernon ( frog man ) , edith ker ( granny ) ,\n",
      "kube ) , howard vernon ( frog man ) , edith ker ( granny ) ,\n"
     ]
    },
    {
     "name": "stdout",
     "output_type": "stream",
     "text": [
      "kube ) , howard vernon ( frog man ) , edith ker ( granny ) ,\n",
      "kube ) , howard vernon ( frog man ) , edith ker ( granny ) ,\n",
      "ionship between a middle-aged man and a twelve-year-old girl\n",
      "ionship between a middle-aged man and a twelve-year-old girl\n",
      " hopper , in full \" dirty ol' man \" mold smacking models on \n",
      "t a second feature film . how many more movies do we need ab\n",
      "of hollywood film maker who's managed to , no matter what th\n",
      "of hollywood film maker who's managed to , no matter what th\n",
      "of hollywood film maker who's managed to , no matter what th\n",
      "of hollywood film maker who's managed to , no matter what th\n",
      "of hollywood film maker who's managed to , no matter what th\n",
      "of hollywood film maker who's managed to , no matter what th\n",
      "of hollywood film maker who's managed to , no matter what th\n",
      "ey could be the next roger corman , b- movie mentors of futu\n",
      "d ( 1981's \" tarzan , the ape man \" with bo derek ) . most o\n",
      "d ( 1981's \" tarzan , the ape man \" with bo derek ) . most o\n",
      ", vulnerable , irresistible woman to work out her problems a\n",
      " devolves and degenerates . a man in an apartment has a hole\n",
      "sell , otherwise known as the man of thirty words or less . \n",
      " pool . acclaimed director norman jewison's biopic retreads \n",
      " pool . acclaimed director norman jewison's biopic retreads \n",
      "ee of cinematic acumen , last man standing is either a ) a p\n",
      "ee of cinematic acumen , last man standing is either a ) a p\n",
      "ee of cinematic acumen , last man standing is either a ) a p\n",
      "ee of cinematic acumen , last man standing is either a ) a p\n",
      "ee of cinematic acumen , last man standing is either a ) a p\n",
      "ee of cinematic acumen , last man standing is either a ) a p\n",
      "ee of cinematic acumen , last man standing is either a ) a p\n",
      "ee of cinematic acumen , last man standing is either a ) a p\n",
      "ee of cinematic acumen , last man standing is either a ) a p\n",
      " to the protagonist , a young man who sells blair witch-rela\n",
      " to the protagonist , a young man who sells blair witch-rela\n",
      " to the protagonist , a young man who sells blair witch-rela\n",
      "tenant governor's ( harvey korman ) attempts to clear out a \n",
      "fool you into believing the romantic noirs of william shakes\n",
      "fool you into believing the romantic noirs of william shakes\n",
      "fool you into believing the romantic noirs of william shakes\n",
      "i can tell it's about a young man named kale who's one of th\n",
      "n bleeding heart , believes humans should live with apes on \n",
      "rich kids . it seems that a woman has also been kidnapped--s\n",
      "ar who does give a good performance . the two cameos by broo\n",
      ". webb's mission is to make a man out of private owens , the\n",
      ". webb's mission is to make a man out of private owens , the\n",
      ". webb's mission is to make a man out of private owens , the\n",
      ". for his troubles as therapy man , willis gets to share som\n",
      "o finds salvation in a good woman and a climactic \" big game\n",
      "teers , and to search for the man who killed his parents 14 \n",
      " schumacher's much-loathed batman & robin . ( indeed , both \n",
      " schumacher's much-loathed batman & robin . ( indeed , both \n",
      "ed by the ripping open of a woman's abdomen as an alien baby\n",
      "stery set in hollywood -- how many of these have we seen dur\n",
      "russell ) , an automaton of a man who has been raised from b\n",
      " , for it is the story of a woman who falls in love with her\n",
      " , for it is the story of a woman who falls in love with her\n",
      ". ) before i pile on with the many negatives in this sorry a\n",
      " and having a good time . a romantic at heart , he loves wed\n",
      "e close-ups . . . yipes , the man is not aging gracefully , \n",
      "e close-ups . . . yipes , the man is not aging gracefully , \n",
      "ce to win raves for his performance , this particular aspect\n",
      "ce to win raves for his performance , this particular aspect\n",
      "ce to win raves for his performance , this particular aspect\n",
      "ce to win raves for his performance , this particular aspect\n",
      "ce to win raves for his performance , this particular aspect\n",
      "sandra bullock ) is a young woman who drowned her problems i\n",
      "in's big-budget lizard-stomps-manhattan disaster flick has b\n",
      " young director named baz luhrmann couldn't sleep . he tumbl\n",
      "ylor ( michael douglas ) is a man with troubles . he's sunk \n",
      "t's what they do . along with many other things in the film \n",
      "t's what they do . along with many other things in the film \n",
      " \" ; tea leoni , \" the family man \" ) ask him to be their gu\n",
      " \" ; tea leoni , \" the family man \" ) ask him to be their gu\n",
      "he one written by william goldman could have ever interested\n",
      "he one written by william goldman could have ever interested\n",
      "he one written by william goldman could have ever interested\n",
      "he one written by william goldman could have ever interested\n",
      "om's version of the classic romantic , screwball comedy in \"\n",
      "-star cast including gene hackman and ernest borgnine spouti\n",
      "-star cast including gene hackman and ernest borgnine spouti\n",
      "t , \" which would make a half-man half-machine super-policem\n",
      "ed with the film . avika goldsman's screenplay is such a clu\n",
      "ed with the film . avika goldsman's screenplay is such a clu\n",
      " his humor-free comedy rocket man ) , but that is because he\n",
      "ay on the job . he encounters many mysterious and kinky hote\n",
      "ay on the job . he encounters many mysterious and kinky hote\n",
      "ay on the job . he encounters many mysterious and kinky hote\n",
      "e , plays robin of loxley , a man who was captured in the cr\n",
      "e , plays robin of loxley , a man who was captured in the cr\n",
      "e , plays robin of loxley , a man who was captured in the cr\n",
      "e , plays robin of loxley , a man who was captured in the cr\n",
      "                director luis mandoki's last film was the su\n",
      "                director luis mandoki's last film was the su\n",
      "                director luis mandoki's last film was the su\n",
      "surance money not a one armed man . both movies are on video\n",
      "! keanu reeves and morgan freeman acting together , the dire\n",
      "e bumbling , hapless straight man from the hysterical \" nake\n",
      "e bumbling , hapless straight man from the hysterical \" nake\n",
      " this movie is written by the man who is deemed to be \" one \n",
      " this movie is written by the man who is deemed to be \" one \n",
      "                              man , this was one wierd movie\n",
      "telligent astronomer in the romantic comedy roxanne and equa\n",
      "telligent astronomer in the romantic comedy roxanne and equa\n",
      "telligent astronomer in the romantic comedy roxanne and equa\n",
      "telligent astronomer in the romantic comedy roxanne and equa\n",
      "                     john boorman's \" zardoz \" is a goofy ci\n",
      "                     john boorman's \" zardoz \" is a goofy ci\n",
      "y , \" memoirs of an invisible man . \" somehow , carpenter ha\n",
      "istic , yet pragmatic , young man became , at age 36 , the f\n",
      "istic , yet pragmatic , young man became , at age 36 , the f\n",
      "istic , yet pragmatic , young man became , at age 36 , the f\n",
      "istic , yet pragmatic , young man became , at age 36 , the f\n",
      " powerful , charismatic performance from edward norton . it'\n",
      " powerful , charismatic performance from edward norton . it'\n",
      " dandy mix of energetic performances , inspired sight gags a\n",
      " dandy mix of energetic performances , inspired sight gags a\n",
      " dandy mix of energetic performances , inspired sight gags a\n",
      "n ( hopkins ) is an enigmatic man to whom bobby takes an imm\n",
      "n hounsou ) - - a young angry man from sierra leone who was \n",
      "m , police negotiator danny roman ( samuel l . jackson ) is \n",
      "m , police negotiator danny roman ( samuel l . jackson ) is \n",
      "               plot : a young man who loves heavy metal musi\n",
      "               plot : a young man who loves heavy metal musi\n",
      "               plot : a young man who loves heavy metal musi\n",
      "to prove himself that he is a man after visiting dr . goode \n",
      "und market of liquor to the demanding public . elliot ness a\n",
      "und market of liquor to the demanding public . elliot ness a\n",
      "und market of liquor to the demanding public . elliot ness a\n",
      "und market of liquor to the demanding public . elliot ness a\n",
      "uicidal ) ; he keeps seeing a man in sunglasses ( graham bec\n",
      "uicidal ) ; he keeps seeing a man in sunglasses ( graham bec\n",
      "in films are those who can command the screen with a gaze : \n",
      "hizing and theorizing about human memory and how it defines \n",
      "hizing and theorizing about human memory and how it defines \n",
      "hizing and theorizing about human memory and how it defines \n",
      "hizing and theorizing about human memory and how it defines \n",
      "he best of the three films norman jewison directed concernin\n",
      "ieve it may be his best performance . ever since wall street\n",
      "ieve it may be his best performance . ever since wall street\n",
      "ieve it may be his best performance . ever since wall street\n",
      "ieve it may be his best performance . ever since wall street\n",
      "ieve it may be his best performance . ever since wall street\n",
      "ires stretching its meaning . many scenes appear staged , an\n",
      "fic . i strongly suspect that many of the people who were di\n",
      " alan ball music by thomas newman costume designer julie wei\n",
      " alan ball music by thomas newman costume designer julie wei\n",
      " alan ball music by thomas newman costume designer julie wei\n",
      " alan ball music by thomas newman costume designer julie wei\n",
      " alan ball music by thomas newman costume designer julie wei\n",
      " picking fights in robust , romanticized-hemingway fashion .\n",
      " is a scary monster , the old man next door is a snow-shovel\n",
      " is a scary monster , the old man next door is a snow-shovel\n",
      " is a scary monster , the old man next door is a snow-shovel\n",
      "world known as the matrix . a man played by keanu reeves is \n",
      "ir leader , is going out with mandy pepperidge , but since t\n",
      "ir leader , is going out with mandy pepperidge , but since t\n",
      "ovie stardom . inheriting the mantle from last year's \" winn\n",
      "estigator on the trail of the man who killed his wife . leon\n",
      " hides , then flees . another man is murdered . the group of\n",
      " hides , then flees . another man is murdered . the group of\n",
      "ew york city . gibson's performance is terrific , and his ch\n",
      "cal interlude ( \" i'll make a man out of you , \" penned by m\n",
      "cal interlude ( \" i'll make a man out of you , \" penned by m\n"
     ]
    },
    {
     "name": "stdout",
     "output_type": "stream",
     "text": [
      "there is a scene where an old man is teaching a young one ho\n",
      "there is a scene where an old man is teaching a young one ho\n",
      "ation \" lawsuit to intimidate management . as evidence , bel\n",
      "ation \" lawsuit to intimidate management . as evidence , bel\n",
      "t lusting after a beautiful woman from his childhood synopsi\n",
      "to's daughter asia as young roman police inspector anna mann\n",
      "acter , daryl zero ( bill pullman ) , although we don't unde\n",
      "irely sure why , exactly . in many ways , \" drunken master \"\n",
      "mer emergency medical service man , is chauffeuring a rich c\n",
      "lly , we get a film that does manage it . terry gilliam's \" \n",
      "ters appear to want to do too many things at once . that rea\n",
      "s the astonishing debut performance of owens ; love francie \n",
      "med blue bay . it consists of many swamps and slums and , on\n",
      "                              many people dislike french fil\n",
      "ank robber is henry ( paul newman ) , a famous criminal that\n",
      " & guts , men against men and mano-et-mano stuff . in other \n",
      "igence that invites -- even demands -- constant scrutiny , a\n",
      "igence that invites -- even demands -- constant scrutiny , a\n",
      "lways first going to the bank manager's house and holding hi\n",
      "y for a change , is playing a man who would normally be a fl\n",
      "kie-cutter teen films , the romantic drama addresses alcohol\n",
      "t is certainly his best performance in a decade and possibly\n",
      "ng him what it's like to be human . death assumes the body o\n",
      "el washington ) , the noblest man on the police force , has \n",
      "rs as dr . richard kimble , a man who is wrongly accused and\n",
      "rs as dr . richard kimble , a man who is wrongly accused and\n",
      "rs as dr . richard kimble , a man who is wrongly accused and\n",
      "rs as dr . richard kimble , a man who is wrongly accused and\n",
      "any competent member of the human race who's ever seen a mov\n",
      "ore than anything else by how many sins he commits as a stor\n",
      ". `affliction' explores how a man never truly escapes the gr\n",
      ". `affliction' explores how a man never truly escapes the gr\n",
      ". `affliction' explores how a man never truly escapes the gr\n",
      ". `affliction' explores how a man never truly escapes the gr\n",
      ". `affliction' explores how a man never truly escapes the gr\n",
      ". `affliction' explores how a man never truly escapes the gr\n",
      ". `affliction' explores how a man never truly escapes the gr\n",
      ". `affliction' explores how a man never truly escapes the gr\n",
      "ick park and his studio , aardman animation , produced three\n",
      "id , \" for the boy who's half man or the man who's half boy \n",
      "id , \" for the boy who's half man or the man who's half boy \n",
      "nt . this was a mass market romantic comedy , after all , a \n",
      "nt . this was a mass market romantic comedy , after all , a \n",
      "nt . this was a mass market romantic comedy , after all , a \n",
      "iven expression , one young woman applies these lessons of t\n",
      "easant enough with a little human drama , a few family secre\n",
      "rongest driving forces in any man's life , especially for th\n",
      "some research on it ) about a man who is plagued with bad lu\n",
      "some research on it ) about a man who is plagued with bad lu\n",
      "             quaid stars as a man who has taken up the proff\n",
      "e love to dislike . for the human actors geena davis who nev\n",
      " to be your run-of-the-mill romantic comedy . home fries tel\n",
      "erland , and is directed by a man who hailed from joblo's ow\n",
      "l ( jeremy piven ) and family man adam ( daniel stern ) . af\n",
      "mehow , the cider house rules manages to keep an even keel i\n",
      "mehow , the cider house rules manages to keep an even keel i\n",
      "ccessful , highest-grossing romantic comedy in history , dir\n",
      "uld be no surprise . gene hackman as right-wing potential fa\n",
      "pecific aspects of the film , many of the most general and m\n",
      "c , you feel uncomfortable at many times , because so many s\n",
      ", at least . the script makes many points about society in a\n",
      "g down the trash chute of his manhattan condominium . every \n",
      "g down the trash chute of his manhattan condominium . every \n",
      "o stop the marquis' work , permanently . review : \" quills \"\n",
      " it's a very serious issue to many , it is the comedies that\n",
      "end of the qin dynasty , when many immigrants were making th\n",
      "end of the qin dynasty , when many immigrants were making th\n",
      "young teen falls for handsome man , father disapproves and a\n",
      "young teen falls for handsome man , father disapproves and a\n",
      " tree . although cautioned by many that he will ? shoot his \n",
      " we have the story of a dying man earl partridge ( jason rob\n",
      " who describes himself as \" a man of the cloth , without the\n",
      "               a standoff . a man holds a woman , a diplomat\n",
      "               a standoff . a man holds a woman , a diplomat\n",
      "y refreshing story of a black man on the run from the cops .\n",
      "y refreshing story of a black man on the run from the cops .\n",
      "y refreshing story of a black man on the run from the cops .\n",
      "y refreshing story of a black man on the run from the cops .\n",
      "             i don't know how many other people have had the\n",
      " the classic bond symbols : a man who can do just about anyt\n",
      " the classic bond symbols : a man who can do just about anyt\n",
      "rix , we were told that the humans are simply a virus . in e\n",
      "as keitel has nothing on this man . what a great , great mon\n",
      "st of noteworthies in a performance that is the most outstan\n",
      " . it will sink , though with many awards attatched to its h\n",
      " . it will sink , though with many awards attatched to its h\n",
      "inal australian movie about a man called bubby ( nicholas ho\n",
      "dance \" won't be seen by that many people . and that's a sha\n",
      "t animated offering , mulan , manages to be engaging and ref\n",
      " to confront the 30-something man who has befriended beau . \n",
      "es his undoubtedly best performance in victor nu ? ez's new \n",
      "es his undoubtedly best performance in victor nu ? ez's new \n",
      "es his undoubtedly best performance in victor nu ? ez's new \n",
      "es his undoubtedly best performance in victor nu ? ez's new \n",
      "s ) , a successful but lonely manhattan artist who returns h\n",
      "l vitti ( robert deniro ) , a man who finds his job as mafia\n",
      "l vitti ( robert deniro ) , a man who finds his job as mafia\n",
      "l vitti ( robert deniro ) , a man who finds his job as mafia\n",
      "                      the caveman's valentine starring samue\n",
      "e says : `after all , we're human . ' in the context of even\n",
      "colorful misfits ( pee-wee herman , the joker , ed wood , th\n",
      "erg ) and merrill ( lanai chapman ) , a newly reunited mothe\n",
      "g ; in the mid 80's a damaged man walks out of a rainstorm a\n",
      "here's mckellar , who plays a man who just wants to be alone\n",
      "here's mckellar , who plays a man who just wants to be alone\n",
      "here's mckellar , who plays a man who just wants to be alone\n",
      "f him . he's sonny coufax , a man who's living off a settlem\n",
      "f him . he's sonny coufax , a man who's living off a settlem\n",
      "low movements , his intricate mannerisms - all combined with\n",
      "ctuous tailor serving the panamanian elite . harry claims to\n",
      "though filmed in an objective manner , never taking a cheap \n",
      "though filmed in an objective manner , never taking a cheap \n",
      "                         no humans were harmed , tested or t\n",
      "                         no humans were harmed , tested or t\n",
      "                         no humans were harmed , tested or t\n",
      "                         no humans were harmed , tested or t\n",
      "of warmth , sensitivity and humanity to accentuate his posit\n",
      "ho would come alive when no humans were present . many criti\n",
      " has ever \" been with a black man \" , before a long-suppress\n",
      "ar the beginning , a paranoid man follows a pedestrian for s\n",
      "ar the beginning , a paranoid man follows a pedestrian for s\n",
      "ar the beginning , a paranoid man follows a pedestrian for s\n",
      "ow ? that's only the first of many improbabilities in this f\n",
      ", and inside a picture of a woman . the woman in the picture\n",
      ", and inside a picture of a woman . the woman in the picture\n",
      " shown up . since he's a dead man anyway , he figures he'll \n",
      " shown up . since he's a dead man anyway , he figures he'll \n",
      " shown up . since he's a dead man anyway , he figures he'll \n",
      "ean reno , a professional hit man for an italian mob crew ru\n",
      "ean reno , a professional hit man for an italian mob crew ru\n",
      "ful mining corporation that demands information about politi\n",
      "little comedy called the freshman , which had marlon brando \n",
      "ig city will bring back the romance that is dwindling from t\n",
      " , in the south , to find the man he never met in \" the adve\n",
      " , in the south , to find the man he never met in \" the adve\n",
      " , in the south , to find the man he never met in \" the adve\n",
      " , in the south , to find the man he never met in \" the adve\n",
      "ick park and his studio , aardman animation , produced three\n",
      "ze the production , while a woman who flat-out hated the mov\n",
      "ze the production , while a woman who flat-out hated the mov\n",
      "t ( danny devito ) , a lonely man in his fifties whom has lo\n",
      "international spy and leading man .                         \n",
      "by john grisham and robert altman ( as al hayes ) directed b\n",
      "by john grisham and robert altman ( as al hayes ) directed b\n",
      "by john grisham and robert altman ( as al hayes ) directed b\n",
      "by john grisham and robert altman ( as al hayes ) directed b\n",
      "by john grisham and robert altman ( as al hayes ) directed b\n",
      "pt for the few lucky ones who manage to escape on a football\n",
      "si gives an outstanding performance as the film's narrator ,\n",
      "not so much a story about a human boy surviving in the afric\n",
      "theodore joadson ( morgan freeman ) and lewis tappan ( stell\n"
     ]
    },
    {
     "name": "stdout",
     "output_type": "stream",
     "text": [
      "y . yet , beyond his annoying mannerisms , he's a lovable oa\n",
      "s -- in the best stoned performance since sean penn stumbled\n",
      "t i feel is in a rather crisp manner ( which also reminds me\n",
      "t i feel is in a rather crisp manner ( which also reminds me\n",
      "ection with outstanding performances and wonderful direction\n",
      "ound in books and on film for many , many years . without th\n",
      "ound in books and on film for many , many years . without th\n",
      "rtainment . like scent of a woman , which was released aroun\n",
      "rtainment . like scent of a woman , which was released aroun\n",
      "ases ) meeting in an isolated mansion to confront mr . boddy\n",
      "3 film directed by philip kaufman . the mistake of the distr\n",
      "3 film directed by philip kaufman . the mistake of the distr\n",
      "but , thankfully , the makers managed to do it right . when \n",
      " steen ) , their sister , a woman who always seems to be str\n",
      "ng donkey ! \" and despite its many contributors , the script\n",
      "ng donkey ! \" and despite its many contributors , the script\n",
      " is a kind , caring , younger man who has built his life aro\n",
      "inner susan sarandon's ( dead man walking ) first film- she \n",
      "res a new genre : the businessman as action hero . in ron ho\n",
      " the way people rarely recall many of the great character ac\n",
      " the way people rarely recall many of the great character ac\n",
      " which a bleeding , wounded woman stumbles in front of the s\n",
      "that . and so it is . _the truman show_ is the most perplexi\n",
      "s such he is probably an evil man but it does not worry him \n",
      "sly faked up , it nonetheless manages to tell a good enough \n",
      "sly faked up , it nonetheless manages to tell a good enough \n",
      "that adds depth to unbrewed romance . also involved is ordel\n",
      " unequivocally , is jerry , a man so haunted by his pledge t\n",
      "ver on the mission' a strange man , called richter , played \n",
      "nt that graphic displays of human insides and bodily fluids \n",
      "most unusual , yet chaste , romance turns tragic . it's a te\n",
      "v show , south park stars cartman , an overweight , foul-mou\n",
      " to the joy and fulfillment romantic relationships can bring\n",
      " to the joy and fulfillment romantic relationships can bring\n",
      " to the joy and fulfillment romantic relationships can bring\n",
      " to the joy and fulfillment romantic relationships can bring\n",
      " to the joy and fulfillment romantic relationships can bring\n",
      "iddle class , suburban family man lester ( kevin spacey ) re\n",
      "hough elizabeth works well on many levels , it falls short o\n",
      " fiesty , head-strong young woman who , unlike other disney \n",
      "gibson provides another macho man performance for hollywood \n",
      "d by ivan korshunov ( gary oldman ) hijack the plane threate\n",
      "d by ivan korshunov ( gary oldman ) hijack the plane threate\n",
      "arrassing . he is exactly the man you would want at your wed\n",
      "arrassing . he is exactly the man you would want at your wed\n",
      "nstead a drawing of a young woman wearing the diamond . this\n",
      "nstead a drawing of a young woman wearing the diamond . this\n",
      "s landscape is the setting of many small moments that add up\n",
      "s landscape is the setting of many small moments that add up\n",
      "s landscape is the setting of many small moments that add up\n",
      "s landscape is the setting of many small moments that add up\n",
      "cles the struggles of a young man ( private joker , played b\n",
      "cles the struggles of a young man ( private joker , played b\n",
      "cles the struggles of a young man ( private joker , played b\n",
      "eep inside politics and legal maneuvers of the white house .\n",
      "is a mysterious headless horseman who decapitates residents \n",
      "ed by a terrific acting performance by the actor . to begin \n",
      "ed by a terrific acting performance by the actor . to begin \n",
      "ed by a terrific acting performance by the actor . to begin \n",
      "ed by a terrific acting performance by the actor . to begin \n",
      "ed by a terrific acting performance by the actor . to begin \n",
      "ed by a terrific acting performance by the actor . to begin \n",
      "ain emotions behind the looks many characters exchange . but\n",
      "adly and prematurely . the german director of such classics \n",
      "adly and prematurely . the german director of such classics \n",
      "onist fred madison ( bill pullman ) and his wife renee ( pat\n",
      "onist fred madison ( bill pullman ) and his wife renee ( pat\n",
      "onist fred madison ( bill pullman ) and his wife renee ( pat\n",
      "onist fred madison ( bill pullman ) and his wife renee ( pat\n",
      "  melvin udall is a heartless man . he spends his days insid\n",
      "old erotically ( and maybe in many other ways ) , but what i\n",
      "old erotically ( and maybe in many other ways ) , but what i\n",
      "er some very convincing performances , taking you through al\n",
      "er some very convincing performances , taking you through al\n",
      "rt character study and part romance . for the most part , ka\n",
      "w . the problem is carly is a manic-depressive and when she \n",
      "ovie , but fortunately , they managed to do it in an interes\n",
      "ovie , but fortunately , they managed to do it in an interes\n",
      "ne no matter what ! i did and man to me it's the best dvd ev\n",
      "reviewing this film . like so many previous reviewers , i mu\n",
      "reviewing this film . like so many previous reviewers , i mu\n",
      "reviewing this film . like so many previous reviewers , i mu\n",
      "reviewing this film . like so many previous reviewers , i mu\n",
      "an american who travels to germany to further her studies in\n",
      "t each family must donate one man to serve in the army . the\n",
      "t each family must donate one man to serve in the army . the\n",
      "                     the rich man's wife is one of those mov\n",
      "s a nude drawing of a young woman . the drawing is televised\n",
      "effort . often a single performance can turn what might have\n",
      "e seven deadly sins . \" a fat man ( gluttony ) was forced to\n",
      "e seven deadly sins . \" a fat man ( gluttony ) was forced to\n",
      "m closely resembled that of \" manhattan , \" my personal favo\n",
      "goes = on to live a life as a man , as a carpenter , and doe\n",
      "goes = on to live a life as a man , as a carpenter , and doe\n",
      "ies of the casualties . one woman happens upon an interestin\n",
      "ies of the casualties . one woman happens upon an interestin\n",
      "f making the darker side of humanity exciting since the most\n",
      "f making the darker side of humanity exciting since the most\n",
      "f making the darker side of humanity exciting since the most\n",
      "investigate a tooth , after a man is bit in half . she gets \n",
      "investigate a tooth , after a man is bit in half . she gets \n",
      "investigate a tooth , after a man is bit in half . she gets \n",
      "ds then meets agent kay , the man who never seems to crack a\n",
      "arras ( jason miller ) is the man they bring in , his mother\n",
      "arras ( jason miller ) is the man they bring in , his mother\n",
      "arras ( jason miller ) is the man they bring in , his mother\n",
      "arras ( jason miller ) is the man they bring in , his mother\n",
      "so provides a brilliant performance as a cuban refugee who c\n",
      "d you dress up the sets ? how many models and computer effec\n",
      "ling with the real killer , a man with an artificial arm . a\n",
      "ling with the real killer , a man with an artificial arm . a\n",
      "ling with the real killer , a man with an artificial arm . a\n",
      "ling with the real killer , a man with an artificial arm . a\n",
      "ling with the real killer , a man with an artificial arm . a\n",
      "ling with the real killer , a man with an artificial arm . a\n",
      " faces . so far so good . our man treat is the hero , he'll \n",
      " faces . so far so good . our man treat is the hero , he'll \n",
      "r window . a shape of a young man is visible in the darkness\n",
      "r window . a shape of a young man is visible in the darkness\n",
      "he film in a less superficial manner than the plot seems to \n",
      "he film in a less superficial manner than the plot seems to \n",
      "he film in a less superficial manner than the plot seems to \n",
      ": morality , philosophy and human elements of the story , an\n",
      ": morality , philosophy and human elements of the story , an\n",
      ": morality , philosophy and human elements of the story , an\n",
      ": morality , philosophy and human elements of the story , an\n",
      "ens one night when he hears a man tumble through his ceiling\n",
      "t ( ie . the new \" m \" is a woman ) . \" tomorrow never dies \n",
      "sition to the silver screen . mansfield park is a turn of th\n",
      "sition to the silver screen . mansfield park is a turn of th\n",
      "until she married a nice rich man . naturally , a newspaper \n",
      "er this year , the movie holy man opened to a meager box off\n",
      "er this year , the movie holy man opened to a meager box off\n",
      "er this year , the movie holy man opened to a meager box off\n",
      " true story of struggle and humanity aboard a swordfishing b\n",
      " true story of struggle and humanity aboard a swordfishing b\n",
      "nightmare is the story of one man's quest to discover his tr\n",
      "vin spacey ) , a crippled con-man who is the lone survivor o\n",
      "p him . he recognizes in cole many of the same attributes as\n",
      "p him . he recognizes in cole many of the same attributes as\n",
      "sual gratuitous gore found in many films . the film appears \n",
      " , reza finally does meet a woman whom he claims to like , e\n",
      "t - the idea of a war between man and a sentient computer ne\n",
      "vie about a vampire third baseman who has to decide whether \n",
      " the local big-shot tv weatherman who is idolized by the tow\n",
      "ex most of the time as an old man , teeters between portrayi\n",
      " and wannabe chris rock white-man-black-man jokes that wind \n",
      " and wannabe chris rock white-man-black-man jokes that wind \n",
      "he la motta of the movie is a man of extreme appetites who i\n",
      "he la motta of the movie is a man of extreme appetites who i\n",
      "he la motta of the movie is a man of extreme appetites who i\n",
      "rted but because it's about human obsession with things that\n",
      "s divorced and seeing another man , and now it looks like th\n",
      "t very well could have been a manipulative tearjerker , broa\n",
      "t very well could have been a manipulative tearjerker , broa\n",
      "ship with her boyfriend ( hoffman ) . rather , he is ending \n",
      " 35 , 000 b . c . two proto-humans enter the cave and find a\n",
      "t passed the test of time and managed to keep its own cult s\n",
      "dard-issue hollywood comedy : man who was adopted as a child\n",
      "   nosferatu the vampyre ( germany 1979 ) a film review by m\n",
      "ri v ? ? n ? nen , sakari kuosmanen , elina salo ; written &\n",
      ". but flanagan was not only a man content on enduring the pa\n",
      ". but flanagan was not only a man content on enduring the pa\n",
      " wretched excesses of baz luhrmann's \" william shakespeare's\n",
      " tsui hark . van damme and rodman have nice chemistry , the \n",
      "ith mundane elements of the human condition . i knew then th\n",
      "gh i'm a short , ugly looking man with an obnoxious laugh . \n",
      "mccormack ) , a lower class woman who falls in love with mar\n",
      "pts for maximum fervor . jeff manages to re-start the car hi\n",
      "pts for maximum fervor . jeff manages to re-start the car hi\n",
      "pts for maximum fervor . jeff manages to re-start the car hi\n",
      "pts for maximum fervor . jeff manages to re-start the car hi\n",
      "pts for maximum fervor . jeff manages to re-start the car hi\n",
      "e detective and caring family man to a wife and newly-born d\n",
      "e detective and caring family man to a wife and newly-born d\n",
      "e detective and caring family man to a wife and newly-born d\n",
      "e detective and caring family man to a wife and newly-born d\n",
      "ivers one of his finest performances as frank pierce , a new\n",
      "s particular star . amy brenneman is the only actor of any n\n",
      " , out steps a steel-gray , human-like creature with aquamar\n",
      "m follows a soft-spoken young man , eddie adams ( mark wahlb\n",
      "mes from the emporer that one man from every family must joi\n",
      "mes from the emporer that one man from every family must joi\n",
      "mes from the emporer that one man from every family must joi\n",
      "mes from the emporer that one man from every family must joi\n",
      " \" quite possibly the laziest man in los angeles county . \" \n",
      " ship that sheltered them for many month of frigid antarctic\n",
      "                   oh god how many john grisham lawyer films\n",
      "                   oh god how many john grisham lawyer films\n",
      "be guilty ? would you shoot a man in the back if you knew th\n",
      ". we hear in the soundtrack human cries and the stomping of \n",
      ". we hear in the soundtrack human cries and the stomping of \n",
      ". we hear in the soundtrack human cries and the stomping of \n",
      "ture last year ( a sham on so many different levels ) , you \n",
      "ice dean wint , ben mayer-goodman . animation by emily huble\n",
      "f the film is the submerged humanity of two key players as \"\n",
      "f the film is the submerged humanity of two key players as \"\n",
      "f the film is the submerged humanity of two key players as \"\n",
      "f the film is the submerged humanity of two key players as \"\n",
      "f the film is the submerged humanity of two key players as \"\n",
      "udd plays libby parsons , a woman with a seemingly normal li\n",
      "ar late 1970s and early 1980s manhattan dance club . think o\n",
      "de shut isn't the masterpiece many were hoping to see in sta\n",
      "enzel washington is among the many actors this holiday seaso\n",
      "enzel washington is among the many actors this holiday seaso\n"
     ]
    },
    {
     "name": "stdout",
     "output_type": "stream",
     "text": [
      "enzel washington is among the many actors this holiday seaso\n",
      "ke long . ] is there a more romantic director than franco ze\n",
      "ke long . ] is there a more romantic director than franco ze\n",
      " he matures into a much older man , tarzan still wonders jus\n",
      " he matures into a much older man , tarzan still wonders jus\n",
      "ver writer/director robert altman works in a specific genre \n",
      "ver writer/director robert altman works in a specific genre \n",
      "ver writer/director robert altman works in a specific genre \n",
      "ver writer/director robert altman works in a specific genre \n",
      "ver writer/director robert altman works in a specific genre \n",
      "ver writer/director robert altman works in a specific genre \n",
      "ver writer/director robert altman works in a specific genre \n",
      "nd more than once . yes , the man who brought us billy madis\n",
      ". they plan a trip to see the man who led to their meeting ,\n",
      "aker , henry silva , cliff gorman , john tormey , gene riffi\n",
      "aker , henry silva , cliff gorman , john tormey , gene riffi\n",
      "aker , henry silva , cliff gorman , john tormey , gene riffi\n",
      "aker , henry silva , cliff gorman , john tormey , gene riffi\n",
      "e meaning of friendship and humanity that was the heart of \"\n",
      "nd brought out dynamite performances from pacino and sean pe\n",
      "uture \" movies ? there are so many minor conflicts and detai\n",
      "ute of a film . it not only demands your attention , but cha\n",
      "ute of a film . it not only demands your attention , but cha\n",
      "imilar to each other and , in many cases , all but nonexista\n",
      "e motive of sorts . the young man considers himself the bask\n",
      "e motive of sorts . the young man considers himself the bask\n",
      "e motive of sorts . the young man considers himself the bask\n",
      " you ever wonder if dennis rodman was actually from this pla\n",
      "( w . early brown - the cameraman , believe it or not , from\n",
      "d it gives us a highly devout man , who certainly has his fo\n",
      "d it gives us a highly devout man , who certainly has his fo\n",
      "r even noticing ) that he's human and is a lot different fro\n",
      "ostumes , has to be the performance by fabrice luchini as be\n",
      "ollywood in early 1990s . for many critics , scholars and , \n",
      "ally insufficient vincent freeman ( ethan hawke ) , a man wi\n",
      "ally insufficient vincent freeman ( ethan hawke ) , a man wi\n",
      "ally insufficient vincent freeman ( ethan hawke ) , a man wi\n",
      "ally insufficient vincent freeman ( ethan hawke ) , a man wi\n",
      "ally insufficient vincent freeman ( ethan hawke ) , a man wi\n",
      "g with the magazine's rag-tag management team , headed by hi\n",
      "g with the magazine's rag-tag management team , headed by hi\n",
      "god takes the place of sex as manifested in all those vows o\n",
      "god takes the place of sex as manifested in all those vows o\n",
      "god takes the place of sex as manifested in all those vows o\n",
      "god takes the place of sex as manifested in all those vows o\n",
      "rlessness . however , like so many central american countrie\n",
      "rlessness . however , like so many central american countrie\n",
      "of 1888 , jack the ripper , a man whose identity was never u\n",
      "of 1888 , jack the ripper , a man whose identity was never u\n",
      "d war ii , and the russian-german standoff in town could det\n",
      " but actually allowed their human foibles , flaws , and stre\n",
      " but actually allowed their human foibles , flaws , and stre\n",
      "ccessful grand rapids businessman who shares strong calvinis\n",
      "f kirk douglas's finest performances . he stars as a new yor\n",
      "f kirk douglas's finest performances . he stars as a new yor\n",
      "                          \" a man is not a man without eight\n",
      "                          \" a man is not a man without eight\n",
      "                          \" a man is not a man without eight\n",
      "                          \" a man is not a man without eight\n",
      "                          \" a man is not a man without eight\n",
      "nicholson ) is a successful romance author who is just the o\n",
      "nicholson ) is a successful romance author who is just the o\n",
      " inner demons . the now grown man breaks into his apartment \n",
      " inner demons . the now grown man breaks into his apartment \n",
      " responsibility , staged in a manner which many viewers migh\n",
      " responsibility , staged in a manner which many viewers migh\n",
      " responsibility , staged in a manner which many viewers migh\n",
      " choice after such duds as batman and robin and the peacemak\n",
      "ut that mulan is actually a woman . the disney animated feat\n",
      "ut that mulan is actually a woman . the disney animated feat\n",
      "ess \" from a clueless businessman , martin's character did i\n",
      "ess \" from a clueless businessman , martin's character did i\n",
      "tessential reagan-era businessman . stone constructed his fi\n",
      "tessential reagan-era businessman . stone constructed his fi\n",
      "hemes weave their way through many of his movies , including\n",
      "hemes weave their way through many of his movies , including\n",
      "our wife's actualization as a man ; and , whenever entering \n",
      "h not for lack of trying . in many respects , mulan is among\n",
      "h not for lack of trying . in many respects , mulan is among\n",
      "ar , with superb acting performances to match . granted , th\n",
      "ar , with superb acting performances to match . granted , th\n",
      "unrepentant and un-idolizable man who killed when the mood s\n",
      "unrepentant and un-idolizable man who killed when the mood s\n",
      "on from the twilight zone . a man ( rufus sewell ) is awaken\n",
      "on from the twilight zone . a man ( rufus sewell ) is awaken\n",
      "on from the twilight zone . a man ( rufus sewell ) is awaken\n",
      "on from the twilight zone . a man ( rufus sewell ) is awaken\n",
      "on from the twilight zone . a man ( rufus sewell ) is awaken\n",
      " the fragile alliance between man and beast . when her daugh\n",
      "vel to boston to meet terence mann , an influential and radi\n",
      " the advertisement for the truman show , i thought , \" what \n",
      " the advertisement for the truman show , i thought , \" what \n",
      " the advertisement for the truman show , i thought , \" what \n",
      "eels for this pathetic little man , thanks to the great scri\n",
      "t annoying laughter know to human kind . you may have seen t\n",
      "t annoying laughter know to human kind . you may have seen t\n",
      "renard ( robert carlyle ) , a man who has a bullet lodged in\n",
      "scary the way that it shows a man's decent into kafkaism , b\n",
      "scary the way that it shows a man's decent into kafkaism , b\n",
      "rado \" ) , roger s . h . schulman ( \" balto \" ) and joe stil\n",
      "rado \" ) , roger s . h . schulman ( \" balto \" ) and joe stil\n",
      " . middle sister khanh ( tran manh cuong ) tells her writer \n",
      " . middle sister khanh ( tran manh cuong ) tells her writer \n",
      " . middle sister khanh ( tran manh cuong ) tells her writer \n",
      "rom director doug limon , the man who had brought us the hum\n",
      "ike a fairly normal bunch . a man named hugo moves into the \n",
      "ost remains , and one day , a man named paul d ( danny glove\n",
      "hris ( luke perry ) , a policeman , and pam ( ashley judd ) \n",
      "and makes it an exceptional romantic comedy . everything abo\n",
      "n-marriage to the queen of normandy ( joan sims ) . she come\n",
      "pard and screenwriter marc norman took on an astonishingly d\n",
      "pard and screenwriter marc norman took on an astonishingly d\n",
      "ith an upcoming marriage to a man she loathes . in contrast \n",
      "ith an upcoming marriage to a man she loathes . in contrast \n",
      " , in arguably the best performance of his distinguished car\n",
      "re is no denying that seven demands attention , for it is a \n",
      "re is no denying that seven demands attention , for it is a \n",
      " as jean valjean . as a young man , valjean stole some bread\n",
      " as jean valjean . as a young man , valjean stole some bread\n",
      " as jean valjean . as a young man , valjean stole some bread\n",
      " as jean valjean . as a young man , valjean stole some bread\n",
      "ideocassette . burt reynold's manages to resuscitate his car\n",
      "ideocassette . burt reynold's manages to resuscitate his car\n",
      "ideocassette . burt reynold's manages to resuscitate his car\n",
      "e was in stitches . there are many good things about this se\n",
      "g made the monster dino hit , many critics described schindl\n",
      "duane martin ) , gale's cameraman who's not too thrilled wit\n",
      "revious film , \" scent of a woman , \" and not having as stro\n",
      "ss . it combines a charming romance with a dash of farce , s\n",
      " , or the interplay between a man and a woman . anna ( jodie\n",
      " novel about a restless young man called homer wells . among\n",
      " novel about a restless young man called homer wells . among\n",
      "ormer g . i . and your jewish man raising a family . stempel\n",
      "d it casts him as a desperate man out to collect a bounty on\n",
      "d it casts him as a desperate man out to collect a bounty on\n",
      "d it casts him as a desperate man out to collect a bounty on\n",
      "d it casts him as a desperate man out to collect a bounty on\n",
      "day didn't , and towers above many other movies of its type \n",
      "cent . instead , he plays the man as a powerful figure who h\n",
      "martin scorsese or ingmar bergman - usually address issues o\n",
      "martin scorsese or ingmar bergman - usually address issues o\n",
      "martin scorsese or ingmar bergman - usually address issues o\n",
      "austin powers : international man of mystery . the original \n",
      "      anyone who saw alan rickman's finely-realized performa\n",
      " cyborg ( robocop ) is half human ( murphy ) and half robot \n",
      "ther words - fake . jack is a man with many talents : he is \n",
      "d a well-written piece can be mangled by a group of amateurs\n",
      " scene of the film , derek commands the kid into a position \n",
      "d the shore at omaha beach normandy on d-day , the weary , s\n",
      "d the shore at omaha beach normandy on d-day , the weary , s\n",
      "an film since leaving nazi germany , is an eye-opener about \n",
      "eople have , though i imagine many are familiar with the pop\n",
      " bob ( facinelli ) is a young man who has just recently been\n",
      " bob ( facinelli ) is a young man who has just recently been\n",
      " of the two with frances mcdormand in \" fargo . \" in all cas\n",
      " of the two with frances mcdormand in \" fargo . \" in all cas\n",
      "ret is the unconvincing performance by the newcomer sofia co\n",
      "ret is the unconvincing performance by the newcomer sofia co\n",
      " beautiful , but mysterious woman named leeloo ( milla jovov\n",
      " a misadventure , with some romance with a local moroccan th\n",
      "s wife sunny in their newport mansion ? that is the question\n",
      " a pair of self-assured performances by morgan freeman and j\n",
      " a pair of self-assured performances by morgan freeman and j\n",
      "y up to a show-stopping performance at the legendary concert\n",
      "l decidedly unmemorable performances . now , with much fanfa\n",
      " meets and weds lyle , a kind man and good stepfather whom g\n",
      "while it is mr . hanks \" everyman \" performance at the cente\n",
      "es a prom queen and finds the man of her life all in one sit\n",
      "s and their entrances and one man in his time plays many par\n",
      "s and their entrances and one man in his time plays many par\n",
      "itarist with no name . he's a man in black with revenge on h\n",
      "ot through someone's hand , a man on fire jumping out behind\n",
      "itch . there's also the lotto man who must be satisfied that\n",
      " this film is vulgar , and in many ways it is . however , as\n",
      "nd , rhode island . ted stroehmann ( ben stiller ) is a soci\n",
      "nd , rhode island . ted stroehmann ( ben stiller ) is a soci\n",
      "ool crime movie that actually manages to bring something new\n",
      "ool crime movie that actually manages to bring something new\n",
      " there's the requisite sexy woman ( alison \" nepotist's daug\n",
      "t joe black is a well acted romantic drama which explores th\n",
      "t joe black is a well acted romantic drama which explores th\n",
      ". gallo plays a very troubled man , who was sent to jail for\n",
      ". gallo plays a very troubled man , who was sent to jail for\n",
      ". gallo plays a very troubled man , who was sent to jail for\n",
      "   after being hypnotized , a man believes there is a ghost \n",
      "   after being hypnotized , a man believes there is a ghost \n",
      " thoroughly enjoyed joel hershman's greenfingers even though\n",
      "                           so many students strive to get in\n",
      "austin powers : international man of mystery . many are skep\n",
      "erritory , and destroy the command of renegade colonel kurtz\n"
     ]
    },
    {
     "name": "stdout",
     "output_type": "stream",
     "text": [
      "erritory , and destroy the command of renegade colonel kurtz\n",
      "erritory , and destroy the command of renegade colonel kurtz\n",
      " intricate , and entertaining manner . it's a crowning achie\n",
      " intricate , and entertaining manner . it's a crowning achie\n",
      " intricate , and entertaining manner . it's a crowning achie\n",
      "can make themselves seen to humans , but they can't experien\n",
      "can make themselves seen to humans , but they can't experien\n",
      "ot arrangement a la robert altman . plot : follow the lives \n",
      "ot arrangement a la robert altman . plot : follow the lives \n",
      "ot arrangement a la robert altman . plot : follow the lives \n",
      "ot arrangement a la robert altman . plot : follow the lives \n",
      " ( 1993 ) , where he played a man who was so good at making \n",
      " ( 1993 ) , where he played a man who was so good at making \n",
      " ( 1993 ) , where he played a man who was so good at making \n",
      " ( 1993 ) , where he played a man who was so good at making \n",
      "                ingredients : man with amnesia who wakes up \n",
      " are dismayed after hitting a man in the road on their way h\n",
      "nd a mix of love , fate and romance . plot : high-school ner\n",
      "last from the past and encino man , then nothing will .     \n",
      "                     the laserman : somehow the title of wri\n",
      " basic , minimal training . a man you don't know tells you t\n",
      " basic , minimal training . a man you don't know tells you t\n",
      "ch starred vincent price as a man who pays a group of people\n",
      ". all of whom gave good performances in their respective rol\n",
      ", who gives the kind of performance that should have skyrock\n",
      "mer . son-in-law is a great romantic comedy that should plea\n",
      ", handsome , and much younger man , clayton boone ( brendan \n",
      ", handsome , and much younger man , clayton boone ( brendan \n",
      ", handsome , and much younger man , clayton boone ( brendan \n",
      ", handsome , and much younger man , clayton boone ( brendan \n",
      ", handsome , and much younger man , clayton boone ( brendan \n",
      ", handsome , and much younger man , clayton boone ( brendan \n",
      ", handsome , and much younger man , clayton boone ( brendan \n",
      "                    robert altman's cookie's fortune is that\n",
      "                    robert altman's cookie's fortune is that\n",
      "especially , a riveting performance by mitchell as the title\n",
      "t shop owner , the pregnant woman which runs the nightclub ,\n",
      "t shop owner , the pregnant woman which runs the nightclub ,\n",
      " this evil spirit . there are many wonderful twists and turn\n",
      "other mediocre outing for the man . but it wasn't not long b\n",
      "tial new york filmmaker , the man who brought the streets of\n",
      "tial new york filmmaker , the man who brought the streets of\n",
      "his path before ) , but still manages to entertain you gangb\n",
      "his path before ) , but still manages to entertain you gangb\n",
      "serves an oscar for his performance as sonny the religious c\n",
      " who rekindle a 40-year-old romance , i'd want to run and hi\n",
      " tell a personal story of a romance between the astronomer d\n",
      "wo big budget films within as many months . \" kundun \" ( \" p\n",
      " in doing so , the edge draws many more suspenseful moments \n",
      "eal and intrigue to this that many critics perhaps did not n\n",
      "cond choice , and , finally , man behind camera , michael cu\n",
      "cond choice , and , finally , man behind camera , michael cu\n",
      "                      not too many people know who james wha\n",
      "'s so ethnocentric that any humanity they once had is now go\n",
      "'s so ethnocentric that any humanity they once had is now go\n",
      "'s so ethnocentric that any humanity they once had is now go\n",
      "'s so ethnocentric that any humanity they once had is now go\n",
      "is a trickster , satan is a humanist -- \" the last humanist \n",
      "ences . it turns out that the man he's after is val ( gregg \n",
      "ences . it turns out that the man he's after is val ( gregg \n",
      "ts , but they cannot feel a human touch . it is an important\n",
      ". why ? it's torturous , it's maniacal , and it's just plain\n",
      ". why ? it's torturous , it's maniacal , and it's just plain\n",
      ". why ? it's torturous , it's maniacal , and it's just plain\n",
      ". why ? it's torturous , it's maniacal , and it's just plain\n",
      "                    >from the man who presented us with henr\n",
      "80's slump , murphy has still managed to bounce back with a \n",
      " initially brought ernest tidyman's \" black private dick tha\n",
      "id caruso , as gordo's senior man and near equal in the busi\n",
      "ake part in a funeral where a man , fallen off the orthodox \n",
      "e co-star of the movie : a german seaport town , far removed\n",
      "out alferd packer , the first man ever tried for cannibalism\n",
      "nt , gives one the best performances of his career ( golden \n",
      "nt , gives one the best performances of his career ( golden \n",
      "nt , gives one the best performances of his career ( golden \n",
      " we see matthew broderick , a man torn to a primal state ; h\n",
      "ead . libby realizes that the man she is imprisoned for kill\n",
      "                         \" no man is an island , \" one chara\n",
      "                         \" no man is an island , \" one chara\n",
      "the task of enforcing \" white man's justice \" to the aborigi\n",
      "the task of enforcing \" white man's justice \" to the aborigi\n",
      "ain emotions behind the looks many characters exchange . but\n",
      "i a film review by michael redman copyright 1998 by michael \n",
      "i a film review by michael redman copyright 1998 by michael \n",
      "i a film review by michael redman copyright 1998 by michael \n",
      "g it . in the famous lines of many martyrs , i have no regre\n",
      "to be an alternate universe . many films ( especially sci-fi\n",
      " receiving this lesson from a man who has put away a lot of \n",
      "e is the groundbreaking performance by mark wahlberg ( of bo\n",
      "iod . then again there are so many good movies , that one ca\n",
      "l washington , and morgan freeman--is the true story of the \n",
      "l washington , and morgan freeman--is the true story of the \n",
      "ver the student on film , has managed to resurrect the war g\n",
      "                           truman ( \" true-man \" ) burbank i\n",
      "query> king\n",
      "d on arrival . even the magic kingdom at its most mediocre -\n",
      "ying hong kong style of filmmaking has made its way down to \n",
      "t and worst of american filmmaking with the same qualities o\n",
      ". just awful . the madness of king george 107 min . / not ra\n",
      ". just awful . the madness of king george 107 min . / not ra\n",
      ". just awful . the madness of king george 107 min . / not ra\n",
      " extraordinaire tim roth , looking wistful as ever , as a gu\n",
      " rich ( 1999's animated \" the king and i , \" the \" swan prin\n",
      "ust not as bad as the english king . wallace speaks of freed\n",
      "d this retched piece of filmmaking on vhs . derived from the\n",
      "n did all of the bad-ass , kicking butt and taking names , g\n",
      "n did all of the bad-ass , kicking butt and taking names , g\n",
      "id and most recently the lion king , the walt disney company\n",
      "ost inconsistent actresses working today . from time-to-time\n",
      "torial debut based on stephen king's writings called the sha\n",
      "ro , wcw world champion jimmy king ( played by oliver platt \n",
      "ro , wcw world champion jimmy king ( played by oliver platt \n",
      "ro , wcw world champion jimmy king ( played by oliver platt \n",
      "ro , wcw world champion jimmy king ( played by oliver platt \n",
      "ro , wcw world champion jimmy king ( played by oliver platt \n",
      "ro , wcw world champion jimmy king ( played by oliver platt \n",
      "ro , wcw world champion jimmy king ( played by oliver platt \n",
      "ble enough , neil simon's shockingly lazy screenplay feels l\n",
      "ished from his country for looking at a wife of a king . aft\n",
      "r his childdhood friend mia ( king ) , i found myself thinki\n",
      "r his childdhood friend mia ( king ) , i found myself thinki\n",
      "ree horror movie , as stephen king once said ( again paraphr\n",
      "rblown that it makes the lion king soundtrack sound like cha\n",
      "de runner-esque world lead by king koopa ( dennis hopper ) .\n",
      "s a laughable 1977 rip off of king kong ( 1976 ) , itself a \n",
      "layed . did you ever get a sinking premonition about a movie\n",
      " legend , courtesy of b-movie king james g . robinson ( prod\n",
      "ship wrestling champion jimmy king ( a terribly casted olive\n",
      "ship wrestling champion jimmy king ( a terribly casted olive\n",
      "ship wrestling champion jimmy king ( a terribly casted olive\n",
      "ship wrestling champion jimmy king ( a terribly casted olive\n",
      " between disney and slapstick king john hughes has produced \n",
      "and his son , hammond ( perry king ) . one day in new orlean\n",
      "and his son , hammond ( perry king ) . one day in new orlean\n",
      "and his son , hammond ( perry king ) . one day in new orlean\n",
      "like a timeless epic in the making . a timeless epic it is n\n",
      "tar . however , things are looking up when he meets julia ( \n",
      "her of all monster movies , \" king kong . \" 1949's \" mighty \n",
      "her of all monster movies , \" king kong . \" 1949's \" mighty \n",
      "her of all monster movies , \" king kong . \" 1949's \" mighty \n",
      "usician appearances . b . b . king , blues traveler , eric c\n",
      " david and scott ) dream of making it to the wcw , and watch\n",
      " david and scott ) dream of making it to the wcw , and watch\n",
      "s of a * terrible * movie ? making it's debut at the dollar \n",
      " knight . david thewlis' evil king has a high hiss factor ( \n",
      " knight . david thewlis' evil king has a high hiss factor ( \n",
      " disney , ever since the lion king ( 1994 ) have lost their \n",
      "esemblance to shakespeare's \" king lear \" ( senile king with\n",
      "esemblance to shakespeare's \" king lear \" ( senile king with\n",
      "ham who lost his job when his king and queen were killed . t\n",
      "ou realize -- albeit while shaking your head -- that yes , t\n",
      "ou realize -- albeit while shaking your head -- that yes , t\n",
      "ou realize -- albeit while shaking your head -- that yes , t\n",
      "ou realize -- albeit while shaking your head -- that yes , t\n",
      "ma's adaptation of the steven king novel ? this is your drea\n",
      "there favorite wrestler jimmy king ( oliver platt ) is defea\n",
      "there favorite wrestler jimmy king ( oliver platt ) is defea\n",
      "ate to keep people from not liking him , that he puts up wit\n",
      " clich ? s . you get the \" talking killer \" plot device--you\n",
      "of baghdad for feeling up the king's old lady . with his tra\n",
      "zy vigilante techniques . speaking of one past criminal appr\n",
      "stupid lines ( \" say hello to king tut , asswhole ! \" - the \n",
      " another abel ferrara movie . king of new york and body snat\n",
      "                            making your first feature film a\n",
      "they're not . he ends up provoking jasper ( josh hartnett ) \n",
      "h other . screenwriter robert king completely subverts expec\n",
      "h other . screenwriter robert king completely subverts expec\n",
      " , headed for paris , to join king louis xiii's elite guard \n",
      "ine goes like this : the evil king cromwell , desiring to ta\n",
      "se monster movie , godzilla , king of the monsters ( which i\n",
      "se monster movie , godzilla , king of the monsters ( which i\n",
      "se monster movie , godzilla , king of the monsters ( which i\n",
      "urene landon ( velda ) , alan king ( charles kalecki ) , geo\n",
      "urene landon ( velda ) , alan king ( charles kalecki ) , geo\n",
      "urene landon ( velda ) , alan king ( charles kalecki ) , geo\n",
      "                 anna and the king is at least the fourth fi\n",
      "                 anna and the king is at least the fourth fi\n",
      "                 anna and the king is at least the fourth fi\n",
      "                 anna and the king is at least the fourth fi\n",
      "                 anna and the king is at least the fourth fi\n",
      "                 anna and the king is at least the fourth fi\n",
      "                 anna and the king is at least the fourth fi\n",
      "                 anna and the king is at least the fourth fi\n",
      "f spaceballs , and is even lacking the good , solid dialogue\n",
      "f spaceballs , and is even lacking the good , solid dialogue\n",
      "                          the king and i , a warner brothers\n",
      "                          the king and i , a warner brothers\n",
      "                          the king and i , a warner brothers\n",
      "                          the king and i , a warner brothers\n",
      "                          the king and i , a warner brothers\n",
      "                          the king and i , a warner brothers\n",
      "                          the king and i , a warner brothers\n",
      "                          the king and i , a warner brothers\n",
      "                          the king and i , a warner brothers\n",
      "                          the king and i , a warner brothers\n",
      "                          the king and i , a warner brothers\n",
      "                          the king and i , a warner brothers\n",
      "                          the king and i , a warner brothers\n",
      "                          the king and i , a warner brothers\n",
      "                          the king and i , a warner brothers\n",
      "                          the king and i , a warner brothers\n",
      "                          the king and i , a warner brothers\n",
      "                          the king and i , a warner brothers\n",
      "                          the king and i , a warner brothers\n",
      " : the poster art bears a striking closeup of hannah in trib\n",
      "ord obnoxious wants to become king and the magic mirror from\n",
      "ies as \" the simpsons \" and \" king of the hill , \" assumes t\n",
      "shrewd thinker , he begins working on a plan to get out of j\n",
      "s with guns a blazin' and the king's music playing in the ba\n",
      "nture films like gunga din or king solomon's mines had under\n",
      " a midget or an elderly ape taking off a wig and removing fa\n",
      "with is \" babe \" with it's talking animals and people unders\n",
      "his movie satirizes -- moviemaking and the political process\n",
      "his movie satirizes -- moviemaking and the political process\n",
      "o let loose on a subject . talking of beatty , he's excellen\n",
      " stand alone as the animation king . the following year , 19\n",
      "ng both were based on stephen king books . the parallels don\n",
      "ng both were based on stephen king books . the parallels don\n",
      "rnaut a wide berth . the lion king had just cracked $300 mil\n",
      "rnaut a wide berth . the lion king had just cracked $300 mil\n",
      "rnaut a wide berth . the lion king had just cracked $300 mil\n",
      "she realizes that lesly is talking about their \" house . \" )\n",
      "she realizes that lesly is talking about their \" house . \" )\n",
      " mecca : a visit to the magic kingdom . stay at the disneyla\n",
      "cfarlane's spawn ) while attacking the entrenched ruling cla\n",
      "f film adaptations of stephen king's work . this slow-moving\n",
      " allow beatty get away with making those statements ( in cas\n",
      "s finest comic work since the king of comedy , giving off a \n",
      " attempts to escape from a sinking ship . father , mother , \n",
      "lf is a straight up parody of king kong , awestruck onlooker\n",
      "g time . based on the stephen king series of the same title \n",
      " , but uses it as a way of seeking solace in finding the goo\n",
      " , but uses it as a way of seeking solace in finding the goo\n"
     ]
    },
    {
     "name": "stdout",
     "output_type": "stream",
     "text": [
      "o complex problems . while working as a janitor at mit , he \n",
      "on . he is in the employ of a kingpin ( david calder ) far m\n",
      "heart \" are obvious : an evil king , a determined warrior se\n",
      "heart \" are obvious : an evil king , a determined warrior se\n",
      "is more recent attempt at remaking the 1950's drive-in schlo\n",
      "ers of \" rush hour 2 \" are working at a distinct advantage o\n",
      "ate of denmark . namely , the king has died , and his widow \n",
      "ate of denmark . namely , the king has died , and his widow \n",
      "ate of denmark . namely , the king has died , and his widow \n",
      "ories written by `the stephen king of japan' , which is also\n",
      "tion than in fighting for his king and country . robin , wit\n",
      "tion than in fighting for his king and country . robin , wit\n",
      "ack skellington , the pumpkin king of halloweentown , is the\n",
      "ack skellington , the pumpkin king of halloweentown , is the\n",
      "991 . so who will be the next king ? well , let's wait until\n",
      "d elsewhere : \" are you f * * king my wife ? ? ? \" ) in the \n",
      " sure his brother is happy working somewhere else . when the\n",
      "imated feature since the lion king . after giving native ame\n",
      "ng heavyweight champion jimmy king ( oliver platt ) . when k\n",
      "ng heavyweight champion jimmy king ( oliver platt ) . when k\n",
      "ng heavyweight champion jimmy king ( oliver platt ) . when k\n",
      "een mile . \" based on stephen king stories adapted by screen\n",
      " loved movies that have me talking about them afterwards lik\n",
      "z ) so lord farquaad can be a king . shrek wants his propert\n",
      "i now know what siskel was talking about . once in a ( very \n",
      "ion right around the corner . king louis xv would soon die ,\n",
      "ion right around the corner . king louis xv would soon die ,\n",
      "305 ) . in his time , english king edward i \" longshanks \" (\n",
      "305 ) . in his time , english king edward i \" longshanks \" (\n",
      " a vulnerable hero , the \" talking villains , \" blatant prod\n",
      " near its one-hour mark , thinking to myself that i wanted s\n",
      " near its one-hour mark , thinking to myself that i wanted s\n",
      " saw the trailers , i was thinking \" hmm . . . this isn't ba\n",
      "e other as his nerdy , burger king employee brother . the st\n",
      " face the powerful edward i , king of england , in a war by \n",
      " face the powerful edward i , king of england , in a war by \n",
      "wenty years before the rodney king incident . its violent an\n",
      "employer of these treasure-seeking bandits , and he wishes d\n",
      "employer of these treasure-seeking bandits , and he wishes d\n",
      "ond film , i really wasn't looking forward to it as much as \n",
      "ng , and too obsessed with looking all cutting edge to ever \n",
      "she loves garlic and has a reeking garlic breath , he is tot\n",
      "she loves garlic and has a reeking garlic breath , he is tot\n",
      "she loves garlic and has a reeking garlic breath , he is tot\n",
      "she loves garlic and has a reeking garlic breath , he is tot\n",
      "ed for him to apologize for making a crowd-pleasing blockbus\n",
      "n , especially when you're looking at a 17-day , limited eng\n",
      "n , especially when you're looking at a 17-day , limited eng\n",
      "of leon gast's \" when we were kings \" is the fight itself , \n",
      "of leon gast's \" when we were kings \" is the fight itself , \n",
      "of leon gast's \" when we were kings \" is the fight itself , \n",
      "of leon gast's \" when we were kings \" is the fight itself , \n",
      "                 anna and the king strides onto the screen i\n",
      "                 anna and the king strides onto the screen i\n",
      "                 anna and the king strides onto the screen i\n",
      "                 anna and the king strides onto the screen i\n",
      "                 anna and the king strides onto the screen i\n",
      "                 anna and the king strides onto the screen i\n",
      "land of prydain , there was a king so evil , that his spirit\n",
      "land of prydain , there was a king so evil , that his spirit\n",
      "land of prydain , there was a king so evil , that his spirit\n",
      "land of prydain , there was a king so evil , that his spirit\n",
      "land of prydain , there was a king so evil , that his spirit\n",
      "land of prydain , there was a king so evil , that his spirit\n",
      "land of prydain , there was a king so evil , that his spirit\n",
      "land of prydain , there was a king so evil , that his spirit\n",
      "land of prydain , there was a king so evil , that his spirit\n",
      "land of prydain , there was a king so evil , that his spirit\n",
      "ms like they were subjects of king truman . the same goes fo\n",
      "in gang of prison inmates breaking rocks along the road in u\n",
      "ywood to counter all that thinking . this film starts off we\n",
      "e reverend dr . martin luther king , jr . the story begins i\n",
      "or of beavis and butthead and king of the hill . in his live\n",
      "oncept , some elements are lacking . the device of mysteriou\n",
      "a from horror maestro stephen king , featuring an outstandin\n",
      "a from horror maestro stephen king , featuring an outstandin\n",
      " , i could see everything . \" king louis xvi was beheaded on\n",
      " , i could see everything . \" king louis xvi was beheaded on\n",
      "o prop up their regimes ; the king was often head of the rel\n",
      "ep who was buried alive for taking part of murdering the kin\n",
      "eard that kevin costner was making a movie called \" the post\n",
      "ion from all facets of moviemaking a few years back ; he spe\n",
      "d of enshrining the legend of king arthur and his knights of\n",
      "ng 'fuck' all the time ? \" fucking good question , that . it\n",
      "query> quit\n",
      "s funded by her mother . lucy quit working professionally 10\n",
      "erick . i disliked that movie quite a bit , but since \" prac\n",
      "t disaster . babe ruth didn't quit baseball after one season\n",
      "o-be fiance . i think she can quit that job and get a more r\n",
      " and rose mcgowan should just quit acting . she has no chari\n",
      "and get a day job . and don't quit it .                     \n",
      " kubrick , alas , should have quit while he was ahead . this\n",
      "everyone involved should have quit while they were still ahe\n",
      "l die . so what does joe do ? quit his job , of course ! ! w\n",
      "red \" implant . he's ready to quit the biz and get a portion\n",
      "hat he always recorded , they quit and become disillusioned \n",
      " admit that i ? ? ? ve become quite the \" scream \" fan . no \n",
      " again , the fact that he has quit his job to feel what it's\n",
      "school reunion . he has since quit his job as a travel journ\n",
      "ells one of his friends , \" i quit school because i didn't l\n",
      "ms , cursing off the boss and quitting his job ( \" today i q\n",
      "e , the arrival of the now ubiquitous videocassette . burt r\n",
      "in capitol city , that he has quit his job and hopes to open\n",
      "before his death at age 67 to quit filmmaking once a homosex\n",
      " - joss's explanation that he quit the priesthood because of\n",
      " is a former prosecutor , and quit because of tensions betwe\n"
     ]
    }
   ],
   "source": [
    "query = ''\n",
    "while query != \"quit\":\n",
    "    query = input(\"query> \")\n",
    "    if query in idx:\n",
    "        for doc in idx[query]:\n",
    "            print(snippet(doc, query))\n",
    "    else:\n",
    "        print(\"Not found\")"
   ]
  },
  {
   "cell_type": "code",
   "execution_count": 80,
   "metadata": {},
   "outputs": [],
   "source": [
    "def preprocess(tagged_corpus):\n",
    "    words = set()\n",
    "    tags = set()\n",
    "    for sent in tagged_corpus:\n",
    "        for word, tag in sent:\n",
    "            words.add(word)\n",
    "            tags.add(tag)\n",
    "    wm = dict((w, i) for (i, w) in enumerate(words))\n",
    "    tm = dict((t, i) for (i, t) in enumerate(tags))\n",
    "    return [[(wm[w], tm[t]) for (w, t) in sent] for sent in tagged_corpus]"
   ]
  },
  {
   "cell_type": "code",
   "execution_count": 99,
   "metadata": {},
   "outputs": [],
   "source": [
    "vocab_size = 100000"
   ]
  },
  {
   "cell_type": "code",
   "execution_count": 101,
   "metadata": {},
   "outputs": [],
   "source": [
    "import random\n",
    "\n",
    "vocab0 = range(vocab_size)\n",
    "vocab1 = list(range(vocab_size))\n",
    "vocab2 = set(range(vocab_size))"
   ]
  },
  {
   "cell_type": "code",
   "execution_count": 102,
   "metadata": {},
   "outputs": [
    {
     "name": "stdout",
     "output_type": "stream",
     "text": [
      "1.04 µs ± 12.3 ns per loop (mean ± std. dev. of 7 runs, 1000000 loops each)\n"
     ]
    }
   ],
   "source": [
    "%%timeit\n",
    "\n",
    "random.randint(0, vocab_size * 2) in vocab0"
   ]
  },
  {
   "cell_type": "code",
   "execution_count": 103,
   "metadata": {},
   "outputs": [
    {
     "name": "stdout",
     "output_type": "stream",
     "text": [
      "637 µs ± 11.9 µs per loop (mean ± std. dev. of 7 runs, 1000 loops each)\n"
     ]
    }
   ],
   "source": [
    "%%timeit\n",
    "\n",
    "random.randint(0, vocab_size * 2) in vocab1"
   ]
  },
  {
   "cell_type": "code",
   "execution_count": 104,
   "metadata": {},
   "outputs": [
    {
     "name": "stdout",
     "output_type": "stream",
     "text": [
      "1.08 µs ± 26 ns per loop (mean ± std. dev. of 7 runs, 1000000 loops each)\n"
     ]
    }
   ],
   "source": [
    "%%timeit\n",
    "\n",
    "random.randint(0, vocab_size * 2) in vocab2"
   ]
  },
  {
   "cell_type": "markdown",
   "metadata": {},
   "source": [
    "### Dynamic Programming"
   ]
  },
  {
   "cell_type": "markdown",
   "metadata": {},
   "source": [
    "Dynamic programming is a general technique for designing algorithms which is widely used in natural language processing. The term “programming” is used in a different sense to what you might expect, to mean planning or scheduling. Dynamic programming is used when a problem contains overlapping subproblems. Instead of computing solutions to these subproblems repeatedly, we simply store them in a lookup table. In the remainder of this section, we will introduce dynamic programming, but in a rather different context to syntactic parsing."
   ]
  },
  {
   "cell_type": "code",
   "execution_count": 105,
   "metadata": {},
   "outputs": [],
   "source": [
    "def virahanka1(n):\n",
    "    if n == 0:\n",
    "        return [\"\"]\n",
    "    elif n == 1:\n",
    "        return [\"S\"]\n",
    "    else:\n",
    "        s = [\"S\" + prosody for prosody in virahanka1(n-1)]\n",
    "        l = [\"L\" + prosody for prosody in virahanka1(n-2)]\n",
    "        return s + l"
   ]
  },
  {
   "cell_type": "code",
   "execution_count": 106,
   "metadata": {},
   "outputs": [],
   "source": [
    "def virahanka2(n):\n",
    "    lookup = [[\"\"], [\"S\"]]\n",
    "    for i in range(n-1):\n",
    "        s = [\"S\" + prosody for prosody in lookup[i+1]]\n",
    "        l = [\"L\" + prosody for prosody in lookup[i]]\n",
    "        lookup.append(s + l)\n",
    "    return lookup[n]"
   ]
  },
  {
   "cell_type": "code",
   "execution_count": 107,
   "metadata": {},
   "outputs": [],
   "source": [
    "def virahanka3(n, lookup={0:[\"\"], 1:[\"S\"]}):\n",
    "    if n not in lookup:\n",
    "        s = [\"S\" + prosody for prosody in virahanka3(n-1)]\n",
    "        l = [\"L\" + prosody for prosody in virahanka3(n-2)]\n",
    "        lookup[n] = s + l\n",
    "    return lookup[n]"
   ]
  },
  {
   "cell_type": "code",
   "execution_count": 108,
   "metadata": {},
   "outputs": [],
   "source": [
    "from nltk import memoize\n",
    "\n",
    "\n",
    "@memoize\n",
    "def virahanka4(n):\n",
    "    if n == 0:\n",
    "        return [\"\"]\n",
    "    elif n == 1:\n",
    "        return [\"S\"]\n",
    "    else:\n",
    "        s = [\"S\" + prosody for prosody in virahanka4(n-1)]\n",
    "        l = [\"L\" + prosody for prosody in virahanka4(n-2)]\n",
    "        return s + l"
   ]
  },
  {
   "cell_type": "code",
   "execution_count": 109,
   "metadata": {},
   "outputs": [
    {
     "data": {
      "text/plain": [
       "['SSSS', 'SSL', 'SLS', 'LSS', 'LL']"
      ]
     },
     "execution_count": 109,
     "metadata": {},
     "output_type": "execute_result"
    }
   ],
   "source": [
    "virahanka1(4)"
   ]
  },
  {
   "cell_type": "code",
   "execution_count": 110,
   "metadata": {},
   "outputs": [
    {
     "data": {
      "text/plain": [
       "['SSSS', 'SSL', 'SLS', 'LSS', 'LL']"
      ]
     },
     "execution_count": 110,
     "metadata": {},
     "output_type": "execute_result"
    }
   ],
   "source": [
    "virahanka2(4)"
   ]
  },
  {
   "cell_type": "code",
   "execution_count": 111,
   "metadata": {},
   "outputs": [
    {
     "data": {
      "text/plain": [
       "['SSSS', 'SSL', 'SLS', 'LSS', 'LL']"
      ]
     },
     "execution_count": 111,
     "metadata": {},
     "output_type": "execute_result"
    }
   ],
   "source": [
    "virahanka3(4)"
   ]
  },
  {
   "cell_type": "code",
   "execution_count": 112,
   "metadata": {},
   "outputs": [
    {
     "data": {
      "text/plain": [
       "['SSSS', 'SSL', 'SLS', 'LSS', 'LL']"
      ]
     },
     "execution_count": 112,
     "metadata": {},
     "output_type": "execute_result"
    }
   ],
   "source": [
    "virahanka4(4)"
   ]
  },
  {
   "cell_type": "markdown",
   "metadata": {},
   "source": [
    "## 4.8 A Sample of Python Libraries"
   ]
  },
  {
   "cell_type": "markdown",
   "metadata": {},
   "source": [
    "Python has hundreds of third-party libraries, specialized software packages that extend the functionality of Python. NLTK is one such library. To realize the full power of Python programming, you should become familiar with several other libraries. Most of these will need to be manually installed on your computer."
   ]
  },
  {
   "cell_type": "markdown",
   "metadata": {},
   "source": [
    "###  Matplotlib"
   ]
  },
  {
   "cell_type": "markdown",
   "metadata": {},
   "source": [
    "Python has some libraries that are useful for visualizing language data. The Matplotlib package supports sophisticated plotting functions with a MATLAB-style interface, and is available from http://matplotlib.sourceforge.net/."
   ]
  },
  {
   "cell_type": "code",
   "execution_count": 177,
   "metadata": {},
   "outputs": [],
   "source": [
    "import pylab\n",
    "import matplotlib"
   ]
  },
  {
   "cell_type": "code",
   "execution_count": 178,
   "metadata": {},
   "outputs": [],
   "source": [
    "%matplotlib inline"
   ]
  },
  {
   "cell_type": "code",
   "execution_count": 153,
   "metadata": {},
   "outputs": [],
   "source": [
    "colors = 'rgbcmyk'  # red, green, blue, cyan, magenta, yellow, black\n",
    "\n",
    "\n",
    "def bar_chart(categories, words, counts):\n",
    "    \"Plot a bar chart showing counts for each word by category\"\n",
    "    ind = pylab.arange(len(words))\n",
    "    width = 1 / (len(categories) + 1)\n",
    "    bar_groups = []\n",
    "    for c in range(len(categories)):\n",
    "        bars = pylab.bar(ind+c*width, counts[categories[c]], width,\n",
    "                         color=colors[c % len(colors)])\n",
    "        bar_groups.append(bars)\n",
    "    pylab.xticks(ind+width, words)\n",
    "    pylab.legend([b[0] for b in bar_groups], categories, loc='upper left')\n",
    "    pylab.ylabel('Frequency')\n",
    "    pylab.title('Frequency of Six Modal Verbs by Genre')\n",
    "    pylab.show()"
   ]
  },
  {
   "cell_type": "code",
   "execution_count": 154,
   "metadata": {},
   "outputs": [],
   "source": [
    "genres = ['news', 'religion', 'hobbies', 'government', 'adventure']"
   ]
  },
  {
   "cell_type": "code",
   "execution_count": 155,
   "metadata": {},
   "outputs": [],
   "source": [
    "modals = ['can', 'could', 'may', 'might', 'must', 'will']"
   ]
  },
  {
   "cell_type": "code",
   "execution_count": 156,
   "metadata": {},
   "outputs": [],
   "source": [
    "cfdist = nltk.ConditionalFreqDist(\n",
    "    (genre, word)\n",
    "    for genre in genres\n",
    "    for word in nltk.corpus.brown.words(categories=genre)\n",
    "    if word in modals\n",
    ")"
   ]
  },
  {
   "cell_type": "code",
   "execution_count": 157,
   "metadata": {},
   "outputs": [],
   "source": [
    "counts = {}"
   ]
  },
  {
   "cell_type": "code",
   "execution_count": 158,
   "metadata": {},
   "outputs": [],
   "source": [
    "for genre in genres:\n",
    "    counts[genre] = [cfdist[genre][word] for word in modals]"
   ]
  },
  {
   "cell_type": "code",
   "execution_count": 159,
   "metadata": {},
   "outputs": [
    {
     "data": {
      "image/png": "[encoded data removed]",
      "text/plain": [
       "<Figure size 432x288 with 1 Axes>"
      ]
     },
     "metadata": {
      "needs_background": "light"
     },
     "output_type": "display_data"
    }
   ],
   "source": [
    "bar_chart(genres, modals, counts)"
   ]
  },
  {
   "cell_type": "code",
   "execution_count": 160,
   "metadata": {},
   "outputs": [],
   "source": [
    "matplotlib.use('Agg')"
   ]
  },
  {
   "cell_type": "code",
   "execution_count": 161,
   "metadata": {},
   "outputs": [
    {
     "data": {
      "text/plain": [
       "<Figure size 432x288 with 0 Axes>"
      ]
     },
     "metadata": {},
     "output_type": "display_data"
    }
   ],
   "source": [
    "pylab.savefig('modals.png')"
   ]
  },
  {
   "cell_type": "code",
   "execution_count": 162,
   "metadata": {},
   "outputs": [
    {
     "name": "stdout",
     "output_type": "stream",
     "text": [
      "Content-Type: text/html\n"
     ]
    }
   ],
   "source": [
    "print('Content-Type: text/html')"
   ]
  },
  {
   "cell_type": "code",
   "execution_count": 163,
   "metadata": {},
   "outputs": [
    {
     "name": "stdout",
     "output_type": "stream",
     "text": [
      "<html><body>\n"
     ]
    }
   ],
   "source": [
    "print('<html><body>')"
   ]
  },
  {
   "cell_type": "code",
   "execution_count": 164,
   "metadata": {},
   "outputs": [
    {
     "name": "stdout",
     "output_type": "stream",
     "text": [
      "<img src=\"modals.png\"/>\n"
     ]
    }
   ],
   "source": [
    "print('<img src=\"modals.png\"/>')"
   ]
  },
  {
   "cell_type": "code",
   "execution_count": 165,
   "metadata": {},
   "outputs": [
    {
     "name": "stdout",
     "output_type": "stream",
     "text": [
      "</body></html>\n"
     ]
    }
   ],
   "source": [
    "print('</body></html>')"
   ]
  },
  {
   "cell_type": "markdown",
   "metadata": {},
   "source": [
    "### NetworkX"
   ]
  },
  {
   "cell_type": "markdown",
   "metadata": {},
   "source": [
    "The NetworkX package is for defining and manipulating structures consisting of nodes and edges, known as graphs. It is available from https://networkx.lanl.gov/."
   ]
  },
  {
   "cell_type": "code",
   "execution_count": 179,
   "metadata": {},
   "outputs": [],
   "source": [
    "import networkx as nx\n",
    "import matplotlib\n",
    "from nltk.corpus import wordnet as wn"
   ]
  },
  {
   "cell_type": "code",
   "execution_count": 180,
   "metadata": {},
   "outputs": [],
   "source": [
    "def traverse(graph, start, node):\n",
    "    graph.depth[node.name] = node.shortest_path_distance(start)\n",
    "    for child in node.hyponyms():\n",
    "        graph.add_edge(node.name, child.name)\n",
    "        traverse(graph, start, child)"
   ]
  },
  {
   "cell_type": "code",
   "execution_count": 181,
   "metadata": {},
   "outputs": [],
   "source": [
    "def hyponym_graph(start):\n",
    "    G = nx.Graph()\n",
    "    G.depth = {}\n",
    "    traverse(G, start, start)\n",
    "    return G"
   ]
  },
  {
   "cell_type": "code",
   "execution_count": 182,
   "metadata": {},
   "outputs": [],
   "source": [
    "def graph_draw(graph):\n",
    "    nx.draw_networkx(\n",
    "        graph,\n",
    "        node_size=[16 * graph.degree(n) for n in graph],\n",
    "        node_color=[graph.depth[n] for n in graph],\n",
    "        with_labels=False\n",
    "    )\n",
    "    matplotlib.pyplot.show()"
   ]
  },
  {
   "cell_type": "code",
   "execution_count": 183,
   "metadata": {},
   "outputs": [],
   "source": [
    "dog = wn.synset('dog.n.01')"
   ]
  },
  {
   "cell_type": "code",
   "execution_count": 184,
   "metadata": {},
   "outputs": [],
   "source": [
    "graph = hyponym_graph(dog)"
   ]
  },
  {
   "cell_type": "code",
   "execution_count": 185,
   "metadata": {},
   "outputs": [
    {
     "data": {
      "image/png": "[encoded data removed]",
      "text/plain": [
       "<Figure size 432x288 with 1 Axes>"
      ]
     },
     "metadata": {
      "needs_background": "light"
     },
     "output_type": "display_data"
    }
   ],
   "source": [
    "graph_draw(graph)"
   ]
  },
  {
   "cell_type": "markdown",
   "metadata": {},
   "source": [
    "### csv"
   ]
  },
  {
   "cell_type": "markdown",
   "metadata": {},
   "source": [
    "Language analysis work often involves data tabulations, containing information about lexical items, the participants in an empirical study, or the linguistic features extracted from a corpus."
   ]
  },
  {
   "cell_type": "code",
   "execution_count": 186,
   "metadata": {},
   "outputs": [],
   "source": [
    "import csv"
   ]
  },
  {
   "cell_type": "code",
   "execution_count": null,
   "metadata": {},
   "outputs": [],
   "source": [
    "input_file = open(\"lexicon.csv\", \"rb\")"
   ]
  },
  {
   "cell_type": "code",
   "execution_count": null,
   "metadata": {},
   "outputs": [],
   "source": [
    "for row in csv.reader(input_file):\n",
    "    print row"
   ]
  },
  {
   "cell_type": "markdown",
   "metadata": {},
   "source": [
    "### NumPy"
   ]
  },
  {
   "cell_type": "markdown",
   "metadata": {},
   "source": [
    "The NumPy package provides substantial support for numerical processing in Python. NumPy has a multidimensional array object, which is easy to initialize and access:"
   ]
  },
  {
   "cell_type": "code",
   "execution_count": 189,
   "metadata": {},
   "outputs": [],
   "source": [
    "from numpy import array"
   ]
  },
  {
   "cell_type": "code",
   "execution_count": 190,
   "metadata": {},
   "outputs": [],
   "source": [
    "cube = array([[[0, 0, 0], [1, 1, 1], [2, 2, 2]],\n",
    "              [[3, 3, 3], [4, 4, 4], [5, 5, 5]],\n",
    "              [[6, 6, 6], [7, 7, 7], [8, 8, 8]]])"
   ]
  },
  {
   "cell_type": "code",
   "execution_count": 191,
   "metadata": {},
   "outputs": [
    {
     "data": {
      "text/plain": [
       "4"
      ]
     },
     "execution_count": 191,
     "metadata": {},
     "output_type": "execute_result"
    }
   ],
   "source": [
    "cube[1,1,1]"
   ]
  },
  {
   "cell_type": "code",
   "execution_count": 192,
   "metadata": {},
   "outputs": [
    {
     "data": {
      "text/plain": [
       "array([[6, 7, 8],\n",
       "       [6, 7, 8],\n",
       "       [6, 7, 8]])"
      ]
     },
     "execution_count": 192,
     "metadata": {},
     "output_type": "execute_result"
    }
   ],
   "source": [
    "cube[2].transpose()"
   ]
  },
  {
   "cell_type": "code",
   "execution_count": 193,
   "metadata": {},
   "outputs": [
    {
     "data": {
      "text/plain": [
       "array([[7, 7, 7],\n",
       "       [8, 8, 8]])"
      ]
     },
     "execution_count": 193,
     "metadata": {},
     "output_type": "execute_result"
    }
   ],
   "source": [
    "cube[2,1:]"
   ]
  },
  {
   "cell_type": "code",
   "execution_count": 194,
   "metadata": {},
   "outputs": [
    {
     "data": {
      "text/plain": [
       "array([[-0.4472136 , -0.89442719],\n",
       "       [-0.89442719,  0.4472136 ]])"
      ]
     },
     "execution_count": 194,
     "metadata": {},
     "output_type": "execute_result"
    }
   ],
   "source": [
    "from numpy import linalg\n",
    "\n",
    "a = array([[4, 0], [3, -5]])\n",
    "u, s, vt = linalg.svd(a)\n",
    "u"
   ]
  },
  {
   "cell_type": "code",
   "execution_count": 195,
   "metadata": {},
   "outputs": [
    {
     "data": {
      "text/plain": [
       "array([6.32455532, 3.16227766])"
      ]
     },
     "execution_count": 195,
     "metadata": {},
     "output_type": "execute_result"
    }
   ],
   "source": [
    "s"
   ]
  },
  {
   "cell_type": "code",
   "execution_count": 196,
   "metadata": {},
   "outputs": [
    {
     "data": {
      "text/plain": [
       "array([[-0.70710678,  0.70710678],\n",
       "       [-0.70710678, -0.70710678]])"
      ]
     },
     "execution_count": 196,
     "metadata": {},
     "output_type": "execute_result"
    }
   ],
   "source": [
    "vt"
   ]
  },
  {
   "cell_type": "code",
   "execution_count": null,
   "metadata": {},
   "outputs": [],
   "source": []
  }
 ],
 "metadata": {
  "anaconda-cloud": {},
  "kernelspec": {
   "display_name": "Python 3",
   "language": "python",
   "name": "python3"
  },
  "language_info": {
   "codemirror_mode": {
    "name": "ipython",
    "version": 3
   },
   "file_extension": ".py",
   "mimetype": "text/x-python",
   "name": "python",
   "nbconvert_exporter": "python",
   "pygments_lexer": "ipython3",
   "version": "3.6.8"
  },
  "toc": {
   "base_numbering": 1,
   "nav_menu": {},
   "number_sections": false,
   "sideBar": true,
   "skip_h1_title": false,
   "title_cell": "Table of Contents",
   "title_sidebar": "Contents",
   "toc_cell": false,
   "toc_position": {},
   "toc_section_display": true,
   "toc_window_display": true
  }
 },
 "nbformat": 4,
 "nbformat_minor": 1
}
