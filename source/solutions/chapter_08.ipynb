{
 "cells": [
  {
   "cell_type": "markdown",
   "metadata": {},
   "source": [
    "# IMPORTS"
   ]
  },
  {
   "cell_type": "code",
   "execution_count": 1,
   "metadata": {},
   "outputs": [],
   "source": [
    "import nltk\n",
    "import numpy as np\n",
    "import pandas as pd\n",
    "import matplotlib.pyplot as plt"
   ]
  },
  {
   "cell_type": "code",
   "execution_count": 2,
   "metadata": {},
   "outputs": [],
   "source": [
    "%matplotlib inline"
   ]
  },
  {
   "cell_type": "markdown",
   "metadata": {},
   "source": [
    "# Exercise 1"
   ]
  },
  {
   "cell_type": "markdown",
   "metadata": {},
   "source": [
    "Can you come up with grammatical sentences that have probably never been uttered before? (Take turns with a partner.) What does this tell you about human language?"
   ]
  },
  {
   "cell_type": "markdown",
   "metadata": {},
   "source": [
    "The word \"abradabraXXXYYY\" is my hand-crafted word just a moment ago."
   ]
  },
  {
   "cell_type": "markdown",
   "metadata": {},
   "source": [
    "# Exercise 2 (Review)"
   ]
  },
  {
   "cell_type": "markdown",
   "metadata": {},
   "source": [
    "Recall Strunk and White's prohibition against sentence-initial however used to mean \"although\". Do a web search for however used at the start of the sentence. How widely used is this construction?"
   ]
  },
  {
   "cell_type": "markdown",
   "metadata": {},
   "source": [
    "# Exercise 3"
   ]
  },
  {
   "cell_type": "markdown",
   "metadata": {},
   "source": [
    "Consider the sentence *Kim arrived or Dana left and everyone cheered*. Write down the parenthesized forms to show the relative scope of and and or. Generate tree structures corresponding to both of these interpretations."
   ]
  },
  {
   "cell_type": "markdown",
   "metadata": {},
   "source": [
    "1. (Kim arrived or Dana left) and everyone cheered\n",
    "2. Kim arrived or (Dana left and everyone cheered)"
   ]
  },
  {
   "cell_type": "code",
   "execution_count": 4,
   "metadata": {},
   "outputs": [],
   "source": [
    "grammar = nltk.CFG.fromstring(\"\"\"\n",
    "    S   -> CS C CSS | CSS C CS\n",
    "    CSS -> CS | CS C CS\n",
    "    CS  -> NP VP\n",
    "    NP  -> N\n",
    "    VP  -> V\n",
    "    C   -> 'and' | 'or'\n",
    "    V   -> 'arrived' | 'left' | 'cheered'\n",
    "    N   -> 'Kim' | 'Dana' | 'everyone'\n",
    "\"\"\")"
   ]
  },
  {
   "cell_type": "code",
   "execution_count": 5,
   "metadata": {},
   "outputs": [],
   "source": [
    "parser = nltk.RecursiveDescentParser(grammar)"
   ]
  },
  {
   "cell_type": "code",
   "execution_count": 6,
   "metadata": {},
   "outputs": [],
   "source": [
    "sent = 'Kim arrived or Dana left and everyone cheered'.split()"
   ]
  },
  {
   "cell_type": "code",
   "execution_count": 8,
   "metadata": {},
   "outputs": [],
   "source": [
    "for tree in parser.parse(sent):\n",
    "    tree.draw()"
   ]
  },
  {
   "cell_type": "markdown",
   "metadata": {},
   "source": [
    "# Exercise 4"
   ]
  },
  {
   "cell_type": "markdown",
   "metadata": {},
   "source": [
    "The Tree class implements a variety of other useful methods. See the Tree help documentation for more details, i.e. import the Tree class and then type help(Tree)."
   ]
  },
  {
   "cell_type": "code",
   "execution_count": 9,
   "metadata": {},
   "outputs": [],
   "source": [
    "from nltk.tree import Tree"
   ]
  },
  {
   "cell_type": "code",
   "execution_count": 10,
   "metadata": {},
   "outputs": [
    {
     "name": "stdout",
     "output_type": "stream",
     "text": [
      "Help on class Tree in module nltk.tree:\n",
      "\n",
      "class Tree(builtins.list)\n",
      " |  Tree(node, children=None)\n",
      " |  \n",
      " |  A Tree represents a hierarchical grouping of leaves and subtrees.\n",
      " |  For example, each constituent in a syntax tree is represented by a single Tree.\n",
      " |  \n",
      " |  A tree's children are encoded as a list of leaves and subtrees,\n",
      " |  where a leaf is a basic (non-tree) value; and a subtree is a\n",
      " |  nested Tree.\n",
      " |  \n",
      " |      >>> from nltk.tree import Tree\n",
      " |      >>> print(Tree(1, [2, Tree(3, [4]), 5]))\n",
      " |      (1 2 (3 4) 5)\n",
      " |      >>> vp = Tree('VP', [Tree('V', ['saw']),\n",
      " |      ...                  Tree('NP', ['him'])])\n",
      " |      >>> s = Tree('S', [Tree('NP', ['I']), vp])\n",
      " |      >>> print(s)\n",
      " |      (S (NP I) (VP (V saw) (NP him)))\n",
      " |      >>> print(s[1])\n",
      " |      (VP (V saw) (NP him))\n",
      " |      >>> print(s[1,1])\n",
      " |      (NP him)\n",
      " |      >>> t = Tree.fromstring(\"(S (NP I) (VP (V saw) (NP him)))\")\n",
      " |      >>> s == t\n",
      " |      True\n",
      " |      >>> t[1][1].set_label('X')\n",
      " |      >>> t[1][1].label()\n",
      " |      'X'\n",
      " |      >>> print(t)\n",
      " |      (S (NP I) (VP (V saw) (X him)))\n",
      " |      >>> t[0], t[1,1] = t[1,1], t[0]\n",
      " |      >>> print(t)\n",
      " |      (S (X him) (VP (V saw) (NP I)))\n",
      " |  \n",
      " |  The length of a tree is the number of children it has.\n",
      " |  \n",
      " |      >>> len(t)\n",
      " |      2\n",
      " |  \n",
      " |  The set_label() and label() methods allow individual constituents\n",
      " |  to be labeled.  For example, syntax trees use this label to specify\n",
      " |  phrase tags, such as \"NP\" and \"VP\".\n",
      " |  \n",
      " |  Several Tree methods use \"tree positions\" to specify\n",
      " |  children or descendants of a tree.  Tree positions are defined as\n",
      " |  follows:\n",
      " |  \n",
      " |    - The tree position *i* specifies a Tree's *i*\\ th child.\n",
      " |    - The tree position ``()`` specifies the Tree itself.\n",
      " |    - If *p* is the tree position of descendant *d*, then\n",
      " |      *p+i* specifies the *i*\\ th child of *d*.\n",
      " |  \n",
      " |  I.e., every tree position is either a single index *i*,\n",
      " |  specifying ``tree[i]``; or a sequence *i1, i2, ..., iN*,\n",
      " |  specifying ``tree[i1][i2]...[iN]``.\n",
      " |  \n",
      " |  Construct a new tree.  This constructor can be called in one\n",
      " |  of two ways:\n",
      " |  \n",
      " |  - ``Tree(label, children)`` constructs a new tree with the\n",
      " |      specified label and list of children.\n",
      " |  \n",
      " |  - ``Tree.fromstring(s)`` constructs a new tree by parsing the string ``s``.\n",
      " |  \n",
      " |  Method resolution order:\n",
      " |      Tree\n",
      " |      builtins.list\n",
      " |      builtins.object\n",
      " |  \n",
      " |  Methods defined here:\n",
      " |  \n",
      " |  __add__(self, v)\n",
      " |      Return self+value.\n",
      " |  \n",
      " |  __copy__(self)\n",
      " |  \n",
      " |  __deepcopy__(self, memo)\n",
      " |  \n",
      " |  __delitem__(self, index)\n",
      " |      Delete self[key].\n",
      " |  \n",
      " |  __eq__(self, other)\n",
      " |      Return self==value.\n",
      " |  \n",
      " |  __ge__ lambda self, other\n",
      " |  \n",
      " |  __getitem__(self, index)\n",
      " |      x.__getitem__(y) <==> x[y]\n",
      " |  \n",
      " |  __gt__ lambda self, other\n",
      " |  \n",
      " |  __init__(self, node, children=None)\n",
      " |      Initialize self.  See help(type(self)) for accurate signature.\n",
      " |  \n",
      " |  __le__ lambda self, other\n",
      " |  \n",
      " |  __lt__(self, other)\n",
      " |      Return self<value.\n",
      " |  \n",
      " |  __mul__(self, v)\n",
      " |      Return self*value.\n",
      " |  \n",
      " |  __ne__ lambda self, other\n",
      " |      # @total_ordering doesn't work here, since the class inherits from a builtin class\n",
      " |  \n",
      " |  __radd__(self, v)\n",
      " |  \n",
      " |  __repr__(self)\n",
      " |      Return repr(self).\n",
      " |  \n",
      " |  __rmul__(self, v)\n",
      " |      Return value*self.\n",
      " |  \n",
      " |  __setitem__(self, index, value)\n",
      " |      Set self[key] to value.\n",
      " |  \n",
      " |  __str__(self)\n",
      " |      Return str(self).\n",
      " |  \n",
      " |  __unicode__ = __str__(self)\n",
      " |  \n",
      " |  chomsky_normal_form(self, factor='right', horzMarkov=None, vertMarkov=0, childChar='|', parentChar='^')\n",
      " |      This method can modify a tree in three ways:\n",
      " |      \n",
      " |        1. Convert a tree into its Chomsky Normal Form (CNF)\n",
      " |           equivalent -- Every subtree has either two non-terminals\n",
      " |           or one terminal as its children.  This process requires\n",
      " |           the creation of more\"artificial\" non-terminal nodes.\n",
      " |        2. Markov (vertical) smoothing of children in new artificial\n",
      " |           nodes\n",
      " |        3. Horizontal (parent) annotation of nodes\n",
      " |      \n",
      " |      :param factor: Right or left factoring method (default = \"right\")\n",
      " |      :type  factor: str = [left|right]\n",
      " |      :param horzMarkov: Markov order for sibling smoothing in artificial nodes (None (default) = include all siblings)\n",
      " |      :type  horzMarkov: int | None\n",
      " |      :param vertMarkov: Markov order for parent smoothing (0 (default) = no vertical annotation)\n",
      " |      :type  vertMarkov: int | None\n",
      " |      :param childChar: A string used in construction of the artificial nodes, separating the head of the\n",
      " |                        original subtree from the child nodes that have yet to be expanded (default = \"|\")\n",
      " |      :type  childChar: str\n",
      " |      :param parentChar: A string used to separate the node representation from its vertical annotation\n",
      " |      :type  parentChar: str\n",
      " |  \n",
      " |  collapse_unary(self, collapsePOS=False, collapseRoot=False, joinChar='+')\n",
      " |      Collapse subtrees with a single child (ie. unary productions)\n",
      " |      into a new non-terminal (Tree node) joined by 'joinChar'.\n",
      " |      This is useful when working with algorithms that do not allow\n",
      " |      unary productions, and completely removing the unary productions\n",
      " |      would require loss of useful information.  The Tree is modified\n",
      " |      directly (since it is passed by reference) and no value is returned.\n",
      " |      \n",
      " |      :param collapsePOS: 'False' (default) will not collapse the parent of leaf nodes (ie.\n",
      " |                          Part-of-Speech tags) since they are always unary productions\n",
      " |      :type  collapsePOS: bool\n",
      " |      :param collapseRoot: 'False' (default) will not modify the root production\n",
      " |                           if it is unary.  For the Penn WSJ treebank corpus, this corresponds\n",
      " |                           to the TOP -> productions.\n",
      " |      :type collapseRoot: bool\n",
      " |      :param joinChar: A string used to connect collapsed node values (default = \"+\")\n",
      " |      :type  joinChar: str\n",
      " |  \n",
      " |  copy(self, deep=False)\n",
      " |      Return a shallow copy of the list.\n",
      " |  \n",
      " |  draw(self)\n",
      " |      Open a new window containing a graphical diagram of this tree.\n",
      " |  \n",
      " |  flatten(self)\n",
      " |      Return a flat version of the tree, with all non-root non-terminals removed.\n",
      " |      \n",
      " |          >>> t = Tree.fromstring(\"(S (NP (D the) (N dog)) (VP (V chased) (NP (D the) (N cat))))\")\n",
      " |          >>> print(t.flatten())\n",
      " |          (S the dog chased the cat)\n",
      " |      \n",
      " |      :return: a tree consisting of this tree's root connected directly to\n",
      " |          its leaves, omitting all intervening non-terminal nodes.\n",
      " |      :rtype: Tree\n",
      " |  \n",
      " |  freeze(self, leaf_freezer=None)\n",
      " |  \n",
      " |  height(self)\n",
      " |      Return the height of the tree.\n",
      " |      \n",
      " |          >>> t = Tree.fromstring(\"(S (NP (D the) (N dog)) (VP (V chased) (NP (D the) (N cat))))\")\n",
      " |          >>> t.height()\n",
      " |          5\n",
      " |          >>> print(t[0,0])\n",
      " |          (D the)\n",
      " |          >>> t[0,0].height()\n",
      " |          2\n",
      " |      \n",
      " |      :return: The height of this tree.  The height of a tree\n",
      " |          containing no children is 1; the height of a tree\n",
      " |          containing only leaves is 2; and the height of any other\n",
      " |          tree is one plus the maximum of its children's\n",
      " |          heights.\n",
      " |      :rtype: int\n",
      " |  \n",
      " |  label(self)\n",
      " |      Return the node label of the tree.\n",
      " |      \n",
      " |          >>> t = Tree.fromstring('(S (NP (D the) (N dog)) (VP (V chased) (NP (D the) (N cat))))')\n",
      " |          >>> t.label()\n",
      " |          'S'\n",
      " |      \n",
      " |      :return: the node label (typically a string)\n",
      " |      :rtype: any\n",
      " |  \n",
      " |  leaf_treeposition(self, index)\n",
      " |      :return: The tree position of the ``index``-th leaf in this\n",
      " |          tree.  I.e., if ``tp=self.leaf_treeposition(i)``, then\n",
      " |          ``self[tp]==self.leaves()[i]``.\n",
      " |      \n",
      " |      :raise IndexError: If this tree contains fewer than ``index+1``\n",
      " |          leaves, or if ``index<0``.\n",
      " |  \n",
      " |  leaves(self)\n",
      " |      Return the leaves of the tree.\n",
      " |      \n",
      " |          >>> t = Tree.fromstring(\"(S (NP (D the) (N dog)) (VP (V chased) (NP (D the) (N cat))))\")\n",
      " |          >>> t.leaves()\n",
      " |          ['the', 'dog', 'chased', 'the', 'cat']\n",
      " |      \n",
      " |      :return: a list containing this tree's leaves.\n",
      " |          The order reflects the order of the\n",
      " |          leaves in the tree's hierarchical structure.\n",
      " |      :rtype: list\n",
      " |  \n",
      " |  pformat(self, margin=70, indent=0, nodesep='', parens='()', quotes=False)\n",
      " |      :return: A pretty-printed string representation of this tree.\n",
      " |      :rtype: str\n",
      " |      :param margin: The right margin at which to do line-wrapping.\n",
      " |      :type margin: int\n",
      " |      :param indent: The indentation level at which printing\n",
      " |          begins.  This number is used to decide how far to indent\n",
      " |          subsequent lines.\n",
      " |      :type indent: int\n",
      " |      :param nodesep: A string that is used to separate the node\n",
      " |          from the children.  E.g., the default value ``':'`` gives\n",
      " |          trees like ``(S: (NP: I) (VP: (V: saw) (NP: it)))``.\n",
      " |  \n",
      " |  pformat_latex_qtree(self)\n",
      " |      Returns a representation of the tree compatible with the\n",
      " |      LaTeX qtree package. This consists of the string ``\\Tree``\n",
      " |      followed by the tree represented in bracketed notation.\n",
      " |      \n",
      " |      For example, the following result was generated from a parse tree of\n",
      " |      the sentence ``The announcement astounded us``::\n",
      " |      \n",
      " |        \\Tree [.I'' [.N'' [.D The ] [.N' [.N announcement ] ] ]\n",
      " |            [.I' [.V'' [.V' [.V astounded ] [.N'' [.N' [.N us ] ] ] ] ] ] ]\n",
      " |      \n",
      " |      See http://www.ling.upenn.edu/advice/latex.html for the LaTeX\n",
      " |      style file for the qtree package.\n",
      " |      \n",
      " |      :return: A latex qtree representation of this tree.\n",
      " |      :rtype: str\n",
      " |  \n",
      " |  pos(self)\n",
      " |      Return a sequence of pos-tagged words extracted from the tree.\n",
      " |      \n",
      " |          >>> t = Tree.fromstring(\"(S (NP (D the) (N dog)) (VP (V chased) (NP (D the) (N cat))))\")\n",
      " |          >>> t.pos()\n",
      " |          [('the', 'D'), ('dog', 'N'), ('chased', 'V'), ('the', 'D'), ('cat', 'N')]\n",
      " |      \n",
      " |      :return: a list of tuples containing leaves and pre-terminals (part-of-speech tags).\n",
      " |          The order reflects the order of the leaves in the tree's hierarchical structure.\n",
      " |      :rtype: list(tuple)\n",
      " |  \n",
      " |  pprint(self, **kwargs)\n",
      " |      Print a string representation of this Tree to 'stream'\n",
      " |  \n",
      " |  pretty_print(self, sentence=None, highlight=(), stream=None, **kwargs)\n",
      " |      Pretty-print this tree as ASCII or Unicode art.\n",
      " |      For explanation of the arguments, see the documentation for\n",
      " |      `nltk.treeprettyprinter.TreePrettyPrinter`.\n",
      " |  \n",
      " |  productions(self)\n",
      " |      Generate the productions that correspond to the non-terminal nodes of the tree.\n",
      " |      For each subtree of the form (P: C1 C2 ... Cn) this produces a production of the\n",
      " |      form P -> C1 C2 ... Cn.\n",
      " |      \n",
      " |          >>> t = Tree.fromstring(\"(S (NP (D the) (N dog)) (VP (V chased) (NP (D the) (N cat))))\")\n",
      " |          >>> t.productions()\n",
      " |          [S -> NP VP, NP -> D N, D -> 'the', N -> 'dog', VP -> V NP, V -> 'chased',\n",
      " |          NP -> D N, D -> 'the', N -> 'cat']\n",
      " |      \n",
      " |      :rtype: list(Production)\n",
      " |  \n",
      " |  set_label(self, label)\n",
      " |      Set the node label of the tree.\n",
      " |      \n",
      " |          >>> t = Tree.fromstring(\"(S (NP (D the) (N dog)) (VP (V chased) (NP (D the) (N cat))))\")\n",
      " |          >>> t.set_label(\"T\")\n",
      " |          >>> print(t)\n",
      " |          (T (NP (D the) (N dog)) (VP (V chased) (NP (D the) (N cat))))\n",
      " |      \n",
      " |      :param label: the node label (typically a string)\n",
      " |      :type label: any\n",
      " |  \n",
      " |  subtrees(self, filter=None)\n",
      " |      Generate all the subtrees of this tree, optionally restricted\n",
      " |      to trees matching the filter function.\n",
      " |      \n",
      " |          >>> t = Tree.fromstring(\"(S (NP (D the) (N dog)) (VP (V chased) (NP (D the) (N cat))))\")\n",
      " |          >>> for s in t.subtrees(lambda t: t.height() == 2):\n",
      " |          ...     print(s)\n",
      " |          (D the)\n",
      " |          (N dog)\n",
      " |          (V chased)\n",
      " |          (D the)\n",
      " |          (N cat)\n",
      " |      \n",
      " |      :type filter: function\n",
      " |      :param filter: the function to filter all local trees\n",
      " |  \n",
      " |  treeposition_spanning_leaves(self, start, end)\n",
      " |      :return: The tree position of the lowest descendant of this\n",
      " |          tree that dominates ``self.leaves()[start:end]``.\n",
      " |      :raise ValueError: if ``end <= start``\n",
      " |  \n",
      " |  treepositions(self, order='preorder')\n",
      " |          >>> t = Tree.fromstring(\"(S (NP (D the) (N dog)) (VP (V chased) (NP (D the) (N cat))))\")\n",
      " |          >>> t.treepositions() # doctest: +ELLIPSIS\n",
      " |          [(), (0,), (0, 0), (0, 0, 0), (0, 1), (0, 1, 0), (1,), (1, 0), (1, 0, 0), ...]\n",
      " |          >>> for pos in t.treepositions('leaves'):\n",
      " |          ...     t[pos] = t[pos][::-1].upper()\n",
      " |          >>> print(t)\n",
      " |          (S (NP (D EHT) (N GOD)) (VP (V DESAHC) (NP (D EHT) (N TAC))))\n",
      " |      \n",
      " |      :param order: One of: ``preorder``, ``postorder``, ``bothorder``,\n",
      " |          ``leaves``.\n",
      " |  \n",
      " |  un_chomsky_normal_form(self, expandUnary=True, childChar='|', parentChar='^', unaryChar='+')\n",
      " |      This method modifies the tree in three ways:\n",
      " |      \n",
      " |        1. Transforms a tree in Chomsky Normal Form back to its\n",
      " |           original structure (branching greater than two)\n",
      " |        2. Removes any parent annotation (if it exists)\n",
      " |        3. (optional) expands unary subtrees (if previously\n",
      " |           collapsed with collapseUnary(...) )\n",
      " |      \n",
      " |      :param expandUnary: Flag to expand unary or not (default = True)\n",
      " |      :type  expandUnary: bool\n",
      " |      :param childChar: A string separating the head node from its children in an artificial node (default = \"|\")\n",
      " |      :type  childChar: str\n",
      " |      :param parentChar: A sting separating the node label from its parent annotation (default = \"^\")\n",
      " |      :type  parentChar: str\n",
      " |      :param unaryChar: A string joining two non-terminals in a unary production (default = \"+\")\n",
      " |      :type  unaryChar: str\n",
      " |  \n",
      " |  unicode_repr = __repr__(self)\n",
      " |  \n",
      " |  ----------------------------------------------------------------------\n",
      " |  Class methods defined here:\n",
      " |  \n",
      " |  convert(tree) from builtins.type\n",
      " |      Convert a tree between different subtypes of Tree.  ``cls`` determines\n",
      " |      which class will be used to encode the new tree.\n",
      " |      \n",
      " |      :type tree: Tree\n",
      " |      :param tree: The tree that should be converted.\n",
      " |      :return: The new Tree.\n",
      " |  \n",
      " |  fromstring(s, brackets='()', read_node=None, read_leaf=None, node_pattern=None, leaf_pattern=None, remove_empty_top_bracketing=False) from builtins.type\n",
      " |      Read a bracketed tree string and return the resulting tree.\n",
      " |      Trees are represented as nested brackettings, such as::\n",
      " |      \n",
      " |        (S (NP (NNP John)) (VP (V runs)))\n",
      " |      \n",
      " |      :type s: str\n",
      " |      :param s: The string to read\n",
      " |      \n",
      " |      :type brackets: str (length=2)\n",
      " |      :param brackets: The bracket characters used to mark the\n",
      " |          beginning and end of trees and subtrees.\n",
      " |      \n",
      " |      :type read_node: function\n",
      " |      :type read_leaf: function\n",
      " |      :param read_node, read_leaf: If specified, these functions\n",
      " |          are applied to the substrings of ``s`` corresponding to\n",
      " |          nodes and leaves (respectively) to obtain the values for\n",
      " |          those nodes and leaves.  They should have the following\n",
      " |          signature:\n",
      " |      \n",
      " |             read_node(str) -> value\n",
      " |      \n",
      " |          For example, these functions could be used to process nodes\n",
      " |          and leaves whose values should be some type other than\n",
      " |          string (such as ``FeatStruct``).\n",
      " |          Note that by default, node strings and leaf strings are\n",
      " |          delimited by whitespace and brackets; to override this\n",
      " |          default, use the ``node_pattern`` and ``leaf_pattern``\n",
      " |          arguments.\n",
      " |      \n",
      " |      :type node_pattern: str\n",
      " |      :type leaf_pattern: str\n",
      " |      :param node_pattern, leaf_pattern: Regular expression patterns\n",
      " |          used to find node and leaf substrings in ``s``.  By\n",
      " |          default, both nodes patterns are defined to match any\n",
      " |          sequence of non-whitespace non-bracket characters.\n",
      " |      \n",
      " |      :type remove_empty_top_bracketing: bool\n",
      " |      :param remove_empty_top_bracketing: If the resulting tree has\n",
      " |          an empty node label, and is length one, then return its\n",
      " |          single child instead.  This is useful for treebank trees,\n",
      " |          which sometimes contain an extra level of bracketing.\n",
      " |      \n",
      " |      :return: A tree corresponding to the string representation ``s``.\n",
      " |          If this class method is called using a subclass of Tree,\n",
      " |          then it will return a tree of that type.\n",
      " |      :rtype: Tree\n",
      " |  \n",
      " |  ----------------------------------------------------------------------\n",
      " |  Data descriptors defined here:\n",
      " |  \n",
      " |  __dict__\n",
      " |      dictionary for instance variables (if defined)\n",
      " |  \n",
      " |  __weakref__\n",
      " |      list of weak references to the object (if defined)\n",
      " |  \n",
      " |  node\n",
      " |      Outdated method to access the node value; use the label() method instead.\n",
      " |  \n",
      " |  ----------------------------------------------------------------------\n",
      " |  Data and other attributes defined here:\n",
      " |  \n",
      " |  __hash__ = None\n",
      " |  \n",
      " |  ----------------------------------------------------------------------\n",
      " |  Methods inherited from builtins.list:\n",
      " |  \n",
      " |  __contains__(self, key, /)\n",
      " |      Return key in self.\n",
      " |  \n",
      " |  __getattribute__(self, name, /)\n",
      " |      Return getattr(self, name).\n",
      " |  \n",
      " |  __iadd__(self, value, /)\n",
      " |      Implement self+=value.\n",
      " |  \n",
      " |  __imul__(self, value, /)\n",
      " |      Implement self*=value.\n",
      " |  \n",
      " |  __iter__(self, /)\n",
      " |      Implement iter(self).\n",
      " |  \n",
      " |  __len__(self, /)\n",
      " |      Return len(self).\n",
      " |  \n",
      " |  __reversed__(self, /)\n",
      " |      Return a reverse iterator over the list.\n",
      " |  \n",
      " |  __sizeof__(self, /)\n",
      " |      Return the size of the list in memory, in bytes.\n",
      " |  \n",
      " |  append(self, object, /)\n",
      " |      Append object to the end of the list.\n",
      " |  \n",
      " |  clear(self, /)\n",
      " |      Remove all items from list.\n",
      " |  \n",
      " |  count(self, value, /)\n",
      " |      Return number of occurrences of value.\n",
      " |  \n",
      " |  extend(self, iterable, /)\n",
      " |      Extend list by appending elements from the iterable.\n",
      " |  \n",
      " |  index(self, value, start=0, stop=9223372036854775807, /)\n",
      " |      Return first index of value.\n",
      " |      \n",
      " |      Raises ValueError if the value is not present.\n",
      " |  \n",
      " |  insert(self, index, object, /)\n",
      " |      Insert object before index.\n",
      " |  \n",
      " |  pop(self, index=-1, /)\n",
      " |      Remove and return item at index (default last).\n",
      " |      \n",
      " |      Raises IndexError if list is empty or index is out of range.\n",
      " |  \n",
      " |  remove(self, value, /)\n",
      " |      Remove first occurrence of value.\n",
      " |      \n",
      " |      Raises ValueError if the value is not present.\n",
      " |  \n",
      " |  reverse(self, /)\n",
      " |      Reverse *IN PLACE*.\n",
      " |  \n",
      " |  sort(self, /, *, key=None, reverse=False)\n",
      " |      Stable sort *IN PLACE*.\n",
      " |  \n",
      " |  ----------------------------------------------------------------------\n",
      " |  Static methods inherited from builtins.list:\n",
      " |  \n",
      " |  __new__(*args, **kwargs) from builtins.type\n",
      " |      Create and return a new object.  See help(type) for accurate signature.\n",
      "\n"
     ]
    }
   ],
   "source": [
    "help(Tree)"
   ]
  },
  {
   "cell_type": "markdown",
   "metadata": {},
   "source": [
    "# Exercise 5"
   ]
  },
  {
   "cell_type": "markdown",
   "metadata": {},
   "source": [
    "In this exercise you will manually construct some parse trees.\n",
    "\n",
    "1. Write code to produce two trees, one for each reading of the phrase *old men and women.*"
   ]
  },
  {
   "cell_type": "code",
   "execution_count": 72,
   "metadata": {},
   "outputs": [],
   "source": [
    "grammar = nltk.CFG.fromstring(\"\"\"\n",
    "    S   -> NP VP | NP\n",
    "    VP  -> V NP | VP NP\n",
    "    NP  -> N | Adj NP | Det NP | NP C NP\n",
    "    \n",
    "    V   -> 'saw'\n",
    "    C   -> 'and'\n",
    "    Det -> 'The' | 'a'\n",
    "    Adj -> 'old' | 'last'\n",
    "    N   -> 'men' | 'women' | 'woman' | 'man' | 'Thursday'\n",
    "\"\"\")"
   ]
  },
  {
   "cell_type": "code",
   "execution_count": 73,
   "metadata": {},
   "outputs": [],
   "source": [
    "parser = nltk.ChartParser(grammar)"
   ]
  },
  {
   "cell_type": "code",
   "execution_count": 74,
   "metadata": {},
   "outputs": [],
   "source": [
    "sent = 'old men and women'.split()"
   ]
  },
  {
   "cell_type": "code",
   "execution_count": 75,
   "metadata": {},
   "outputs": [],
   "source": [
    "for tree in parser.parse(sent):\n",
    "    tree.draw()"
   ]
  },
  {
   "cell_type": "markdown",
   "metadata": {},
   "source": [
    "2. Encode any of the trees presented in this chapter as a labeled bracketing and use nltk.Tree() to check that it is well-formed. Now use draw() to display the tree."
   ]
  },
  {
   "cell_type": "code",
   "execution_count": 76,
   "metadata": {},
   "outputs": [],
   "source": [
    "tree = Tree.fromstring('(S (NP Mary) (VP (V saw) (NP (Det a) (N dog))))')\n",
    "tree.draw()"
   ]
  },
  {
   "cell_type": "markdown",
   "metadata": {},
   "source": [
    "3. As in (a) above, draw a tree for *The woman saw a man last Thursday.*"
   ]
  },
  {
   "cell_type": "code",
   "execution_count": 77,
   "metadata": {},
   "outputs": [],
   "source": [
    "sent = 'The woman saw a man last Thursday'.split()"
   ]
  },
  {
   "cell_type": "code",
   "execution_count": 78,
   "metadata": {},
   "outputs": [],
   "source": [
    "for tree in parser.parse(sent):\n",
    "    tree.draw()"
   ]
  },
  {
   "cell_type": "markdown",
   "metadata": {},
   "source": [
    "# Exercise 6"
   ]
  },
  {
   "cell_type": "markdown",
   "metadata": {},
   "source": [
    "Write a recursive function to traverse a tree and return the depth of the tree, such that a tree with a single node would have depth zero. (Hint: the depth of a subtree is the maximum depth of its children, plus one.)"
   ]
  },
  {
   "cell_type": "code",
   "execution_count": 41,
   "metadata": {},
   "outputs": [],
   "source": [
    "t0 = nltk.Tree('A', [])\n",
    "t1 = nltk.Tree('A', ['B', 'C'])\n",
    "t2 = nltk.Tree('A', ['B', 'C', nltk.Tree('D', ['d1', 'd2'])])"
   ]
  },
  {
   "cell_type": "code",
   "execution_count": 42,
   "metadata": {},
   "outputs": [],
   "source": [
    "def get_tree_height(tree):\n",
    "    return tree.height() - 1"
   ]
  },
  {
   "cell_type": "code",
   "execution_count": 43,
   "metadata": {},
   "outputs": [
    {
     "name": "stdout",
     "output_type": "stream",
     "text": [
      "0\n",
      "1\n",
      "2\n"
     ]
    }
   ],
   "source": [
    "for t in [t0, t1, t2]:\n",
    "    print(get_tree_height(t))\n",
    "    t.draw()"
   ]
  },
  {
   "cell_type": "markdown",
   "metadata": {},
   "source": [
    "# Exercise 7"
   ]
  },
  {
   "cell_type": "markdown",
   "metadata": {},
   "source": [
    "Analyze the A.A. Milne sentence about Piglet, by underlining all of the sentences it contains then replacing these with S (e.g. the first sentence becomes *S when S*). Draw a tree structure for this \"compressed\" sentence. What are the main syntactic constructions used for building such a long sentence?"
   ]
  },
  {
   "cell_type": "markdown",
   "metadata": {},
   "source": [
    "[You can imagine Piglet's joy] when [at last the ship came in sight of him]. [In after-years he liked to think] that [he had been in Very Great Danger during the Terrible Flood], but [the only danger he had really been in] [was the last half-hour of his imprisonment], when [Owl, [who had just flown up], sat on a branch of his tree to comfort him, and told him a very long story about an aunt] [who had once laid a seagull's egg by mistake], and [the story went on and on, rather like this sentence], until [Piglet who was listening out of his window without much hope, went to sleep quietly and naturally, slipping slowly out of the window towards the water] until [he was only hanging on by his toes], at which moment, luckily, [a sudden loud squawk from Owl], [which was really part of the story], [being what his aunt said, woke the Piglet up and just gave him time to jerk himself back into safety and say, \"[How interesting, and did she?]\" when — [well, you can imagine his joy ] when [at last he saw the good ship], [Brain of Pooh (Captain, C. Robin; 1st Mate, P. Bear) coming over the sea to rescue him...]"
   ]
  },
  {
   "cell_type": "markdown",
   "metadata": {},
   "source": [
    "**S** when **S**. **S** that **S** but **S** when **S** **S** and **S** until **S** until **S** at which moment **S** **S** **S** **S** when **S** when **S** **S**."
   ]
  },
  {
   "cell_type": "code",
   "execution_count": 58,
   "metadata": {},
   "outputs": [],
   "source": [
    "grammar = nltk.CFG.fromstring(\"\"\"\n",
    "    S   -> 'S' | S S | S C S\n",
    "    C   -> 'that' | 'but' | 'when' | 'and' | 'until'\n",
    "\"\"\")"
   ]
  },
  {
   "cell_type": "code",
   "execution_count": 59,
   "metadata": {},
   "outputs": [],
   "source": [
    "sent = 'S that S but S when S S and S until S until S S S S S when S when S S'.split()"
   ]
  },
  {
   "cell_type": "code",
   "execution_count": 60,
   "metadata": {},
   "outputs": [],
   "source": [
    "parser = nltk.ChartParser(grammar)"
   ]
  },
  {
   "cell_type": "code",
   "execution_count": 61,
   "metadata": {},
   "outputs": [],
   "source": [
    "for tree in parser.parse(sent):\n",
    "    tree.draw()\n",
    "    break"
   ]
  },
  {
   "cell_type": "markdown",
   "metadata": {},
   "source": [
    "# Exercise 8"
   ]
  },
  {
   "cell_type": "markdown",
   "metadata": {},
   "source": [
    "In the recursive descent parser demo, experiment with changing the sentence to be parsed by selecting Edit Text in the Edit menu."
   ]
  },
  {
   "cell_type": "code",
   "execution_count": 68,
   "metadata": {},
   "outputs": [],
   "source": [
    "nltk.app.rdparser()  # the man in the park saw a dog "
   ]
  },
  {
   "cell_type": "markdown",
   "metadata": {},
   "source": [
    "# Exercise 9"
   ]
  },
  {
   "cell_type": "markdown",
   "metadata": {},
   "source": [
    "Can the grammar in grammar1 be used to describe sentences that are more than 20 words in length?"
   ]
  },
  {
   "cell_type": "code",
   "execution_count": 97,
   "metadata": {},
   "outputs": [],
   "source": [
    "grammar = nltk.CFG.fromstring(\"\"\"\n",
    "    S -> NP VP\n",
    "    VP -> V NP | V NP PP\n",
    "    PP -> P NP\n",
    "    V -> \"saw\" | \"ate\" | \"walked\"\n",
    "    NP -> \"John\" | \"Mary\" | \"Bob\" | Det N | Det N PP\n",
    "    Det -> \"a\" | \"an\" | \"the\" | \"my\"\n",
    "    N -> \"man\" | \"dog\" | \"cat\" | \"telescope\" | \"park\"\n",
    "    P -> \"in\" | \"on\" | \"by\" | \"with\"\n",
    "\"\"\")"
   ]
  },
  {
   "cell_type": "code",
   "execution_count": 98,
   "metadata": {},
   "outputs": [
    {
     "data": {
      "text/plain": [
       "26"
      ]
     },
     "execution_count": 98,
     "metadata": {},
     "output_type": "execute_result"
    }
   ],
   "source": [
    "sent = 'a cat on a dog with a man in a park saw a cat on a dog with a man in a park on a telescope'.split()\n",
    "len(sent)"
   ]
  },
  {
   "cell_type": "code",
   "execution_count": 99,
   "metadata": {},
   "outputs": [],
   "source": [
    "parser = nltk.RecursiveDescentParser(grammar)"
   ]
  },
  {
   "cell_type": "code",
   "execution_count": 101,
   "metadata": {},
   "outputs": [],
   "source": [
    "for tree in parser.parse(sent):\n",
    "    tree.draw()\n",
    "    break"
   ]
  },
  {
   "cell_type": "markdown",
   "metadata": {},
   "source": [
    "# Exercise 10"
   ]
  },
  {
   "cell_type": "markdown",
   "metadata": {},
   "source": [
    "Use the graphical chart-parser interface to experiment with different rule invocation strategies. Come up with your own strategy that you can execute manually using the graphical interface. Describe the steps, and report any efficiency improvements it has (e.g. in terms of the size of the resulting chart). Do these improvements depend on the structure of the grammar? What do you think of the prospects for significant performance boosts from cleverer rule invocation strategies?"
   ]
  },
  {
   "cell_type": "code",
   "execution_count": null,
   "metadata": {},
   "outputs": [],
   "source": [
    "nltk.app.chartparser()"
   ]
  },
  {
   "cell_type": "markdown",
   "metadata": {},
   "source": [
    "# Exercise 11"
   ]
  },
  {
   "cell_type": "markdown",
   "metadata": {},
   "source": [
    "With pen and paper, manually trace the execution of a recursive descent parser and a shift-reduce parser, for a CFG you have already seen, or one of your own devising."
   ]
  },
  {
   "cell_type": "code",
   "execution_count": 103,
   "metadata": {},
   "outputs": [],
   "source": [
    "nltk.app.rdparser()"
   ]
  },
  {
   "cell_type": "code",
   "execution_count": null,
   "metadata": {},
   "outputs": [],
   "source": [
    "nltk.app.srparser()"
   ]
  },
  {
   "cell_type": "markdown",
   "metadata": {},
   "source": [
    "# Exercise 12"
   ]
  },
  {
   "cell_type": "markdown",
   "metadata": {},
   "source": [
    "We have seen that a chart parser adds but never removes edges from a chart. Why?"
   ]
  },
  {
   "cell_type": "markdown",
   "metadata": {},
   "source": [
    "I think that these edges may be useful in the future."
   ]
  },
  {
   "cell_type": "markdown",
   "metadata": {},
   "source": [
    "# Exercise 13"
   ]
  },
  {
   "cell_type": "markdown",
   "metadata": {},
   "source": [
    "Consider the sequence of words: *Buffalo buffalo Buffalo buffalo buffalo buffalo Buffalo buffalo*. This is a grammatically correct sentence, as explained at http://en.wikipedia.org/wiki/Buffalo_buffalo_Buffalo_buffalo_buffalo_buffalo_Buffalo_buffalo. Consider the tree diagram presented on this Wikipedia page, and write down a suitable grammar. Normalize case to lowercase, to simulate the problem that a listener has when hearing this sentence. Can you find other parses for this sentence? How does the number of parse trees grow as the sentence gets longer? (More examples of these sentences can be found at http://en.wikipedia.org/wiki/List_of_homophonous_phrases)."
   ]
  },
  {
   "attachments": {
    "image.png": {
     "image/png": "[encoded data removed]"
    }
   },
   "cell_type": "markdown",
   "metadata": {},
   "source": [
    "![image.png](attachment:image.png)"
   ]
  },
  {
   "cell_type": "code",
   "execution_count": 154,
   "metadata": {},
   "outputs": [],
   "source": [
    "raw_sent = \"Buffalo buffalo Buffalo buffalo buffalo buffalo Buffalo buffalo\""
   ]
  },
  {
   "cell_type": "code",
   "execution_count": 155,
   "metadata": {},
   "outputs": [],
   "source": [
    "grammar = nltk.CFG.fromstring(\"\"\"\n",
    "    S   -> NP VP\n",
    "    \n",
    "    VP  -> V NP\n",
    "    RC  -> NP V\n",
    "    NP  -> PN N | NP RC\n",
    "\n",
    "    PN  -> 'Buffalo'\n",
    "    N   -> 'buffalo'\n",
    "    V   -> 'buffalo'\n",
    "\"\"\")\n",
    "parser = nltk.ChartParser(grammar)"
   ]
  },
  {
   "cell_type": "code",
   "execution_count": 156,
   "metadata": {},
   "outputs": [],
   "source": [
    "for tree in parser.parse(raw_sent.split()):\n",
    "    tree.draw()"
   ]
  },
  {
   "cell_type": "code",
   "execution_count": 157,
   "metadata": {},
   "outputs": [],
   "source": [
    "grammar = nltk.CFG.fromstring(\"\"\"\n",
    "    S   -> NP VP\n",
    "    \n",
    "    VP  -> V NP\n",
    "    RC  -> NP V\n",
    "    NP  -> PN N | NP RC\n",
    "\n",
    "    PN  -> 'buffalo'\n",
    "    N   -> 'buffalo'\n",
    "    V   -> 'buffalo'\n",
    "\"\"\")\n",
    "parser = nltk.ChartParser(grammar)"
   ]
  },
  {
   "cell_type": "code",
   "execution_count": 158,
   "metadata": {},
   "outputs": [],
   "source": [
    "for tree in parser.parse(raw_sent.lower().split()):\n",
    "    tree.draw()"
   ]
  },
  {
   "cell_type": "code",
   "execution_count": 185,
   "metadata": {},
   "outputs": [],
   "source": [
    "n = 45\n",
    "num_parses = [len(list(parser.parse(['buffalo'] * i))) for i in range(n)]"
   ]
  },
  {
   "cell_type": "code",
   "execution_count": 186,
   "metadata": {},
   "outputs": [
    {
     "data": {
      "image/png": "[encoded data removed]",
      "text/plain": [
       "<Figure size 432x288 with 1 Axes>"
      ]
     },
     "metadata": {
      "needs_background": "light"
     },
     "output_type": "display_data"
    }
   ],
   "source": [
    "plt.plot(num_parses)\n",
    "plt.show()"
   ]
  },
  {
   "cell_type": "code",
   "execution_count": 188,
   "metadata": {},
   "outputs": [
    {
     "data": {
      "text/plain": [
       "[1, 2, 5, 14, 42, 132, 429, 1430, 4862, 16796, 58786, 208012, 742900, 2674440]"
      ]
     },
     "execution_count": 188,
     "metadata": {},
     "output_type": "execute_result"
    }
   ],
   "source": [
    "nz_num_parses = [n for n in num_parses if n]\n",
    "nz_num_parses  # the Catalan numbers"
   ]
  },
  {
   "cell_type": "markdown",
   "metadata": {},
   "source": [
    "# Exercise 14"
   ]
  },
  {
   "cell_type": "markdown",
   "metadata": {},
   "source": [
    "You can modify the grammar in the recursive descent parser demo by selecting Edit Grammar in the Edit menu. Change the second expansion production, namely NP -> Det N PP, to NP -> NP\n",
    "PP. Using the Step button, try to build a parse tree. What happens?"
   ]
  },
  {
   "cell_type": "code",
   "execution_count": null,
   "metadata": {},
   "outputs": [],
   "source": [
    "nltk.app.rdparser()"
   ]
  },
  {
   "cell_type": "markdown",
   "metadata": {},
   "source": [
    "As soon as the parser uses NP -> NP PP production it gets stuck. It is expected behavior because Recursive Descent parser doesn't work with left-recursive production rules."
   ]
  },
  {
   "cell_type": "markdown",
   "metadata": {},
   "source": [
    "# Exercise 15"
   ]
  },
  {
   "cell_type": "markdown",
   "metadata": {},
   "source": [
    "Extend the grammar in grammar2 with productions that expand prepositions as intransitive, transitive and requiring a PP complement. Based on these productions, use the method of the preceding exercise to draw a tree for the sentence *Lee ran away home*."
   ]
  },
  {
   "cell_type": "code",
   "execution_count": 20,
   "metadata": {},
   "outputs": [],
   "source": [
    "grammar2 = nltk.CFG.fromstring(\"\"\"\n",
    "    S  -> NP VP\n",
    "    NP -> Det Nom | PropN | Nom\n",
    "    Nom -> Adj Nom | N\n",
    "    VP -> V Adj | V NP | V S | V NP PP | V PTrans NP | V PIntrans | V PIntrans\n",
    "    PP -> PPP NP\n",
    "    PropN -> 'Buster' | 'Chatterer' | 'Joe' | 'Lee'\n",
    "    Det -> 'the' | 'a'\n",
    "    N -> 'bear' | 'squirrel' | 'tree' | 'fish' | 'log' | 'home'\n",
    "    Adj  -> 'angry' | 'frightened' |  'little' | 'tall'\n",
    "    V ->  'chased'  | 'saw' | 'said' | 'thought' | 'was' | 'put' | 'ran'\n",
    "    PTrans    -> 'away' | 'in' | 'out'\n",
    "    PIntrans  -> 'away' | 'around' | 'in'\n",
    "    PPP       -> 'on' | 'to' | 'from' | 'in' | 'into' | 'for'\n",
    "\"\"\")"
   ]
  },
  {
   "cell_type": "code",
   "execution_count": 21,
   "metadata": {},
   "outputs": [],
   "source": [
    "sent = 'Lee ran away home'.split()"
   ]
  },
  {
   "cell_type": "code",
   "execution_count": 22,
   "metadata": {},
   "outputs": [],
   "source": [
    "parser = nltk.RecursiveDescentParser(grammar2)"
   ]
  },
  {
   "cell_type": "code",
   "execution_count": 23,
   "metadata": {},
   "outputs": [],
   "source": [
    "for tree in parser.parse(sent):\n",
    "    tree.draw()"
   ]
  },
  {
   "cell_type": "markdown",
   "metadata": {},
   "source": [
    "# Exercise 16"
   ]
  },
  {
   "cell_type": "markdown",
   "metadata": {},
   "source": [
    "Pick some common verbs and complete the following tasks:\n",
    "\n",
    "1. Write a program to find those verbs in the Prepositional Phrase Attachment Corpus nltk.corpus.ppattach. Find any cases where the same verb exhibits two different attachments, but where the first noun, or second noun, or preposition, stay unchanged (as we saw in our discussion of syntactic ambiguity in 2)."
   ]
  },
  {
   "cell_type": "code",
   "execution_count": 3,
   "metadata": {},
   "outputs": [],
   "source": [
    "from collections import defaultdict\n",
    "from nltk.corpus import ppattach"
   ]
  },
  {
   "cell_type": "code",
   "execution_count": 4,
   "metadata": {},
   "outputs": [],
   "source": [
    "entries = nltk.corpus.ppattach.attachments('training')"
   ]
  },
  {
   "cell_type": "code",
   "execution_count": 5,
   "metadata": {},
   "outputs": [],
   "source": [
    "table = defaultdict(set)\n",
    "for entry in entries:\n",
    "    verb = entry.verb.lower()\n",
    "    for name, field in zip(['NOUN1', 'NOUN2', 'PREP'],\n",
    "                           [entry.noun1, entry.noun2, entry.prep]):\n",
    "        key_verb_field = \"VERB: {}, {}: {}\".format(verb, name, field.lower())\n",
    "        table[key_verb_field].add(entry.attachment)"
   ]
  },
  {
   "cell_type": "code",
   "execution_count": 6,
   "metadata": {},
   "outputs": [],
   "source": [
    "ambiguity_table = {key: value for key, value in table.items() if len(value) > 1}"
   ]
  },
  {
   "cell_type": "code",
   "execution_count": 7,
   "metadata": {},
   "outputs": [
    {
     "name": "stdout",
     "output_type": "stream",
     "text": [
      "VERB: 's, NOUN1: news {'V', 'N'}\n",
      "VERB: 's, NOUN1: nothing {'V', 'N'}\n",
      "VERB: 's, NOUN1: one {'V', 'N'}\n",
      "VERB: 's, NOUN1: place {'V', 'N'}\n",
      "VERB: 's, NOUN1: sense {'V', 'N'}\n",
      "VERB: 's, NOUN1: sort {'V', 'N'}\n",
      "VERB: 's, NOUN2: market {'V', 'N'}\n",
      "VERB: 's, PREP: against {'V', 'N'}\n",
      "VERB: 's, PREP: by {'V', 'N'}\n",
      "VERB: 's, PREP: for {'V', 'N'}\n",
      "VERB: 's, PREP: from {'V', 'N'}\n",
      "VERB: 's, PREP: in {'V', 'N'}\n",
      "VERB: 's, PREP: on {'V', 'N'}\n",
      "VERB: 's, PREP: to {'V', 'N'}\n",
      "VERB: 's, PREP: with {'V', 'N'}\n",
      "VERB: a-includes, NOUN1: gain {'V', 'N'}\n",
      "VERB: absorb, NOUN1: increases {'V', 'N'}\n",
      "VERB: absorb, PREP: in {'V', 'N'}\n",
      "VERB: accept, NOUN1: risk {'V', 'N'}\n",
      "VERB: accept, NOUN2: order {'V', 'N'}\n",
      "VERB: accept, PREP: in {'V', 'N'}\n",
      "VERB: accepted, NOUN1: bid {'V', 'N'}\n",
      "VERB: accepted, NOUN1: billion {'V', 'N'}\n",
      "VERB: accumulating, NOUN1: stake {'V', 'N'}\n",
      "VERB: accumulating, PREP: in {'V', 'N'}\n",
      "VERB: accuse, PREP: of {'V', 'N'}\n",
      "VERB: accused, PREP: of {'V', 'N'}\n",
      "VERB: achieved, PREP: in {'V', 'N'}\n",
      "VERB: acquire, NOUN1: % {'V', 'N'}\n",
      "VERB: acquire, NOUN1: 588,300 {'V', 'N'}\n",
      "VERB: acquire, NOUN1: business {'V', 'N'}\n",
      "VERB: acquire, NOUN1: inc. {'V', 'N'}\n",
      "VERB: acquire, NOUN1: interests {'V', 'N'}\n",
      "VERB: acquire, NOUN1: kofy {'V', 'N'}\n",
      "VERB: acquire, NOUN1: maker {'V', 'N'}\n",
      "VERB: acquire, NOUN1: million {'V', 'N'}\n",
      "VERB: acquire, NOUN1: operations {'V', 'N'}\n",
      "VERB: acquire, NOUN1: securities {'V', 'N'}\n",
      "VERB: acquire, NOUN1: share {'V', 'N'}\n",
      "VERB: acquire, NOUN1: shares {'V', 'N'}\n",
      "VERB: acquire, NOUN1: stake {'V', 'N'}\n",
      "VERB: acquire, NOUN1: unit {'V', 'N'}\n",
      "VERB: acquire, NOUN1: units {'V', 'N'}\n",
      "VERB: acquire, NOUN2: co. {'V', 'N'}\n",
      "VERB: acquire, NOUN2: stock {'V', 'N'}\n",
      "VERB: acquire, NOUN2: unit {'V', 'N'}\n",
      "VERB: acquire, PREP: in {'V', 'N'}\n",
      "VERB: acquired, NOUN1: % {'V', 'N'}\n",
      "VERB: acquired, NOUN1: operations {'V', 'N'}\n",
      "VERB: acquired, NOUN1: rights {'V', 'N'}\n"
     ]
    }
   ],
   "source": [
    "for key in sorted(ambiguity_table)[:50]:\n",
    "    print(key, ambiguity_table[key])"
   ]
  },
  {
   "cell_type": "code",
   "execution_count": 8,
   "metadata": {},
   "outputs": [
    {
     "name": "stdout",
     "output_type": "stream",
     "text": [
      "PPAttachment(sent='27846', verb='acquire', noun1='million', prep='of', noun2='common', attachment='N')\n",
      "PPAttachment(sent='27846', verb='acquire', noun1='million', prep='at', noun2='price', attachment='V')\n"
     ]
    }
   ],
   "source": [
    "for entry in entries:\n",
    "    if entry.verb == 'acquire' and entry.noun1 == 'million':\n",
    "        print(entry)"
   ]
  },
  {
   "cell_type": "markdown",
   "metadata": {},
   "source": [
    "2. Devise CFG grammar productions to cover some of these cases."
   ]
  },
  {
   "cell_type": "code",
   "execution_count": 24,
   "metadata": {},
   "outputs": [],
   "source": [
    "sent1 = 'acquire million of common'.split()\n",
    "sent2 = 'acquire million at price'.split()"
   ]
  },
  {
   "cell_type": "code",
   "execution_count": 25,
   "metadata": {},
   "outputs": [],
   "source": [
    "grammar = nltk.CFG.fromstring(\"\"\"\n",
    "    S -> VP | VP NP\n",
    "    \n",
    "    VP -> V | V N PV N\n",
    "    NP -> N PN N\n",
    "    \n",
    "    V -> 'acquire'\n",
    "    N -> 'million' | 'price' | 'common'\n",
    "    PN -> 'of'\n",
    "    PV -> 'at'\n",
    "\"\"\")"
   ]
  },
  {
   "cell_type": "code",
   "execution_count": 26,
   "metadata": {},
   "outputs": [],
   "source": [
    "parser = nltk.RecursiveDescentParser(grammar)"
   ]
  },
  {
   "cell_type": "code",
   "execution_count": 27,
   "metadata": {},
   "outputs": [],
   "source": [
    "for sent in [sent1, sent2]:\n",
    "    for tree in parser.parse(sent):\n",
    "        tree.draw()"
   ]
  },
  {
   "cell_type": "markdown",
   "metadata": {},
   "source": [
    "# Exercise 17"
   ]
  },
  {
   "cell_type": "markdown",
   "metadata": {},
   "source": [
    "Write a program to compare the efficiency of a top-down chart parser compared with a recursive descent parser (4). Use the same grammar and input sentences for both. Compare their performance using the timeit module (see 4.7 for an example of how to do this)."
   ]
  },
  {
   "cell_type": "code",
   "execution_count": 44,
   "metadata": {},
   "outputs": [],
   "source": [
    "grammar = nltk.CFG.fromstring(\"\"\"\n",
    "    S   -> CS C CSS | CSS C CS\n",
    "    CSS -> CS | CS C CS\n",
    "    CS  -> NP VP\n",
    "    NP  -> N\n",
    "    VP  -> V\n",
    "    C   -> 'and' | 'or'\n",
    "    V   -> 'arrived' | 'left' | 'cheered'\n",
    "    N   -> 'Kim' | 'Dana' | 'everyone'\n",
    "\"\"\")"
   ]
  },
  {
   "cell_type": "code",
   "execution_count": 45,
   "metadata": {},
   "outputs": [],
   "source": [
    "rd_parser = nltk.RecursiveDescentParser(grammar)\n",
    "td_parser = nltk.TopDownChartParser(grammar)"
   ]
  },
  {
   "cell_type": "code",
   "execution_count": 46,
   "metadata": {},
   "outputs": [],
   "source": [
    "sent = 'Kim arrived or Dana left and everyone cheered'.split()"
   ]
  },
  {
   "cell_type": "code",
   "execution_count": 65,
   "metadata": {},
   "outputs": [
    {
     "name": "stdout",
     "output_type": "stream",
     "text": [
      "28.5 ms ± 2.24 ms per loop (mean ± std. dev. of 7 runs, 10 loops each)\n"
     ]
    }
   ],
   "source": [
    "%%timeit\n",
    "trees = list(rd_parser.parse(sent))\n",
    "len(trees)"
   ]
  },
  {
   "cell_type": "code",
   "execution_count": 66,
   "metadata": {},
   "outputs": [
    {
     "name": "stdout",
     "output_type": "stream",
     "text": [
      "10.1 ms ± 84.5 µs per loop (mean ± std. dev. of 7 runs, 100 loops each)\n"
     ]
    }
   ],
   "source": [
    "%%timeit\n",
    "trees = list(td_parser.parse(sent))\n",
    "len(trees)"
   ]
  },
  {
   "cell_type": "markdown",
   "metadata": {},
   "source": [
    "# Exercise 18"
   ]
  },
  {
   "cell_type": "markdown",
   "metadata": {},
   "source": [
    "Compare the performance of the top-down, bottom-up, and left-corner parsers using the same grammar and three grammatical test sentences. Use timeit to log the amount of time each parser takes on the same sentence. Write a function that runs all three parsers on all three sentences, and prints a 3-by-3 grid of times, as well as row and column totals. Discuss your findings."
   ]
  },
  {
   "cell_type": "code",
   "execution_count": 20,
   "metadata": {},
   "outputs": [],
   "source": [
    "from timeit import Timer"
   ]
  },
  {
   "cell_type": "code",
   "execution_count": 21,
   "metadata": {},
   "outputs": [],
   "source": [
    "grammar = nltk.CFG.fromstring(\"\"\"\n",
    "    S -> NP VP\n",
    "    VP -> V NP | V NP PP\n",
    "    PP -> P NP\n",
    "    V -> \"saw\" | \"ate\" | \"walked\"\n",
    "    NP -> \"John\" | \"Mary\" | \"Bob\" | Det N | Det N PP\n",
    "    Det -> \"a\" | \"an\" | \"the\" | \"my\"\n",
    "    N -> \"man\" | \"dog\" | \"cat\" | \"telescope\" | \"park\"\n",
    "    P -> \"in\" | \"on\" | \"by\" | \"with\"\n",
    "\"\"\")"
   ]
  },
  {
   "cell_type": "code",
   "execution_count": 22,
   "metadata": {},
   "outputs": [],
   "source": [
    "sents = [\n",
    "    \"Mary saw Bob\".split(),\n",
    "    \"Mary saw a dog\".split(),\n",
    "    \"John saw a cat\".split()\n",
    "]"
   ]
  },
  {
   "cell_type": "code",
   "execution_count": 23,
   "metadata": {},
   "outputs": [],
   "source": [
    "parsers = [\n",
    "    nltk.RecursiveDescentParser(grammar),\n",
    "    nltk.ShiftReduceParser(grammar),\n",
    "    nltk.LeftCornerChartParser(grammar),\n",
    "    nltk.TopDownChartParser(grammar),\n",
    "    nltk.BottomUpChartParser(grammar),\n",
    "    nltk.ChartParser(grammar)\n",
    "]"
   ]
  },
  {
   "cell_type": "code",
   "execution_count": 27,
   "metadata": {},
   "outputs": [],
   "source": [
    "def compare_parsers(parsers, sents, n=100):\n",
    "    time_results = pd.DataFrame(\n",
    "        data=[\n",
    "            (' '.join(sent), \n",
    "             parser.__class__.__name__, \n",
    "             Timer(lambda: list(parser.parse(sent))).timeit(n))\n",
    "            for sent in sents\n",
    "            for parser in parsers\n",
    "        ],\n",
    "        columns=['sent', 'parser', 'time']\n",
    "    )\n",
    "    time_results = (\n",
    "        time_results\n",
    "        .pivot_table(\n",
    "            values='time', \n",
    "            index='parser', \n",
    "            columns='sent', \n",
    "            aggfunc='sum', \n",
    "            margins=True, \n",
    "            margins_name='Total'\n",
    "        )\n",
    "        .sort_values('Total')\n",
    "    )\n",
    "    \n",
    "    return time_results"
   ]
  },
  {
   "cell_type": "code",
   "execution_count": 28,
   "metadata": {},
   "outputs": [
    {
     "data": {
      "text/html": [
       "<div>\n",
       "<style scoped>\n",
       "    .dataframe tbody tr th:only-of-type {\n",
       "        vertical-align: middle;\n",
       "    }\n",
       "\n",
       "    .dataframe tbody tr th {\n",
       "        vertical-align: top;\n",
       "    }\n",
       "\n",
       "    .dataframe thead th {\n",
       "        text-align: right;\n",
       "    }\n",
       "</style>\n",
       "<table border=\"1\" class=\"dataframe\">\n",
       "  <thead>\n",
       "    <tr style=\"text-align: right;\">\n",
       "      <th>sent</th>\n",
       "      <th>John saw a cat</th>\n",
       "      <th>Mary saw Bob</th>\n",
       "      <th>Mary saw a dog</th>\n",
       "      <th>Total</th>\n",
       "    </tr>\n",
       "    <tr>\n",
       "      <th>parser</th>\n",
       "      <th></th>\n",
       "      <th></th>\n",
       "      <th></th>\n",
       "      <th></th>\n",
       "    </tr>\n",
       "  </thead>\n",
       "  <tbody>\n",
       "    <tr>\n",
       "      <td>ShiftReduceParser</td>\n",
       "      <td>0.120243</td>\n",
       "      <td>0.068394</td>\n",
       "      <td>0.102367</td>\n",
       "      <td>0.291004</td>\n",
       "    </tr>\n",
       "    <tr>\n",
       "      <td>LeftCornerChartParser</td>\n",
       "      <td>0.273938</td>\n",
       "      <td>0.148386</td>\n",
       "      <td>0.231106</td>\n",
       "      <td>0.653429</td>\n",
       "    </tr>\n",
       "    <tr>\n",
       "      <td>ChartParser</td>\n",
       "      <td>0.243853</td>\n",
       "      <td>0.166485</td>\n",
       "      <td>0.251794</td>\n",
       "      <td>0.662132</td>\n",
       "    </tr>\n",
       "    <tr>\n",
       "      <td>BottomUpChartParser</td>\n",
       "      <td>0.398370</td>\n",
       "      <td>0.282864</td>\n",
       "      <td>0.408533</td>\n",
       "      <td>1.089767</td>\n",
       "    </tr>\n",
       "    <tr>\n",
       "      <td>TopDownChartParser</td>\n",
       "      <td>0.436496</td>\n",
       "      <td>0.418167</td>\n",
       "      <td>0.446744</td>\n",
       "      <td>1.301407</td>\n",
       "    </tr>\n",
       "    <tr>\n",
       "      <td>RecursiveDescentParser</td>\n",
       "      <td>1.736205</td>\n",
       "      <td>1.018486</td>\n",
       "      <td>1.730438</td>\n",
       "      <td>4.485129</td>\n",
       "    </tr>\n",
       "    <tr>\n",
       "      <td>Total</td>\n",
       "      <td>3.209105</td>\n",
       "      <td>2.102781</td>\n",
       "      <td>3.170982</td>\n",
       "      <td>8.482868</td>\n",
       "    </tr>\n",
       "  </tbody>\n",
       "</table>\n",
       "</div>"
      ],
      "text/plain": [
       "sent                    John saw a cat  Mary saw Bob  Mary saw a dog     Total\n",
       "parser                                                                        \n",
       "ShiftReduceParser             0.120243      0.068394        0.102367  0.291004\n",
       "LeftCornerChartParser         0.273938      0.148386        0.231106  0.653429\n",
       "ChartParser                   0.243853      0.166485        0.251794  0.662132\n",
       "BottomUpChartParser           0.398370      0.282864        0.408533  1.089767\n",
       "TopDownChartParser            0.436496      0.418167        0.446744  1.301407\n",
       "RecursiveDescentParser        1.736205      1.018486        1.730438  4.485129\n",
       "Total                         3.209105      2.102781        3.170982  8.482868"
      ]
     },
     "execution_count": 28,
     "metadata": {},
     "output_type": "execute_result"
    }
   ],
   "source": [
    "compare_parsers(parsers, sents)"
   ]
  },
  {
   "cell_type": "markdown",
   "metadata": {},
   "source": [
    "# Exercise 19"
   ]
  },
  {
   "cell_type": "markdown",
   "metadata": {},
   "source": [
    "Read up on \"garden path\" sentences. How might the computational work of a parser relate to the difficulty humans have with processing these sentences? http://en.wikipedia.org/wiki/Garden_path_sentence"
   ]
  },
  {
   "cell_type": "markdown",
   "metadata": {},
   "source": [
    "According to Wikipedia this type of sentences might be useful for testing the capabilities of artificial intelligence systems."
   ]
  },
  {
   "cell_type": "markdown",
   "metadata": {},
   "source": [
    "# Exercise 20"
   ]
  },
  {
   "cell_type": "markdown",
   "metadata": {},
   "source": [
    "To compare multiple trees in a single window, we can use the draw_trees() method. Define some trees and try it out:"
   ]
  },
  {
   "cell_type": "code",
   "execution_count": 34,
   "metadata": {},
   "outputs": [],
   "source": [
    "from nltk.draw.tree import draw_trees"
   ]
  },
  {
   "cell_type": "code",
   "execution_count": 35,
   "metadata": {},
   "outputs": [],
   "source": [
    "t0 = nltk.Tree('A', ['X', nltk.Tree('Y', ['T']), 'Z'])\n",
    "t1 = nltk.Tree('A', ['B', 'C'])\n",
    "t2 = nltk.Tree('A', ['B', 'C', nltk.Tree('D', ['d1', 'd2'])])"
   ]
  },
  {
   "cell_type": "code",
   "execution_count": 36,
   "metadata": {},
   "outputs": [],
   "source": [
    "draw_trees(t0, t1, t2)"
   ]
  },
  {
   "cell_type": "markdown",
   "metadata": {},
   "source": [
    "# Exercise 21"
   ]
  },
  {
   "cell_type": "markdown",
   "metadata": {},
   "source": [
    "Using tree positions, list the subjects of the first 100 sentences in the Penn treebank; to make the results easier to view, limit the extracted subjects to subtrees whose height is 2."
   ]
  },
  {
   "cell_type": "code",
   "execution_count": 3,
   "metadata": {},
   "outputs": [],
   "source": [
    "from nltk.corpus import treebank\n",
    "from nltk.draw.tree import draw_trees"
   ]
  },
  {
   "cell_type": "code",
   "execution_count": 6,
   "metadata": {},
   "outputs": [],
   "source": [
    "subjects = [subtree \n",
    "            for tree in treebank.parsed_sents()[:100]\n",
    "            for subtree in tree.subtrees()\n",
    "            if ('SBJ' in subtree.label()) \n",
    "            and ((subtree.height() - 1) == 3)]"
   ]
  },
  {
   "cell_type": "code",
   "execution_count": 8,
   "metadata": {},
   "outputs": [],
   "source": [
    "draw_trees(*subjects)"
   ]
  },
  {
   "cell_type": "markdown",
   "metadata": {},
   "source": [
    "# Exercise 22"
   ]
  },
  {
   "cell_type": "markdown",
   "metadata": {},
   "source": [
    "Inspect the Prepositional Phrase Attachment Corpus and try to suggest some factors that influence PP attachment."
   ]
  },
  {
   "cell_type": "markdown",
   "metadata": {},
   "source": [
    "<a href=\"#Exercise-16\">Go to Exercise #16</a>"
   ]
  },
  {
   "cell_type": "markdown",
   "metadata": {},
   "source": [
    "# Exercise 23 (Review)"
   ]
  },
  {
   "cell_type": "markdown",
   "metadata": {},
   "source": [
    "In this section we claimed that there are linguistic regularities that cannot be described simply in terms of n-grams. Consider the following sentence, particularly the position of the phrase *in his turn*. Does this illustrate a problem for an approach based on n-grams?\n",
    "\n",
    "*What was more, the in his turn somewhat youngish Nikolay Parfenovich also turned out to be the only person in the entire world to acquire a sincere liking to our \"discriminated-against\" public procurator*. (Dostoevsky: The Brothers Karamazov)"
   ]
  },
  {
   "cell_type": "markdown",
   "metadata": {},
   "source": [
    "# Exercise 24"
   ]
  },
  {
   "cell_type": "markdown",
   "metadata": {},
   "source": [
    "Write a recursive function that produces a nested bracketing for a tree, leaving out the leaf nodes, and displaying the non-terminal labels after their subtrees. So the above example about Pierre Vinken would produce: [[[NNP NNP]NP , [ADJP [CD NNS]NP JJ]ADJP ,]NP-SBJ MD [VB [DT NN]NP [IN [DT JJ NN]NP]PP-CLR [NNP CD]NP-TMP]VP .]S Consecutive categories should be separated by space."
   ]
  },
  {
   "cell_type": "code",
   "execution_count": 3,
   "metadata": {},
   "outputs": [],
   "source": [
    "from nltk.corpus import treebank"
   ]
  },
  {
   "cell_type": "code",
   "execution_count": 4,
   "metadata": {},
   "outputs": [],
   "source": [
    "t = treebank.parsed_sents('wsj_0001.mrg')[0]\n",
    "t.draw()"
   ]
  },
  {
   "cell_type": "code",
   "execution_count": 7,
   "metadata": {},
   "outputs": [],
   "source": [
    "def nested_bracketing(tree):\n",
    "    if len(tree) == 1 and isinstance(tree[0], str):\n",
    "        return tree.label()\n",
    "    return ''.join([\n",
    "        '[',\n",
    "        ' '.join([nested_bracketing(child) for child in tree]),\n",
    "        ']',\n",
    "        tree.label()\n",
    "    ])"
   ]
  },
  {
   "cell_type": "code",
   "execution_count": 8,
   "metadata": {},
   "outputs": [
    {
     "data": {
      "text/plain": [
       "'[[[NNP NNP]NP , [[CD NNS]NP JJ]ADJP ,]NP-SBJ [MD [VB [DT NN]NP [IN [DT JJ NN]NP]PP-CLR [NNP CD]NP-TMP]VP]VP .]S'"
      ]
     },
     "execution_count": 8,
     "metadata": {},
     "output_type": "execute_result"
    }
   ],
   "source": [
    "nested_bracketing(t)"
   ]
  },
  {
   "cell_type": "markdown",
   "metadata": {},
   "source": [
    "# Exercise 25"
   ]
  },
  {
   "cell_type": "markdown",
   "metadata": {},
   "source": [
    "Download several electronic books from Project Gutenberg. Write a program to scan these texts for any extremely long sentences. What is the longest sentence you can find? What syntactic construction(s) are responsible for such long sentences?"
   ]
  },
  {
   "cell_type": "code",
   "execution_count": 4,
   "metadata": {},
   "outputs": [],
   "source": [
    "from nltk.corpus import gutenberg"
   ]
  },
  {
   "cell_type": "code",
   "execution_count": 5,
   "metadata": {},
   "outputs": [],
   "source": [
    "n_longest_sent = max(gutenberg.sents(), key=len)"
   ]
  },
  {
   "cell_type": "code",
   "execution_count": 6,
   "metadata": {},
   "outputs": [
    {
     "data": {
      "text/plain": [
       "1378"
      ]
     },
     "execution_count": 6,
     "metadata": {},
     "output_type": "execute_result"
    }
   ],
   "source": [
    "len(n_longest_sent)"
   ]
  },
  {
   "cell_type": "code",
   "execution_count": 9,
   "metadata": {},
   "outputs": [
    {
     "data": {
      "text/plain": [
       "\"By the city ' s quadrangular houses -- in log huts , camping with lumber - men , Along the ruts of the turnpike , along the dry gulch and rivulet bed , Weeding my onion - patch or hosing rows of carrots and parsnips , crossing savannas , trailing in forests , Prospecting , gold - digging , girdling the trees of a new purchase , Scorch ' d ankle - deep by the hot sand , hauling my boat down the shallow river , Where the panther walks to and fro on a limb overhead , where the buck turns furiously at the hunter , Where the rattlesnake suns his flabby length on a rock , where the otter is feeding on fish , Where the alligator in his tough pimples sleeps by the bayou , Where the black bear is searching for roots or honey , where the beaver pats the mud with his paddle - shaped tall ; Over the growing sugar , over the yellow - flower ' d cotton plant , over the rice in its low moist field , Over the sharp - peak ' d farm house , with its scallop ' d scum and slender shoots from the gutters , Over the western persimmon , over the long - leav ' d corn , over the delicate blue - flower flax , Over the white and brown buckwheat , a hummer and buzzer there with the rest , Over the dusky green of the rye as it ripples and shades in the breeze ; Scaling mountains , pulling myself cautiously up , holding on by low scragged limbs , Walking the path worn in the grass and beat through the leaves of the brush , Where the quail is whistling betwixt the woods and the wheat - lot , Where the bat flies in the Seventh - month eve , where the great goldbug drops through the dark , Where the brook puts out of the roots of the old tree and flows to the meadow , Where cattle stand and shake away flies with the tremulous shuddering of their hides , Where the cheese - cloth hangs in the kitchen , where andirons straddle the hearth - slab , where cobwebs fall in festoons from the rafters ; Where trip - hammers crash , where the press is whirling its cylinders , Wherever the human heart beats with terrible throes under its ribs , Where the pear - shaped balloon is floating aloft , ( floating in it myself and looking composedly down ,) Where the life - car is drawn on the slip - noose , where the heat hatches pale - green eggs in the dented sand , Where the she - whale swims with her calf and never forsakes it , Where the steam - ship trails hind - ways its long pennant of smoke , Where the fin of the shark cuts like a black chip out of the water , Where the half - burn ' d brig is riding on unknown currents , Where shells grow to her slimy deck , where the dead are corrupting below ; Where the dense - starr ' d flag is borne at the head of the regiments , Approaching Manhattan up by the long - stretching island , Under Niagara , the cataract falling like a veil over my countenance , Upon a door - step , upon the horse - block of hard wood outside , Upon the race - course , or enjoying picnics or jigs or a good game of base - ball , At he - festivals , with blackguard gibes , ironical license , bull - dances , drinking , laughter , At the cider - mill tasting the sweets of the brown mash , sucking the juice through a straw , At apple - peelings wanting kisses for all the red fruit I find , At musters , beach - parties , friendly bees , huskings , house - raisings ; Where the mocking - bird sounds his delicious gurgles , cackles , screams , weeps , Where the hay - rick stands in the barn - yard , where the dry - stalks are scatter ' d , where the brood - cow waits in the hovel , Where the bull advances to do his masculine work , where the stud to the mare , where the cock is treading the hen , Where the heifers browse , where geese nip their food with short jerks , Where sun - down shadows lengthen over the limitless and lonesome prairie , Where herds of buffalo make a crawling spread of the square miles far and near , Where the humming - bird shimmers , where the neck of the long - lived swan is curving and winding , Where the laughing - gull scoots by the shore , where she laughs her near - human laugh , Where bee - hives range on a gray bench in the garden half hid by the high weeds , Where band - neck ' d partridges roost in a ring on the ground with their heads out , Where burial coaches enter the arch ' d gates of a cemetery , Where winter wolves bark amid wastes of snow and icicled trees , Where the yellow - crown ' d heron comes to the edge of the marsh at night and feeds upon small crabs , Where the splash of swimmers and divers cools the warm noon , Where the katy - did works her chromatic reed on the walnut - tree over the well , Through patches of citrons and cucumbers with silver - wired leaves , Through the salt - lick or orange glade , or under conical firs , Through the gymnasium , through the curtain ' d saloon , through the office or public hall ; Pleas ' d with the native and pleas ' d with the foreign , pleas ' d with the new and old , Pleas ' d with the homely woman as well as the handsome , Pleas ' d with the quakeress as she puts off her bonnet and talks melodiously , Pleas ' d with the tune of the choir of the whitewash ' d church , Pleas ' d with the earnest words of the sweating Methodist preacher , impress ' d seriously at the camp - meeting ; Looking in at the shop - windows of Broadway the whole forenoon , flatting the flesh of my nose on the thick plate glass , Wandering the same afternoon with my face turn ' d up to the clouds , or down a lane or along the beach , My right and left arms round the sides of two friends , and I in the middle ; Coming home with the silent and dark - cheek ' d bush - boy , ( behind me he rides at the drape of the day ,) Far from the settlements studying the print of animals ' feet , or the moccasin print , By the cot in the hospital reaching lemonade to a feverish patient , Nigh the coffin ' d corpse when all is still , examining with a candle ; Voyaging to every port to dicker and adventure , Hurrying with the modern crowd as eager and fickle as any , Hot toward one I hate , ready in my madness to knife him , Solitary at midnight in my back yard , my thoughts gone from me a long while , Walking the old hills of Judaea with the beautiful gentle God by my side , Speeding through space , speeding through heaven and the stars , Speeding amid the seven satellites and the broad ring , and the diameter of eighty thousand miles , Speeding with tail ' d meteors , throwing fire - balls like the rest , Carrying the crescent child that carries its own full mother in its belly , Storming , enjoying , planning , loving , cautioning , Backing and filling , appearing and disappearing , I tread day and night such roads .\""
      ]
     },
     "execution_count": 9,
     "metadata": {},
     "output_type": "execute_result"
    }
   ],
   "source": [
    "' '.join(n_longest_sent)"
   ]
  },
  {
   "cell_type": "markdown",
   "metadata": {},
   "source": [
    "The most popular structures in this part of the poem 'Song of Myself' by Walt Whitman are:\n",
    "\n",
    "- Where NP VP NP\n",
    "- Where NP VP\n",
    "- Over NP\n",
    "- NP\n",
    "- NP and NP\n",
    "- NP VP"
   ]
  },
  {
   "cell_type": "markdown",
   "metadata": {},
   "source": [
    "# Exercise 26"
   ]
  },
  {
   "cell_type": "markdown",
   "metadata": {},
   "source": [
    "Modify the functions init_wfst() and complete_wfst() so that the contents of each cell in the WFST is a set of non-terminal symbols rather than a single non-terminal."
   ]
  },
  {
   "cell_type": "code",
   "execution_count": 123,
   "metadata": {},
   "outputs": [],
   "source": [
    "from itertools import product\n",
    "from collections import defaultdict"
   ]
  },
  {
   "cell_type": "code",
   "execution_count": 29,
   "metadata": {},
   "outputs": [],
   "source": [
    "groucho_grammar = nltk.CFG.fromstring(\"\"\"\n",
    "    S -> NP VP\n",
    "    PP -> P NP\n",
    "    NP -> Det N | Det N PP | 'I'\n",
    "    VP -> V NP | VP PP\n",
    "    Det -> 'an' | 'my'\n",
    "    N -> 'elephant' | 'pajamas'\n",
    "    V -> 'shot'\n",
    "    P -> 'in'\n",
    "\"\"\")"
   ]
  },
  {
   "cell_type": "code",
   "execution_count": 125,
   "metadata": {},
   "outputs": [],
   "source": [
    "text = ['I', 'shot', 'an', 'elephant', 'in', 'my', 'pajamas']"
   ]
  },
  {
   "cell_type": "code",
   "execution_count": 126,
   "metadata": {},
   "outputs": [],
   "source": [
    "def init_wfst(tokens, grammar):\n",
    "    numtokens = len(tokens)\n",
    "    wfst = [[set() for i in range(numtokens)] \n",
    "            for j in range(numtokens)]\n",
    "    for i in range(numtokens):\n",
    "        for p in grammar.productions(rhs=tokens[i]):\n",
    "            wfst[i][i].add(p.lhs())\n",
    "    return wfst"
   ]
  },
  {
   "cell_type": "code",
   "execution_count": 127,
   "metadata": {},
   "outputs": [],
   "source": [
    "def complete_wfst(wfst, tokens, grammar):\n",
    "    index = defaultdict(set)\n",
    "    for p in grammar.productions():\n",
    "        index[p.rhs()].add(p.lhs())\n",
    "    numtokens = len(tokens)\n",
    "    for span in range(1, numtokens):\n",
    "        for start in range(numtokens-span):\n",
    "            end = start + span\n",
    "            for mid in range(start, end):\n",
    "                nt_s1, nt_s2 = wfst[start][mid], wfst[mid+1][end]\n",
    "                for rhs in product(nt_s1, nt_s2):\n",
    "                    if rhs in index:\n",
    "                        for lhs in index[rhs]:\n",
    "                            wfst[start][end].add(lhs)\n",
    "    return wfst"
   ]
  },
  {
   "cell_type": "code",
   "execution_count": 128,
   "metadata": {},
   "outputs": [],
   "source": [
    "def display(wfst):\n",
    "    print('\\nWFST ' + ' '.join((\"%-12d\" % i) for i in range(len(wfst))))\n",
    "    for i in range(len(wfst)):\n",
    "        print(\"%d   \" % i, end=\" \")\n",
    "        for j in range(len(wfst)):\n",
    "            print(\"%-12s\" % (wfst[i][j] or '.'), end=\" \")\n",
    "        print()"
   ]
  },
  {
   "cell_type": "code",
   "execution_count": 129,
   "metadata": {},
   "outputs": [],
   "source": [
    "tokens = \"I shot an elephant in my pajamas\".split()"
   ]
  },
  {
   "cell_type": "code",
   "execution_count": 130,
   "metadata": {},
   "outputs": [],
   "source": [
    "wfst0 = init_wfst(tokens, groucho_grammar)"
   ]
  },
  {
   "cell_type": "code",
   "execution_count": 131,
   "metadata": {},
   "outputs": [
    {
     "name": "stdout",
     "output_type": "stream",
     "text": [
      "\n",
      "WFST 0            1            2            3            4            5            6           \n",
      "0    {NP}         .            .            .            .            .            .            \n",
      "1    .            {V}          .            .            .            .            .            \n",
      "2    .            .            {Det}        .            .            .            .            \n",
      "3    .            .            .            {N}          .            .            .            \n",
      "4    .            .            .            .            {P}          .            .            \n",
      "5    .            .            .            .            .            {Det}        .            \n",
      "6    .            .            .            .            .            .            {N}          \n"
     ]
    }
   ],
   "source": [
    "display(wfst0)"
   ]
  },
  {
   "cell_type": "code",
   "execution_count": 132,
   "metadata": {},
   "outputs": [],
   "source": [
    "wfst1 = complete_wfst(wfst0, tokens, groucho_grammar)"
   ]
  },
  {
   "cell_type": "code",
   "execution_count": 133,
   "metadata": {},
   "outputs": [
    {
     "name": "stdout",
     "output_type": "stream",
     "text": [
      "\n",
      "WFST 0            1            2            3            4            5            6           \n",
      "0    {NP}         .            .            {S}          .            .            {S}          \n",
      "1    .            {V}          .            {VP}         .            .            {VP}         \n",
      "2    .            .            {Det}        {NP}         .            .            .            \n",
      "3    .            .            .            {N}          .            .            .            \n",
      "4    .            .            .            .            {P}          .            {PP}         \n",
      "5    .            .            .            .            .            {Det}        {NP}         \n",
      "6    .            .            .            .            .            .            {N}          \n"
     ]
    }
   ],
   "source": [
    "display(wfst1)"
   ]
  },
  {
   "cell_type": "markdown",
   "metadata": {},
   "source": [
    "# Exercise 27"
   ]
  },
  {
   "cell_type": "markdown",
   "metadata": {},
   "source": [
    "Consider the algorithm in 4.4. Can you explain why parsing context-free grammar is proportional to n3, where n is the length of the input sentence."
   ]
  },
  {
   "cell_type": "markdown",
   "metadata": {},
   "source": [
    "There are 3 nested 'for' loops: \n",
    "- for changing 'span' parameter\n",
    "- for changing 'start' index\n",
    "- for changing 'mid' index from 'start'+1 to 'end'-1"
   ]
  },
  {
   "cell_type": "markdown",
   "metadata": {},
   "source": [
    "# Exercise 28"
   ]
  },
  {
   "cell_type": "markdown",
   "metadata": {},
   "source": [
    "Process each tree of the Treebank corpus sample nltk.corpus.treebank and extract the productions with the help of Tree.productions(). Discard the productions that occur only once. Productions with the same left hand side, and similar right hand sides can be collapsed, resulting in an equivalent but more compact set of rules. Write code to output a compact grammar."
   ]
  },
  {
   "cell_type": "code",
   "execution_count": 3,
   "metadata": {},
   "outputs": [],
   "source": [
    "from nltk.corpus import treebank"
   ]
  },
  {
   "cell_type": "markdown",
   "metadata": {},
   "source": [
    "## version 1"
   ]
  },
  {
   "cell_type": "code",
   "execution_count": 4,
   "metadata": {},
   "outputs": [],
   "source": [
    "cfd = nltk.ConditionalFreqDist(\n",
    "    (production.lhs(), production.rhs())\n",
    "    for tree in treebank.parsed_sents()\n",
    "    for production in tree.productions()\n",
    ")"
   ]
  },
  {
   "cell_type": "code",
   "execution_count": 5,
   "metadata": {},
   "outputs": [],
   "source": [
    "index = nltk.Index(\n",
    "    (lhs, rhs)\n",
    "    for lhs in cfd.conditions()\n",
    "    for rhs, count in cfd[lhs].items() \n",
    "    if count > 1\n",
    ")"
   ]
  },
  {
   "cell_type": "code",
   "execution_count": 6,
   "metadata": {},
   "outputs": [],
   "source": [
    "index = nltk.Index(\n",
    "    (lhs, ' '.join([repr(c) if isinstance(c, str) \n",
    "                    else c.symbol() \n",
    "                    for c in rhs]))\n",
    "    for lhs, rhss in index.items()\n",
    "    for rhs in rhss\n",
    ")"
   ]
  },
  {
   "cell_type": "code",
   "execution_count": 7,
   "metadata": {},
   "outputs": [],
   "source": [
    "grammar_string = '\\n'.join([\n",
    "    \"{} -> {}\".format(lhs, ' | '.join(rhss))\n",
    "    for lhs, rhss in index.items()\n",
    "])"
   ]
  },
  {
   "cell_type": "markdown",
   "metadata": {},
   "source": [
    "## version 2"
   ]
  },
  {
   "cell_type": "code",
   "execution_count": 8,
   "metadata": {},
   "outputs": [],
   "source": [
    "fd = nltk.FreqDist(\n",
    "    production\n",
    "    for tree in treebank.parsed_sents()\n",
    "    for production in tree.productions()\n",
    ")"
   ]
  },
  {
   "cell_type": "code",
   "execution_count": 9,
   "metadata": {},
   "outputs": [],
   "source": [
    "grammar = nltk.grammar.CFG(\n",
    "    start=nltk.grammar.Nonterminal('S'),\n",
    "    productions=[p for p, count in fd.items() if count > 1]\n",
    ")"
   ]
  },
  {
   "cell_type": "markdown",
   "metadata": {},
   "source": [
    "# Exercise 29"
   ]
  },
  {
   "cell_type": "markdown",
   "metadata": {},
   "source": [
    "One common way of defining the subject of a sentence S in English is as *the noun phrase that is the child of S and the sibling of VP*. Write a function that takes the tree for a sentence and returns the subtree corresponding to the subject of the sentence. What should it do if the root node of the tree passed to this function is not S, or it lacks a subject?"
   ]
  },
  {
   "cell_type": "code",
   "execution_count": 34,
   "metadata": {},
   "outputs": [],
   "source": [
    "def find_subject(tree):\n",
    "    if tree.label() == 'S':\n",
    "        i = 0\n",
    "        np = vp = None\n",
    "        while i < len(tree) and not (np and vp):\n",
    "            child = tree[i]\n",
    "            if not np and child.label().startswith('NP'):\n",
    "                np = child\n",
    "            if not vp and child.label().startswith('VP'):\n",
    "                vp = child\n",
    "            i += 1\n",
    "        if not np:\n",
    "            raise ValueError(\"There is no any noun phrase\")\n",
    "        if not vp:\n",
    "            raise ValueError('There is no any verb phrase')\n",
    "        return np \n",
    "    else:\n",
    "        raise ValueError('Root label is not S!')"
   ]
  },
  {
   "cell_type": "code",
   "execution_count": 35,
   "metadata": {},
   "outputs": [],
   "source": [
    "t0 = nltk.Tree.fromstring(\"(S (NP I) (VP (V saw) (NP him)))\")\n",
    "t1 = nltk.Tree.fromstring(\"(S (VP (V saw) (NP him)))\")\n",
    "t2 = nltk.Tree.fromstring(\"(S (NP I))\")\n",
    "t3 = nltk.Tree.fromstring(\"(NONS (NP I) (VP (V saw) (NP him)))\")"
   ]
  },
  {
   "cell_type": "code",
   "execution_count": 36,
   "metadata": {},
   "outputs": [
    {
     "name": "stdout",
     "output_type": "stream",
     "text": [
      "Tree 0: (NP I)\n",
      "Tree 1: There is no any noun phrase\n",
      "Tree 2: There is no any verb phrase\n",
      "Tree 3: Root label is not S!\n"
     ]
    }
   ],
   "source": [
    "for i, tree in enumerate([t0, t1, t2, t3]):\n",
    "    print('Tree {}:'.format(i), end=\" \")\n",
    "    try:\n",
    "        print(find_subject(tree))\n",
    "    except Exception as ex:\n",
    "        print(ex)"
   ]
  },
  {
   "cell_type": "code",
   "execution_count": null,
   "metadata": {},
   "outputs": [],
   "source": []
  }
 ],
 "metadata": {
  "kernelspec": {
   "display_name": "Python 3",
   "language": "python",
   "name": "python3"
  },
  "language_info": {
   "codemirror_mode": {
    "name": "ipython",
    "version": 3
   },
   "file_extension": ".py",
   "mimetype": "text/x-python",
   "name": "python",
   "nbconvert_exporter": "python",
   "pygments_lexer": "ipython3",
   "version": "3.7.3"
  },
  "toc": {
   "base_numbering": 1,
   "nav_menu": {},
   "number_sections": false,
   "sideBar": true,
   "skip_h1_title": false,
   "title_cell": "Table of Contents",
   "title_sidebar": "Contents",
   "toc_cell": false,
   "toc_position": {
    "height": "calc(100% - 180px)",
    "left": "10px",
    "top": "150px",
    "width": "178px"
   },
   "toc_section_display": true,
   "toc_window_display": true
  }
 },
 "nbformat": 4,
 "nbformat_minor": 4
}
