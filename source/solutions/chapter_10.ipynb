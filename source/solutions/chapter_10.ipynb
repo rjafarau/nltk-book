{
 "cells": [
  {
   "cell_type": "markdown",
   "metadata": {},
   "source": [
    "# IMPORTS"
   ]
  },
  {
   "cell_type": "code",
   "execution_count": 1,
   "metadata": {},
   "outputs": [],
   "source": [
    "import nltk\n",
    "import numpy as np\n",
    "import pandas as pd\n",
    "import matplotlib.pyplot as plt"
   ]
  },
  {
   "cell_type": "code",
   "execution_count": 2,
   "metadata": {},
   "outputs": [],
   "source": [
    "%matplotlib inline"
   ]
  },
  {
   "cell_type": "markdown",
   "metadata": {},
   "source": [
    "# Exercise 1"
   ]
  },
  {
   "cell_type": "markdown",
   "metadata": {},
   "source": [
    "Translate the following sentences into propositional logic and verify that they can be processed with Expression.fromstring(). Provide a key which shows how the propositional variables in your translation correspond to expressions of English."
   ]
  },
  {
   "cell_type": "markdown",
   "metadata": {},
   "source": [
    "1. If Angus sings, it is not the case that Bertie sulks.\n",
    "2. Cyril runs and barks.\n",
    "3. It will snow if it doesn't rain.\n",
    "4. It's not the case that Irene will be happy if Olive or Tofu comes.\n",
    "5. Pat didn't cough or sneeze.\n",
    "6. If you don't come if I call, I won't come if you call."
   ]
  },
  {
   "cell_type": "code",
   "execution_count": 18,
   "metadata": {},
   "outputs": [],
   "source": [
    "read_expr = nltk.Expression.fromstring"
   ]
  },
  {
   "cell_type": "code",
   "execution_count": 20,
   "metadata": {},
   "outputs": [],
   "source": [
    "expr1 = read_expr(\"angus_sing -> -bertie_sulk\")\n",
    "expr2 = read_expr(\"cyril_run & cyril_bark\")\n",
    "expr3 = read_expr(\"-it_rain -> it_snow\")\n",
    "expr4 = read_expr(\"-((olive_come | tofu_come) -> irene_happy)\")\n",
    "expr5 = read_expr('-(pat_cough | pat_sneeze)')\n",
    "expr6 = read_expr(\"-(I_call -> you_come) -> -(you_call -> I_come)\")"
   ]
  },
  {
   "cell_type": "markdown",
   "metadata": {},
   "source": [
    "# Exercise 2"
   ]
  },
  {
   "cell_type": "markdown",
   "metadata": {},
   "source": [
    "Translate the following sentences into predicate-argument formula of first order logic."
   ]
  },
  {
   "cell_type": "markdown",
   "metadata": {},
   "source": [
    "1. Angus likes Cyril and Irene hates Cyril.\n",
    "2. Tofu is taller than Bertie.\n",
    "3. Bruce loves himself and Pat does too.\n",
    "4. Cyril saw Bertie, but Angus didn't.\n",
    "5. Cyril is a fourlegged friend.\n",
    "6. Tofu and Olive are near each other."
   ]
  },
  {
   "cell_type": "code",
   "execution_count": 27,
   "metadata": {},
   "outputs": [],
   "source": [
    "read_expr = nltk.Expression.fromstring"
   ]
  },
  {
   "cell_type": "code",
   "execution_count": 28,
   "metadata": {},
   "outputs": [],
   "source": [
    "expr1 = read_expr(\"like(angus, cyril) & hate(irene, cyril)\")\n",
    "expr2 = read_expr(\"taller(tofu, bertie)\")\n",
    "expr3 = read_expr(\"love(bruce, bruce) & love(pat, pat)\")\n",
    "expr4 = read_expr(\"see(cyril, bertie) & -see(angus, bertie)\")\n",
    "expr5 = read_expr(\"fourlegged(cyril) & friend(cyril)\")\n",
    "expr6 = read_expr(\"near(tofu, olive) & near(olive, tofu)\")"
   ]
  },
  {
   "cell_type": "markdown",
   "metadata": {},
   "source": [
    "# Exercise 3"
   ]
  },
  {
   "cell_type": "markdown",
   "metadata": {},
   "source": [
    "Translate the following sentences into quantified formulas of first order logic."
   ]
  },
  {
   "cell_type": "markdown",
   "metadata": {},
   "source": [
    "1. Angus likes someone and someone likes Julia.\n",
    "2. Angus loves a dog who loves him.\n",
    "3. Nobody smiles at Pat.\n",
    "4. Somebody coughs and sneezes.\n",
    "5. Nobody coughed or sneezed.\n",
    "6. Bruce loves somebody other than Bruce.\n",
    "7. Nobody other than Matthew loves somebody Pat.\n",
    "8. Cyril likes everyone except for Irene.\n",
    "9. Exactly one person is asleep."
   ]
  },
  {
   "cell_type": "code",
   "execution_count": 61,
   "metadata": {},
   "outputs": [],
   "source": [
    "read_expr = nltk.Expression.fromstring"
   ]
  },
  {
   "cell_type": "code",
   "execution_count": 78,
   "metadata": {},
   "outputs": [],
   "source": [
    "expr1 = read_expr(\"(exists x. (like(angus, x))) & (exist y. (like(y, julia)))\")\n",
    "expr2 = read_expr(\"exists x. (dog(x) & love(angus, x) & love(x, angus))\")\n",
    "expr3 = read_expr(\"-exists x. (smile(x, pat))\")\n",
    "expr4 = read_expr(\"exists x. (cough(x) & sneeze(x))\")\n",
    "expr5 = read_expr(\"-exists x. (cough(x) | sneeze(x))\")\n",
    "expr6 = read_expr(\"exists x. (love(bruce, x) & (bruce != x))\")\n",
    "expr7 = read_expr(\"all x. ((x != matthew) <-> -love(x, pat))\")\n",
    "expr8 = read_expr(\"all x. (like(cyril, x) <-> (x != irene))\")\n",
    "expr9 = read_expr(\"exists y. all x. (asleep(x) -> (x = y))\")"
   ]
  },
  {
   "cell_type": "markdown",
   "metadata": {},
   "source": [
    "# Exercise 4"
   ]
  },
  {
   "cell_type": "markdown",
   "metadata": {},
   "source": [
    "Translate the following verb phrases using λ abstracts. quantified formulas of first order logic."
   ]
  },
  {
   "cell_type": "markdown",
   "metadata": {},
   "source": [
    "1. feed Cyril and give a capuccino to Angus\n",
    "2. be given 'War and Peace' by Pat\n",
    "3. be loved by everyone\n",
    "4. be loved or detested by everyone\n",
    "5. be loved by everyone and detested by no-one"
   ]
  },
  {
   "cell_type": "code",
   "execution_count": 79,
   "metadata": {},
   "outputs": [],
   "source": [
    "read_expr = nltk.Expression.fromstring"
   ]
  },
  {
   "cell_type": "code",
   "execution_count": 97,
   "metadata": {},
   "outputs": [],
   "source": [
    "expr1 = read_expr(r\"\\x. (feed(x, cyril) & give(x, capuccino, angus))\")\n",
    "expr2 = read_expr(r\"\\x. give(pat, war_and_peace, x)\")\n",
    "expr3 = read_expr(r\"\\x. all y. love(y, x)\")\n",
    "expr4 = read_expr(r\"\\x. all y. (love(y, x) | detest(y, x))\")\n",
    "expr5 = read_expr(r\"\\x. ((all y. love(y, x)) & (-exists z. detest(z, x)))\")"
   ]
  },
  {
   "cell_type": "markdown",
   "metadata": {},
   "source": [
    "# Exercise 5"
   ]
  },
  {
   "cell_type": "markdown",
   "metadata": {},
   "source": [
    "Consider the following statements:"
   ]
  },
  {
   "cell_type": "markdown",
   "metadata": {},
   "source": [
    "![](data:image/png;base64,iVBORw0KGgoAAAANSUhEUgAAAXEAAABTCAYAAABplDctAAAZ7UlEQVR4Ae1dvW4syc3tR/MLCAL0BPsUCwhKbqB8cylxIsPYaFNtYMD4gBtutMENDMNe2LiO9Ar1oVg8VSTrp3tmenqmR7zAxcx0/ZA8JE+xq380BfPvy5cv4eMj+H/HwGPAY8BjYAcxMBkOD07ivoD5Iu4x4DGwnxhwEt/BSusJtZ+Ecl+5r7aOgVkSj5X5kv9bK+7yPFk8BjwGPAZCWETif/rhz2H037dgPJk8mTwGPAYuEwNO4r6d4hevPAY8BnYcA07iJzvva3iapjA9fvVEICwZj4jJNIWnX5dWJ2nc3et3x/HkmFyKOff7/S3cTVPYFHuWGWNkmh7Cy+8H6rw1Rh15749R/+fw3mnf4uzESfxk8J3Em4HKSVqTeA+vPZH49/BynxapREL7JqKPzUmcY+D+LXw7Of9OJ/9vrw9HLySfj8R/fQ6v00P4W2vVHbX9/hb+Mk3hl8VV3emObRJTM+B6pLSlDlco6zOQ+JWQ0PJYvZI42XzRGNt9ColfA/YbV+Lfw9/up/DaJORRWwi/PaZxfznodDsRbKwG04ppTn04mHI1lbdEGpVWbosBMdfeD5qih67ecByVawosPsX99ZkqhafHWDFwBZj1SbrEU2GMOffpKel6/xZe6FQy6QO9c1BXJN7ATJ1K60oceCw7xeeFFNiY03PMpU7dSb/n8MQ23D0+05bCslNjtqVB4vBB1pt8h+02Hvf4nLbglP0h+S/OKeIyz/MhY1jHTisepT+gUy92cFzKIj9Cd8a1tMOON3FGcsCWCNtX5kO+jPPV2gEbo3+l/7JPwRXGjgl+s8cRP8gtao9bJSK+VBvnot1OoXEP4eU15q3NV/YzjuMT8zYLReDT/pzmHvaJd56M7kyJbYfenfLP1wci8teG4qO2D6rWp/B6/xb+uchYJob7h7Q3q4KH2+Bo1WbAYmenoAEZYR+MHdywJRMa65qCEOOQlK3fRjcEmwk+pU+0kWxZqg/sQCDWwWb1x2+QYkpCnge6wS+MJxINYz+QEBVexWbMX481fmFZqX/BschCwpS23Ff4u/gl6rCEjFrYFRlpvjgP98u2lnHad2lbAePuHtPvrOvHwI7c1tFb2Clx0d8L9vm4HdfMAVzzWBpz3A/Ehc+MD+vRylclH3gkmwtOxQ7Ckuad1w24V/vyJPMh3N0n37b6pWPF94SfyVc1zuQF6W5zBzm08HO6BImTobxF0iTkUdvH1/DLFKvy5/DbrJHswBZIABqBxJ+5Omi0U+LZ4O6SkiWcksB5dSaZMgBEnxzYIcTFK47JpKZ0wBg5j5W97u+SNHFelm8xNsGayaGLF/uK/ZBtnfUxErq1CAEbs1DFyon0SyRASUb6Jx3mZXdsFromjKaQqz5qq8dJLFOyCz/n+QZ2xD4yVq0fgDfh2iF67pNjv7kwSDK0dsi2BbGm4lf253kqG+qCR+7jE4aCsKP/ik81di3fKpLNmBdcJS4ljpPeaazJPZOvan6TF6R7w14rZ/R7ugSJj6rtUduxlXjzzhEDtALJBpnsa9uQJJJ0ZSDk7zbwZfDiOwdxTDjpWCk/zqd0WDIv5pefOrjzwjJrh02ojnwTrAXfXsKn43evX9MpurQ/Yyj1r7+nZEmEPTxLyBiei8QltjLBa6xqEm8RbT2u4Clw4DghX1Z+FLFlT/+vjcQr3W3M6RwYkzjwkT7RGCuSlbFm80628feDSRxFDxcra2x9bk7i2NtuXaQctYHcj9kTb5I4k4wiSzhJOa84P63imoQycTQCzyZaSthWpRUDTSYqCI1vt1P6IKARiHIcAva8n5J4tN5C7tEk/j0vUpXf4LOKhGq5qJ66mNNc8ySO8Zgv+XSMecGH++XYMONgD7d3yUTsh7cqSR1nOj51G2JHLiwROxNvMQ845rLdKgaNHa1CBra1fMVteW7kXWseRZYldyRWhDdhmOzQlbiIjeYZBs7kkE+iv7JZHM/6YqzB04yTuiZcTX8xn/XXkt/TppX46A6UUdvRd6eMAxoVba5C834oBylO7V/TfbQ5gdhJNA4X+HKitp0NZ4AUskwaB3klkNTiIOVVp8U2ocbyoccpn4WkoiwjPyev3MIodkW52TZliyaS3EfimufWSVBhaqr4qj3OSXOdSOK5moq2prkgq4oV0gl+FtgI+1SyNxIbc+vYsXjGuQU+GbMiM+sG0lR2WKJsjTM+xzzClpJbQhfYxDodQuIxbrT9JaboOMlukThzgLCxKxd9YIchY5kzOT4xJn4i7sw47ddGDEh/AaMDPqdNSfwAxSRgn/67CYpPj8du48iS3/kXXI+V68I4EbpY2LoL2nK9ncT3QAhO4jfyFKeT+GdfVNLZhCBxzu367MBJ/CJJnxxUTj/zae+pjzQ7iV/En+sTjpP4+pguJ7vrkL1ke+cwm7wS30Ml7jreCIkflpzXQTqu87X7wUncCdIJ0mPAY2DHMeAkvmPnXXuF4Pp5FesxcP4YcBK/NRLfzf552h+uLuj89hymn6fw9Nv5gz8RzPfw8ssUpl/qN+rRnQS4bezW4sTtuZmzj09N4vZez3L/7FYEcgY5uyBxvsDXuj/2H2/hbm0Sn1kY3t/bJJ7vdcZ9w058N0N8t3SGsC2Jjx7oGbUd/bDPgCTp/sxyq8/7FbzcfZXA2gGJ64cfjI+uicQjae8Az1Xixheo3S5Q25L4x+h1s6O2Y19FW5IQt/tVp+8cvENiWSvAiRDiwiFuM5JVHhNGravoz0+IKTuGT+UZklS2oCLGbZFY1CAPv9FPPJV4/xyexB9GKGcxaWz8nRbGODfmibrw3NJupVNLX97yeH8OTz9PtN0y/fwQXv6R+n77vwc+hjaWxwtC3J5R/xtbJ30iZNt9W2W3JNf3bSvW9ndsYxJPAOE9KGd/FS2TWyaYblV1SKKC0EB8/LmElEh+59WWi3XFY9b82DEIHPK7NtbBSSSbycliIMiW9carOkHOWEjSbxB1GnfXep1oJOsD9CvJxySet1n6+9i0SETSfhd/Lm9mO6XIqTGKbZss8LMLWVu3Od29/fZxuwiJU2CNXjc7ajvgVbR2zxsVbiZ1TpxEQuVdDGcLfCYwkJ+UM6dr3Z70rQhmMUkySct3P8j3P0RssEDI1+Dmd1iAtC3J8bx5cTBJZBYEiUH/e03atI/9M3T4Kip0rrpXJPHjFh5jt5O0V/JnioGLkPhWlXhFcA0QDyfwUyvx8oIhSVpDXQ0xy77yO81n+koZ+ruotBu4yLni4icXnoQZCLRD4jgzsHOvTuKW4JnQ1yRxe5ZkbfLfTtAXjIHNSXz0utlRG4j/oFfRMqFVrzRlwBMBtklVE95KVdWIYAe6aqJGBc1nDmrOssDYs43aHvTtnIEwcRF5k4zST5O4rbxnFgel71JcDVFjr5uIWpN23h9fk8SN/TWWS+3wfo7d+jGwLYmP7kAZtZ1ydwqTBrZS8kU2sVVQ2nTFuXrAzRFYT1dcDKStD/ztPkuqaW/+7vWN/n7jPInHYAKRl/19Im1gk7dESr84byLxMia/gpMWxxkShy29Sr1Z0TCJywuUgqQzcdNe+Fu671u0k53xXnCMP+jCJtubsVg/CVePsyaGrvet4rwtiXtw3cRpp67EDycHfWaxZLypxLeMo7mFd0tdXNZN5M/ai4mTuCfGwYlxKomXM4Cyrz4O7EuR+NxZxZIFyPuMfev4nIqPk/jNkjgTkL37BFsyvx+fPKeTeJSdtmjkBdN+MF+GxOmM4aBtn+Mx7dvuczo24xhwEr9ZEh873hPD8fEYuI0YcBJ3Ej94O8WT/zaS3/14G350EncSdxL3GPAY2HEMOIlfjfP0HvayWwRjJZHGLdtbvo3Kw1aQuN+fbhXt3Ar4vvULzuR99lcTY9fj/3P6g+be67UMuhtq6QX/5M9PTOLl3mfcJ76cOM+YDJz8tS69OyX2RuIC95UTjZJ3MxJnOzry8MqC1RbX6hmCKfQeYrOL3DX+PheJp3nLMxTLbEcBdRh5Lpu75oqkI56zsLqyLr24ahQEUzD/vnz5ok6t4u8//fDn4X87pmvc6IGeUdspD/s0jG7pd66gaskaHrt1Eif78MDSuklDPjwg+Id+mI2bGRKfHV8n91Afv19d8VITq2MwUovjuvHY1THHaCeGDjyL25bEr/ZVtB0wV05EkMwLndqnlbiquCsSZ92qWwWxgutKPC1GS588RQXSrgowVzpTYXmk33N4YhvuHp/DHem2LAFo6yMGsbUTvx+fA86MypOgjMHjMz2NqvQRPgK+38QxvLwqjWnoyHKzzHx2YLEpmGpcgB1e36D9VVfiZl6b0I9v4SW/4hc+Hr39EfPBNsjnsURSD+Hp8aHgmm1MfaOOZUtKyOxiExcgyIX9YtyobYY0ix4mP9iOl1cRH9mOqA/bnfEUi2TXjjQm5mDyKTAUY2UsHfJd2VlixxJ7T27vuB0ff0+mEA+2ql61EmcQ8B6Ui7+KVjlXBuHIiUgSBC9/qoBqj0+OgUM7Qcc6VeSOxKjkpGSKiYj567EjfdqBm5KptOWgYv1K4sc+UYdl+NE8ZAPbD3uyL1imkJMTNL9NsY0dzd1K4vw62WIPJYOS0cYISZPwkDa2dUB/kJwmcTuGiVDikW2UbYXE82KjXkom+oLs8BwAyAS48O8UI9DnITy9fi/ETPqkObP+BqscDw1iG7UBHxtfdFzpZl6sZuyo/GH0g5zKD51+S3Quc45jBVtpOQ+NXWUe4TeLY3dMLXu6BImTEaPXzY7azvAq2qhPCgpUUzVQBfjj23SgIIHM33bkIMsBkJ3bczgf50q9HtfXFzYTMYBMSR7rVlX/z+Gd9EtkRuOJHJIO87J1P8ID5FIll7S3xkpjmWxU82XcUluyVZN465j0s8KHsDiRxCsbZQVobZT2FxLvYsxzR1+qPpYMlA7ws8aFMABpmhgAqStsVOyUXKrjqsRiC/vKp1JXY0caL/zBfZXtMQZm7IC/K9kmftBvyafCRuCndRtgH2VL22d0mS5B4ltV4pWjR2AsBg3gH1uJI2Fs0nKA94JxthL/mk7DQYojW02bDLqUpB3d4jjS70gSbyYUJ2KFvySxWp9W0tGxjv3JRmAvSF/91aFCMkh+JF4dS7VOOsGT/iA9aqtsXJHEBbZKpiE/TQ4DG+w4EzOwtY6dguF824w/JF5Gn8of3Bf+gn7Wj/m4sacVT6kvY9SLEzNPHFPpVvVZMmcjfqp5Etabk/jodbOjNhD/mq+ilQ5NThQrewcwOebQ7zpQOgnUC8ZZEv+eV29710JOJlMxKf1lwuQ//GCquogJ9Zsn8WQrto4EaUqSlTLl95wIkG+w4r7WTpIp5xc+TBho0kCCK9LjMToReUFRW0ZGJyEr4dpKQp4n68i/yS92PtlWKsqKpLJPGGsiOxHHhvx0nFuZhYBB9uW6hGizthrfjeIKbS1/IE5ho/KBsUO1WQykfoiVjHnbDp2bsg/7wZ7hSBn2O+tq4xO2ax9IWeI76w0sMLb1OW1aiY/uQBm1nXJ3CgDNpzWcyHBuPi4C3zplpd86UEwCVfrESl/rhCBP+6JoS0EGIsp9BGG3jsVgSPqIMwoT6FV7nJP0TLJpXhqTdJABh7HQq9qbJEwFBg37y3zcL/tK314HWQkXfY0i2y7HSjttfGTcSvKSH+iCGjDnZDNjk75yXME222LtzPIEFoQNz4N2IytvVWC+bFPBimRW46QNVqYgkagD5s7YlbEV5ln+OK7m/KHnLfKw4ALHNI9oP+TCpsgrLY/9JWwh0mQMIbtFpNWxCnfmnep4kmnnTvaZoqPDQ9OmJN5RogLA+83fTnVrGDFhFNKXhDJDNreGxZr2HENAa8rfcq4z2XoIoa7CZcNckHmRvjuJbxlkLqu/OA0D10n8aHI4E7Edrc+ZcyBV1rJCr0lvse75TGRZRbx43iEGh8e6k/gQ0BMCwOftE3YLGyfxw/BqYdg69slIPBIpETm2oVqYXPOx6C+7nTOjr5P4DEDrrK6+GDiOHgMeA+eJASdxJ/HzVICOq+PqMbBJDDiJe6BtEmhehZ2nCnNcHVcn8RGJf3sL//5hCv/+a3wkeeVgoT3glS7AnKTb4RdSxljoW+zsrVM0dmaf9l28W6Z3r21XB5pbXohK9o3uemm3rezvk3zkunT97bhe5t0pu3HIkST+v78+hH/98BD+862TfLjqvfjiiyZGe//4aXiuTeJsM9t4KInjPuLmuLmE5cXBkvJozlHbabh2fD9ng7evXzDdOKbbVuKjB3pGbac87HMBB45J/FTSPHX8RuQyIvGBT1IVLivppfqah2OMjNG8ozYn8qX4e79Lxcq2JL71q2j//kwV8R8/xcp4Sv9/+sor/ffwnx/TVkki3diO6jm1YYzeTuG2n95ofOrD40gey4G8+Jllzjw+zZUknjy0FWUKkjFZVYFk5pS3L6EKJXnytiYi4P7rZon07p/DU35lKh6PF4ncJHF9RtGqtpuEyjbI/kn3sh1lf1c4sD5NTEdtZjGo5vV2r5wvHAMbk3hKcrwH5eyvogWp/vgW/heB5t9//D3qwWT840P4g/a8v4Y/LOF+pGNNEv9hCmmeetyoEm+SVNTNkp4lLkXGSyvVZYSfSFm8TVGQWiLHKC/OlUgz2VDei9K0ydojA73RphaU6jFvawefjeTtqCVnJ6M+ozaxMEkb/LuT95XEwHSxx+5Hr5sdtR3wKlpN2iF8qD1uVNvP4b9dZwxIHAsDE72stmdJXFa9LLtNYo0KFw8ziPc/9KtDJicmRVnJyjFtEk+ETXqRvolI4xyWtJPupSqmuRtEnWUO2uzcGJNk8OJFC5qUx3ZmUm8Tb2/uKGPUBh38s42r43JZXKZLkPjWlXiqmDsknsm45YitSVwSU0sfPmar9O4ihDkkmdcyiMDkwkIkm/pdC4njBVp5EVGEvYzE1UJgMBu1OUkhjvzzGmNhcxIfvW521AbiP+hVtGr7JIT//tTY974EibfeTYztEkVOraQBIestlURC+u1+NuBSn7VJnLc65CIQCXJQbY/aRhVxamu99Y0xsToYoq4WK9E+arM4+u9WXPqxS8XFtGklProDZdR27N0p2BPPFxlx4TIGHPbEeb9cJHSs+mh/PI9LFyv1XjrG1Xvi1fgjL2xOIHsQfN4r1gQeg6dN4kyweVzZx45jJCniYirdl72oEi+vWZUXS0HQeT6SzQsHE3uzjfFPOtX2UYJgfIOsewtUSayERfPCJr+rvd3m5FQwdCyuEYttSVwR5QYBYSrx63DAsqrxOnRt+2hItOf08ai67/7RjGTDSOdR2zX7wXVrx+dnw8VJ/Jyk05sbFeXs1sl1BumlSI/kNqrwnLR8xlJV1KNrCKO2nv/8uN+ZckUx4CR+KWcQkdf705mQLqXXArmbk3jeTlqAF/WV2zHpzKd9Z86o7ToX0D3Eh+u4bezcNokvICQPuG0DzvF2vD0G1o0BJ3Enej819hjwGNhxDDiJ79h5XtGsW9E4no7nHmNgVyT+/hjCNIXwvlfi/TXpH224hB2E3+N+E/VpCqG9t71fm/ZIGq7zdcXbpyDxmPzTFZHXt9ftSRwL4MvvKwUgL0hbkurqNuy1GHC9fftHxMCuSPzYCuDTk/g5CPccc4rA7Pn65T6E6T6Ebwv69ubw4yst5O6Dq1hMNidxSkLeTshbCr+HcBePieQk4sXWycw2BCpbbFOg6ray0J6rUTOvlN9N9AZ5QX6edya40d9uC+E49ESV2yIutTABP+Bqzjpa46N9dPwxBGAd5WYbLDZos7IgU/iui90AF1TZEpOm3g38j5HnY5zIbyUGNiVxSlSR7CpJmRzuXuMj5O3thuZxMa7nFEV4gkh6x3vz4LgdBzJE+9xn0w5DTugTSVV+p7m5Lwg36hNxozaLh/0t7Ce9xT6z8ofoF+et2oy+czbPttv5WG8sZHK8xV+2+Xcn588WA5uSOCUfKjd8ClL/4ERWFaEgE5CZrNaiw+S8IDbpyF7Sg8SivBZZyDnkd6WHIVTZr/ddjWf7qkrUkG+0AUStFkOBGSr4+Im+HwMytMRsdZD40NwNXx2CWw8PHCd5fBahbBQxEPtavTHeP53AP2MMbE/i5lRfgg5y65Eq2i2JYw5J5rJPj8QxTpJVaxFAP/kZ54wERmQzsEmOwfeWHZZAQb4gYxrDJArZNJ+tYA3hYZ4W2VoylDrI71GO7YsFtzVv7A8be+3AQn2yLdF3ykZjE+kmFxTTrub0tqvYt3WfnG+B3ZTEQZZNohRkBAKQRByDoHdcBogln9g2R+Jy7qZuDSKAnOaCw9VvbLM2SFmyDbaB9PA768NzvtitJsjqkRq3YzGQWClixjy8IKk2VPtShvCXnBPfMz4HLnDkKz5Lk/hg3vhJuh04rxzv389HKI7t9thuSuI5AbGVgtN+kIRITCRzJDEQGp3SYywIBeSD442tETsexAgZmLdFdN2ghFzoIYkebYbErR4kV4zPxMe2QE/ogPZKTyEPtsixipCFnnRc4IYLwiQPPont9yG8xHv0ha6VL01bbF+yeMI2fAKjykbozbZiscM4/9yePBzz68B8cxK/GcfviUw6VXOP3Ffx0ZH4gMSHVXhjwVhFZywU/ulbMDuKASfxI51FVfGOyARV/JIK/VRCRIV/TLUcq/deFQ6ClzacqquPv45q0v1wvB8WkfiXL1/C3P9P4wSxzbA3MiEiF1tWZ63ED1wcscjYLRsZV5Hg94a51N+/H09Ujl0fu1kSd/D64Dk2jo3HgMfApWPASfzAivHSDnP5ThoeAx4DMgacxJ3E/SKWx4DHwI5joEnic/vf3j5/jcAxcow8BjwGtogBJ/EFF223cITL8IT3GPAYOCYG/h/SZ0nAOO2kYgAAAABJRU5ErkJggg==)"
   ]
  },
  {
   "cell_type": "markdown",
   "metadata": {},
   "source": [
    "Clearly something is missing here, namely a declaration of the value of e1. In order for ApplicationExpression(e1, e2) to be β-convertible to exists y.love(pat, y), e1 must be a λ-abstract which can take pat as an argument. Your task is to construct such an abstract, bind it to e1, and satisfy yourself that the statements above are all satisfied (up to alphabetic variance). In addition, provide an informal English translation of e3.simplify()."
   ]
  },
  {
   "cell_type": "markdown",
   "metadata": {},
   "source": [
    "Now carry on doing this same task for the further cases of e3.simplify() shown below."
   ]
  },
  {
   "cell_type": "markdown",
   "metadata": {},
   "source": [
    "![](data:image/png;base64,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)"
   ]
  },
  {
   "cell_type": "code",
   "execution_count": 101,
   "metadata": {},
   "outputs": [],
   "source": [
    "read_expr = nltk.Expression.fromstring"
   ]
  },
  {
   "cell_type": "code",
   "execution_count": 102,
   "metadata": {},
   "outputs": [],
   "source": [
    "def check_abstract(abstract):\n",
    "    e1, e2 = read_expr(abstract), read_expr('pat')\n",
    "    e3 = nltk.sem.ApplicationExpression(e1, e2)\n",
    "    print(e3.simplify())"
   ]
  },
  {
   "cell_type": "code",
   "execution_count": 107,
   "metadata": {},
   "outputs": [
    {
     "name": "stdout",
     "output_type": "stream",
     "text": [
      "exists y.love(pat,y)\n"
     ]
    }
   ],
   "source": [
    "# Pat loves someone\n",
    "check_abstract(r\"\\x. exists y. love(x, y)\")"
   ]
  },
  {
   "cell_type": "code",
   "execution_count": 108,
   "metadata": {},
   "outputs": [
    {
     "name": "stdout",
     "output_type": "stream",
     "text": [
      "exists y.(love(pat,y) | love(y,pat))\n"
     ]
    }
   ],
   "source": [
    "# There is someone who loves Pat or is loved by Pat\n",
    "check_abstract(r\"\\x. exist y. (love(x, y) | love(y, x))\")"
   ]
  },
  {
   "cell_type": "code",
   "execution_count": 111,
   "metadata": {},
   "outputs": [
    {
     "name": "stdout",
     "output_type": "stream",
     "text": [
      "walk(fido)\n"
     ]
    }
   ],
   "source": [
    "# Fido walks\n",
    "check_abstract(r\"\\x. walk(fido)\")"
   ]
  },
  {
   "cell_type": "markdown",
   "metadata": {},
   "source": [
    "# Exercise 6"
   ]
  },
  {
   "cell_type": "markdown",
   "metadata": {},
   "source": [
    "As in the preceding exercise, find a λ abstract e1 that yields results equivalent to those shown below."
   ]
  },
  {
   "cell_type": "markdown",
   "metadata": {},
   "source": [
    "![](data:image/png;base64,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)"
   ]
  },
  {
   "cell_type": "code",
   "execution_count": null,
   "metadata": {},
   "outputs": [],
   "source": []
  }
 ],
 "metadata": {
  "kernelspec": {
   "display_name": "Python 3",
   "language": "python",
   "name": "python3"
  },
  "language_info": {
   "codemirror_mode": {
    "name": "ipython",
    "version": 3
   },
   "file_extension": ".py",
   "mimetype": "text/x-python",
   "name": "python",
   "nbconvert_exporter": "python",
   "pygments_lexer": "ipython3",
   "version": "3.7.3"
  },
  "toc": {
   "base_numbering": 1,
   "nav_menu": {},
   "number_sections": false,
   "sideBar": true,
   "skip_h1_title": false,
   "title_cell": "Table of Contents",
   "title_sidebar": "Contents",
   "toc_cell": false,
   "toc_position": {
    "height": "calc(100% - 180px)",
    "left": "10px",
    "top": "150px",
    "width": "178px"
   },
   "toc_section_display": true,
   "toc_window_display": true
  }
 },
 "nbformat": 4,
 "nbformat_minor": 4
}
