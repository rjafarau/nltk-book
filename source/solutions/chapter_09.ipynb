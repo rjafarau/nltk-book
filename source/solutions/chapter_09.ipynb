{
 "cells": [
  {
   "cell_type": "markdown",
   "metadata": {},
   "source": [
    "# IMPORTS"
   ]
  },
  {
   "cell_type": "code",
   "execution_count": 1,
   "metadata": {},
   "outputs": [],
   "source": [
    "import nltk\n",
    "import numpy as np\n",
    "import pandas as pd\n",
    "import matplotlib.pyplot as plt"
   ]
  },
  {
   "cell_type": "code",
   "execution_count": 2,
   "metadata": {},
   "outputs": [],
   "source": [
    "%matplotlib inline"
   ]
  },
  {
   "cell_type": "markdown",
   "metadata": {},
   "source": [
    "# Exercise 1"
   ]
  },
  {
   "cell_type": "markdown",
   "metadata": {},
   "source": [
    "What constraints are required to correctly parse word sequences like I am happy and she is happy but not *you is happy or *they am happy? Implement two solutions for the present tense paradigm of the verb be in English, first taking Grammar (6) as your starting point, and then taking Grammar (18) as the starting point."
   ]
  },
  {
   "cell_type": "code",
   "execution_count": 23,
   "metadata": {},
   "outputs": [],
   "source": [
    "grammar1 = nltk.CFG.fromstring(\"\"\"\n",
    "    S -> P_SG1 VP_SG1\n",
    "    S -> P_SG3 VP_SG3\n",
    "    S -> P_PL VP_PL\n",
    "    \n",
    "    VP_SG1 -> V_SG1 ADJ\n",
    "    VP_SG3 -> V_SG3 ADJ\n",
    "    VP_PL -> V_PL ADJ\n",
    "    \n",
    "    P_SG1 -> 'I'\n",
    "    P_SG3 -> 'he' | 'she' | 'it'\n",
    "    P_PL -> 'they' | 'we' | 'you'\n",
    "    V_SG1 -> 'am'\n",
    "    V_SG3 -> 'is'\n",
    "    V_PL -> 'are'\n",
    "    ADJ -> 'happy'\n",
    "\"\"\")"
   ]
  },
  {
   "cell_type": "code",
   "execution_count": 24,
   "metadata": {},
   "outputs": [],
   "source": [
    "sent1 = \"I am happy\".split()\n",
    "sent2 = \"she is happy\".split()\n",
    "sent3 = \"you is happy\".split()\n",
    "sent4 = \"they am happy\".split()"
   ]
  },
  {
   "cell_type": "code",
   "execution_count": 25,
   "metadata": {},
   "outputs": [],
   "source": [
    "parser1 = nltk.ChartParser(grammar1)"
   ]
  },
  {
   "cell_type": "code",
   "execution_count": 26,
   "metadata": {},
   "outputs": [
    {
     "name": "stdout",
     "output_type": "stream",
     "text": [
      "(S (P_SG1 I) (VP_SG1 (V_SG1 am) (ADJ happy)))\n",
      "(S (P_SG3 she) (VP_SG3 (V_SG3 is) (ADJ happy)))\n"
     ]
    }
   ],
   "source": [
    "for sent in [sent1, sent2, sent3, sent4]:\n",
    "    for tree in parser1.parse(sent):\n",
    "        print(tree)"
   ]
  },
  {
   "cell_type": "code",
   "execution_count": 27,
   "metadata": {},
   "outputs": [],
   "source": [
    "grammar2 = nltk.grammar.FeatureGrammar.fromstring(\"\"\"   \n",
    "    S -> P[AGR=?a] VP[AGR=?a]\n",
    "    \n",
    "    VP[AGR=?a] -> V[AGR=?a] ADJ \n",
    "    \n",
    "    P[AGR=[NUM=sg, PER=1]] -> 'I'\n",
    "    P[AGR=[NUM=sg, PER=3]] -> 'he' | 'she' | 'it'\n",
    "    P[AGR=[NUM=pl]] -> 'they' | 'we' | 'you'\n",
    "    V[AGR=[NUM=sg, PER=1]] -> 'am'\n",
    "    V[AGR=[NUM=sg, PER=3]] -> 'is'\n",
    "    V[AGR=[NUM=pl]] -> 'are'\n",
    "    ADJ -> 'happy'\n",
    "\"\"\")"
   ]
  },
  {
   "cell_type": "code",
   "execution_count": 28,
   "metadata": {},
   "outputs": [],
   "source": [
    "parser2 = nltk.FeatureEarleyChartParser(grammar2)"
   ]
  },
  {
   "cell_type": "code",
   "execution_count": 29,
   "metadata": {},
   "outputs": [
    {
     "name": "stdout",
     "output_type": "stream",
     "text": [
      "(S[]\n",
      "  (P[AGR=[NUM='sg', PER=1]] I)\n",
      "  (VP[AGR=[NUM='sg', PER=1]]\n",
      "    (V[AGR=[NUM='sg', PER=1]] am)\n",
      "    (ADJ[] happy)))\n",
      "(S[]\n",
      "  (P[AGR=[NUM='sg', PER=3]] she)\n",
      "  (VP[AGR=[NUM='sg', PER=3]]\n",
      "    (V[AGR=[NUM='sg', PER=3]] is)\n",
      "    (ADJ[] happy)))\n"
     ]
    }
   ],
   "source": [
    "for sent in [sent1, sent2, sent3, sent4]:\n",
    "    for tree in parser2.parse(sent):\n",
    "        print(tree)"
   ]
  },
  {
   "cell_type": "markdown",
   "metadata": {},
   "source": [
    "# Exercise 2"
   ]
  },
  {
   "cell_type": "markdown",
   "metadata": {},
   "source": [
    "Develop a variant of grammar in 1.1 that uses a feature count to make the distinctions shown below:\n",
    "\n",
    "(54)\t\n",
    "a. The boy sings.\t\n",
    "b. *Boy sings.\n",
    "\n",
    "(55)\t\n",
    "a. The boys sing.\t\n",
    "\"\"\"b. Boys sing.\n",
    "\n",
    "(56)\t\n",
    "a. The boys sing.\t\n",
    "b. Boys sing.\n",
    "\n",
    "(57)\t\n",
    "a. The water is precious.\t\n",
    "b.Water is precious."
   ]
  },
  {
   "cell_type": "markdown",
   "metadata": {},
   "source": [
    "# Exercise 3"
   ]
  },
  {
   "cell_type": "markdown",
   "metadata": {},
   "source": [
    "Write a function subsumes() which holds of two feature structures fs1 and fs2 just in case fs1 subsumes fs2."
   ]
  },
  {
   "cell_type": "markdown",
   "metadata": {},
   "source": [
    "# Exercise 4"
   ]
  },
  {
   "cell_type": "markdown",
   "metadata": {},
   "source": [
    "Modify the grammar illustrated in (28) to incorporate a bar feature for dealing with phrasal projections."
   ]
  },
  {
   "cell_type": "markdown",
   "metadata": {},
   "source": [
    "# Exercise 5"
   ]
  },
  {
   "cell_type": "markdown",
   "metadata": {},
   "source": [
    "Modify the German grammar in 3.2 to incorporate the treatment of subcategorization presented in 3."
   ]
  },
  {
   "cell_type": "markdown",
   "metadata": {},
   "source": [
    "# Exercise 6"
   ]
  },
  {
   "cell_type": "markdown",
   "metadata": {},
   "source": [
    "Develop a feature based grammar that will correctly describe the following Spanish noun phrases:"
   ]
  },
  {
   "cell_type": "markdown",
   "metadata": {},
   "source": [
    "# Exercise 7"
   ]
  },
  {
   "cell_type": "code",
   "execution_count": null,
   "metadata": {},
   "outputs": [],
   "source": []
  }
 ],
 "metadata": {
  "kernelspec": {
   "display_name": "Python 3",
   "language": "python",
   "name": "python3"
  },
  "language_info": {
   "codemirror_mode": {
    "name": "ipython",
    "version": 3
   },
   "file_extension": ".py",
   "mimetype": "text/x-python",
   "name": "python",
   "nbconvert_exporter": "python",
   "pygments_lexer": "ipython3",
   "version": "3.7.3"
  },
  "toc": {
   "base_numbering": 1,
   "nav_menu": {},
   "number_sections": false,
   "sideBar": true,
   "skip_h1_title": false,
   "title_cell": "Table of Contents",
   "title_sidebar": "Contents",
   "toc_cell": false,
   "toc_position": {
    "height": "calc(100% - 180px)",
    "left": "10px",
    "top": "150px",
    "width": "178px"
   },
   "toc_section_display": true,
   "toc_window_display": true
  }
 },
 "nbformat": 4,
 "nbformat_minor": 4
}
